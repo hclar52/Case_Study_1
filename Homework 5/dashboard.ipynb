{
 "cells": [
  {
   "cell_type": "markdown",
   "metadata": {},
   "source": [
    "# Toronto Dwellings Analysis Dashboard\n",
    "\n",
    "In this notebook, you will compile the visualizations from the previous analysis into functions to create a Panel dashboard."
   ]
  },
  {
   "cell_type": "code",
   "execution_count": 272,
   "metadata": {},
   "outputs": [],
   "source": [
    "# imports\n",
    "import panel as pn\n",
    "pn.extension('plotly')\n",
    "import plotly.express as px\n",
    "import pandas as pd\n",
    "import hvplot.pandas\n",
    "import matplotlib.pyplot as plt\n",
    "import os\n",
    "from pathlib import Path\n",
    "from dotenv import load_dotenv\n",
    "import requests, io\n",
    "import PIL\n",
    "import IPython"
   ]
  },
  {
   "cell_type": "code",
   "execution_count": 273,
   "metadata": {},
   "outputs": [],
   "source": [
    "# Initialize the Panel Extensions (for Plotly)\n",
    "import panel as pn\n",
    "pn.extension(\"plotly\")"
   ]
  },
  {
   "cell_type": "code",
   "execution_count": 274,
   "metadata": {},
   "outputs": [],
   "source": [
    "# Read the Mapbox API key\n",
    "load_dotenv(r\"D:\\Keys\\keys.env\")\n",
    "map_box_api = os.getenv(\"MAPBOX_API_KEY\")\n",
    "px.set_mapbox_access_token(map_box_api)"
   ]
  },
  {
   "cell_type": "markdown",
   "metadata": {},
   "source": [
    "# Import Data"
   ]
  },
  {
   "cell_type": "code",
   "execution_count": 275,
   "metadata": {},
   "outputs": [],
   "source": [
    "# Import the CSVs to Pandas DataFrames\n",
    "file_path = Path(\"Data/toronto_neighbourhoods_census_data.csv\")\n",
    "to_data = pd.read_csv(file_path, index_col=\"year\")\n",
    "\n",
    "file_path = Path(\"Data/toronto_neighbourhoods_coordinates.csv\")\n",
    "df_neighbourhood_locations = pd.read_csv(file_path)\n",
    "df_neighbourhood_locations.set_index(\"neighbourhood\",inplace=True)"
   ]
  },
  {
   "cell_type": "markdown",
   "metadata": {},
   "source": [
    "- - -"
   ]
  },
  {
   "cell_type": "markdown",
   "metadata": {},
   "source": [
    "## Panel Visualizations\n",
    "\n",
    "In this section, you will copy the code for each plot type from your analysis notebook and place it into separate functions that Panel can use to create panes for the dashboard. \n",
    "\n",
    "These functions will convert the plot object to a Panel pane.\n",
    "\n",
    "Be sure to include any DataFrame transformation/manipulation code required along with the plotting code.\n",
    "\n",
    "Return a Panel pane object from each function that can be used to build the dashboard.\n",
    "\n",
    "Note: Remove any `.show()` lines from the code. We want to return the plots instead of showing them. The Panel dashboard will then display the plots."
   ]
  },
  {
   "cell_type": "markdown",
   "metadata": {},
   "source": [
    "### Global available data"
   ]
  },
  {
   "cell_type": "code",
   "execution_count": 276,
   "metadata": {},
   "outputs": [],
   "source": [
    "# Getting the data from the top 10 expensive neighbourhoods\n",
    "multi_group = to_data.groupby(\"neighbourhood\",).sum()/to_data.groupby(\"neighbourhood\").count()\n",
    "multi_group.sort_values(\"average_house_value\",ascending=False,inplace=True)\n",
    "top_10 = multi_group.head(10)\n",
    "top_10 = top_10.drop(columns=[\"single_detached_house\",\"apartment_five_storeys_plus\",\"movable_dwelling\",\"semi_detached_house\",\"row_house\",\"duplex\",\"apartment_five_storeys_less\",\"other_house\",\"shelter_costs_owned\",\"shelter_costs_rented\"])"
   ]
  },
  {
   "cell_type": "code",
   "execution_count": 277,
   "metadata": {},
   "outputs": [],
   "source": [
    "# Calculate the mean number of dwelling types units per year\n",
    "dwelling_py = dwelling_py.groupby(\"year\").sum()/to_data.groupby(\"year\").count()\n"
   ]
  },
  {
   "cell_type": "code",
   "execution_count": 278,
   "metadata": {},
   "outputs": [],
   "source": [
    "# Calculate the average monthly shelter costs for owned and rented dwellings\n",
    "a_data_grp = to_data.groupby(\"year\").sum()/to_data.groupby(\"year\").count()\n",
    "data_month_owned = a_data_grp.loc[:,\"shelter_costs_owned\":\"shelter_costs_owned\"]\n",
    "data_month_rent = a_data_grp.loc[:,\"shelter_costs_rented\":\"shelter_costs_rented\"]"
   ]
  },
  {
   "cell_type": "code",
   "execution_count": 279,
   "metadata": {},
   "outputs": [],
   "source": [
    "# Mean House Prices 2001 - 2006\n",
    "multi_group = to_data.groupby(\"neighbourhood\").sum()/to_data.groupby(\"neighbourhood\").count()\n",
    "\n",
    "# Join the average values with the neighbourhood locations\n",
    "joined_data_rows = pd.concat(\n",
    "    [multi_group, df_neighbourhood_locations], axis=\"columns\", join=\"inner\"\n",
    ").reset_index()"
   ]
  },
  {
   "cell_type": "code",
   "execution_count": 280,
   "metadata": {},
   "outputs": [],
   "source": [
    "# Create a bar chart per year to show the number of dwelling types\n",
    "# Bar chart for 2001\n",
    "to_data_grp = to_data.groupby(\"year\").sum()\n",
    "data_2001 = to_data_grp.loc[2001,\"single_detached_house\":\"other_house\"]\n",
    "# Bar chart for 2006\n",
    "data_2006 = to_data_grp.loc[2006,\"single_detached_house\":\"other_house\"]\n",
    "# Bar chart for 2011\n",
    "data_2011 = to_data_grp.loc[2011,\"single_detached_house\":\"other_house\"]\n",
    "# Bar chart for 2016\n",
    "data_2016 = to_data_grp.loc[2016,\"single_detached_house\":\"other_house\"]"
   ]
  },
  {
   "cell_type": "code",
   "execution_count": 281,
   "metadata": {},
   "outputs": [],
   "source": [
    "# Calculate the average house value per year\n",
    "average_house_value = a_data_grp.loc[2001:2016,\"average_house_value\"]"
   ]
  },
  {
   "cell_type": "code",
   "execution_count": 282,
   "metadata": {},
   "outputs": [],
   "source": [
    "# Clean Neighbourhood Data\n",
    "neighbourhood_grp_clean = to_data.drop(columns=[\"single_detached_house\",\"apartment_five_storeys_plus\",\"movable_dwelling\",\"semi_detached_house\",\"row_house\",\"duplex\",\"apartment_five_storeys_less\",\"other_house\",\"shelter_costs_owned\",\"shelter_costs_rented\"])\n"
   ]
  },
  {
   "cell_type": "markdown",
   "metadata": {},
   "source": [
    "### Panel Visualization Functions"
   ]
  },
  {
   "cell_type": "code",
   "execution_count": 283,
   "metadata": {},
   "outputs": [],
   "source": [
    "# Define Panel visualization functions\n",
    "def neighbourhood_map():\n",
    "    \"\"\"Neighbourhood Map\"\"\"\n",
    "    neigh_map = px.scatter_mapbox(\n",
    "        joined_data_rows,\n",
    "        lat=\"lat\",\n",
    "        lon=\"lon\",\n",
    "        size=\"average_house_value\",\n",
    "        color=\"neighbourhood\",\n",
    "        color_continuous_scale=px.colors.cyclical.IceFire,\n",
    "        zoom = 3,\n",
    "        width=1000,\n",
    "    )\n",
    "    return neigh_map\n",
    "\n",
    "def create_bar_chart(data, title, xlabel, ylabel, color):\n",
    "    \"\"\"\n",
    "    Create a barplot based in the data argument.\n",
    "    \"\"\"\n",
    "    b = data.hvplot.bar(rot=90).opts(color=color,\n",
    "    title=title, xlabel=xlabel, ylabel=ylabel,yformatter=\"%.0f\", width=600, height =600)\n",
    "    \n",
    "    return b\n",
    "\n",
    "def create_scatter_chart(data, title, xlabel, ylabel, color):\n",
    "    \"\"\"\n",
    "    Create a barplot based in the data argument.\n",
    "    \"\"\"\n",
    "    b = data.hvplot.scatter(rot=90).opts(color=color,\n",
    "    title=title, xlabel=xlabel, ylabel=ylabel,yformatter=\"%.0f\", width=600, height =600)\n",
    "    \n",
    "    return b\n",
    "\n",
    "def create_line_chart(data, title, xlabel, ylabel, color):\n",
    "    \"\"\"\n",
    "    Create a line chart based in the data argument.\n",
    "    \"\"\"\n",
    "    c = data.hvplot.line(rot=90,x='year').opts(color=color,\n",
    "    title=title, xlabel=xlabel, ylabel=ylabel,yformatter=\"%.0f\", width=600, height =600)\n",
    "    \n",
    "    return c\n",
    "\n",
    "def create_inteactive(data, title, x, y, xlabel, ylabel, color, groupby, kind):\n",
    "    d = data.hvplot(rot=90,x=x, y=y, groupby=groupby, kind=kind, xlabel=xlabel, ylabel=ylabel, yformatter=\"%.0f\", width=600, height =600, color=color)\n",
    "    return d\n",
    "\n",
    "## Dwelling Types Per Year\n",
    "\n",
    "def bar_2001():\n",
    "    b_2001 = create_bar_chart(data_2001, \"number of dwelling types units in 2001\", \"2001\", \"Dwelling Type Units\", \"black\" )\n",
    "    return b_2001\n",
    "\n",
    "def bar_2006():\n",
    "    b_2006 = create_bar_chart(data_2006, \"number of dwelling types units in 2006\", \"2006\", \"Dwelling Type Units\", \"blue\" )\n",
    "    return b_2006\n",
    "\n",
    "def bar_2011():\n",
    "    b_2011 = create_bar_chart(data_2011, \"number of dwelling types units in 2011\", \"2011\", \"Dwelling Type Units\", \"red\" )\n",
    "    return b_2011\n",
    "\n",
    "def bar_2016():\n",
    "    b_2016 = create_bar_chart(data_2016, \"number of dwelling types units in 2016\", \"2016\", \"Dwelling Type Units\", \"green\" )\n",
    "    return b_2016\n",
    "\n",
    "## Average Monthly Shelter Costs in Toronto Per Year\n",
    "def month_owned():\n",
    "    month_owned_plot = create_line_chart(data_month_owned, \"average monthly shelter costs for owned dwelling in Toronto\", \"year\", \"Average Monthy Shelter Cost\", \"pink\")\n",
    "    return month_owned_plot\n",
    "\n",
    "def month_rent():\n",
    "    month_rent_plot = create_line_chart(data_month_rent, \"average monthly shelter costs for rented dwelling in Toronto\", \"year\", \"Average Monthy Shelter Cost\", \"blue\")\n",
    "    return month_rent_plot\n",
    "\n",
    "## Average House Value per Year                                              \n",
    "def average_house_val():\n",
    "    average_value = create_line_chart(average_house_value, \"average house price in Toronto\", \"year\", \"Average House Price\", \"blue\")\n",
    "    return average_value\n",
    "\n",
    "def average_value_by_neighbourhood():\n",
    "    e = create_inteactive(neighbourhood_grp_clean, \"Neighbourhood House Prices\", \"year\", \"average_house_value\", \"year\", \"average_house_value\", \"black\", \"neighbourhood\", \"line\")\n",
    "    return e\n",
    "\n",
    "def number_dwelling_types():\n",
    "    f = create_inteactive(to_data, \"Number of Dwelling Types Per Year\", \"year\", (\"single_detached_house\",\"apartment_five_storeys_plus\",\"movable_dwelling\",\"semi_detached_house\",\"row_house\",\"duplex\",\"apartment_five_storeys_less\",\"other_house\"), \"year\", \"Number of Dwellings\", \"red\", \"neighbourhood\", \"bar\")\n",
    "    return f\n",
    "\n",
    "def top_most_expensive_neighbourhoods():\n",
    "    h = create_scatter_chart(top_10, \"Top 10 Highest Average House Value Suburbs, Toronto 2001-2016\", \"neighbourhood\", \"average_house_value\", \"green\")\n",
    "    return h\n",
    "\n",
    "def pic():\n",
    "    url = 'https://www.nationalgeographic.com/content/dam/travel/Guide-Pages/north-america/toronto-travel.adapt.1900.1.jpg'\n",
    "    v = IPython.display.Image(url, width = 250)\n",
    "    return v"
   ]
  },
  {
   "cell_type": "markdown",
   "metadata": {},
   "source": [
    "## Panel Dashboard\n",
    "\n",
    "In this section, you will combine all of the plots into a single dashboard view using Panel. Be creative with your dashboard design!"
   ]
  },
  {
   "cell_type": "code",
   "execution_count": 284,
   "metadata": {},
   "outputs": [],
   "source": [
    "## Create Columns\n",
    "\n",
    "# Create a Title & Welcome Text for the Dashboard\n",
    "welcome = pn.Column(\n",
    "    \"# Welcome To a Breakdown of the Toronto Real Estate Market 2001-2016\",\n",
    "    \"Attatched you'll find data on house values and dwelling numbers for Toronto and it's suburbs!\",\" There is also a really great interactive map to have a look around toronto's suburbs and their average prices!\",\n",
    ")\n",
    "geo_column = pn.Column(\n",
    "    \"## Average House Value, Toronto 2001-2016 by Neighbourhood\", neighbourhood_map()\n",
    ")\n",
    "\n",
    "yearly_dwelling = pn.Column(\n",
    "    \"## Dwelling Types Per Year, Toronto\",\n",
    "    bar_2001(),\n",
    "    bar_2006(),\n",
    "    bar_2011(),\n",
    "    bar_2016(),\n",
    ")\n",
    "\n",
    "shelter = pn.Column(\n",
    "    \"## Average Monthly Shelter Costs for Owned and Rented Dwellings, Toronto\",\n",
    "    month_owned(),\n",
    "    month_rent(),\n",
    ")\n",
    "\n",
    "yearly_value = pn.Column(\n",
    "    \"## Average House Value Per Year, Toronto\",\n",
    ")\n",
    "\n",
    "neighbourhood = pn.Column(\n",
    "    \"## Average House Value & Number of Dwellings Per Year, Toronto\",average_value_by_neighbourhood(),number_dwelling_types(),\n",
    "    \"## Top 10 Most Expensive Neighbourhoods 2001-2016\",top_most_expensive_neighbourhoods()\n",
    ")\n",
    "\n",
    "yearly_value = pn.Column(\n",
    "    \"## Average House Value Per Year, Toronto\",average_house_val(),\n",
    ")\n",
    "# Create Those Tabs\n",
    "dashboard = pn.Tabs(\n",
    "    (\"Welcome\",welcome),(\"Toronto Value Map\", geo_column), (\"Yearly Dwelling Types\", yearly_dwelling), (\"Shelter Costs\", shelter), (\"House Prices\",yearly_value), (\"neighbourhood Stats\",neighbourhood)\n",
    ")"
   ]
  },
  {
   "cell_type": "markdown",
   "metadata": {},
   "source": [
    "## Serve the Panel Dashboard"
   ]
  },
  {
   "cell_type": "code",
   "execution_count": 285,
   "metadata": {},
   "outputs": [
    {
     "data": {},
     "metadata": {},
     "output_type": "display_data"
    },
    {
     "data": {},
     "metadata": {},
     "output_type": "display_data"
    },
    {
     "data": {
      "application/vnd.holoviews_exec.v0+json": "",
      "text/html": [
       "<div id='199007'>\n",
       "\n",
       "\n",
       "\n",
       "\n",
       "\n",
       "  <div class=\"bk-root\" id=\"8a0958eb-1c1b-4e3c-9570-361c72b03521\" data-root-id=\"199007\"></div>\n",
       "</div>\n",
       "<script type=\"application/javascript\">(function(root) {\n",
       "  function embed_document(root) {\n",
       "    var docs_json = {\"257ed93e-3a1d-4e06-b610-bf60cc5f3a0c\":{\"roots\":{\"references\":[{\"attributes\":{},\"id\":\"199853\",\"type\":\"UnionRenderers\"},{\"attributes\":{},\"id\":\"200040\",\"type\":\"Selection\"},{\"attributes\":{},\"id\":\"200073\",\"type\":\"UnionRenderers\"},{\"attributes\":{\"active_drag\":\"auto\",\"active_inspect\":\"auto\",\"active_multi\":null,\"active_scroll\":\"auto\",\"active_tap\":\"auto\",\"tools\":[{\"id\":\"199222\"},{\"id\":\"199239\"},{\"id\":\"199240\"},{\"id\":\"199241\"},{\"id\":\"199242\"},{\"id\":\"199243\"}]},\"id\":\"199245\",\"type\":\"Toolbar\"},{\"attributes\":{},\"id\":\"199854\",\"type\":\"Selection\"},{\"attributes\":{},\"id\":\"200041\",\"type\":\"UnionRenderers\"},{\"attributes\":{},\"id\":\"200072\",\"type\":\"Selection\"},{\"attributes\":{},\"id\":\"199852\",\"type\":\"Selection\"},{\"attributes\":{},\"id\":\"200042\",\"type\":\"Selection\"},{\"attributes\":{},\"id\":\"200074\",\"type\":\"Selection\"},{\"attributes\":{\"text\":\"number of dwelling types units in 2006\",\"text_color\":{\"value\":\"black\"},\"text_font_size\":{\"value\":\"12pt\"}},\"id\":\"199224\",\"type\":\"Title\"},{\"attributes\":{},\"id\":\"199855\",\"type\":\"UnionRenderers\"},{\"attributes\":{},\"id\":\"200043\",\"type\":\"UnionRenderers\"},{\"attributes\":{\"source\":{\"id\":\"199374\"}},\"id\":\"199381\",\"type\":\"CDSView\"},{\"attributes\":{},\"id\":\"200075\",\"type\":\"UnionRenderers\"},{\"attributes\":{\"data\":{\"average_house_value\":[200388,293140,366667,459051],\"year\":[2001,2006,2011,2016]},\"selected\":{\"id\":\"199633\"},\"selection_policy\":{\"id\":\"199656\"}},\"id\":\"199632\",\"type\":\"ColumnDataSource\"},{\"attributes\":{},\"id\":\"199856\",\"type\":\"Selection\"},{\"attributes\":{},\"id\":\"200044\",\"type\":\"Selection\"},{\"attributes\":{},\"id\":\"199262\",\"type\":\"CategoricalTickFormatter\"},{\"attributes\":{},\"id\":\"200076\",\"type\":\"Selection\"},{\"attributes\":{},\"id\":\"199760\",\"type\":\"SaveTool\"},{\"attributes\":{},\"id\":\"199857\",\"type\":\"UnionRenderers\"},{\"attributes\":{},\"id\":\"200045\",\"type\":\"UnionRenderers\"},{\"attributes\":{\"end\":542587.5,\"reset_end\":542587.5,\"reset_start\":0.0,\"tags\":[[[\"2016\",\"2016\",null]]]},\"id\":\"199343\",\"type\":\"Range1d\"},{\"attributes\":{},\"id\":\"200077\",\"type\":\"UnionRenderers\"},{\"attributes\":{\"format\":\"%.0f\"},\"id\":\"199260\",\"type\":\"PrintfTickFormatter\"},{\"attributes\":{},\"id\":\"199323\",\"type\":\"CategoricalTickFormatter\"},{\"attributes\":{\"below\":[{\"id\":\"199232\"}],\"center\":[{\"id\":\"199234\"},{\"id\":\"199238\"}],\"left\":[{\"id\":\"199235\"}],\"margin\":[5,5,5,5],\"min_border_bottom\":10,\"min_border_left\":10,\"min_border_right\":10,\"min_border_top\":10,\"renderers\":[{\"id\":\"199258\"}],\"sizing_mode\":\"fixed\",\"title\":{\"id\":\"199224\"},\"toolbar\":{\"id\":\"199245\"},\"x_range\":{\"id\":\"199159\"},\"x_scale\":{\"id\":\"199228\"},\"y_range\":{\"id\":\"199221\"},\"y_scale\":{\"id\":\"199230\"}},\"id\":\"199223\",\"subtype\":\"Figure\",\"type\":\"Plot\"},{\"attributes\":{},\"id\":\"199858\",\"type\":\"Selection\"},{\"attributes\":{},\"id\":\"200046\",\"type\":\"Selection\"},{\"attributes\":{},\"id\":\"200078\",\"type\":\"Selection\"},{\"attributes\":{\"fill_alpha\":{\"value\":0.2},\"fill_color\":{\"value\":\"blue\"},\"line_alpha\":{\"value\":0.2},\"top\":{\"field\":\"A_2006\"},\"width\":{\"value\":0.8},\"x\":{\"field\":\"index\"}},\"id\":\"199257\",\"type\":\"VBar\"},{\"attributes\":{},\"id\":\"199859\",\"type\":\"UnionRenderers\"},{\"attributes\":{},\"id\":\"200047\",\"type\":\"UnionRenderers\"},{\"attributes\":{\"source\":{\"id\":\"199252\"}},\"id\":\"199259\",\"type\":\"CDSView\"},{\"attributes\":{},\"id\":\"199642\",\"type\":\"BasicTickFormatter\"},{\"attributes\":{},\"id\":\"200079\",\"type\":\"UnionRenderers\"},{\"attributes\":{\"fill_alpha\":{\"value\":0.1},\"fill_color\":{\"value\":\"blue\"},\"line_alpha\":{\"value\":0.1},\"top\":{\"field\":\"A_2006\"},\"width\":{\"value\":0.8},\"x\":{\"field\":\"index\"}},\"id\":\"199256\",\"type\":\"VBar\"},{\"attributes\":{\"data\":{\"shelter_costs_owned\":{\"__ndarray__\":\"UAd1UAd3ikAzMzMzM5OUQG7btm3boJZA1EEd1EGFm0A=\",\"dtype\":\"float64\",\"order\":\"little\",\"shape\":[4]},\"year\":[2001,2006,2011,2016]},\"selected\":{\"id\":\"199440\"},\"selection_policy\":{\"id\":\"199459\"}},\"id\":\"199439\",\"type\":\"ColumnDataSource\"},{\"attributes\":{},\"id\":\"199860\",\"type\":\"Selection\"},{\"attributes\":{},\"id\":\"200048\",\"type\":\"Selection\"},{\"attributes\":{},\"id\":\"199233\",\"type\":\"CategoricalTicker\"},{\"attributes\":{\"end\":4086.5,\"reset_end\":4086.5,\"reset_start\":0.0,\"tags\":[[[\"value\",\"value\",null]]]},\"id\":\"199671\",\"type\":\"Range1d\"},{\"attributes\":{},\"id\":\"200080\",\"type\":\"Selection\"},{\"attributes\":{\"callback\":null,\"renderers\":[{\"id\":\"199380\"}],\"tags\":[\"hv_created\"],\"tooltips\":[[\"index\",\"@{index}\"],[\"2016\",\"@{A_2016}\"]]},\"id\":\"199344\",\"type\":\"HoverTool\"},{\"attributes\":{\"source\":{\"id\":\"199566\"}},\"id\":\"199573\",\"type\":\"CDSView\"},{\"attributes\":{\"children\":[{\"id\":\"199405\"},{\"id\":\"199409\"},{\"id\":\"199471\"}],\"margin\":[0,0,0,0],\"name\":\"Column92814\"},\"id\":\"199404\",\"type\":\"Column\"},{\"attributes\":{},\"id\":\"199861\",\"type\":\"UnionRenderers\"},{\"attributes\":{},\"id\":\"200049\",\"type\":\"UnionRenderers\"},{\"attributes\":{},\"id\":\"199230\",\"type\":\"LinearScale\"},{\"attributes\":{},\"id\":\"200081\",\"type\":\"UnionRenderers\"},{\"attributes\":{},\"id\":\"199862\",\"type\":\"Selection\"},{\"attributes\":{},\"id\":\"200050\",\"type\":\"Selection\"},{\"attributes\":{},\"id\":\"200082\",\"type\":\"Selection\"},{\"attributes\":{\"axis_label\":\"Dwelling Type Units\",\"bounds\":\"auto\",\"formatter\":{\"id\":\"199199\"},\"major_label_orientation\":\"horizontal\",\"ticker\":{\"id\":\"199175\"}},\"id\":\"199174\",\"type\":\"LinearAxis\"},{\"attributes\":{\"axis\":{\"id\":\"199232\"},\"grid_line_color\":null,\"ticker\":null},\"id\":\"199234\",\"type\":\"Grid\"},{\"attributes\":{},\"id\":\"199863\",\"type\":\"UnionRenderers\"},{\"attributes\":{},\"id\":\"200051\",\"type\":\"UnionRenderers\"},{\"attributes\":{\"text\":\"number of dwelling types units in 2016\",\"text_color\":{\"value\":\"black\"},\"text_font_size\":{\"value\":\"12pt\"}},\"id\":\"199346\",\"type\":\"Title\"},{\"attributes\":{},\"id\":\"200083\",\"type\":\"UnionRenderers\"},{\"attributes\":{\"text\":\"neighbourhood: Agincourt North\",\"text_color\":{\"value\":\"black\"},\"text_font_size\":{\"value\":\"12pt\"}},\"id\":\"199603\",\"type\":\"Title\"},{\"attributes\":{\"format\":\"%.0f\"},\"id\":\"199781\",\"type\":\"PrintfTickFormatter\"},{\"attributes\":{\"axis_label\":\"2006\",\"bounds\":\"auto\",\"formatter\":{\"id\":\"199262\"},\"major_label_orientation\":1.5707963267948966,\"ticker\":{\"id\":\"199233\"}},\"id\":\"199232\",\"type\":\"CategoricalAxis\"},{\"attributes\":{},\"id\":\"199864\",\"type\":\"Selection\"},{\"attributes\":{},\"id\":\"200052\",\"type\":\"Selection\"},{\"attributes\":{\"bottom_units\":\"screen\",\"fill_alpha\":0.5,\"fill_color\":\"lightgrey\",\"left_units\":\"screen\",\"level\":\"overlay\",\"line_alpha\":1.0,\"line_color\":\"black\",\"line_dash\":[4,4],\"line_width\":2,\"right_units\":\"screen\",\"top_units\":\"screen\"},\"id\":\"199183\",\"type\":\"BoxAnnotation\"},{\"attributes\":{},\"id\":\"200084\",\"type\":\"Selection\"},{\"attributes\":{},\"id\":\"199175\",\"type\":\"BasicTicker\"},{\"attributes\":{\"fill_alpha\":{\"value\":0.2},\"fill_color\":{\"value\":\"green\"},\"line_alpha\":{\"value\":0.2},\"top\":{\"field\":\"A_2016\"},\"width\":{\"value\":0.8},\"x\":{\"field\":\"index\"}},\"id\":\"199379\",\"type\":\"VBar\"},{\"attributes\":{\"below\":[{\"id\":\"199611\"}],\"center\":[{\"id\":\"199614\"},{\"id\":\"199618\"}],\"left\":[{\"id\":\"199615\"}],\"margin\":[5,5,5,5],\"min_border_bottom\":10,\"min_border_left\":10,\"min_border_right\":10,\"min_border_top\":10,\"renderers\":[{\"id\":\"199638\"}],\"sizing_mode\":\"fixed\",\"title\":{\"id\":\"199603\"},\"toolbar\":{\"id\":\"199625\"},\"x_range\":{\"id\":\"199406\"},\"x_scale\":{\"id\":\"199607\"},\"y_range\":{\"id\":\"199534\"},\"y_scale\":{\"id\":\"199609\"}},\"id\":\"199602\",\"subtype\":\"Figure\",\"type\":\"Plot\"},{\"attributes\":{},\"id\":\"199865\",\"type\":\"UnionRenderers\"},{\"attributes\":{},\"id\":\"200053\",\"type\":\"UnionRenderers\"},{\"attributes\":{},\"id\":\"200085\",\"type\":\"UnionRenderers\"},{\"attributes\":{},\"id\":\"199375\",\"type\":\"Selection\"},{\"attributes\":{\"axis_label\":\"Dwelling Type Units\",\"bounds\":\"auto\",\"formatter\":{\"id\":\"199260\"},\"major_label_orientation\":\"horizontal\",\"ticker\":{\"id\":\"199236\"}},\"id\":\"199235\",\"type\":\"LinearAxis\"},{\"attributes\":{},\"id\":\"199866\",\"type\":\"Selection\"},{\"attributes\":{},\"id\":\"200054\",\"type\":\"Selection\"},{\"attributes\":{\"below\":[{\"id\":\"199354\"}],\"center\":[{\"id\":\"199356\"},{\"id\":\"199360\"}],\"left\":[{\"id\":\"199357\"}],\"margin\":[5,5,5,5],\"min_border_bottom\":10,\"min_border_left\":10,\"min_border_right\":10,\"min_border_top\":10,\"renderers\":[{\"id\":\"199380\"}],\"sizing_mode\":\"fixed\",\"title\":{\"id\":\"199346\"},\"toolbar\":{\"id\":\"199367\"},\"x_range\":{\"id\":\"199159\"},\"x_scale\":{\"id\":\"199350\"},\"y_range\":{\"id\":\"199343\"},\"y_scale\":{\"id\":\"199352\"}},\"id\":\"199345\",\"subtype\":\"Figure\",\"type\":\"Plot\"},{\"attributes\":{},\"id\":\"200086\",\"type\":\"Selection\"},{\"attributes\":{},\"id\":\"199867\",\"type\":\"UnionRenderers\"},{\"attributes\":{},\"id\":\"200055\",\"type\":\"UnionRenderers\"},{\"attributes\":{},\"id\":\"199236\",\"type\":\"BasicTicker\"},{\"attributes\":{\"fill_alpha\":{\"value\":0.1},\"fill_color\":{\"value\":\"green\"},\"line_alpha\":{\"value\":0.1},\"top\":{\"field\":\"A_2016\"},\"width\":{\"value\":0.8},\"x\":{\"field\":\"index\"}},\"id\":\"199378\",\"type\":\"VBar\"},{\"attributes\":{\"axis\":{\"id\":\"199235\"},\"dimension\":1,\"grid_line_color\":null,\"ticker\":null},\"id\":\"199238\",\"type\":\"Grid\"},{\"attributes\":{},\"id\":\"200087\",\"type\":\"UnionRenderers\"},{\"attributes\":{},\"id\":\"199633\",\"type\":\"Selection\"},{\"attributes\":{},\"id\":\"199868\",\"type\":\"Selection\"},{\"attributes\":{},\"id\":\"200056\",\"type\":\"Selection\"},{\"attributes\":{},\"id\":\"199761\",\"type\":\"PanTool\"},{\"attributes\":{},\"id\":\"200088\",\"type\":\"Selection\"},{\"attributes\":{},\"id\":\"199869\",\"type\":\"UnionRenderers\"},{\"attributes\":{},\"id\":\"200057\",\"type\":\"UnionRenderers\"},{\"attributes\":{\"callback\":null,\"renderers\":[{\"id\":\"199709\"}],\"tags\":[\"hv_created\"],\"tooltips\":[[\"year\",\"@{year}\"],[\"Variable\",\"@{Variable}\"],[\"value\",\"@{value}\"]]},\"id\":\"199672\",\"type\":\"HoverTool\"},{\"attributes\":{},\"id\":\"200089\",\"type\":\"UnionRenderers\"},{\"attributes\":{},\"id\":\"199350\",\"type\":\"CategoricalScale\"},{\"attributes\":{\"text\":\"average monthly shelter costs for rented dwelling in Toronto\",\"text_color\":{\"value\":\"black\"},\"text_font_size\":{\"value\":\"12pt\"}},\"id\":\"199472\",\"type\":\"Title\"},{\"attributes\":{},\"id\":\"199870\",\"type\":\"Selection\"},{\"attributes\":{},\"id\":\"200058\",\"type\":\"Selection\"},{\"attributes\":{},\"id\":\"200090\",\"type\":\"Selection\"},{\"attributes\":{},\"id\":\"199272\",\"type\":\"UnionRenderers\"},{\"attributes\":{\"axis\":{\"id\":\"199174\"},\"dimension\":1,\"grid_line_color\":null,\"ticker\":null},\"id\":\"199177\",\"type\":\"Grid\"},{\"attributes\":{\"axis\":{\"id\":\"199354\"},\"grid_line_color\":null,\"ticker\":null},\"id\":\"199356\",\"type\":\"Grid\"},{\"attributes\":{},\"id\":\"199871\",\"type\":\"UnionRenderers\"},{\"attributes\":{},\"id\":\"200059\",\"type\":\"UnionRenderers\"},{\"attributes\":{\"data_source\":{\"id\":\"199252\"},\"glyph\":{\"id\":\"199255\"},\"hover_glyph\":null,\"muted_glyph\":{\"id\":\"199257\"},\"nonselection_glyph\":{\"id\":\"199256\"},\"selection_glyph\":null,\"view\":{\"id\":\"199259\"}},\"id\":\"199258\",\"type\":\"GlyphRenderer\"},{\"attributes\":{\"overlay\":{\"id\":\"199183\"}},\"id\":\"199181\",\"type\":\"BoxZoomTool\"},{\"attributes\":{\"fill_color\":{\"value\":\"blue\"},\"top\":{\"field\":\"A_2006\"},\"width\":{\"value\":0.8},\"x\":{\"field\":\"index\"}},\"id\":\"199255\",\"type\":\"VBar\"},{\"attributes\":{},\"id\":\"199355\",\"type\":\"CategoricalTicker\"},{\"attributes\":{},\"id\":\"199352\",\"type\":\"LinearScale\"},{\"attributes\":{},\"id\":\"199872\",\"type\":\"Selection\"},{\"attributes\":{},\"id\":\"200060\",\"type\":\"Selection\"},{\"attributes\":{\"active_drag\":\"auto\",\"active_inspect\":\"auto\",\"active_multi\":null,\"active_scroll\":\"auto\",\"active_tap\":\"auto\",\"tools\":[{\"id\":\"199161\"},{\"id\":\"199178\"},{\"id\":\"199179\"},{\"id\":\"199180\"},{\"id\":\"199181\"},{\"id\":\"199182\"}]},\"id\":\"199184\",\"type\":\"Toolbar\"},{\"attributes\":{\"axis_label\":\"2016\",\"bounds\":\"auto\",\"formatter\":{\"id\":\"199384\"},\"major_label_orientation\":1.5707963267948966,\"ticker\":{\"id\":\"199355\"}},\"id\":\"199354\",\"type\":\"CategoricalAxis\"},{\"attributes\":{},\"id\":\"199873\",\"type\":\"UnionRenderers\"},{\"attributes\":{},\"id\":\"200061\",\"type\":\"UnionRenderers\"},{\"attributes\":{},\"id\":\"199239\",\"type\":\"SaveTool\"},{\"attributes\":{},\"id\":\"199240\",\"type\":\"PanTool\"},{\"attributes\":{},\"id\":\"199874\",\"type\":\"Selection\"},{\"attributes\":{},\"id\":\"200062\",\"type\":\"Selection\"},{\"attributes\":{},\"id\":\"199243\",\"type\":\"ResetTool\"},{\"attributes\":{},\"id\":\"199607\",\"type\":\"LinearScale\"},{\"attributes\":{},\"id\":\"199241\",\"type\":\"WheelZoomTool\"},{\"attributes\":{\"text\":\"neighbourhood: Agincourt North\",\"text_color\":{\"value\":\"black\"},\"text_font_size\":{\"value\":\"12pt\"}},\"id\":\"199674\",\"type\":\"Title\"},{\"attributes\":{\"axis_label\":\"Dwelling Type Units\",\"bounds\":\"auto\",\"formatter\":{\"id\":\"199382\"},\"major_label_orientation\":\"horizontal\",\"ticker\":{\"id\":\"199358\"}},\"id\":\"199357\",\"type\":\"LinearAxis\"},{\"attributes\":{\"below\":[{\"id\":\"199682\"}],\"center\":[{\"id\":\"199684\"},{\"id\":\"199688\"}],\"left\":[{\"id\":\"199685\"}],\"margin\":[5,5,5,5],\"min_border_bottom\":10,\"min_border_left\":10,\"min_border_right\":10,\"min_border_top\":10,\"renderers\":[{\"id\":\"199709\"}],\"sizing_mode\":\"fixed\",\"title\":{\"id\":\"199674\"},\"toolbar\":{\"id\":\"199695\"},\"x_range\":{\"id\":\"199670\"},\"x_scale\":{\"id\":\"199678\"},\"y_range\":{\"id\":\"199671\"},\"y_scale\":{\"id\":\"199680\"}},\"id\":\"199673\",\"subtype\":\"Figure\",\"type\":\"Plot\"},{\"attributes\":{},\"id\":\"199875\",\"type\":\"UnionRenderers\"},{\"attributes\":{},\"id\":\"200063\",\"type\":\"UnionRenderers\"},{\"attributes\":{\"overlay\":{\"id\":\"199244\"}},\"id\":\"199242\",\"type\":\"BoxZoomTool\"},{\"attributes\":{\"axis_label\":\"year\",\"bounds\":\"auto\",\"formatter\":{\"id\":\"199642\"},\"major_label_orientation\":1.5707963267948966,\"ticker\":{\"id\":\"199612\"}},\"id\":\"199611\",\"type\":\"LinearAxis\"},{\"attributes\":{\"line_alpha\":0.1,\"line_width\":2,\"x\":{\"field\":\"year\"},\"y\":{\"field\":\"average_house_value\"}},\"id\":\"199636\",\"type\":\"Line\"},{\"attributes\":{},\"id\":\"199876\",\"type\":\"Selection\"},{\"attributes\":{},\"id\":\"200064\",\"type\":\"Selection\"},{\"attributes\":{},\"id\":\"199358\",\"type\":\"BasicTicker\"},{\"attributes\":{},\"id\":\"199609\",\"type\":\"LinearScale\"},{\"attributes\":{\"axis\":{\"id\":\"199357\"},\"dimension\":1,\"grid_line_color\":null,\"ticker\":null},\"id\":\"199360\",\"type\":\"Grid\"},{\"attributes\":{},\"id\":\"199476\",\"type\":\"LinearScale\"},{\"attributes\":{},\"id\":\"199877\",\"type\":\"UnionRenderers\"},{\"attributes\":{},\"id\":\"200065\",\"type\":\"UnionRenderers\"},{\"attributes\":{},\"id\":\"199612\",\"type\":\"BasicTicker\"},{\"attributes\":{\"axis\":{\"id\":\"199615\"},\"dimension\":1,\"grid_line_color\":null,\"ticker\":null},\"id\":\"199618\",\"type\":\"Grid\"},{\"attributes\":{},\"id\":\"199878\",\"type\":\"Selection\"},{\"attributes\":{},\"id\":\"200066\",\"type\":\"Selection\"},{\"attributes\":{\"axis\":{\"id\":\"199611\"},\"grid_line_color\":null,\"ticker\":null},\"id\":\"199614\",\"type\":\"Grid\"},{\"attributes\":{},\"id\":\"199678\",\"type\":\"CategoricalScale\"},{\"attributes\":{},\"id\":\"199879\",\"type\":\"UnionRenderers\"},{\"attributes\":{},\"id\":\"200067\",\"type\":\"UnionRenderers\"},{\"attributes\":{\"data\":{\"A_2001\":[300930,355015,75,90995,52355,23785,116900,3040],\"index\":[\"single_detached_house\",\"apartment_five_storeys_plus\",\"movable_dwelling\",\"semi_detached_house\",\"row_house\",\"duplex\",\"apartment_five_storeys_less\",\"other_house\"]},\"selected\":{\"id\":\"199192\"},\"selection_policy\":{\"id\":\"199211\"}},\"id\":\"199191\",\"type\":\"ColumnDataSource\"},{\"attributes\":{\"axis\":{\"id\":\"199682\"},\"grid_line_color\":null,\"ticker\":null},\"id\":\"199684\",\"type\":\"Grid\"},{\"attributes\":{},\"id\":\"199616\",\"type\":\"BasicTicker\"},{\"attributes\":{},\"id\":\"199880\",\"type\":\"Selection\"},{\"attributes\":{},\"id\":\"200068\",\"type\":\"Selection\"},{\"attributes\":{\"axis_label\":\"average_house_value\",\"bounds\":\"auto\",\"formatter\":{\"id\":\"199640\"},\"major_label_orientation\":\"horizontal\",\"ticker\":{\"id\":\"199616\"}},\"id\":\"199615\",\"type\":\"LinearAxis\"},{\"attributes\":{},\"id\":\"199683\",\"type\":\"CategoricalTicker\"},{\"attributes\":{},\"id\":\"199182\",\"type\":\"ResetTool\"},{\"attributes\":{},\"id\":\"199680\",\"type\":\"LinearScale\"},{\"attributes\":{\"source\":{\"id\":\"199632\"}},\"id\":\"199639\",\"type\":\"CDSView\"},{\"attributes\":{},\"id\":\"199881\",\"type\":\"UnionRenderers\"},{\"attributes\":{},\"id\":\"200069\",\"type\":\"UnionRenderers\"},{\"attributes\":{},\"id\":\"199180\",\"type\":\"WheelZoomTool\"},{\"attributes\":{\"axis_label\":\"year\",\"bounds\":\"auto\",\"formatter\":{\"id\":\"199713\"},\"major_label_orientation\":1.5707963267948966,\"ticker\":{\"id\":\"199683\"}},\"id\":\"199682\",\"type\":\"CategoricalAxis\"},{\"attributes\":{\"data_source\":{\"id\":\"199374\"},\"glyph\":{\"id\":\"199377\"},\"hover_glyph\":null,\"muted_glyph\":{\"id\":\"199379\"},\"nonselection_glyph\":{\"id\":\"199378\"},\"selection_glyph\":null,\"view\":{\"id\":\"199381\"}},\"id\":\"199380\",\"type\":\"GlyphRenderer\"},{\"attributes\":{},\"id\":\"199882\",\"type\":\"Selection\"},{\"attributes\":{},\"id\":\"200070\",\"type\":\"Selection\"},{\"attributes\":{},\"id\":\"199361\",\"type\":\"SaveTool\"},{\"attributes\":{},\"id\":\"199179\",\"type\":\"PanTool\"},{\"attributes\":{},\"id\":\"199362\",\"type\":\"PanTool\"},{\"attributes\":{\"line_width\":2,\"x\":{\"field\":\"year\"},\"y\":{\"field\":\"average_house_value\"}},\"id\":\"199635\",\"type\":\"Line\"},{\"attributes\":{},\"id\":\"199178\",\"type\":\"SaveTool\"},{\"attributes\":{\"data_source\":{\"id\":\"199632\"},\"glyph\":{\"id\":\"199635\"},\"hover_glyph\":null,\"muted_glyph\":{\"id\":\"199637\"},\"nonselection_glyph\":{\"id\":\"199636\"},\"selection_glyph\":null,\"view\":{\"id\":\"199639\"}},\"id\":\"199638\",\"type\":\"GlyphRenderer\"},{\"attributes\":{\"axis_label\":\"Number of Dwellings\",\"bounds\":\"auto\",\"formatter\":{\"id\":\"199711\"},\"major_label_orientation\":\"horizontal\",\"ticker\":{\"id\":\"199686\"}},\"id\":\"199685\",\"type\":\"LinearAxis\"},{\"attributes\":{},\"id\":\"199883\",\"type\":\"UnionRenderers\"},{\"attributes\":{},\"id\":\"200071\",\"type\":\"UnionRenderers\"},{\"attributes\":{},\"id\":\"199363\",\"type\":\"WheelZoomTool\"},{\"attributes\":{},\"id\":\"199192\",\"type\":\"Selection\"},{\"attributes\":{\"data_source\":{\"id\":\"199566\"},\"glyph\":{\"id\":\"199569\"},\"hover_glyph\":null,\"muted_glyph\":{\"id\":\"199571\"},\"nonselection_glyph\":{\"id\":\"199570\"},\"selection_glyph\":null,\"view\":{\"id\":\"199573\"}},\"id\":\"199572\",\"type\":\"GlyphRenderer\"},{\"attributes\":{\"bottom_units\":\"screen\",\"fill_alpha\":0.5,\"fill_color\":\"lightgrey\",\"left_units\":\"screen\",\"level\":\"overlay\",\"line_alpha\":1.0,\"line_color\":\"black\",\"line_dash\":[4,4],\"line_width\":2,\"right_units\":\"screen\",\"top_units\":\"screen\"},\"id\":\"199244\",\"type\":\"BoxAnnotation\"},{\"attributes\":{\"line_alpha\":0.2,\"line_width\":2,\"x\":{\"field\":\"year\"},\"y\":{\"field\":\"average_house_value\"}},\"id\":\"199637\",\"type\":\"Line\"},{\"attributes\":{\"data\":{\"lat\":[{\"__ndarray__\":\"OM3Qsk3cRUA=\",\"dtype\":\"float64\",\"order\":\"little\",\"shape\":[1]}],\"lon\":[{\"__ndarray__\":\"BRme6hLPU8A=\",\"dtype\":\"float64\",\"order\":\"little\",\"shape\":[1]}],\"marker.size\":[{\"__ndarray__\":\"AAAAADh6GUE=\",\"dtype\":\"float64\",\"order\":\"little\",\"shape\":[1]}]},\"selected\":{\"id\":\"199864\"},\"selection_policy\":{\"id\":\"199863\"}},\"id\":\"199041\",\"type\":\"ColumnDataSource\"},{\"attributes\":{},\"id\":\"199843\",\"type\":\"UnionRenderers\"},{\"attributes\":{},\"id\":\"199885\",\"type\":\"UnionRenderers\"},{\"attributes\":{},\"id\":\"199884\",\"type\":\"Selection\"},{\"attributes\":{},\"id\":\"199886\",\"type\":\"Selection\"},{\"attributes\":{},\"id\":\"199842\",\"type\":\"Selection\"},{\"attributes\":{},\"id\":\"199887\",\"type\":\"UnionRenderers\"},{\"attributes\":{},\"id\":\"199983\",\"type\":\"UnionRenderers\"},{\"attributes\":{\"data\":{\"lat\":[{\"__ndarray__\":\"kjLSID/dRUA=\",\"dtype\":\"float64\",\"order\":\"little\",\"shape\":[1]}],\"lon\":[{\"__ndarray__\":\"142Q5CbUU8A=\",\"dtype\":\"float64\",\"order\":\"little\",\"shape\":[1]}],\"marker.size\":[{\"__ndarray__\":\"AAAAABR+FUE=\",\"dtype\":\"float64\",\"order\":\"little\",\"shape\":[1]}]},\"selected\":{\"id\":\"200054\"},\"selection_policy\":{\"id\":\"200053\"}},\"id\":\"199136\",\"type\":\"ColumnDataSource\"},{\"attributes\":{},\"id\":\"199847\",\"type\":\"UnionRenderers\"},{\"attributes\":{},\"id\":\"199888\",\"type\":\"Selection\"},{\"attributes\":{\"data\":{\"lat\":[{\"__ndarray__\":\"Ih27l73WRUA=\",\"dtype\":\"float64\",\"order\":\"little\",\"shape\":[1]}],\"lon\":[{\"__ndarray__\":\"CZRmVqPcU8A=\",\"dtype\":\"float64\",\"order\":\"little\",\"shape\":[1]}],\"marker.size\":[{\"__ndarray__\":\"AAAAAGqhGUE=\",\"dtype\":\"float64\",\"order\":\"little\",\"shape\":[1]}]},\"selected\":{\"id\":\"199866\"},\"selection_policy\":{\"id\":\"199865\"}},\"id\":\"199042\",\"type\":\"ColumnDataSource\"},{\"attributes\":{},\"id\":\"199889\",\"type\":\"UnionRenderers\"},{\"attributes\":{\"data\":{\"lat\":[{\"__ndarray__\":\"iMxkUbvYRUA=\",\"dtype\":\"float64\",\"order\":\"little\",\"shape\":[1]}],\"lon\":[{\"__ndarray__\":\"/HF3ra/eU8A=\",\"dtype\":\"float64\",\"order\":\"little\",\"shape\":[1]}],\"marker.size\":[{\"__ndarray__\":\"AAAAAL+jFkE=\",\"dtype\":\"float64\",\"order\":\"little\",\"shape\":[1]}]},\"selected\":{\"id\":\"199832\"},\"selection_policy\":{\"id\":\"199831\"}},\"id\":\"199025\",\"type\":\"ColumnDataSource\"},{\"attributes\":{\"children\":[{\"id\":\"199738\"}],\"css_classes\":[\"panel-widget-box\"],\"margin\":[5,5,5,5],\"name\":\"WidgetBox93001\"},\"id\":\"199737\",\"type\":\"Column\"},{\"attributes\":{},\"id\":\"199890\",\"type\":\"Selection\"},{\"attributes\":{\"data\":{\"lat\":[{\"__ndarray__\":\"a+Pb/SLRRUA=\",\"dtype\":\"float64\",\"order\":\"little\",\"shape\":[1]}],\"lon\":[{\"__ndarray__\":\"PlsoFSTYU8A=\",\"dtype\":\"float64\",\"order\":\"little\",\"shape\":[1]}],\"marker.size\":[{\"__ndarray__\":\"AAAAAHwAF0E=\",\"dtype\":\"float64\",\"order\":\"little\",\"shape\":[1]}]},\"selected\":{\"id\":\"200056\"},\"selection_policy\":{\"id\":\"200055\"}},\"id\":\"199137\",\"type\":\"ColumnDataSource\"},{\"attributes\":{},\"id\":\"199891\",\"type\":\"UnionRenderers\"},{\"attributes\":{\"data\":{\"lat\":[{\"__ndarray__\":\"+aOHJY7XRUA=\",\"dtype\":\"float64\",\"order\":\"little\",\"shape\":[1]}],\"lon\":[{\"__ndarray__\":\"TuLewhvVU8A=\",\"dtype\":\"float64\",\"order\":\"little\",\"shape\":[1]}],\"marker.size\":[{\"__ndarray__\":\"AAAAAPx/HEE=\",\"dtype\":\"float64\",\"order\":\"little\",\"shape\":[1]}]},\"selected\":{\"id\":\"199868\"},\"selection_policy\":{\"id\":\"199867\"}},\"id\":\"199043\",\"type\":\"ColumnDataSource\"},{\"attributes\":{},\"id\":\"199846\",\"type\":\"Selection\"},{\"attributes\":{},\"id\":\"199892\",\"type\":\"Selection\"},{\"attributes\":{\"data\":{\"lat\":[{\"__ndarray__\":\"hKk9V6HdRUA=\",\"dtype\":\"float64\",\"order\":\"little\",\"shape\":[1]}],\"lon\":[{\"__ndarray__\":\"oEhBAeXaU8A=\",\"dtype\":\"float64\",\"order\":\"little\",\"shape\":[1]}],\"marker.size\":[{\"__ndarray__\":\"AAAAgN5kLEE=\",\"dtype\":\"float64\",\"order\":\"little\",\"shape\":[1]}]},\"selected\":{\"id\":\"199830\"},\"selection_policy\":{\"id\":\"199829\"}},\"id\":\"199024\",\"type\":\"ColumnDataSource\"},{\"attributes\":{},\"id\":\"199830\",\"type\":\"Selection\"},{\"attributes\":{},\"id\":\"199764\",\"type\":\"ResetTool\"},{\"attributes\":{},\"id\":\"199829\",\"type\":\"UnionRenderers\"},{\"attributes\":{},\"id\":\"199893\",\"type\":\"UnionRenderers\"},{\"attributes\":{},\"id\":\"199713\",\"type\":\"CategoricalTickFormatter\"},{\"attributes\":{\"data\":{\"lat\":[{\"__ndarray__\":\"alnvHj3iRUA=\",\"dtype\":\"float64\",\"order\":\"little\",\"shape\":[1]}],\"lon\":[{\"__ndarray__\":\"k7X6qE7LU8A=\",\"dtype\":\"float64\",\"order\":\"little\",\"shape\":[1]}],\"marker.size\":[{\"__ndarray__\":\"AAAAAJ5fEUE=\",\"dtype\":\"float64\",\"order\":\"little\",\"shape\":[1]}]},\"selected\":{\"id\":\"200058\"},\"selection_policy\":{\"id\":\"200057\"}},\"id\":\"199138\",\"type\":\"ColumnDataSource\"},{\"attributes\":{\"axis\":{\"id\":\"199422\"},\"dimension\":1,\"grid_line_color\":null,\"ticker\":null},\"id\":\"199425\",\"type\":\"Grid\"},{\"attributes\":{},\"id\":\"199837\",\"type\":\"UnionRenderers\"},{\"attributes\":{},\"id\":\"199894\",\"type\":\"Selection\"},{\"attributes\":{\"data\":{\"lat\":[{\"__ndarray__\":\"wReJfUDYRUA=\",\"dtype\":\"float64\",\"order\":\"little\",\"shape\":[1]}],\"lon\":[{\"__ndarray__\":\"kbiFtjXVU8A=\",\"dtype\":\"float64\",\"order\":\"little\",\"shape\":[1]}],\"marker.size\":[{\"__ndarray__\":\"AAAAAL28GUE=\",\"dtype\":\"float64\",\"order\":\"little\",\"shape\":[1]}]},\"selected\":{\"id\":\"199870\"},\"selection_policy\":{\"id\":\"199869\"}},\"id\":\"199044\",\"type\":\"ColumnDataSource\"},{\"attributes\":{},\"id\":\"199835\",\"type\":\"UnionRenderers\"},{\"attributes\":{\"callback\":null,\"renderers\":[{\"id\":\"199779\"}],\"tags\":[\"hv_created\"],\"tooltips\":[[\"neighbourhood\",\"@{neighbourhood}\"],[\"average_house_value\",\"@{average_house_value}\"]]},\"id\":\"199743\",\"type\":\"HoverTool\"},{\"attributes\":{\"css_classes\":[\"markdown\"],\"margin\":[5,5,5,5],\"name\":\"Markdown92067\",\"text\":\"&lt;p&gt;There is also a really great interactive map to have a look around toronto&amp;rsquo;s suburbs and their average prices!&lt;/p&gt;\"},\"id\":\"199011\",\"type\":\"panel.models.markup.HTML\"},{\"attributes\":{},\"id\":\"199895\",\"type\":\"UnionRenderers\"},{\"attributes\":{},\"id\":\"199844\",\"type\":\"Selection\"},{\"attributes\":{},\"id\":\"199896\",\"type\":\"Selection\"},{\"attributes\":{},\"id\":\"199838\",\"type\":\"Selection\"},{\"attributes\":{\"data\":{\"lat\":[{\"__ndarray__\":\"ogSizKvbRUA=\",\"dtype\":\"float64\",\"order\":\"little\",\"shape\":[1]}],\"lon\":[{\"__ndarray__\":\"jmA+tCrmU8A=\",\"dtype\":\"float64\",\"order\":\"little\",\"shape\":[1]}],\"marker.size\":[{\"__ndarray__\":\"AAAAAFnzFEE=\",\"dtype\":\"float64\",\"order\":\"little\",\"shape\":[1]}]},\"selected\":{\"id\":\"200060\"},\"selection_policy\":{\"id\":\"200059\"}},\"id\":\"199139\",\"type\":\"ColumnDataSource\"},{\"attributes\":{},\"id\":\"199897\",\"type\":\"UnionRenderers\"},{\"attributes\":{\"data\":{\"lat\":[{\"__ndarray__\":\"Sdu290LkRUA=\",\"dtype\":\"float64\",\"order\":\"little\",\"shape\":[1]}],\"lon\":[{\"__ndarray__\":\"bzH9GqLWU8A=\",\"dtype\":\"float64\",\"order\":\"little\",\"shape\":[1]}],\"marker.size\":[{\"__ndarray__\":\"AAAAAOlKGEE=\",\"dtype\":\"float64\",\"order\":\"little\",\"shape\":[1]}]},\"selected\":{\"id\":\"199872\"},\"selection_policy\":{\"id\":\"199871\"}},\"id\":\"199045\",\"type\":\"ColumnDataSource\"},{\"attributes\":{},\"id\":\"199845\",\"type\":\"UnionRenderers\"},{\"attributes\":{},\"id\":\"199419\",\"type\":\"BasicTicker\"},{\"attributes\":{},\"id\":\"199832\",\"type\":\"Selection\"},{\"attributes\":{},\"id\":\"199898\",\"type\":\"Selection\"},{\"attributes\":{\"data\":{\"lat\":[{\"__ndarray__\":\"VYWKmv3lRUA=\",\"dtype\":\"float64\",\"order\":\"little\",\"shape\":[1]}],\"lon\":[{\"__ndarray__\":\"u53YnnTYU8A=\",\"dtype\":\"float64\",\"order\":\"little\",\"shape\":[1]}],\"marker.size\":[{\"__ndarray__\":\"AAAAAEtBIUE=\",\"dtype\":\"float64\",\"order\":\"little\",\"shape\":[1]}]},\"selected\":{\"id\":\"199828\"},\"selection_policy\":{\"id\":\"199827\"}},\"id\":\"199023\",\"type\":\"ColumnDataSource\"},{\"attributes\":{},\"id\":\"199827\",\"type\":\"UnionRenderers\"},{\"attributes\":{\"axis_label\":\"year\",\"bounds\":\"auto\",\"formatter\":{\"id\":\"199449\"},\"major_label_orientation\":1.5707963267948966,\"ticker\":{\"id\":\"199419\"}},\"id\":\"199418\",\"type\":\"LinearAxis\"},{\"attributes\":{},\"id\":\"199825\",\"type\":\"UnionRenderers\"},{\"attributes\":{},\"id\":\"199899\",\"type\":\"UnionRenderers\"},{\"attributes\":{},\"id\":\"199839\",\"type\":\"UnionRenderers\"},{\"attributes\":{\"data\":{\"lat\":[{\"__ndarray__\":\"1svOJrDjRUA=\",\"dtype\":\"float64\",\"order\":\"little\",\"shape\":[1]}],\"lon\":[{\"__ndarray__\":\"tn2Xa/TcU8A=\",\"dtype\":\"float64\",\"order\":\"little\",\"shape\":[1]}],\"marker.size\":[{\"__ndarray__\":\"AAAAACFSFUE=\",\"dtype\":\"float64\",\"order\":\"little\",\"shape\":[1]}]},\"selected\":{\"id\":\"200062\"},\"selection_policy\":{\"id\":\"200061\"}},\"id\":\"199140\",\"type\":\"ColumnDataSource\"},{\"attributes\":{},\"id\":\"199900\",\"type\":\"Selection\"},{\"attributes\":{\"callback\":null,\"renderers\":[{\"id\":\"199638\"}],\"tags\":[\"hv_created\"],\"tooltips\":[[\"year\",\"@{year}\"],[\"average_house_value\",\"@{average_house_value}\"]]},\"id\":\"199601\",\"type\":\"HoverTool\"},{\"attributes\":{\"children\":[{\"id\":\"199014\"},{\"id\":\"199155\"}],\"margin\":[0,0,0,0],\"name\":\"Column92074\"},\"id\":\"199013\",\"type\":\"Column\"},{\"attributes\":{\"data\":{\"lat\":[{\"__ndarray__\":\"pusN5y/hRUA=\",\"dtype\":\"float64\",\"order\":\"little\",\"shape\":[1]}],\"lon\":[{\"__ndarray__\":\"QzmwoNnRU8A=\",\"dtype\":\"float64\",\"order\":\"little\",\"shape\":[1]}],\"marker.size\":[{\"__ndarray__\":\"AAAAAIL7D0E=\",\"dtype\":\"float64\",\"order\":\"little\",\"shape\":[1]}]},\"selected\":{\"id\":\"199874\"},\"selection_policy\":{\"id\":\"199873\"}},\"id\":\"199046\",\"type\":\"ColumnDataSource\"},{\"attributes\":{},\"id\":\"199936\",\"type\":\"Selection\"},{\"attributes\":{},\"id\":\"199416\",\"type\":\"LinearScale\"},{\"attributes\":{},\"id\":\"199831\",\"type\":\"UnionRenderers\"},{\"attributes\":{},\"id\":\"199901\",\"type\":\"UnionRenderers\"},{\"attributes\":{\"axis\":{\"id\":\"199418\"},\"grid_line_color\":null,\"ticker\":null},\"id\":\"199421\",\"type\":\"Grid\"},{\"attributes\":{},\"id\":\"199833\",\"type\":\"UnionRenderers\"},{\"attributes\":{},\"id\":\"199902\",\"type\":\"Selection\"},{\"attributes\":{},\"id\":\"199840\",\"type\":\"Selection\"},{\"attributes\":{\"data\":{\"lat\":[{\"__ndarray__\":\"6Y96mfLZRUA=\",\"dtype\":\"float64\",\"order\":\"little\",\"shape\":[1]}],\"lon\":[{\"__ndarray__\":\"04MnmQHhU8A=\",\"dtype\":\"float64\",\"order\":\"little\",\"shape\":[1]}],\"marker.size\":[{\"__ndarray__\":\"AAAAAJ/MEkE=\",\"dtype\":\"float64\",\"order\":\"little\",\"shape\":[1]}]},\"selected\":{\"id\":\"200064\"},\"selection_policy\":{\"id\":\"200063\"}},\"id\":\"199141\",\"type\":\"ColumnDataSource\"},{\"attributes\":{},\"id\":\"199414\",\"type\":\"LinearScale\"},{\"attributes\":{},\"id\":\"199903\",\"type\":\"UnionRenderers\"},{\"attributes\":{\"data\":{\"lat\":[{\"__ndarray__\":\"nQbS5jTVRUA=\",\"dtype\":\"float64\",\"order\":\"little\",\"shape\":[1]}],\"lon\":[{\"__ndarray__\":\"wh0DDRHcU8A=\",\"dtype\":\"float64\",\"order\":\"little\",\"shape\":[1]}],\"marker.size\":[{\"__ndarray__\":\"AAAAAC6IGkE=\",\"dtype\":\"float64\",\"order\":\"little\",\"shape\":[1]}]},\"selected\":{\"id\":\"199876\"},\"selection_policy\":{\"id\":\"199875\"}},\"id\":\"199047\",\"type\":\"ColumnDataSource\"},{\"attributes\":{\"data\":{\"lat\":[{\"__ndarray__\":\"HKcRyF/jRUA=\",\"dtype\":\"float64\",\"order\":\"little\",\"shape\":[1]}],\"lon\":[{\"__ndarray__\":\"GB7BriLYU8A=\",\"dtype\":\"float64\",\"order\":\"little\",\"shape\":[1]}],\"marker.size\":[{\"__ndarray__\":\"AAAAgPV0IEE=\",\"dtype\":\"float64\",\"order\":\"little\",\"shape\":[1]}]},\"selected\":{\"id\":\"199826\"},\"selection_policy\":{\"id\":\"199825\"}},\"id\":\"199022\",\"type\":\"ColumnDataSource\"},{\"attributes\":{},\"id\":\"199904\",\"type\":\"Selection\"},{\"attributes\":{},\"id\":\"199423\",\"type\":\"BasicTicker\"},{\"attributes\":{\"axis_label\":\"Average Monthy Shelter Cost\",\"bounds\":\"auto\",\"formatter\":{\"id\":\"199447\"},\"major_label_orientation\":\"horizontal\",\"ticker\":{\"id\":\"199423\"}},\"id\":\"199422\",\"type\":\"LinearAxis\"},{\"attributes\":{},\"id\":\"199905\",\"type\":\"UnionRenderers\"},{\"attributes\":{\"data\":{\"average_house_value\":{\"__ndarray__\":\"i6/4imuxEUGogzqo7uEZQfEVX3HxLyBBqIM6qAhEJEE=\",\"dtype\":\"float64\",\"order\":\"little\",\"shape\":[4]},\"year\":[2001,2006,2011,2016]},\"selected\":{\"id\":\"199567\"},\"selection_policy\":{\"id\":\"199586\"}},\"id\":\"199566\",\"type\":\"ColumnDataSource\"},{\"attributes\":{},\"id\":\"199793\",\"type\":\"UnionRenderers\"},{\"attributes\":{\"data\":{\"lat\":[{\"__ndarray__\":\"iKL+gvbVRUA=\",\"dtype\":\"float64\",\"order\":\"little\",\"shape\":[1]}],\"lon\":[{\"__ndarray__\":\"rp1qJdvZU8A=\",\"dtype\":\"float64\",\"order\":\"little\",\"shape\":[1]}],\"marker.size\":[{\"__ndarray__\":\"AAAAAMLLJkE=\",\"dtype\":\"float64\",\"order\":\"little\",\"shape\":[1]}]},\"selected\":{\"id\":\"199818\"},\"selection_policy\":{\"id\":\"199817\"}},\"id\":\"199018\",\"type\":\"ColumnDataSource\"},{\"attributes\":{\"data\":{\"lat\":[{\"__ndarray__\":\"0UVcY0TWRUA=\",\"dtype\":\"float64\",\"order\":\"little\",\"shape\":[1]}],\"lon\":[{\"__ndarray__\":\"hmjfonTdU8A=\",\"dtype\":\"float64\",\"order\":\"little\",\"shape\":[1]}],\"marker.size\":[{\"__ndarray__\":\"AAAAAOh4FUE=\",\"dtype\":\"float64\",\"order\":\"little\",\"shape\":[1]}]},\"selected\":{\"id\":\"200066\"},\"selection_policy\":{\"id\":\"200065\"}},\"id\":\"199142\",\"type\":\"ColumnDataSource\"},{\"attributes\":{},\"id\":\"199834\",\"type\":\"Selection\"},{\"attributes\":{},\"id\":\"199906\",\"type\":\"Selection\"},{\"attributes\":{\"data\":{\"lat\":[{\"__ndarray__\":\"GNQShtzdRUA=\",\"dtype\":\"float64\",\"order\":\"little\",\"shape\":[1]}],\"lon\":[{\"__ndarray__\":\"lEH/TmTfU8A=\",\"dtype\":\"float64\",\"order\":\"little\",\"shape\":[1]}],\"marker.size\":[{\"__ndarray__\":\"AAAAAJ5HF0E=\",\"dtype\":\"float64\",\"order\":\"little\",\"shape\":[1]}]},\"selected\":{\"id\":\"199878\"},\"selection_policy\":{\"id\":\"199877\"}},\"id\":\"199048\",\"type\":\"ColumnDataSource\"},{\"attributes\":{},\"id\":\"199848\",\"type\":\"Selection\"},{\"attributes\":{},\"id\":\"199907\",\"type\":\"UnionRenderers\"},{\"attributes\":{},\"id\":\"199813\",\"type\":\"UnionRenderers\"},{\"attributes\":{},\"id\":\"199841\",\"type\":\"UnionRenderers\"},{\"attributes\":{},\"id\":\"199908\",\"type\":\"Selection\"},{\"attributes\":{\"source\":{\"id\":\"199439\"}},\"id\":\"199446\",\"type\":\"CDSView\"},{\"attributes\":{\"data\":{\"lat\":[{\"__ndarray__\":\"bf8MZ+XhRUA=\",\"dtype\":\"float64\",\"order\":\"little\",\"shape\":[1]}],\"lon\":[{\"__ndarray__\":\"0Ff7ATDdU8A=\",\"dtype\":\"float64\",\"order\":\"little\",\"shape\":[1]}],\"marker.size\":[{\"__ndarray__\":\"AAAAACOdHkE=\",\"dtype\":\"float64\",\"order\":\"little\",\"shape\":[1]}]},\"selected\":{\"id\":\"199822\"},\"selection_policy\":{\"id\":\"199821\"}},\"id\":\"199020\",\"type\":\"ColumnDataSource\"},{\"attributes\":{\"data\":{\"lat\":[{\"__ndarray__\":\"lf89NtHfRUA=\",\"dtype\":\"float64\",\"order\":\"little\",\"shape\":[1]}],\"lon\":[{\"__ndarray__\":\"iWKP3BzTU8A=\",\"dtype\":\"float64\",\"order\":\"little\",\"shape\":[1]}],\"marker.size\":[{\"__ndarray__\":\"AAAAAH1CFUE=\",\"dtype\":\"float64\",\"order\":\"little\",\"shape\":[1]}]},\"selected\":{\"id\":\"200068\"},\"selection_policy\":{\"id\":\"200067\"}},\"id\":\"199143\",\"type\":\"ColumnDataSource\"},{\"attributes\":{\"data_source\":{\"id\":\"199439\"},\"glyph\":{\"id\":\"199442\"},\"hover_glyph\":null,\"muted_glyph\":{\"id\":\"199444\"},\"nonselection_glyph\":{\"id\":\"199443\"},\"selection_glyph\":null,\"view\":{\"id\":\"199446\"}},\"id\":\"199445\",\"type\":\"GlyphRenderer\"},{\"attributes\":{},\"id\":\"199909\",\"type\":\"UnionRenderers\"},{\"attributes\":{\"data\":{\"lat\":[{\"__ndarray__\":\"LlVpi2veRUA=\",\"dtype\":\"float64\",\"order\":\"little\",\"shape\":[1]}],\"lon\":[{\"__ndarray__\":\"FbuFx2HWU8A=\",\"dtype\":\"float64\",\"order\":\"little\",\"shape\":[1]}],\"marker.size\":[{\"__ndarray__\":\"AAAAAI6tIkE=\",\"dtype\":\"float64\",\"order\":\"little\",\"shape\":[1]}]},\"selected\":{\"id\":\"199820\"},\"selection_policy\":{\"id\":\"199819\"}},\"id\":\"199019\",\"type\":\"ColumnDataSource\"},{\"attributes\":{\"data\":{\"lat\":[{\"__ndarray__\":\"ZxxVE+XTRUA=\",\"dtype\":\"float64\",\"order\":\"little\",\"shape\":[1]}],\"lon\":[{\"__ndarray__\":\"6v9FZf3bU8A=\",\"dtype\":\"float64\",\"order\":\"little\",\"shape\":[1]}],\"marker.size\":[{\"__ndarray__\":\"AAAAANPtG0E=\",\"dtype\":\"float64\",\"order\":\"little\",\"shape\":[1]}]},\"selected\":{\"id\":\"199880\"},\"selection_policy\":{\"id\":\"199879\"}},\"id\":\"199049\",\"type\":\"ColumnDataSource\"},{\"attributes\":{},\"id\":\"199826\",\"type\":\"Selection\"},{\"attributes\":{},\"id\":\"199910\",\"type\":\"Selection\"},{\"attributes\":{},\"id\":\"199783\",\"type\":\"CategoricalTickFormatter\"},{\"attributes\":{},\"id\":\"199586\",\"type\":\"UnionRenderers\"},{\"attributes\":{\"children\":[{\"id\":\"199597\"},{\"id\":\"199598\"},{\"id\":\"199669\"},{\"id\":\"199740\"},{\"id\":\"199744\"}],\"margin\":[0,0,0,0],\"name\":\"Column93015\"},\"id\":\"199596\",\"type\":\"Column\"},{\"attributes\":{},\"id\":\"199426\",\"type\":\"SaveTool\"},{\"attributes\":{\"margin\":[20,20,20,20],\"min_width\":250,\"options\":[\"Agincourt North\",\"Agincourt South-Malvern West\",\"Alderwood\",\"Annex\",\"Banbury-Don Mills\",\"Bathurst Manor\",\"Bay Street Corridor\",\"Bayview Village\",\"Bayview Woods-Steeles\",\"Bedford Park-Nortown\",\"Beechborough-Greenbrook\",\"Bendale\",\"Birchcliffe-Cliffside\",\"Black Creek\",\"Blake-Jones\",\"Briar Hill-Belgravia\",\"Bridle Path-Sunnybrook-York Mills\",\"Broadview North\",\"Brookhaven-Amesbury\",\"Cabbagetown-South St.James Town\",\"Caledonia-Fairbank\",\"Casa Loma\",\"Centennial Scarborough\",\"Church-Yonge Corridor\",\"Clairlea-Birchmount\",\"Clanton Park\",\"Cliffcrest\",\"Corso Italia-Davenport\",\"Danforth\",\"Danforth-East York\",\"Don Valley Village\",\"Dorset Park\",\"Dovercourt-Wallace Emerson-Juncti\",\"Downsview-Roding-CFB\",\"Dufferin Grove\",\"East End-Danforth\",\"Edenbridge-Humber Valley\",\"Eglinton East\",\"Elms-Old Rexdale\",\"Englemount-Lawrence\",\"Eringate-Centennial-West Deane\",\"Etobicoke West Mall\",\"Flemingdon Park\",\"Forest Hill North\",\"Forest Hill South\",\"Glenfield-Jane Heights\",\"Greenwood-Coxwell\",\"Guildwood\",\"Henry Farm\",\"High Park North\",\"High Park-Swansea\",\"Highland Creek\",\"Hillcrest Village\",\"Humber Heights-Westmount\",\"Humber Summit\",\"Humbermede\",\"Humewood-Cedarvale\",\"Ionview\",\"Islington-City Centre West\",\"Junction Area\",\"Keelesdale-Eglinton West\",\"Kennedy Park\",\"Kensington-Chinatown\",\"Kingsview Village-The Westway\",\"Kingsway South\",\"L'Amoreaux\",\"Lambton Baby Point\",\"Lansing-Westgate\",\"Lawrence Park North\",\"Lawrence Park South\",\"Leaside-Bennington\",\"Little Portugal\",\"Long Branch\",\"Malvern\",\"Maple Leaf\",\"Markland Wood\",\"Milliken\",\"Mimico\",\"Morningside\",\"Moss Park\",\"Mount Dennis\",\"Mount Olive-Silverstone-Jamestown\",\"Mount Pleasant East\",\"Mount Pleasant West\",\"New Toronto\",\"Newtonbrook East\",\"Newtonbrook West\",\"Niagara\",\"North Riverdale\",\"North St.James Town\",\"O'Connor-Parkview\",\"Oakridge\",\"Oakwood Village\",\"Old East York\",\"Palmerston-Little Italy\",\"Parkwoods-Donalda\",\"Pelmo Park-Humberlea\",\"Playter Estates-Danforth\",\"Pleasant View\",\"Princess-Rosethorn\",\"Regent Park\",\"Rexdale-Kipling\",\"Rockcliffe-Smythe\",\"Roncesvalles\",\"Rosedale-Moore Park\",\"Rouge\",\"Runnymede-Bloor West Village\",\"Rustic\",\"Scarborough Village\",\"South Parkdale\",\"South Riverdale\",\"St.Andrew-Windfields\",\"Steeles\",\"Stonegate-Queensway\",\"Tam O'Shanter-Sullivan\",\"Taylor-Massey\",\"The Beaches\",\"Thistletown-Beaumond Heights\",\"Thorncliffe Park\",\"Trinity-Bellwoods\",\"University\",\"Victoria Village\",\"Waterfront Communities-The Island\",\"West Hill\",\"West Humber-Clairville\",\"Westminster-Branson\",\"Weston\",\"Weston-Pellam Park\",\"Wexford/Maryvale\",\"Willowdale East\",\"Willowdale West\",\"Willowridge-Martingrove-Richview\",\"Woburn\",\"Woodbine Corridor\",\"Woodbine-Lumsden\",\"Wychwood\",\"Yonge-Eglinton\",\"Yonge-St.Clair\",\"York University Heights\",\"Yorkdale-Glen Park\"],\"title\":\"neighbourhood\",\"value\":\"Agincourt North\",\"width\":250},\"id\":\"199738\",\"type\":\"Select\"},{\"attributes\":{},\"id\":\"199836\",\"type\":\"Selection\"},{\"attributes\":{},\"id\":\"199911\",\"type\":\"UnionRenderers\"},{\"attributes\":{},\"id\":\"199427\",\"type\":\"PanTool\"},{\"attributes\":{\"overlay\":{\"id\":\"199765\"}},\"id\":\"199763\",\"type\":\"BoxZoomTool\"},{\"attributes\":{},\"id\":\"199828\",\"type\":\"Selection\"},{\"attributes\":{},\"id\":\"199430\",\"type\":\"ResetTool\"},{\"attributes\":{\"child\":{\"id\":\"199596\"},\"name\":\"Column93015\",\"title\":\"neighbourhood Stats\"},\"id\":\"199802\",\"type\":\"Panel\"},{\"attributes\":{\"data\":{\"lat\":[{\"__ndarray__\":\"O3ZIGKPiRUA=\",\"dtype\":\"float64\",\"order\":\"little\",\"shape\":[1]}],\"lon\":[{\"__ndarray__\":\"JfsQ6bHZU8A=\",\"dtype\":\"float64\",\"order\":\"little\",\"shape\":[1]}],\"marker.size\":[{\"__ndarray__\":\"AAAAANagHEE=\",\"dtype\":\"float64\",\"order\":\"little\",\"shape\":[1]}]},\"selected\":{\"id\":\"200070\"},\"selection_policy\":{\"id\":\"200069\"}},\"id\":\"199144\",\"type\":\"ColumnDataSource\"},{\"attributes\":{},\"id\":\"199912\",\"type\":\"Selection\"},{\"attributes\":{},\"id\":\"199937\",\"type\":\"UnionRenderers\"},{\"attributes\":{\"data\":{\"lat\":[{\"__ndarray__\":\"ULB7ApPXRUA=\",\"dtype\":\"float64\",\"order\":\"little\",\"shape\":[1]}],\"lon\":[{\"__ndarray__\":\"JFtEsSjTU8A=\",\"dtype\":\"float64\",\"order\":\"little\",\"shape\":[1]}],\"marker.size\":[{\"__ndarray__\":\"AAAAAJktHUE=\",\"dtype\":\"float64\",\"order\":\"little\",\"shape\":[1]}]},\"selected\":{\"id\":\"199882\"},\"selection_policy\":{\"id\":\"199881\"}},\"id\":\"199050\",\"type\":\"ColumnDataSource\"},{\"attributes\":{},\"id\":\"199849\",\"type\":\"UnionRenderers\"},{\"attributes\":{},\"id\":\"199428\",\"type\":\"WheelZoomTool\"},{\"attributes\":{},\"id\":\"199913\",\"type\":\"UnionRenderers\"},{\"attributes\":{\"overlay\":{\"id\":\"199431\"}},\"id\":\"199429\",\"type\":\"BoxZoomTool\"},{\"attributes\":{},\"id\":\"199851\",\"type\":\"UnionRenderers\"},{\"attributes\":{\"data\":{\"lat\":[{\"__ndarray__\":\"2X/4VCnURUA=\",\"dtype\":\"float64\",\"order\":\"little\",\"shape\":[1]}],\"lon\":[{\"__ndarray__\":\"04cuqK/YU8A=\",\"dtype\":\"float64\",\"order\":\"little\",\"shape\":[1]}],\"marker.size\":[{\"__ndarray__\":\"AAAAAJbbGUE=\",\"dtype\":\"float64\",\"order\":\"little\",\"shape\":[1]}]},\"selected\":{\"id\":\"199824\"},\"selection_policy\":{\"id\":\"199823\"}},\"id\":\"199021\",\"type\":\"ColumnDataSource\"},{\"attributes\":{},\"id\":\"199850\",\"type\":\"Selection\"},{\"attributes\":{},\"id\":\"199939\",\"type\":\"UnionRenderers\"},{\"attributes\":{\"data\":{\"lat\":[{\"__ndarray__\":\"6nB8BrfiRUA=\",\"dtype\":\"float64\",\"order\":\"little\",\"shape\":[1]}],\"lon\":[{\"__ndarray__\":\"lQlkG13bU8A=\",\"dtype\":\"float64\",\"order\":\"little\",\"shape\":[1]}],\"marker.size\":[{\"__ndarray__\":\"AAAAAFtzHEE=\",\"dtype\":\"float64\",\"order\":\"little\",\"shape\":[1]}]},\"selected\":{\"id\":\"200072\"},\"selection_policy\":{\"id\":\"200071\"}},\"id\":\"199145\",\"type\":\"ColumnDataSource\"},{\"attributes\":{},\"id\":\"199914\",\"type\":\"Selection\"},{\"attributes\":{\"data\":{\"lat\":[{\"__ndarray__\":\"C2bplt/VRUA=\",\"dtype\":\"float64\",\"order\":\"little\",\"shape\":[1]}],\"lon\":[{\"__ndarray__\":\"cy+s8m/hU8A=\",\"dtype\":\"float64\",\"order\":\"little\",\"shape\":[1]}],\"marker.size\":[{\"__ndarray__\":\"AAAAAAVMKEE=\",\"dtype\":\"float64\",\"order\":\"little\",\"shape\":[1]}]},\"selected\":{\"id\":\"199884\"},\"selection_policy\":{\"id\":\"199883\"}},\"id\":\"199051\",\"type\":\"ColumnDataSource\"},{\"attributes\":{\"data\":{\"lat\":[{\"__ndarray__\":\"kCGVnHLdRUA=\",\"dtype\":\"float64\",\"order\":\"little\",\"shape\":[1]}],\"lon\":[{\"__ndarray__\":\"eB8NyNrZU8A=\",\"dtype\":\"float64\",\"order\":\"little\",\"shape\":[1]}],\"marker.size\":[{\"__ndarray__\":\"AAAAAMEsJ0E=\",\"dtype\":\"float64\",\"order\":\"little\",\"shape\":[1]}]},\"selected\":{\"id\":\"199948\"},\"selection_policy\":{\"id\":\"199947\"}},\"id\":\"199083\",\"type\":\"ColumnDataSource\"},{\"attributes\":{},\"id\":\"199915\",\"type\":\"UnionRenderers\"},{\"attributes\":{},\"id\":\"199916\",\"type\":\"Selection\"},{\"attributes\":{\"text\":\"average house price in Toronto\",\"text_color\":{\"value\":\"black\"},\"text_font_size\":{\"value\":\"12pt\"}},\"id\":\"199537\",\"type\":\"Title\"},{\"attributes\":{},\"id\":\"199917\",\"type\":\"UnionRenderers\"},{\"attributes\":{\"data\":{\"shelter_costs_rented\":{\"__ndarray__\":\"LL7iK773kEB1UAd1UOuMQMVXfMVX3o9AJUmSJEmhk0A=\",\"dtype\":\"float64\",\"order\":\"little\",\"shape\":[4]},\"year\":[2001,2006,2011,2016]},\"selected\":{\"id\":\"199502\"},\"selection_policy\":{\"id\":\"199521\"}},\"id\":\"199501\",\"type\":\"ColumnDataSource\"},{\"attributes\":{\"data\":{\"lat\":[{\"__ndarray__\":\"UaCRABzTRUA=\",\"dtype\":\"float64\",\"order\":\"little\",\"shape\":[1]}],\"lon\":[{\"__ndarray__\":\"l5CsT3vVU8A=\",\"dtype\":\"float64\",\"order\":\"little\",\"shape\":[1]}],\"marker.size\":[{\"__ndarray__\":\"AAAAALLFG0E=\",\"dtype\":\"float64\",\"order\":\"little\",\"shape\":[1]}]},\"selected\":{\"id\":\"200032\"},\"selection_policy\":{\"id\":\"200031\"}},\"id\":\"199125\",\"type\":\"ColumnDataSource\"},{\"attributes\":{},\"id\":\"199918\",\"type\":\"Selection\"},{\"attributes\":{},\"id\":\"199541\",\"type\":\"LinearScale\"},{\"attributes\":{},\"id\":\"199919\",\"type\":\"UnionRenderers\"},{\"attributes\":{\"data\":{\"lat\":[{\"__ndarray__\":\"f+fNl83bRUA=\",\"dtype\":\"float64\",\"order\":\"little\",\"shape\":[1]}],\"lon\":[{\"__ndarray__\":\"lLW4jPzZU8A=\",\"dtype\":\"float64\",\"order\":\"little\",\"shape\":[1]}],\"marker.size\":[{\"__ndarray__\":\"AAAAwIuxMEE=\",\"dtype\":\"float64\",\"order\":\"little\",\"shape\":[1]}]},\"selected\":{\"id\":\"199950\"},\"selection_policy\":{\"id\":\"199949\"}},\"id\":\"199084\",\"type\":\"ColumnDataSource\"},{\"attributes\":{},\"id\":\"199920\",\"type\":\"Selection\"},{\"attributes\":{\"active_drag\":\"auto\",\"active_inspect\":\"auto\",\"active_multi\":null,\"active_scroll\":\"auto\",\"active_tap\":\"auto\",\"tools\":[{\"id\":\"199408\"},{\"id\":\"199426\"},{\"id\":\"199427\"},{\"id\":\"199428\"},{\"id\":\"199429\"},{\"id\":\"199430\"}]},\"id\":\"199432\",\"type\":\"Toolbar\"},{\"attributes\":{},\"id\":\"199543\",\"type\":\"LinearScale\"},{\"attributes\":{\"data\":{\"lat\":[{\"__ndarray__\":\"DsvRqczgRUA=\",\"dtype\":\"float64\",\"order\":\"little\",\"shape\":[1]}],\"lon\":[{\"__ndarray__\":\"WGHIJELYU8A=\",\"dtype\":\"float64\",\"order\":\"little\",\"shape\":[1]}],\"marker.size\":[{\"__ndarray__\":\"AAAAAIZ9LkE=\",\"dtype\":\"float64\",\"order\":\"little\",\"shape\":[1]}]},\"selected\":{\"id\":\"200034\"},\"selection_policy\":{\"id\":\"200033\"}},\"id\":\"199126\",\"type\":\"ColumnDataSource\"},{\"attributes\":{},\"id\":\"199921\",\"type\":\"UnionRenderers\"},{\"attributes\":{},\"id\":\"199811\",\"type\":\"UnionRenderers\"},{\"attributes\":{},\"id\":\"199922\",\"type\":\"Selection\"},{\"attributes\":{},\"id\":\"199959\",\"type\":\"UnionRenderers\"},{\"attributes\":{\"data\":{\"lat\":[{\"__ndarray__\":\"dJqBoXnZRUA=\",\"dtype\":\"float64\",\"order\":\"little\",\"shape\":[1]}],\"lon\":[{\"__ndarray__\":\"3twEhPvcU8A=\",\"dtype\":\"float64\",\"order\":\"little\",\"shape\":[1]}],\"marker.size\":[{\"__ndarray__\":\"AAAAAFJPFkE=\",\"dtype\":\"float64\",\"order\":\"little\",\"shape\":[1]}]},\"selected\":{\"id\":\"199842\"},\"selection_policy\":{\"id\":\"199841\"}},\"id\":\"199030\",\"type\":\"ColumnDataSource\"},{\"attributes\":{\"data\":{\"lat\":[{\"__ndarray__\":\"SHEKAhbaRUA=\",\"dtype\":\"float64\",\"order\":\"little\",\"shape\":[1]}],\"lon\":[{\"__ndarray__\":\"SxGuum3XU8A=\",\"dtype\":\"float64\",\"order\":\"little\",\"shape\":[1]}],\"marker.size\":[{\"__ndarray__\":\"AAAAgI+cKEE=\",\"dtype\":\"float64\",\"order\":\"little\",\"shape\":[1]}]},\"selected\":{\"id\":\"199952\"},\"selection_policy\":{\"id\":\"199951\"}},\"id\":\"199085\",\"type\":\"ColumnDataSource\"},{\"attributes\":{},\"id\":\"199923\",\"type\":\"UnionRenderers\"},{\"attributes\":{},\"id\":\"199984\",\"type\":\"Selection\"},{\"attributes\":{\"data\":{\"lat\":[{\"__ndarray__\":\"ZQU71YzWRUA=\",\"dtype\":\"float64\",\"order\":\"little\",\"shape\":[1]}],\"lon\":[{\"__ndarray__\":\"tYC33ZfVU8A=\",\"dtype\":\"float64\",\"order\":\"little\",\"shape\":[1]}],\"marker.size\":[{\"__ndarray__\":\"AAAAADQ3H0E=\",\"dtype\":\"float64\",\"order\":\"little\",\"shape\":[1]}]},\"selected\":{\"id\":\"199840\"},\"selection_policy\":{\"id\":\"199839\"}},\"id\":\"199029\",\"type\":\"ColumnDataSource\"},{\"attributes\":{\"data\":{\"lat\":[{\"__ndarray__\":\"FuzxCA/oRUA=\",\"dtype\":\"float64\",\"order\":\"little\",\"shape\":[1]}],\"lon\":[{\"__ndarray__\":\"iszYp47UU8A=\",\"dtype\":\"float64\",\"order\":\"little\",\"shape\":[1]}],\"marker.size\":[{\"__ndarray__\":\"AAAAADrzFkE=\",\"dtype\":\"float64\",\"order\":\"little\",\"shape\":[1]}]},\"selected\":{\"id\":\"200036\"},\"selection_policy\":{\"id\":\"200035\"}},\"id\":\"199127\",\"type\":\"ColumnDataSource\"},{\"attributes\":{},\"id\":\"199924\",\"type\":\"Selection\"},{\"attributes\":{\"css_classes\":[\"markdown\"],\"margin\":[5,5,5,5],\"name\":\"Markdown92065\",\"text\":\"&lt;p&gt;Attatched you&amp;rsquo;ll find data on house values and dwelling numbers for Toronto and it&amp;rsquo;s suburbs!&lt;/p&gt;\"},\"id\":\"199010\",\"type\":\"panel.models.markup.HTML\"},{\"attributes\":{},\"id\":\"199960\",\"type\":\"Selection\"},{\"attributes\":{},\"id\":\"199925\",\"type\":\"UnionRenderers\"},{\"attributes\":{},\"id\":\"199962\",\"type\":\"Selection\"},{\"attributes\":{\"data\":{\"lat\":[{\"__ndarray__\":\"3yoVdeLSRUA=\",\"dtype\":\"float64\",\"order\":\"little\",\"shape\":[1]}],\"lon\":[{\"__ndarray__\":\"RYtDaIrbU8A=\",\"dtype\":\"float64\",\"order\":\"little\",\"shape\":[1]}],\"marker.size\":[{\"__ndarray__\":\"AAAAAEF8IEE=\",\"dtype\":\"float64\",\"order\":\"little\",\"shape\":[1]}]},\"selected\":{\"id\":\"199954\"},\"selection_policy\":{\"id\":\"199953\"}},\"id\":\"199086\",\"type\":\"ColumnDataSource\"},{\"attributes\":{},\"id\":\"199926\",\"type\":\"Selection\"},{\"attributes\":{},\"id\":\"199969\",\"type\":\"UnionRenderers\"},{\"attributes\":{\"data\":{\"lat\":[{\"__ndarray__\":\"uy54qFjRRUA=\",\"dtype\":\"float64\",\"order\":\"little\",\"shape\":[1]}],\"lon\":[{\"__ndarray__\":\"ZUMOfBLgU8A=\",\"dtype\":\"float64\",\"order\":\"little\",\"shape\":[1]}],\"marker.size\":[{\"__ndarray__\":\"AAAAgEDMIEE=\",\"dtype\":\"float64\",\"order\":\"little\",\"shape\":[1]}]},\"selected\":{\"id\":\"200038\"},\"selection_policy\":{\"id\":\"200037\"}},\"id\":\"199128\",\"type\":\"ColumnDataSource\"},{\"attributes\":{},\"id\":\"199927\",\"type\":\"UnionRenderers\"},{\"attributes\":{},\"id\":\"199968\",\"type\":\"Selection\"},{\"attributes\":{\"format\":\"%.0f\"},\"id\":\"199447\",\"type\":\"PrintfTickFormatter\"},{\"attributes\":{\"end\":1289.412142857143,\"reset_end\":1289.412142857143,\"reset_start\":892.3235714285714,\"start\":892.3235714285714,\"tags\":[[[\"shelter_costs_rented\",\"shelter_costs_rented\",null]]]},\"id\":\"199469\",\"type\":\"Range1d\"},{\"attributes\":{},\"id\":\"199928\",\"type\":\"Selection\"},{\"attributes\":{},\"id\":\"199965\",\"type\":\"UnionRenderers\"},{\"attributes\":{},\"id\":\"199967\",\"type\":\"UnionRenderers\"},{\"attributes\":{\"data\":{\"lat\":[{\"__ndarray__\":\"BfoCgtLLRUA=\",\"dtype\":\"float64\",\"order\":\"little\",\"shape\":[1]}],\"lon\":[{\"__ndarray__\":\"G070VCLiU8A=\",\"dtype\":\"float64\",\"order\":\"little\",\"shape\":[1]}],\"marker.size\":[{\"__ndarray__\":\"AAAAAJmMF0E=\",\"dtype\":\"float64\",\"order\":\"little\",\"shape\":[1]}]},\"selected\":{\"id\":\"199956\"},\"selection_policy\":{\"id\":\"199955\"}},\"id\":\"199087\",\"type\":\"ColumnDataSource\"},{\"attributes\":{},\"id\":\"199929\",\"type\":\"UnionRenderers\"},{\"attributes\":{},\"id\":\"199966\",\"type\":\"Selection\"},{\"attributes\":{\"data\":{\"lat\":[{\"__ndarray__\":\"EzGAS9vjRUA=\",\"dtype\":\"float64\",\"order\":\"little\",\"shape\":[1]}],\"lon\":[{\"__ndarray__\":\"+jIoBWPTU8A=\",\"dtype\":\"float64\",\"order\":\"little\",\"shape\":[1]}],\"marker.size\":[{\"__ndarray__\":\"AAAAABqaFUE=\",\"dtype\":\"float64\",\"order\":\"little\",\"shape\":[1]}]},\"selected\":{\"id\":\"200040\"},\"selection_policy\":{\"id\":\"200039\"}},\"id\":\"199129\",\"type\":\"ColumnDataSource\"},{\"attributes\":{},\"id\":\"199930\",\"type\":\"Selection\"},{\"attributes\":{\"fill_alpha\":{\"value\":0.1},\"fill_color\":{\"value\":\"red\"},\"line_alpha\":{\"value\":0.1},\"top\":{\"field\":\"A_2011\"},\"width\":{\"value\":0.8},\"x\":{\"field\":\"index\"}},\"id\":\"199317\",\"type\":\"VBar\"},{\"attributes\":{},\"id\":\"199931\",\"type\":\"UnionRenderers\"},{\"attributes\":{},\"id\":\"199975\",\"type\":\"UnionRenderers\"},{\"attributes\":{\"end\":472132.0,\"reset_end\":472132.0,\"reset_start\":0.0,\"tags\":[[[\"2011\",\"2011\",null]]]},\"id\":\"199282\",\"type\":\"Range1d\"},{\"attributes\":{\"data\":{\"lat\":[{\"__ndarray__\":\"xRSbRd7mRUA=\",\"dtype\":\"float64\",\"order\":\"little\",\"shape\":[1]}],\"lon\":[{\"__ndarray__\":\"2m1Ztj3OU8A=\",\"dtype\":\"float64\",\"order\":\"little\",\"shape\":[1]}],\"marker.size\":[{\"__ndarray__\":\"AAAAAIJbD0E=\",\"dtype\":\"float64\",\"order\":\"little\",\"shape\":[1]}]},\"selected\":{\"id\":\"199958\"},\"selection_policy\":{\"id\":\"199957\"}},\"id\":\"199088\",\"type\":\"ColumnDataSource\"},{\"attributes\":{},\"id\":\"199932\",\"type\":\"Selection\"},{\"attributes\":{\"below\":[{\"id\":\"199753\"}],\"center\":[{\"id\":\"199755\"},{\"id\":\"199759\"}],\"left\":[{\"id\":\"199756\"}],\"margin\":[5,5,5,5],\"min_border_bottom\":10,\"min_border_left\":10,\"min_border_right\":10,\"min_border_top\":10,\"renderers\":[{\"id\":\"199779\"}],\"sizing_mode\":\"fixed\",\"title\":{\"id\":\"199745\"},\"toolbar\":{\"id\":\"199766\"},\"x_range\":{\"id\":\"199741\"},\"x_scale\":{\"id\":\"199749\"},\"y_range\":{\"id\":\"199534\"},\"y_scale\":{\"id\":\"199751\"}},\"id\":\"199744\",\"subtype\":\"Figure\",\"type\":\"Plot\"},{\"attributes\":{\"data\":{\"lat\":[{\"__ndarray__\":\"I2pgs/XYRUA=\",\"dtype\":\"float64\",\"order\":\"little\",\"shape\":[1]}],\"lon\":[{\"__ndarray__\":\"/E9AC/DSU8A=\",\"dtype\":\"float64\",\"order\":\"little\",\"shape\":[1]}],\"marker.size\":[{\"__ndarray__\":\"AAAAALA5DUE=\",\"dtype\":\"float64\",\"order\":\"little\",\"shape\":[1]}]},\"selected\":{\"id\":\"200042\"},\"selection_policy\":{\"id\":\"200041\"}},\"id\":\"199130\",\"type\":\"ColumnDataSource\"},{\"attributes\":{},\"id\":\"199933\",\"type\":\"UnionRenderers\"},{\"attributes\":{},\"id\":\"199982\",\"type\":\"Selection\"},{\"attributes\":{},\"id\":\"199934\",\"type\":\"Selection\"},{\"attributes\":{},\"id\":\"199981\",\"type\":\"UnionRenderers\"},{\"attributes\":{\"callback\":null,\"renderers\":[{\"id\":\"199319\"}],\"tags\":[\"hv_created\"],\"tooltips\":[[\"index\",\"@{index}\"],[\"2011\",\"@{A_2011}\"]]},\"id\":\"199283\",\"type\":\"HoverTool\"},{\"attributes\":{\"data\":{\"lat\":[{\"__ndarray__\":\"vhVH7ZfbRUA=\",\"dtype\":\"float64\",\"order\":\"little\",\"shape\":[1]}],\"lon\":[{\"__ndarray__\":\"JExJvcTeU8A=\",\"dtype\":\"float64\",\"order\":\"little\",\"shape\":[1]}],\"marker.size\":[{\"__ndarray__\":\"AAAAALSpG0E=\",\"dtype\":\"float64\",\"order\":\"little\",\"shape\":[1]}]},\"selected\":{\"id\":\"199960\"},\"selection_policy\":{\"id\":\"199959\"}},\"id\":\"199089\",\"type\":\"ColumnDataSource\"},{\"attributes\":{},\"id\":\"199935\",\"type\":\"UnionRenderers\"},{\"attributes\":{},\"id\":\"199980\",\"type\":\"Selection\"},{\"attributes\":{\"data\":{\"lat\":[{\"__ndarray__\":\"/INQ9+TVRUA=\",\"dtype\":\"float64\",\"order\":\"little\",\"shape\":[1]}],\"lon\":[{\"__ndarray__\":\"s1XuqizTU8A=\",\"dtype\":\"float64\",\"order\":\"little\",\"shape\":[1]}],\"marker.size\":[{\"__ndarray__\":\"AAAAAIRVJEE=\",\"dtype\":\"float64\",\"order\":\"little\",\"shape\":[1]}]},\"selected\":{\"id\":\"200044\"},\"selection_policy\":{\"id\":\"200043\"}},\"id\":\"199131\",\"type\":\"ColumnDataSource\"},{\"attributes\":{},\"id\":\"199999\",\"type\":\"UnionRenderers\"},{\"attributes\":{},\"id\":\"199979\",\"type\":\"UnionRenderers\"},{\"attributes\":{\"text\":\"number of dwelling types units in 2011\",\"text_color\":{\"value\":\"black\"},\"text_font_size\":{\"value\":\"12pt\"}},\"id\":\"199285\",\"type\":\"Title\"},{\"attributes\":{},\"id\":\"199978\",\"type\":\"Selection\"},{\"attributes\":{},\"id\":\"199998\",\"type\":\"Selection\"},{\"attributes\":{\"data\":{\"lat\":[{\"__ndarray__\":\"R3Nk5RfRRUA=\",\"dtype\":\"float64\",\"order\":\"little\",\"shape\":[1]}],\"lon\":[{\"__ndarray__\":\"p28+GrPkU8A=\",\"dtype\":\"float64\",\"order\":\"little\",\"shape\":[1]}],\"marker.size\":[{\"__ndarray__\":\"AAAAABsZG0E=\",\"dtype\":\"float64\",\"order\":\"little\",\"shape\":[1]}]},\"selected\":{\"id\":\"199962\"},\"selection_policy\":{\"id\":\"199961\"}},\"id\":\"199090\",\"type\":\"ColumnDataSource\"},{\"attributes\":{},\"id\":\"199977\",\"type\":\"UnionRenderers\"},{\"attributes\":{},\"id\":\"200000\",\"type\":\"Selection\"},{\"attributes\":{\"data\":{\"lat\":[{\"__ndarray__\":\"HZ9eY3beRUA=\",\"dtype\":\"float64\",\"order\":\"little\",\"shape\":[1]}],\"lon\":[{\"__ndarray__\":\"V5+jPBDkU8A=\",\"dtype\":\"float64\",\"order\":\"little\",\"shape\":[1]}],\"marker.size\":[{\"__ndarray__\":\"AAAAAODwFkE=\",\"dtype\":\"float64\",\"order\":\"little\",\"shape\":[1]}]},\"selected\":{\"id\":\"200046\"},\"selection_policy\":{\"id\":\"200045\"}},\"id\":\"199132\",\"type\":\"ColumnDataSource\"},{\"attributes\":{},\"id\":\"199976\",\"type\":\"Selection\"},{\"attributes\":{},\"id\":\"200001\",\"type\":\"UnionRenderers\"},{\"attributes\":{},\"id\":\"199314\",\"type\":\"Selection\"},{\"attributes\":{},\"id\":\"199333\",\"type\":\"UnionRenderers\"},{\"attributes\":{\"below\":[{\"id\":\"199293\"}],\"center\":[{\"id\":\"199295\"},{\"id\":\"199299\"}],\"left\":[{\"id\":\"199296\"}],\"margin\":[5,5,5,5],\"min_border_bottom\":10,\"min_border_left\":10,\"min_border_right\":10,\"min_border_top\":10,\"renderers\":[{\"id\":\"199319\"}],\"sizing_mode\":\"fixed\",\"title\":{\"id\":\"199285\"},\"toolbar\":{\"id\":\"199306\"},\"x_range\":{\"id\":\"199159\"},\"x_scale\":{\"id\":\"199289\"},\"y_range\":{\"id\":\"199282\"},\"y_scale\":{\"id\":\"199291\"}},\"id\":\"199284\",\"subtype\":\"Figure\",\"type\":\"Plot\"},{\"attributes\":{},\"id\":\"199972\",\"type\":\"Selection\"},{\"attributes\":{},\"id\":\"200002\",\"type\":\"Selection\"},{\"attributes\":{\"data\":{\"lat\":[{\"__ndarray__\":\"1pZTZQzpRUA=\",\"dtype\":\"float64\",\"order\":\"little\",\"shape\":[1]}],\"lon\":[{\"__ndarray__\":\"iGADv5nRU8A=\",\"dtype\":\"float64\",\"order\":\"little\",\"shape\":[1]}],\"marker.size\":[{\"__ndarray__\":\"AAAAAHEOFUE=\",\"dtype\":\"float64\",\"order\":\"little\",\"shape\":[1]}]},\"selected\":{\"id\":\"199964\"},\"selection_policy\":{\"id\":\"199963\"}},\"id\":\"199091\",\"type\":\"ColumnDataSource\"},{\"attributes\":{},\"id\":\"199974\",\"type\":\"Selection\"},{\"attributes\":{},\"id\":\"200003\",\"type\":\"UnionRenderers\"},{\"attributes\":{\"axis\":{\"id\":\"199545\"},\"grid_line_color\":null,\"ticker\":null},\"id\":\"199548\",\"type\":\"Grid\"},{\"attributes\":{\"fill_color\":{\"value\":\"red\"},\"top\":{\"field\":\"A_2011\"},\"width\":{\"value\":0.8},\"x\":{\"field\":\"index\"}},\"id\":\"199316\",\"type\":\"VBar\"},{\"attributes\":{\"data\":{\"lat\":[{\"__ndarray__\":\"JFyvhpfaRUA=\",\"dtype\":\"float64\",\"order\":\"little\",\"shape\":[1]}],\"lon\":[{\"__ndarray__\":\"gcWnIWbWU8A=\",\"dtype\":\"float64\",\"order\":\"little\",\"shape\":[1]}],\"marker.size\":[{\"__ndarray__\":\"AAAAAAYpD0E=\",\"dtype\":\"float64\",\"order\":\"little\",\"shape\":[1]}]},\"selected\":{\"id\":\"200048\"},\"selection_policy\":{\"id\":\"200047\"}},\"id\":\"199133\",\"type\":\"ColumnDataSource\"},{\"attributes\":{},\"id\":\"199973\",\"type\":\"UnionRenderers\"},{\"attributes\":{},\"id\":\"200004\",\"type\":\"Selection\"},{\"attributes\":{},\"id\":\"199971\",\"type\":\"UnionRenderers\"},{\"attributes\":{},\"id\":\"200005\",\"type\":\"UnionRenderers\"},{\"attributes\":{\"format\":\"%.0f\"},\"id\":\"199509\",\"type\":\"PrintfTickFormatter\"},{\"attributes\":{},\"id\":\"199289\",\"type\":\"CategoricalScale\"},{\"attributes\":{},\"id\":\"199970\",\"type\":\"Selection\"},{\"attributes\":{},\"id\":\"199459\",\"type\":\"UnionRenderers\"},{\"attributes\":{\"data\":{\"lat\":[{\"__ndarray__\":\"V8PRl9bORUA=\",\"dtype\":\"float64\",\"order\":\"little\",\"shape\":[1]}],\"lon\":[{\"__ndarray__\":\"NBUcPQLgU8A=\",\"dtype\":\"float64\",\"order\":\"little\",\"shape\":[1]}],\"marker.size\":[{\"__ndarray__\":\"AAAAAEoEGEE=\",\"dtype\":\"float64\",\"order\":\"little\",\"shape\":[1]}]},\"selected\":{\"id\":\"199966\"},\"selection_policy\":{\"id\":\"199965\"}},\"id\":\"199092\",\"type\":\"ColumnDataSource\"},{\"attributes\":{},\"id\":\"199961\",\"type\":\"UnionRenderers\"},{\"attributes\":{},\"id\":\"200006\",\"type\":\"Selection\"},{\"attributes\":{\"bottom_units\":\"screen\",\"fill_alpha\":0.5,\"fill_color\":\"lightgrey\",\"left_units\":\"screen\",\"level\":\"overlay\",\"line_alpha\":1.0,\"line_color\":\"black\",\"line_dash\":[4,4],\"line_width\":2,\"right_units\":\"screen\",\"top_units\":\"screen\"},\"id\":\"199624\",\"type\":\"BoxAnnotation\"},{\"attributes\":{\"data\":{\"lat\":[{\"__ndarray__\":\"MJEc+jjTRUA=\",\"dtype\":\"float64\",\"order\":\"little\",\"shape\":[1]}],\"lon\":[{\"__ndarray__\":\"ZnZI95TaU8A=\",\"dtype\":\"float64\",\"order\":\"little\",\"shape\":[1]}],\"marker.size\":[{\"__ndarray__\":\"AAAAgINPIEE=\",\"dtype\":\"float64\",\"order\":\"little\",\"shape\":[1]}]},\"selected\":{\"id\":\"200050\"},\"selection_policy\":{\"id\":\"200049\"}},\"id\":\"199134\",\"type\":\"ColumnDataSource\"},{\"attributes\":{},\"id\":\"200007\",\"type\":\"UnionRenderers\"},{\"attributes\":{},\"id\":\"199294\",\"type\":\"CategoricalTicker\"},{\"attributes\":{\"data\":{\"lat\":[{\"__ndarray__\":\"2TLPAM3URUA=\",\"dtype\":\"float64\",\"order\":\"little\",\"shape\":[1]}],\"lon\":[{\"__ndarray__\":\"UYTU7azZU8A=\",\"dtype\":\"float64\",\"order\":\"little\",\"shape\":[1]}],\"marker.size\":[{\"__ndarray__\":\"AAAAgJneIkE=\",\"dtype\":\"float64\",\"order\":\"little\",\"shape\":[1]}]},\"selected\":{\"id\":\"200052\"},\"selection_policy\":{\"id\":\"200051\"}},\"id\":\"199135\",\"type\":\"ColumnDataSource\"},{\"attributes\":{},\"id\":\"199291\",\"type\":\"LinearScale\"},{\"attributes\":{\"callback\":null,\"renderers\":[{\"id\":\"199507\"}],\"tags\":[\"hv_created\"],\"tooltips\":[[\"year\",\"@{year}\"],[\"shelter_costs_rented\",\"@{shelter_costs_rented}\"]]},\"id\":\"199470\",\"type\":\"HoverTool\"},{\"attributes\":{},\"id\":\"199964\",\"type\":\"Selection\"},{\"attributes\":{\"axis_label\":\"2011\",\"bounds\":\"auto\",\"formatter\":{\"id\":\"199323\"},\"major_label_orientation\":1.5707963267948966,\"ticker\":{\"id\":\"199294\"}},\"id\":\"199293\",\"type\":\"CategoricalAxis\"},{\"attributes\":{\"axis\":{\"id\":\"199549\"},\"dimension\":1,\"grid_line_color\":null,\"ticker\":null},\"id\":\"199552\",\"type\":\"Grid\"},{\"attributes\":{\"data\":{\"lat\":[{\"__ndarray__\":\"ZDE9oyXkRUA=\",\"dtype\":\"float64\",\"order\":\"little\",\"shape\":[1]}],\"lon\":[{\"__ndarray__\":\"Zf6wKUDNU8A=\",\"dtype\":\"float64\",\"order\":\"little\",\"shape\":[1]}],\"marker.size\":[{\"__ndarray__\":\"AAAAAFZlEUE=\",\"dtype\":\"float64\",\"order\":\"little\",\"shape\":[1]}]},\"selected\":{\"id\":\"199968\"},\"selection_policy\":{\"id\":\"199967\"}},\"id\":\"199093\",\"type\":\"ColumnDataSource\"},{\"attributes\":{\"axis\":{\"id\":\"199293\"},\"grid_line_color\":null,\"ticker\":null},\"id\":\"199295\",\"type\":\"Grid\"},{\"attributes\":{},\"id\":\"199963\",\"type\":\"UnionRenderers\"},{\"attributes\":{},\"id\":\"200008\",\"type\":\"Selection\"},{\"attributes\":{},\"id\":\"199502\",\"type\":\"Selection\"},{\"attributes\":{\"data\":{\"lat\":[{\"__ndarray__\":\"OpzQVuvYRUA=\",\"dtype\":\"float64\",\"order\":\"little\",\"shape\":[1]}],\"lon\":[{\"__ndarray__\":\"kB3pRvfQU8A=\",\"dtype\":\"float64\",\"order\":\"little\",\"shape\":[1]}],\"marker.size\":[{\"__ndarray__\":\"AAAAAAyxGkE=\",\"dtype\":\"float64\",\"order\":\"little\",\"shape\":[1]}]},\"selected\":{\"id\":\"199836\"},\"selection_policy\":{\"id\":\"199835\"}},\"id\":\"199027\",\"type\":\"ColumnDataSource\"},{\"attributes\":{\"data\":{\"A_2006\":[266860,379400,165,69430,54690,44095,162850,1335],\"index\":[\"single_detached_house\",\"apartment_five_storeys_plus\",\"movable_dwelling\",\"semi_detached_house\",\"row_house\",\"duplex\",\"apartment_five_storeys_less\",\"other_house\"]},\"selected\":{\"id\":\"199253\"},\"selection_policy\":{\"id\":\"199272\"}},\"id\":\"199252\",\"type\":\"ColumnDataSource\"},{\"attributes\":{\"data\":{\"lat\":[{\"__ndarray__\":\"eLu5UxXRRUA=\",\"dtype\":\"float64\",\"order\":\"little\",\"shape\":[1]}],\"lon\":[{\"__ndarray__\":\"Qqu8ssXiU8A=\",\"dtype\":\"float64\",\"order\":\"little\",\"shape\":[1]}],\"marker.size\":[{\"__ndarray__\":\"AAAAAJWRG0E=\",\"dtype\":\"float64\",\"order\":\"little\",\"shape\":[1]}]},\"selected\":{\"id\":\"199928\"},\"selection_policy\":{\"id\":\"199927\"}},\"id\":\"199073\",\"type\":\"ColumnDataSource\"},{\"attributes\":{\"line_alpha\":0.1,\"line_color\":\"blue\",\"line_width\":2,\"x\":{\"field\":\"year\"},\"y\":{\"field\":\"shelter_costs_rented\"}},\"id\":\"199505\",\"type\":\"Line\"},{\"attributes\":{},\"id\":\"199940\",\"type\":\"Selection\"},{\"attributes\":{\"data\":{\"lat\":[{\"__ndarray__\":\"0r13aX3VRUA=\",\"dtype\":\"float64\",\"order\":\"little\",\"shape\":[1]}],\"lon\":[{\"__ndarray__\":\"jeshEizeU8A=\",\"dtype\":\"float64\",\"order\":\"little\",\"shape\":[1]}],\"marker.size\":[{\"__ndarray__\":\"AAAAANVxGkE=\",\"dtype\":\"float64\",\"order\":\"little\",\"shape\":[1]}]},\"selected\":{\"id\":\"199930\"},\"selection_policy\":{\"id\":\"199929\"}},\"id\":\"199074\",\"type\":\"ColumnDataSource\"},{\"attributes\":{\"css_classes\":[\"markdown\"],\"margin\":[5,5,5,5],\"name\":\"Markdown92063\",\"text\":\"&lt;h1&gt;Welcome To a Breakdown of the Toronto Real Estate Market 2001-2016&lt;/h1&gt;\"},\"id\":\"199009\",\"type\":\"panel.models.markup.HTML\"},{\"attributes\":{\"data\":{\"lat\":[{\"__ndarray__\":\"Ns/w6sXXRUA=\",\"dtype\":\"float64\",\"order\":\"little\",\"shape\":[1]}],\"lon\":[{\"__ndarray__\":\"h2SOBizeU8A=\",\"dtype\":\"float64\",\"order\":\"little\",\"shape\":[1]}],\"marker.size\":[{\"__ndarray__\":\"AAAAAFuzE0E=\",\"dtype\":\"float64\",\"order\":\"little\",\"shape\":[1]}]},\"selected\":{\"id\":\"199932\"},\"selection_policy\":{\"id\":\"199931\"}},\"id\":\"199075\",\"type\":\"ColumnDataSource\"},{\"attributes\":{\"data\":{\"lat\":[{\"__ndarray__\":\"smmEAt/cRUA=\",\"dtype\":\"float64\",\"order\":\"little\",\"shape\":[1]}],\"lon\":[{\"__ndarray__\":\"QRolGqrQU8A=\",\"dtype\":\"float64\",\"order\":\"little\",\"shape\":[1]}],\"marker.size\":[{\"__ndarray__\":\"AAAAAAaIEUE=\",\"dtype\":\"float64\",\"order\":\"little\",\"shape\":[1]}]},\"selected\":{\"id\":\"199934\"},\"selection_policy\":{\"id\":\"199933\"}},\"id\":\"199076\",\"type\":\"ColumnDataSource\"},{\"attributes\":{\"source\":{\"id\":\"199191\"}},\"id\":\"199198\",\"type\":\"CDSView\"},{\"attributes\":{\"line_color\":\"blue\",\"line_width\":2,\"x\":{\"field\":\"year\"},\"y\":{\"field\":\"shelter_costs_rented\"}},\"id\":\"199504\",\"type\":\"Line\"},{\"attributes\":{\"data\":{\"lat\":[{\"__ndarray__\":\"v2N47OfhRUA=\",\"dtype\":\"float64\",\"order\":\"little\",\"shape\":[1]}],\"lon\":[{\"__ndarray__\":\"pyXzG2jhU8A=\",\"dtype\":\"float64\",\"order\":\"little\",\"shape\":[1]}],\"marker.size\":[{\"__ndarray__\":\"AAAAAE7XD0E=\",\"dtype\":\"float64\",\"order\":\"little\",\"shape\":[1]}]},\"selected\":{\"id\":\"199838\"},\"selection_policy\":{\"id\":\"199837\"}},\"id\":\"199028\",\"type\":\"ColumnDataSource\"},{\"attributes\":{\"data\":{\"lat\":[{\"__ndarray__\":\"BEJnqafTRUA=\",\"dtype\":\"float64\",\"order\":\"little\",\"shape\":[1]}],\"lon\":[{\"__ndarray__\":\"FlHRYGzZU8A=\",\"dtype\":\"float64\",\"order\":\"little\",\"shape\":[1]}],\"marker.size\":[{\"__ndarray__\":\"AAAAAJfiGkE=\",\"dtype\":\"float64\",\"order\":\"little\",\"shape\":[1]}]},\"selected\":{\"id\":\"199936\"},\"selection_policy\":{\"id\":\"199935\"}},\"id\":\"199077\",\"type\":\"ColumnDataSource\"},{\"attributes\":{\"data\":{\"lat\":[{\"__ndarray__\":\"BCaqlnjZRUA=\",\"dtype\":\"float64\",\"order\":\"little\",\"shape\":[1]}],\"lon\":[{\"__ndarray__\":\"NshFMRDjU8A=\",\"dtype\":\"float64\",\"order\":\"little\",\"shape\":[1]}],\"marker.size\":[{\"__ndarray__\":\"AAAAAKOmFEE=\",\"dtype\":\"float64\",\"order\":\"little\",\"shape\":[1]}]},\"selected\":{\"id\":\"199938\"},\"selection_policy\":{\"id\":\"199937\"}},\"id\":\"199078\",\"type\":\"ColumnDataSource\"},{\"attributes\":{\"children\":[{\"id\":\"199673\"},{\"id\":\"199736\"}],\"margin\":[0,0,0,0],\"name\":\"Row93000\"},\"id\":\"199669\",\"type\":\"Row\"},{\"attributes\":{\"fill_alpha\":{\"value\":0.2},\"fill_color\":{\"value\":\"black\"},\"line_alpha\":{\"value\":0.2},\"top\":{\"field\":\"A_2001\"},\"width\":{\"value\":0.8},\"x\":{\"field\":\"index\"}},\"id\":\"199196\",\"type\":\"VBar\"},{\"attributes\":{\"data\":{\"lat\":[{\"__ndarray__\":\"Fg+1jqbTRUA=\",\"dtype\":\"float64\",\"order\":\"little\",\"shape\":[1]}],\"lon\":[{\"__ndarray__\":\"KoZQSq3gU8A=\",\"dtype\":\"float64\",\"order\":\"little\",\"shape\":[1]}],\"marker.size\":[{\"__ndarray__\":\"AAAAgMS7KUE=\",\"dtype\":\"float64\",\"order\":\"little\",\"shape\":[1]}]},\"selected\":{\"id\":\"199940\"},\"selection_policy\":{\"id\":\"199939\"}},\"id\":\"199079\",\"type\":\"ColumnDataSource\"},{\"attributes\":{\"data_source\":{\"id\":\"199191\"},\"glyph\":{\"id\":\"199194\"},\"hover_glyph\":null,\"muted_glyph\":{\"id\":\"199196\"},\"nonselection_glyph\":{\"id\":\"199195\"},\"selection_glyph\":null,\"view\":{\"id\":\"199198\"}},\"id\":\"199197\",\"type\":\"GlyphRenderer\"},{\"attributes\":{\"fill_color\":{\"value\":\"black\"},\"top\":{\"field\":\"A_2001\"},\"width\":{\"value\":0.8},\"x\":{\"field\":\"index\"}},\"id\":\"199194\",\"type\":\"VBar\"},{\"attributes\":{\"data\":{\"lat\":[{\"__ndarray__\":\"YeDaBdrlRUA=\",\"dtype\":\"float64\",\"order\":\"little\",\"shape\":[1]}],\"lon\":[{\"__ndarray__\":\"TL/I9BnUU8A=\",\"dtype\":\"float64\",\"order\":\"little\",\"shape\":[1]}],\"marker.size\":[{\"__ndarray__\":\"AAAAgIfYI0E=\",\"dtype\":\"float64\",\"order\":\"little\",\"shape\":[1]}]},\"selected\":{\"id\":\"199942\"},\"selection_policy\":{\"id\":\"199941\"}},\"id\":\"199080\",\"type\":\"ColumnDataSource\"},{\"attributes\":{\"line_alpha\":0.2,\"line_color\":\"blue\",\"line_width\":2,\"x\":{\"field\":\"year\"},\"y\":{\"field\":\"average_house_value\"}},\"id\":\"199571\",\"type\":\"Line\"},{\"attributes\":{\"data\":{\"lat\":[{\"__ndarray__\":\"gQrDVybURUA=\",\"dtype\":\"float64\",\"order\":\"little\",\"shape\":[1]}],\"lon\":[{\"__ndarray__\":\"S0KeNL/fU8A=\",\"dtype\":\"float64\",\"order\":\"little\",\"shape\":[1]}],\"marker.size\":[{\"__ndarray__\":\"AAAAAKeLFEE=\",\"dtype\":\"float64\",\"order\":\"little\",\"shape\":[1]}]},\"selected\":{\"id\":\"199944\"},\"selection_policy\":{\"id\":\"199943\"}},\"id\":\"199081\",\"type\":\"ColumnDataSource\"},{\"attributes\":{\"fill_alpha\":{\"value\":0.1},\"fill_color\":{\"value\":\"black\"},\"line_alpha\":{\"value\":0.1},\"top\":{\"field\":\"A_2001\"},\"width\":{\"value\":0.8},\"x\":{\"field\":\"index\"}},\"id\":\"199195\",\"type\":\"VBar\"},{\"attributes\":{\"format\":\"%.0f\"},\"id\":\"199199\",\"type\":\"PrintfTickFormatter\"},{\"attributes\":{\"data\":{\"lat\":[{\"__ndarray__\":\"fcgA9YvgRUA=\",\"dtype\":\"float64\",\"order\":\"little\",\"shape\":[1]}],\"lon\":[{\"__ndarray__\":\"1pwPES/bU8A=\",\"dtype\":\"float64\",\"order\":\"little\",\"shape\":[1]}],\"marker.size\":[{\"__ndarray__\":\"AAAAAMG2IkE=\",\"dtype\":\"float64\",\"order\":\"little\",\"shape\":[1]}]},\"selected\":{\"id\":\"199946\"},\"selection_policy\":{\"id\":\"199945\"}},\"id\":\"199082\",\"type\":\"ColumnDataSource\"},{\"attributes\":{},\"id\":\"199167\",\"type\":\"CategoricalScale\"},{\"attributes\":{\"axis\":{\"id\":\"199685\"},\"dimension\":1,\"grid_line_color\":null,\"ticker\":null},\"id\":\"199688\",\"type\":\"Grid\"},{\"attributes\":{\"client_comm_id\":\"57ce25a6ac084371ad99c9e4cf6a8926\",\"comm_id\":\"d02952e450aa4099b56dc1451777405c\",\"plot_id\":\"199007\"},\"id\":\"200853\",\"type\":\"panel.models.comm_manager.CommManager\"},{\"attributes\":{},\"id\":\"199686\",\"type\":\"BasicTicker\"},{\"attributes\":{\"data\":{\"lat\":[{\"__ndarray__\":\"AktLOLbVRUA=\",\"dtype\":\"float64\",\"order\":\"little\",\"shape\":[1]}],\"lon\":[{\"__ndarray__\":\"S0I7CgTYU8A=\",\"dtype\":\"float64\",\"order\":\"little\",\"shape\":[1]}],\"marker.size\":[{\"__ndarray__\":\"AAAAAP8cGUE=\",\"dtype\":\"float64\",\"order\":\"little\",\"shape\":[1]}]},\"selected\":{\"id\":\"199990\"},\"selection_policy\":{\"id\":\"199989\"}},\"id\":\"199104\",\"type\":\"ColumnDataSource\"},{\"attributes\":{\"line_alpha\":0.2,\"line_color\":\"pink\",\"line_width\":2,\"x\":{\"field\":\"year\"},\"y\":{\"field\":\"shelter_costs_owned\"}},\"id\":\"199444\",\"type\":\"Line\"},{\"attributes\":{},\"id\":\"199996\",\"type\":\"Selection\"},{\"attributes\":{\"data\":{\"lat\":[{\"__ndarray__\":\"g2Z8BCPYRUA=\",\"dtype\":\"float64\",\"order\":\"little\",\"shape\":[1]}],\"lon\":[{\"__ndarray__\":\"BhbZMSLdU8A=\",\"dtype\":\"float64\",\"order\":\"little\",\"shape\":[1]}],\"marker.size\":[{\"__ndarray__\":\"AAAAAMkTFkE=\",\"dtype\":\"float64\",\"order\":\"little\",\"shape\":[1]}]},\"selected\":{\"id\":\"199852\"},\"selection_policy\":{\"id\":\"199851\"}},\"id\":\"199035\",\"type\":\"ColumnDataSource\"},{\"attributes\":{\"data\":{\"lat\":[{\"__ndarray__\":\"YnVYn3rURUA=\",\"dtype\":\"float64\",\"order\":\"little\",\"shape\":[1]}],\"lon\":[{\"__ndarray__\":\"rDeLkxLXU8A=\",\"dtype\":\"float64\",\"order\":\"little\",\"shape\":[1]}],\"marker.size\":[{\"__ndarray__\":\"AAAAAAn2F0E=\",\"dtype\":\"float64\",\"order\":\"little\",\"shape\":[1]}]},\"selected\":{\"id\":\"200012\"},\"selection_policy\":{\"id\":\"200011\"}},\"id\":\"199115\",\"type\":\"ColumnDataSource\"},{\"attributes\":{},\"id\":\"199991\",\"type\":\"UnionRenderers\"},{\"attributes\":{\"data\":{\"lat\":[{\"__ndarray__\":\"vhr77UbXRUA=\",\"dtype\":\"float64\",\"order\":\"little\",\"shape\":[1]}],\"lon\":[{\"__ndarray__\":\"PJPsxxzaU8A=\",\"dtype\":\"float64\",\"order\":\"little\",\"shape\":[1]}],\"marker.size\":[{\"__ndarray__\":\"AAAAgJDwLUE=\",\"dtype\":\"float64\",\"order\":\"little\",\"shape\":[1]}]},\"selected\":{\"id\":\"199854\"},\"selection_policy\":{\"id\":\"199853\"}},\"id\":\"199036\",\"type\":\"ColumnDataSource\"},{\"attributes\":{\"fill_alpha\":{\"value\":0.2},\"fill_color\":{\"value\":\"green\"},\"line_alpha\":{\"value\":0.2},\"line_color\":{\"value\":\"green\"},\"size\":{\"units\":\"screen\",\"value\":5.477225575051661},\"x\":{\"field\":\"neighbourhood\"},\"y\":{\"field\":\"average_house_value\"}},\"id\":\"199778\",\"type\":\"Scatter\"},{\"attributes\":{\"data\":{\"lat\":[{\"__ndarray__\":\"Y6w+cHjaRUA=\",\"dtype\":\"float64\",\"order\":\"little\",\"shape\":[1]}],\"lon\":[{\"__ndarray__\":\"ZUMvivvTU8A=\",\"dtype\":\"float64\",\"order\":\"little\",\"shape\":[1]}],\"marker.size\":[{\"__ndarray__\":\"AAAAAC81EkE=\",\"dtype\":\"float64\",\"order\":\"little\",\"shape\":[1]}]},\"selected\":{\"id\":\"199992\"},\"selection_policy\":{\"id\":\"199991\"}},\"id\":\"199105\",\"type\":\"ColumnDataSource\"},{\"attributes\":{\"line_alpha\":0.1,\"line_color\":\"pink\",\"line_width\":2,\"x\":{\"field\":\"year\"},\"y\":{\"field\":\"shelter_costs_owned\"}},\"id\":\"199443\",\"type\":\"Line\"},{\"attributes\":{},\"id\":\"199754\",\"type\":\"CategoricalTicker\"},{\"attributes\":{\"data\":{\"lat\":[{\"__ndarray__\":\"4vBZCaPcRUA=\",\"dtype\":\"float64\",\"order\":\"little\",\"shape\":[1]}],\"lon\":[{\"__ndarray__\":\"B8EVFj3kU8A=\",\"dtype\":\"float64\",\"order\":\"little\",\"shape\":[1]}],\"marker.size\":[{\"__ndarray__\":\"AAAAAJ0IFkE=\",\"dtype\":\"float64\",\"order\":\"little\",\"shape\":[1]}]},\"selected\":{\"id\":\"200014\"},\"selection_policy\":{\"id\":\"200013\"}},\"id\":\"199116\",\"type\":\"ColumnDataSource\"},{\"attributes\":{},\"id\":\"199689\",\"type\":\"SaveTool\"},{\"attributes\":{},\"id\":\"199690\",\"type\":\"PanTool\"},{\"attributes\":{\"below\":[{\"id\":\"199418\"}],\"center\":[{\"id\":\"199421\"},{\"id\":\"199425\"}],\"left\":[{\"id\":\"199422\"}],\"margin\":[5,5,5,5],\"min_border_bottom\":10,\"min_border_left\":10,\"min_border_right\":10,\"min_border_top\":10,\"renderers\":[{\"id\":\"199445\"}],\"sizing_mode\":\"fixed\",\"title\":{\"id\":\"199410\"},\"toolbar\":{\"id\":\"199432\"},\"x_range\":{\"id\":\"199406\"},\"x_scale\":{\"id\":\"199414\"},\"y_range\":{\"id\":\"199407\"},\"y_scale\":{\"id\":\"199416\"}},\"id\":\"199409\",\"subtype\":\"Figure\",\"type\":\"Plot\"},{\"attributes\":{\"data\":{\"lat\":[{\"__ndarray__\":\"Qihrq0TZRUA=\",\"dtype\":\"float64\",\"order\":\"little\",\"shape\":[1]}],\"lon\":[{\"__ndarray__\":\"+y3PvebRU8A=\",\"dtype\":\"float64\",\"order\":\"little\",\"shape\":[1]}],\"marker.size\":[{\"__ndarray__\":\"AAAAAMbFGUE=\",\"dtype\":\"float64\",\"order\":\"little\",\"shape\":[1]}]},\"selected\":{\"id\":\"199994\"},\"selection_policy\":{\"id\":\"199993\"}},\"id\":\"199106\",\"type\":\"ColumnDataSource\"},{\"attributes\":{\"data\":{\"A_2016\":[269680,493270,95,71200,61565,48585,165575,2845],\"index\":[\"single_detached_house\",\"apartment_five_storeys_plus\",\"movable_dwelling\",\"semi_detached_house\",\"row_house\",\"duplex\",\"apartment_five_storeys_less\",\"other_house\"]},\"selected\":{\"id\":\"199375\"},\"selection_policy\":{\"id\":\"199394\"}},\"id\":\"199374\",\"type\":\"ColumnDataSource\"},{\"attributes\":{},\"id\":\"199693\",\"type\":\"ResetTool\"},{\"attributes\":{},\"id\":\"199691\",\"type\":\"WheelZoomTool\"},{\"attributes\":{\"data\":{\"lat\":[{\"__ndarray__\":\"mjORiF/WRUA=\",\"dtype\":\"float64\",\"order\":\"little\",\"shape\":[1]}],\"lon\":[{\"__ndarray__\":\"UM6rlaTfU8A=\",\"dtype\":\"float64\",\"order\":\"little\",\"shape\":[1]}],\"marker.size\":[{\"__ndarray__\":\"AAAAAPEYFUE=\",\"dtype\":\"float64\",\"order\":\"little\",\"shape\":[1]}]},\"selected\":{\"id\":\"200016\"},\"selection_policy\":{\"id\":\"200015\"}},\"id\":\"199117\",\"type\":\"ColumnDataSource\"},{\"attributes\":{\"overlay\":{\"id\":\"199694\"}},\"id\":\"199692\",\"type\":\"BoxZoomTool\"},{\"attributes\":{\"data\":{\"lat\":[{\"__ndarray__\":\"oMwWe3XVRUA=\",\"dtype\":\"float64\",\"order\":\"little\",\"shape\":[1]}],\"lon\":[{\"__ndarray__\":\"D+OgSm7XU8A=\",\"dtype\":\"float64\",\"order\":\"little\",\"shape\":[1]}],\"marker.size\":[{\"__ndarray__\":\"AAAAAHooHkE=\",\"dtype\":\"float64\",\"order\":\"little\",\"shape\":[1]}]},\"selected\":{\"id\":\"199850\"},\"selection_policy\":{\"id\":\"199849\"}},\"id\":\"199034\",\"type\":\"ColumnDataSource\"},{\"attributes\":{\"text\":\"average monthly shelter costs for owned dwelling in Toronto\",\"text_color\":{\"value\":\"black\"},\"text_font_size\":{\"value\":\"12pt\"}},\"id\":\"199410\",\"type\":\"Title\"},{\"attributes\":{\"data\":{\"lat\":[{\"__ndarray__\":\"DK2Q6iLYRUA=\",\"dtype\":\"float64\",\"order\":\"little\",\"shape\":[1]}],\"lon\":[{\"__ndarray__\":\"w3b/cSXcU8A=\",\"dtype\":\"float64\",\"order\":\"little\",\"shape\":[1]}],\"marker.size\":[{\"__ndarray__\":\"AAAAAMvtGkE=\",\"dtype\":\"float64\",\"order\":\"little\",\"shape\":[1]}]},\"selected\":{\"id\":\"199996\"},\"selection_policy\":{\"id\":\"199995\"}},\"id\":\"199107\",\"type\":\"ColumnDataSource\"},{\"attributes\":{\"css_classes\":[\"markdown\"],\"margin\":[5,5,5,5],\"name\":\"Markdown92070\",\"text\":\"&lt;h2&gt;Average House Value, Toronto 2001-2016 by Neighbourhood&lt;/h2&gt;\"},\"id\":\"199014\",\"type\":\"panel.models.markup.HTML\"},{\"attributes\":{\"callback\":null,\"renderers\":[{\"id\":\"199445\"}],\"tags\":[\"hv_created\"],\"tooltips\":[[\"year\",\"@{year}\"],[\"shelter_costs_owned\",\"@{shelter_costs_owned}\"]]},\"id\":\"199408\",\"type\":\"HoverTool\"},{\"attributes\":{\"data\":{\"lat\":[{\"__ndarray__\":\"M597KLTSRUA=\",\"dtype\":\"float64\",\"order\":\"little\",\"shape\":[1]}],\"lon\":[{\"__ndarray__\":\"/0cB/VncU8A=\",\"dtype\":\"float64\",\"order\":\"little\",\"shape\":[1]}],\"marker.size\":[{\"__ndarray__\":\"AAAAACUQH0E=\",\"dtype\":\"float64\",\"order\":\"little\",\"shape\":[1]}]},\"selected\":{\"id\":\"200018\"},\"selection_policy\":{\"id\":\"200017\"}},\"id\":\"199118\",\"type\":\"ColumnDataSource\"},{\"attributes\":{\"margin\":[0,0,0,0],\"tabs\":[{\"id\":\"199012\"},{\"id\":\"199156\"},{\"id\":\"199403\"},{\"id\":\"199530\"},{\"id\":\"199595\"},{\"id\":\"199802\"}]},\"id\":\"199007\",\"type\":\"Tabs\"},{\"attributes\":{\"data\":{\"lat\":[{\"__ndarray__\":\"xI7vIDDZRUA=\",\"dtype\":\"float64\",\"order\":\"little\",\"shape\":[1]}],\"lon\":[{\"__ndarray__\":\"4JgrpHjVU8A=\",\"dtype\":\"float64\",\"order\":\"little\",\"shape\":[1]}],\"marker.size\":[{\"__ndarray__\":\"AAAAAFYQG0E=\",\"dtype\":\"float64\",\"order\":\"little\",\"shape\":[1]}]},\"selected\":{\"id\":\"199998\"},\"selection_policy\":{\"id\":\"199997\"}},\"id\":\"199108\",\"type\":\"ColumnDataSource\"},{\"attributes\":{\"factors\":[\"Bridle Path-Sunnybrook-York Mills\",\"Forest Hill South\",\"Lawrence Park South\",\"Rosedale-Moore Park\",\"St.Andrew-Windfields\",\"Casa Loma\",\"Bedford Park-Nortown\",\"Forest Hill North\",\"Kingsway South\",\"Yonge-St.Clair\"],\"tags\":[[[\"neighbourhood\",\"neighbourhood\",null]]]},\"id\":\"199741\",\"type\":\"FactorRange\"},{\"attributes\":{},\"id\":\"199749\",\"type\":\"CategoricalScale\"},{\"attributes\":{\"data\":{\"lat\":[{\"__ndarray__\":\"AfLrqGbXRUA=\",\"dtype\":\"float64\",\"order\":\"little\",\"shape\":[1]}],\"lon\":[{\"__ndarray__\":\"rxLigEzYU8A=\",\"dtype\":\"float64\",\"order\":\"little\",\"shape\":[1]}],\"marker.size\":[{\"__ndarray__\":\"AAAAAAiwMEE=\",\"dtype\":\"float64\",\"order\":\"little\",\"shape\":[1]}]},\"selected\":{\"id\":\"200020\"},\"selection_policy\":{\"id\":\"200019\"}},\"id\":\"199119\",\"type\":\"ColumnDataSource\"},{\"attributes\":{\"axis_label\":\"average_house_value\",\"bounds\":\"auto\",\"formatter\":{\"id\":\"199781\"},\"major_label_orientation\":\"horizontal\",\"ticker\":{\"id\":\"199757\"}},\"id\":\"199756\",\"type\":\"LinearAxis\"},{\"attributes\":{\"fill_color\":{\"value\":\"green\"},\"top\":{\"field\":\"A_2016\"},\"width\":{\"value\":0.8},\"x\":{\"field\":\"index\"}},\"id\":\"199377\",\"type\":\"VBar\"},{\"attributes\":{},\"id\":\"199449\",\"type\":\"BasicTickFormatter\"},{\"attributes\":{\"css_classes\":[\"markdown\"],\"margin\":[5,5,5,5],\"name\":\"Markdown92802\",\"text\":\"&lt;h2&gt;Average Monthly Shelter Costs for Owned and Rented Dwellings, Toronto&lt;/h2&gt;\"},\"id\":\"199405\",\"type\":\"panel.models.markup.HTML\"},{\"attributes\":{\"children\":[{\"id\":\"199158\"},{\"id\":\"199162\"},{\"id\":\"199223\"},{\"id\":\"199284\"},{\"id\":\"199345\"}],\"margin\":[0,0,0,0],\"name\":\"Column92565\"},\"id\":\"199157\",\"type\":\"Column\"},{\"attributes\":{\"axis\":{\"id\":\"199753\"},\"grid_line_color\":null,\"ticker\":null},\"id\":\"199755\",\"type\":\"Grid\"},{\"attributes\":{\"data\":{\"lat\":[{\"__ndarray__\":\"jraFQl/URUA=\",\"dtype\":\"float64\",\"order\":\"little\",\"shape\":[1]}],\"lon\":[{\"__ndarray__\":\"f+1oNcfaU8A=\",\"dtype\":\"float64\",\"order\":\"little\",\"shape\":[1]}],\"marker.size\":[{\"__ndarray__\":\"AAAAgN/8IkE=\",\"dtype\":\"float64\",\"order\":\"little\",\"shape\":[1]}]},\"selected\":{\"id\":\"200000\"},\"selection_policy\":{\"id\":\"199999\"}},\"id\":\"199109\",\"type\":\"ColumnDataSource\"},{\"attributes\":{\"active_drag\":\"auto\",\"active_inspect\":\"auto\",\"active_multi\":null,\"active_scroll\":\"auto\",\"active_tap\":\"auto\",\"tools\":[{\"id\":\"199672\"},{\"id\":\"199689\"},{\"id\":\"199690\"},{\"id\":\"199691\"},{\"id\":\"199692\"},{\"id\":\"199693\"}]},\"id\":\"199695\",\"type\":\"Toolbar\"},{\"attributes\":{\"end\":1852.7578571428571,\"reset_end\":1852.7578571428571,\"reset_start\":755.435,\"start\":755.435,\"tags\":[[[\"shelter_costs_owned\",\"shelter_costs_owned\",null]]]},\"id\":\"199407\",\"type\":\"Range1d\"},{\"attributes\":{\"data\":{\"lat\":[{\"__ndarray__\":\"J5F1Hx3pRUA=\",\"dtype\":\"float64\",\"order\":\"little\",\"shape\":[1]}],\"lon\":[{\"__ndarray__\":\"ueQTDe3LU8A=\",\"dtype\":\"float64\",\"order\":\"little\",\"shape\":[1]}],\"marker.size\":[{\"__ndarray__\":\"AAAAAHv3FkE=\",\"dtype\":\"float64\",\"order\":\"little\",\"shape\":[1]}]},\"selected\":{\"id\":\"200022\"},\"selection_policy\":{\"id\":\"200021\"}},\"id\":\"199120\",\"type\":\"ColumnDataSource\"},{\"attributes\":{\"line_color\":\"pink\",\"line_width\":2,\"x\":{\"field\":\"year\"},\"y\":{\"field\":\"shelter_costs_owned\"}},\"id\":\"199442\",\"type\":\"Line\"},{\"attributes\":{\"bottom_units\":\"screen\",\"fill_alpha\":0.5,\"fill_color\":\"lightgrey\",\"left_units\":\"screen\",\"level\":\"overlay\",\"line_alpha\":1.0,\"line_color\":\"black\",\"line_dash\":[4,4],\"line_width\":2,\"right_units\":\"screen\",\"top_units\":\"screen\"},\"id\":\"199694\",\"type\":\"BoxAnnotation\"},{\"attributes\":{\"data\":{\"lat\":[{\"__ndarray__\":\"WFTE6STkRUA=\",\"dtype\":\"float64\",\"order\":\"little\",\"shape\":[1]}],\"lon\":[{\"__ndarray__\":\"MN6HaqfJU8A=\",\"dtype\":\"float64\",\"order\":\"little\",\"shape\":[1]}],\"marker.size\":[{\"__ndarray__\":\"AAAAABsEGUE=\",\"dtype\":\"float64\",\"order\":\"little\",\"shape\":[1]}]},\"selected\":{\"id\":\"199856\"},\"selection_policy\":{\"id\":\"199855\"}},\"id\":\"199037\",\"type\":\"ColumnDataSource\"},{\"attributes\":{\"data\":{\"lat\":[{\"__ndarray__\":\"iITO76TgRUA=\",\"dtype\":\"float64\",\"order\":\"little\",\"shape\":[1]}],\"lon\":[{\"__ndarray__\":\"YA1IqSHVU8A=\",\"dtype\":\"float64\",\"order\":\"little\",\"shape\":[1]}],\"marker.size\":[{\"__ndarray__\":\"AAAAAPK/G0E=\",\"dtype\":\"float64\",\"order\":\"little\",\"shape\":[1]}]},\"selected\":{\"id\":\"200002\"},\"selection_policy\":{\"id\":\"200001\"}},\"id\":\"199110\",\"type\":\"ColumnDataSource\"},{\"attributes\":{\"data\":{\"lat\":[{\"__ndarray__\":\"FZay62LURUA=\",\"dtype\":\"float64\",\"order\":\"little\",\"shape\":[1]}],\"lon\":[{\"__ndarray__\":\"+x/D1xXfU8A=\",\"dtype\":\"float64\",\"order\":\"little\",\"shape\":[1]}],\"marker.size\":[{\"__ndarray__\":\"AAAAACTZIEE=\",\"dtype\":\"float64\",\"order\":\"little\",\"shape\":[1]}]},\"selected\":{\"id\":\"200024\"},\"selection_policy\":{\"id\":\"200023\"}},\"id\":\"199121\",\"type\":\"ColumnDataSource\"},{\"attributes\":{\"data\":{\"lat\":[{\"__ndarray__\":\"hrO2hNfbRUA=\",\"dtype\":\"float64\",\"order\":\"little\",\"shape\":[1]}],\"lon\":[{\"__ndarray__\":\"xgMlYM/hU8A=\",\"dtype\":\"float64\",\"order\":\"little\",\"shape\":[1]}],\"marker.size\":[{\"__ndarray__\":\"AAAAAN2+GEE=\",\"dtype\":\"float64\",\"order\":\"little\",\"shape\":[1]}]},\"selected\":{\"id\":\"200004\"},\"selection_policy\":{\"id\":\"200003\"}},\"id\":\"199111\",\"type\":\"ColumnDataSource\"},{\"attributes\":{},\"id\":\"199550\",\"type\":\"BasicTicker\"},{\"attributes\":{\"data\":{\"lat\":[{\"__ndarray__\":\"l0W0X2/URUA=\",\"dtype\":\"float64\",\"order\":\"little\",\"shape\":[1]}],\"lon\":[{\"__ndarray__\":\"cHE70UHYU8A=\",\"dtype\":\"float64\",\"order\":\"little\",\"shape\":[1]}],\"marker.size\":[{\"__ndarray__\":\"AAAAAJbJGEE=\",\"dtype\":\"float64\",\"order\":\"little\",\"shape\":[1]}]},\"selected\":{\"id\":\"199858\"},\"selection_policy\":{\"id\":\"199857\"}},\"id\":\"199038\",\"type\":\"ColumnDataSource\"},{\"attributes\":{\"axis_label\":\"neighbourhood\",\"bounds\":\"auto\",\"formatter\":{\"id\":\"199783\"},\"major_label_orientation\":1.5707963267948966,\"ticker\":{\"id\":\"199754\"}},\"id\":\"199753\",\"type\":\"CategoricalAxis\"},{\"attributes\":{},\"id\":\"199727\",\"type\":\"UnionRenderers\"},{\"attributes\":{\"text\":\"Top 10 Highest Average House Value Suburbs, Toronto 2001-2016\",\"text_color\":{\"value\":\"black\"},\"text_font_size\":{\"value\":\"12pt\"}},\"id\":\"199745\",\"type\":\"Title\"},{\"attributes\":{\"data\":{\"lat\":[{\"__ndarray__\":\"uff0ARbbRUA=\",\"dtype\":\"float64\",\"order\":\"little\",\"shape\":[1]}],\"lon\":[{\"__ndarray__\":\"Q4QLu+DfU8A=\",\"dtype\":\"float64\",\"order\":\"little\",\"shape\":[1]}],\"marker.size\":[{\"__ndarray__\":\"AAAAAMpPGkE=\",\"dtype\":\"float64\",\"order\":\"little\",\"shape\":[1]}]},\"selected\":{\"id\":\"200026\"},\"selection_policy\":{\"id\":\"200025\"}},\"id\":\"199122\",\"type\":\"ColumnDataSource\"},{\"attributes\":{\"children\":[{\"id\":\"199737\"},{\"id\":\"199739\"}],\"margin\":[0,0,0,0],\"name\":\"Column93007\"},\"id\":\"199736\",\"type\":\"Column\"},{\"attributes\":{\"data\":{\"lat\":[{\"__ndarray__\":\"6NzMbADXRUA=\",\"dtype\":\"float64\",\"order\":\"little\",\"shape\":[1]}],\"lon\":[{\"__ndarray__\":\"OhQuebbWU8A=\",\"dtype\":\"float64\",\"order\":\"little\",\"shape\":[1]}],\"marker.size\":[{\"__ndarray__\":\"AAAAgDbNI0E=\",\"dtype\":\"float64\",\"order\":\"little\",\"shape\":[1]}]},\"selected\":{\"id\":\"200006\"},\"selection_policy\":{\"id\":\"200005\"}},\"id\":\"199112\",\"type\":\"ColumnDataSource\"},{\"attributes\":{\"data\":{\"lat\":[{\"__ndarray__\":\"LWO//lbbRUA=\",\"dtype\":\"float64\",\"order\":\"little\",\"shape\":[1]}],\"lon\":[{\"__ndarray__\":\"lLK5KALSU8A=\",\"dtype\":\"float64\",\"order\":\"little\",\"shape\":[1]}],\"marker.size\":[{\"__ndarray__\":\"AAAAAO2jFUE=\",\"dtype\":\"float64\",\"order\":\"little\",\"shape\":[1]}]},\"selected\":{\"id\":\"199860\"},\"selection_policy\":{\"id\":\"199859\"}},\"id\":\"199039\",\"type\":\"ColumnDataSource\"},{\"attributes\":{\"margin\":[5,5,5,5],\"name\":\"VSpacer92997\",\"sizing_mode\":\"stretch_height\"},\"id\":\"199668\",\"type\":\"Spacer\"},{\"attributes\":{\"css_classes\":[\"markdown\"],\"margin\":[5,5,5,5],\"name\":\"Markdown93008\",\"text\":\"&lt;h2&gt;Top 10 Most Expensive Neighbourhoods 2001-2016&lt;/h2&gt;\"},\"id\":\"199740\",\"type\":\"panel.models.markup.HTML\"},{\"attributes\":{\"data\":{\"lat\":[{\"__ndarray__\":\"L+rmJIzeRUA=\",\"dtype\":\"float64\",\"order\":\"little\",\"shape\":[1]}],\"lon\":[{\"__ndarray__\":\"pRAKQuDNU8A=\",\"dtype\":\"float64\",\"order\":\"little\",\"shape\":[1]}],\"marker.size\":[{\"__ndarray__\":\"AAAAAK8hFEE=\",\"dtype\":\"float64\",\"order\":\"little\",\"shape\":[1]}]},\"selected\":{\"id\":\"200028\"},\"selection_policy\":{\"id\":\"200027\"}},\"id\":\"199123\",\"type\":\"ColumnDataSource\"},{\"attributes\":{},\"id\":\"199751\",\"type\":\"LinearScale\"},{\"attributes\":{\"data\":{\"lat\":[{\"__ndarray__\":\"0N980bvkRUA=\",\"dtype\":\"float64\",\"order\":\"little\",\"shape\":[1]}],\"lon\":[{\"__ndarray__\":\"lCyKy2/VU8A=\",\"dtype\":\"float64\",\"order\":\"little\",\"shape\":[1]}],\"marker.size\":[{\"__ndarray__\":\"AAAAAP3JFkE=\",\"dtype\":\"float64\",\"order\":\"little\",\"shape\":[1]}]},\"selected\":{\"id\":\"200008\"},\"selection_policy\":{\"id\":\"200007\"}},\"id\":\"199113\",\"type\":\"ColumnDataSource\"},{\"attributes\":{\"child\":{\"id\":\"199157\"},\"name\":\"Column92565\",\"title\":\"Yearly Dwelling Types\"},\"id\":\"199403\",\"type\":\"Panel\"},{\"attributes\":{\"data\":{\"lat\":[{\"__ndarray__\":\"/pcxJvneRUA=\",\"dtype\":\"float64\",\"order\":\"little\",\"shape\":[1]}],\"lon\":[{\"__ndarray__\":\"G06yOJDcU8A=\",\"dtype\":\"float64\",\"order\":\"little\",\"shape\":[1]}],\"marker.size\":[{\"__ndarray__\":\"AAAAgBLVIEE=\",\"dtype\":\"float64\",\"order\":\"little\",\"shape\":[1]}]},\"selected\":{\"id\":\"199862\"},\"selection_policy\":{\"id\":\"199861\"}},\"id\":\"199040\",\"type\":\"ColumnDataSource\"},{\"attributes\":{\"data\":{\"lat\":[{\"__ndarray__\":\"lz1kJUHVRUA=\",\"dtype\":\"float64\",\"order\":\"little\",\"shape\":[1]}],\"lon\":[{\"__ndarray__\":\"HFI1D9riU8A=\",\"dtype\":\"float64\",\"order\":\"little\",\"shape\":[1]}],\"marker.size\":[{\"__ndarray__\":\"AAAAAGVeJ0E=\",\"dtype\":\"float64\",\"order\":\"little\",\"shape\":[1]}]},\"selected\":{\"id\":\"200010\"},\"selection_policy\":{\"id\":\"200009\"}},\"id\":\"199114\",\"type\":\"ColumnDataSource\"},{\"attributes\":{\"axis\":{\"id\":\"199756\"},\"dimension\":1,\"grid_line_color\":null,\"ticker\":null},\"id\":\"199759\",\"type\":\"Grid\"},{\"attributes\":{\"data\":{\"lat\":[{\"__ndarray__\":\"s+OvXn/RRUA=\",\"dtype\":\"float64\",\"order\":\"little\",\"shape\":[1]}],\"lon\":[{\"__ndarray__\":\"uO9qHB7cU8A=\",\"dtype\":\"float64\",\"order\":\"little\",\"shape\":[1]}],\"marker.size\":[{\"__ndarray__\":\"AAAAANpPG0E=\",\"dtype\":\"float64\",\"order\":\"little\",\"shape\":[1]}]},\"selected\":{\"id\":\"200030\"},\"selection_policy\":{\"id\":\"200029\"}},\"id\":\"199124\",\"type\":\"ColumnDataSource\"},{\"attributes\":{\"source\":{\"id\":\"199773\"}},\"id\":\"199780\",\"type\":\"CDSView\"},{\"attributes\":{\"data_source\":{\"id\":\"199773\"},\"glyph\":{\"id\":\"199776\"},\"hover_glyph\":null,\"muted_glyph\":{\"id\":\"199778\"},\"nonselection_glyph\":{\"id\":\"199777\"},\"selection_glyph\":null,\"view\":{\"id\":\"199780\"}},\"id\":\"199779\",\"type\":\"GlyphRenderer\"},{\"attributes\":{},\"id\":\"199757\",\"type\":\"BasicTicker\"},{\"attributes\":{\"data\":{\"lat\":[{\"__ndarray__\":\"6srKo9nfRUA=\",\"dtype\":\"float64\",\"order\":\"little\",\"shape\":[1]}],\"lon\":[{\"__ndarray__\":\"O0pvyXvMU8A=\",\"dtype\":\"float64\",\"order\":\"little\",\"shape\":[1]}],\"marker.size\":[{\"__ndarray__\":\"AAAAAHaLFkE=\",\"dtype\":\"float64\",\"order\":\"little\",\"shape\":[1]}]},\"selected\":{\"id\":\"199906\"},\"selection_policy\":{\"id\":\"199905\"}},\"id\":\"199062\",\"type\":\"ColumnDataSource\"},{\"attributes\":{},\"id\":\"199944\",\"type\":\"Selection\"},{\"attributes\":{},\"id\":\"199951\",\"type\":\"UnionRenderers\"},{\"attributes\":{\"overlay\":{\"id\":\"199558\"}},\"id\":\"199556\",\"type\":\"BoxZoomTool\"},{\"attributes\":{\"data\":{\"lat\":[{\"__ndarray__\":\"RbC7itbeRUA=\",\"dtype\":\"float64\",\"order\":\"little\",\"shape\":[1]}],\"lon\":[{\"__ndarray__\":\"wHDX4LfPU8A=\",\"dtype\":\"float64\",\"order\":\"little\",\"shape\":[1]}],\"marker.size\":[{\"__ndarray__\":\"AAAAAJpqEEE=\",\"dtype\":\"float64\",\"order\":\"little\",\"shape\":[1]}]},\"selected\":{\"id\":\"199886\"},\"selection_policy\":{\"id\":\"199885\"}},\"id\":\"199052\",\"type\":\"ColumnDataSource\"},{\"attributes\":{\"child\":{\"id\":\"199404\"},\"name\":\"Column92814\",\"title\":\"Shelter Costs\"},\"id\":\"199530\",\"type\":\"Panel\"},{\"attributes\":{\"format\":\"%.0f\"},\"id\":\"199711\",\"type\":\"PrintfTickFormatter\"},{\"attributes\":{},\"id\":\"199576\",\"type\":\"BasicTickFormatter\"},{\"attributes\":{\"data\":{\"lat\":[{\"__ndarray__\":\"qebm2bTiRUA=\",\"dtype\":\"float64\",\"order\":\"little\",\"shape\":[1]}],\"lon\":[{\"__ndarray__\":\"xW0b49bVU8A=\",\"dtype\":\"float64\",\"order\":\"little\",\"shape\":[1]}],\"marker.size\":[{\"__ndarray__\":\"AAAAAJiUFkE=\",\"dtype\":\"float64\",\"order\":\"little\",\"shape\":[1]}]},\"selected\":{\"id\":\"199908\"},\"selection_policy\":{\"id\":\"199907\"}},\"id\":\"199063\",\"type\":\"ColumnDataSource\"},{\"attributes\":{},\"id\":\"199946\",\"type\":\"Selection\"},{\"attributes\":{},\"id\":\"199957\",\"type\":\"UnionRenderers\"},{\"attributes\":{\"children\":[{\"id\":\"199532\"},{\"id\":\"199536\"}],\"margin\":[0,0,0,0],\"name\":\"Column93141\"},\"id\":\"199531\",\"type\":\"Column\"},{\"attributes\":{\"data\":{\"lat\":[{\"__ndarray__\":\"Zgz3ulrcRUA=\",\"dtype\":\"float64\",\"order\":\"little\",\"shape\":[1]}],\"lon\":[{\"__ndarray__\":\"Bh5riCLjU8A=\",\"dtype\":\"float64\",\"order\":\"little\",\"shape\":[1]}],\"marker.size\":[{\"__ndarray__\":\"AAAAANVgEEE=\",\"dtype\":\"float64\",\"order\":\"little\",\"shape\":[1]}]},\"selected\":{\"id\":\"199888\"},\"selection_policy\":{\"id\":\"199887\"}},\"id\":\"199053\",\"type\":\"ColumnDataSource\"},{\"attributes\":{},\"id\":\"199956\",\"type\":\"Selection\"},{\"attributes\":{},\"id\":\"199986\",\"type\":\"Selection\"},{\"attributes\":{},\"id\":\"199947\",\"type\":\"UnionRenderers\"},{\"attributes\":{\"format\":\"%.0f\"},\"id\":\"199574\",\"type\":\"PrintfTickFormatter\"},{\"attributes\":{},\"id\":\"199774\",\"type\":\"Selection\"},{\"attributes\":{\"data\":{\"lat\":[{\"__ndarray__\":\"PblDFivURUA=\",\"dtype\":\"float64\",\"order\":\"little\",\"shape\":[1]}],\"lon\":[{\"__ndarray__\":\"DI0O5dfdU8A=\",\"dtype\":\"float64\",\"order\":\"little\",\"shape\":[1]}],\"marker.size\":[{\"__ndarray__\":\"AAAAACJAIEE=\",\"dtype\":\"float64\",\"order\":\"little\",\"shape\":[1]}]},\"selected\":{\"id\":\"199910\"},\"selection_policy\":{\"id\":\"199909\"}},\"id\":\"199064\",\"type\":\"ColumnDataSource\"},{\"attributes\":{\"source\":{\"id\":\"199703\"}},\"id\":\"199710\",\"type\":\"CDSView\"},{\"attributes\":{},\"id\":\"199955\",\"type\":\"UnionRenderers\"},{\"attributes\":{\"bottom_units\":\"screen\",\"fill_alpha\":0.5,\"fill_color\":\"lightgrey\",\"left_units\":\"screen\",\"level\":\"overlay\",\"line_alpha\":1.0,\"line_color\":\"black\",\"line_dash\":[4,4],\"line_width\":2,\"right_units\":\"screen\",\"top_units\":\"screen\"},\"id\":\"199558\",\"type\":\"BoxAnnotation\"},{\"attributes\":{\"data\":{\"lat\":[{\"__ndarray__\":\"vL8PQTTcRUA=\",\"dtype\":\"float64\",\"order\":\"little\",\"shape\":[1]}],\"lon\":[{\"__ndarray__\":\"aU9ugP7bU8A=\",\"dtype\":\"float64\",\"order\":\"little\",\"shape\":[1]}],\"marker.size\":[{\"__ndarray__\":\"AAAAgNFcIUE=\",\"dtype\":\"float64\",\"order\":\"little\",\"shape\":[1]}]},\"selected\":{\"id\":\"199890\"},\"selection_policy\":{\"id\":\"199889\"}},\"id\":\"199054\",\"type\":\"ColumnDataSource\"},{\"attributes\":{},\"id\":\"199948\",\"type\":\"Selection\"},{\"attributes\":{\"fill_alpha\":{\"value\":0.2},\"fill_color\":{\"field\":\"Variable\",\"transform\":{\"id\":\"199702\"}},\"line_alpha\":{\"value\":0.2},\"top\":{\"field\":\"value\"},\"width\":{\"value\":0.8},\"x\":{\"field\":\"xoffsets\"}},\"id\":\"199708\",\"type\":\"VBar\"},{\"attributes\":{},\"id\":\"199988\",\"type\":\"Selection\"},{\"attributes\":{\"data\":{\"lat\":[{\"__ndarray__\":\"OXTleZHSRUA=\",\"dtype\":\"float64\",\"order\":\"little\",\"shape\":[1]}],\"lon\":[{\"__ndarray__\":\"2OZSnvHdU8A=\",\"dtype\":\"float64\",\"order\":\"little\",\"shape\":[1]}],\"marker.size\":[{\"__ndarray__\":\"AAAAgIPKIUE=\",\"dtype\":\"float64\",\"order\":\"little\",\"shape\":[1]}]},\"selected\":{\"id\":\"199912\"},\"selection_policy\":{\"id\":\"199911\"}},\"id\":\"199065\",\"type\":\"ColumnDataSource\"},{\"attributes\":{},\"id\":\"199954\",\"type\":\"Selection\"},{\"attributes\":{\"active_drag\":\"auto\",\"active_inspect\":\"auto\",\"active_multi\":null,\"active_scroll\":\"auto\",\"active_tap\":\"auto\",\"tools\":[{\"id\":\"199535\"},{\"id\":\"199553\"},{\"id\":\"199554\"},{\"id\":\"199555\"},{\"id\":\"199556\"},{\"id\":\"199557\"}]},\"id\":\"199559\",\"type\":\"Toolbar\"},{\"attributes\":{},\"id\":\"199949\",\"type\":\"UnionRenderers\"},{\"attributes\":{\"fill_color\":{\"field\":\"Variable\",\"transform\":{\"id\":\"199702\"}},\"top\":{\"field\":\"value\"},\"width\":{\"value\":0.8},\"x\":{\"field\":\"xoffsets\"}},\"id\":\"199706\",\"type\":\"VBar\"},{\"attributes\":{\"data\":{\"lat\":[{\"__ndarray__\":\"vzWo5DnURUA=\",\"dtype\":\"float64\",\"order\":\"little\",\"shape\":[1]}],\"lon\":[{\"__ndarray__\":\"z7rKAyblU8A=\",\"dtype\":\"float64\",\"order\":\"little\",\"shape\":[1]}],\"marker.size\":[{\"__ndarray__\":\"AAAAAFdHGEE=\",\"dtype\":\"float64\",\"order\":\"little\",\"shape\":[1]}]},\"selected\":{\"id\":\"199892\"},\"selection_policy\":{\"id\":\"199891\"}},\"id\":\"199055\",\"type\":\"ColumnDataSource\"},{\"attributes\":{},\"id\":\"199953\",\"type\":\"UnionRenderers\"},{\"attributes\":{\"data_source\":{\"id\":\"199703\"},\"glyph\":{\"id\":\"199706\"},\"hover_glyph\":null,\"muted_glyph\":{\"id\":\"199708\"},\"nonselection_glyph\":{\"id\":\"199707\"},\"selection_glyph\":null,\"view\":{\"id\":\"199710\"}},\"id\":\"199709\",\"type\":\"GlyphRenderer\"},{\"attributes\":{},\"id\":\"199950\",\"type\":\"Selection\"},{\"attributes\":{},\"id\":\"199989\",\"type\":\"UnionRenderers\"},{\"attributes\":{\"data\":{\"lat\":[{\"__ndarray__\":\"ctOPGzjlRUA=\",\"dtype\":\"float64\",\"order\":\"little\",\"shape\":[1]}],\"lon\":[{\"__ndarray__\":\"yKV9tVvLU8A=\",\"dtype\":\"float64\",\"order\":\"little\",\"shape\":[1]}],\"marker.size\":[{\"__ndarray__\":\"AAAAAJosGkE=\",\"dtype\":\"float64\",\"order\":\"little\",\"shape\":[1]}]},\"selected\":{\"id\":\"199914\"},\"selection_policy\":{\"id\":\"199913\"}},\"id\":\"199066\",\"type\":\"ColumnDataSource\"},{\"attributes\":{},\"id\":\"199952\",\"type\":\"Selection\"},{\"attributes\":{},\"id\":\"199555\",\"type\":\"WheelZoomTool\"},{\"attributes\":{\"data\":{\"lat\":[{\"__ndarray__\":\"02J0aZHSRUA=\",\"dtype\":\"float64\",\"order\":\"little\",\"shape\":[1]}],\"lon\":[{\"__ndarray__\":\"5aQofmnkU8A=\",\"dtype\":\"float64\",\"order\":\"little\",\"shape\":[1]}],\"marker.size\":[{\"__ndarray__\":\"AAAAAJDiEkE=\",\"dtype\":\"float64\",\"order\":\"little\",\"shape\":[1]}]},\"selected\":{\"id\":\"199894\"},\"selection_policy\":{\"id\":\"199893\"}},\"id\":\"199056\",\"type\":\"ColumnDataSource\"},{\"attributes\":{},\"id\":\"199945\",\"type\":\"UnionRenderers\"},{\"attributes\":{},\"id\":\"199557\",\"type\":\"ResetTool\"},{\"attributes\":{\"css_classes\":[\"markdown\"],\"margin\":[5,5,5,5],\"name\":\"Markdown93134\",\"text\":\"&lt;h2&gt;Average House Value Per Year, Toronto&lt;/h2&gt;\"},\"id\":\"199532\",\"type\":\"panel.models.markup.HTML\"},{\"attributes\":{},\"id\":\"199941\",\"type\":\"UnionRenderers\"},{\"attributes\":{},\"id\":\"199554\",\"type\":\"PanTool\"},{\"attributes\":{\"css_classes\":[\"markdown\"],\"margin\":[5,5,5,5],\"name\":\"Markdown92988\",\"text\":\"&lt;h2&gt;Average House Value &amp;amp; Number of Dwellings Per Year, Toronto&lt;/h2&gt;\"},\"id\":\"199597\",\"type\":\"panel.models.markup.HTML\"},{\"attributes\":{\"data\":{\"lat\":[{\"__ndarray__\":\"z3ciTsjmRUA=\",\"dtype\":\"float64\",\"order\":\"little\",\"shape\":[1]}],\"lon\":[{\"__ndarray__\":\"XB/WG7XWU8A=\",\"dtype\":\"float64\",\"order\":\"little\",\"shape\":[1]}],\"marker.size\":[{\"__ndarray__\":\"AAAAADwcGEE=\",\"dtype\":\"float64\",\"order\":\"little\",\"shape\":[1]}]},\"selected\":{\"id\":\"199916\"},\"selection_policy\":{\"id\":\"199915\"}},\"id\":\"199067\",\"type\":\"ColumnDataSource\"},{\"attributes\":{},\"id\":\"199553\",\"type\":\"SaveTool\"},{\"attributes\":{},\"id\":\"199943\",\"type\":\"UnionRenderers\"},{\"attributes\":{},\"id\":\"199942\",\"type\":\"Selection\"},{\"attributes\":{\"data\":{\"lat\":[{\"__ndarray__\":\"4j0HlqPbRUA=\",\"dtype\":\"float64\",\"order\":\"little\",\"shape\":[1]}],\"lon\":[{\"__ndarray__\":\"9ZJSEkrVU8A=\",\"dtype\":\"float64\",\"order\":\"little\",\"shape\":[1]}],\"marker.size\":[{\"__ndarray__\":\"AAAAALhdCUE=\",\"dtype\":\"float64\",\"order\":\"little\",\"shape\":[1]}]},\"selected\":{\"id\":\"199896\"},\"selection_policy\":{\"id\":\"199895\"}},\"id\":\"199057\",\"type\":\"ColumnDataSource\"},{\"attributes\":{},\"id\":\"199990\",\"type\":\"Selection\"},{\"attributes\":{},\"id\":\"199704\",\"type\":\"Selection\"},{\"attributes\":{},\"id\":\"199958\",\"type\":\"Selection\"},{\"attributes\":{\"data\":{\"A_2011\":[274940,429220,100,72480,60355,44750,163895,2165],\"index\":[\"single_detached_house\",\"apartment_five_storeys_plus\",\"movable_dwelling\",\"semi_detached_house\",\"row_house\",\"duplex\",\"apartment_five_storeys_less\",\"other_house\"]},\"selected\":{\"id\":\"199314\"},\"selection_policy\":{\"id\":\"199333\"}},\"id\":\"199313\",\"type\":\"ColumnDataSource\"},{\"attributes\":{\"data\":{\"lat\":[{\"__ndarray__\":\"+JuaFZvYRUA=\",\"dtype\":\"float64\",\"order\":\"little\",\"shape\":[1]}],\"lon\":[{\"__ndarray__\":\"o3lbRG/hU8A=\",\"dtype\":\"float64\",\"order\":\"little\",\"shape\":[1]}],\"marker.size\":[{\"__ndarray__\":\"AAAAAPppG0E=\",\"dtype\":\"float64\",\"order\":\"little\",\"shape\":[1]}]},\"selected\":{\"id\":\"199918\"},\"selection_policy\":{\"id\":\"199917\"}},\"id\":\"199068\",\"type\":\"ColumnDataSource\"},{\"attributes\":{\"children\":[{\"id\":\"199602\"},{\"id\":\"199665\"}],\"margin\":[0,0,0,0],\"name\":\"Row92991\"},\"id\":\"199598\",\"type\":\"Row\"},{\"attributes\":{\"fill_alpha\":{\"value\":0.1},\"fill_color\":{\"field\":\"Variable\",\"transform\":{\"id\":\"199702\"}},\"line_alpha\":{\"value\":0.1},\"top\":{\"field\":\"value\"},\"width\":{\"value\":0.8},\"x\":{\"field\":\"xoffsets\"}},\"id\":\"199707\",\"type\":\"VBar\"},{\"attributes\":{},\"id\":\"199987\",\"type\":\"UnionRenderers\"},{\"attributes\":{\"data\":{\"lat\":[{\"__ndarray__\":\"BbwOzSPaRUA=\",\"dtype\":\"float64\",\"order\":\"little\",\"shape\":[1]}],\"lon\":[{\"__ndarray__\":\"MY2RsmbbU8A=\",\"dtype\":\"float64\",\"order\":\"little\",\"shape\":[1]}],\"marker.size\":[{\"__ndarray__\":\"AAAAAMH9KUE=\",\"dtype\":\"float64\",\"order\":\"little\",\"shape\":[1]}]},\"selected\":{\"id\":\"199898\"},\"selection_policy\":{\"id\":\"199897\"}},\"id\":\"199058\",\"type\":\"ColumnDataSource\"},{\"attributes\":{\"data\":{\"lat\":[{\"__ndarray__\":\"7URJSCThRUA=\",\"dtype\":\"float64\",\"order\":\"little\",\"shape\":[1]}],\"lon\":[{\"__ndarray__\":\"U8rvXZjjU8A=\",\"dtype\":\"float64\",\"order\":\"little\",\"shape\":[1]}],\"marker.size\":[{\"__ndarray__\":\"AAAAAEp9FUE=\",\"dtype\":\"float64\",\"order\":\"little\",\"shape\":[1]}]},\"selected\":{\"id\":\"199920\"},\"selection_policy\":{\"id\":\"199919\"}},\"id\":\"199069\",\"type\":\"ColumnDataSource\"},{\"attributes\":{\"end\":2016.0,\"reset_end\":2016.0,\"reset_start\":2001.0,\"start\":2001.0,\"tags\":[[[\"year\",\"year\",null]]]},\"id\":\"199406\",\"type\":\"Range1d\"},{\"attributes\":{\"data\":{\"lat\":[{\"__ndarray__\":\"K38Iu/LkRUA=\",\"dtype\":\"float64\",\"order\":\"little\",\"shape\":[1]}],\"lon\":[{\"__ndarray__\":\"oZuiyP/QU8A=\",\"dtype\":\"float64\",\"order\":\"little\",\"shape\":[1]}],\"marker.size\":[{\"__ndarray__\":\"AAAAALRlFEE=\",\"dtype\":\"float64\",\"order\":\"little\",\"shape\":[1]}]},\"selected\":{\"id\":\"199814\"},\"selection_policy\":{\"id\":\"199813\"}},\"id\":\"199016\",\"type\":\"ColumnDataSource\"},{\"attributes\":{},\"id\":\"199228\",\"type\":\"CategoricalScale\"},{\"attributes\":{\"data\":{\"lat\":[{\"__ndarray__\":\"+7ZYOObYRUA=\",\"dtype\":\"float64\",\"order\":\"little\",\"shape\":[1]}],\"lon\":[{\"__ndarray__\":\"UbYOL4TaU8A=\",\"dtype\":\"float64\",\"order\":\"little\",\"shape\":[1]}],\"marker.size\":[{\"__ndarray__\":\"AAAAgNg/MkE=\",\"dtype\":\"float64\",\"order\":\"little\",\"shape\":[1]}]},\"selected\":{\"id\":\"199900\"},\"selection_policy\":{\"id\":\"199899\"}},\"id\":\"199059\",\"type\":\"ColumnDataSource\"},{\"attributes\":{\"data\":{\"lat\":[{\"__ndarray__\":\"96PRsijfRUA=\",\"dtype\":\"float64\",\"order\":\"little\",\"shape\":[1]}],\"lon\":[{\"__ndarray__\":\"2LSUJLbiU8A=\",\"dtype\":\"float64\",\"order\":\"little\",\"shape\":[1]}],\"marker.size\":[{\"__ndarray__\":\"AAAAAJ+EE0E=\",\"dtype\":\"float64\",\"order\":\"little\",\"shape\":[1]}]},\"selected\":{\"id\":\"199922\"},\"selection_policy\":{\"id\":\"199921\"}},\"id\":\"199070\",\"type\":\"ColumnDataSource\"},{\"attributes\":{},\"id\":\"199201\",\"type\":\"CategoricalTickFormatter\"},{\"attributes\":{\"margin\":[5,5,5,5],\"name\":\"VSpacer93006\",\"sizing_mode\":\"stretch_height\"},\"id\":\"199739\",\"type\":\"Spacer\"},{\"attributes\":{\"axis_label\":\"2001\",\"bounds\":\"auto\",\"formatter\":{\"id\":\"199201\"},\"major_label_orientation\":1.5707963267948966,\"ticker\":{\"id\":\"199172\"}},\"id\":\"199171\",\"type\":\"CategoricalAxis\"},{\"attributes\":{\"data\":{\"lat\":[{\"__ndarray__\":\"PX0E/nDfRUA=\",\"dtype\":\"float64\",\"order\":\"little\",\"shape\":[1]}],\"lon\":[{\"__ndarray__\":\"7kGlndzgU8A=\",\"dtype\":\"float64\",\"order\":\"little\",\"shape\":[1]}],\"marker.size\":[{\"__ndarray__\":\"AAAAALf+E0E=\",\"dtype\":\"float64\",\"order\":\"little\",\"shape\":[1]}]},\"selected\":{\"id\":\"199902\"},\"selection_policy\":{\"id\":\"199901\"}},\"id\":\"199060\",\"type\":\"ColumnDataSource\"},{\"attributes\":{},\"id\":\"199511\",\"type\":\"BasicTickFormatter\"},{\"attributes\":{\"bottom_units\":\"screen\",\"fill_alpha\":0.5,\"fill_color\":\"lightgrey\",\"left_units\":\"screen\",\"level\":\"overlay\",\"line_alpha\":1.0,\"line_color\":\"black\",\"line_dash\":[4,4],\"line_width\":2,\"right_units\":\"screen\",\"top_units\":\"screen\"},\"id\":\"199431\",\"type\":\"BoxAnnotation\"},{\"attributes\":{\"data\":{\"lat\":[{\"__ndarray__\":\"JLJRzn7YRUA=\",\"dtype\":\"float64\",\"order\":\"little\",\"shape\":[1]}],\"lon\":[{\"__ndarray__\":\"zFL8KV/bU8A=\",\"dtype\":\"float64\",\"order\":\"little\",\"shape\":[1]}],\"marker.size\":[{\"__ndarray__\":\"AAAAAPtFJUE=\",\"dtype\":\"float64\",\"order\":\"little\",\"shape\":[1]}]},\"selected\":{\"id\":\"199924\"},\"selection_policy\":{\"id\":\"199923\"}},\"id\":\"199071\",\"type\":\"ColumnDataSource\"},{\"attributes\":{\"end\":417323.5,\"reset_end\":417323.5,\"reset_start\":0.0,\"tags\":[[[\"2006\",\"2006\",null]]]},\"id\":\"199221\",\"type\":\"Range1d\"},{\"attributes\":{},\"id\":\"199440\",\"type\":\"Selection\"},{\"attributes\":{\"data\":{\"average_house_value\":{\"__ndarray__\":\"AAAAwNVKN0EAAACA2D8yQQAAAMCLsTBBAAAAAAiwMEEAAAAAhn0uQQAAAICQ8C1BAAAAgN5kLEEAAAAAwf0pQQAAAIDEuylBAAAAgEjRKEE=\",\"dtype\":\"float64\",\"order\":\"little\",\"shape\":[10]},\"neighbourhood\":[\"Bridle Path-Sunnybrook-York Mills\",\"Forest Hill South\",\"Lawrence Park South\",\"Rosedale-Moore Park\",\"St.Andrew-Windfields\",\"Casa Loma\",\"Bedford Park-Nortown\",\"Forest Hill North\",\"Kingsway South\",\"Yonge-St.Clair\"]},\"selected\":{\"id\":\"199774\"},\"selection_policy\":{\"id\":\"199793\"}},\"id\":\"199773\",\"type\":\"ColumnDataSource\"},{\"attributes\":{\"data\":{\"Variable\":[\"single_detached_house\",\"single_detached_house\",\"single_detached_house\",\"single_detached_house\",\"apartment_five_storeys_plus\",\"apartment_five_storeys_plus\",\"apartment_five_storeys_plus\",\"apartment_five_storeys_plus\",\"movable_dwelling\",\"movable_dwelling\",\"movable_dwelling\",\"movable_dwelling\",\"semi_detached_house\",\"semi_detached_house\",\"semi_detached_house\",\"semi_detached_house\",\"row_house\",\"row_house\",\"row_house\",\"row_house\",\"duplex\",\"duplex\",\"duplex\",\"duplex\",\"apartment_five_storeys_less\",\"apartment_five_storeys_less\",\"apartment_five_storeys_less\",\"apartment_five_storeys_less\",\"other_house\",\"other_house\",\"other_house\",\"other_house\"],\"value\":[3715,3295,3385,3345,1480,2060,2130,2120,0,0,5,5,1055,775,820,805,1295,1425,1465,1440,195,600,610,645,185,565,705,735,5,0,20,15],\"xoffsets\":[[\"2001\",\"single_detached_house\"],[\"2006\",\"single_detached_house\"],[\"2011\",\"single_detached_house\"],[\"2016\",\"single_detached_house\"],[\"2001\",\"apartment_five_storeys_plus\"],[\"2006\",\"apartment_five_storeys_plus\"],[\"2011\",\"apartment_five_storeys_plus\"],[\"2016\",\"apartment_five_storeys_plus\"],[\"2001\",\"movable_dwelling\"],[\"2006\",\"movable_dwelling\"],[\"2011\",\"movable_dwelling\"],[\"2016\",\"movable_dwelling\"],[\"2001\",\"semi_detached_house\"],[\"2006\",\"semi_detached_house\"],[\"2011\",\"semi_detached_house\"],[\"2016\",\"semi_detached_house\"],[\"2001\",\"row_house\"],[\"2006\",\"row_house\"],[\"2011\",\"row_house\"],[\"2016\",\"row_house\"],[\"2001\",\"duplex\"],[\"2006\",\"duplex\"],[\"2011\",\"duplex\"],[\"2016\",\"duplex\"],[\"2001\",\"apartment_five_storeys_less\"],[\"2006\",\"apartment_five_storeys_less\"],[\"2011\",\"apartment_five_storeys_less\"],[\"2016\",\"apartment_five_storeys_less\"],[\"2001\",\"other_house\"],[\"2006\",\"other_house\"],[\"2011\",\"other_house\"],[\"2016\",\"other_house\"]],\"year\":[\"2001\",\"2006\",\"2011\",\"2016\",\"2001\",\"2006\",\"2011\",\"2016\",\"2001\",\"2006\",\"2011\",\"2016\",\"2001\",\"2006\",\"2011\",\"2016\",\"2001\",\"2006\",\"2011\",\"2016\",\"2001\",\"2006\",\"2011\",\"2016\",\"2001\",\"2006\",\"2011\",\"2016\",\"2001\",\"2006\",\"2011\",\"2016\"]},\"selected\":{\"id\":\"199704\"},\"selection_policy\":{\"id\":\"199727\"}},\"id\":\"199703\",\"type\":\"ColumnDataSource\"},{\"attributes\":{\"data\":{\"lat\":[{\"__ndarray__\":\"YtKEkm7NRUA=\",\"dtype\":\"float64\",\"order\":\"little\",\"shape\":[1]}],\"lon\":[{\"__ndarray__\":\"ZeDjwKniU8A=\",\"dtype\":\"float64\",\"order\":\"little\",\"shape\":[1]}],\"marker.size\":[{\"__ndarray__\":\"AAAAAEoeGkE=\",\"dtype\":\"float64\",\"order\":\"little\",\"shape\":[1]}]},\"selected\":{\"id\":\"199816\"},\"selection_policy\":{\"id\":\"199815\"}},\"id\":\"199017\",\"type\":\"ColumnDataSource\"},{\"attributes\":{\"data\":{\"lat\":[{\"__ndarray__\":\"IysBKRjWRUA=\",\"dtype\":\"float64\",\"order\":\"little\",\"shape\":[1]}],\"lon\":[{\"__ndarray__\":\"01leoMHUU8A=\",\"dtype\":\"float64\",\"order\":\"little\",\"shape\":[1]}],\"marker.size\":[{\"__ndarray__\":\"AAAAAL6fF0E=\",\"dtype\":\"float64\",\"order\":\"little\",\"shape\":[1]}]},\"selected\":{\"id\":\"199904\"},\"selection_policy\":{\"id\":\"199903\"}},\"id\":\"199061\",\"type\":\"ColumnDataSource\"},{\"attributes\":{},\"id\":\"199985\",\"type\":\"UnionRenderers\"},{\"attributes\":{\"callback\":null,\"renderers\":[{\"id\":\"199258\"}],\"tags\":[\"hv_created\"],\"tooltips\":[[\"index\",\"@{index}\"],[\"2006\",\"@{A_2006}\"]]},\"id\":\"199222\",\"type\":\"HoverTool\"},{\"attributes\":{\"data\":{\"lat\":[{\"__ndarray__\":\"0svFayDeRUA=\",\"dtype\":\"float64\",\"order\":\"little\",\"shape\":[1]}],\"lon\":[{\"__ndarray__\":\"NesQKHDRU8A=\",\"dtype\":\"float64\",\"order\":\"little\",\"shape\":[1]}],\"marker.size\":[{\"__ndarray__\":\"AAAAABePEUE=\",\"dtype\":\"float64\",\"order\":\"little\",\"shape\":[1]}]},\"selected\":{\"id\":\"199926\"},\"selection_policy\":{\"id\":\"199925\"}},\"id\":\"199072\",\"type\":\"ColumnDataSource\"},{\"attributes\":{\"active_drag\":\"auto\",\"active_inspect\":\"auto\",\"active_multi\":null,\"active_scroll\":\"auto\",\"active_tap\":\"auto\",\"tools\":[{\"id\":\"199470\"},{\"id\":\"199488\"},{\"id\":\"199489\"},{\"id\":\"199490\"},{\"id\":\"199491\"},{\"id\":\"199492\"}]},\"id\":\"199494\",\"type\":\"Toolbar\"},{\"attributes\":{},\"id\":\"199820\",\"type\":\"Selection\"},{\"attributes\":{},\"id\":\"200010\",\"type\":\"Selection\"},{\"attributes\":{},\"id\":\"199365\",\"type\":\"ResetTool\"},{\"attributes\":{\"axis\":{\"id\":\"199171\"},\"grid_line_color\":null,\"ticker\":null},\"id\":\"199173\",\"type\":\"Grid\"},{\"attributes\":{},\"id\":\"200009\",\"type\":\"UnionRenderers\"},{\"attributes\":{\"overlay\":{\"id\":\"199366\"}},\"id\":\"199364\",\"type\":\"BoxZoomTool\"},{\"attributes\":{\"line_alpha\":0.2,\"line_color\":\"blue\",\"line_width\":2,\"x\":{\"field\":\"year\"},\"y\":{\"field\":\"shelter_costs_rented\"}},\"id\":\"199506\",\"type\":\"Line\"},{\"attributes\":{},\"id\":\"199818\",\"type\":\"Selection\"},{\"attributes\":{},\"id\":\"200011\",\"type\":\"UnionRenderers\"},{\"attributes\":{\"line_color\":\"blue\",\"line_width\":2,\"x\":{\"field\":\"year\"},\"y\":{\"field\":\"average_house_value\"}},\"id\":\"199569\",\"type\":\"Line\"},{\"attributes\":{},\"id\":\"199619\",\"type\":\"SaveTool\"},{\"attributes\":{},\"id\":\"199521\",\"type\":\"UnionRenderers\"},{\"attributes\":{},\"id\":\"199620\",\"type\":\"PanTool\"},{\"attributes\":{},\"id\":\"199623\",\"type\":\"ResetTool\"},{\"attributes\":{},\"id\":\"200012\",\"type\":\"Selection\"},{\"attributes\":{},\"id\":\"199621\",\"type\":\"WheelZoomTool\"},{\"attributes\":{\"css_classes\":[\"markdown\"],\"margin\":[5,5,5,5],\"name\":\"Markdown92543\",\"text\":\"&lt;h2&gt;Dwelling Types Per Year, Toronto&lt;/h2&gt;\"},\"id\":\"199158\",\"type\":\"panel.models.markup.HTML\"},{\"attributes\":{\"data\":{\"lat\":[{\"__ndarray__\":\"GYjpayvYRUA=\",\"dtype\":\"float64\",\"order\":\"little\",\"shape\":[1]}],\"lon\":[{\"__ndarray__\":\"UrxGosLWU8A=\",\"dtype\":\"float64\",\"order\":\"little\",\"shape\":[1]}],\"marker.size\":[{\"__ndarray__\":\"AAAAALUPG0E=\",\"dtype\":\"float64\",\"order\":\"little\",\"shape\":[1]}]},\"selected\":{\"id\":\"199846\"},\"selection_policy\":{\"id\":\"199845\"}},\"id\":\"199032\",\"type\":\"ColumnDataSource\"},{\"attributes\":{},\"id\":\"199814\",\"type\":\"Selection\"},{\"attributes\":{},\"id\":\"200013\",\"type\":\"UnionRenderers\"},{\"attributes\":{\"overlay\":{\"id\":\"199624\"}},\"id\":\"199622\",\"type\":\"BoxZoomTool\"},{\"attributes\":{\"data\":{\"lat\":[{\"__ndarray__\":\"hp+s1pHdRUA=\",\"dtype\":\"float64\",\"order\":\"little\",\"shape\":[1]}],\"lon\":[{\"__ndarray__\":\"vFpR9z/YU8A=\",\"dtype\":\"float64\",\"order\":\"little\",\"shape\":[1]}],\"marker.size\":[{\"__ndarray__\":\"AAAAwNVKN0E=\",\"dtype\":\"float64\",\"order\":\"little\",\"shape\":[1]}]},\"selected\":{\"id\":\"199844\"},\"selection_policy\":{\"id\":\"199843\"}},\"id\":\"199031\",\"type\":\"ColumnDataSource\"},{\"attributes\":{},\"id\":\"200014\",\"type\":\"Selection\"},{\"attributes\":{\"fill_alpha\":{\"value\":0.1},\"fill_color\":{\"value\":\"green\"},\"line_alpha\":{\"value\":0.1},\"line_color\":{\"value\":\"green\"},\"size\":{\"units\":\"screen\",\"value\":5.477225575051661},\"x\":{\"field\":\"neighbourhood\"},\"y\":{\"field\":\"average_house_value\"}},\"id\":\"199777\",\"type\":\"Scatter\"},{\"attributes\":{},\"id\":\"199822\",\"type\":\"Selection\"},{\"attributes\":{\"format\":\"%.0f\"},\"id\":\"199382\",\"type\":\"PrintfTickFormatter\"},{\"attributes\":{},\"id\":\"199823\",\"type\":\"UnionRenderers\"},{\"attributes\":{},\"id\":\"200015\",\"type\":\"UnionRenderers\"},{\"attributes\":{\"data\":{\"lat\":[{\"__ndarray__\":\"HqN+D8XZRUA=\",\"dtype\":\"float64\",\"order\":\"little\",\"shape\":[1]}],\"lon\":[{\"__ndarray__\":\"Sb/55BPfU8A=\",\"dtype\":\"float64\",\"order\":\"little\",\"shape\":[1]}],\"marker.size\":[{\"__ndarray__\":\"AAAAAHxrFUE=\",\"dtype\":\"float64\",\"order\":\"little\",\"shape\":[1]}]},\"selected\":{\"id\":\"199848\"},\"selection_policy\":{\"id\":\"199847\"}},\"id\":\"199033\",\"type\":\"ColumnDataSource\"},{\"attributes\":{\"bottom_units\":\"screen\",\"fill_alpha\":0.5,\"fill_color\":\"lightgrey\",\"left_units\":\"screen\",\"level\":\"overlay\",\"line_alpha\":1.0,\"line_color\":\"black\",\"line_dash\":[4,4],\"line_width\":2,\"right_units\":\"screen\",\"top_units\":\"screen\"},\"id\":\"199765\",\"type\":\"BoxAnnotation\"},{\"attributes\":{},\"id\":\"199821\",\"type\":\"UnionRenderers\"},{\"attributes\":{},\"id\":\"200016\",\"type\":\"Selection\"},{\"attributes\":{\"data\":{\"lat\":[{\"__ndarray__\":\"ETfprlPhRUA=\",\"dtype\":\"float64\",\"order\":\"little\",\"shape\":[1]}],\"lon\":[{\"__ndarray__\":\"NshmP3nQU8A=\",\"dtype\":\"float64\",\"order\":\"little\",\"shape\":[1]}],\"marker.size\":[{\"__ndarray__\":\"AAAAAA1hEkE=\",\"dtype\":\"float64\",\"order\":\"little\",\"shape\":[1]}]},\"selected\":{\"id\":\"199834\"},\"selection_policy\":{\"id\":\"199833\"}},\"id\":\"199026\",\"type\":\"ColumnDataSource\"},{\"attributes\":{},\"id\":\"200017\",\"type\":\"UnionRenderers\"},{\"attributes\":{},\"id\":\"199172\",\"type\":\"CategoricalTicker\"},{\"attributes\":{\"active_drag\":\"auto\",\"active_inspect\":\"auto\",\"active_multi\":null,\"active_scroll\":\"auto\",\"active_tap\":\"auto\",\"tools\":[{\"id\":\"199344\"},{\"id\":\"199361\"},{\"id\":\"199362\"},{\"id\":\"199363\"},{\"id\":\"199364\"},{\"id\":\"199365\"}]},\"id\":\"199367\",\"type\":\"Toolbar\"},{\"attributes\":{\"children\":[{\"id\":\"199666\"},{\"id\":\"199668\"}],\"margin\":[0,0,0,0],\"name\":\"Column92998\"},\"id\":\"199665\",\"type\":\"Column\"},{\"attributes\":{},\"id\":\"199824\",\"type\":\"Selection\"},{\"attributes\":{},\"id\":\"200018\",\"type\":\"Selection\"},{\"attributes\":{\"fill_color\":{\"value\":\"green\"},\"line_color\":{\"value\":\"green\"},\"size\":{\"units\":\"screen\",\"value\":5.477225575051661},\"x\":{\"field\":\"neighbourhood\"},\"y\":{\"field\":\"average_house_value\"}},\"id\":\"199776\",\"type\":\"Scatter\"},{\"attributes\":{},\"id\":\"199169\",\"type\":\"LinearScale\"},{\"attributes\":{\"axis_label\":\"year\",\"bounds\":\"auto\",\"formatter\":{\"id\":\"199511\"},\"major_label_orientation\":1.5707963267948966,\"ticker\":{\"id\":\"199481\"}},\"id\":\"199480\",\"type\":\"LinearAxis\"},{\"attributes\":{},\"id\":\"200019\",\"type\":\"UnionRenderers\"},{\"attributes\":{\"bottom_units\":\"screen\",\"fill_alpha\":0.5,\"fill_color\":\"lightgrey\",\"left_units\":\"screen\",\"level\":\"overlay\",\"line_alpha\":1.0,\"line_color\":\"black\",\"line_dash\":[4,4],\"line_width\":2,\"right_units\":\"screen\",\"top_units\":\"screen\"},\"id\":\"199366\",\"type\":\"BoxAnnotation\"},{\"attributes\":{},\"id\":\"200020\",\"type\":\"Selection\"},{\"attributes\":{},\"id\":\"199481\",\"type\":\"BasicTicker\"},{\"attributes\":{\"children\":[{\"id\":\"199667\"}],\"css_classes\":[\"panel-widget-box\"],\"margin\":[5,5,5,5],\"name\":\"WidgetBox92992\"},\"id\":\"199666\",\"type\":\"Column\"},{\"attributes\":{\"axis\":{\"id\":\"199484\"},\"dimension\":1,\"grid_line_color\":null,\"ticker\":null},\"id\":\"199487\",\"type\":\"Grid\"},{\"attributes\":{\"active_drag\":\"auto\",\"active_inspect\":\"auto\",\"active_multi\":null,\"active_scroll\":\"auto\",\"active_tap\":\"auto\",\"tools\":[{\"id\":\"199601\"},{\"id\":\"199619\"},{\"id\":\"199620\"},{\"id\":\"199621\"},{\"id\":\"199622\"},{\"id\":\"199623\"}]},\"id\":\"199625\",\"type\":\"Toolbar\"},{\"attributes\":{},\"id\":\"199478\",\"type\":\"LinearScale\"},{\"attributes\":{},\"id\":\"199817\",\"type\":\"UnionRenderers\"},{\"attributes\":{},\"id\":\"199997\",\"type\":\"UnionRenderers\"},{\"attributes\":{},\"id\":\"200021\",\"type\":\"UnionRenderers\"},{\"attributes\":{\"axis\":{\"id\":\"199480\"},\"grid_line_color\":null,\"ticker\":null},\"id\":\"199483\",\"type\":\"Grid\"},{\"attributes\":{},\"id\":\"199816\",\"type\":\"Selection\"},{\"attributes\":{\"margin\":[20,20,20,20],\"min_width\":250,\"options\":[\"Agincourt North\",\"Agincourt South-Malvern West\",\"Alderwood\",\"Annex\",\"Banbury-Don Mills\",\"Bathurst Manor\",\"Bay Street Corridor\",\"Bayview Village\",\"Bayview Woods-Steeles\",\"Bedford Park-Nortown\",\"Beechborough-Greenbrook\",\"Bendale\",\"Birchcliffe-Cliffside\",\"Black Creek\",\"Blake-Jones\",\"Briar Hill-Belgravia\",\"Bridle Path-Sunnybrook-York Mills\",\"Broadview North\",\"Brookhaven-Amesbury\",\"Cabbagetown-South St.James Town\",\"Caledonia-Fairbank\",\"Casa Loma\",\"Centennial Scarborough\",\"Church-Yonge Corridor\",\"Clairlea-Birchmount\",\"Clanton Park\",\"Cliffcrest\",\"Corso Italia-Davenport\",\"Danforth\",\"Danforth-East York\",\"Don Valley Village\",\"Dorset Park\",\"Dovercourt-Wallace Emerson-Juncti\",\"Downsview-Roding-CFB\",\"Dufferin Grove\",\"East End-Danforth\",\"Edenbridge-Humber Valley\",\"Eglinton East\",\"Elms-Old Rexdale\",\"Englemount-Lawrence\",\"Eringate-Centennial-West Deane\",\"Etobicoke West Mall\",\"Flemingdon Park\",\"Forest Hill North\",\"Forest Hill South\",\"Glenfield-Jane Heights\",\"Greenwood-Coxwell\",\"Guildwood\",\"Henry Farm\",\"High Park North\",\"High Park-Swansea\",\"Highland Creek\",\"Hillcrest Village\",\"Humber Heights-Westmount\",\"Humber Summit\",\"Humbermede\",\"Humewood-Cedarvale\",\"Ionview\",\"Islington-City Centre West\",\"Junction Area\",\"Keelesdale-Eglinton West\",\"Kennedy Park\",\"Kensington-Chinatown\",\"Kingsview Village-The Westway\",\"Kingsway South\",\"L'Amoreaux\",\"Lambton Baby Point\",\"Lansing-Westgate\",\"Lawrence Park North\",\"Lawrence Park South\",\"Leaside-Bennington\",\"Little Portugal\",\"Long Branch\",\"Malvern\",\"Maple Leaf\",\"Markland Wood\",\"Milliken\",\"Mimico\",\"Morningside\",\"Moss Park\",\"Mount Dennis\",\"Mount Olive-Silverstone-Jamestown\",\"Mount Pleasant East\",\"Mount Pleasant West\",\"New Toronto\",\"Newtonbrook East\",\"Newtonbrook West\",\"Niagara\",\"North Riverdale\",\"North St.James Town\",\"O'Connor-Parkview\",\"Oakridge\",\"Oakwood Village\",\"Old East York\",\"Palmerston-Little Italy\",\"Parkwoods-Donalda\",\"Pelmo Park-Humberlea\",\"Playter Estates-Danforth\",\"Pleasant View\",\"Princess-Rosethorn\",\"Regent Park\",\"Rexdale-Kipling\",\"Rockcliffe-Smythe\",\"Roncesvalles\",\"Rosedale-Moore Park\",\"Rouge\",\"Runnymede-Bloor West Village\",\"Rustic\",\"Scarborough Village\",\"South Parkdale\",\"South Riverdale\",\"St.Andrew-Windfields\",\"Steeles\",\"Stonegate-Queensway\",\"Tam O'Shanter-Sullivan\",\"Taylor-Massey\",\"The Beaches\",\"Thistletown-Beaumond Heights\",\"Thorncliffe Park\",\"Trinity-Bellwoods\",\"University\",\"Victoria Village\",\"Waterfront Communities-The Island\",\"West Hill\",\"West Humber-Clairville\",\"Westminster-Branson\",\"Weston\",\"Weston-Pellam Park\",\"Wexford/Maryvale\",\"Willowdale East\",\"Willowdale West\",\"Willowridge-Martingrove-Richview\",\"Woburn\",\"Woodbine Corridor\",\"Woodbine-Lumsden\",\"Wychwood\",\"Yonge-Eglinton\",\"Yonge-St.Clair\",\"York University Heights\",\"Yorkdale-Glen Park\"],\"title\":\"neighbourhood\",\"value\":\"Agincourt North\",\"width\":250},\"id\":\"199667\",\"type\":\"Select\"},{\"attributes\":{},\"id\":\"200022\",\"type\":\"Selection\"},{\"attributes\":{\"active_drag\":\"auto\",\"active_inspect\":\"auto\",\"active_multi\":null,\"active_scroll\":\"auto\",\"active_tap\":\"auto\",\"tools\":[{\"id\":\"199743\"},{\"id\":\"199760\"},{\"id\":\"199761\"},{\"id\":\"199762\"},{\"id\":\"199763\"},{\"id\":\"199764\"}]},\"id\":\"199766\",\"type\":\"Toolbar\"},{\"attributes\":{},\"id\":\"199819\",\"type\":\"UnionRenderers\"},{\"attributes\":{},\"id\":\"200023\",\"type\":\"UnionRenderers\"},{\"attributes\":{},\"id\":\"199485\",\"type\":\"BasicTicker\"},{\"attributes\":{\"axis_label\":\"Average Monthy Shelter Cost\",\"bounds\":\"auto\",\"formatter\":{\"id\":\"199509\"},\"major_label_orientation\":\"horizontal\",\"ticker\":{\"id\":\"199485\"}},\"id\":\"199484\",\"type\":\"LinearAxis\"},{\"attributes\":{},\"id\":\"200024\",\"type\":\"Selection\"},{\"attributes\":{},\"id\":\"199546\",\"type\":\"BasicTicker\"},{\"attributes\":{},\"id\":\"200025\",\"type\":\"UnionRenderers\"},{\"attributes\":{\"format\":\"%.0f\"},\"id\":\"199640\",\"type\":\"PrintfTickFormatter\"},{\"attributes\":{},\"id\":\"200026\",\"type\":\"Selection\"},{\"attributes\":{},\"id\":\"200027\",\"type\":\"UnionRenderers\"},{\"attributes\":{\"source\":{\"id\":\"199501\"}},\"id\":\"199508\",\"type\":\"CDSView\"},{\"attributes\":{\"data_source\":{\"id\":\"199501\"},\"glyph\":{\"id\":\"199504\"},\"hover_glyph\":null,\"muted_glyph\":{\"id\":\"199506\"},\"nonselection_glyph\":{\"id\":\"199505\"},\"selection_glyph\":null,\"view\":{\"id\":\"199508\"}},\"id\":\"199507\",\"type\":\"GlyphRenderer\"},{\"attributes\":{},\"id\":\"200028\",\"type\":\"Selection\"},{\"attributes\":{},\"id\":\"200029\",\"type\":\"UnionRenderers\"},{\"attributes\":{},\"id\":\"199488\",\"type\":\"SaveTool\"},{\"attributes\":{},\"id\":\"199567\",\"type\":\"Selection\"},{\"attributes\":{\"end\":1597812.3,\"reset_end\":701486.8728571428,\"reset_start\":252464.34142857144,\"start\":174521.7,\"tags\":[[[\"average_house_value\",\"average_house_value\",null]]]},\"id\":\"199534\",\"type\":\"Range1d\"},{\"attributes\":{},\"id\":\"199489\",\"type\":\"PanTool\"},{\"attributes\":{},\"id\":\"200030\",\"type\":\"Selection\"},{\"attributes\":{},\"id\":\"199492\",\"type\":\"ResetTool\"},{\"attributes\":{},\"id\":\"199992\",\"type\":\"Selection\"},{\"attributes\":{},\"id\":\"199490\",\"type\":\"WheelZoomTool\"},{\"attributes\":{\"axis_label\":\"Average House Price\",\"bounds\":\"auto\",\"formatter\":{\"id\":\"199574\"},\"major_label_orientation\":\"horizontal\",\"ticker\":{\"id\":\"199550\"}},\"id\":\"199549\",\"type\":\"LinearAxis\"},{\"attributes\":{},\"id\":\"199993\",\"type\":\"UnionRenderers\"},{\"attributes\":{},\"id\":\"200031\",\"type\":\"UnionRenderers\"},{\"attributes\":{},\"id\":\"199394\",\"type\":\"UnionRenderers\"},{\"attributes\":{\"overlay\":{\"id\":\"199493\"}},\"id\":\"199491\",\"type\":\"BoxZoomTool\"},{\"attributes\":{},\"id\":\"200032\",\"type\":\"Selection\"},{\"attributes\":{\"callback\":null,\"renderers\":[{\"id\":\"199572\"}],\"tags\":[\"hv_created\"],\"tooltips\":[[\"year\",\"@{year}\"],[\"average_house_value\",\"@{average_house_value}\"]]},\"id\":\"199535\",\"type\":\"HoverTool\"},{\"attributes\":{},\"id\":\"200033\",\"type\":\"UnionRenderers\"},{\"attributes\":{},\"id\":\"199812\",\"type\":\"Selection\"},{\"attributes\":{\"factors\":[[\"2001\",\"other_house\"],[\"2001\",\"apartment_five_storeys_less\"],[\"2001\",\"duplex\"],[\"2001\",\"row_house\"],[\"2001\",\"semi_detached_house\"],[\"2001\",\"movable_dwelling\"],[\"2001\",\"apartment_five_storeys_plus\"],[\"2001\",\"single_detached_house\"],[\"2006\",\"other_house\"],[\"2006\",\"apartment_five_storeys_less\"],[\"2006\",\"duplex\"],[\"2006\",\"row_house\"],[\"2006\",\"semi_detached_house\"],[\"2006\",\"movable_dwelling\"],[\"2006\",\"apartment_five_storeys_plus\"],[\"2006\",\"single_detached_house\"],[\"2011\",\"other_house\"],[\"2011\",\"apartment_five_storeys_less\"],[\"2011\",\"duplex\"],[\"2011\",\"row_house\"],[\"2011\",\"semi_detached_house\"],[\"2011\",\"movable_dwelling\"],[\"2011\",\"apartment_five_storeys_plus\"],[\"2011\",\"single_detached_house\"],[\"2016\",\"other_house\"],[\"2016\",\"apartment_five_storeys_less\"],[\"2016\",\"duplex\"],[\"2016\",\"row_house\"],[\"2016\",\"semi_detached_house\"],[\"2016\",\"movable_dwelling\"],[\"2016\",\"apartment_five_storeys_plus\"],[\"2016\",\"single_detached_house\"]],\"tags\":[[[\"year\",\"year\",null],[\"Variable\",\"Variable\",null]]]},\"id\":\"199670\",\"type\":\"FactorRange\"},{\"attributes\":{},\"id\":\"200034\",\"type\":\"Selection\"},{\"attributes\":{},\"id\":\"200035\",\"type\":\"UnionRenderers\"},{\"attributes\":{},\"id\":\"199994\",\"type\":\"Selection\"},{\"attributes\":{},\"id\":\"200036\",\"type\":\"Selection\"},{\"attributes\":{},\"id\":\"199656\",\"type\":\"UnionRenderers\"},{\"attributes\":{},\"id\":\"199815\",\"type\":\"UnionRenderers\"},{\"attributes\":{\"below\":[{\"id\":\"199545\"}],\"center\":[{\"id\":\"199548\"},{\"id\":\"199552\"}],\"left\":[{\"id\":\"199549\"}],\"margin\":[5,5,5,5],\"min_border_bottom\":10,\"min_border_left\":10,\"min_border_right\":10,\"min_border_top\":10,\"renderers\":[{\"id\":\"199572\"}],\"sizing_mode\":\"fixed\",\"title\":{\"id\":\"199537\"},\"toolbar\":{\"id\":\"199559\"},\"x_range\":{\"id\":\"199406\"},\"x_scale\":{\"id\":\"199541\"},\"y_range\":{\"id\":\"199534\"},\"y_scale\":{\"id\":\"199543\"}},\"id\":\"199536\",\"subtype\":\"Figure\",\"type\":\"Plot\"},{\"attributes\":{},\"id\":\"200037\",\"type\":\"UnionRenderers\"},{\"attributes\":{},\"id\":\"200038\",\"type\":\"Selection\"},{\"attributes\":{\"child\":{\"id\":\"199531\"},\"name\":\"Column93141\",\"title\":\"House Prices\"},\"id\":\"199595\",\"type\":\"Panel\"},{\"attributes\":{\"line_alpha\":0.1,\"line_color\":\"blue\",\"line_width\":2,\"x\":{\"field\":\"year\"},\"y\":{\"field\":\"average_house_value\"}},\"id\":\"199570\",\"type\":\"Line\"},{\"attributes\":{},\"id\":\"199938\",\"type\":\"Selection\"},{\"attributes\":{},\"id\":\"199995\",\"type\":\"UnionRenderers\"},{\"attributes\":{},\"id\":\"200039\",\"type\":\"UnionRenderers\"},{\"attributes\":{\"bottom_units\":\"screen\",\"fill_alpha\":0.5,\"fill_color\":\"lightgrey\",\"left_units\":\"screen\",\"level\":\"overlay\",\"line_alpha\":1.0,\"line_color\":\"black\",\"line_dash\":[4,4],\"line_width\":2,\"right_units\":\"screen\",\"top_units\":\"screen\"},\"id\":\"199493\",\"type\":\"BoxAnnotation\"},{\"attributes\":{},\"id\":\"199253\",\"type\":\"Selection\"},{\"attributes\":{\"axis_label\":\"Dwelling Type Units\",\"bounds\":\"auto\",\"formatter\":{\"id\":\"199321\"},\"major_label_orientation\":\"horizontal\",\"ticker\":{\"id\":\"199297\"}},\"id\":\"199296\",\"type\":\"LinearAxis\"},{\"attributes\":{\"data\":{\"lat\":[{\"__ndarray__\":\"O6OUrYHXRUA=\",\"dtype\":\"float64\",\"order\":\"little\",\"shape\":[1]}],\"lon\":[{\"__ndarray__\":\"TiCRW3jjU8A=\",\"dtype\":\"float64\",\"order\":\"little\",\"shape\":[1]}],\"marker.size\":[{\"__ndarray__\":\"AAAAAFhWHEE=\",\"dtype\":\"float64\",\"order\":\"little\",\"shape\":[1]}]},\"selected\":{\"id\":\"200074\"},\"selection_policy\":{\"id\":\"200073\"}},\"id\":\"199146\",\"type\":\"ColumnDataSource\"},{\"attributes\":{},\"id\":\"199297\",\"type\":\"BasicTicker\"},{\"attributes\":{\"data\":{\"lat\":[{\"__ndarray__\":\"6pL1xAjURUA=\",\"dtype\":\"float64\",\"order\":\"little\",\"shape\":[1]}],\"lon\":[{\"__ndarray__\":\"JvFmy4HXU8A=\",\"dtype\":\"float64\",\"order\":\"little\",\"shape\":[1]}],\"marker.size\":[{\"__ndarray__\":\"AAAAAMD9GEE=\",\"dtype\":\"float64\",\"order\":\"little\",\"shape\":[1]}]},\"selected\":{\"id\":\"199970\"},\"selection_policy\":{\"id\":\"199969\"}},\"id\":\"199094\",\"type\":\"ColumnDataSource\"},{\"attributes\":{\"axis\":{\"id\":\"199296\"},\"dimension\":1,\"grid_line_color\":null,\"ticker\":null},\"id\":\"199299\",\"type\":\"Grid\"},{\"attributes\":{\"source\":{\"id\":\"199313\"}},\"id\":\"199320\",\"type\":\"CDSView\"},{\"attributes\":{\"_render_count\":0,\"config\":null,\"data\":[{\"hovertemplate\":\"neighbourhood=Agincourt North<br>average_house_value=%{marker.size}<br>lat=%{lat}<br>lon=%{lon}<extra></extra>\",\"legendgroup\":\"Agincourt North\",\"marker\":{\"color\":\"#636efa\",\"sizemode\":\"area\",\"sizeref\":3816.214375},\"mode\":\"markers\",\"name\":\"Agincourt North\",\"showlegend\":true,\"subplot\":\"mapbox\",\"type\":\"scattermapbox\"},{\"hovertemplate\":\"neighbourhood=Agincourt South-Malvern West<br>average_house_value=%{marker.size}<br>lat=%{lat}<br>lon=%{lon}<extra></extra>\",\"legendgroup\":\"Agincourt South-Malvern West\",\"marker\":{\"color\":\"#EF553B\",\"sizemode\":\"area\",\"sizeref\":3816.214375},\"mode\":\"markers\",\"name\":\"Agincourt South-Malvern West\",\"showlegend\":true,\"subplot\":\"mapbox\",\"type\":\"scattermapbox\"},{\"hovertemplate\":\"neighbourhood=Alderwood<br>average_house_value=%{marker.size}<br>lat=%{lat}<br>lon=%{lon}<extra></extra>\",\"legendgroup\":\"Alderwood\",\"marker\":{\"color\":\"#00cc96\",\"sizemode\":\"area\",\"sizeref\":3816.214375},\"mode\":\"markers\",\"name\":\"Alderwood\",\"showlegend\":true,\"subplot\":\"mapbox\",\"type\":\"scattermapbox\"},{\"hovertemplate\":\"neighbourhood=Annex<br>average_house_value=%{marker.size}<br>lat=%{lat}<br>lon=%{lon}<extra></extra>\",\"legendgroup\":\"Annex\",\"marker\":{\"color\":\"#ab63fa\",\"sizemode\":\"area\",\"sizeref\":3816.214375},\"mode\":\"markers\",\"name\":\"Annex\",\"showlegend\":true,\"subplot\":\"mapbox\",\"type\":\"scattermapbox\"},{\"hovertemplate\":\"neighbourhood=Banbury-Don Mills<br>average_house_value=%{marker.size}<br>lat=%{lat}<br>lon=%{lon}<extra></extra>\",\"legendgroup\":\"Banbury-Don Mills\",\"marker\":{\"color\":\"#FFA15A\",\"sizemode\":\"area\",\"sizeref\":3816.214375},\"mode\":\"markers\",\"name\":\"Banbury-Don Mills\",\"showlegend\":true,\"subplot\":\"mapbox\",\"type\":\"scattermapbox\"},{\"hovertemplate\":\"neighbourhood=Bathurst Manor<br>average_house_value=%{marker.size}<br>lat=%{lat}<br>lon=%{lon}<extra></extra>\",\"legendgroup\":\"Bathurst Manor\",\"marker\":{\"color\":\"#19d3f3\",\"sizemode\":\"area\",\"sizeref\":3816.214375},\"mode\":\"markers\",\"name\":\"Bathurst Manor\",\"showlegend\":true,\"subplot\":\"mapbox\",\"type\":\"scattermapbox\"},{\"hovertemplate\":\"neighbourhood=Bay Street Corridor<br>average_house_value=%{marker.size}<br>lat=%{lat}<br>lon=%{lon}<extra></extra>\",\"legendgroup\":\"Bay Street Corridor\",\"marker\":{\"color\":\"#FF6692\",\"sizemode\":\"area\",\"sizeref\":3816.214375},\"mode\":\"markers\",\"name\":\"Bay Street Corridor\",\"showlegend\":true,\"subplot\":\"mapbox\",\"type\":\"scattermapbox\"},{\"hovertemplate\":\"neighbourhood=Bayview Village<br>average_house_value=%{marker.size}<br>lat=%{lat}<br>lon=%{lon}<extra></extra>\",\"legendgroup\":\"Bayview Village\",\"marker\":{\"color\":\"#B6E880\",\"sizemode\":\"area\",\"sizeref\":3816.214375},\"mode\":\"markers\",\"name\":\"Bayview Village\",\"showlegend\":true,\"subplot\":\"mapbox\",\"type\":\"scattermapbox\"},{\"hovertemplate\":\"neighbourhood=Bayview Woods-Steeles<br>average_house_value=%{marker.size}<br>lat=%{lat}<br>lon=%{lon}<extra></extra>\",\"legendgroup\":\"Bayview Woods-Steeles\",\"marker\":{\"color\":\"#FF97FF\",\"sizemode\":\"area\",\"sizeref\":3816.214375},\"mode\":\"markers\",\"name\":\"Bayview Woods-Steeles\",\"showlegend\":true,\"subplot\":\"mapbox\",\"type\":\"scattermapbox\"},{\"hovertemplate\":\"neighbourhood=Bedford Park-Nortown<br>average_house_value=%{marker.size}<br>lat=%{lat}<br>lon=%{lon}<extra></extra>\",\"legendgroup\":\"Bedford Park-Nortown\",\"marker\":{\"color\":\"#FECB52\",\"sizemode\":\"area\",\"sizeref\":3816.214375},\"mode\":\"markers\",\"name\":\"Bedford Park-Nortown\",\"showlegend\":true,\"subplot\":\"mapbox\",\"type\":\"scattermapbox\"},{\"hovertemplate\":\"neighbourhood=Beechborough-Greenbrook<br>average_house_value=%{marker.size}<br>lat=%{lat}<br>lon=%{lon}<extra></extra>\",\"legendgroup\":\"Beechborough-Greenbrook\",\"marker\":{\"color\":\"#636efa\",\"sizemode\":\"area\",\"sizeref\":3816.214375},\"mode\":\"markers\",\"name\":\"Beechborough-Greenbrook\",\"showlegend\":true,\"subplot\":\"mapbox\",\"type\":\"scattermapbox\"},{\"hovertemplate\":\"neighbourhood=Bendale<br>average_house_value=%{marker.size}<br>lat=%{lat}<br>lon=%{lon}<extra></extra>\",\"legendgroup\":\"Bendale\",\"marker\":{\"color\":\"#EF553B\",\"sizemode\":\"area\",\"sizeref\":3816.214375},\"mode\":\"markers\",\"name\":\"Bendale\",\"showlegend\":true,\"subplot\":\"mapbox\",\"type\":\"scattermapbox\"},{\"hovertemplate\":\"neighbourhood=Birchcliffe-Cliffside<br>average_house_value=%{marker.size}<br>lat=%{lat}<br>lon=%{lon}<extra></extra>\",\"legendgroup\":\"Birchcliffe-Cliffside\",\"marker\":{\"color\":\"#00cc96\",\"sizemode\":\"area\",\"sizeref\":3816.214375},\"mode\":\"markers\",\"name\":\"Birchcliffe-Cliffside\",\"showlegend\":true,\"subplot\":\"mapbox\",\"type\":\"scattermapbox\"},{\"hovertemplate\":\"neighbourhood=Black Creek<br>average_house_value=%{marker.size}<br>lat=%{lat}<br>lon=%{lon}<extra></extra>\",\"legendgroup\":\"Black Creek\",\"marker\":{\"color\":\"#ab63fa\",\"sizemode\":\"area\",\"sizeref\":3816.214375},\"mode\":\"markers\",\"name\":\"Black Creek\",\"showlegend\":true,\"subplot\":\"mapbox\",\"type\":\"scattermapbox\"},{\"hovertemplate\":\"neighbourhood=Blake-Jones<br>average_house_value=%{marker.size}<br>lat=%{lat}<br>lon=%{lon}<extra></extra>\",\"legendgroup\":\"Blake-Jones\",\"marker\":{\"color\":\"#FFA15A\",\"sizemode\":\"area\",\"sizeref\":3816.214375},\"mode\":\"markers\",\"name\":\"Blake-Jones\",\"showlegend\":true,\"subplot\":\"mapbox\",\"type\":\"scattermapbox\"},{\"hovertemplate\":\"neighbourhood=Briar Hill-Belgravia<br>average_house_value=%{marker.size}<br>lat=%{lat}<br>lon=%{lon}<extra></extra>\",\"legendgroup\":\"Briar Hill-Belgravia\",\"marker\":{\"color\":\"#19d3f3\",\"sizemode\":\"area\",\"sizeref\":3816.214375},\"mode\":\"markers\",\"name\":\"Briar Hill-Belgravia\",\"showlegend\":true,\"subplot\":\"mapbox\",\"type\":\"scattermapbox\"},{\"hovertemplate\":\"neighbourhood=Bridle Path-Sunnybrook-York Mills<br>average_house_value=%{marker.size}<br>lat=%{lat}<br>lon=%{lon}<extra></extra>\",\"legendgroup\":\"Bridle Path-Sunnybrook-York Mills\",\"marker\":{\"color\":\"#FF6692\",\"sizemode\":\"area\",\"sizeref\":3816.214375},\"mode\":\"markers\",\"name\":\"Bridle Path-Sunnybrook-York Mills\",\"showlegend\":true,\"subplot\":\"mapbox\",\"type\":\"scattermapbox\"},{\"hovertemplate\":\"neighbourhood=Broadview North<br>average_house_value=%{marker.size}<br>lat=%{lat}<br>lon=%{lon}<extra></extra>\",\"legendgroup\":\"Broadview North\",\"marker\":{\"color\":\"#B6E880\",\"sizemode\":\"area\",\"sizeref\":3816.214375},\"mode\":\"markers\",\"name\":\"Broadview North\",\"showlegend\":true,\"subplot\":\"mapbox\",\"type\":\"scattermapbox\"},{\"hovertemplate\":\"neighbourhood=Brookhaven-Amesbury<br>average_house_value=%{marker.size}<br>lat=%{lat}<br>lon=%{lon}<extra></extra>\",\"legendgroup\":\"Brookhaven-Amesbury\",\"marker\":{\"color\":\"#FF97FF\",\"sizemode\":\"area\",\"sizeref\":3816.214375},\"mode\":\"markers\",\"name\":\"Brookhaven-Amesbury\",\"showlegend\":true,\"subplot\":\"mapbox\",\"type\":\"scattermapbox\"},{\"hovertemplate\":\"neighbourhood=Cabbagetown-South St.James Town<br>average_house_value=%{marker.size}<br>lat=%{lat}<br>lon=%{lon}<extra></extra>\",\"legendgroup\":\"Cabbagetown-South St.James Town\",\"marker\":{\"color\":\"#FECB52\",\"sizemode\":\"area\",\"sizeref\":3816.214375},\"mode\":\"markers\",\"name\":\"Cabbagetown-South St.James Town\",\"showlegend\":true,\"subplot\":\"mapbox\",\"type\":\"scattermapbox\"},{\"hovertemplate\":\"neighbourhood=Caledonia-Fairbank<br>average_house_value=%{marker.size}<br>lat=%{lat}<br>lon=%{lon}<extra></extra>\",\"legendgroup\":\"Caledonia-Fairbank\",\"marker\":{\"color\":\"#636efa\",\"sizemode\":\"area\",\"sizeref\":3816.214375},\"mode\":\"markers\",\"name\":\"Caledonia-Fairbank\",\"showlegend\":true,\"subplot\":\"mapbox\",\"type\":\"scattermapbox\"},{\"hovertemplate\":\"neighbourhood=Casa Loma<br>average_house_value=%{marker.size}<br>lat=%{lat}<br>lon=%{lon}<extra></extra>\",\"legendgroup\":\"Casa Loma\",\"marker\":{\"color\":\"#EF553B\",\"sizemode\":\"area\",\"sizeref\":3816.214375},\"mode\":\"markers\",\"name\":\"Casa Loma\",\"showlegend\":true,\"subplot\":\"mapbox\",\"type\":\"scattermapbox\"},{\"hovertemplate\":\"neighbourhood=Centennial Scarborough<br>average_house_value=%{marker.size}<br>lat=%{lat}<br>lon=%{lon}<extra></extra>\",\"legendgroup\":\"Centennial Scarborough\",\"marker\":{\"color\":\"#00cc96\",\"sizemode\":\"area\",\"sizeref\":3816.214375},\"mode\":\"markers\",\"name\":\"Centennial Scarborough\",\"showlegend\":true,\"subplot\":\"mapbox\",\"type\":\"scattermapbox\"},{\"hovertemplate\":\"neighbourhood=Church-Yonge Corridor<br>average_house_value=%{marker.size}<br>lat=%{lat}<br>lon=%{lon}<extra></extra>\",\"legendgroup\":\"Church-Yonge Corridor\",\"marker\":{\"color\":\"#ab63fa\",\"sizemode\":\"area\",\"sizeref\":3816.214375},\"mode\":\"markers\",\"name\":\"Church-Yonge Corridor\",\"showlegend\":true,\"subplot\":\"mapbox\",\"type\":\"scattermapbox\"},{\"hovertemplate\":\"neighbourhood=Clairlea-Birchmount<br>average_house_value=%{marker.size}<br>lat=%{lat}<br>lon=%{lon}<extra></extra>\",\"legendgroup\":\"Clairlea-Birchmount\",\"marker\":{\"color\":\"#FFA15A\",\"sizemode\":\"area\",\"sizeref\":3816.214375},\"mode\":\"markers\",\"name\":\"Clairlea-Birchmount\",\"showlegend\":true,\"subplot\":\"mapbox\",\"type\":\"scattermapbox\"},{\"hovertemplate\":\"neighbourhood=Clanton Park<br>average_house_value=%{marker.size}<br>lat=%{lat}<br>lon=%{lon}<extra></extra>\",\"legendgroup\":\"Clanton Park\",\"marker\":{\"color\":\"#19d3f3\",\"sizemode\":\"area\",\"sizeref\":3816.214375},\"mode\":\"markers\",\"name\":\"Clanton Park\",\"showlegend\":true,\"subplot\":\"mapbox\",\"type\":\"scattermapbox\"},{\"hovertemplate\":\"neighbourhood=Cliffcrest<br>average_house_value=%{marker.size}<br>lat=%{lat}<br>lon=%{lon}<extra></extra>\",\"legendgroup\":\"Cliffcrest\",\"marker\":{\"color\":\"#FF6692\",\"sizemode\":\"area\",\"sizeref\":3816.214375},\"mode\":\"markers\",\"name\":\"Cliffcrest\",\"showlegend\":true,\"subplot\":\"mapbox\",\"type\":\"scattermapbox\"},{\"hovertemplate\":\"neighbourhood=Corso Italia-Davenport<br>average_house_value=%{marker.size}<br>lat=%{lat}<br>lon=%{lon}<extra></extra>\",\"legendgroup\":\"Corso Italia-Davenport\",\"marker\":{\"color\":\"#B6E880\",\"sizemode\":\"area\",\"sizeref\":3816.214375},\"mode\":\"markers\",\"name\":\"Corso Italia-Davenport\",\"showlegend\":true,\"subplot\":\"mapbox\",\"type\":\"scattermapbox\"},{\"hovertemplate\":\"neighbourhood=Danforth<br>average_house_value=%{marker.size}<br>lat=%{lat}<br>lon=%{lon}<extra></extra>\",\"legendgroup\":\"Danforth\",\"marker\":{\"color\":\"#FF97FF\",\"sizemode\":\"area\",\"sizeref\":3816.214375},\"mode\":\"markers\",\"name\":\"Danforth\",\"showlegend\":true,\"subplot\":\"mapbox\",\"type\":\"scattermapbox\"},{\"hovertemplate\":\"neighbourhood=Danforth-East York<br>average_house_value=%{marker.size}<br>lat=%{lat}<br>lon=%{lon}<extra></extra>\",\"legendgroup\":\"Danforth-East York\",\"marker\":{\"color\":\"#FECB52\",\"sizemode\":\"area\",\"sizeref\":3816.214375},\"mode\":\"markers\",\"name\":\"Danforth-East York\",\"showlegend\":true,\"subplot\":\"mapbox\",\"type\":\"scattermapbox\"},{\"hovertemplate\":\"neighbourhood=Don Valley Village<br>average_house_value=%{marker.size}<br>lat=%{lat}<br>lon=%{lon}<extra></extra>\",\"legendgroup\":\"Don Valley Village\",\"marker\":{\"color\":\"#636efa\",\"sizemode\":\"area\",\"sizeref\":3816.214375},\"mode\":\"markers\",\"name\":\"Don Valley Village\",\"showlegend\":true,\"subplot\":\"mapbox\",\"type\":\"scattermapbox\"},{\"hovertemplate\":\"neighbourhood=Dorset Park<br>average_house_value=%{marker.size}<br>lat=%{lat}<br>lon=%{lon}<extra></extra>\",\"legendgroup\":\"Dorset Park\",\"marker\":{\"color\":\"#EF553B\",\"sizemode\":\"area\",\"sizeref\":3816.214375},\"mode\":\"markers\",\"name\":\"Dorset Park\",\"showlegend\":true,\"subplot\":\"mapbox\",\"type\":\"scattermapbox\"},{\"hovertemplate\":\"neighbourhood=Dovercourt-Wallace Emerson-Juncti<br>average_house_value=%{marker.size}<br>lat=%{lat}<br>lon=%{lon}<extra></extra>\",\"legendgroup\":\"Dovercourt-Wallace Emerson-Juncti\",\"marker\":{\"color\":\"#00cc96\",\"sizemode\":\"area\",\"sizeref\":3816.214375},\"mode\":\"markers\",\"name\":\"Dovercourt-Wallace Emerson-Juncti\",\"showlegend\":true,\"subplot\":\"mapbox\",\"type\":\"scattermapbox\"},{\"hovertemplate\":\"neighbourhood=Downsview-Roding-CFB<br>average_house_value=%{marker.size}<br>lat=%{lat}<br>lon=%{lon}<extra></extra>\",\"legendgroup\":\"Downsview-Roding-CFB\",\"marker\":{\"color\":\"#ab63fa\",\"sizemode\":\"area\",\"sizeref\":3816.214375},\"mode\":\"markers\",\"name\":\"Downsview-Roding-CFB\",\"showlegend\":true,\"subplot\":\"mapbox\",\"type\":\"scattermapbox\"},{\"hovertemplate\":\"neighbourhood=Dufferin Grove<br>average_house_value=%{marker.size}<br>lat=%{lat}<br>lon=%{lon}<extra></extra>\",\"legendgroup\":\"Dufferin Grove\",\"marker\":{\"color\":\"#FFA15A\",\"sizemode\":\"area\",\"sizeref\":3816.214375},\"mode\":\"markers\",\"name\":\"Dufferin Grove\",\"showlegend\":true,\"subplot\":\"mapbox\",\"type\":\"scattermapbox\"},{\"hovertemplate\":\"neighbourhood=East End-Danforth<br>average_house_value=%{marker.size}<br>lat=%{lat}<br>lon=%{lon}<extra></extra>\",\"legendgroup\":\"East End-Danforth\",\"marker\":{\"color\":\"#19d3f3\",\"sizemode\":\"area\",\"sizeref\":3816.214375},\"mode\":\"markers\",\"name\":\"East End-Danforth\",\"showlegend\":true,\"subplot\":\"mapbox\",\"type\":\"scattermapbox\"},{\"hovertemplate\":\"neighbourhood=Edenbridge-Humber Valley<br>average_house_value=%{marker.size}<br>lat=%{lat}<br>lon=%{lon}<extra></extra>\",\"legendgroup\":\"Edenbridge-Humber Valley\",\"marker\":{\"color\":\"#FF6692\",\"sizemode\":\"area\",\"sizeref\":3816.214375},\"mode\":\"markers\",\"name\":\"Edenbridge-Humber Valley\",\"showlegend\":true,\"subplot\":\"mapbox\",\"type\":\"scattermapbox\"},{\"hovertemplate\":\"neighbourhood=Eglinton East<br>average_house_value=%{marker.size}<br>lat=%{lat}<br>lon=%{lon}<extra></extra>\",\"legendgroup\":\"Eglinton East\",\"marker\":{\"color\":\"#B6E880\",\"sizemode\":\"area\",\"sizeref\":3816.214375},\"mode\":\"markers\",\"name\":\"Eglinton East\",\"showlegend\":true,\"subplot\":\"mapbox\",\"type\":\"scattermapbox\"},{\"hovertemplate\":\"neighbourhood=Elms-Old Rexdale<br>average_house_value=%{marker.size}<br>lat=%{lat}<br>lon=%{lon}<extra></extra>\",\"legendgroup\":\"Elms-Old Rexdale\",\"marker\":{\"color\":\"#FF97FF\",\"sizemode\":\"area\",\"sizeref\":3816.214375},\"mode\":\"markers\",\"name\":\"Elms-Old Rexdale\",\"showlegend\":true,\"subplot\":\"mapbox\",\"type\":\"scattermapbox\"},{\"hovertemplate\":\"neighbourhood=Englemount-Lawrence<br>average_house_value=%{marker.size}<br>lat=%{lat}<br>lon=%{lon}<extra></extra>\",\"legendgroup\":\"Englemount-Lawrence\",\"marker\":{\"color\":\"#FECB52\",\"sizemode\":\"area\",\"sizeref\":3816.214375},\"mode\":\"markers\",\"name\":\"Englemount-Lawrence\",\"showlegend\":true,\"subplot\":\"mapbox\",\"type\":\"scattermapbox\"},{\"hovertemplate\":\"neighbourhood=Eringate-Centennial-West Deane<br>average_house_value=%{marker.size}<br>lat=%{lat}<br>lon=%{lon}<extra></extra>\",\"legendgroup\":\"Eringate-Centennial-West Deane\",\"marker\":{\"color\":\"#636efa\",\"sizemode\":\"area\",\"sizeref\":3816.214375},\"mode\":\"markers\",\"name\":\"Eringate-Centennial-West Deane\",\"showlegend\":true,\"subplot\":\"mapbox\",\"type\":\"scattermapbox\"},{\"hovertemplate\":\"neighbourhood=Etobicoke West Mall<br>average_house_value=%{marker.size}<br>lat=%{lat}<br>lon=%{lon}<extra></extra>\",\"legendgroup\":\"Etobicoke West Mall\",\"marker\":{\"color\":\"#EF553B\",\"sizemode\":\"area\",\"sizeref\":3816.214375},\"mode\":\"markers\",\"name\":\"Etobicoke West Mall\",\"showlegend\":true,\"subplot\":\"mapbox\",\"type\":\"scattermapbox\"},{\"hovertemplate\":\"neighbourhood=Flemingdon Park<br>average_house_value=%{marker.size}<br>lat=%{lat}<br>lon=%{lon}<extra></extra>\",\"legendgroup\":\"Flemingdon Park\",\"marker\":{\"color\":\"#00cc96\",\"sizemode\":\"area\",\"sizeref\":3816.214375},\"mode\":\"markers\",\"name\":\"Flemingdon Park\",\"showlegend\":true,\"subplot\":\"mapbox\",\"type\":\"scattermapbox\"},{\"hovertemplate\":\"neighbourhood=Forest Hill North<br>average_house_value=%{marker.size}<br>lat=%{lat}<br>lon=%{lon}<extra></extra>\",\"legendgroup\":\"Forest Hill North\",\"marker\":{\"color\":\"#ab63fa\",\"sizemode\":\"area\",\"sizeref\":3816.214375},\"mode\":\"markers\",\"name\":\"Forest Hill North\",\"showlegend\":true,\"subplot\":\"mapbox\",\"type\":\"scattermapbox\"},{\"hovertemplate\":\"neighbourhood=Forest Hill South<br>average_house_value=%{marker.size}<br>lat=%{lat}<br>lon=%{lon}<extra></extra>\",\"legendgroup\":\"Forest Hill South\",\"marker\":{\"color\":\"#FFA15A\",\"sizemode\":\"area\",\"sizeref\":3816.214375},\"mode\":\"markers\",\"name\":\"Forest Hill South\",\"showlegend\":true,\"subplot\":\"mapbox\",\"type\":\"scattermapbox\"},{\"hovertemplate\":\"neighbourhood=Glenfield-Jane Heights<br>average_house_value=%{marker.size}<br>lat=%{lat}<br>lon=%{lon}<extra></extra>\",\"legendgroup\":\"Glenfield-Jane Heights\",\"marker\":{\"color\":\"#19d3f3\",\"sizemode\":\"area\",\"sizeref\":3816.214375},\"mode\":\"markers\",\"name\":\"Glenfield-Jane Heights\",\"showlegend\":true,\"subplot\":\"mapbox\",\"type\":\"scattermapbox\"},{\"hovertemplate\":\"neighbourhood=Greenwood-Coxwell<br>average_house_value=%{marker.size}<br>lat=%{lat}<br>lon=%{lon}<extra></extra>\",\"legendgroup\":\"Greenwood-Coxwell\",\"marker\":{\"color\":\"#FF6692\",\"sizemode\":\"area\",\"sizeref\":3816.214375},\"mode\":\"markers\",\"name\":\"Greenwood-Coxwell\",\"showlegend\":true,\"subplot\":\"mapbox\",\"type\":\"scattermapbox\"},{\"hovertemplate\":\"neighbourhood=Guildwood<br>average_house_value=%{marker.size}<br>lat=%{lat}<br>lon=%{lon}<extra></extra>\",\"legendgroup\":\"Guildwood\",\"marker\":{\"color\":\"#B6E880\",\"sizemode\":\"area\",\"sizeref\":3816.214375},\"mode\":\"markers\",\"name\":\"Guildwood\",\"showlegend\":true,\"subplot\":\"mapbox\",\"type\":\"scattermapbox\"},{\"hovertemplate\":\"neighbourhood=Henry Farm<br>average_house_value=%{marker.size}<br>lat=%{lat}<br>lon=%{lon}<extra></extra>\",\"legendgroup\":\"Henry Farm\",\"marker\":{\"color\":\"#FF97FF\",\"sizemode\":\"area\",\"sizeref\":3816.214375},\"mode\":\"markers\",\"name\":\"Henry Farm\",\"showlegend\":true,\"subplot\":\"mapbox\",\"type\":\"scattermapbox\"},{\"hovertemplate\":\"neighbourhood=High Park North<br>average_house_value=%{marker.size}<br>lat=%{lat}<br>lon=%{lon}<extra></extra>\",\"legendgroup\":\"High Park North\",\"marker\":{\"color\":\"#FECB52\",\"sizemode\":\"area\",\"sizeref\":3816.214375},\"mode\":\"markers\",\"name\":\"High Park North\",\"showlegend\":true,\"subplot\":\"mapbox\",\"type\":\"scattermapbox\"},{\"hovertemplate\":\"neighbourhood=High Park-Swansea<br>average_house_value=%{marker.size}<br>lat=%{lat}<br>lon=%{lon}<extra></extra>\",\"legendgroup\":\"High Park-Swansea\",\"marker\":{\"color\":\"#636efa\",\"sizemode\":\"area\",\"sizeref\":3816.214375},\"mode\":\"markers\",\"name\":\"High Park-Swansea\",\"showlegend\":true,\"subplot\":\"mapbox\",\"type\":\"scattermapbox\"},{\"hovertemplate\":\"neighbourhood=Highland Creek<br>average_house_value=%{marker.size}<br>lat=%{lat}<br>lon=%{lon}<extra></extra>\",\"legendgroup\":\"Highland Creek\",\"marker\":{\"color\":\"#EF553B\",\"sizemode\":\"area\",\"sizeref\":3816.214375},\"mode\":\"markers\",\"name\":\"Highland Creek\",\"showlegend\":true,\"subplot\":\"mapbox\",\"type\":\"scattermapbox\"},{\"hovertemplate\":\"neighbourhood=Hillcrest Village<br>average_house_value=%{marker.size}<br>lat=%{lat}<br>lon=%{lon}<extra></extra>\",\"legendgroup\":\"Hillcrest Village\",\"marker\":{\"color\":\"#00cc96\",\"sizemode\":\"area\",\"sizeref\":3816.214375},\"mode\":\"markers\",\"name\":\"Hillcrest Village\",\"showlegend\":true,\"subplot\":\"mapbox\",\"type\":\"scattermapbox\"},{\"hovertemplate\":\"neighbourhood=Humber Heights-Westmount<br>average_house_value=%{marker.size}<br>lat=%{lat}<br>lon=%{lon}<extra></extra>\",\"legendgroup\":\"Humber Heights-Westmount\",\"marker\":{\"color\":\"#ab63fa\",\"sizemode\":\"area\",\"sizeref\":3816.214375},\"mode\":\"markers\",\"name\":\"Humber Heights-Westmount\",\"showlegend\":true,\"subplot\":\"mapbox\",\"type\":\"scattermapbox\"},{\"hovertemplate\":\"neighbourhood=Humber Summit<br>average_house_value=%{marker.size}<br>lat=%{lat}<br>lon=%{lon}<extra></extra>\",\"legendgroup\":\"Humber Summit\",\"marker\":{\"color\":\"#FFA15A\",\"sizemode\":\"area\",\"sizeref\":3816.214375},\"mode\":\"markers\",\"name\":\"Humber Summit\",\"showlegend\":true,\"subplot\":\"mapbox\",\"type\":\"scattermapbox\"},{\"hovertemplate\":\"neighbourhood=Humbermede<br>average_house_value=%{marker.size}<br>lat=%{lat}<br>lon=%{lon}<extra></extra>\",\"legendgroup\":\"Humbermede\",\"marker\":{\"color\":\"#19d3f3\",\"sizemode\":\"area\",\"sizeref\":3816.214375},\"mode\":\"markers\",\"name\":\"Humbermede\",\"showlegend\":true,\"subplot\":\"mapbox\",\"type\":\"scattermapbox\"},{\"hovertemplate\":\"neighbourhood=Humewood-Cedarvale<br>average_house_value=%{marker.size}<br>lat=%{lat}<br>lon=%{lon}<extra></extra>\",\"legendgroup\":\"Humewood-Cedarvale\",\"marker\":{\"color\":\"#FF6692\",\"sizemode\":\"area\",\"sizeref\":3816.214375},\"mode\":\"markers\",\"name\":\"Humewood-Cedarvale\",\"showlegend\":true,\"subplot\":\"mapbox\",\"type\":\"scattermapbox\"},{\"hovertemplate\":\"neighbourhood=Ionview<br>average_house_value=%{marker.size}<br>lat=%{lat}<br>lon=%{lon}<extra></extra>\",\"legendgroup\":\"Ionview\",\"marker\":{\"color\":\"#B6E880\",\"sizemode\":\"area\",\"sizeref\":3816.214375},\"mode\":\"markers\",\"name\":\"Ionview\",\"showlegend\":true,\"subplot\":\"mapbox\",\"type\":\"scattermapbox\"},{\"hovertemplate\":\"neighbourhood=Islington-City Centre West<br>average_house_value=%{marker.size}<br>lat=%{lat}<br>lon=%{lon}<extra></extra>\",\"legendgroup\":\"Islington-City Centre West\",\"marker\":{\"color\":\"#FF97FF\",\"sizemode\":\"area\",\"sizeref\":3816.214375},\"mode\":\"markers\",\"name\":\"Islington-City Centre West\",\"showlegend\":true,\"subplot\":\"mapbox\",\"type\":\"scattermapbox\"},{\"hovertemplate\":\"neighbourhood=Junction Area<br>average_house_value=%{marker.size}<br>lat=%{lat}<br>lon=%{lon}<extra></extra>\",\"legendgroup\":\"Junction Area\",\"marker\":{\"color\":\"#FECB52\",\"sizemode\":\"area\",\"sizeref\":3816.214375},\"mode\":\"markers\",\"name\":\"Junction Area\",\"showlegend\":true,\"subplot\":\"mapbox\",\"type\":\"scattermapbox\"},{\"hovertemplate\":\"neighbourhood=Keelesdale-Eglinton West<br>average_house_value=%{marker.size}<br>lat=%{lat}<br>lon=%{lon}<extra></extra>\",\"legendgroup\":\"Keelesdale-Eglinton West\",\"marker\":{\"color\":\"#636efa\",\"sizemode\":\"area\",\"sizeref\":3816.214375},\"mode\":\"markers\",\"name\":\"Keelesdale-Eglinton West\",\"showlegend\":true,\"subplot\":\"mapbox\",\"type\":\"scattermapbox\"},{\"hovertemplate\":\"neighbourhood=Kennedy Park<br>average_house_value=%{marker.size}<br>lat=%{lat}<br>lon=%{lon}<extra></extra>\",\"legendgroup\":\"Kennedy Park\",\"marker\":{\"color\":\"#EF553B\",\"sizemode\":\"area\",\"sizeref\":3816.214375},\"mode\":\"markers\",\"name\":\"Kennedy Park\",\"showlegend\":true,\"subplot\":\"mapbox\",\"type\":\"scattermapbox\"},{\"hovertemplate\":\"neighbourhood=Kensington-Chinatown<br>average_house_value=%{marker.size}<br>lat=%{lat}<br>lon=%{lon}<extra></extra>\",\"legendgroup\":\"Kensington-Chinatown\",\"marker\":{\"color\":\"#00cc96\",\"sizemode\":\"area\",\"sizeref\":3816.214375},\"mode\":\"markers\",\"name\":\"Kensington-Chinatown\",\"showlegend\":true,\"subplot\":\"mapbox\",\"type\":\"scattermapbox\"},{\"hovertemplate\":\"neighbourhood=Kingsview Village-The Westway<br>average_house_value=%{marker.size}<br>lat=%{lat}<br>lon=%{lon}<extra></extra>\",\"legendgroup\":\"Kingsview Village-The Westway\",\"marker\":{\"color\":\"#ab63fa\",\"sizemode\":\"area\",\"sizeref\":3816.214375},\"mode\":\"markers\",\"name\":\"Kingsview Village-The Westway\",\"showlegend\":true,\"subplot\":\"mapbox\",\"type\":\"scattermapbox\"},{\"hovertemplate\":\"neighbourhood=Kingsway South<br>average_house_value=%{marker.size}<br>lat=%{lat}<br>lon=%{lon}<extra></extra>\",\"legendgroup\":\"Kingsway South\",\"marker\":{\"color\":\"#FFA15A\",\"sizemode\":\"area\",\"sizeref\":3816.214375},\"mode\":\"markers\",\"name\":\"Kingsway South\",\"showlegend\":true,\"subplot\":\"mapbox\",\"type\":\"scattermapbox\"},{\"hovertemplate\":\"neighbourhood=L'Amoreaux<br>average_house_value=%{marker.size}<br>lat=%{lat}<br>lon=%{lon}<extra></extra>\",\"legendgroup\":\"L'Amoreaux\",\"marker\":{\"color\":\"#19d3f3\",\"sizemode\":\"area\",\"sizeref\":3816.214375},\"mode\":\"markers\",\"name\":\"L'Amoreaux\",\"showlegend\":true,\"subplot\":\"mapbox\",\"type\":\"scattermapbox\"},{\"hovertemplate\":\"neighbourhood=Lambton Baby Point<br>average_house_value=%{marker.size}<br>lat=%{lat}<br>lon=%{lon}<extra></extra>\",\"legendgroup\":\"Lambton Baby Point\",\"marker\":{\"color\":\"#FF6692\",\"sizemode\":\"area\",\"sizeref\":3816.214375},\"mode\":\"markers\",\"name\":\"Lambton Baby Point\",\"showlegend\":true,\"subplot\":\"mapbox\",\"type\":\"scattermapbox\"},{\"hovertemplate\":\"neighbourhood=Lansing-Westgate<br>average_house_value=%{marker.size}<br>lat=%{lat}<br>lon=%{lon}<extra></extra>\",\"legendgroup\":\"Lansing-Westgate\",\"marker\":{\"color\":\"#B6E880\",\"sizemode\":\"area\",\"sizeref\":3816.214375},\"mode\":\"markers\",\"name\":\"Lansing-Westgate\",\"showlegend\":true,\"subplot\":\"mapbox\",\"type\":\"scattermapbox\"},{\"hovertemplate\":\"neighbourhood=Lawrence Park North<br>average_house_value=%{marker.size}<br>lat=%{lat}<br>lon=%{lon}<extra></extra>\",\"legendgroup\":\"Lawrence Park North\",\"marker\":{\"color\":\"#FF97FF\",\"sizemode\":\"area\",\"sizeref\":3816.214375},\"mode\":\"markers\",\"name\":\"Lawrence Park North\",\"showlegend\":true,\"subplot\":\"mapbox\",\"type\":\"scattermapbox\"},{\"hovertemplate\":\"neighbourhood=Lawrence Park South<br>average_house_value=%{marker.size}<br>lat=%{lat}<br>lon=%{lon}<extra></extra>\",\"legendgroup\":\"Lawrence Park South\",\"marker\":{\"color\":\"#FECB52\",\"sizemode\":\"area\",\"sizeref\":3816.214375},\"mode\":\"markers\",\"name\":\"Lawrence Park South\",\"showlegend\":true,\"subplot\":\"mapbox\",\"type\":\"scattermapbox\"},{\"hovertemplate\":\"neighbourhood=Leaside-Bennington<br>average_house_value=%{marker.size}<br>lat=%{lat}<br>lon=%{lon}<extra></extra>\",\"legendgroup\":\"Leaside-Bennington\",\"marker\":{\"color\":\"#636efa\",\"sizemode\":\"area\",\"sizeref\":3816.214375},\"mode\":\"markers\",\"name\":\"Leaside-Bennington\",\"showlegend\":true,\"subplot\":\"mapbox\",\"type\":\"scattermapbox\"},{\"hovertemplate\":\"neighbourhood=Little Portugal<br>average_house_value=%{marker.size}<br>lat=%{lat}<br>lon=%{lon}<extra></extra>\",\"legendgroup\":\"Little Portugal\",\"marker\":{\"color\":\"#EF553B\",\"sizemode\":\"area\",\"sizeref\":3816.214375},\"mode\":\"markers\",\"name\":\"Little Portugal\",\"showlegend\":true,\"subplot\":\"mapbox\",\"type\":\"scattermapbox\"},{\"hovertemplate\":\"neighbourhood=Long Branch<br>average_house_value=%{marker.size}<br>lat=%{lat}<br>lon=%{lon}<extra></extra>\",\"legendgroup\":\"Long Branch\",\"marker\":{\"color\":\"#00cc96\",\"sizemode\":\"area\",\"sizeref\":3816.214375},\"mode\":\"markers\",\"name\":\"Long Branch\",\"showlegend\":true,\"subplot\":\"mapbox\",\"type\":\"scattermapbox\"},{\"hovertemplate\":\"neighbourhood=Malvern<br>average_house_value=%{marker.size}<br>lat=%{lat}<br>lon=%{lon}<extra></extra>\",\"legendgroup\":\"Malvern\",\"marker\":{\"color\":\"#ab63fa\",\"sizemode\":\"area\",\"sizeref\":3816.214375},\"mode\":\"markers\",\"name\":\"Malvern\",\"showlegend\":true,\"subplot\":\"mapbox\",\"type\":\"scattermapbox\"},{\"hovertemplate\":\"neighbourhood=Maple Leaf<br>average_house_value=%{marker.size}<br>lat=%{lat}<br>lon=%{lon}<extra></extra>\",\"legendgroup\":\"Maple Leaf\",\"marker\":{\"color\":\"#FFA15A\",\"sizemode\":\"area\",\"sizeref\":3816.214375},\"mode\":\"markers\",\"name\":\"Maple Leaf\",\"showlegend\":true,\"subplot\":\"mapbox\",\"type\":\"scattermapbox\"},{\"hovertemplate\":\"neighbourhood=Markland Wood<br>average_house_value=%{marker.size}<br>lat=%{lat}<br>lon=%{lon}<extra></extra>\",\"legendgroup\":\"Markland Wood\",\"marker\":{\"color\":\"#19d3f3\",\"sizemode\":\"area\",\"sizeref\":3816.214375},\"mode\":\"markers\",\"name\":\"Markland Wood\",\"showlegend\":true,\"subplot\":\"mapbox\",\"type\":\"scattermapbox\"},{\"hovertemplate\":\"neighbourhood=Milliken<br>average_house_value=%{marker.size}<br>lat=%{lat}<br>lon=%{lon}<extra></extra>\",\"legendgroup\":\"Milliken\",\"marker\":{\"color\":\"#FF6692\",\"sizemode\":\"area\",\"sizeref\":3816.214375},\"mode\":\"markers\",\"name\":\"Milliken\",\"showlegend\":true,\"subplot\":\"mapbox\",\"type\":\"scattermapbox\"},{\"hovertemplate\":\"neighbourhood=Mimico<br>average_house_value=%{marker.size}<br>lat=%{lat}<br>lon=%{lon}<extra></extra>\",\"legendgroup\":\"Mimico\",\"marker\":{\"color\":\"#B6E880\",\"sizemode\":\"area\",\"sizeref\":3816.214375},\"mode\":\"markers\",\"name\":\"Mimico\",\"showlegend\":true,\"subplot\":\"mapbox\",\"type\":\"scattermapbox\"},{\"hovertemplate\":\"neighbourhood=Morningside<br>average_house_value=%{marker.size}<br>lat=%{lat}<br>lon=%{lon}<extra></extra>\",\"legendgroup\":\"Morningside\",\"marker\":{\"color\":\"#FF97FF\",\"sizemode\":\"area\",\"sizeref\":3816.214375},\"mode\":\"markers\",\"name\":\"Morningside\",\"showlegend\":true,\"subplot\":\"mapbox\",\"type\":\"scattermapbox\"},{\"hovertemplate\":\"neighbourhood=Moss Park<br>average_house_value=%{marker.size}<br>lat=%{lat}<br>lon=%{lon}<extra></extra>\",\"legendgroup\":\"Moss Park\",\"marker\":{\"color\":\"#FECB52\",\"sizemode\":\"area\",\"sizeref\":3816.214375},\"mode\":\"markers\",\"name\":\"Moss Park\",\"showlegend\":true,\"subplot\":\"mapbox\",\"type\":\"scattermapbox\"},{\"hovertemplate\":\"neighbourhood=Mount Dennis<br>average_house_value=%{marker.size}<br>lat=%{lat}<br>lon=%{lon}<extra></extra>\",\"legendgroup\":\"Mount Dennis\",\"marker\":{\"color\":\"#636efa\",\"sizemode\":\"area\",\"sizeref\":3816.214375},\"mode\":\"markers\",\"name\":\"Mount Dennis\",\"showlegend\":true,\"subplot\":\"mapbox\",\"type\":\"scattermapbox\"},{\"hovertemplate\":\"neighbourhood=Mount Olive-Silverstone-Jamestown<br>average_house_value=%{marker.size}<br>lat=%{lat}<br>lon=%{lon}<extra></extra>\",\"legendgroup\":\"Mount Olive-Silverstone-Jamestown\",\"marker\":{\"color\":\"#EF553B\",\"sizemode\":\"area\",\"sizeref\":3816.214375},\"mode\":\"markers\",\"name\":\"Mount Olive-Silverstone-Jamestown\",\"showlegend\":true,\"subplot\":\"mapbox\",\"type\":\"scattermapbox\"},{\"hovertemplate\":\"neighbourhood=Mount Pleasant East<br>average_house_value=%{marker.size}<br>lat=%{lat}<br>lon=%{lon}<extra></extra>\",\"legendgroup\":\"Mount Pleasant East\",\"marker\":{\"color\":\"#00cc96\",\"sizemode\":\"area\",\"sizeref\":3816.214375},\"mode\":\"markers\",\"name\":\"Mount Pleasant East\",\"showlegend\":true,\"subplot\":\"mapbox\",\"type\":\"scattermapbox\"},{\"hovertemplate\":\"neighbourhood=Mount Pleasant West<br>average_house_value=%{marker.size}<br>lat=%{lat}<br>lon=%{lon}<extra></extra>\",\"legendgroup\":\"Mount Pleasant West\",\"marker\":{\"color\":\"#ab63fa\",\"sizemode\":\"area\",\"sizeref\":3816.214375},\"mode\":\"markers\",\"name\":\"Mount Pleasant West\",\"showlegend\":true,\"subplot\":\"mapbox\",\"type\":\"scattermapbox\"},{\"hovertemplate\":\"neighbourhood=New Toronto<br>average_house_value=%{marker.size}<br>lat=%{lat}<br>lon=%{lon}<extra></extra>\",\"legendgroup\":\"New Toronto\",\"marker\":{\"color\":\"#FFA15A\",\"sizemode\":\"area\",\"sizeref\":3816.214375},\"mode\":\"markers\",\"name\":\"New Toronto\",\"showlegend\":true,\"subplot\":\"mapbox\",\"type\":\"scattermapbox\"},{\"hovertemplate\":\"neighbourhood=Newtonbrook East<br>average_house_value=%{marker.size}<br>lat=%{lat}<br>lon=%{lon}<extra></extra>\",\"legendgroup\":\"Newtonbrook East\",\"marker\":{\"color\":\"#19d3f3\",\"sizemode\":\"area\",\"sizeref\":3816.214375},\"mode\":\"markers\",\"name\":\"Newtonbrook East\",\"showlegend\":true,\"subplot\":\"mapbox\",\"type\":\"scattermapbox\"},{\"hovertemplate\":\"neighbourhood=Newtonbrook West<br>average_house_value=%{marker.size}<br>lat=%{lat}<br>lon=%{lon}<extra></extra>\",\"legendgroup\":\"Newtonbrook West\",\"marker\":{\"color\":\"#FF6692\",\"sizemode\":\"area\",\"sizeref\":3816.214375},\"mode\":\"markers\",\"name\":\"Newtonbrook West\",\"showlegend\":true,\"subplot\":\"mapbox\",\"type\":\"scattermapbox\"},{\"hovertemplate\":\"neighbourhood=Niagara<br>average_house_value=%{marker.size}<br>lat=%{lat}<br>lon=%{lon}<extra></extra>\",\"legendgroup\":\"Niagara\",\"marker\":{\"color\":\"#B6E880\",\"sizemode\":\"area\",\"sizeref\":3816.214375},\"mode\":\"markers\",\"name\":\"Niagara\",\"showlegend\":true,\"subplot\":\"mapbox\",\"type\":\"scattermapbox\"},{\"hovertemplate\":\"neighbourhood=North Riverdale<br>average_house_value=%{marker.size}<br>lat=%{lat}<br>lon=%{lon}<extra></extra>\",\"legendgroup\":\"North Riverdale\",\"marker\":{\"color\":\"#FF97FF\",\"sizemode\":\"area\",\"sizeref\":3816.214375},\"mode\":\"markers\",\"name\":\"North Riverdale\",\"showlegend\":true,\"subplot\":\"mapbox\",\"type\":\"scattermapbox\"},{\"hovertemplate\":\"neighbourhood=North St.James Town<br>average_house_value=%{marker.size}<br>lat=%{lat}<br>lon=%{lon}<extra></extra>\",\"legendgroup\":\"North St.James Town\",\"marker\":{\"color\":\"#FECB52\",\"sizemode\":\"area\",\"sizeref\":3816.214375},\"mode\":\"markers\",\"name\":\"North St.James Town\",\"showlegend\":true,\"subplot\":\"mapbox\",\"type\":\"scattermapbox\"},{\"hovertemplate\":\"neighbourhood=O'Connor-Parkview<br>average_house_value=%{marker.size}<br>lat=%{lat}<br>lon=%{lon}<extra></extra>\",\"legendgroup\":\"O'Connor-Parkview\",\"marker\":{\"color\":\"#636efa\",\"sizemode\":\"area\",\"sizeref\":3816.214375},\"mode\":\"markers\",\"name\":\"O'Connor-Parkview\",\"showlegend\":true,\"subplot\":\"mapbox\",\"type\":\"scattermapbox\"},{\"hovertemplate\":\"neighbourhood=Oakridge<br>average_house_value=%{marker.size}<br>lat=%{lat}<br>lon=%{lon}<extra></extra>\",\"legendgroup\":\"Oakridge\",\"marker\":{\"color\":\"#EF553B\",\"sizemode\":\"area\",\"sizeref\":3816.214375},\"mode\":\"markers\",\"name\":\"Oakridge\",\"showlegend\":true,\"subplot\":\"mapbox\",\"type\":\"scattermapbox\"},{\"hovertemplate\":\"neighbourhood=Oakwood Village<br>average_house_value=%{marker.size}<br>lat=%{lat}<br>lon=%{lon}<extra></extra>\",\"legendgroup\":\"Oakwood Village\",\"marker\":{\"color\":\"#00cc96\",\"sizemode\":\"area\",\"sizeref\":3816.214375},\"mode\":\"markers\",\"name\":\"Oakwood Village\",\"showlegend\":true,\"subplot\":\"mapbox\",\"type\":\"scattermapbox\"},{\"hovertemplate\":\"neighbourhood=Old East York<br>average_house_value=%{marker.size}<br>lat=%{lat}<br>lon=%{lon}<extra></extra>\",\"legendgroup\":\"Old East York\",\"marker\":{\"color\":\"#ab63fa\",\"sizemode\":\"area\",\"sizeref\":3816.214375},\"mode\":\"markers\",\"name\":\"Old East York\",\"showlegend\":true,\"subplot\":\"mapbox\",\"type\":\"scattermapbox\"},{\"hovertemplate\":\"neighbourhood=Palmerston-Little Italy<br>average_house_value=%{marker.size}<br>lat=%{lat}<br>lon=%{lon}<extra></extra>\",\"legendgroup\":\"Palmerston-Little Italy\",\"marker\":{\"color\":\"#FFA15A\",\"sizemode\":\"area\",\"sizeref\":3816.214375},\"mode\":\"markers\",\"name\":\"Palmerston-Little Italy\",\"showlegend\":true,\"subplot\":\"mapbox\",\"type\":\"scattermapbox\"},{\"hovertemplate\":\"neighbourhood=Parkwoods-Donalda<br>average_house_value=%{marker.size}<br>lat=%{lat}<br>lon=%{lon}<extra></extra>\",\"legendgroup\":\"Parkwoods-Donalda\",\"marker\":{\"color\":\"#19d3f3\",\"sizemode\":\"area\",\"sizeref\":3816.214375},\"mode\":\"markers\",\"name\":\"Parkwoods-Donalda\",\"showlegend\":true,\"subplot\":\"mapbox\",\"type\":\"scattermapbox\"},{\"hovertemplate\":\"neighbourhood=Pelmo Park-Humberlea<br>average_house_value=%{marker.size}<br>lat=%{lat}<br>lon=%{lon}<extra></extra>\",\"legendgroup\":\"Pelmo Park-Humberlea\",\"marker\":{\"color\":\"#FF6692\",\"sizemode\":\"area\",\"sizeref\":3816.214375},\"mode\":\"markers\",\"name\":\"Pelmo Park-Humberlea\",\"showlegend\":true,\"subplot\":\"mapbox\",\"type\":\"scattermapbox\"},{\"hovertemplate\":\"neighbourhood=Playter Estates-Danforth<br>average_house_value=%{marker.size}<br>lat=%{lat}<br>lon=%{lon}<extra></extra>\",\"legendgroup\":\"Playter Estates-Danforth\",\"marker\":{\"color\":\"#B6E880\",\"sizemode\":\"area\",\"sizeref\":3816.214375},\"mode\":\"markers\",\"name\":\"Playter Estates-Danforth\",\"showlegend\":true,\"subplot\":\"mapbox\",\"type\":\"scattermapbox\"},{\"hovertemplate\":\"neighbourhood=Pleasant View<br>average_house_value=%{marker.size}<br>lat=%{lat}<br>lon=%{lon}<extra></extra>\",\"legendgroup\":\"Pleasant View\",\"marker\":{\"color\":\"#FF97FF\",\"sizemode\":\"area\",\"sizeref\":3816.214375},\"mode\":\"markers\",\"name\":\"Pleasant View\",\"showlegend\":true,\"subplot\":\"mapbox\",\"type\":\"scattermapbox\"},{\"hovertemplate\":\"neighbourhood=Princess-Rosethorn<br>average_house_value=%{marker.size}<br>lat=%{lat}<br>lon=%{lon}<extra></extra>\",\"legendgroup\":\"Princess-Rosethorn\",\"marker\":{\"color\":\"#FECB52\",\"sizemode\":\"area\",\"sizeref\":3816.214375},\"mode\":\"markers\",\"name\":\"Princess-Rosethorn\",\"showlegend\":true,\"subplot\":\"mapbox\",\"type\":\"scattermapbox\"},{\"hovertemplate\":\"neighbourhood=Regent Park<br>average_house_value=%{marker.size}<br>lat=%{lat}<br>lon=%{lon}<extra></extra>\",\"legendgroup\":\"Regent Park\",\"marker\":{\"color\":\"#636efa\",\"sizemode\":\"area\",\"sizeref\":3816.214375},\"mode\":\"markers\",\"name\":\"Regent Park\",\"showlegend\":true,\"subplot\":\"mapbox\",\"type\":\"scattermapbox\"},{\"hovertemplate\":\"neighbourhood=Rexdale-Kipling<br>average_house_value=%{marker.size}<br>lat=%{lat}<br>lon=%{lon}<extra></extra>\",\"legendgroup\":\"Rexdale-Kipling\",\"marker\":{\"color\":\"#EF553B\",\"sizemode\":\"area\",\"sizeref\":3816.214375},\"mode\":\"markers\",\"name\":\"Rexdale-Kipling\",\"showlegend\":true,\"subplot\":\"mapbox\",\"type\":\"scattermapbox\"},{\"hovertemplate\":\"neighbourhood=Rockcliffe-Smythe<br>average_house_value=%{marker.size}<br>lat=%{lat}<br>lon=%{lon}<extra></extra>\",\"legendgroup\":\"Rockcliffe-Smythe\",\"marker\":{\"color\":\"#00cc96\",\"sizemode\":\"area\",\"sizeref\":3816.214375},\"mode\":\"markers\",\"name\":\"Rockcliffe-Smythe\",\"showlegend\":true,\"subplot\":\"mapbox\",\"type\":\"scattermapbox\"},{\"hovertemplate\":\"neighbourhood=Roncesvalles<br>average_house_value=%{marker.size}<br>lat=%{lat}<br>lon=%{lon}<extra></extra>\",\"legendgroup\":\"Roncesvalles\",\"marker\":{\"color\":\"#ab63fa\",\"sizemode\":\"area\",\"sizeref\":3816.214375},\"mode\":\"markers\",\"name\":\"Roncesvalles\",\"showlegend\":true,\"subplot\":\"mapbox\",\"type\":\"scattermapbox\"},{\"hovertemplate\":\"neighbourhood=Rosedale-Moore Park<br>average_house_value=%{marker.size}<br>lat=%{lat}<br>lon=%{lon}<extra></extra>\",\"legendgroup\":\"Rosedale-Moore Park\",\"marker\":{\"color\":\"#FFA15A\",\"sizemode\":\"area\",\"sizeref\":3816.214375},\"mode\":\"markers\",\"name\":\"Rosedale-Moore Park\",\"showlegend\":true,\"subplot\":\"mapbox\",\"type\":\"scattermapbox\"},{\"hovertemplate\":\"neighbourhood=Rouge<br>average_house_value=%{marker.size}<br>lat=%{lat}<br>lon=%{lon}<extra></extra>\",\"legendgroup\":\"Rouge\",\"marker\":{\"color\":\"#19d3f3\",\"sizemode\":\"area\",\"sizeref\":3816.214375},\"mode\":\"markers\",\"name\":\"Rouge\",\"showlegend\":true,\"subplot\":\"mapbox\",\"type\":\"scattermapbox\"},{\"hovertemplate\":\"neighbourhood=Runnymede-Bloor West Village<br>average_house_value=%{marker.size}<br>lat=%{lat}<br>lon=%{lon}<extra></extra>\",\"legendgroup\":\"Runnymede-Bloor West Village\",\"marker\":{\"color\":\"#FF6692\",\"sizemode\":\"area\",\"sizeref\":3816.214375},\"mode\":\"markers\",\"name\":\"Runnymede-Bloor West Village\",\"showlegend\":true,\"subplot\":\"mapbox\",\"type\":\"scattermapbox\"},{\"hovertemplate\":\"neighbourhood=Rustic<br>average_house_value=%{marker.size}<br>lat=%{lat}<br>lon=%{lon}<extra></extra>\",\"legendgroup\":\"Rustic\",\"marker\":{\"color\":\"#B6E880\",\"sizemode\":\"area\",\"sizeref\":3816.214375},\"mode\":\"markers\",\"name\":\"Rustic\",\"showlegend\":true,\"subplot\":\"mapbox\",\"type\":\"scattermapbox\"},{\"hovertemplate\":\"neighbourhood=Scarborough Village<br>average_house_value=%{marker.size}<br>lat=%{lat}<br>lon=%{lon}<extra></extra>\",\"legendgroup\":\"Scarborough Village\",\"marker\":{\"color\":\"#FF97FF\",\"sizemode\":\"area\",\"sizeref\":3816.214375},\"mode\":\"markers\",\"name\":\"Scarborough Village\",\"showlegend\":true,\"subplot\":\"mapbox\",\"type\":\"scattermapbox\"},{\"hovertemplate\":\"neighbourhood=South Parkdale<br>average_house_value=%{marker.size}<br>lat=%{lat}<br>lon=%{lon}<extra></extra>\",\"legendgroup\":\"South Parkdale\",\"marker\":{\"color\":\"#FECB52\",\"sizemode\":\"area\",\"sizeref\":3816.214375},\"mode\":\"markers\",\"name\":\"South Parkdale\",\"showlegend\":true,\"subplot\":\"mapbox\",\"type\":\"scattermapbox\"},{\"hovertemplate\":\"neighbourhood=South Riverdale<br>average_house_value=%{marker.size}<br>lat=%{lat}<br>lon=%{lon}<extra></extra>\",\"legendgroup\":\"South Riverdale\",\"marker\":{\"color\":\"#636efa\",\"sizemode\":\"area\",\"sizeref\":3816.214375},\"mode\":\"markers\",\"name\":\"South Riverdale\",\"showlegend\":true,\"subplot\":\"mapbox\",\"type\":\"scattermapbox\"},{\"hovertemplate\":\"neighbourhood=St.Andrew-Windfields<br>average_house_value=%{marker.size}<br>lat=%{lat}<br>lon=%{lon}<extra></extra>\",\"legendgroup\":\"St.Andrew-Windfields\",\"marker\":{\"color\":\"#EF553B\",\"sizemode\":\"area\",\"sizeref\":3816.214375},\"mode\":\"markers\",\"name\":\"St.Andrew-Windfields\",\"showlegend\":true,\"subplot\":\"mapbox\",\"type\":\"scattermapbox\"},{\"hovertemplate\":\"neighbourhood=Steeles<br>average_house_value=%{marker.size}<br>lat=%{lat}<br>lon=%{lon}<extra></extra>\",\"legendgroup\":\"Steeles\",\"marker\":{\"color\":\"#00cc96\",\"sizemode\":\"area\",\"sizeref\":3816.214375},\"mode\":\"markers\",\"name\":\"Steeles\",\"showlegend\":true,\"subplot\":\"mapbox\",\"type\":\"scattermapbox\"},{\"hovertemplate\":\"neighbourhood=Stonegate-Queensway<br>average_house_value=%{marker.size}<br>lat=%{lat}<br>lon=%{lon}<extra></extra>\",\"legendgroup\":\"Stonegate-Queensway\",\"marker\":{\"color\":\"#ab63fa\",\"sizemode\":\"area\",\"sizeref\":3816.214375},\"mode\":\"markers\",\"name\":\"Stonegate-Queensway\",\"showlegend\":true,\"subplot\":\"mapbox\",\"type\":\"scattermapbox\"},{\"hovertemplate\":\"neighbourhood=Tam O'Shanter-Sullivan<br>average_house_value=%{marker.size}<br>lat=%{lat}<br>lon=%{lon}<extra></extra>\",\"legendgroup\":\"Tam O'Shanter-Sullivan\",\"marker\":{\"color\":\"#FFA15A\",\"sizemode\":\"area\",\"sizeref\":3816.214375},\"mode\":\"markers\",\"name\":\"Tam O'Shanter-Sullivan\",\"showlegend\":true,\"subplot\":\"mapbox\",\"type\":\"scattermapbox\"},{\"hovertemplate\":\"neighbourhood=Taylor-Massey<br>average_house_value=%{marker.size}<br>lat=%{lat}<br>lon=%{lon}<extra></extra>\",\"legendgroup\":\"Taylor-Massey\",\"marker\":{\"color\":\"#19d3f3\",\"sizemode\":\"area\",\"sizeref\":3816.214375},\"mode\":\"markers\",\"name\":\"Taylor-Massey\",\"showlegend\":true,\"subplot\":\"mapbox\",\"type\":\"scattermapbox\"},{\"hovertemplate\":\"neighbourhood=The Beaches<br>average_house_value=%{marker.size}<br>lat=%{lat}<br>lon=%{lon}<extra></extra>\",\"legendgroup\":\"The Beaches\",\"marker\":{\"color\":\"#FF6692\",\"sizemode\":\"area\",\"sizeref\":3816.214375},\"mode\":\"markers\",\"name\":\"The Beaches\",\"showlegend\":true,\"subplot\":\"mapbox\",\"type\":\"scattermapbox\"},{\"hovertemplate\":\"neighbourhood=Thistletown-Beaumond Heights<br>average_house_value=%{marker.size}<br>lat=%{lat}<br>lon=%{lon}<extra></extra>\",\"legendgroup\":\"Thistletown-Beaumond Heights\",\"marker\":{\"color\":\"#B6E880\",\"sizemode\":\"area\",\"sizeref\":3816.214375},\"mode\":\"markers\",\"name\":\"Thistletown-Beaumond Heights\",\"showlegend\":true,\"subplot\":\"mapbox\",\"type\":\"scattermapbox\"},{\"hovertemplate\":\"neighbourhood=Thorncliffe Park<br>average_house_value=%{marker.size}<br>lat=%{lat}<br>lon=%{lon}<extra></extra>\",\"legendgroup\":\"Thorncliffe Park\",\"marker\":{\"color\":\"#FF97FF\",\"sizemode\":\"area\",\"sizeref\":3816.214375},\"mode\":\"markers\",\"name\":\"Thorncliffe Park\",\"showlegend\":true,\"subplot\":\"mapbox\",\"type\":\"scattermapbox\"},{\"hovertemplate\":\"neighbourhood=Trinity-Bellwoods<br>average_house_value=%{marker.size}<br>lat=%{lat}<br>lon=%{lon}<extra></extra>\",\"legendgroup\":\"Trinity-Bellwoods\",\"marker\":{\"color\":\"#FECB52\",\"sizemode\":\"area\",\"sizeref\":3816.214375},\"mode\":\"markers\",\"name\":\"Trinity-Bellwoods\",\"showlegend\":true,\"subplot\":\"mapbox\",\"type\":\"scattermapbox\"},{\"hovertemplate\":\"neighbourhood=University<br>average_house_value=%{marker.size}<br>lat=%{lat}<br>lon=%{lon}<extra></extra>\",\"legendgroup\":\"University\",\"marker\":{\"color\":\"#636efa\",\"sizemode\":\"area\",\"sizeref\":3816.214375},\"mode\":\"markers\",\"name\":\"University\",\"showlegend\":true,\"subplot\":\"mapbox\",\"type\":\"scattermapbox\"},{\"hovertemplate\":\"neighbourhood=Victoria Village<br>average_house_value=%{marker.size}<br>lat=%{lat}<br>lon=%{lon}<extra></extra>\",\"legendgroup\":\"Victoria Village\",\"marker\":{\"color\":\"#EF553B\",\"sizemode\":\"area\",\"sizeref\":3816.214375},\"mode\":\"markers\",\"name\":\"Victoria Village\",\"showlegend\":true,\"subplot\":\"mapbox\",\"type\":\"scattermapbox\"},{\"hovertemplate\":\"neighbourhood=Waterfront Communities-The Island<br>average_house_value=%{marker.size}<br>lat=%{lat}<br>lon=%{lon}<extra></extra>\",\"legendgroup\":\"Waterfront Communities-The Island\",\"marker\":{\"color\":\"#00cc96\",\"sizemode\":\"area\",\"sizeref\":3816.214375},\"mode\":\"markers\",\"name\":\"Waterfront Communities-The Island\",\"showlegend\":true,\"subplot\":\"mapbox\",\"type\":\"scattermapbox\"},{\"hovertemplate\":\"neighbourhood=West Hill<br>average_house_value=%{marker.size}<br>lat=%{lat}<br>lon=%{lon}<extra></extra>\",\"legendgroup\":\"West Hill\",\"marker\":{\"color\":\"#ab63fa\",\"sizemode\":\"area\",\"sizeref\":3816.214375},\"mode\":\"markers\",\"name\":\"West Hill\",\"showlegend\":true,\"subplot\":\"mapbox\",\"type\":\"scattermapbox\"},{\"hovertemplate\":\"neighbourhood=West Humber-Clairville<br>average_house_value=%{marker.size}<br>lat=%{lat}<br>lon=%{lon}<extra></extra>\",\"legendgroup\":\"West Humber-Clairville\",\"marker\":{\"color\":\"#FFA15A\",\"sizemode\":\"area\",\"sizeref\":3816.214375},\"mode\":\"markers\",\"name\":\"West Humber-Clairville\",\"showlegend\":true,\"subplot\":\"mapbox\",\"type\":\"scattermapbox\"},{\"hovertemplate\":\"neighbourhood=Westminster-Branson<br>average_house_value=%{marker.size}<br>lat=%{lat}<br>lon=%{lon}<extra></extra>\",\"legendgroup\":\"Westminster-Branson\",\"marker\":{\"color\":\"#19d3f3\",\"sizemode\":\"area\",\"sizeref\":3816.214375},\"mode\":\"markers\",\"name\":\"Westminster-Branson\",\"showlegend\":true,\"subplot\":\"mapbox\",\"type\":\"scattermapbox\"},{\"hovertemplate\":\"neighbourhood=Weston<br>average_house_value=%{marker.size}<br>lat=%{lat}<br>lon=%{lon}<extra></extra>\",\"legendgroup\":\"Weston\",\"marker\":{\"color\":\"#FF6692\",\"sizemode\":\"area\",\"sizeref\":3816.214375},\"mode\":\"markers\",\"name\":\"Weston\",\"showlegend\":true,\"subplot\":\"mapbox\",\"type\":\"scattermapbox\"},{\"hovertemplate\":\"neighbourhood=Weston-Pellam Park<br>average_house_value=%{marker.size}<br>lat=%{lat}<br>lon=%{lon}<extra></extra>\",\"legendgroup\":\"Weston-Pellam Park\",\"marker\":{\"color\":\"#B6E880\",\"sizemode\":\"area\",\"sizeref\":3816.214375},\"mode\":\"markers\",\"name\":\"Weston-Pellam Park\",\"showlegend\":true,\"subplot\":\"mapbox\",\"type\":\"scattermapbox\"},{\"hovertemplate\":\"neighbourhood=Wexford/Maryvale<br>average_house_value=%{marker.size}<br>lat=%{lat}<br>lon=%{lon}<extra></extra>\",\"legendgroup\":\"Wexford/Maryvale\",\"marker\":{\"color\":\"#FF97FF\",\"sizemode\":\"area\",\"sizeref\":3816.214375},\"mode\":\"markers\",\"name\":\"Wexford/Maryvale\",\"showlegend\":true,\"subplot\":\"mapbox\",\"type\":\"scattermapbox\"},{\"hovertemplate\":\"neighbourhood=Willowdale East<br>average_house_value=%{marker.size}<br>lat=%{lat}<br>lon=%{lon}<extra></extra>\",\"legendgroup\":\"Willowdale East\",\"marker\":{\"color\":\"#FECB52\",\"sizemode\":\"area\",\"sizeref\":3816.214375},\"mode\":\"markers\",\"name\":\"Willowdale East\",\"showlegend\":true,\"subplot\":\"mapbox\",\"type\":\"scattermapbox\"},{\"hovertemplate\":\"neighbourhood=Willowdale West<br>average_house_value=%{marker.size}<br>lat=%{lat}<br>lon=%{lon}<extra></extra>\",\"legendgroup\":\"Willowdale West\",\"marker\":{\"color\":\"#636efa\",\"sizemode\":\"area\",\"sizeref\":3816.214375},\"mode\":\"markers\",\"name\":\"Willowdale West\",\"showlegend\":true,\"subplot\":\"mapbox\",\"type\":\"scattermapbox\"},{\"hovertemplate\":\"neighbourhood=Willowridge-Martingrove-Richview<br>average_house_value=%{marker.size}<br>lat=%{lat}<br>lon=%{lon}<extra></extra>\",\"legendgroup\":\"Willowridge-Martingrove-Richview\",\"marker\":{\"color\":\"#EF553B\",\"sizemode\":\"area\",\"sizeref\":3816.214375},\"mode\":\"markers\",\"name\":\"Willowridge-Martingrove-Richview\",\"showlegend\":true,\"subplot\":\"mapbox\",\"type\":\"scattermapbox\"},{\"hovertemplate\":\"neighbourhood=Woburn<br>average_house_value=%{marker.size}<br>lat=%{lat}<br>lon=%{lon}<extra></extra>\",\"legendgroup\":\"Woburn\",\"marker\":{\"color\":\"#00cc96\",\"sizemode\":\"area\",\"sizeref\":3816.214375},\"mode\":\"markers\",\"name\":\"Woburn\",\"showlegend\":true,\"subplot\":\"mapbox\",\"type\":\"scattermapbox\"},{\"hovertemplate\":\"neighbourhood=Woodbine Corridor<br>average_house_value=%{marker.size}<br>lat=%{lat}<br>lon=%{lon}<extra></extra>\",\"legendgroup\":\"Woodbine Corridor\",\"marker\":{\"color\":\"#ab63fa\",\"sizemode\":\"area\",\"sizeref\":3816.214375},\"mode\":\"markers\",\"name\":\"Woodbine Corridor\",\"showlegend\":true,\"subplot\":\"mapbox\",\"type\":\"scattermapbox\"},{\"hovertemplate\":\"neighbourhood=Woodbine-Lumsden<br>average_house_value=%{marker.size}<br>lat=%{lat}<br>lon=%{lon}<extra></extra>\",\"legendgroup\":\"Woodbine-Lumsden\",\"marker\":{\"color\":\"#FFA15A\",\"sizemode\":\"area\",\"sizeref\":3816.214375},\"mode\":\"markers\",\"name\":\"Woodbine-Lumsden\",\"showlegend\":true,\"subplot\":\"mapbox\",\"type\":\"scattermapbox\"},{\"hovertemplate\":\"neighbourhood=Wychwood<br>average_house_value=%{marker.size}<br>lat=%{lat}<br>lon=%{lon}<extra></extra>\",\"legendgroup\":\"Wychwood\",\"marker\":{\"color\":\"#19d3f3\",\"sizemode\":\"area\",\"sizeref\":3816.214375},\"mode\":\"markers\",\"name\":\"Wychwood\",\"showlegend\":true,\"subplot\":\"mapbox\",\"type\":\"scattermapbox\"},{\"hovertemplate\":\"neighbourhood=Yonge-Eglinton<br>average_house_value=%{marker.size}<br>lat=%{lat}<br>lon=%{lon}<extra></extra>\",\"legendgroup\":\"Yonge-Eglinton\",\"marker\":{\"color\":\"#FF6692\",\"sizemode\":\"area\",\"sizeref\":3816.214375},\"mode\":\"markers\",\"name\":\"Yonge-Eglinton\",\"showlegend\":true,\"subplot\":\"mapbox\",\"type\":\"scattermapbox\"},{\"hovertemplate\":\"neighbourhood=Yonge-St.Clair<br>average_house_value=%{marker.size}<br>lat=%{lat}<br>lon=%{lon}<extra></extra>\",\"legendgroup\":\"Yonge-St.Clair\",\"marker\":{\"color\":\"#B6E880\",\"sizemode\":\"area\",\"sizeref\":3816.214375},\"mode\":\"markers\",\"name\":\"Yonge-St.Clair\",\"showlegend\":true,\"subplot\":\"mapbox\",\"type\":\"scattermapbox\"},{\"hovertemplate\":\"neighbourhood=York University Heights<br>average_house_value=%{marker.size}<br>lat=%{lat}<br>lon=%{lon}<extra></extra>\",\"legendgroup\":\"York University Heights\",\"marker\":{\"color\":\"#FF97FF\",\"sizemode\":\"area\",\"sizeref\":3816.214375},\"mode\":\"markers\",\"name\":\"York University Heights\",\"showlegend\":true,\"subplot\":\"mapbox\",\"type\":\"scattermapbox\"},{\"hovertemplate\":\"neighbourhood=Yorkdale-Glen Park<br>average_house_value=%{marker.size}<br>lat=%{lat}<br>lon=%{lon}<extra></extra>\",\"legendgroup\":\"Yorkdale-Glen Park\",\"marker\":{\"color\":\"#FECB52\",\"sizemode\":\"area\",\"sizeref\":3816.214375},\"mode\":\"markers\",\"name\":\"Yorkdale-Glen Park\",\"showlegend\":true,\"subplot\":\"mapbox\",\"type\":\"scattermapbox\"}],\"data_sources\":[{\"id\":\"199015\"},{\"id\":\"199016\"},{\"id\":\"199017\"},{\"id\":\"199018\"},{\"id\":\"199019\"},{\"id\":\"199020\"},{\"id\":\"199021\"},{\"id\":\"199022\"},{\"id\":\"199023\"},{\"id\":\"199024\"},{\"id\":\"199025\"},{\"id\":\"199026\"},{\"id\":\"199027\"},{\"id\":\"199028\"},{\"id\":\"199029\"},{\"id\":\"199030\"},{\"id\":\"199031\"},{\"id\":\"199032\"},{\"id\":\"199033\"},{\"id\":\"199034\"},{\"id\":\"199035\"},{\"id\":\"199036\"},{\"id\":\"199037\"},{\"id\":\"199038\"},{\"id\":\"199039\"},{\"id\":\"199040\"},{\"id\":\"199041\"},{\"id\":\"199042\"},{\"id\":\"199043\"},{\"id\":\"199044\"},{\"id\":\"199045\"},{\"id\":\"199046\"},{\"id\":\"199047\"},{\"id\":\"199048\"},{\"id\":\"199049\"},{\"id\":\"199050\"},{\"id\":\"199051\"},{\"id\":\"199052\"},{\"id\":\"199053\"},{\"id\":\"199054\"},{\"id\":\"199055\"},{\"id\":\"199056\"},{\"id\":\"199057\"},{\"id\":\"199058\"},{\"id\":\"199059\"},{\"id\":\"199060\"},{\"id\":\"199061\"},{\"id\":\"199062\"},{\"id\":\"199063\"},{\"id\":\"199064\"},{\"id\":\"199065\"},{\"id\":\"199066\"},{\"id\":\"199067\"},{\"id\":\"199068\"},{\"id\":\"199069\"},{\"id\":\"199070\"},{\"id\":\"199071\"},{\"id\":\"199072\"},{\"id\":\"199073\"},{\"id\":\"199074\"},{\"id\":\"199075\"},{\"id\":\"199076\"},{\"id\":\"199077\"},{\"id\":\"199078\"},{\"id\":\"199079\"},{\"id\":\"199080\"},{\"id\":\"199081\"},{\"id\":\"199082\"},{\"id\":\"199083\"},{\"id\":\"199084\"},{\"id\":\"199085\"},{\"id\":\"199086\"},{\"id\":\"199087\"},{\"id\":\"199088\"},{\"id\":\"199089\"},{\"id\":\"199090\"},{\"id\":\"199091\"},{\"id\":\"199092\"},{\"id\":\"199093\"},{\"id\":\"199094\"},{\"id\":\"199095\"},{\"id\":\"199096\"},{\"id\":\"199097\"},{\"id\":\"199098\"},{\"id\":\"199099\"},{\"id\":\"199100\"},{\"id\":\"199101\"},{\"id\":\"199102\"},{\"id\":\"199103\"},{\"id\":\"199104\"},{\"id\":\"199105\"},{\"id\":\"199106\"},{\"id\":\"199107\"},{\"id\":\"199108\"},{\"id\":\"199109\"},{\"id\":\"199110\"},{\"id\":\"199111\"},{\"id\":\"199112\"},{\"id\":\"199113\"},{\"id\":\"199114\"},{\"id\":\"199115\"},{\"id\":\"199116\"},{\"id\":\"199117\"},{\"id\":\"199118\"},{\"id\":\"199119\"},{\"id\":\"199120\"},{\"id\":\"199121\"},{\"id\":\"199122\"},{\"id\":\"199123\"},{\"id\":\"199124\"},{\"id\":\"199125\"},{\"id\":\"199126\"},{\"id\":\"199127\"},{\"id\":\"199128\"},{\"id\":\"199129\"},{\"id\":\"199130\"},{\"id\":\"199131\"},{\"id\":\"199132\"},{\"id\":\"199133\"},{\"id\":\"199134\"},{\"id\":\"199135\"},{\"id\":\"199136\"},{\"id\":\"199137\"},{\"id\":\"199138\"},{\"id\":\"199139\"},{\"id\":\"199140\"},{\"id\":\"199141\"},{\"id\":\"199142\"},{\"id\":\"199143\"},{\"id\":\"199144\"},{\"id\":\"199145\"},{\"id\":\"199146\"},{\"id\":\"199147\"},{\"id\":\"199148\"},{\"id\":\"199149\"},{\"id\":\"199150\"},{\"id\":\"199151\"},{\"id\":\"199152\"},{\"id\":\"199153\"},{\"id\":\"199154\"}],\"layout\":{\"legend\":{\"itemsizing\":\"constant\",\"title\":{\"text\":\"neighbourhood\"},\"tracegroupgap\":0},\"mapbox\":{\"accesstoken\":\"pk.eyJ1IjoiaGNsYXI1MiIsImEiOiJja2k3NzA2dGwwdDhmMnhxb2N1eTYycXZjIn0.IfVMvCOLngBm1-Ompm4zHQ\",\"center\":{\"lat\":43.708840577642846,\"lon\":-79.4001855035},\"domain\":{\"x\":[0.0,1.0],\"y\":[0.0,1.0]},\"zoom\":3},\"margin\":{\"t\":60},\"template\":{\"data\":{\"bar\":[{\"error_x\":{\"color\":\"#2a3f5f\"},\"error_y\":{\"color\":\"#2a3f5f\"},\"marker\":{\"line\":{\"color\":\"#E5ECF6\",\"width\":0.5}},\"type\":\"bar\"}],\"barpolar\":[{\"marker\":{\"line\":{\"color\":\"#E5ECF6\",\"width\":0.5}},\"type\":\"barpolar\"}],\"carpet\":[{\"aaxis\":{\"endlinecolor\":\"#2a3f5f\",\"gridcolor\":\"white\",\"linecolor\":\"white\",\"minorgridcolor\":\"white\",\"startlinecolor\":\"#2a3f5f\"},\"baxis\":{\"endlinecolor\":\"#2a3f5f\",\"gridcolor\":\"white\",\"linecolor\":\"white\",\"minorgridcolor\":\"white\",\"startlinecolor\":\"#2a3f5f\"},\"type\":\"carpet\"}],\"choropleth\":[{\"colorbar\":{\"outlinewidth\":0,\"ticks\":\"\"},\"type\":\"choropleth\"}],\"contour\":[{\"colorbar\":{\"outlinewidth\":0,\"ticks\":\"\"},\"colorscale\":[[0.0,\"#0d0887\"],[0.1111111111111111,\"#46039f\"],[0.2222222222222222,\"#7201a8\"],[0.3333333333333333,\"#9c179e\"],[0.4444444444444444,\"#bd3786\"],[0.5555555555555556,\"#d8576b\"],[0.6666666666666666,\"#ed7953\"],[0.7777777777777778,\"#fb9f3a\"],[0.8888888888888888,\"#fdca26\"],[1.0,\"#f0f921\"]],\"type\":\"contour\"}],\"contourcarpet\":[{\"colorbar\":{\"outlinewidth\":0,\"ticks\":\"\"},\"type\":\"contourcarpet\"}],\"heatmap\":[{\"colorbar\":{\"outlinewidth\":0,\"ticks\":\"\"},\"colorscale\":[[0.0,\"#0d0887\"],[0.1111111111111111,\"#46039f\"],[0.2222222222222222,\"#7201a8\"],[0.3333333333333333,\"#9c179e\"],[0.4444444444444444,\"#bd3786\"],[0.5555555555555556,\"#d8576b\"],[0.6666666666666666,\"#ed7953\"],[0.7777777777777778,\"#fb9f3a\"],[0.8888888888888888,\"#fdca26\"],[1.0,\"#f0f921\"]],\"type\":\"heatmap\"}],\"heatmapgl\":[{\"colorbar\":{\"outlinewidth\":0,\"ticks\":\"\"},\"colorscale\":[[0.0,\"#0d0887\"],[0.1111111111111111,\"#46039f\"],[0.2222222222222222,\"#7201a8\"],[0.3333333333333333,\"#9c179e\"],[0.4444444444444444,\"#bd3786\"],[0.5555555555555556,\"#d8576b\"],[0.6666666666666666,\"#ed7953\"],[0.7777777777777778,\"#fb9f3a\"],[0.8888888888888888,\"#fdca26\"],[1.0,\"#f0f921\"]],\"type\":\"heatmapgl\"}],\"histogram\":[{\"marker\":{\"colorbar\":{\"outlinewidth\":0,\"ticks\":\"\"}},\"type\":\"histogram\"}],\"histogram2d\":[{\"colorbar\":{\"outlinewidth\":0,\"ticks\":\"\"},\"colorscale\":[[0.0,\"#0d0887\"],[0.1111111111111111,\"#46039f\"],[0.2222222222222222,\"#7201a8\"],[0.3333333333333333,\"#9c179e\"],[0.4444444444444444,\"#bd3786\"],[0.5555555555555556,\"#d8576b\"],[0.6666666666666666,\"#ed7953\"],[0.7777777777777778,\"#fb9f3a\"],[0.8888888888888888,\"#fdca26\"],[1.0,\"#f0f921\"]],\"type\":\"histogram2d\"}],\"histogram2dcontour\":[{\"colorbar\":{\"outlinewidth\":0,\"ticks\":\"\"},\"colorscale\":[[0.0,\"#0d0887\"],[0.1111111111111111,\"#46039f\"],[0.2222222222222222,\"#7201a8\"],[0.3333333333333333,\"#9c179e\"],[0.4444444444444444,\"#bd3786\"],[0.5555555555555556,\"#d8576b\"],[0.6666666666666666,\"#ed7953\"],[0.7777777777777778,\"#fb9f3a\"],[0.8888888888888888,\"#fdca26\"],[1.0,\"#f0f921\"]],\"type\":\"histogram2dcontour\"}],\"mesh3d\":[{\"colorbar\":{\"outlinewidth\":0,\"ticks\":\"\"},\"type\":\"mesh3d\"}],\"parcoords\":[{\"line\":{\"colorbar\":{\"outlinewidth\":0,\"ticks\":\"\"}},\"type\":\"parcoords\"}],\"pie\":[{\"automargin\":true,\"type\":\"pie\"}],\"scatter\":[{\"marker\":{\"colorbar\":{\"outlinewidth\":0,\"ticks\":\"\"}},\"type\":\"scatter\"}],\"scatter3d\":[{\"line\":{\"colorbar\":{\"outlinewidth\":0,\"ticks\":\"\"}},\"marker\":{\"colorbar\":{\"outlinewidth\":0,\"ticks\":\"\"}},\"type\":\"scatter3d\"}],\"scattercarpet\":[{\"marker\":{\"colorbar\":{\"outlinewidth\":0,\"ticks\":\"\"}},\"type\":\"scattercarpet\"}],\"scattergeo\":[{\"marker\":{\"colorbar\":{\"outlinewidth\":0,\"ticks\":\"\"}},\"type\":\"scattergeo\"}],\"scattergl\":[{\"marker\":{\"colorbar\":{\"outlinewidth\":0,\"ticks\":\"\"}},\"type\":\"scattergl\"}],\"scattermapbox\":[{\"marker\":{\"colorbar\":{\"outlinewidth\":0,\"ticks\":\"\"}},\"type\":\"scattermapbox\"}],\"scatterpolar\":[{\"marker\":{\"colorbar\":{\"outlinewidth\":0,\"ticks\":\"\"}},\"type\":\"scatterpolar\"}],\"scatterpolargl\":[{\"marker\":{\"colorbar\":{\"outlinewidth\":0,\"ticks\":\"\"}},\"type\":\"scatterpolargl\"}],\"scatterternary\":[{\"marker\":{\"colorbar\":{\"outlinewidth\":0,\"ticks\":\"\"}},\"type\":\"scatterternary\"}],\"surface\":[{\"colorbar\":{\"outlinewidth\":0,\"ticks\":\"\"},\"colorscale\":[[0.0,\"#0d0887\"],[0.1111111111111111,\"#46039f\"],[0.2222222222222222,\"#7201a8\"],[0.3333333333333333,\"#9c179e\"],[0.4444444444444444,\"#bd3786\"],[0.5555555555555556,\"#d8576b\"],[0.6666666666666666,\"#ed7953\"],[0.7777777777777778,\"#fb9f3a\"],[0.8888888888888888,\"#fdca26\"],[1.0,\"#f0f921\"]],\"type\":\"surface\"}],\"table\":[{\"cells\":{\"fill\":{\"color\":\"#EBF0F8\"},\"line\":{\"color\":\"white\"}},\"header\":{\"fill\":{\"color\":\"#C8D4E3\"},\"line\":{\"color\":\"white\"}},\"type\":\"table\"}]},\"layout\":{\"annotationdefaults\":{\"arrowcolor\":\"#2a3f5f\",\"arrowhead\":0,\"arrowwidth\":1},\"autotypenumbers\":\"strict\",\"coloraxis\":{\"colorbar\":{\"outlinewidth\":0,\"ticks\":\"\"}},\"colorscale\":{\"diverging\":[[0,\"#8e0152\"],[0.1,\"#c51b7d\"],[0.2,\"#de77ae\"],[0.3,\"#f1b6da\"],[0.4,\"#fde0ef\"],[0.5,\"#f7f7f7\"],[0.6,\"#e6f5d0\"],[0.7,\"#b8e186\"],[0.8,\"#7fbc41\"],[0.9,\"#4d9221\"],[1,\"#276419\"]],\"sequential\":[[0.0,\"#0d0887\"],[0.1111111111111111,\"#46039f\"],[0.2222222222222222,\"#7201a8\"],[0.3333333333333333,\"#9c179e\"],[0.4444444444444444,\"#bd3786\"],[0.5555555555555556,\"#d8576b\"],[0.6666666666666666,\"#ed7953\"],[0.7777777777777778,\"#fb9f3a\"],[0.8888888888888888,\"#fdca26\"],[1.0,\"#f0f921\"]],\"sequentialminus\":[[0.0,\"#0d0887\"],[0.1111111111111111,\"#46039f\"],[0.2222222222222222,\"#7201a8\"],[0.3333333333333333,\"#9c179e\"],[0.4444444444444444,\"#bd3786\"],[0.5555555555555556,\"#d8576b\"],[0.6666666666666666,\"#ed7953\"],[0.7777777777777778,\"#fb9f3a\"],[0.8888888888888888,\"#fdca26\"],[1.0,\"#f0f921\"]]},\"colorway\":[\"#636efa\",\"#EF553B\",\"#00cc96\",\"#ab63fa\",\"#FFA15A\",\"#19d3f3\",\"#FF6692\",\"#B6E880\",\"#FF97FF\",\"#FECB52\"],\"font\":{\"color\":\"#2a3f5f\"},\"geo\":{\"bgcolor\":\"white\",\"lakecolor\":\"white\",\"landcolor\":\"#E5ECF6\",\"showlakes\":true,\"showland\":true,\"subunitcolor\":\"white\"},\"hoverlabel\":{\"align\":\"left\"},\"hovermode\":\"closest\",\"mapbox\":{\"style\":\"light\"},\"paper_bgcolor\":\"white\",\"plot_bgcolor\":\"#E5ECF6\",\"polar\":{\"angularaxis\":{\"gridcolor\":\"white\",\"linecolor\":\"white\",\"ticks\":\"\"},\"bgcolor\":\"#E5ECF6\",\"radialaxis\":{\"gridcolor\":\"white\",\"linecolor\":\"white\",\"ticks\":\"\"}},\"scene\":{\"xaxis\":{\"backgroundcolor\":\"#E5ECF6\",\"gridcolor\":\"white\",\"gridwidth\":2,\"linecolor\":\"white\",\"showbackground\":true,\"ticks\":\"\",\"zerolinecolor\":\"white\"},\"yaxis\":{\"backgroundcolor\":\"#E5ECF6\",\"gridcolor\":\"white\",\"gridwidth\":2,\"linecolor\":\"white\",\"showbackground\":true,\"ticks\":\"\",\"zerolinecolor\":\"white\"},\"zaxis\":{\"backgroundcolor\":\"#E5ECF6\",\"gridcolor\":\"white\",\"gridwidth\":2,\"linecolor\":\"white\",\"showbackground\":true,\"ticks\":\"\",\"zerolinecolor\":\"white\"}},\"shapedefaults\":{\"line\":{\"color\":\"#2a3f5f\"}},\"ternary\":{\"aaxis\":{\"gridcolor\":\"white\",\"linecolor\":\"white\",\"ticks\":\"\"},\"baxis\":{\"gridcolor\":\"white\",\"linecolor\":\"white\",\"ticks\":\"\"},\"bgcolor\":\"#E5ECF6\",\"caxis\":{\"gridcolor\":\"white\",\"linecolor\":\"white\",\"ticks\":\"\"}},\"title\":{\"x\":0.05},\"xaxis\":{\"automargin\":true,\"gridcolor\":\"white\",\"linecolor\":\"white\",\"ticks\":\"\",\"title\":{\"standoff\":15},\"zerolinecolor\":\"white\",\"zerolinewidth\":2},\"yaxis\":{\"automargin\":true,\"gridcolor\":\"white\",\"linecolor\":\"white\",\"ticks\":\"\",\"title\":{\"standoff\":15},\"zerolinecolor\":\"white\",\"zerolinewidth\":2}}},\"width\":1000},\"margin\":[5,5,5,5],\"name\":\"Plotly92072\",\"viewport_update_throttle\":200},\"id\":\"199155\",\"type\":\"panel.models.plotly.PlotlyPlot\"},{\"attributes\":{\"data\":{\"lat\":[{\"__ndarray__\":\"U/xKrRjnRUA=\",\"dtype\":\"float64\",\"order\":\"little\",\"shape\":[1]}],\"lon\":[{\"__ndarray__\":\"GObrzxHRU8A=\",\"dtype\":\"float64\",\"order\":\"little\",\"shape\":[1]}],\"marker.size\":[{\"__ndarray__\":\"AAAAAE4hFEE=\",\"dtype\":\"float64\",\"order\":\"little\",\"shape\":[1]}]},\"selected\":{\"id\":\"199812\"},\"selection_policy\":{\"id\":\"199811\"}},\"id\":\"199015\",\"type\":\"ColumnDataSource\"},{\"attributes\":{\"data\":{\"lat\":[{\"__ndarray__\":\"4alPiyTiRUA=\",\"dtype\":\"float64\",\"order\":\"little\",\"shape\":[1]}],\"lon\":[{\"__ndarray__\":\"yJ41JqHOU8A=\",\"dtype\":\"float64\",\"order\":\"little\",\"shape\":[1]}],\"marker.size\":[{\"__ndarray__\":\"AAAAACc4EkE=\",\"dtype\":\"float64\",\"order\":\"little\",\"shape\":[1]}]},\"selected\":{\"id\":\"200076\"},\"selection_policy\":{\"id\":\"200075\"}},\"id\":\"199147\",\"type\":\"ColumnDataSource\"},{\"attributes\":{\"data\":{\"lat\":[{\"__ndarray__\":\"K74EGxXYRUA=\",\"dtype\":\"float64\",\"order\":\"little\",\"shape\":[1]}],\"lon\":[{\"__ndarray__\":\"s0Md0v/fU8A=\",\"dtype\":\"float64\",\"order\":\"little\",\"shape\":[1]}],\"marker.size\":[{\"__ndarray__\":\"AAAAAJMCEEE=\",\"dtype\":\"float64\",\"order\":\"little\",\"shape\":[1]}]},\"selected\":{\"id\":\"199972\"},\"selection_policy\":{\"id\":\"199971\"}},\"id\":\"199095\",\"type\":\"ColumnDataSource\"},{\"attributes\":{\"data_source\":{\"id\":\"199313\"},\"glyph\":{\"id\":\"199316\"},\"hover_glyph\":null,\"muted_glyph\":{\"id\":\"199318\"},\"nonselection_glyph\":{\"id\":\"199317\"},\"selection_glyph\":null,\"view\":{\"id\":\"199320\"}},\"id\":\"199319\",\"type\":\"GlyphRenderer\"},{\"attributes\":{\"below\":[{\"id\":\"199480\"}],\"center\":[{\"id\":\"199483\"},{\"id\":\"199487\"}],\"left\":[{\"id\":\"199484\"}],\"margin\":[5,5,5,5],\"min_border_bottom\":10,\"min_border_left\":10,\"min_border_right\":10,\"min_border_top\":10,\"renderers\":[{\"id\":\"199507\"}],\"sizing_mode\":\"fixed\",\"title\":{\"id\":\"199472\"},\"toolbar\":{\"id\":\"199494\"},\"x_range\":{\"id\":\"199406\"},\"x_scale\":{\"id\":\"199476\"},\"y_range\":{\"id\":\"199469\"},\"y_scale\":{\"id\":\"199478\"}},\"id\":\"199471\",\"subtype\":\"Figure\",\"type\":\"Plot\"},{\"attributes\":{\"data\":{\"lat\":[{\"__ndarray__\":\"9Ru7fqDWRUA=\",\"dtype\":\"float64\",\"order\":\"little\",\"shape\":[1]}],\"lon\":[{\"__ndarray__\":\"F4Fvoi/UU8A=\",\"dtype\":\"float64\",\"order\":\"little\",\"shape\":[1]}],\"marker.size\":[{\"__ndarray__\":\"AAAAABsvG0E=\",\"dtype\":\"float64\",\"order\":\"little\",\"shape\":[1]}]},\"selected\":{\"id\":\"200078\"},\"selection_policy\":{\"id\":\"200077\"}},\"id\":\"199148\",\"type\":\"ColumnDataSource\"},{\"attributes\":{\"data\":{\"lat\":[{\"__ndarray__\":\"vbczXZnfRUA=\",\"dtype\":\"float64\",\"order\":\"little\",\"shape\":[1]}],\"lon\":[{\"__ndarray__\":\"SP7cp5XlU8A=\",\"dtype\":\"float64\",\"order\":\"little\",\"shape\":[1]}],\"marker.size\":[{\"__ndarray__\":\"AAAAAPLnDkE=\",\"dtype\":\"float64\",\"order\":\"little\",\"shape\":[1]}]},\"selected\":{\"id\":\"199974\"},\"selection_policy\":{\"id\":\"199973\"}},\"id\":\"199096\",\"type\":\"ColumnDataSource\"},{\"attributes\":{},\"id\":\"199300\",\"type\":\"SaveTool\"},{\"attributes\":{\"child\":{\"id\":\"199013\"},\"name\":\"Column92074\",\"title\":\"Toronto Value Map\"},\"id\":\"199156\",\"type\":\"Panel\"},{\"attributes\":{},\"id\":\"199301\",\"type\":\"PanTool\"},{\"attributes\":{},\"id\":\"199304\",\"type\":\"ResetTool\"},{\"attributes\":{},\"id\":\"199302\",\"type\":\"WheelZoomTool\"},{\"attributes\":{},\"id\":\"199762\",\"type\":\"WheelZoomTool\"},{\"attributes\":{\"data\":{\"lat\":[{\"__ndarray__\":\"2R1afdjYRUA=\",\"dtype\":\"float64\",\"order\":\"little\",\"shape\":[1]}],\"lon\":[{\"__ndarray__\":\"tUNwGurTU8A=\",\"dtype\":\"float64\",\"order\":\"little\",\"shape\":[1]}],\"marker.size\":[{\"__ndarray__\":\"AAAAAPqTFkE=\",\"dtype\":\"float64\",\"order\":\"little\",\"shape\":[1]}]},\"selected\":{\"id\":\"200080\"},\"selection_policy\":{\"id\":\"200079\"}},\"id\":\"199149\",\"type\":\"ColumnDataSource\"},{\"attributes\":{\"overlay\":{\"id\":\"199305\"}},\"id\":\"199303\",\"type\":\"BoxZoomTool\"},{\"attributes\":{\"data\":{\"lat\":[{\"__ndarray__\":\"E1WNmDjaRUA=\",\"dtype\":\"float64\",\"order\":\"little\",\"shape\":[1]}],\"lon\":[{\"__ndarray__\":\"niwQmKLYU8A=\",\"dtype\":\"float64\",\"order\":\"little\",\"shape\":[1]}],\"marker.size\":[{\"__ndarray__\":\"AAAAgPSrJEE=\",\"dtype\":\"float64\",\"order\":\"little\",\"shape\":[1]}]},\"selected\":{\"id\":\"199976\"},\"selection_policy\":{\"id\":\"199975\"}},\"id\":\"199097\",\"type\":\"ColumnDataSource\"},{\"attributes\":{\"factors\":[\"single_detached_house\",\"apartment_five_storeys_plus\",\"movable_dwelling\",\"semi_detached_house\",\"row_house\",\"duplex\",\"apartment_five_storeys_less\",\"other_house\"],\"tags\":[[[\"index\",\"index\",null]]]},\"id\":\"199159\",\"type\":\"FactorRange\"},{\"attributes\":{\"factors\":[\"single_detached_house\",\"apartment_five_storeys_plus\",\"movable_dwelling\",\"semi_detached_house\",\"row_house\",\"duplex\",\"apartment_five_storeys_less\",\"other_house\"],\"palette\":[\"red\",\"red\",\"red\",\"red\",\"red\",\"red\",\"red\",\"red\"]},\"id\":\"199702\",\"type\":\"CategoricalColorMapper\"},{\"attributes\":{\"data\":{\"lat\":[{\"__ndarray__\":\"UldnSqXWRUA=\",\"dtype\":\"float64\",\"order\":\"little\",\"shape\":[1]}],\"lon\":[{\"__ndarray__\":\"YY0OozvbU8A=\",\"dtype\":\"float64\",\"order\":\"little\",\"shape\":[1]}],\"marker.size\":[{\"__ndarray__\":\"AAAAALFFIUE=\",\"dtype\":\"float64\",\"order\":\"little\",\"shape\":[1]}]},\"selected\":{\"id\":\"200082\"},\"selection_policy\":{\"id\":\"200081\"}},\"id\":\"199150\",\"type\":\"ColumnDataSource\"},{\"attributes\":{\"data\":{\"lat\":[{\"__ndarray__\":\"r6aA7iraRUA=\",\"dtype\":\"float64\",\"order\":\"little\",\"shape\":[1]}],\"lon\":[{\"__ndarray__\":\"b7SIzSzZU8A=\",\"dtype\":\"float64\",\"order\":\"little\",\"shape\":[1]}],\"marker.size\":[{\"__ndarray__\":\"AAAAAFeTHEE=\",\"dtype\":\"float64\",\"order\":\"little\",\"shape\":[1]}]},\"selected\":{\"id\":\"199978\"},\"selection_policy\":{\"id\":\"199977\"}},\"id\":\"199098\",\"type\":\"ColumnDataSource\"},{\"attributes\":{\"children\":[{\"id\":\"199009\"},{\"id\":\"199010\"},{\"id\":\"199011\"}],\"margin\":[0,0,0,0],\"name\":\"Column92069\"},\"id\":\"199008\",\"type\":\"Column\"},{\"attributes\":{\"end\":390509.0,\"reset_end\":390509.0,\"reset_start\":0.0,\"tags\":[[[\"2001\",\"2001\",null]]]},\"id\":\"199160\",\"type\":\"Range1d\"},{\"attributes\":{\"data\":{\"lat\":[{\"__ndarray__\":\"kv7iQjPaRUA=\",\"dtype\":\"float64\",\"order\":\"little\",\"shape\":[1]}],\"lon\":[{\"__ndarray__\":\"xkjda9TZU8A=\",\"dtype\":\"float64\",\"order\":\"little\",\"shape\":[1]}],\"marker.size\":[{\"__ndarray__\":\"AAAAgCO2KEE=\",\"dtype\":\"float64\",\"order\":\"little\",\"shape\":[1]}]},\"selected\":{\"id\":\"200084\"},\"selection_policy\":{\"id\":\"200083\"}},\"id\":\"199151\",\"type\":\"ColumnDataSource\"},{\"attributes\":{},\"id\":\"199384\",\"type\":\"CategoricalTickFormatter\"},{\"attributes\":{\"callback\":null,\"renderers\":[{\"id\":\"199197\"}],\"tags\":[\"hv_created\"],\"tooltips\":[[\"index\",\"@{index}\"],[\"2001\",\"@{A_2001}\"]]},\"id\":\"199161\",\"type\":\"HoverTool\"},{\"attributes\":{\"data\":{\"lat\":[{\"__ndarray__\":\"26xVFuDMRUA=\",\"dtype\":\"float64\",\"order\":\"little\",\"shape\":[1]}],\"lon\":[{\"__ndarray__\":\"I3P6tKngU8A=\",\"dtype\":\"float64\",\"order\":\"little\",\"shape\":[1]}],\"marker.size\":[{\"__ndarray__\":\"AAAAABDkGEE=\",\"dtype\":\"float64\",\"order\":\"little\",\"shape\":[1]}]},\"selected\":{\"id\":\"199980\"},\"selection_policy\":{\"id\":\"199979\"}},\"id\":\"199099\",\"type\":\"ColumnDataSource\"},{\"attributes\":{\"active_drag\":\"auto\",\"active_inspect\":\"auto\",\"active_multi\":null,\"active_scroll\":\"auto\",\"active_tap\":\"auto\",\"tools\":[{\"id\":\"199283\"},{\"id\":\"199300\"},{\"id\":\"199301\"},{\"id\":\"199302\"},{\"id\":\"199303\"},{\"id\":\"199304\"}]},\"id\":\"199306\",\"type\":\"Toolbar\"},{\"attributes\":{\"data\":{\"lat\":[{\"__ndarray__\":\"7nRrwgvYRUA=\",\"dtype\":\"float64\",\"order\":\"little\",\"shape\":[1]}],\"lon\":[{\"__ndarray__\":\"zEv2tnbZU8A=\",\"dtype\":\"float64\",\"order\":\"little\",\"shape\":[1]}],\"marker.size\":[{\"__ndarray__\":\"AAAAgEjRKEE=\",\"dtype\":\"float64\",\"order\":\"little\",\"shape\":[1]}]},\"selected\":{\"id\":\"200086\"},\"selection_policy\":{\"id\":\"200085\"}},\"id\":\"199152\",\"type\":\"ColumnDataSource\"},{\"attributes\":{\"bottom_units\":\"screen\",\"fill_alpha\":0.5,\"fill_color\":\"lightgrey\",\"left_units\":\"screen\",\"level\":\"overlay\",\"line_alpha\":1.0,\"line_color\":\"black\",\"line_dash\":[4,4],\"line_width\":2,\"right_units\":\"screen\",\"top_units\":\"screen\"},\"id\":\"199305\",\"type\":\"BoxAnnotation\"},{\"attributes\":{\"text\":\"number of dwelling types units in 2001\",\"text_color\":{\"value\":\"black\"},\"text_font_size\":{\"value\":\"12pt\"}},\"id\":\"199163\",\"type\":\"Title\"},{\"attributes\":{\"data\":{\"lat\":[{\"__ndarray__\":\"7tR1C1HlRUA=\",\"dtype\":\"float64\",\"order\":\"little\",\"shape\":[1]}],\"lon\":[{\"__ndarray__\":\"L/4R4frZU8A=\",\"dtype\":\"float64\",\"order\":\"little\",\"shape\":[1]}],\"marker.size\":[{\"__ndarray__\":\"AAAAgKoTIUE=\",\"dtype\":\"float64\",\"order\":\"little\",\"shape\":[1]}]},\"selected\":{\"id\":\"199982\"},\"selection_policy\":{\"id\":\"199981\"}},\"id\":\"199100\",\"type\":\"ColumnDataSource\"},{\"attributes\":{\"fill_alpha\":{\"value\":0.2},\"fill_color\":{\"value\":\"red\"},\"line_alpha\":{\"value\":0.2},\"top\":{\"field\":\"A_2011\"},\"width\":{\"value\":0.8},\"x\":{\"field\":\"index\"}},\"id\":\"199318\",\"type\":\"VBar\"},{\"attributes\":{\"data\":{\"lat\":[{\"__ndarray__\":\"sfM+pwPiRUA=\",\"dtype\":\"float64\",\"order\":\"little\",\"shape\":[1]}],\"lon\":[{\"__ndarray__\":\"Dfug20nfU8A=\",\"dtype\":\"float64\",\"order\":\"little\",\"shape\":[1]}],\"marker.size\":[{\"__ndarray__\":\"AAAAAK6rEkE=\",\"dtype\":\"float64\",\"order\":\"little\",\"shape\":[1]}]},\"selected\":{\"id\":\"200088\"},\"selection_policy\":{\"id\":\"200087\"}},\"id\":\"199153\",\"type\":\"ColumnDataSource\"},{\"attributes\":{\"below\":[{\"id\":\"199171\"}],\"center\":[{\"id\":\"199173\"},{\"id\":\"199177\"}],\"left\":[{\"id\":\"199174\"}],\"margin\":[5,5,5,5],\"min_border_bottom\":10,\"min_border_left\":10,\"min_border_right\":10,\"min_border_top\":10,\"renderers\":[{\"id\":\"199197\"}],\"sizing_mode\":\"fixed\",\"title\":{\"id\":\"199163\"},\"toolbar\":{\"id\":\"199184\"},\"x_range\":{\"id\":\"199159\"},\"x_scale\":{\"id\":\"199167\"},\"y_range\":{\"id\":\"199160\"},\"y_scale\":{\"id\":\"199169\"}},\"id\":\"199162\",\"subtype\":\"Figure\",\"type\":\"Plot\"},{\"attributes\":{\"data\":{\"lat\":[{\"__ndarray__\":\"QkJSE5bkRUA=\",\"dtype\":\"float64\",\"order\":\"little\",\"shape\":[1]}],\"lon\":[{\"__ndarray__\":\"bA/3aJzbU8A=\",\"dtype\":\"float64\",\"order\":\"little\",\"shape\":[1]}],\"marker.size\":[{\"__ndarray__\":\"AAAAAGIcHEE=\",\"dtype\":\"float64\",\"order\":\"little\",\"shape\":[1]}]},\"selected\":{\"id\":\"199984\"},\"selection_policy\":{\"id\":\"199983\"}},\"id\":\"199101\",\"type\":\"ColumnDataSource\"},{\"attributes\":{\"child\":{\"id\":\"199008\"},\"name\":\"Column92069\",\"title\":\"Welcome\"},\"id\":\"199012\",\"type\":\"Panel\"},{\"attributes\":{\"data\":{\"lat\":[{\"__ndarray__\":\"u11QW3rbRUA=\",\"dtype\":\"float64\",\"order\":\"little\",\"shape\":[1]}],\"lon\":[{\"__ndarray__\":\"0Ng0QkHdU8A=\",\"dtype\":\"float64\",\"order\":\"little\",\"shape\":[1]}],\"marker.size\":[{\"__ndarray__\":\"AAAAADVMGkE=\",\"dtype\":\"float64\",\"order\":\"little\",\"shape\":[1]}]},\"selected\":{\"id\":\"200090\"},\"selection_policy\":{\"id\":\"200089\"}},\"id\":\"199154\",\"type\":\"ColumnDataSource\"},{\"attributes\":{\"axis_label\":\"year\",\"bounds\":\"auto\",\"formatter\":{\"id\":\"199576\"},\"major_label_orientation\":1.5707963267948966,\"ticker\":{\"id\":\"199546\"}},\"id\":\"199545\",\"type\":\"LinearAxis\"},{\"attributes\":{\"format\":\"%.0f\"},\"id\":\"199321\",\"type\":\"PrintfTickFormatter\"},{\"attributes\":{\"data\":{\"lat\":[{\"__ndarray__\":\"VMtSwn7RRUA=\",\"dtype\":\"float64\",\"order\":\"little\",\"shape\":[1]}],\"lon\":[{\"__ndarray__\":\"Ao2IGGXaU8A=\",\"dtype\":\"float64\",\"order\":\"little\",\"shape\":[1]}],\"marker.size\":[{\"__ndarray__\":\"AAAAACSVFkE=\",\"dtype\":\"float64\",\"order\":\"little\",\"shape\":[1]}]},\"selected\":{\"id\":\"199986\"},\"selection_policy\":{\"id\":\"199985\"}},\"id\":\"199102\",\"type\":\"ColumnDataSource\"},{\"attributes\":{},\"id\":\"199211\",\"type\":\"UnionRenderers\"},{\"attributes\":{\"data\":{\"lat\":[{\"__ndarray__\":\"Cink7wPWRUA=\",\"dtype\":\"float64\",\"order\":\"little\",\"shape\":[1]}],\"lon\":[{\"__ndarray__\":\"F1XxDHvWU8A=\",\"dtype\":\"float64\",\"order\":\"little\",\"shape\":[1]}],\"marker.size\":[{\"__ndarray__\":\"AAAAgK50JUE=\",\"dtype\":\"float64\",\"order\":\"little\",\"shape\":[1]}]},\"selected\":{\"id\":\"199988\"},\"selection_policy\":{\"id\":\"199987\"}},\"id\":\"199103\",\"type\":\"ColumnDataSource\"}],\"root_ids\":[\"199007\",\"200853\"]},\"title\":\"Bokeh Application\",\"version\":\"2.2.3\"}};\n",
       "    var render_items = [{\"docid\":\"257ed93e-3a1d-4e06-b610-bf60cc5f3a0c\",\"root_ids\":[\"199007\"],\"roots\":{\"199007\":\"8a0958eb-1c1b-4e3c-9570-361c72b03521\"}}];\n",
       "    root.Bokeh.embed.embed_items_notebook(docs_json, render_items);\n",
       "  }\n",
       "  if (root.Bokeh !== undefined && root.Bokeh.Panel !== undefined && root['Plotly'] !== undefined ) {\n",
       "    embed_document(root);\n",
       "  } else {\n",
       "    var attempts = 0;\n",
       "    var timer = setInterval(function(root) {\n",
       "      if (root.Bokeh !== undefined && root.Bokeh.Panel !== undefined && root['Plotly'] !== undefined) {\n",
       "        clearInterval(timer);\n",
       "        embed_document(root);\n",
       "      } else if (document.readyState == \"complete\") {\n",
       "        attempts++;\n",
       "        if (attempts > 100) {\n",
       "          clearInterval(timer);\n",
       "          console.log(\"Bokeh: ERROR: Unable to run BokehJS code because BokehJS library is missing\");\n",
       "        }\n",
       "      }\n",
       "    }, 10, root)\n",
       "  }\n",
       "})(window);</script>"
      ],
      "text/plain": [
       "Tabs\n",
       "    [0] Column\n",
       "        [0] Markdown(str)\n",
       "        [1] Markdown(str)\n",
       "        [2] Markdown(str)\n",
       "    [1] Column\n",
       "        [0] Markdown(str)\n",
       "        [1] Plotly(Figure)\n",
       "    [2] Column\n",
       "        [0] Markdown(str)\n",
       "        [1] HoloViews(Bars)\n",
       "        [2] HoloViews(Bars)\n",
       "        [3] HoloViews(Bars)\n",
       "        [4] HoloViews(Bars)\n",
       "    [3] Column\n",
       "        [0] Markdown(str)\n",
       "        [1] HoloViews(Curve)\n",
       "        [2] HoloViews(Curve)\n",
       "    [4] Column\n",
       "        [0] Markdown(str)\n",
       "        [1] HoloViews(Curve)\n",
       "    [5] Column\n",
       "        [0] Markdown(str)\n",
       "        [1] Row\n",
       "            [0] HoloViews(DynamicMap)\n",
       "            [1] Column\n",
       "                [0] WidgetBox\n",
       "                    [0] Select(margin=(20, 20, 20, 20), name='neighbourhood', options=['Agincourt North', ...], value='Agincourt North', width=250)\n",
       "                [1] VSpacer()\n",
       "        [2] Row\n",
       "            [0] HoloViews(DynamicMap)\n",
       "            [1] Column\n",
       "                [0] WidgetBox\n",
       "                    [0] Select(margin=(20, 20, 20, 20), name='neighbourhood', options=['Agincourt North', ...], value='Agincourt North', width=250)\n",
       "                [1] VSpacer()\n",
       "        [3] Markdown(str)\n",
       "        [4] HoloViews(Scatter)"
      ]
     },
     "execution_count": 285,
     "metadata": {
      "application/vnd.holoviews_exec.v0+json": {
       "id": "199007"
      }
     },
     "output_type": "execute_result"
    }
   ],
   "source": [
    "dashboard.servable()"
   ]
  },
  {
   "cell_type": "markdown",
   "metadata": {},
   "source": [
    "# Debugging\n",
    "\n",
    "Note: Some of the Plotly express plots may not render in the notebook through the panel functions.\n",
    "\n",
    "However, you can test each plot by uncommenting the following code"
   ]
  },
  {
   "cell_type": "code",
   "execution_count": 286,
   "metadata": {},
   "outputs": [
    {
     "data": {
      "application/vnd.plotly.v1+json": {
       "config": {
        "plotlyServerURL": "https://plot.ly"
       },
       "data": [
        {
         "hovertemplate": "neighbourhood=Agincourt North<br>average_house_value=%{marker.size}<br>lat=%{lat}<br>lon=%{lon}<extra></extra>",
         "lat": [
          43.80544058
         ],
         "legendgroup": "Agincourt North",
         "lon": [
          -79.26671217
         ],
         "marker": {
          "color": "#636efa",
          "size": [
           329811.5
          ],
          "sizemode": "area",
          "sizeref": 3816.214375
         },
         "mode": "markers",
         "name": "Agincourt North",
         "showlegend": true,
         "subplot": "mapbox",
         "type": "scattermapbox"
        },
        {
         "hovertemplate": "neighbourhood=Agincourt South-Malvern West<br>average_house_value=%{marker.size}<br>lat=%{lat}<br>lon=%{lon}<extra></extra>",
         "lat": [
          43.78865755
         ],
         "legendgroup": "Agincourt South-Malvern West",
         "lon": [
          -79.2656118
         ],
         "marker": {
          "color": "#EF553B",
          "size": [
           334189
          ],
          "sizemode": "area",
          "sizeref": 3816.214375
         },
         "mode": "markers",
         "name": "Agincourt South-Malvern West",
         "showlegend": true,
         "subplot": "mapbox",
         "type": "scattermapbox"
        },
        {
         "hovertemplate": "neighbourhood=Alderwood<br>average_house_value=%{marker.size}<br>lat=%{lat}<br>lon=%{lon}<extra></extra>",
         "lat": [
          43.6049369
         ],
         "legendgroup": "Alderwood",
         "lon": [
          -79.54161093
         ],
         "marker": {
          "color": "#00cc96",
          "size": [
           427922.5
          ],
          "sizemode": "area",
          "sizeref": 3816.214375
         },
         "mode": "markers",
         "name": "Alderwood",
         "showlegend": true,
         "subplot": "mapbox",
         "type": "scattermapbox"
        },
        {
         "hovertemplate": "neighbourhood=Annex<br>average_house_value=%{marker.size}<br>lat=%{lat}<br>lon=%{lon}<extra></extra>",
         "lat": [
          43.67158544
         ],
         "legendgroup": "Annex",
         "lon": [
          -79.40400062
         ],
         "marker": {
          "color": "#ab63fa",
          "size": [
           746977
          ],
          "sizemode": "area",
          "sizeref": 3816.214375
         },
         "mode": "markers",
         "name": "Annex",
         "showlegend": true,
         "subplot": "mapbox",
         "type": "scattermapbox"
        },
        {
         "hovertemplate": "neighbourhood=Banbury-Don Mills<br>average_house_value=%{marker.size}<br>lat=%{lat}<br>lon=%{lon}<extra></extra>",
         "lat": [
          43.737657
         ],
         "legendgroup": "Banbury-Don Mills",
         "lon": [
          -79.34971798
         ],
         "marker": {
          "color": "#FFA15A",
          "size": [
           612039
          ],
          "sizemode": "area",
          "sizeref": 3816.214375
         },
         "mode": "markers",
         "name": "Banbury-Don Mills",
         "showlegend": true,
         "subplot": "mapbox",
         "type": "scattermapbox"
        },
        {
         "hovertemplate": "neighbourhood=Bathurst Manor<br>average_house_value=%{marker.size}<br>lat=%{lat}<br>lon=%{lon}<extra></extra>",
         "lat": [
          43.76481331
         ],
         "legendgroup": "Bathurst Manor",
         "lon": [
          -79.45605516
         ],
         "marker": {
          "color": "#19d3f3",
          "size": [
           501576.75
          ],
          "sizemode": "area",
          "sizeref": 3816.214375
         },
         "mode": "markers",
         "name": "Bathurst Manor",
         "showlegend": true,
         "subplot": "mapbox",
         "type": "scattermapbox"
        },
        {
         "hovertemplate": "neighbourhood=Bay Street Corridor<br>average_house_value=%{marker.size}<br>lat=%{lat}<br>lon=%{lon}<extra></extra>",
         "lat": [
          43.65751135
         ],
         "legendgroup": "Bay Street Corridor",
         "lon": [
          -79.38572125
         ],
         "marker": {
          "color": "#FF6692",
          "size": [
           423653.5
          ],
          "sizemode": "area",
          "sizeref": 3816.214375
         },
         "mode": "markers",
         "name": "Bay Street Corridor",
         "showlegend": true,
         "subplot": "mapbox",
         "type": "scattermapbox"
        },
        {
         "hovertemplate": "neighbourhood=Bayview Village<br>average_house_value=%{marker.size}<br>lat=%{lat}<br>lon=%{lon}<extra></extra>",
         "lat": [
          43.77636052
         ],
         "legendgroup": "Bayview Village",
         "lon": [
          -79.37711686
         ],
         "marker": {
          "color": "#B6E880",
          "size": [
           539258.75
          ],
          "sizemode": "area",
          "sizeref": 3816.214375
         },
         "mode": "markers",
         "name": "Bayview Village",
         "showlegend": true,
         "subplot": "mapbox",
         "type": "scattermapbox"
        },
        {
         "hovertemplate": "neighbourhood=Bayview Woods-Steeles<br>average_house_value=%{marker.size}<br>lat=%{lat}<br>lon=%{lon}<extra></extra>",
         "lat": [
          43.79680187
         ],
         "legendgroup": "Bayview Woods-Steeles",
         "lon": [
          -79.38211795
         ],
         "marker": {
          "color": "#FF97FF",
          "size": [
           565413.5
          ],
          "sizemode": "area",
          "sizeref": 3816.214375
         },
         "mode": "markers",
         "name": "Bayview Woods-Steeles",
         "showlegend": true,
         "subplot": "mapbox",
         "type": "scattermapbox"
        },
        {
         "hovertemplate": "neighbourhood=Bedford Park-Nortown<br>average_house_value=%{marker.size}<br>lat=%{lat}<br>lon=%{lon}<extra></extra>",
         "lat": [
          43.73148623
         ],
         "legendgroup": "Bedford Park-Nortown",
         "lon": [
          -79.42022735
         ],
         "marker": {
          "color": "#FECB52",
          "size": [
           930415.25
          ],
          "sizemode": "area",
          "sizeref": 3816.214375
         },
         "mode": "markers",
         "name": "Bedford Park-Nortown",
         "showlegend": true,
         "subplot": "mapbox",
         "type": "scattermapbox"
        },
        {
         "hovertemplate": "neighbourhood=Beechborough-Greenbrook<br>average_house_value=%{marker.size}<br>lat=%{lat}<br>lon=%{lon}<extra></extra>",
         "lat": [
          43.69321649
         ],
         "legendgroup": "Beechborough-Greenbrook",
         "lon": [
          -79.47947251
         ],
         "marker": {
          "color": "#636efa",
          "size": [
           370927.75
          ],
          "sizemode": "area",
          "sizeref": 3816.214375
         },
         "mode": "markers",
         "name": "Beechborough-Greenbrook",
         "showlegend": true,
         "subplot": "mapbox",
         "type": "scattermapbox"
        },
        {
         "hovertemplate": "neighbourhood=Bendale<br>average_house_value=%{marker.size}<br>lat=%{lat}<br>lon=%{lon}<extra></extra>",
         "lat": [
          43.76036631
         ],
         "legendgroup": "Bendale",
         "lon": [
          -79.25740037
         ],
         "marker": {
          "color": "#EF553B",
          "size": [
           301123.25
          ],
          "sizemode": "area",
          "sizeref": 3816.214375
         },
         "mode": "markers",
         "name": "Bendale",
         "showlegend": true,
         "subplot": "mapbox",
         "type": "scattermapbox"
        },
        {
         "hovertemplate": "neighbourhood=Birchcliffe-Cliffside<br>average_house_value=%{marker.size}<br>lat=%{lat}<br>lon=%{lon}<extra></extra>",
         "lat": [
          43.69468198
         ],
         "legendgroup": "Birchcliffe-Cliffside",
         "lon": [
          -79.26509259
         ],
         "marker": {
          "color": "#00cc96",
          "size": [
           437315
          ],
          "sizemode": "area",
          "sizeref": 3816.214375
         },
         "mode": "markers",
         "name": "Birchcliffe-Cliffside",
         "showlegend": true,
         "subplot": "mapbox",
         "type": "scattermapbox"
        },
        {
         "hovertemplate": "neighbourhood=Black Creek<br>average_house_value=%{marker.size}<br>lat=%{lat}<br>lon=%{lon}<extra></extra>",
         "lat": [
          43.76489025
         ],
         "legendgroup": "Black Creek",
         "lon": [
          -79.52197932
         ],
         "marker": {
          "color": "#ab63fa",
          "size": [
           260841.75
          ],
          "sizemode": "area",
          "sizeref": 3816.214375
         },
         "mode": "markers",
         "name": "Black Creek",
         "showlegend": true,
         "subplot": "mapbox",
         "type": "scattermapbox"
        },
        {
         "hovertemplate": "neighbourhood=Blake-Jones<br>average_house_value=%{marker.size}<br>lat=%{lat}<br>lon=%{lon}<extra></extra>",
         "lat": [
          43.67617288
         ],
         "legendgroup": "Blake-Jones",
         "lon": [
          -79.33739417
         ],
         "marker": {
          "color": "#FFA15A",
          "size": [
           511437
          ],
          "sizemode": "area",
          "sizeref": 3816.214375
         },
         "mode": "markers",
         "name": "Blake-Jones",
         "showlegend": true,
         "subplot": "mapbox",
         "type": "scattermapbox"
        },
        {
         "hovertemplate": "neighbourhood=Briar Hill-Belgravia<br>average_house_value=%{marker.size}<br>lat=%{lat}<br>lon=%{lon}<extra></extra>",
         "lat": [
          43.69902438
         ],
         "legendgroup": "Briar Hill-Belgravia",
         "lon": [
          -79.45285129999999
         ],
         "marker": {
          "color": "#19d3f3",
          "size": [
           365524.5
          ],
          "sizemode": "area",
          "sizeref": 3816.214375
         },
         "mode": "markers",
         "name": "Briar Hill-Belgravia",
         "showlegend": true,
         "subplot": "mapbox",
         "type": "scattermapbox"
        },
        {
         "hovertemplate": "neighbourhood=Bridle Path-Sunnybrook-York Mills<br>average_house_value=%{marker.size}<br>lat=%{lat}<br>lon=%{lon}<extra></extra>",
         "lat": [
          43.73101314
         ],
         "legendgroup": "Bridle Path-Sunnybrook-York Mills",
         "lon": [
          -79.37890418
         ],
         "marker": {
          "color": "#FF6692",
          "size": [
           1526485.75
          ],
          "sizemode": "area",
          "sizeref": 3816.214375
         },
         "mode": "markers",
         "name": "Bridle Path-Sunnybrook-York Mills",
         "showlegend": true,
         "subplot": "mapbox",
         "type": "scattermapbox"
        },
        {
         "hovertemplate": "neighbourhood=Broadview North<br>average_house_value=%{marker.size}<br>lat=%{lat}<br>lon=%{lon}<extra></extra>",
         "lat": [
          43.68882512
         ],
         "legendgroup": "Broadview North",
         "lon": [
          -79.35562951
         ],
         "marker": {
          "color": "#B6E880",
          "size": [
           443373.25
          ],
          "sizemode": "area",
          "sizeref": 3816.214375
         },
         "mode": "markers",
         "name": "Broadview North",
         "showlegend": true,
         "subplot": "mapbox",
         "type": "scattermapbox"
        },
        {
         "hovertemplate": "neighbourhood=Brookhaven-Amesbury<br>average_house_value=%{marker.size}<br>lat=%{lat}<br>lon=%{lon}<extra></extra>",
         "lat": [
          43.70132631
         ],
         "legendgroup": "Brookhaven-Amesbury",
         "lon": [
          -79.48558926
         ],
         "marker": {
          "color": "#FF97FF",
          "size": [
           350943
          ],
          "sizemode": "area",
          "sizeref": 3816.214375
         },
         "mode": "markers",
         "name": "Brookhaven-Amesbury",
         "showlegend": true,
         "subplot": "mapbox",
         "type": "scattermapbox"
        },
        {
         "hovertemplate": "neighbourhood=Cabbagetown-South St.James Town<br>average_house_value=%{marker.size}<br>lat=%{lat}<br>lon=%{lon}<extra></extra>",
         "lat": [
          43.66764773
         ],
         "legendgroup": "Cabbagetown-South St.James Town",
         "lon": [
          -79.36610666
         ],
         "marker": {
          "color": "#FECB52",
          "size": [
           494110.5
          ],
          "sizemode": "area",
          "sizeref": 3816.214375
         },
         "mode": "markers",
         "name": "Cabbagetown-South St.James Town",
         "showlegend": true,
         "subplot": "mapbox",
         "type": "scattermapbox"
        },
        {
         "hovertemplate": "neighbourhood=Caledonia-Fairbank<br>average_house_value=%{marker.size}<br>lat=%{lat}<br>lon=%{lon}<extra></extra>",
         "lat": [
          43.68856865
         ],
         "legendgroup": "Caledonia-Fairbank",
         "lon": [
          -79.45521208
         ],
         "marker": {
          "color": "#636efa",
          "size": [
           361714.25
          ],
          "sizemode": "area",
          "sizeref": 3816.214375
         },
         "mode": "markers",
         "name": "Caledonia-Fairbank",
         "showlegend": true,
         "subplot": "mapbox",
         "type": "scattermapbox"
        },
        {
         "hovertemplate": "neighbourhood=Casa Loma<br>average_house_value=%{marker.size}<br>lat=%{lat}<br>lon=%{lon}<extra></extra>",
         "lat": [
          43.6818521
         ],
         "legendgroup": "Casa Loma",
         "lon": [
          -79.40800665
         ],
         "marker": {
          "color": "#EF553B",
          "size": [
           981064.25
          ],
          "sizemode": "area",
          "sizeref": 3816.214375
         },
         "mode": "markers",
         "name": "Casa Loma",
         "showlegend": true,
         "subplot": "mapbox",
         "type": "scattermapbox"
        },
        {
         "hovertemplate": "neighbourhood=Centennial Scarborough<br>average_house_value=%{marker.size}<br>lat=%{lat}<br>lon=%{lon}<extra></extra>",
         "lat": [
          43.7823765
         ],
         "legendgroup": "Centennial Scarborough",
         "lon": [
          -79.15084327
         ],
         "marker": {
          "color": "#00cc96",
          "size": [
           409862.75
          ],
          "sizemode": "area",
          "sizeref": 3816.214375
         },
         "mode": "markers",
         "name": "Centennial Scarborough",
         "showlegend": true,
         "subplot": "mapbox",
         "type": "scattermapbox"
        },
        {
         "hovertemplate": "neighbourhood=Church-Yonge Corridor<br>average_house_value=%{marker.size}<br>lat=%{lat}<br>lon=%{lon}<extra></extra>",
         "lat": [
          43.65964886
         ],
         "legendgroup": "Church-Yonge Corridor",
         "lon": [
          -79.37901717
         ],
         "marker": {
          "color": "#ab63fa",
          "size": [
           406117.5
          ],
          "sizemode": "area",
          "sizeref": 3816.214375
         },
         "mode": "markers",
         "name": "Church-Yonge Corridor",
         "showlegend": true,
         "subplot": "mapbox",
         "type": "scattermapbox"
        },
        {
         "hovertemplate": "neighbourhood=Clairlea-Birchmount<br>average_house_value=%{marker.size}<br>lat=%{lat}<br>lon=%{lon}<extra></extra>",
         "lat": [
          43.71359238
         ],
         "legendgroup": "Clairlea-Birchmount",
         "lon": [
          -79.28138178
         ],
         "marker": {
          "color": "#FFA15A",
          "size": [
           354555.25
          ],
          "sizemode": "area",
          "sizeref": 3816.214375
         },
         "mode": "markers",
         "name": "Clairlea-Birchmount",
         "showlegend": true,
         "subplot": "mapbox",
         "type": "scattermapbox"
        },
        {
         "hovertemplate": "neighbourhood=Clanton Park<br>average_house_value=%{marker.size}<br>lat=%{lat}<br>lon=%{lon}<extra></extra>",
         "lat": [
          43.74197843
         ],
         "legendgroup": "Clanton Park",
         "lon": [
          -79.44630258
         ],
         "marker": {
          "color": "#19d3f3",
          "size": [
           551561.25
          ],
          "sizemode": "area",
          "sizeref": 3816.214375
         },
         "mode": "markers",
         "name": "Clanton Park",
         "showlegend": true,
         "subplot": "mapbox",
         "type": "scattermapbox"
        },
        {
         "hovertemplate": "neighbourhood=Cliffcrest<br>average_house_value=%{marker.size}<br>lat=%{lat}<br>lon=%{lon}<extra></extra>",
         "lat": [
          43.72112117
         ],
         "legendgroup": "Cliffcrest",
         "lon": [
          -79.23552957
         ],
         "marker": {
          "color": "#FF6692",
          "size": [
           417422
          ],
          "sizemode": "area",
          "sizeref": 3816.214375
         },
         "mode": "markers",
         "name": "Cliffcrest",
         "showlegend": true,
         "subplot": "mapbox",
         "type": "scattermapbox"
        },
        {
         "hovertemplate": "neighbourhood=Corso Italia-Davenport<br>average_house_value=%{marker.size}<br>lat=%{lat}<br>lon=%{lon}<extra></extra>",
         "lat": [
          43.67766091
         ],
         "legendgroup": "Corso Italia-Davenport",
         "lon": [
          -79.44746933
         ],
         "marker": {
          "color": "#B6E880",
          "size": [
           419930.5
          ],
          "sizemode": "area",
          "sizeref": 3816.214375
         },
         "mode": "markers",
         "name": "Corso Italia-Davenport",
         "showlegend": true,
         "subplot": "mapbox",
         "type": "scattermapbox"
        },
        {
         "hovertemplate": "neighbourhood=Danforth<br>average_house_value=%{marker.size}<br>lat=%{lat}<br>lon=%{lon}<extra></extra>",
         "lat": [
          43.68402547
         ],
         "legendgroup": "Danforth",
         "lon": [
          -79.32981941
         ],
         "marker": {
          "color": "#FF97FF",
          "size": [
           466943
          ],
          "sizemode": "area",
          "sizeref": 3816.214375
         },
         "mode": "markers",
         "name": "Danforth",
         "showlegend": true,
         "subplot": "mapbox",
         "type": "scattermapbox"
        },
        {
         "hovertemplate": "neighbourhood=Danforth-East York<br>average_house_value=%{marker.size}<br>lat=%{lat}<br>lon=%{lon}<extra></extra>",
         "lat": [
          43.68946809
         ],
         "legendgroup": "Danforth-East York",
         "lon": [
          -79.33140338
         ],
         "marker": {
          "color": "#FECB52",
          "size": [
           421679.25
          ],
          "sizemode": "area",
          "sizeref": 3816.214375
         },
         "mode": "markers",
         "name": "Danforth-East York",
         "showlegend": true,
         "subplot": "mapbox",
         "type": "scattermapbox"
        },
        {
         "hovertemplate": "neighbourhood=Don Valley Village<br>average_house_value=%{marker.size}<br>lat=%{lat}<br>lon=%{lon}<extra></extra>",
         "lat": [
          43.78329369
         ],
         "legendgroup": "Don Valley Village",
         "lon": [
          -79.35364413
         ],
         "marker": {
          "color": "#636efa",
          "size": [
           398010.25
          ],
          "sizemode": "area",
          "sizeref": 3816.214375
         },
         "mode": "markers",
         "name": "Don Valley Village",
         "showlegend": true,
         "subplot": "mapbox",
         "type": "scattermapbox"
        },
        {
         "hovertemplate": "neighbourhood=Dorset Park<br>average_house_value=%{marker.size}<br>lat=%{lat}<br>lon=%{lon}<extra></extra>",
         "lat": [
          43.75927437
         ],
         "legendgroup": "Dorset Park",
         "lon": [
          -79.27890794
         ],
         "marker": {
          "color": "#EF553B",
          "size": [
           262000.25
          ],
          "sizemode": "area",
          "sizeref": 3816.214375
         },
         "mode": "markers",
         "name": "Dorset Park",
         "showlegend": true,
         "subplot": "mapbox",
         "type": "scattermapbox"
        },
        {
         "hovertemplate": "neighbourhood=Dovercourt-Wallace Emerson-Juncti<br>average_house_value=%{marker.size}<br>lat=%{lat}<br>lon=%{lon}<extra></extra>",
         "lat": [
          43.66567693
         ],
         "legendgroup": "Dovercourt-Wallace Emerson-Juncti",
         "lon": [
          -79.4385407
         ],
         "marker": {
          "color": "#00cc96",
          "size": [
           434699.5
          ],
          "sizemode": "area",
          "sizeref": 3816.214375
         },
         "mode": "markers",
         "name": "Dovercourt-Wallace Emerson-Juncti",
         "showlegend": true,
         "subplot": "mapbox",
         "type": "scattermapbox"
        },
        {
         "hovertemplate": "neighbourhood=Downsview-Roding-CFB<br>average_house_value=%{marker.size}<br>lat=%{lat}<br>lon=%{lon}<extra></extra>",
         "lat": [
          43.73329235
         ],
         "legendgroup": "Downsview-Roding-CFB",
         "lon": [
          -79.49049735
         ],
         "marker": {
          "color": "#ab63fa",
          "size": [
           381415.5
          ],
          "sizemode": "area",
          "sizeref": 3816.214375
         },
         "mode": "markers",
         "name": "Downsview-Roding-CFB",
         "showlegend": true,
         "subplot": "mapbox",
         "type": "scattermapbox"
        },
        {
         "hovertemplate": "neighbourhood=Dufferin Grove<br>average_house_value=%{marker.size}<br>lat=%{lat}<br>lon=%{lon}<extra></extra>",
         "lat": [
          43.65542833
         ],
         "legendgroup": "Dufferin Grove",
         "lon": [
          -79.43734104
         ],
         "marker": {
          "color": "#FFA15A",
          "size": [
           457588.75
          ],
          "sizemode": "area",
          "sizeref": 3816.214375
         },
         "mode": "markers",
         "name": "Dufferin Grove",
         "showlegend": true,
         "subplot": "mapbox",
         "type": "scattermapbox"
        },
        {
         "hovertemplate": "neighbourhood=East End-Danforth<br>average_house_value=%{marker.size}<br>lat=%{lat}<br>lon=%{lon}<extra></extra>",
         "lat": [
          43.68417388
         ],
         "legendgroup": "East End-Danforth",
         "lon": [
          -79.29935867
         ],
         "marker": {
          "color": "#19d3f3",
          "size": [
           478054.25
          ],
          "sizemode": "area",
          "sizeref": 3816.214375
         },
         "mode": "markers",
         "name": "East End-Danforth",
         "showlegend": true,
         "subplot": "mapbox",
         "type": "scattermapbox"
        },
        {
         "hovertemplate": "neighbourhood=Edenbridge-Humber Valley<br>average_house_value=%{marker.size}<br>lat=%{lat}<br>lon=%{lon}<extra></extra>",
         "lat": [
          43.67088591
         ],
         "legendgroup": "Edenbridge-Humber Valley",
         "lon": [
          -79.52245776
         ],
         "marker": {
          "color": "#FF6692",
          "size": [
           796162.5
          ],
          "sizemode": "area",
          "sizeref": 3816.214375
         },
         "mode": "markers",
         "name": "Edenbridge-Humber Valley",
         "showlegend": true,
         "subplot": "mapbox",
         "type": "scattermapbox"
        },
        {
         "hovertemplate": "neighbourhood=Eglinton East<br>average_house_value=%{marker.size}<br>lat=%{lat}<br>lon=%{lon}<extra></extra>",
         "lat": [
          43.7409223
         ],
         "legendgroup": "Eglinton East",
         "lon": [
          -79.24559804
         ],
         "marker": {
          "color": "#B6E880",
          "size": [
           268966.5
          ],
          "sizemode": "area",
          "sizeref": 3816.214375
         },
         "mode": "markers",
         "name": "Eglinton East",
         "showlegend": true,
         "subplot": "mapbox",
         "type": "scattermapbox"
        },
        {
         "hovertemplate": "neighbourhood=Elms-Old Rexdale<br>average_house_value=%{marker.size}<br>lat=%{lat}<br>lon=%{lon}<extra></extra>",
         "lat": [
          43.72151887
         ],
         "legendgroup": "Elms-Old Rexdale",
         "lon": [
          -79.54898272
         ],
         "marker": {
          "color": "#FF97FF",
          "size": [
           268341.25
          ],
          "sizemode": "area",
          "sizeref": 3816.214375
         },
         "mode": "markers",
         "name": "Elms-Old Rexdale",
         "showlegend": true,
         "subplot": "mapbox",
         "type": "scattermapbox"
        },
        {
         "hovertemplate": "neighbourhood=Englemount-Lawrence<br>average_house_value=%{marker.size}<br>lat=%{lat}<br>lon=%{lon}<extra></extra>",
         "lat": [
          43.72034467
         ],
         "legendgroup": "Englemount-Lawrence",
         "lon": [
          -79.43740855
         ],
         "marker": {
          "color": "#FECB52",
          "size": [
           568936.75
          ],
          "sizemode": "area",
          "sizeref": 3816.214375
         },
         "mode": "markers",
         "name": "Englemount-Lawrence",
         "showlegend": true,
         "subplot": "mapbox",
         "type": "scattermapbox"
        },
        {
         "hovertemplate": "neighbourhood=Eringate-Centennial-West Deane<br>average_house_value=%{marker.size}<br>lat=%{lat}<br>lon=%{lon}<extra></extra>",
         "lat": [
          43.65801676
         ],
         "legendgroup": "Eringate-Centennial-West Deane",
         "lon": [
          -79.58044524
         ],
         "marker": {
          "color": "#636efa",
          "size": [
           397781.75
          ],
          "sizemode": "area",
          "sizeref": 3816.214375
         },
         "mode": "markers",
         "name": "Eringate-Centennial-West Deane",
         "showlegend": true,
         "subplot": "mapbox",
         "type": "scattermapbox"
        },
        {
         "hovertemplate": "neighbourhood=Etobicoke West Mall<br>average_house_value=%{marker.size}<br>lat=%{lat}<br>lon=%{lon}<extra></extra>",
         "lat": [
          43.64506262
         ],
         "legendgroup": "Etobicoke West Mall",
         "lon": [
          -79.56893877
         ],
         "marker": {
          "color": "#EF553B",
          "size": [
           309412
          ],
          "sizemode": "area",
          "sizeref": 3816.214375
         },
         "mode": "markers",
         "name": "Etobicoke West Mall",
         "showlegend": true,
         "subplot": "mapbox",
         "type": "scattermapbox"
        },
        {
         "hovertemplate": "neighbourhood=Flemingdon Park<br>average_house_value=%{marker.size}<br>lat=%{lat}<br>lon=%{lon}<extra></extra>",
         "lat": [
          43.71592975
         ],
         "legendgroup": "Flemingdon Park",
         "lon": [
          -79.33264597
         ],
         "marker": {
          "color": "#00cc96",
          "size": [
           207799
          ],
          "sizemode": "area",
          "sizeref": 3816.214375
         },
         "mode": "markers",
         "name": "Flemingdon Park",
         "showlegend": true,
         "subplot": "mapbox",
         "type": "scattermapbox"
        },
        {
         "hovertemplate": "neighbourhood=Forest Hill North<br>average_house_value=%{marker.size}<br>lat=%{lat}<br>lon=%{lon}<extra></extra>",
         "lat": [
          43.70421756
         ],
         "legendgroup": "Forest Hill North",
         "lon": [
          -79.42814316
         ],
         "marker": {
          "color": "#ab63fa",
          "size": [
           851680.5
          ],
          "sizemode": "area",
          "sizeref": 3816.214375
         },
         "mode": "markers",
         "name": "Forest Hill North",
         "showlegend": true,
         "subplot": "mapbox",
         "type": "scattermapbox"
        },
        {
         "hovertemplate": "neighbourhood=Forest Hill South<br>average_house_value=%{marker.size}<br>lat=%{lat}<br>lon=%{lon}<extra></extra>",
         "lat": [
          43.69452576
         ],
         "legendgroup": "Forest Hill South",
         "lon": [
          -79.41431786
         ],
         "marker": {
          "color": "#FFA15A",
          "size": [
           1195992.5
          ],
          "sizemode": "area",
          "sizeref": 3816.214375
         },
         "mode": "markers",
         "name": "Forest Hill South",
         "showlegend": true,
         "subplot": "mapbox",
         "type": "scattermapbox"
        },
        {
         "hovertemplate": "neighbourhood=Glenfield-Jane Heights<br>average_house_value=%{marker.size}<br>lat=%{lat}<br>lon=%{lon}<extra></extra>",
         "lat": [
          43.74563575
         ],
         "legendgroup": "Glenfield-Jane Heights",
         "lon": [
          -79.51346532
         ],
         "marker": {
          "color": "#19d3f3",
          "size": [
           327597.75
          ],
          "sizemode": "area",
          "sizeref": 3816.214375
         },
         "mode": "markers",
         "name": "Glenfield-Jane Heights",
         "showlegend": true,
         "subplot": "mapbox",
         "type": "scattermapbox"
        },
        {
         "hovertemplate": "neighbourhood=Greenwood-Coxwell<br>average_house_value=%{marker.size}<br>lat=%{lat}<br>lon=%{lon}<extra></extra>",
         "lat": [
          43.67261231
         ],
         "legendgroup": "Greenwood-Coxwell",
         "lon": [
          -79.32431802
         ],
         "marker": {
          "color": "#FF6692",
          "size": [
           387055.5
          ],
          "sizemode": "area",
          "sizeref": 3816.214375
         },
         "mode": "markers",
         "name": "Greenwood-Coxwell",
         "showlegend": true,
         "subplot": "mapbox",
         "type": "scattermapbox"
        },
        {
         "hovertemplate": "neighbourhood=Guildwood<br>average_house_value=%{marker.size}<br>lat=%{lat}<br>lon=%{lon}<extra></extra>",
         "lat": [
          43.74882934
         ],
         "legendgroup": "Guildwood",
         "lon": [
          -79.19505535
         ],
         "marker": {
          "color": "#B6E880",
          "size": [
           369373.5
          ],
          "sizemode": "area",
          "sizeref": 3816.214375
         },
         "mode": "markers",
         "name": "Guildwood",
         "showlegend": true,
         "subplot": "mapbox",
         "type": "scattermapbox"
        },
        {
         "hovertemplate": "neighbourhood=Henry Farm<br>average_house_value=%{marker.size}<br>lat=%{lat}<br>lon=%{lon}<extra></extra>",
         "lat": [
          43.77114414
         ],
         "legendgroup": "Henry Farm",
         "lon": [
          -79.34124067
         ],
         "marker": {
          "color": "#FF97FF",
          "size": [
           369958
          ],
          "sizemode": "area",
          "sizeref": 3816.214375
         },
         "mode": "markers",
         "name": "Henry Farm",
         "showlegend": true,
         "subplot": "mapbox",
         "type": "scattermapbox"
        },
        {
         "hovertemplate": "neighbourhood=High Park North<br>average_house_value=%{marker.size}<br>lat=%{lat}<br>lon=%{lon}<extra></extra>",
         "lat": [
          43.65756491
         ],
         "legendgroup": "High Park North",
         "lon": [
          -79.46630217
         ],
         "marker": {
          "color": "#FECB52",
          "size": [
           532497
          ],
          "sizemode": "area",
          "sizeref": 3816.214375
         },
         "mode": "markers",
         "name": "High Park North",
         "showlegend": true,
         "subplot": "mapbox",
         "type": "scattermapbox"
        },
        {
         "hovertemplate": "neighbourhood=High Park-Swansea<br>average_house_value=%{marker.size}<br>lat=%{lat}<br>lon=%{lon}<extra></extra>",
         "lat": [
          43.64506458
         ],
         "legendgroup": "High Park-Swansea",
         "lon": [
          -79.46787222
         ],
         "marker": {
          "color": "#636efa",
          "size": [
           582977.75
          ],
          "sizemode": "area",
          "sizeref": 3816.214375
         },
         "mode": "markers",
         "name": "High Park-Swansea",
         "showlegend": true,
         "subplot": "mapbox",
         "type": "scattermapbox"
        },
        {
         "hovertemplate": "neighbourhood=Highland Creek<br>average_house_value=%{marker.size}<br>lat=%{lat}<br>lon=%{lon}<extra></extra>",
         "lat": [
          43.79077477
         ],
         "legendgroup": "Highland Creek",
         "lon": [
          -79.17747247
         ],
         "marker": {
          "color": "#EF553B",
          "size": [
           428838.5
          ],
          "sizemode": "area",
          "sizeref": 3816.214375
         },
         "mode": "markers",
         "name": "Highland Creek",
         "showlegend": true,
         "subplot": "mapbox",
         "type": "scattermapbox"
        },
        {
         "hovertemplate": "neighbourhood=Hillcrest Village<br>average_house_value=%{marker.size}<br>lat=%{lat}<br>lon=%{lon}<extra></extra>",
         "lat": [
          43.80298783
         ],
         "legendgroup": "Hillcrest Village",
         "lon": [
          -79.354804
         ],
         "marker": {
          "color": "#00cc96",
          "size": [
           395023
          ],
          "sizemode": "area",
          "sizeref": 3816.214375
         },
         "mode": "markers",
         "name": "Hillcrest Village",
         "showlegend": true,
         "subplot": "mapbox",
         "type": "scattermapbox"
        },
        {
         "hovertemplate": "neighbourhood=Humber Heights-Westmount<br>average_house_value=%{marker.size}<br>lat=%{lat}<br>lon=%{lon}<extra></extra>",
         "lat": [
          43.6922328
         ],
         "legendgroup": "Humber Heights-Westmount",
         "lon": [
          -79.5224162
         ],
         "marker": {
          "color": "#ab63fa",
          "size": [
           449150.5
          ],
          "sizemode": "area",
          "sizeref": 3816.214375
         },
         "mode": "markers",
         "name": "Humber Heights-Westmount",
         "showlegend": true,
         "subplot": "mapbox",
         "type": "scattermapbox"
        },
        {
         "hovertemplate": "neighbourhood=Humber Summit<br>average_house_value=%{marker.size}<br>lat=%{lat}<br>lon=%{lon}<extra></extra>",
         "lat": [
          43.75891975
         ],
         "legendgroup": "Humber Summit",
         "lon": [
          -79.55617474
         ],
         "marker": {
          "color": "#FFA15A",
          "size": [
           352082.5
          ],
          "sizemode": "area",
          "sizeref": 3816.214375
         },
         "mode": "markers",
         "name": "Humber Summit",
         "showlegend": true,
         "subplot": "mapbox",
         "type": "scattermapbox"
        },
        {
         "hovertemplate": "neighbourhood=Humbermede<br>average_house_value=%{marker.size}<br>lat=%{lat}<br>lon=%{lon}<extra></extra>",
         "lat": [
          43.74342952
         ],
         "legendgroup": "Humbermede",
         "lon": [
          -79.54236712
         ],
         "marker": {
          "color": "#19d3f3",
          "size": [
           319783.75
          ],
          "sizemode": "area",
          "sizeref": 3816.214375
         },
         "mode": "markers",
         "name": "Humbermede",
         "showlegend": true,
         "subplot": "mapbox",
         "type": "scattermapbox"
        },
        {
         "hovertemplate": "neighbourhood=Humewood-Cedarvale<br>average_house_value=%{marker.size}<br>lat=%{lat}<br>lon=%{lon}<extra></extra>",
         "lat": [
          43.69136981
         ],
         "legendgroup": "Humewood-Cedarvale",
         "lon": [
          -79.42768335
         ],
         "marker": {
          "color": "#FF6692",
          "size": [
           697085.5
          ],
          "sizemode": "area",
          "sizeref": 3816.214375
         },
         "mode": "markers",
         "name": "Humewood-Cedarvale",
         "showlegend": true,
         "subplot": "mapbox",
         "type": "scattermapbox"
        },
        {
         "hovertemplate": "neighbourhood=Ionview<br>average_house_value=%{marker.size}<br>lat=%{lat}<br>lon=%{lon}<extra></extra>",
         "lat": [
          43.73536441
         ],
         "legendgroup": "Ionview",
         "lon": [
          -79.27247049
         ],
         "marker": {
          "color": "#B6E880",
          "size": [
           287685.75
          ],
          "sizemode": "area",
          "sizeref": 3816.214375
         },
         "mode": "markers",
         "name": "Ionview",
         "showlegend": true,
         "subplot": "mapbox",
         "type": "scattermapbox"
        },
        {
         "hovertemplate": "neighbourhood=Islington-City Centre West<br>average_house_value=%{marker.size}<br>lat=%{lat}<br>lon=%{lon}<extra></extra>",
         "lat": [
          43.63346335
         ],
         "legendgroup": "Islington-City Centre West",
         "lon": [
          -79.54331654
         ],
         "marker": {
          "color": "#FF97FF",
          "size": [
           451685.25
          ],
          "sizemode": "area",
          "sizeref": 3816.214375
         },
         "mode": "markers",
         "name": "Islington-City Centre West",
         "showlegend": true,
         "subplot": "mapbox",
         "type": "scattermapbox"
        },
        {
         "hovertemplate": "neighbourhood=Junction Area<br>average_house_value=%{marker.size}<br>lat=%{lat}<br>lon=%{lon}<extra></extra>",
         "lat": [
          43.66788977
         ],
         "legendgroup": "Junction Area",
         "lon": [
          -79.47143987
         ],
         "marker": {
          "color": "#FECB52",
          "size": [
           433269.25
          ],
          "sizemode": "area",
          "sizeref": 3816.214375
         },
         "mode": "markers",
         "name": "Junction Area",
         "showlegend": true,
         "subplot": "mapbox",
         "type": "scattermapbox"
        },
        {
         "hovertemplate": "neighbourhood=Keelesdale-Eglinton West<br>average_house_value=%{marker.size}<br>lat=%{lat}<br>lon=%{lon}<extra></extra>",
         "lat": [
          43.68572747
         ],
         "legendgroup": "Keelesdale-Eglinton West",
         "lon": [
          -79.47143711
         ],
         "marker": {
          "color": "#636efa",
          "size": [
           322774.75
          ],
          "sizemode": "area",
          "sizeref": 3816.214375
         },
         "mode": "markers",
         "name": "Keelesdale-Eglinton West",
         "showlegend": true,
         "subplot": "mapbox",
         "type": "scattermapbox"
        },
        {
         "hovertemplate": "neighbourhood=Kennedy Park<br>average_house_value=%{marker.size}<br>lat=%{lat}<br>lon=%{lon}<extra></extra>",
         "lat": [
          43.72555572
         ],
         "legendgroup": "Kennedy Park",
         "lon": [
          -79.26038221
         ],
         "marker": {
          "color": "#EF553B",
          "size": [
           287233.5
          ],
          "sizemode": "area",
          "sizeref": 3816.214375
         },
         "mode": "markers",
         "name": "Kennedy Park",
         "showlegend": true,
         "subplot": "mapbox",
         "type": "scattermapbox"
        },
        {
         "hovertemplate": "neighbourhood=Kensington-Chinatown<br>average_house_value=%{marker.size}<br>lat=%{lat}<br>lon=%{lon}<extra></extra>",
         "lat": [
          43.65355413
         ],
         "legendgroup": "Kensington-Chinatown",
         "lon": [
          -79.39723988
         ],
         "marker": {
          "color": "#00cc96",
          "size": [
           440485.75
          ],
          "sizemode": "area",
          "sizeref": 3816.214375
         },
         "mode": "markers",
         "name": "Kensington-Chinatown",
         "showlegend": true,
         "subplot": "mapbox",
         "type": "scattermapbox"
        },
        {
         "hovertemplate": "neighbourhood=Kingsview Village-The Westway<br>average_house_value=%{marker.size}<br>lat=%{lat}<br>lon=%{lon}<extra></extra>",
         "lat": [
          43.69899257
         ],
         "legendgroup": "Kingsview Village-The Westway",
         "lon": [
          -79.54786331
         ],
         "marker": {
          "color": "#ab63fa",
          "size": [
           338344.75
          ],
          "sizemode": "area",
          "sizeref": 3816.214375
         },
         "mode": "markers",
         "name": "Kingsview Village-The Westway",
         "showlegend": true,
         "subplot": "mapbox",
         "type": "scattermapbox"
        },
        {
         "hovertemplate": "neighbourhood=Kingsway South<br>average_house_value=%{marker.size}<br>lat=%{lat}<br>lon=%{lon}<extra></extra>",
         "lat": [
          43.65352043
         ],
         "legendgroup": "Kingsway South",
         "lon": [
          -79.5105768
         ],
         "marker": {
          "color": "#FFA15A",
          "size": [
           843234.25
          ],
          "sizemode": "area",
          "sizeref": 3816.214375
         },
         "mode": "markers",
         "name": "Kingsway South",
         "showlegend": true,
         "subplot": "mapbox",
         "type": "scattermapbox"
        },
        {
         "hovertemplate": "neighbourhood=L'Amoreaux<br>average_house_value=%{marker.size}<br>lat=%{lat}<br>lon=%{lon}<extra></extra>",
         "lat": [
          43.79571603
         ],
         "legendgroup": "L'Amoreaux",
         "lon": [
          -79.31408424
         ],
         "marker": {
          "color": "#19d3f3",
          "size": [
           650307.75
          ],
          "sizemode": "area",
          "sizeref": 3816.214375
         },
         "mode": "markers",
         "name": "L'Amoreaux",
         "showlegend": true,
         "subplot": "mapbox",
         "type": "scattermapbox"
        },
        {
         "hovertemplate": "neighbourhood=Lambton Baby Point<br>average_house_value=%{marker.size}<br>lat=%{lat}<br>lon=%{lon}<extra></extra>",
         "lat": [
          43.65742013
         ],
         "legendgroup": "Lambton Baby Point",
         "lon": [
          -79.49604526
         ],
         "marker": {
          "color": "#FF6692",
          "size": [
           336617.75
          ],
          "sizemode": "area",
          "sizeref": 3816.214375
         },
         "mode": "markers",
         "name": "Lambton Baby Point",
         "showlegend": true,
         "subplot": "mapbox",
         "type": "scattermapbox"
        },
        {
         "hovertemplate": "neighbourhood=Lansing-Westgate<br>average_house_value=%{marker.size}<br>lat=%{lat}<br>lon=%{lon}<extra></extra>",
         "lat": [
          43.75427115
         ],
         "legendgroup": "Lansing-Westgate",
         "lon": [
          -79.42474772
         ],
         "marker": {
          "color": "#B6E880",
          "size": [
           613216.5
          ],
          "sizemode": "area",
          "sizeref": 3816.214375
         },
         "mode": "markers",
         "name": "Lansing-Westgate",
         "showlegend": true,
         "subplot": "mapbox",
         "type": "scattermapbox"
        },
        {
         "hovertemplate": "neighbourhood=Lawrence Park North<br>average_house_value=%{marker.size}<br>lat=%{lat}<br>lon=%{lon}<extra></extra>",
         "lat": [
          43.73006017
         ],
         "legendgroup": "Lawrence Park North",
         "lon": [
          -79.40397836
         ],
         "marker": {
          "color": "#FF97FF",
          "size": [
           759392.5
          ],
          "sizemode": "area",
          "sizeref": 3816.214375
         },
         "mode": "markers",
         "name": "Lawrence Park North",
         "showlegend": true,
         "subplot": "mapbox",
         "type": "scattermapbox"
        },
        {
         "hovertemplate": "neighbourhood=Lawrence Park South<br>average_house_value=%{marker.size}<br>lat=%{lat}<br>lon=%{lon}<extra></extra>",
         "lat": [
          43.7172117
         ],
         "legendgroup": "Lawrence Park South",
         "lon": [
          -79.40603941
         ],
         "marker": {
          "color": "#FECB52",
          "size": [
           1094027.75
          ],
          "sizemode": "area",
          "sizeref": 3816.214375
         },
         "mode": "markers",
         "name": "Lawrence Park South",
         "showlegend": true,
         "subplot": "mapbox",
         "type": "scattermapbox"
        },
        {
         "hovertemplate": "neighbourhood=Leaside-Bennington<br>average_house_value=%{marker.size}<br>lat=%{lat}<br>lon=%{lon}<extra></extra>",
         "lat": [
          43.70379663
         ],
         "legendgroup": "Leaside-Bennington",
         "lon": [
          -79.36607234
         ],
         "marker": {
          "color": "#636efa",
          "size": [
           806471.75
          ],
          "sizemode": "area",
          "sizeref": 3816.214375
         },
         "mode": "markers",
         "name": "Leaside-Bennington",
         "showlegend": true,
         "subplot": "mapbox",
         "type": "scattermapbox"
        },
        {
         "hovertemplate": "neighbourhood=Little Portugal<br>average_house_value=%{marker.size}<br>lat=%{lat}<br>lon=%{lon}<extra></extra>",
         "lat": [
          43.64753593
         ],
         "legendgroup": "Little Portugal",
         "lon": [
          -79.43032271
         ],
         "marker": {
          "color": "#EF553B",
          "size": [
           540192.5
          ],
          "sizemode": "area",
          "sizeref": 3816.214375
         },
         "mode": "markers",
         "name": "Little Portugal",
         "showlegend": true,
         "subplot": "mapbox",
         "type": "scattermapbox"
        },
        {
         "hovertemplate": "neighbourhood=Long Branch<br>average_house_value=%{marker.size}<br>lat=%{lat}<br>lon=%{lon}<extra></extra>",
         "lat": [
          43.59236169
         ],
         "legendgroup": "Long Branch",
         "lon": [
          -79.53334545
         ],
         "marker": {
          "color": "#00cc96",
          "size": [
           385830.25
          ],
          "sizemode": "area",
          "sizeref": 3816.214375
         },
         "mode": "markers",
         "name": "Long Branch",
         "showlegend": true,
         "subplot": "mapbox",
         "type": "scattermapbox"
        },
        {
         "hovertemplate": "neighbourhood=Malvern<br>average_house_value=%{marker.size}<br>lat=%{lat}<br>lon=%{lon}<extra></extra>",
         "lat": [
          43.80365820000001
         ],
         "legendgroup": "Malvern",
         "lon": [
          -79.22251662
         ],
         "marker": {
          "color": "#ab63fa",
          "size": [
           256880.25
          ],
          "sizemode": "area",
          "sizeref": 3816.214375
         },
         "mode": "markers",
         "name": "Malvern",
         "showlegend": true,
         "subplot": "mapbox",
         "type": "scattermapbox"
        },
        {
         "hovertemplate": "neighbourhood=Maple Leaf<br>average_house_value=%{marker.size}<br>lat=%{lat}<br>lon=%{lon}<extra></extra>",
         "lat": [
          43.71557394
         ],
         "legendgroup": "Maple Leaf",
         "lon": [
          -79.48075802
         ],
         "marker": {
          "color": "#FFA15A",
          "size": [
           453229
          ],
          "sizemode": "area",
          "sizeref": 3816.214375
         },
         "mode": "markers",
         "name": "Maple Leaf",
         "showlegend": true,
         "subplot": "mapbox",
         "type": "scattermapbox"
        },
        {
         "hovertemplate": "neighbourhood=Markland Wood<br>average_house_value=%{marker.size}<br>lat=%{lat}<br>lon=%{lon}<extra></extra>",
         "lat": [
          43.63354175
         ],
         "legendgroup": "Markland Wood",
         "lon": [
          -79.57343155
         ],
         "marker": {
          "color": "#19d3f3",
          "size": [
           443974.75
          ],
          "sizemode": "area",
          "sizeref": 3816.214375
         },
         "mode": "markers",
         "name": "Markland Wood",
         "showlegend": true,
         "subplot": "mapbox",
         "type": "scattermapbox"
        },
        {
         "hovertemplate": "neighbourhood=Milliken<br>average_house_value=%{marker.size}<br>lat=%{lat}<br>lon=%{lon}<extra></extra>",
         "lat": [
          43.82069079
         ],
         "legendgroup": "Milliken",
         "lon": [
          -79.27500892
         ],
         "marker": {
          "color": "#FF6692",
          "size": [
           344988.25
          ],
          "sizemode": "area",
          "sizeref": 3816.214375
         },
         "mode": "markers",
         "name": "Milliken",
         "showlegend": true,
         "subplot": "mapbox",
         "type": "scattermapbox"
        },
        {
         "hovertemplate": "neighbourhood=Mimico<br>average_house_value=%{marker.size}<br>lat=%{lat}<br>lon=%{lon}<extra></extra>",
         "lat": [
          43.61592386
         ],
         "legendgroup": "Mimico",
         "lon": [
          -79.50013664
         ],
         "marker": {
          "color": "#B6E880",
          "size": [
           393490.5
          ],
          "sizemode": "area",
          "sizeref": 3816.214375
         },
         "mode": "markers",
         "name": "Mimico",
         "showlegend": true,
         "subplot": "mapbox",
         "type": "scattermapbox"
        },
        {
         "hovertemplate": "neighbourhood=Morningside<br>average_house_value=%{marker.size}<br>lat=%{lat}<br>lon=%{lon}<extra></extra>",
         "lat": [
          43.78239861
         ],
         "legendgroup": "Morningside",
         "lon": [
          -79.20704119
         ],
         "marker": {
          "color": "#FF97FF",
          "size": [
           285013.5
          ],
          "sizemode": "area",
          "sizeref": 3816.214375
         },
         "mode": "markers",
         "name": "Morningside",
         "showlegend": true,
         "subplot": "mapbox",
         "type": "scattermapbox"
        },
        {
         "hovertemplate": "neighbourhood=Moss Park<br>average_house_value=%{marker.size}<br>lat=%{lat}<br>lon=%{lon}<extra></extra>",
         "lat": [
          43.65651762
         ],
         "legendgroup": "Moss Park",
         "lon": [
          -79.36729703
         ],
         "marker": {
          "color": "#FECB52",
          "size": [
           409456
          ],
          "sizemode": "area",
          "sizeref": 3816.214375
         },
         "mode": "markers",
         "name": "Moss Park",
         "showlegend": true,
         "subplot": "mapbox",
         "type": "scattermapbox"
        },
        {
         "hovertemplate": "neighbourhood=Mount Dennis<br>average_house_value=%{marker.size}<br>lat=%{lat}<br>lon=%{lon}<extra></extra>",
         "lat": [
          43.68814409
         ],
         "legendgroup": "Mount Dennis",
         "lon": [
          -79.49998906
         ],
         "marker": {
          "color": "#636efa",
          "size": [
           262308.75
          ],
          "sizemode": "area",
          "sizeref": 3816.214375
         },
         "mode": "markers",
         "name": "Mount Dennis",
         "showlegend": true,
         "subplot": "mapbox",
         "type": "scattermapbox"
        },
        {
         "hovertemplate": "neighbourhood=Mount Olive-Silverstone-Jamestown<br>average_house_value=%{marker.size}<br>lat=%{lat}<br>lon=%{lon}<extra></extra>",
         "lat": [
          43.7468678
         ],
         "legendgroup": "Mount Olive-Silverstone-Jamestown",
         "lon": [
          -79.58725926
         ],
         "marker": {
          "color": "#EF553B",
          "size": [
           253182.25
          ],
          "sizemode": "area",
          "sizeref": 3816.214375
         },
         "mode": "markers",
         "name": "Mount Olive-Silverstone-Jamestown",
         "showlegend": true,
         "subplot": "mapbox",
         "type": "scattermapbox"
        },
        {
         "hovertemplate": "neighbourhood=Mount Pleasant East<br>average_house_value=%{marker.size}<br>lat=%{lat}<br>lon=%{lon}<extra></extra>",
         "lat": [
          43.70485217
         ],
         "legendgroup": "Mount Pleasant East",
         "lon": [
          -79.38492395
         ],
         "marker": {
          "color": "#00cc96",
          "size": [
           677370.25
          ],
          "sizemode": "area",
          "sizeref": 3816.214375
         },
         "mode": "markers",
         "name": "Mount Pleasant East",
         "showlegend": true,
         "subplot": "mapbox",
         "type": "scattermapbox"
        },
        {
         "hovertemplate": "neighbourhood=Mount Pleasant West<br>average_house_value=%{marker.size}<br>lat=%{lat}<br>lon=%{lon}<extra></extra>",
         "lat": [
          43.70443517
         ],
         "legendgroup": "Mount Pleasant West",
         "lon": [
          -79.39335955
         ],
         "marker": {
          "color": "#ab63fa",
          "size": [
           468181.75
          ],
          "sizemode": "area",
          "sizeref": 3816.214375
         },
         "mode": "markers",
         "name": "Mount Pleasant West",
         "showlegend": true,
         "subplot": "mapbox",
         "type": "scattermapbox"
        },
        {
         "hovertemplate": "neighbourhood=New Toronto<br>average_house_value=%{marker.size}<br>lat=%{lat}<br>lon=%{lon}<extra></extra>",
         "lat": [
          43.6005886
         ],
         "legendgroup": "New Toronto",
         "lon": [
          -79.51035809
         ],
         "marker": {
          "color": "#FFA15A",
          "size": [
           407812
          ],
          "sizemode": "area",
          "sizeref": 3816.214375
         },
         "mode": "markers",
         "name": "New Toronto",
         "showlegend": true,
         "subplot": "mapbox",
         "type": "scattermapbox"
        },
        {
         "hovertemplate": "neighbourhood=Newtonbrook East<br>average_house_value=%{marker.size}<br>lat=%{lat}<br>lon=%{lon}<extra></extra>",
         "lat": [
          43.79153579
         ],
         "legendgroup": "Newtonbrook East",
         "lon": [
          -79.40593745
         ],
         "marker": {
          "color": "#19d3f3",
          "size": [
           559573.25
          ],
          "sizemode": "area",
          "sizeref": 3816.214375
         },
         "mode": "markers",
         "name": "Newtonbrook East",
         "showlegend": true,
         "subplot": "mapbox",
         "type": "scattermapbox"
        },
        {
         "hovertemplate": "neighbourhood=Newtonbrook West<br>average_house_value=%{marker.size}<br>lat=%{lat}<br>lon=%{lon}<extra></extra>",
         "lat": [
          43.78582994
         ],
         "legendgroup": "Newtonbrook West",
         "lon": [
          -79.43142151
         ],
         "marker": {
          "color": "#FF6692",
          "size": [
           460568.5
          ],
          "sizemode": "area",
          "sizeref": 3816.214375
         },
         "mode": "markers",
         "name": "Newtonbrook West",
         "showlegend": true,
         "subplot": "mapbox",
         "type": "scattermapbox"
        },
        {
         "hovertemplate": "neighbourhood=Niagara<br>average_house_value=%{marker.size}<br>lat=%{lat}<br>lon=%{lon}<extra></extra>",
         "lat": [
          43.63668088
         ],
         "legendgroup": "Niagara",
         "lon": [
          -79.4124204
         ],
         "marker": {
          "color": "#B6E880",
          "size": [
           369993
          ],
          "sizemode": "area",
          "sizeref": 3816.214375
         },
         "mode": "markers",
         "name": "Niagara",
         "showlegend": true,
         "subplot": "mapbox",
         "type": "scattermapbox"
        },
        {
         "hovertemplate": "neighbourhood=North Riverdale<br>average_house_value=%{marker.size}<br>lat=%{lat}<br>lon=%{lon}<extra></extra>",
         "lat": [
          43.67199515
         ],
         "legendgroup": "North Riverdale",
         "lon": [
          -79.35126041
         ],
         "marker": {
          "color": "#FF97FF",
          "size": [
           703063.25
          ],
          "sizemode": "area",
          "sizeref": 3816.214375
         },
         "mode": "markers",
         "name": "North Riverdale",
         "showlegend": true,
         "subplot": "mapbox",
         "type": "scattermapbox"
        },
        {
         "hovertemplate": "neighbourhood=North St.James Town<br>average_house_value=%{marker.size}<br>lat=%{lat}<br>lon=%{lon}<extra></extra>",
         "lat": [
          43.66962341
         ],
         "legendgroup": "North St.James Town",
         "lon": [
          -79.37524658
         ],
         "marker": {
          "color": "#FECB52",
          "size": [
           411455.75
          ],
          "sizemode": "area",
          "sizeref": 3816.214375
         },
         "mode": "markers",
         "name": "North St.James Town",
         "showlegend": true,
         "subplot": "mapbox",
         "type": "scattermapbox"
        },
        {
         "hovertemplate": "neighbourhood=O'Connor-Parkview<br>average_house_value=%{marker.size}<br>lat=%{lat}<br>lon=%{lon}<extra></extra>",
         "lat": [
          43.70680049
         ],
         "legendgroup": "O'Connor-Parkview",
         "lon": [
          -79.31222777
         ],
         "marker": {
          "color": "#636efa",
          "size": [
           298315.75
          ],
          "sizemode": "area",
          "sizeref": 3816.214375
         },
         "mode": "markers",
         "name": "O'Connor-Parkview",
         "showlegend": true,
         "subplot": "mapbox",
         "type": "scattermapbox"
        },
        {
         "hovertemplate": "neighbourhood=Oakridge<br>average_house_value=%{marker.size}<br>lat=%{lat}<br>lon=%{lon}<extra></extra>",
         "lat": [
          43.69740813
         ],
         "legendgroup": "Oakridge",
         "lon": [
          -79.27970834
         ],
         "marker": {
          "color": "#EF553B",
          "size": [
           422257.5
          ],
          "sizemode": "area",
          "sizeref": 3816.214375
         },
         "mode": "markers",
         "name": "Oakridge",
         "showlegend": true,
         "subplot": "mapbox",
         "type": "scattermapbox"
        },
        {
         "hovertemplate": "neighbourhood=Oakwood Village<br>average_house_value=%{marker.size}<br>lat=%{lat}<br>lon=%{lon}<extra></extra>",
         "lat": [
          43.68856556
         ],
         "legendgroup": "Oakwood Village",
         "lon": [
          -79.43978548
         ],
         "marker": {
          "color": "#00cc96",
          "size": [
           441202.75
          ],
          "sizemode": "area",
          "sizeref": 3816.214375
         },
         "mode": "markers",
         "name": "Oakwood Village",
         "showlegend": true,
         "subplot": "mapbox",
         "type": "scattermapbox"
        },
        {
         "hovertemplate": "neighbourhood=Old East York<br>average_house_value=%{marker.size}<br>lat=%{lat}<br>lon=%{lon}<extra></extra>",
         "lat": [
          43.69678127
         ],
         "legendgroup": "Old East York",
         "lon": [
          -79.33548836
         ],
         "marker": {
          "color": "#ab63fa",
          "size": [
           443413.5
          ],
          "sizemode": "area",
          "sizeref": 3816.214375
         },
         "mode": "markers",
         "name": "Old East York",
         "showlegend": true,
         "subplot": "mapbox",
         "type": "scattermapbox"
        },
        {
         "hovertemplate": "neighbourhood=Palmerston-Little Italy<br>average_house_value=%{marker.size}<br>lat=%{lat}<br>lon=%{lon}<extra></extra>",
         "lat": [
          43.6591571
         ],
         "legendgroup": "Palmerston-Little Italy",
         "lon": [
          -79.41840873
         ],
         "marker": {
          "color": "#FFA15A",
          "size": [
           622191.75
          ],
          "sizemode": "area",
          "sizeref": 3816.214375
         },
         "mode": "markers",
         "name": "Palmerston-Little Italy",
         "showlegend": true,
         "subplot": "mapbox",
         "type": "scattermapbox"
        },
        {
         "hovertemplate": "neighbourhood=Parkwoods-Donalda<br>average_house_value=%{marker.size}<br>lat=%{lat}<br>lon=%{lon}<extra></extra>",
         "lat": [
          43.75503347
         ],
         "legendgroup": "Parkwoods-Donalda",
         "lon": [
          -79.33017952
         ],
         "marker": {
          "color": "#19d3f3",
          "size": [
           454652.5
          ],
          "sizemode": "area",
          "sizeref": 3816.214375
         },
         "mode": "markers",
         "name": "Parkwoods-Donalda",
         "showlegend": true,
         "subplot": "mapbox",
         "type": "scattermapbox"
        },
        {
         "hovertemplate": "neighbourhood=Pelmo Park-Humberlea<br>average_house_value=%{marker.size}<br>lat=%{lat}<br>lon=%{lon}<extra></extra>",
         "lat": [
          43.7175146
         ],
         "legendgroup": "Pelmo Park-Humberlea",
         "lon": [
          -79.5282822
         ],
         "marker": {
          "color": "#FF6692",
          "size": [
           405431.25
          ],
          "sizemode": "area",
          "sizeref": 3816.214375
         },
         "mode": "markers",
         "name": "Pelmo Park-Humberlea",
         "showlegend": true,
         "subplot": "mapbox",
         "type": "scattermapbox"
        },
        {
         "hovertemplate": "neighbourhood=Playter Estates-Danforth<br>average_house_value=%{marker.size}<br>lat=%{lat}<br>lon=%{lon}<extra></extra>",
         "lat": [
          43.67970047
         ],
         "legendgroup": "Playter Estates-Danforth",
         "lon": [
          -79.35488729
         ],
         "marker": {
          "color": "#B6E880",
          "size": [
           648859.25
          ],
          "sizemode": "area",
          "sizeref": 3816.214375
         },
         "mode": "markers",
         "name": "Playter Estates-Danforth",
         "showlegend": true,
         "subplot": "mapbox",
         "type": "scattermapbox"
        },
        {
         "hovertemplate": "neighbourhood=Pleasant View<br>average_house_value=%{marker.size}<br>lat=%{lat}<br>lon=%{lon}<extra></extra>",
         "lat": [
          43.78698176
         ],
         "legendgroup": "Pleasant View",
         "lon": [
          -79.33494843
         ],
         "marker": {
          "color": "#FF97FF",
          "size": [
           373375.25
          ],
          "sizemode": "area",
          "sizeref": 3816.214375
         },
         "mode": "markers",
         "name": "Pleasant View",
         "showlegend": true,
         "subplot": "mapbox",
         "type": "scattermapbox"
        },
        {
         "hovertemplate": "neighbourhood=Princess-Rosethorn<br>average_house_value=%{marker.size}<br>lat=%{lat}<br>lon=%{lon}<extra></extra>",
         "lat": [
          43.6660506
         ],
         "legendgroup": "Princess-Rosethorn",
         "lon": [
          -79.54455929
         ],
         "marker": {
          "color": "#FECB52",
          "size": [
           765746.5
          ],
          "sizemode": "area",
          "sizeref": 3816.214375
         },
         "mode": "markers",
         "name": "Princess-Rosethorn",
         "showlegend": true,
         "subplot": "mapbox",
         "type": "scattermapbox"
        },
        {
         "hovertemplate": "neighbourhood=Regent Park<br>average_house_value=%{marker.size}<br>lat=%{lat}<br>lon=%{lon}<extra></extra>",
         "lat": [
          43.65999214
         ],
         "legendgroup": "Regent Park",
         "lon": [
          -79.36050881
         ],
         "marker": {
          "color": "#636efa",
          "size": [
           392578.25
          ],
          "sizemode": "area",
          "sizeref": 3816.214375
         },
         "mode": "markers",
         "name": "Regent Park",
         "showlegend": true,
         "subplot": "mapbox",
         "type": "scattermapbox"
        },
        {
         "hovertemplate": "neighbourhood=Rexdale-Kipling<br>average_house_value=%{marker.size}<br>lat=%{lat}<br>lon=%{lon}<extra></extra>",
         "lat": [
          43.72372548
         ],
         "legendgroup": "Rexdale-Kipling",
         "lon": [
          -79.56622841
         ],
         "marker": {
          "color": "#EF553B",
          "size": [
           360999.25
          ],
          "sizemode": "area",
          "sizeref": 3816.214375
         },
         "mode": "markers",
         "name": "Rexdale-Kipling",
         "showlegend": true,
         "subplot": "mapbox",
         "type": "scattermapbox"
        },
        {
         "hovertemplate": "neighbourhood=Rockcliffe-Smythe<br>average_house_value=%{marker.size}<br>lat=%{lat}<br>lon=%{lon}<extra></extra>",
         "lat": [
          43.67479045
         ],
         "legendgroup": "Rockcliffe-Smythe",
         "lon": [
          -79.49442045
         ],
         "marker": {
          "color": "#00cc96",
          "size": [
           345660.25
          ],
          "sizemode": "area",
          "sizeref": 3816.214375
         },
         "mode": "markers",
         "name": "Rockcliffe-Smythe",
         "showlegend": true,
         "subplot": "mapbox",
         "type": "scattermapbox"
        },
        {
         "hovertemplate": "neighbourhood=Roncesvalles<br>average_house_value=%{marker.size}<br>lat=%{lat}<br>lon=%{lon}<extra></extra>",
         "lat": [
          43.64612299
         ],
         "legendgroup": "Roncesvalles",
         "lon": [
          -79.44299245
         ],
         "marker": {
          "color": "#ab63fa",
          "size": [
           508937.25
          ],
          "sizemode": "area",
          "sizeref": 3816.214375
         },
         "mode": "markers",
         "name": "Roncesvalles",
         "showlegend": true,
         "subplot": "mapbox",
         "type": "scattermapbox"
        },
        {
         "hovertemplate": "neighbourhood=Rosedale-Moore Park<br>average_house_value=%{marker.size}<br>lat=%{lat}<br>lon=%{lon}<extra></extra>",
         "lat": [
          43.68282043
         ],
         "legendgroup": "Rosedale-Moore Park",
         "lon": [
          -79.3796694
         ],
         "marker": {
          "color": "#FFA15A",
          "size": [
           1093640
          ],
          "sizemode": "area",
          "sizeref": 3816.214375
         },
         "mode": "markers",
         "name": "Rosedale-Moore Park",
         "showlegend": true,
         "subplot": "mapbox",
         "type": "scattermapbox"
        },
        {
         "hovertemplate": "neighbourhood=Rouge<br>average_house_value=%{marker.size}<br>lat=%{lat}<br>lon=%{lon}<extra></extra>",
         "lat": [
          43.82120126
         ],
         "legendgroup": "Rouge",
         "lon": [
          -79.18634345
         ],
         "marker": {
          "color": "#19d3f3",
          "size": [
           376286.75
          ],
          "sizemode": "area",
          "sizeref": 3816.214375
         },
         "mode": "markers",
         "name": "Rouge",
         "showlegend": true,
         "subplot": "mapbox",
         "type": "scattermapbox"
        },
        {
         "hovertemplate": "neighbourhood=Runnymede-Bloor West Village<br>average_house_value=%{marker.size}<br>lat=%{lat}<br>lon=%{lon}<extra></extra>",
         "lat": [
          43.65926882
         ],
         "legendgroup": "Runnymede-Bloor West Village",
         "lon": [
          -79.48570818
         ],
         "marker": {
          "color": "#FF6692",
          "size": [
           552082
          ],
          "sizemode": "area",
          "sizeref": 3816.214375
         },
         "mode": "markers",
         "name": "Runnymede-Bloor West Village",
         "showlegend": true,
         "subplot": "mapbox",
         "type": "scattermapbox"
        },
        {
         "hovertemplate": "neighbourhood=Rustic<br>average_house_value=%{marker.size}<br>lat=%{lat}<br>lon=%{lon}<extra></extra>",
         "lat": [
          43.71160912
         ],
         "legendgroup": "Rustic",
         "lon": [
          -79.49809147
         ],
         "marker": {
          "color": "#B6E880",
          "size": [
           431090.5
          ],
          "sizemode": "area",
          "sizeref": 3816.214375
         },
         "mode": "markers",
         "name": "Rustic",
         "showlegend": true,
         "subplot": "mapbox",
         "type": "scattermapbox"
        },
        {
         "hovertemplate": "neighbourhood=Scarborough Village<br>average_house_value=%{marker.size}<br>lat=%{lat}<br>lon=%{lon}<extra></extra>",
         "lat": [
          43.73865186
         ],
         "legendgroup": "Scarborough Village",
         "lon": [
          -79.21681262
         ],
         "marker": {
          "color": "#FF97FF",
          "size": [
           329835.75
          ],
          "sizemode": "area",
          "sizeref": 3816.214375
         },
         "mode": "markers",
         "name": "Scarborough Village",
         "showlegend": true,
         "subplot": "mapbox",
         "type": "scattermapbox"
        },
        {
         "hovertemplate": "neighbourhood=South Parkdale<br>average_house_value=%{marker.size}<br>lat=%{lat}<br>lon=%{lon}<extra></extra>",
         "lat": [
          43.63669952
         ],
         "legendgroup": "South Parkdale",
         "lon": [
          -79.43933783
         ],
         "marker": {
          "color": "#FECB52",
          "size": [
           447478.5
          ],
          "sizemode": "area",
          "sizeref": 3816.214375
         },
         "mode": "markers",
         "name": "South Parkdale",
         "showlegend": true,
         "subplot": "mapbox",
         "type": "scattermapbox"
        },
        {
         "hovertemplate": "neighbourhood=South Riverdale<br>average_house_value=%{marker.size}<br>lat=%{lat}<br>lon=%{lon}<extra></extra>",
         "lat": [
          43.64929206
         ],
         "legendgroup": "South Riverdale",
         "lon": [
          -79.33565132
         ],
         "marker": {
          "color": "#636efa",
          "size": [
           455020.5
          ],
          "sizemode": "area",
          "sizeref": 3816.214375
         },
         "mode": "markers",
         "name": "South Riverdale",
         "showlegend": true,
         "subplot": "mapbox",
         "type": "scattermapbox"
        },
        {
         "hovertemplate": "neighbourhood=St.Andrew-Windfields<br>average_house_value=%{marker.size}<br>lat=%{lat}<br>lon=%{lon}<extra></extra>",
         "lat": [
          43.75624583
         ],
         "legendgroup": "St.Andrew-Windfields",
         "lon": [
          -79.37903709
         ],
         "marker": {
          "color": "#EF553B",
          "size": [
           999107
          ],
          "sizemode": "area",
          "sizeref": 3816.214375
         },
         "mode": "markers",
         "name": "St.Andrew-Windfields",
         "showlegend": true,
         "subplot": "mapbox",
         "type": "scattermapbox"
        },
        {
         "hovertemplate": "neighbourhood=Steeles<br>average_house_value=%{marker.size}<br>lat=%{lat}<br>lon=%{lon}<extra></extra>",
         "lat": [
          43.81295883
         ],
         "legendgroup": "Steeles",
         "lon": [
          -79.32120701
         ],
         "marker": {
          "color": "#00cc96",
          "size": [
           376014.5
          ],
          "sizemode": "area",
          "sizeref": 3816.214375
         },
         "mode": "markers",
         "name": "Steeles",
         "showlegend": true,
         "subplot": "mapbox",
         "type": "scattermapbox"
        },
        {
         "hovertemplate": "neighbourhood=Stonegate-Queensway<br>average_house_value=%{marker.size}<br>lat=%{lat}<br>lon=%{lon}<extra></extra>",
         "lat": [
          43.63551813
         ],
         "legendgroup": "Stonegate-Queensway",
         "lon": [
          -79.50112821
         ],
         "marker": {
          "color": "#ab63fa",
          "size": [
           550432.25
          ],
          "sizemode": "area",
          "sizeref": 3816.214375
         },
         "mode": "markers",
         "name": "Stonegate-Queensway",
         "showlegend": true,
         "subplot": "mapbox",
         "type": "scattermapbox"
        },
        {
         "hovertemplate": "neighbourhood=Tam O'Shanter-Sullivan<br>average_house_value=%{marker.size}<br>lat=%{lat}<br>lon=%{lon}<extra></extra>",
         "lat": [
          43.78012985
         ],
         "legendgroup": "Tam O'Shanter-Sullivan",
         "lon": [
          -79.30291871
         ],
         "marker": {
          "color": "#FFA15A",
          "size": [
           353926.5
          ],
          "sizemode": "area",
          "sizeref": 3816.214375
         },
         "mode": "markers",
         "name": "Tam O'Shanter-Sullivan",
         "showlegend": true,
         "subplot": "mapbox",
         "type": "scattermapbox"
        },
        {
         "hovertemplate": "neighbourhood=Taylor-Massey<br>average_house_value=%{marker.size}<br>lat=%{lat}<br>lon=%{lon}<extra></extra>",
         "lat": [
          43.69499819
         ],
         "legendgroup": "Taylor-Massey",
         "lon": [
          -79.29590112
         ],
         "marker": {
          "color": "#19d3f3",
          "size": [
           239414
          ],
          "sizemode": "area",
          "sizeref": 3816.214375
         },
         "mode": "markers",
         "name": "Taylor-Massey",
         "showlegend": true,
         "subplot": "mapbox",
         "type": "scattermapbox"
        },
        {
         "hovertemplate": "neighbourhood=The Beaches<br>average_house_value=%{marker.size}<br>lat=%{lat}<br>lon=%{lon}<extra></extra>",
         "lat": [
          43.67104999
         ],
         "legendgroup": "The Beaches",
         "lon": [
          -79.29960129999999
         ],
         "marker": {
          "color": "#FF6692",
          "size": [
           666306
          ],
          "sizemode": "area",
          "sizeref": 3816.214375
         },
         "mode": "markers",
         "name": "The Beaches",
         "showlegend": true,
         "subplot": "mapbox",
         "type": "scattermapbox"
        },
        {
         "hovertemplate": "neighbourhood=Thistletown-Beaumond Heights<br>average_house_value=%{marker.size}<br>lat=%{lat}<br>lon=%{lon}<extra></extra>",
         "lat": [
          43.73798792
         ],
         "legendgroup": "Thistletown-Beaumond Heights",
         "lon": [
          -79.56349102
         ],
         "marker": {
          "color": "#B6E880",
          "size": [
           375864
          ],
          "sizemode": "area",
          "sizeref": 3816.214375
         },
         "mode": "markers",
         "name": "Thistletown-Beaumond Heights",
         "showlegend": true,
         "subplot": "mapbox",
         "type": "scattermapbox"
        },
        {
         "hovertemplate": "neighbourhood=Thorncliffe Park<br>average_house_value=%{marker.size}<br>lat=%{lat}<br>lon=%{lon}<extra></extra>",
         "lat": [
          43.70774921
         ],
         "legendgroup": "Thorncliffe Park",
         "lon": [
          -79.34998361
         ],
         "marker": {
          "color": "#FF97FF",
          "size": [
           255264.75
          ],
          "sizemode": "area",
          "sizeref": 3816.214375
         },
         "mode": "markers",
         "name": "Thorncliffe Park",
         "showlegend": true,
         "subplot": "mapbox",
         "type": "scattermapbox"
        },
        {
         "hovertemplate": "neighbourhood=Trinity-Bellwoods<br>average_house_value=%{marker.size}<br>lat=%{lat}<br>lon=%{lon}<extra></extra>",
         "lat": [
          43.6501763
         ],
         "legendgroup": "Trinity-Bellwoods",
         "lon": [
          -79.41534216
         ],
         "marker": {
          "color": "#FECB52",
          "size": [
           534465.75
          ],
          "sizemode": "area",
          "sizeref": 3816.214375
         },
         "mode": "markers",
         "name": "Trinity-Bellwoods",
         "showlegend": true,
         "subplot": "mapbox",
         "type": "scattermapbox"
        },
        {
         "hovertemplate": "neighbourhood=University<br>average_house_value=%{marker.size}<br>lat=%{lat}<br>lon=%{lon}<extra></extra>",
         "lat": [
          43.6625062
         ],
         "legendgroup": "University",
         "lon": [
          -79.40117975
         ],
         "marker": {
          "color": "#636efa",
          "size": [
           618316.75
          ],
          "sizemode": "area",
          "sizeref": 3816.214375
         },
         "mode": "markers",
         "name": "University",
         "showlegend": true,
         "subplot": "mapbox",
         "type": "scattermapbox"
        },
        {
         "hovertemplate": "neighbourhood=Victoria Village<br>average_house_value=%{marker.size}<br>lat=%{lat}<br>lon=%{lon}<extra></extra>",
         "lat": [
          43.72848902
         ],
         "legendgroup": "Victoria Village",
         "lon": [
          -79.31487383
         ],
         "marker": {
          "color": "#EF553B",
          "size": [
           352133
          ],
          "sizemode": "area",
          "sizeref": 3816.214375
         },
         "mode": "markers",
         "name": "Victoria Village",
         "showlegend": true,
         "subplot": "mapbox",
         "type": "scattermapbox"
        },
        {
         "hovertemplate": "neighbourhood=Waterfront Communities-The Island<br>average_house_value=%{marker.size}<br>lat=%{lat}<br>lon=%{lon}<extra></extra>",
         "lat": [
          43.63388036
         ],
         "legendgroup": "Waterfront Communities-The Island",
         "lon": [
          -79.37720231
         ],
         "marker": {
          "color": "#00cc96",
          "size": [
           376863
          ],
          "sizemode": "area",
          "sizeref": 3816.214375
         },
         "mode": "markers",
         "name": "Waterfront Communities-The Island",
         "showlegend": true,
         "subplot": "mapbox",
         "type": "scattermapbox"
        },
        {
         "hovertemplate": "neighbourhood=West Hill<br>average_house_value=%{marker.size}<br>lat=%{lat}<br>lon=%{lon}<extra></extra>",
         "lat": [
          43.76749026
         ],
         "legendgroup": "West Hill",
         "lon": [
          -79.17667603
         ],
         "marker": {
          "color": "#ab63fa",
          "size": [
           284647.5
          ],
          "sizemode": "area",
          "sizeref": 3816.214375
         },
         "mode": "markers",
         "name": "West Hill",
         "showlegend": true,
         "subplot": "mapbox",
         "type": "scattermapbox"
        },
        {
         "hovertemplate": "neighbourhood=West Humber-Clairville<br>average_house_value=%{marker.size}<br>lat=%{lat}<br>lon=%{lon}<extra></extra>",
         "lat": [
          43.7161804
         ],
         "legendgroup": "West Humber-Clairville",
         "lon": [
          -79.59635645
         ],
         "marker": {
          "color": "#FFA15A",
          "size": [
           343254.25
          ],
          "sizemode": "area",
          "sizeref": 3816.214375
         },
         "mode": "markers",
         "name": "West Humber-Clairville",
         "showlegend": true,
         "subplot": "mapbox",
         "type": "scattermapbox"
        },
        {
         "hovertemplate": "neighbourhood=Westminster-Branson<br>average_house_value=%{marker.size}<br>lat=%{lat}<br>lon=%{lon}<extra></extra>",
         "lat": [
          43.77881322
         ],
         "legendgroup": "Westminster-Branson",
         "lon": [
          -79.45241823
         ],
         "marker": {
          "color": "#19d3f3",
          "size": [
           349320.25
          ],
          "sizemode": "area",
          "sizeref": 3816.214375
         },
         "mode": "markers",
         "name": "Westminster-Branson",
         "showlegend": true,
         "subplot": "mapbox",
         "type": "scattermapbox"
        },
        {
         "hovertemplate": "neighbourhood=Weston<br>average_house_value=%{marker.size}<br>lat=%{lat}<br>lon=%{lon}<extra></extra>",
         "lat": [
          43.70271605
         ],
         "legendgroup": "Weston",
         "lon": [
          -79.51572255
         ],
         "marker": {
          "color": "#FF6692",
          "size": [
           308007.75
          ],
          "sizemode": "area",
          "sizeref": 3816.214375
         },
         "mode": "markers",
         "name": "Weston",
         "showlegend": true,
         "subplot": "mapbox",
         "type": "scattermapbox"
        },
        {
         "hovertemplate": "neighbourhood=Weston-Pellam Park<br>average_house_value=%{marker.size}<br>lat=%{lat}<br>lon=%{lon}<extra></extra>",
         "lat": [
          43.67396204
         ],
         "legendgroup": "Weston-Pellam Park",
         "lon": [
          -79.46024391
         ],
         "marker": {
          "color": "#B6E880",
          "size": [
           351802
          ],
          "sizemode": "area",
          "sizeref": 3816.214375
         },
         "mode": "markers",
         "name": "Weston-Pellam Park",
         "showlegend": true,
         "subplot": "mapbox",
         "type": "scattermapbox"
        },
        {
         "hovertemplate": "neighbourhood=Wexford/Maryvale<br>average_house_value=%{marker.size}<br>lat=%{lat}<br>lon=%{lon}<extra></extra>",
         "lat": [
          43.74857214
         ],
         "legendgroup": "Wexford/Maryvale",
         "lon": [
          -79.29863657
         ],
         "marker": {
          "color": "#FF97FF",
          "size": [
           348319.25
          ],
          "sizemode": "area",
          "sizeref": 3816.214375
         },
         "mode": "markers",
         "name": "Wexford/Maryvale",
         "showlegend": true,
         "subplot": "mapbox",
         "type": "scattermapbox"
        },
        {
         "hovertemplate": "neighbourhood=Willowdale East<br>average_house_value=%{marker.size}<br>lat=%{lat}<br>lon=%{lon}<extra></extra>",
         "lat": [
          43.77060226
         ],
         "legendgroup": "Willowdale East",
         "lon": [
          -79.40148379
         ],
         "marker": {
          "color": "#FECB52",
          "size": [
           469045.5
          ],
          "sizemode": "area",
          "sizeref": 3816.214375
         },
         "mode": "markers",
         "name": "Willowdale East",
         "showlegend": true,
         "subplot": "mapbox",
         "type": "scattermapbox"
        },
        {
         "hovertemplate": "neighbourhood=Willowdale West<br>average_house_value=%{marker.size}<br>lat=%{lat}<br>lon=%{lon}<extra></extra>",
         "lat": [
          43.77121049
         ],
         "legendgroup": "Willowdale West",
         "lon": [
          -79.4275578
         ],
         "marker": {
          "color": "#636efa",
          "size": [
           466134.75
          ],
          "sizemode": "area",
          "sizeref": 3816.214375
         },
         "mode": "markers",
         "name": "Willowdale West",
         "showlegend": true,
         "subplot": "mapbox",
         "type": "scattermapbox"
        },
        {
         "hovertemplate": "neighbourhood=Willowridge-Martingrove-Richview<br>average_house_value=%{marker.size}<br>lat=%{lat}<br>lon=%{lon}<extra></extra>",
         "lat": [
          43.68364496
         ],
         "legendgroup": "Willowridge-Martingrove-Richview",
         "lon": [
          -79.55422105
         ],
         "marker": {
          "color": "#EF553B",
          "size": [
           464278
          ],
          "sizemode": "area",
          "sizeref": 3816.214375
         },
         "mode": "markers",
         "name": "Willowridge-Martingrove-Richview",
         "showlegend": true,
         "subplot": "mapbox",
         "type": "scattermapbox"
        },
        {
         "hovertemplate": "neighbourhood=Woburn<br>average_house_value=%{marker.size}<br>lat=%{lat}<br>lon=%{lon}<extra></extra>",
         "lat": [
          43.76674024
         ],
         "legendgroup": "Woburn",
         "lon": [
          -79.22858577
         ],
         "marker": {
          "color": "#00cc96",
          "size": [
           298505.75
          ],
          "sizemode": "area",
          "sizeref": 3816.214375
         },
         "mode": "markers",
         "name": "Woburn",
         "showlegend": true,
         "subplot": "mapbox",
         "type": "scattermapbox"
        },
        {
         "hovertemplate": "neighbourhood=Woodbine Corridor<br>average_house_value=%{marker.size}<br>lat=%{lat}<br>lon=%{lon}<extra></extra>",
         "lat": [
          43.67677292
         ],
         "legendgroup": "Woodbine Corridor",
         "lon": [
          -79.31540738
         ],
         "marker": {
          "color": "#ab63fa",
          "size": [
           445382.75
          ],
          "sizemode": "area",
          "sizeref": 3816.214375
         },
         "mode": "markers",
         "name": "Woodbine Corridor",
         "showlegend": true,
         "subplot": "mapbox",
         "type": "scattermapbox"
        },
        {
         "hovertemplate": "neighbourhood=Woodbine-Lumsden<br>average_house_value=%{marker.size}<br>lat=%{lat}<br>lon=%{lon}<extra></extra>",
         "lat": [
          43.69410674
         ],
         "legendgroup": "Woodbine-Lumsden",
         "lon": [
          -79.31116353
         ],
         "marker": {
          "color": "#FFA15A",
          "size": [
           369918.5
          ],
          "sizemode": "area",
          "sizeref": 3816.214375
         },
         "mode": "markers",
         "name": "Woodbine-Lumsden",
         "showlegend": true,
         "subplot": "mapbox",
         "type": "scattermapbox"
        },
        {
         "hovertemplate": "neighbourhood=Wychwood<br>average_house_value=%{marker.size}<br>lat=%{lat}<br>lon=%{lon}<extra></extra>",
         "lat": [
          43.67691927
         ],
         "legendgroup": "Wychwood",
         "lon": [
          -79.42551495
         ],
         "marker": {
          "color": "#19d3f3",
          "size": [
           565976.5
          ],
          "sizemode": "area",
          "sizeref": 3816.214375
         },
         "mode": "markers",
         "name": "Wychwood",
         "showlegend": true,
         "subplot": "mapbox",
         "type": "scattermapbox"
        },
        {
         "hovertemplate": "neighbourhood=Yonge-Eglinton<br>average_house_value=%{marker.size}<br>lat=%{lat}<br>lon=%{lon}<extra></extra>",
         "lat": [
          43.70468937
         ],
         "legendgroup": "Yonge-Eglinton",
         "lon": [
          -79.40359017
         ],
         "marker": {
          "color": "#FF6692",
          "size": [
           809745.75
          ],
          "sizemode": "area",
          "sizeref": 3816.214375
         },
         "mode": "markers",
         "name": "Yonge-Eglinton",
         "showlegend": true,
         "subplot": "mapbox",
         "type": "scattermapbox"
        },
        {
         "hovertemplate": "neighbourhood=Yonge-St.Clair<br>average_house_value=%{marker.size}<br>lat=%{lat}<br>lon=%{lon}<extra></extra>",
         "lat": [
          43.68785887
         ],
         "legendgroup": "Yonge-St.Clair",
         "lon": [
          -79.39787077
         ],
         "marker": {
          "color": "#B6E880",
          "size": [
           813220.25
          ],
          "sizemode": "area",
          "sizeref": 3816.214375
         },
         "mode": "markers",
         "name": "Yonge-St.Clair",
         "showlegend": true,
         "subplot": "mapbox",
         "type": "scattermapbox"
        },
        {
         "hovertemplate": "neighbourhood=York University Heights<br>average_house_value=%{marker.size}<br>lat=%{lat}<br>lon=%{lon}<extra></extra>",
         "lat": [
          43.76573649
         ],
         "legendgroup": "York University Heights",
         "lon": [
          -79.48888293
         ],
         "marker": {
          "color": "#FF97FF",
          "size": [
           305899.5
          ],
          "sizemode": "area",
          "sizeref": 3816.214375
         },
         "mode": "markers",
         "name": "York University Heights",
         "showlegend": true,
         "subplot": "mapbox",
         "type": "scattermapbox"
        },
        {
         "hovertemplate": "neighbourhood=Yorkdale-Glen Park<br>average_house_value=%{marker.size}<br>lat=%{lat}<br>lon=%{lon}<extra></extra>",
         "lat": [
          43.71467153
         ],
         "legendgroup": "Yorkdale-Glen Park",
         "lon": [
          -79.45710807
         ],
         "marker": {
          "color": "#FECB52",
          "size": [
           430861.25
          ],
          "sizemode": "area",
          "sizeref": 3816.214375
         },
         "mode": "markers",
         "name": "Yorkdale-Glen Park",
         "showlegend": true,
         "subplot": "mapbox",
         "type": "scattermapbox"
        }
       ],
       "layout": {
        "autosize": true,
        "legend": {
         "itemsizing": "constant",
         "title": {
          "text": "neighbourhood"
         },
         "tracegroupgap": 0
        },
        "mapbox": {
         "accesstoken": "pk.eyJ1IjoiaGNsYXI1MiIsImEiOiJja2k3NzA2dGwwdDhmMnhxb2N1eTYycXZjIn0.IfVMvCOLngBm1-Ompm4zHQ",
         "center": {
          "lat": 43.708840577642846,
          "lon": -79.4001855035
         },
         "domain": {
          "x": [
           0,
           1
          ],
          "y": [
           0,
           1
          ]
         },
         "zoom": 3
        },
        "margin": {
         "t": 60
        },
        "template": {
         "data": {
          "bar": [
           {
            "error_x": {
             "color": "#2a3f5f"
            },
            "error_y": {
             "color": "#2a3f5f"
            },
            "marker": {
             "line": {
              "color": "#E5ECF6",
              "width": 0.5
             }
            },
            "type": "bar"
           }
          ],
          "barpolar": [
           {
            "marker": {
             "line": {
              "color": "#E5ECF6",
              "width": 0.5
             }
            },
            "type": "barpolar"
           }
          ],
          "carpet": [
           {
            "aaxis": {
             "endlinecolor": "#2a3f5f",
             "gridcolor": "white",
             "linecolor": "white",
             "minorgridcolor": "white",
             "startlinecolor": "#2a3f5f"
            },
            "baxis": {
             "endlinecolor": "#2a3f5f",
             "gridcolor": "white",
             "linecolor": "white",
             "minorgridcolor": "white",
             "startlinecolor": "#2a3f5f"
            },
            "type": "carpet"
           }
          ],
          "choropleth": [
           {
            "colorbar": {
             "outlinewidth": 0,
             "ticks": ""
            },
            "type": "choropleth"
           }
          ],
          "contour": [
           {
            "colorbar": {
             "outlinewidth": 0,
             "ticks": ""
            },
            "colorscale": [
             [
              0,
              "#0d0887"
             ],
             [
              0.1111111111111111,
              "#46039f"
             ],
             [
              0.2222222222222222,
              "#7201a8"
             ],
             [
              0.3333333333333333,
              "#9c179e"
             ],
             [
              0.4444444444444444,
              "#bd3786"
             ],
             [
              0.5555555555555556,
              "#d8576b"
             ],
             [
              0.6666666666666666,
              "#ed7953"
             ],
             [
              0.7777777777777778,
              "#fb9f3a"
             ],
             [
              0.8888888888888888,
              "#fdca26"
             ],
             [
              1,
              "#f0f921"
             ]
            ],
            "type": "contour"
           }
          ],
          "contourcarpet": [
           {
            "colorbar": {
             "outlinewidth": 0,
             "ticks": ""
            },
            "type": "contourcarpet"
           }
          ],
          "heatmap": [
           {
            "colorbar": {
             "outlinewidth": 0,
             "ticks": ""
            },
            "colorscale": [
             [
              0,
              "#0d0887"
             ],
             [
              0.1111111111111111,
              "#46039f"
             ],
             [
              0.2222222222222222,
              "#7201a8"
             ],
             [
              0.3333333333333333,
              "#9c179e"
             ],
             [
              0.4444444444444444,
              "#bd3786"
             ],
             [
              0.5555555555555556,
              "#d8576b"
             ],
             [
              0.6666666666666666,
              "#ed7953"
             ],
             [
              0.7777777777777778,
              "#fb9f3a"
             ],
             [
              0.8888888888888888,
              "#fdca26"
             ],
             [
              1,
              "#f0f921"
             ]
            ],
            "type": "heatmap"
           }
          ],
          "heatmapgl": [
           {
            "colorbar": {
             "outlinewidth": 0,
             "ticks": ""
            },
            "colorscale": [
             [
              0,
              "#0d0887"
             ],
             [
              0.1111111111111111,
              "#46039f"
             ],
             [
              0.2222222222222222,
              "#7201a8"
             ],
             [
              0.3333333333333333,
              "#9c179e"
             ],
             [
              0.4444444444444444,
              "#bd3786"
             ],
             [
              0.5555555555555556,
              "#d8576b"
             ],
             [
              0.6666666666666666,
              "#ed7953"
             ],
             [
              0.7777777777777778,
              "#fb9f3a"
             ],
             [
              0.8888888888888888,
              "#fdca26"
             ],
             [
              1,
              "#f0f921"
             ]
            ],
            "type": "heatmapgl"
           }
          ],
          "histogram": [
           {
            "marker": {
             "colorbar": {
              "outlinewidth": 0,
              "ticks": ""
             }
            },
            "type": "histogram"
           }
          ],
          "histogram2d": [
           {
            "colorbar": {
             "outlinewidth": 0,
             "ticks": ""
            },
            "colorscale": [
             [
              0,
              "#0d0887"
             ],
             [
              0.1111111111111111,
              "#46039f"
             ],
             [
              0.2222222222222222,
              "#7201a8"
             ],
             [
              0.3333333333333333,
              "#9c179e"
             ],
             [
              0.4444444444444444,
              "#bd3786"
             ],
             [
              0.5555555555555556,
              "#d8576b"
             ],
             [
              0.6666666666666666,
              "#ed7953"
             ],
             [
              0.7777777777777778,
              "#fb9f3a"
             ],
             [
              0.8888888888888888,
              "#fdca26"
             ],
             [
              1,
              "#f0f921"
             ]
            ],
            "type": "histogram2d"
           }
          ],
          "histogram2dcontour": [
           {
            "colorbar": {
             "outlinewidth": 0,
             "ticks": ""
            },
            "colorscale": [
             [
              0,
              "#0d0887"
             ],
             [
              0.1111111111111111,
              "#46039f"
             ],
             [
              0.2222222222222222,
              "#7201a8"
             ],
             [
              0.3333333333333333,
              "#9c179e"
             ],
             [
              0.4444444444444444,
              "#bd3786"
             ],
             [
              0.5555555555555556,
              "#d8576b"
             ],
             [
              0.6666666666666666,
              "#ed7953"
             ],
             [
              0.7777777777777778,
              "#fb9f3a"
             ],
             [
              0.8888888888888888,
              "#fdca26"
             ],
             [
              1,
              "#f0f921"
             ]
            ],
            "type": "histogram2dcontour"
           }
          ],
          "mesh3d": [
           {
            "colorbar": {
             "outlinewidth": 0,
             "ticks": ""
            },
            "type": "mesh3d"
           }
          ],
          "parcoords": [
           {
            "line": {
             "colorbar": {
              "outlinewidth": 0,
              "ticks": ""
             }
            },
            "type": "parcoords"
           }
          ],
          "pie": [
           {
            "automargin": true,
            "type": "pie"
           }
          ],
          "scatter": [
           {
            "marker": {
             "colorbar": {
              "outlinewidth": 0,
              "ticks": ""
             }
            },
            "type": "scatter"
           }
          ],
          "scatter3d": [
           {
            "line": {
             "colorbar": {
              "outlinewidth": 0,
              "ticks": ""
             }
            },
            "marker": {
             "colorbar": {
              "outlinewidth": 0,
              "ticks": ""
             }
            },
            "type": "scatter3d"
           }
          ],
          "scattercarpet": [
           {
            "marker": {
             "colorbar": {
              "outlinewidth": 0,
              "ticks": ""
             }
            },
            "type": "scattercarpet"
           }
          ],
          "scattergeo": [
           {
            "marker": {
             "colorbar": {
              "outlinewidth": 0,
              "ticks": ""
             }
            },
            "type": "scattergeo"
           }
          ],
          "scattergl": [
           {
            "marker": {
             "colorbar": {
              "outlinewidth": 0,
              "ticks": ""
             }
            },
            "type": "scattergl"
           }
          ],
          "scattermapbox": [
           {
            "marker": {
             "colorbar": {
              "outlinewidth": 0,
              "ticks": ""
             }
            },
            "type": "scattermapbox"
           }
          ],
          "scatterpolar": [
           {
            "marker": {
             "colorbar": {
              "outlinewidth": 0,
              "ticks": ""
             }
            },
            "type": "scatterpolar"
           }
          ],
          "scatterpolargl": [
           {
            "marker": {
             "colorbar": {
              "outlinewidth": 0,
              "ticks": ""
             }
            },
            "type": "scatterpolargl"
           }
          ],
          "scatterternary": [
           {
            "marker": {
             "colorbar": {
              "outlinewidth": 0,
              "ticks": ""
             }
            },
            "type": "scatterternary"
           }
          ],
          "surface": [
           {
            "colorbar": {
             "outlinewidth": 0,
             "ticks": ""
            },
            "colorscale": [
             [
              0,
              "#0d0887"
             ],
             [
              0.1111111111111111,
              "#46039f"
             ],
             [
              0.2222222222222222,
              "#7201a8"
             ],
             [
              0.3333333333333333,
              "#9c179e"
             ],
             [
              0.4444444444444444,
              "#bd3786"
             ],
             [
              0.5555555555555556,
              "#d8576b"
             ],
             [
              0.6666666666666666,
              "#ed7953"
             ],
             [
              0.7777777777777778,
              "#fb9f3a"
             ],
             [
              0.8888888888888888,
              "#fdca26"
             ],
             [
              1,
              "#f0f921"
             ]
            ],
            "type": "surface"
           }
          ],
          "table": [
           {
            "cells": {
             "fill": {
              "color": "#EBF0F8"
             },
             "line": {
              "color": "white"
             }
            },
            "header": {
             "fill": {
              "color": "#C8D4E3"
             },
             "line": {
              "color": "white"
             }
            },
            "type": "table"
           }
          ]
         },
         "layout": {
          "annotationdefaults": {
           "arrowcolor": "#2a3f5f",
           "arrowhead": 0,
           "arrowwidth": 1
          },
          "autotypenumbers": "strict",
          "coloraxis": {
           "colorbar": {
            "outlinewidth": 0,
            "ticks": ""
           }
          },
          "colorscale": {
           "diverging": [
            [
             0,
             "#8e0152"
            ],
            [
             0.1,
             "#c51b7d"
            ],
            [
             0.2,
             "#de77ae"
            ],
            [
             0.3,
             "#f1b6da"
            ],
            [
             0.4,
             "#fde0ef"
            ],
            [
             0.5,
             "#f7f7f7"
            ],
            [
             0.6,
             "#e6f5d0"
            ],
            [
             0.7,
             "#b8e186"
            ],
            [
             0.8,
             "#7fbc41"
            ],
            [
             0.9,
             "#4d9221"
            ],
            [
             1,
             "#276419"
            ]
           ],
           "sequential": [
            [
             0,
             "#0d0887"
            ],
            [
             0.1111111111111111,
             "#46039f"
            ],
            [
             0.2222222222222222,
             "#7201a8"
            ],
            [
             0.3333333333333333,
             "#9c179e"
            ],
            [
             0.4444444444444444,
             "#bd3786"
            ],
            [
             0.5555555555555556,
             "#d8576b"
            ],
            [
             0.6666666666666666,
             "#ed7953"
            ],
            [
             0.7777777777777778,
             "#fb9f3a"
            ],
            [
             0.8888888888888888,
             "#fdca26"
            ],
            [
             1,
             "#f0f921"
            ]
           ],
           "sequentialminus": [
            [
             0,
             "#0d0887"
            ],
            [
             0.1111111111111111,
             "#46039f"
            ],
            [
             0.2222222222222222,
             "#7201a8"
            ],
            [
             0.3333333333333333,
             "#9c179e"
            ],
            [
             0.4444444444444444,
             "#bd3786"
            ],
            [
             0.5555555555555556,
             "#d8576b"
            ],
            [
             0.6666666666666666,
             "#ed7953"
            ],
            [
             0.7777777777777778,
             "#fb9f3a"
            ],
            [
             0.8888888888888888,
             "#fdca26"
            ],
            [
             1,
             "#f0f921"
            ]
           ]
          },
          "colorway": [
           "#636efa",
           "#EF553B",
           "#00cc96",
           "#ab63fa",
           "#FFA15A",
           "#19d3f3",
           "#FF6692",
           "#B6E880",
           "#FF97FF",
           "#FECB52"
          ],
          "font": {
           "color": "#2a3f5f"
          },
          "geo": {
           "bgcolor": "white",
           "lakecolor": "white",
           "landcolor": "#E5ECF6",
           "showlakes": true,
           "showland": true,
           "subunitcolor": "white"
          },
          "hoverlabel": {
           "align": "left"
          },
          "hovermode": "closest",
          "mapbox": {
           "style": "light"
          },
          "paper_bgcolor": "white",
          "plot_bgcolor": "#E5ECF6",
          "polar": {
           "angularaxis": {
            "gridcolor": "white",
            "linecolor": "white",
            "ticks": ""
           },
           "bgcolor": "#E5ECF6",
           "radialaxis": {
            "gridcolor": "white",
            "linecolor": "white",
            "ticks": ""
           }
          },
          "scene": {
           "xaxis": {
            "backgroundcolor": "#E5ECF6",
            "gridcolor": "white",
            "gridwidth": 2,
            "linecolor": "white",
            "showbackground": true,
            "ticks": "",
            "zerolinecolor": "white"
           },
           "yaxis": {
            "backgroundcolor": "#E5ECF6",
            "gridcolor": "white",
            "gridwidth": 2,
            "linecolor": "white",
            "showbackground": true,
            "ticks": "",
            "zerolinecolor": "white"
           },
           "zaxis": {
            "backgroundcolor": "#E5ECF6",
            "gridcolor": "white",
            "gridwidth": 2,
            "linecolor": "white",
            "showbackground": true,
            "ticks": "",
            "zerolinecolor": "white"
           }
          },
          "shapedefaults": {
           "line": {
            "color": "#2a3f5f"
           }
          },
          "ternary": {
           "aaxis": {
            "gridcolor": "white",
            "linecolor": "white",
            "ticks": ""
           },
           "baxis": {
            "gridcolor": "white",
            "linecolor": "white",
            "ticks": ""
           },
           "bgcolor": "#E5ECF6",
           "caxis": {
            "gridcolor": "white",
            "linecolor": "white",
            "ticks": ""
           }
          },
          "title": {
           "x": 0.05
          },
          "xaxis": {
           "automargin": true,
           "gridcolor": "white",
           "linecolor": "white",
           "ticks": "",
           "title": {
            "standoff": 15
           },
           "zerolinecolor": "white",
           "zerolinewidth": 2
          },
          "yaxis": {
           "automargin": true,
           "gridcolor": "white",
           "linecolor": "white",
           "ticks": "",
           "title": {
            "standoff": 15
           },
           "zerolinecolor": "white",
           "zerolinewidth": 2
          }
         }
        }
       }
      },
      "image/png": "[encoded data removed]",
      "text/html": [
       "<div>                            <div id=\"f2087587-0509-426d-a507-745c88328d42\" class=\"plotly-graph-div\" style=\"height:525px; width:1000px;\"></div>            <script type=\"text/javascript\">                require([\"plotly\"], function(Plotly) {                    window.PLOTLYENV=window.PLOTLYENV || {};                                    if (document.getElementById(\"f2087587-0509-426d-a507-745c88328d42\")) {                    Plotly.newPlot(                        \"f2087587-0509-426d-a507-745c88328d42\",                        [{\"hovertemplate\": \"neighbourhood=Agincourt North<br>average_house_value=%{marker.size}<br>lat=%{lat}<br>lon=%{lon}<extra></extra>\", \"lat\": [43.80544058], \"legendgroup\": \"Agincourt North\", \"lon\": [-79.26671217], \"marker\": {\"color\": \"#636efa\", \"size\": [329811.5], \"sizemode\": \"area\", \"sizeref\": 3816.214375}, \"mode\": \"markers\", \"name\": \"Agincourt North\", \"showlegend\": true, \"subplot\": \"mapbox\", \"type\": \"scattermapbox\"}, {\"hovertemplate\": \"neighbourhood=Agincourt South-Malvern West<br>average_house_value=%{marker.size}<br>lat=%{lat}<br>lon=%{lon}<extra></extra>\", \"lat\": [43.78865755], \"legendgroup\": \"Agincourt South-Malvern West\", \"lon\": [-79.2656118], \"marker\": {\"color\": \"#EF553B\", \"size\": [334189.0], \"sizemode\": \"area\", \"sizeref\": 3816.214375}, \"mode\": \"markers\", \"name\": \"Agincourt South-Malvern West\", \"showlegend\": true, \"subplot\": \"mapbox\", \"type\": \"scattermapbox\"}, {\"hovertemplate\": \"neighbourhood=Alderwood<br>average_house_value=%{marker.size}<br>lat=%{lat}<br>lon=%{lon}<extra></extra>\", \"lat\": [43.6049369], \"legendgroup\": \"Alderwood\", \"lon\": [-79.54161093], \"marker\": {\"color\": \"#00cc96\", \"size\": [427922.5], \"sizemode\": \"area\", \"sizeref\": 3816.214375}, \"mode\": \"markers\", \"name\": \"Alderwood\", \"showlegend\": true, \"subplot\": \"mapbox\", \"type\": \"scattermapbox\"}, {\"hovertemplate\": \"neighbourhood=Annex<br>average_house_value=%{marker.size}<br>lat=%{lat}<br>lon=%{lon}<extra></extra>\", \"lat\": [43.67158544], \"legendgroup\": \"Annex\", \"lon\": [-79.40400062], \"marker\": {\"color\": \"#ab63fa\", \"size\": [746977.0], \"sizemode\": \"area\", \"sizeref\": 3816.214375}, \"mode\": \"markers\", \"name\": \"Annex\", \"showlegend\": true, \"subplot\": \"mapbox\", \"type\": \"scattermapbox\"}, {\"hovertemplate\": \"neighbourhood=Banbury-Don Mills<br>average_house_value=%{marker.size}<br>lat=%{lat}<br>lon=%{lon}<extra></extra>\", \"lat\": [43.737657], \"legendgroup\": \"Banbury-Don Mills\", \"lon\": [-79.34971798], \"marker\": {\"color\": \"#FFA15A\", \"size\": [612039.0], \"sizemode\": \"area\", \"sizeref\": 3816.214375}, \"mode\": \"markers\", \"name\": \"Banbury-Don Mills\", \"showlegend\": true, \"subplot\": \"mapbox\", \"type\": \"scattermapbox\"}, {\"hovertemplate\": \"neighbourhood=Bathurst Manor<br>average_house_value=%{marker.size}<br>lat=%{lat}<br>lon=%{lon}<extra></extra>\", \"lat\": [43.76481331], \"legendgroup\": \"Bathurst Manor\", \"lon\": [-79.45605516], \"marker\": {\"color\": \"#19d3f3\", \"size\": [501576.75], \"sizemode\": \"area\", \"sizeref\": 3816.214375}, \"mode\": \"markers\", \"name\": \"Bathurst Manor\", \"showlegend\": true, \"subplot\": \"mapbox\", \"type\": \"scattermapbox\"}, {\"hovertemplate\": \"neighbourhood=Bay Street Corridor<br>average_house_value=%{marker.size}<br>lat=%{lat}<br>lon=%{lon}<extra></extra>\", \"lat\": [43.65751135], \"legendgroup\": \"Bay Street Corridor\", \"lon\": [-79.38572125], \"marker\": {\"color\": \"#FF6692\", \"size\": [423653.5], \"sizemode\": \"area\", \"sizeref\": 3816.214375}, \"mode\": \"markers\", \"name\": \"Bay Street Corridor\", \"showlegend\": true, \"subplot\": \"mapbox\", \"type\": \"scattermapbox\"}, {\"hovertemplate\": \"neighbourhood=Bayview Village<br>average_house_value=%{marker.size}<br>lat=%{lat}<br>lon=%{lon}<extra></extra>\", \"lat\": [43.77636052], \"legendgroup\": \"Bayview Village\", \"lon\": [-79.37711686], \"marker\": {\"color\": \"#B6E880\", \"size\": [539258.75], \"sizemode\": \"area\", \"sizeref\": 3816.214375}, \"mode\": \"markers\", \"name\": \"Bayview Village\", \"showlegend\": true, \"subplot\": \"mapbox\", \"type\": \"scattermapbox\"}, {\"hovertemplate\": \"neighbourhood=Bayview Woods-Steeles<br>average_house_value=%{marker.size}<br>lat=%{lat}<br>lon=%{lon}<extra></extra>\", \"lat\": [43.79680187], \"legendgroup\": \"Bayview Woods-Steeles\", \"lon\": [-79.38211795], \"marker\": {\"color\": \"#FF97FF\", \"size\": [565413.5], \"sizemode\": \"area\", \"sizeref\": 3816.214375}, \"mode\": \"markers\", \"name\": \"Bayview Woods-Steeles\", \"showlegend\": true, \"subplot\": \"mapbox\", \"type\": \"scattermapbox\"}, {\"hovertemplate\": \"neighbourhood=Bedford Park-Nortown<br>average_house_value=%{marker.size}<br>lat=%{lat}<br>lon=%{lon}<extra></extra>\", \"lat\": [43.73148623], \"legendgroup\": \"Bedford Park-Nortown\", \"lon\": [-79.42022735], \"marker\": {\"color\": \"#FECB52\", \"size\": [930415.25], \"sizemode\": \"area\", \"sizeref\": 3816.214375}, \"mode\": \"markers\", \"name\": \"Bedford Park-Nortown\", \"showlegend\": true, \"subplot\": \"mapbox\", \"type\": \"scattermapbox\"}, {\"hovertemplate\": \"neighbourhood=Beechborough-Greenbrook<br>average_house_value=%{marker.size}<br>lat=%{lat}<br>lon=%{lon}<extra></extra>\", \"lat\": [43.69321649], \"legendgroup\": \"Beechborough-Greenbrook\", \"lon\": [-79.47947251], \"marker\": {\"color\": \"#636efa\", \"size\": [370927.75], \"sizemode\": \"area\", \"sizeref\": 3816.214375}, \"mode\": \"markers\", \"name\": \"Beechborough-Greenbrook\", \"showlegend\": true, \"subplot\": \"mapbox\", \"type\": \"scattermapbox\"}, {\"hovertemplate\": \"neighbourhood=Bendale<br>average_house_value=%{marker.size}<br>lat=%{lat}<br>lon=%{lon}<extra></extra>\", \"lat\": [43.76036631], \"legendgroup\": \"Bendale\", \"lon\": [-79.25740037], \"marker\": {\"color\": \"#EF553B\", \"size\": [301123.25], \"sizemode\": \"area\", \"sizeref\": 3816.214375}, \"mode\": \"markers\", \"name\": \"Bendale\", \"showlegend\": true, \"subplot\": \"mapbox\", \"type\": \"scattermapbox\"}, {\"hovertemplate\": \"neighbourhood=Birchcliffe-Cliffside<br>average_house_value=%{marker.size}<br>lat=%{lat}<br>lon=%{lon}<extra></extra>\", \"lat\": [43.69468198], \"legendgroup\": \"Birchcliffe-Cliffside\", \"lon\": [-79.26509259], \"marker\": {\"color\": \"#00cc96\", \"size\": [437315.0], \"sizemode\": \"area\", \"sizeref\": 3816.214375}, \"mode\": \"markers\", \"name\": \"Birchcliffe-Cliffside\", \"showlegend\": true, \"subplot\": \"mapbox\", \"type\": \"scattermapbox\"}, {\"hovertemplate\": \"neighbourhood=Black Creek<br>average_house_value=%{marker.size}<br>lat=%{lat}<br>lon=%{lon}<extra></extra>\", \"lat\": [43.76489025], \"legendgroup\": \"Black Creek\", \"lon\": [-79.52197932], \"marker\": {\"color\": \"#ab63fa\", \"size\": [260841.75], \"sizemode\": \"area\", \"sizeref\": 3816.214375}, \"mode\": \"markers\", \"name\": \"Black Creek\", \"showlegend\": true, \"subplot\": \"mapbox\", \"type\": \"scattermapbox\"}, {\"hovertemplate\": \"neighbourhood=Blake-Jones<br>average_house_value=%{marker.size}<br>lat=%{lat}<br>lon=%{lon}<extra></extra>\", \"lat\": [43.67617288], \"legendgroup\": \"Blake-Jones\", \"lon\": [-79.33739417], \"marker\": {\"color\": \"#FFA15A\", \"size\": [511437.0], \"sizemode\": \"area\", \"sizeref\": 3816.214375}, \"mode\": \"markers\", \"name\": \"Blake-Jones\", \"showlegend\": true, \"subplot\": \"mapbox\", \"type\": \"scattermapbox\"}, {\"hovertemplate\": \"neighbourhood=Briar Hill-Belgravia<br>average_house_value=%{marker.size}<br>lat=%{lat}<br>lon=%{lon}<extra></extra>\", \"lat\": [43.69902438], \"legendgroup\": \"Briar Hill-Belgravia\", \"lon\": [-79.45285129999999], \"marker\": {\"color\": \"#19d3f3\", \"size\": [365524.5], \"sizemode\": \"area\", \"sizeref\": 3816.214375}, \"mode\": \"markers\", \"name\": \"Briar Hill-Belgravia\", \"showlegend\": true, \"subplot\": \"mapbox\", \"type\": \"scattermapbox\"}, {\"hovertemplate\": \"neighbourhood=Bridle Path-Sunnybrook-York Mills<br>average_house_value=%{marker.size}<br>lat=%{lat}<br>lon=%{lon}<extra></extra>\", \"lat\": [43.73101314], \"legendgroup\": \"Bridle Path-Sunnybrook-York Mills\", \"lon\": [-79.37890418], \"marker\": {\"color\": \"#FF6692\", \"size\": [1526485.75], \"sizemode\": \"area\", \"sizeref\": 3816.214375}, \"mode\": \"markers\", \"name\": \"Bridle Path-Sunnybrook-York Mills\", \"showlegend\": true, \"subplot\": \"mapbox\", \"type\": \"scattermapbox\"}, {\"hovertemplate\": \"neighbourhood=Broadview North<br>average_house_value=%{marker.size}<br>lat=%{lat}<br>lon=%{lon}<extra></extra>\", \"lat\": [43.68882512], \"legendgroup\": \"Broadview North\", \"lon\": [-79.35562951], \"marker\": {\"color\": \"#B6E880\", \"size\": [443373.25], \"sizemode\": \"area\", \"sizeref\": 3816.214375}, \"mode\": \"markers\", \"name\": \"Broadview North\", \"showlegend\": true, \"subplot\": \"mapbox\", \"type\": \"scattermapbox\"}, {\"hovertemplate\": \"neighbourhood=Brookhaven-Amesbury<br>average_house_value=%{marker.size}<br>lat=%{lat}<br>lon=%{lon}<extra></extra>\", \"lat\": [43.70132631], \"legendgroup\": \"Brookhaven-Amesbury\", \"lon\": [-79.48558926], \"marker\": {\"color\": \"#FF97FF\", \"size\": [350943.0], \"sizemode\": \"area\", \"sizeref\": 3816.214375}, \"mode\": \"markers\", \"name\": \"Brookhaven-Amesbury\", \"showlegend\": true, \"subplot\": \"mapbox\", \"type\": \"scattermapbox\"}, {\"hovertemplate\": \"neighbourhood=Cabbagetown-South St.James Town<br>average_house_value=%{marker.size}<br>lat=%{lat}<br>lon=%{lon}<extra></extra>\", \"lat\": [43.66764773], \"legendgroup\": \"Cabbagetown-South St.James Town\", \"lon\": [-79.36610666], \"marker\": {\"color\": \"#FECB52\", \"size\": [494110.5], \"sizemode\": \"area\", \"sizeref\": 3816.214375}, \"mode\": \"markers\", \"name\": \"Cabbagetown-South St.James Town\", \"showlegend\": true, \"subplot\": \"mapbox\", \"type\": \"scattermapbox\"}, {\"hovertemplate\": \"neighbourhood=Caledonia-Fairbank<br>average_house_value=%{marker.size}<br>lat=%{lat}<br>lon=%{lon}<extra></extra>\", \"lat\": [43.68856865], \"legendgroup\": \"Caledonia-Fairbank\", \"lon\": [-79.45521208], \"marker\": {\"color\": \"#636efa\", \"size\": [361714.25], \"sizemode\": \"area\", \"sizeref\": 3816.214375}, \"mode\": \"markers\", \"name\": \"Caledonia-Fairbank\", \"showlegend\": true, \"subplot\": \"mapbox\", \"type\": \"scattermapbox\"}, {\"hovertemplate\": \"neighbourhood=Casa Loma<br>average_house_value=%{marker.size}<br>lat=%{lat}<br>lon=%{lon}<extra></extra>\", \"lat\": [43.6818521], \"legendgroup\": \"Casa Loma\", \"lon\": [-79.40800665], \"marker\": {\"color\": \"#EF553B\", \"size\": [981064.25], \"sizemode\": \"area\", \"sizeref\": 3816.214375}, \"mode\": \"markers\", \"name\": \"Casa Loma\", \"showlegend\": true, \"subplot\": \"mapbox\", \"type\": \"scattermapbox\"}, {\"hovertemplate\": \"neighbourhood=Centennial Scarborough<br>average_house_value=%{marker.size}<br>lat=%{lat}<br>lon=%{lon}<extra></extra>\", \"lat\": [43.7823765], \"legendgroup\": \"Centennial Scarborough\", \"lon\": [-79.15084327], \"marker\": {\"color\": \"#00cc96\", \"size\": [409862.75], \"sizemode\": \"area\", \"sizeref\": 3816.214375}, \"mode\": \"markers\", \"name\": \"Centennial Scarborough\", \"showlegend\": true, \"subplot\": \"mapbox\", \"type\": \"scattermapbox\"}, {\"hovertemplate\": \"neighbourhood=Church-Yonge Corridor<br>average_house_value=%{marker.size}<br>lat=%{lat}<br>lon=%{lon}<extra></extra>\", \"lat\": [43.65964886], \"legendgroup\": \"Church-Yonge Corridor\", \"lon\": [-79.37901717], \"marker\": {\"color\": \"#ab63fa\", \"size\": [406117.5], \"sizemode\": \"area\", \"sizeref\": 3816.214375}, \"mode\": \"markers\", \"name\": \"Church-Yonge Corridor\", \"showlegend\": true, \"subplot\": \"mapbox\", \"type\": \"scattermapbox\"}, {\"hovertemplate\": \"neighbourhood=Clairlea-Birchmount<br>average_house_value=%{marker.size}<br>lat=%{lat}<br>lon=%{lon}<extra></extra>\", \"lat\": [43.71359238], \"legendgroup\": \"Clairlea-Birchmount\", \"lon\": [-79.28138178], \"marker\": {\"color\": \"#FFA15A\", \"size\": [354555.25], \"sizemode\": \"area\", \"sizeref\": 3816.214375}, \"mode\": \"markers\", \"name\": \"Clairlea-Birchmount\", \"showlegend\": true, \"subplot\": \"mapbox\", \"type\": \"scattermapbox\"}, {\"hovertemplate\": \"neighbourhood=Clanton Park<br>average_house_value=%{marker.size}<br>lat=%{lat}<br>lon=%{lon}<extra></extra>\", \"lat\": [43.74197843], \"legendgroup\": \"Clanton Park\", \"lon\": [-79.44630258], \"marker\": {\"color\": \"#19d3f3\", \"size\": [551561.25], \"sizemode\": \"area\", \"sizeref\": 3816.214375}, \"mode\": \"markers\", \"name\": \"Clanton Park\", \"showlegend\": true, \"subplot\": \"mapbox\", \"type\": \"scattermapbox\"}, {\"hovertemplate\": \"neighbourhood=Cliffcrest<br>average_house_value=%{marker.size}<br>lat=%{lat}<br>lon=%{lon}<extra></extra>\", \"lat\": [43.72112117], \"legendgroup\": \"Cliffcrest\", \"lon\": [-79.23552957], \"marker\": {\"color\": \"#FF6692\", \"size\": [417422.0], \"sizemode\": \"area\", \"sizeref\": 3816.214375}, \"mode\": \"markers\", \"name\": \"Cliffcrest\", \"showlegend\": true, \"subplot\": \"mapbox\", \"type\": \"scattermapbox\"}, {\"hovertemplate\": \"neighbourhood=Corso Italia-Davenport<br>average_house_value=%{marker.size}<br>lat=%{lat}<br>lon=%{lon}<extra></extra>\", \"lat\": [43.67766091], \"legendgroup\": \"Corso Italia-Davenport\", \"lon\": [-79.44746933], \"marker\": {\"color\": \"#B6E880\", \"size\": [419930.5], \"sizemode\": \"area\", \"sizeref\": 3816.214375}, \"mode\": \"markers\", \"name\": \"Corso Italia-Davenport\", \"showlegend\": true, \"subplot\": \"mapbox\", \"type\": \"scattermapbox\"}, {\"hovertemplate\": \"neighbourhood=Danforth<br>average_house_value=%{marker.size}<br>lat=%{lat}<br>lon=%{lon}<extra></extra>\", \"lat\": [43.68402547], \"legendgroup\": \"Danforth\", \"lon\": [-79.32981941], \"marker\": {\"color\": \"#FF97FF\", \"size\": [466943.0], \"sizemode\": \"area\", \"sizeref\": 3816.214375}, \"mode\": \"markers\", \"name\": \"Danforth\", \"showlegend\": true, \"subplot\": \"mapbox\", \"type\": \"scattermapbox\"}, {\"hovertemplate\": \"neighbourhood=Danforth-East York<br>average_house_value=%{marker.size}<br>lat=%{lat}<br>lon=%{lon}<extra></extra>\", \"lat\": [43.68946809], \"legendgroup\": \"Danforth-East York\", \"lon\": [-79.33140338], \"marker\": {\"color\": \"#FECB52\", \"size\": [421679.25], \"sizemode\": \"area\", \"sizeref\": 3816.214375}, \"mode\": \"markers\", \"name\": \"Danforth-East York\", \"showlegend\": true, \"subplot\": \"mapbox\", \"type\": \"scattermapbox\"}, {\"hovertemplate\": \"neighbourhood=Don Valley Village<br>average_house_value=%{marker.size}<br>lat=%{lat}<br>lon=%{lon}<extra></extra>\", \"lat\": [43.78329369], \"legendgroup\": \"Don Valley Village\", \"lon\": [-79.35364413], \"marker\": {\"color\": \"#636efa\", \"size\": [398010.25], \"sizemode\": \"area\", \"sizeref\": 3816.214375}, \"mode\": \"markers\", \"name\": \"Don Valley Village\", \"showlegend\": true, \"subplot\": \"mapbox\", \"type\": \"scattermapbox\"}, {\"hovertemplate\": \"neighbourhood=Dorset Park<br>average_house_value=%{marker.size}<br>lat=%{lat}<br>lon=%{lon}<extra></extra>\", \"lat\": [43.75927437], \"legendgroup\": \"Dorset Park\", \"lon\": [-79.27890794], \"marker\": {\"color\": \"#EF553B\", \"size\": [262000.25], \"sizemode\": \"area\", \"sizeref\": 3816.214375}, \"mode\": \"markers\", \"name\": \"Dorset Park\", \"showlegend\": true, \"subplot\": \"mapbox\", \"type\": \"scattermapbox\"}, {\"hovertemplate\": \"neighbourhood=Dovercourt-Wallace Emerson-Juncti<br>average_house_value=%{marker.size}<br>lat=%{lat}<br>lon=%{lon}<extra></extra>\", \"lat\": [43.66567693], \"legendgroup\": \"Dovercourt-Wallace Emerson-Juncti\", \"lon\": [-79.4385407], \"marker\": {\"color\": \"#00cc96\", \"size\": [434699.5], \"sizemode\": \"area\", \"sizeref\": 3816.214375}, \"mode\": \"markers\", \"name\": \"Dovercourt-Wallace Emerson-Juncti\", \"showlegend\": true, \"subplot\": \"mapbox\", \"type\": \"scattermapbox\"}, {\"hovertemplate\": \"neighbourhood=Downsview-Roding-CFB<br>average_house_value=%{marker.size}<br>lat=%{lat}<br>lon=%{lon}<extra></extra>\", \"lat\": [43.73329235], \"legendgroup\": \"Downsview-Roding-CFB\", \"lon\": [-79.49049735], \"marker\": {\"color\": \"#ab63fa\", \"size\": [381415.5], \"sizemode\": \"area\", \"sizeref\": 3816.214375}, \"mode\": \"markers\", \"name\": \"Downsview-Roding-CFB\", \"showlegend\": true, \"subplot\": \"mapbox\", \"type\": \"scattermapbox\"}, {\"hovertemplate\": \"neighbourhood=Dufferin Grove<br>average_house_value=%{marker.size}<br>lat=%{lat}<br>lon=%{lon}<extra></extra>\", \"lat\": [43.65542833], \"legendgroup\": \"Dufferin Grove\", \"lon\": [-79.43734104], \"marker\": {\"color\": \"#FFA15A\", \"size\": [457588.75], \"sizemode\": \"area\", \"sizeref\": 3816.214375}, \"mode\": \"markers\", \"name\": \"Dufferin Grove\", \"showlegend\": true, \"subplot\": \"mapbox\", \"type\": \"scattermapbox\"}, {\"hovertemplate\": \"neighbourhood=East End-Danforth<br>average_house_value=%{marker.size}<br>lat=%{lat}<br>lon=%{lon}<extra></extra>\", \"lat\": [43.68417388], \"legendgroup\": \"East End-Danforth\", \"lon\": [-79.29935867], \"marker\": {\"color\": \"#19d3f3\", \"size\": [478054.25], \"sizemode\": \"area\", \"sizeref\": 3816.214375}, \"mode\": \"markers\", \"name\": \"East End-Danforth\", \"showlegend\": true, \"subplot\": \"mapbox\", \"type\": \"scattermapbox\"}, {\"hovertemplate\": \"neighbourhood=Edenbridge-Humber Valley<br>average_house_value=%{marker.size}<br>lat=%{lat}<br>lon=%{lon}<extra></extra>\", \"lat\": [43.67088591], \"legendgroup\": \"Edenbridge-Humber Valley\", \"lon\": [-79.52245776], \"marker\": {\"color\": \"#FF6692\", \"size\": [796162.5], \"sizemode\": \"area\", \"sizeref\": 3816.214375}, \"mode\": \"markers\", \"name\": \"Edenbridge-Humber Valley\", \"showlegend\": true, \"subplot\": \"mapbox\", \"type\": \"scattermapbox\"}, {\"hovertemplate\": \"neighbourhood=Eglinton East<br>average_house_value=%{marker.size}<br>lat=%{lat}<br>lon=%{lon}<extra></extra>\", \"lat\": [43.7409223], \"legendgroup\": \"Eglinton East\", \"lon\": [-79.24559804], \"marker\": {\"color\": \"#B6E880\", \"size\": [268966.5], \"sizemode\": \"area\", \"sizeref\": 3816.214375}, \"mode\": \"markers\", \"name\": \"Eglinton East\", \"showlegend\": true, \"subplot\": \"mapbox\", \"type\": \"scattermapbox\"}, {\"hovertemplate\": \"neighbourhood=Elms-Old Rexdale<br>average_house_value=%{marker.size}<br>lat=%{lat}<br>lon=%{lon}<extra></extra>\", \"lat\": [43.72151887], \"legendgroup\": \"Elms-Old Rexdale\", \"lon\": [-79.54898272], \"marker\": {\"color\": \"#FF97FF\", \"size\": [268341.25], \"sizemode\": \"area\", \"sizeref\": 3816.214375}, \"mode\": \"markers\", \"name\": \"Elms-Old Rexdale\", \"showlegend\": true, \"subplot\": \"mapbox\", \"type\": \"scattermapbox\"}, {\"hovertemplate\": \"neighbourhood=Englemount-Lawrence<br>average_house_value=%{marker.size}<br>lat=%{lat}<br>lon=%{lon}<extra></extra>\", \"lat\": [43.72034467], \"legendgroup\": \"Englemount-Lawrence\", \"lon\": [-79.43740855], \"marker\": {\"color\": \"#FECB52\", \"size\": [568936.75], \"sizemode\": \"area\", \"sizeref\": 3816.214375}, \"mode\": \"markers\", \"name\": \"Englemount-Lawrence\", \"showlegend\": true, \"subplot\": \"mapbox\", \"type\": \"scattermapbox\"}, {\"hovertemplate\": \"neighbourhood=Eringate-Centennial-West Deane<br>average_house_value=%{marker.size}<br>lat=%{lat}<br>lon=%{lon}<extra></extra>\", \"lat\": [43.65801676], \"legendgroup\": \"Eringate-Centennial-West Deane\", \"lon\": [-79.58044524], \"marker\": {\"color\": \"#636efa\", \"size\": [397781.75], \"sizemode\": \"area\", \"sizeref\": 3816.214375}, \"mode\": \"markers\", \"name\": \"Eringate-Centennial-West Deane\", \"showlegend\": true, \"subplot\": \"mapbox\", \"type\": \"scattermapbox\"}, {\"hovertemplate\": \"neighbourhood=Etobicoke West Mall<br>average_house_value=%{marker.size}<br>lat=%{lat}<br>lon=%{lon}<extra></extra>\", \"lat\": [43.64506262], \"legendgroup\": \"Etobicoke West Mall\", \"lon\": [-79.56893877], \"marker\": {\"color\": \"#EF553B\", \"size\": [309412.0], \"sizemode\": \"area\", \"sizeref\": 3816.214375}, \"mode\": \"markers\", \"name\": \"Etobicoke West Mall\", \"showlegend\": true, \"subplot\": \"mapbox\", \"type\": \"scattermapbox\"}, {\"hovertemplate\": \"neighbourhood=Flemingdon Park<br>average_house_value=%{marker.size}<br>lat=%{lat}<br>lon=%{lon}<extra></extra>\", \"lat\": [43.71592975], \"legendgroup\": \"Flemingdon Park\", \"lon\": [-79.33264597], \"marker\": {\"color\": \"#00cc96\", \"size\": [207799.0], \"sizemode\": \"area\", \"sizeref\": 3816.214375}, \"mode\": \"markers\", \"name\": \"Flemingdon Park\", \"showlegend\": true, \"subplot\": \"mapbox\", \"type\": \"scattermapbox\"}, {\"hovertemplate\": \"neighbourhood=Forest Hill North<br>average_house_value=%{marker.size}<br>lat=%{lat}<br>lon=%{lon}<extra></extra>\", \"lat\": [43.70421756], \"legendgroup\": \"Forest Hill North\", \"lon\": [-79.42814316], \"marker\": {\"color\": \"#ab63fa\", \"size\": [851680.5], \"sizemode\": \"area\", \"sizeref\": 3816.214375}, \"mode\": \"markers\", \"name\": \"Forest Hill North\", \"showlegend\": true, \"subplot\": \"mapbox\", \"type\": \"scattermapbox\"}, {\"hovertemplate\": \"neighbourhood=Forest Hill South<br>average_house_value=%{marker.size}<br>lat=%{lat}<br>lon=%{lon}<extra></extra>\", \"lat\": [43.69452576], \"legendgroup\": \"Forest Hill South\", \"lon\": [-79.41431786], \"marker\": {\"color\": \"#FFA15A\", \"size\": [1195992.5], \"sizemode\": \"area\", \"sizeref\": 3816.214375}, \"mode\": \"markers\", \"name\": \"Forest Hill South\", \"showlegend\": true, \"subplot\": \"mapbox\", \"type\": \"scattermapbox\"}, {\"hovertemplate\": \"neighbourhood=Glenfield-Jane Heights<br>average_house_value=%{marker.size}<br>lat=%{lat}<br>lon=%{lon}<extra></extra>\", \"lat\": [43.74563575], \"legendgroup\": \"Glenfield-Jane Heights\", \"lon\": [-79.51346532], \"marker\": {\"color\": \"#19d3f3\", \"size\": [327597.75], \"sizemode\": \"area\", \"sizeref\": 3816.214375}, \"mode\": \"markers\", \"name\": \"Glenfield-Jane Heights\", \"showlegend\": true, \"subplot\": \"mapbox\", \"type\": \"scattermapbox\"}, {\"hovertemplate\": \"neighbourhood=Greenwood-Coxwell<br>average_house_value=%{marker.size}<br>lat=%{lat}<br>lon=%{lon}<extra></extra>\", \"lat\": [43.67261231], \"legendgroup\": \"Greenwood-Coxwell\", \"lon\": [-79.32431802], \"marker\": {\"color\": \"#FF6692\", \"size\": [387055.5], \"sizemode\": \"area\", \"sizeref\": 3816.214375}, \"mode\": \"markers\", \"name\": \"Greenwood-Coxwell\", \"showlegend\": true, \"subplot\": \"mapbox\", \"type\": \"scattermapbox\"}, {\"hovertemplate\": \"neighbourhood=Guildwood<br>average_house_value=%{marker.size}<br>lat=%{lat}<br>lon=%{lon}<extra></extra>\", \"lat\": [43.74882934], \"legendgroup\": \"Guildwood\", \"lon\": [-79.19505535], \"marker\": {\"color\": \"#B6E880\", \"size\": [369373.5], \"sizemode\": \"area\", \"sizeref\": 3816.214375}, \"mode\": \"markers\", \"name\": \"Guildwood\", \"showlegend\": true, \"subplot\": \"mapbox\", \"type\": \"scattermapbox\"}, {\"hovertemplate\": \"neighbourhood=Henry Farm<br>average_house_value=%{marker.size}<br>lat=%{lat}<br>lon=%{lon}<extra></extra>\", \"lat\": [43.77114414], \"legendgroup\": \"Henry Farm\", \"lon\": [-79.34124067], \"marker\": {\"color\": \"#FF97FF\", \"size\": [369958.0], \"sizemode\": \"area\", \"sizeref\": 3816.214375}, \"mode\": \"markers\", \"name\": \"Henry Farm\", \"showlegend\": true, \"subplot\": \"mapbox\", \"type\": \"scattermapbox\"}, {\"hovertemplate\": \"neighbourhood=High Park North<br>average_house_value=%{marker.size}<br>lat=%{lat}<br>lon=%{lon}<extra></extra>\", \"lat\": [43.65756491], \"legendgroup\": \"High Park North\", \"lon\": [-79.46630217], \"marker\": {\"color\": \"#FECB52\", \"size\": [532497.0], \"sizemode\": \"area\", \"sizeref\": 3816.214375}, \"mode\": \"markers\", \"name\": \"High Park North\", \"showlegend\": true, \"subplot\": \"mapbox\", \"type\": \"scattermapbox\"}, {\"hovertemplate\": \"neighbourhood=High Park-Swansea<br>average_house_value=%{marker.size}<br>lat=%{lat}<br>lon=%{lon}<extra></extra>\", \"lat\": [43.64506458], \"legendgroup\": \"High Park-Swansea\", \"lon\": [-79.46787222], \"marker\": {\"color\": \"#636efa\", \"size\": [582977.75], \"sizemode\": \"area\", \"sizeref\": 3816.214375}, \"mode\": \"markers\", \"name\": \"High Park-Swansea\", \"showlegend\": true, \"subplot\": \"mapbox\", \"type\": \"scattermapbox\"}, {\"hovertemplate\": \"neighbourhood=Highland Creek<br>average_house_value=%{marker.size}<br>lat=%{lat}<br>lon=%{lon}<extra></extra>\", \"lat\": [43.79077477], \"legendgroup\": \"Highland Creek\", \"lon\": [-79.17747247], \"marker\": {\"color\": \"#EF553B\", \"size\": [428838.5], \"sizemode\": \"area\", \"sizeref\": 3816.214375}, \"mode\": \"markers\", \"name\": \"Highland Creek\", \"showlegend\": true, \"subplot\": \"mapbox\", \"type\": \"scattermapbox\"}, {\"hovertemplate\": \"neighbourhood=Hillcrest Village<br>average_house_value=%{marker.size}<br>lat=%{lat}<br>lon=%{lon}<extra></extra>\", \"lat\": [43.80298783], \"legendgroup\": \"Hillcrest Village\", \"lon\": [-79.354804], \"marker\": {\"color\": \"#00cc96\", \"size\": [395023.0], \"sizemode\": \"area\", \"sizeref\": 3816.214375}, \"mode\": \"markers\", \"name\": \"Hillcrest Village\", \"showlegend\": true, \"subplot\": \"mapbox\", \"type\": \"scattermapbox\"}, {\"hovertemplate\": \"neighbourhood=Humber Heights-Westmount<br>average_house_value=%{marker.size}<br>lat=%{lat}<br>lon=%{lon}<extra></extra>\", \"lat\": [43.6922328], \"legendgroup\": \"Humber Heights-Westmount\", \"lon\": [-79.5224162], \"marker\": {\"color\": \"#ab63fa\", \"size\": [449150.5], \"sizemode\": \"area\", \"sizeref\": 3816.214375}, \"mode\": \"markers\", \"name\": \"Humber Heights-Westmount\", \"showlegend\": true, \"subplot\": \"mapbox\", \"type\": \"scattermapbox\"}, {\"hovertemplate\": \"neighbourhood=Humber Summit<br>average_house_value=%{marker.size}<br>lat=%{lat}<br>lon=%{lon}<extra></extra>\", \"lat\": [43.75891975], \"legendgroup\": \"Humber Summit\", \"lon\": [-79.55617474], \"marker\": {\"color\": \"#FFA15A\", \"size\": [352082.5], \"sizemode\": \"area\", \"sizeref\": 3816.214375}, \"mode\": \"markers\", \"name\": \"Humber Summit\", \"showlegend\": true, \"subplot\": \"mapbox\", \"type\": \"scattermapbox\"}, {\"hovertemplate\": \"neighbourhood=Humbermede<br>average_house_value=%{marker.size}<br>lat=%{lat}<br>lon=%{lon}<extra></extra>\", \"lat\": [43.74342952], \"legendgroup\": \"Humbermede\", \"lon\": [-79.54236712], \"marker\": {\"color\": \"#19d3f3\", \"size\": [319783.75], \"sizemode\": \"area\", \"sizeref\": 3816.214375}, \"mode\": \"markers\", \"name\": \"Humbermede\", \"showlegend\": true, \"subplot\": \"mapbox\", \"type\": \"scattermapbox\"}, {\"hovertemplate\": \"neighbourhood=Humewood-Cedarvale<br>average_house_value=%{marker.size}<br>lat=%{lat}<br>lon=%{lon}<extra></extra>\", \"lat\": [43.69136981], \"legendgroup\": \"Humewood-Cedarvale\", \"lon\": [-79.42768335], \"marker\": {\"color\": \"#FF6692\", \"size\": [697085.5], \"sizemode\": \"area\", \"sizeref\": 3816.214375}, \"mode\": \"markers\", \"name\": \"Humewood-Cedarvale\", \"showlegend\": true, \"subplot\": \"mapbox\", \"type\": \"scattermapbox\"}, {\"hovertemplate\": \"neighbourhood=Ionview<br>average_house_value=%{marker.size}<br>lat=%{lat}<br>lon=%{lon}<extra></extra>\", \"lat\": [43.73536441], \"legendgroup\": \"Ionview\", \"lon\": [-79.27247049], \"marker\": {\"color\": \"#B6E880\", \"size\": [287685.75], \"sizemode\": \"area\", \"sizeref\": 3816.214375}, \"mode\": \"markers\", \"name\": \"Ionview\", \"showlegend\": true, \"subplot\": \"mapbox\", \"type\": \"scattermapbox\"}, {\"hovertemplate\": \"neighbourhood=Islington-City Centre West<br>average_house_value=%{marker.size}<br>lat=%{lat}<br>lon=%{lon}<extra></extra>\", \"lat\": [43.63346335], \"legendgroup\": \"Islington-City Centre West\", \"lon\": [-79.54331654], \"marker\": {\"color\": \"#FF97FF\", \"size\": [451685.25], \"sizemode\": \"area\", \"sizeref\": 3816.214375}, \"mode\": \"markers\", \"name\": \"Islington-City Centre West\", \"showlegend\": true, \"subplot\": \"mapbox\", \"type\": \"scattermapbox\"}, {\"hovertemplate\": \"neighbourhood=Junction Area<br>average_house_value=%{marker.size}<br>lat=%{lat}<br>lon=%{lon}<extra></extra>\", \"lat\": [43.66788977], \"legendgroup\": \"Junction Area\", \"lon\": [-79.47143987], \"marker\": {\"color\": \"#FECB52\", \"size\": [433269.25], \"sizemode\": \"area\", \"sizeref\": 3816.214375}, \"mode\": \"markers\", \"name\": \"Junction Area\", \"showlegend\": true, \"subplot\": \"mapbox\", \"type\": \"scattermapbox\"}, {\"hovertemplate\": \"neighbourhood=Keelesdale-Eglinton West<br>average_house_value=%{marker.size}<br>lat=%{lat}<br>lon=%{lon}<extra></extra>\", \"lat\": [43.68572747], \"legendgroup\": \"Keelesdale-Eglinton West\", \"lon\": [-79.47143711], \"marker\": {\"color\": \"#636efa\", \"size\": [322774.75], \"sizemode\": \"area\", \"sizeref\": 3816.214375}, \"mode\": \"markers\", \"name\": \"Keelesdale-Eglinton West\", \"showlegend\": true, \"subplot\": \"mapbox\", \"type\": \"scattermapbox\"}, {\"hovertemplate\": \"neighbourhood=Kennedy Park<br>average_house_value=%{marker.size}<br>lat=%{lat}<br>lon=%{lon}<extra></extra>\", \"lat\": [43.72555572], \"legendgroup\": \"Kennedy Park\", \"lon\": [-79.26038221], \"marker\": {\"color\": \"#EF553B\", \"size\": [287233.5], \"sizemode\": \"area\", \"sizeref\": 3816.214375}, \"mode\": \"markers\", \"name\": \"Kennedy Park\", \"showlegend\": true, \"subplot\": \"mapbox\", \"type\": \"scattermapbox\"}, {\"hovertemplate\": \"neighbourhood=Kensington-Chinatown<br>average_house_value=%{marker.size}<br>lat=%{lat}<br>lon=%{lon}<extra></extra>\", \"lat\": [43.65355413], \"legendgroup\": \"Kensington-Chinatown\", \"lon\": [-79.39723988], \"marker\": {\"color\": \"#00cc96\", \"size\": [440485.75], \"sizemode\": \"area\", \"sizeref\": 3816.214375}, \"mode\": \"markers\", \"name\": \"Kensington-Chinatown\", \"showlegend\": true, \"subplot\": \"mapbox\", \"type\": \"scattermapbox\"}, {\"hovertemplate\": \"neighbourhood=Kingsview Village-The Westway<br>average_house_value=%{marker.size}<br>lat=%{lat}<br>lon=%{lon}<extra></extra>\", \"lat\": [43.69899257], \"legendgroup\": \"Kingsview Village-The Westway\", \"lon\": [-79.54786331], \"marker\": {\"color\": \"#ab63fa\", \"size\": [338344.75], \"sizemode\": \"area\", \"sizeref\": 3816.214375}, \"mode\": \"markers\", \"name\": \"Kingsview Village-The Westway\", \"showlegend\": true, \"subplot\": \"mapbox\", \"type\": \"scattermapbox\"}, {\"hovertemplate\": \"neighbourhood=Kingsway South<br>average_house_value=%{marker.size}<br>lat=%{lat}<br>lon=%{lon}<extra></extra>\", \"lat\": [43.65352043], \"legendgroup\": \"Kingsway South\", \"lon\": [-79.5105768], \"marker\": {\"color\": \"#FFA15A\", \"size\": [843234.25], \"sizemode\": \"area\", \"sizeref\": 3816.214375}, \"mode\": \"markers\", \"name\": \"Kingsway South\", \"showlegend\": true, \"subplot\": \"mapbox\", \"type\": \"scattermapbox\"}, {\"hovertemplate\": \"neighbourhood=L'Amoreaux<br>average_house_value=%{marker.size}<br>lat=%{lat}<br>lon=%{lon}<extra></extra>\", \"lat\": [43.79571603], \"legendgroup\": \"L'Amoreaux\", \"lon\": [-79.31408424], \"marker\": {\"color\": \"#19d3f3\", \"size\": [650307.75], \"sizemode\": \"area\", \"sizeref\": 3816.214375}, \"mode\": \"markers\", \"name\": \"L'Amoreaux\", \"showlegend\": true, \"subplot\": \"mapbox\", \"type\": \"scattermapbox\"}, {\"hovertemplate\": \"neighbourhood=Lambton Baby Point<br>average_house_value=%{marker.size}<br>lat=%{lat}<br>lon=%{lon}<extra></extra>\", \"lat\": [43.65742013], \"legendgroup\": \"Lambton Baby Point\", \"lon\": [-79.49604526], \"marker\": {\"color\": \"#FF6692\", \"size\": [336617.75], \"sizemode\": \"area\", \"sizeref\": 3816.214375}, \"mode\": \"markers\", \"name\": \"Lambton Baby Point\", \"showlegend\": true, \"subplot\": \"mapbox\", \"type\": \"scattermapbox\"}, {\"hovertemplate\": \"neighbourhood=Lansing-Westgate<br>average_house_value=%{marker.size}<br>lat=%{lat}<br>lon=%{lon}<extra></extra>\", \"lat\": [43.75427115], \"legendgroup\": \"Lansing-Westgate\", \"lon\": [-79.42474772], \"marker\": {\"color\": \"#B6E880\", \"size\": [613216.5], \"sizemode\": \"area\", \"sizeref\": 3816.214375}, \"mode\": \"markers\", \"name\": \"Lansing-Westgate\", \"showlegend\": true, \"subplot\": \"mapbox\", \"type\": \"scattermapbox\"}, {\"hovertemplate\": \"neighbourhood=Lawrence Park North<br>average_house_value=%{marker.size}<br>lat=%{lat}<br>lon=%{lon}<extra></extra>\", \"lat\": [43.73006017], \"legendgroup\": \"Lawrence Park North\", \"lon\": [-79.40397836], \"marker\": {\"color\": \"#FF97FF\", \"size\": [759392.5], \"sizemode\": \"area\", \"sizeref\": 3816.214375}, \"mode\": \"markers\", \"name\": \"Lawrence Park North\", \"showlegend\": true, \"subplot\": \"mapbox\", \"type\": \"scattermapbox\"}, {\"hovertemplate\": \"neighbourhood=Lawrence Park South<br>average_house_value=%{marker.size}<br>lat=%{lat}<br>lon=%{lon}<extra></extra>\", \"lat\": [43.7172117], \"legendgroup\": \"Lawrence Park South\", \"lon\": [-79.40603941], \"marker\": {\"color\": \"#FECB52\", \"size\": [1094027.75], \"sizemode\": \"area\", \"sizeref\": 3816.214375}, \"mode\": \"markers\", \"name\": \"Lawrence Park South\", \"showlegend\": true, \"subplot\": \"mapbox\", \"type\": \"scattermapbox\"}, {\"hovertemplate\": \"neighbourhood=Leaside-Bennington<br>average_house_value=%{marker.size}<br>lat=%{lat}<br>lon=%{lon}<extra></extra>\", \"lat\": [43.70379663], \"legendgroup\": \"Leaside-Bennington\", \"lon\": [-79.36607234], \"marker\": {\"color\": \"#636efa\", \"size\": [806471.75], \"sizemode\": \"area\", \"sizeref\": 3816.214375}, \"mode\": \"markers\", \"name\": \"Leaside-Bennington\", \"showlegend\": true, \"subplot\": \"mapbox\", \"type\": \"scattermapbox\"}, {\"hovertemplate\": \"neighbourhood=Little Portugal<br>average_house_value=%{marker.size}<br>lat=%{lat}<br>lon=%{lon}<extra></extra>\", \"lat\": [43.64753593], \"legendgroup\": \"Little Portugal\", \"lon\": [-79.43032271], \"marker\": {\"color\": \"#EF553B\", \"size\": [540192.5], \"sizemode\": \"area\", \"sizeref\": 3816.214375}, \"mode\": \"markers\", \"name\": \"Little Portugal\", \"showlegend\": true, \"subplot\": \"mapbox\", \"type\": \"scattermapbox\"}, {\"hovertemplate\": \"neighbourhood=Long Branch<br>average_house_value=%{marker.size}<br>lat=%{lat}<br>lon=%{lon}<extra></extra>\", \"lat\": [43.59236169], \"legendgroup\": \"Long Branch\", \"lon\": [-79.53334545], \"marker\": {\"color\": \"#00cc96\", \"size\": [385830.25], \"sizemode\": \"area\", \"sizeref\": 3816.214375}, \"mode\": \"markers\", \"name\": \"Long Branch\", \"showlegend\": true, \"subplot\": \"mapbox\", \"type\": \"scattermapbox\"}, {\"hovertemplate\": \"neighbourhood=Malvern<br>average_house_value=%{marker.size}<br>lat=%{lat}<br>lon=%{lon}<extra></extra>\", \"lat\": [43.80365820000001], \"legendgroup\": \"Malvern\", \"lon\": [-79.22251662], \"marker\": {\"color\": \"#ab63fa\", \"size\": [256880.25], \"sizemode\": \"area\", \"sizeref\": 3816.214375}, \"mode\": \"markers\", \"name\": \"Malvern\", \"showlegend\": true, \"subplot\": \"mapbox\", \"type\": \"scattermapbox\"}, {\"hovertemplate\": \"neighbourhood=Maple Leaf<br>average_house_value=%{marker.size}<br>lat=%{lat}<br>lon=%{lon}<extra></extra>\", \"lat\": [43.71557394], \"legendgroup\": \"Maple Leaf\", \"lon\": [-79.48075802], \"marker\": {\"color\": \"#FFA15A\", \"size\": [453229.0], \"sizemode\": \"area\", \"sizeref\": 3816.214375}, \"mode\": \"markers\", \"name\": \"Maple Leaf\", \"showlegend\": true, \"subplot\": \"mapbox\", \"type\": \"scattermapbox\"}, {\"hovertemplate\": \"neighbourhood=Markland Wood<br>average_house_value=%{marker.size}<br>lat=%{lat}<br>lon=%{lon}<extra></extra>\", \"lat\": [43.63354175], \"legendgroup\": \"Markland Wood\", \"lon\": [-79.57343155], \"marker\": {\"color\": \"#19d3f3\", \"size\": [443974.75], \"sizemode\": \"area\", \"sizeref\": 3816.214375}, \"mode\": \"markers\", \"name\": \"Markland Wood\", \"showlegend\": true, \"subplot\": \"mapbox\", \"type\": \"scattermapbox\"}, {\"hovertemplate\": \"neighbourhood=Milliken<br>average_house_value=%{marker.size}<br>lat=%{lat}<br>lon=%{lon}<extra></extra>\", \"lat\": [43.82069079], \"legendgroup\": \"Milliken\", \"lon\": [-79.27500892], \"marker\": {\"color\": \"#FF6692\", \"size\": [344988.25], \"sizemode\": \"area\", \"sizeref\": 3816.214375}, \"mode\": \"markers\", \"name\": \"Milliken\", \"showlegend\": true, \"subplot\": \"mapbox\", \"type\": \"scattermapbox\"}, {\"hovertemplate\": \"neighbourhood=Mimico<br>average_house_value=%{marker.size}<br>lat=%{lat}<br>lon=%{lon}<extra></extra>\", \"lat\": [43.61592386], \"legendgroup\": \"Mimico\", \"lon\": [-79.50013664], \"marker\": {\"color\": \"#B6E880\", \"size\": [393490.5], \"sizemode\": \"area\", \"sizeref\": 3816.214375}, \"mode\": \"markers\", \"name\": \"Mimico\", \"showlegend\": true, \"subplot\": \"mapbox\", \"type\": \"scattermapbox\"}, {\"hovertemplate\": \"neighbourhood=Morningside<br>average_house_value=%{marker.size}<br>lat=%{lat}<br>lon=%{lon}<extra></extra>\", \"lat\": [43.78239861], \"legendgroup\": \"Morningside\", \"lon\": [-79.20704119], \"marker\": {\"color\": \"#FF97FF\", \"size\": [285013.5], \"sizemode\": \"area\", \"sizeref\": 3816.214375}, \"mode\": \"markers\", \"name\": \"Morningside\", \"showlegend\": true, \"subplot\": \"mapbox\", \"type\": \"scattermapbox\"}, {\"hovertemplate\": \"neighbourhood=Moss Park<br>average_house_value=%{marker.size}<br>lat=%{lat}<br>lon=%{lon}<extra></extra>\", \"lat\": [43.65651762], \"legendgroup\": \"Moss Park\", \"lon\": [-79.36729703], \"marker\": {\"color\": \"#FECB52\", \"size\": [409456.0], \"sizemode\": \"area\", \"sizeref\": 3816.214375}, \"mode\": \"markers\", \"name\": \"Moss Park\", \"showlegend\": true, \"subplot\": \"mapbox\", \"type\": \"scattermapbox\"}, {\"hovertemplate\": \"neighbourhood=Mount Dennis<br>average_house_value=%{marker.size}<br>lat=%{lat}<br>lon=%{lon}<extra></extra>\", \"lat\": [43.68814409], \"legendgroup\": \"Mount Dennis\", \"lon\": [-79.49998906], \"marker\": {\"color\": \"#636efa\", \"size\": [262308.75], \"sizemode\": \"area\", \"sizeref\": 3816.214375}, \"mode\": \"markers\", \"name\": \"Mount Dennis\", \"showlegend\": true, \"subplot\": \"mapbox\", \"type\": \"scattermapbox\"}, {\"hovertemplate\": \"neighbourhood=Mount Olive-Silverstone-Jamestown<br>average_house_value=%{marker.size}<br>lat=%{lat}<br>lon=%{lon}<extra></extra>\", \"lat\": [43.7468678], \"legendgroup\": \"Mount Olive-Silverstone-Jamestown\", \"lon\": [-79.58725926], \"marker\": {\"color\": \"#EF553B\", \"size\": [253182.25], \"sizemode\": \"area\", \"sizeref\": 3816.214375}, \"mode\": \"markers\", \"name\": \"Mount Olive-Silverstone-Jamestown\", \"showlegend\": true, \"subplot\": \"mapbox\", \"type\": \"scattermapbox\"}, {\"hovertemplate\": \"neighbourhood=Mount Pleasant East<br>average_house_value=%{marker.size}<br>lat=%{lat}<br>lon=%{lon}<extra></extra>\", \"lat\": [43.70485217], \"legendgroup\": \"Mount Pleasant East\", \"lon\": [-79.38492395], \"marker\": {\"color\": \"#00cc96\", \"size\": [677370.25], \"sizemode\": \"area\", \"sizeref\": 3816.214375}, \"mode\": \"markers\", \"name\": \"Mount Pleasant East\", \"showlegend\": true, \"subplot\": \"mapbox\", \"type\": \"scattermapbox\"}, {\"hovertemplate\": \"neighbourhood=Mount Pleasant West<br>average_house_value=%{marker.size}<br>lat=%{lat}<br>lon=%{lon}<extra></extra>\", \"lat\": [43.70443517], \"legendgroup\": \"Mount Pleasant West\", \"lon\": [-79.39335955], \"marker\": {\"color\": \"#ab63fa\", \"size\": [468181.75], \"sizemode\": \"area\", \"sizeref\": 3816.214375}, \"mode\": \"markers\", \"name\": \"Mount Pleasant West\", \"showlegend\": true, \"subplot\": \"mapbox\", \"type\": \"scattermapbox\"}, {\"hovertemplate\": \"neighbourhood=New Toronto<br>average_house_value=%{marker.size}<br>lat=%{lat}<br>lon=%{lon}<extra></extra>\", \"lat\": [43.6005886], \"legendgroup\": \"New Toronto\", \"lon\": [-79.51035809], \"marker\": {\"color\": \"#FFA15A\", \"size\": [407812.0], \"sizemode\": \"area\", \"sizeref\": 3816.214375}, \"mode\": \"markers\", \"name\": \"New Toronto\", \"showlegend\": true, \"subplot\": \"mapbox\", \"type\": \"scattermapbox\"}, {\"hovertemplate\": \"neighbourhood=Newtonbrook East<br>average_house_value=%{marker.size}<br>lat=%{lat}<br>lon=%{lon}<extra></extra>\", \"lat\": [43.79153579], \"legendgroup\": \"Newtonbrook East\", \"lon\": [-79.40593745], \"marker\": {\"color\": \"#19d3f3\", \"size\": [559573.25], \"sizemode\": \"area\", \"sizeref\": 3816.214375}, \"mode\": \"markers\", \"name\": \"Newtonbrook East\", \"showlegend\": true, \"subplot\": \"mapbox\", \"type\": \"scattermapbox\"}, {\"hovertemplate\": \"neighbourhood=Newtonbrook West<br>average_house_value=%{marker.size}<br>lat=%{lat}<br>lon=%{lon}<extra></extra>\", \"lat\": [43.78582994], \"legendgroup\": \"Newtonbrook West\", \"lon\": [-79.43142151], \"marker\": {\"color\": \"#FF6692\", \"size\": [460568.5], \"sizemode\": \"area\", \"sizeref\": 3816.214375}, \"mode\": \"markers\", \"name\": \"Newtonbrook West\", \"showlegend\": true, \"subplot\": \"mapbox\", \"type\": \"scattermapbox\"}, {\"hovertemplate\": \"neighbourhood=Niagara<br>average_house_value=%{marker.size}<br>lat=%{lat}<br>lon=%{lon}<extra></extra>\", \"lat\": [43.63668088], \"legendgroup\": \"Niagara\", \"lon\": [-79.4124204], \"marker\": {\"color\": \"#B6E880\", \"size\": [369993.0], \"sizemode\": \"area\", \"sizeref\": 3816.214375}, \"mode\": \"markers\", \"name\": \"Niagara\", \"showlegend\": true, \"subplot\": \"mapbox\", \"type\": \"scattermapbox\"}, {\"hovertemplate\": \"neighbourhood=North Riverdale<br>average_house_value=%{marker.size}<br>lat=%{lat}<br>lon=%{lon}<extra></extra>\", \"lat\": [43.67199515], \"legendgroup\": \"North Riverdale\", \"lon\": [-79.35126041], \"marker\": {\"color\": \"#FF97FF\", \"size\": [703063.25], \"sizemode\": \"area\", \"sizeref\": 3816.214375}, \"mode\": \"markers\", \"name\": \"North Riverdale\", \"showlegend\": true, \"subplot\": \"mapbox\", \"type\": \"scattermapbox\"}, {\"hovertemplate\": \"neighbourhood=North St.James Town<br>average_house_value=%{marker.size}<br>lat=%{lat}<br>lon=%{lon}<extra></extra>\", \"lat\": [43.66962341], \"legendgroup\": \"North St.James Town\", \"lon\": [-79.37524658], \"marker\": {\"color\": \"#FECB52\", \"size\": [411455.75], \"sizemode\": \"area\", \"sizeref\": 3816.214375}, \"mode\": \"markers\", \"name\": \"North St.James Town\", \"showlegend\": true, \"subplot\": \"mapbox\", \"type\": \"scattermapbox\"}, {\"hovertemplate\": \"neighbourhood=O'Connor-Parkview<br>average_house_value=%{marker.size}<br>lat=%{lat}<br>lon=%{lon}<extra></extra>\", \"lat\": [43.70680049], \"legendgroup\": \"O'Connor-Parkview\", \"lon\": [-79.31222777], \"marker\": {\"color\": \"#636efa\", \"size\": [298315.75], \"sizemode\": \"area\", \"sizeref\": 3816.214375}, \"mode\": \"markers\", \"name\": \"O'Connor-Parkview\", \"showlegend\": true, \"subplot\": \"mapbox\", \"type\": \"scattermapbox\"}, {\"hovertemplate\": \"neighbourhood=Oakridge<br>average_house_value=%{marker.size}<br>lat=%{lat}<br>lon=%{lon}<extra></extra>\", \"lat\": [43.69740813], \"legendgroup\": \"Oakridge\", \"lon\": [-79.27970834], \"marker\": {\"color\": \"#EF553B\", \"size\": [422257.5], \"sizemode\": \"area\", \"sizeref\": 3816.214375}, \"mode\": \"markers\", \"name\": \"Oakridge\", \"showlegend\": true, \"subplot\": \"mapbox\", \"type\": \"scattermapbox\"}, {\"hovertemplate\": \"neighbourhood=Oakwood Village<br>average_house_value=%{marker.size}<br>lat=%{lat}<br>lon=%{lon}<extra></extra>\", \"lat\": [43.68856556], \"legendgroup\": \"Oakwood Village\", \"lon\": [-79.43978548], \"marker\": {\"color\": \"#00cc96\", \"size\": [441202.75], \"sizemode\": \"area\", \"sizeref\": 3816.214375}, \"mode\": \"markers\", \"name\": \"Oakwood Village\", \"showlegend\": true, \"subplot\": \"mapbox\", \"type\": \"scattermapbox\"}, {\"hovertemplate\": \"neighbourhood=Old East York<br>average_house_value=%{marker.size}<br>lat=%{lat}<br>lon=%{lon}<extra></extra>\", \"lat\": [43.69678127], \"legendgroup\": \"Old East York\", \"lon\": [-79.33548836], \"marker\": {\"color\": \"#ab63fa\", \"size\": [443413.5], \"sizemode\": \"area\", \"sizeref\": 3816.214375}, \"mode\": \"markers\", \"name\": \"Old East York\", \"showlegend\": true, \"subplot\": \"mapbox\", \"type\": \"scattermapbox\"}, {\"hovertemplate\": \"neighbourhood=Palmerston-Little Italy<br>average_house_value=%{marker.size}<br>lat=%{lat}<br>lon=%{lon}<extra></extra>\", \"lat\": [43.6591571], \"legendgroup\": \"Palmerston-Little Italy\", \"lon\": [-79.41840873], \"marker\": {\"color\": \"#FFA15A\", \"size\": [622191.75], \"sizemode\": \"area\", \"sizeref\": 3816.214375}, \"mode\": \"markers\", \"name\": \"Palmerston-Little Italy\", \"showlegend\": true, \"subplot\": \"mapbox\", \"type\": \"scattermapbox\"}, {\"hovertemplate\": \"neighbourhood=Parkwoods-Donalda<br>average_house_value=%{marker.size}<br>lat=%{lat}<br>lon=%{lon}<extra></extra>\", \"lat\": [43.75503347], \"legendgroup\": \"Parkwoods-Donalda\", \"lon\": [-79.33017952], \"marker\": {\"color\": \"#19d3f3\", \"size\": [454652.5], \"sizemode\": \"area\", \"sizeref\": 3816.214375}, \"mode\": \"markers\", \"name\": \"Parkwoods-Donalda\", \"showlegend\": true, \"subplot\": \"mapbox\", \"type\": \"scattermapbox\"}, {\"hovertemplate\": \"neighbourhood=Pelmo Park-Humberlea<br>average_house_value=%{marker.size}<br>lat=%{lat}<br>lon=%{lon}<extra></extra>\", \"lat\": [43.7175146], \"legendgroup\": \"Pelmo Park-Humberlea\", \"lon\": [-79.5282822], \"marker\": {\"color\": \"#FF6692\", \"size\": [405431.25], \"sizemode\": \"area\", \"sizeref\": 3816.214375}, \"mode\": \"markers\", \"name\": \"Pelmo Park-Humberlea\", \"showlegend\": true, \"subplot\": \"mapbox\", \"type\": \"scattermapbox\"}, {\"hovertemplate\": \"neighbourhood=Playter Estates-Danforth<br>average_house_value=%{marker.size}<br>lat=%{lat}<br>lon=%{lon}<extra></extra>\", \"lat\": [43.67970047], \"legendgroup\": \"Playter Estates-Danforth\", \"lon\": [-79.35488729], \"marker\": {\"color\": \"#B6E880\", \"size\": [648859.25], \"sizemode\": \"area\", \"sizeref\": 3816.214375}, \"mode\": \"markers\", \"name\": \"Playter Estates-Danforth\", \"showlegend\": true, \"subplot\": \"mapbox\", \"type\": \"scattermapbox\"}, {\"hovertemplate\": \"neighbourhood=Pleasant View<br>average_house_value=%{marker.size}<br>lat=%{lat}<br>lon=%{lon}<extra></extra>\", \"lat\": [43.78698176], \"legendgroup\": \"Pleasant View\", \"lon\": [-79.33494843], \"marker\": {\"color\": \"#FF97FF\", \"size\": [373375.25], \"sizemode\": \"area\", \"sizeref\": 3816.214375}, \"mode\": \"markers\", \"name\": \"Pleasant View\", \"showlegend\": true, \"subplot\": \"mapbox\", \"type\": \"scattermapbox\"}, {\"hovertemplate\": \"neighbourhood=Princess-Rosethorn<br>average_house_value=%{marker.size}<br>lat=%{lat}<br>lon=%{lon}<extra></extra>\", \"lat\": [43.6660506], \"legendgroup\": \"Princess-Rosethorn\", \"lon\": [-79.54455929], \"marker\": {\"color\": \"#FECB52\", \"size\": [765746.5], \"sizemode\": \"area\", \"sizeref\": 3816.214375}, \"mode\": \"markers\", \"name\": \"Princess-Rosethorn\", \"showlegend\": true, \"subplot\": \"mapbox\", \"type\": \"scattermapbox\"}, {\"hovertemplate\": \"neighbourhood=Regent Park<br>average_house_value=%{marker.size}<br>lat=%{lat}<br>lon=%{lon}<extra></extra>\", \"lat\": [43.65999214], \"legendgroup\": \"Regent Park\", \"lon\": [-79.36050881], \"marker\": {\"color\": \"#636efa\", \"size\": [392578.25], \"sizemode\": \"area\", \"sizeref\": 3816.214375}, \"mode\": \"markers\", \"name\": \"Regent Park\", \"showlegend\": true, \"subplot\": \"mapbox\", \"type\": \"scattermapbox\"}, {\"hovertemplate\": \"neighbourhood=Rexdale-Kipling<br>average_house_value=%{marker.size}<br>lat=%{lat}<br>lon=%{lon}<extra></extra>\", \"lat\": [43.72372548], \"legendgroup\": \"Rexdale-Kipling\", \"lon\": [-79.56622841], \"marker\": {\"color\": \"#EF553B\", \"size\": [360999.25], \"sizemode\": \"area\", \"sizeref\": 3816.214375}, \"mode\": \"markers\", \"name\": \"Rexdale-Kipling\", \"showlegend\": true, \"subplot\": \"mapbox\", \"type\": \"scattermapbox\"}, {\"hovertemplate\": \"neighbourhood=Rockcliffe-Smythe<br>average_house_value=%{marker.size}<br>lat=%{lat}<br>lon=%{lon}<extra></extra>\", \"lat\": [43.67479045], \"legendgroup\": \"Rockcliffe-Smythe\", \"lon\": [-79.49442045], \"marker\": {\"color\": \"#00cc96\", \"size\": [345660.25], \"sizemode\": \"area\", \"sizeref\": 3816.214375}, \"mode\": \"markers\", \"name\": \"Rockcliffe-Smythe\", \"showlegend\": true, \"subplot\": \"mapbox\", \"type\": \"scattermapbox\"}, {\"hovertemplate\": \"neighbourhood=Roncesvalles<br>average_house_value=%{marker.size}<br>lat=%{lat}<br>lon=%{lon}<extra></extra>\", \"lat\": [43.64612299], \"legendgroup\": \"Roncesvalles\", \"lon\": [-79.44299245], \"marker\": {\"color\": \"#ab63fa\", \"size\": [508937.25], \"sizemode\": \"area\", \"sizeref\": 3816.214375}, \"mode\": \"markers\", \"name\": \"Roncesvalles\", \"showlegend\": true, \"subplot\": \"mapbox\", \"type\": \"scattermapbox\"}, {\"hovertemplate\": \"neighbourhood=Rosedale-Moore Park<br>average_house_value=%{marker.size}<br>lat=%{lat}<br>lon=%{lon}<extra></extra>\", \"lat\": [43.68282043], \"legendgroup\": \"Rosedale-Moore Park\", \"lon\": [-79.3796694], \"marker\": {\"color\": \"#FFA15A\", \"size\": [1093640.0], \"sizemode\": \"area\", \"sizeref\": 3816.214375}, \"mode\": \"markers\", \"name\": \"Rosedale-Moore Park\", \"showlegend\": true, \"subplot\": \"mapbox\", \"type\": \"scattermapbox\"}, {\"hovertemplate\": \"neighbourhood=Rouge<br>average_house_value=%{marker.size}<br>lat=%{lat}<br>lon=%{lon}<extra></extra>\", \"lat\": [43.82120126], \"legendgroup\": \"Rouge\", \"lon\": [-79.18634345], \"marker\": {\"color\": \"#19d3f3\", \"size\": [376286.75], \"sizemode\": \"area\", \"sizeref\": 3816.214375}, \"mode\": \"markers\", \"name\": \"Rouge\", \"showlegend\": true, \"subplot\": \"mapbox\", \"type\": \"scattermapbox\"}, {\"hovertemplate\": \"neighbourhood=Runnymede-Bloor West Village<br>average_house_value=%{marker.size}<br>lat=%{lat}<br>lon=%{lon}<extra></extra>\", \"lat\": [43.65926882], \"legendgroup\": \"Runnymede-Bloor West Village\", \"lon\": [-79.48570818], \"marker\": {\"color\": \"#FF6692\", \"size\": [552082.0], \"sizemode\": \"area\", \"sizeref\": 3816.214375}, \"mode\": \"markers\", \"name\": \"Runnymede-Bloor West Village\", \"showlegend\": true, \"subplot\": \"mapbox\", \"type\": \"scattermapbox\"}, {\"hovertemplate\": \"neighbourhood=Rustic<br>average_house_value=%{marker.size}<br>lat=%{lat}<br>lon=%{lon}<extra></extra>\", \"lat\": [43.71160912], \"legendgroup\": \"Rustic\", \"lon\": [-79.49809147], \"marker\": {\"color\": \"#B6E880\", \"size\": [431090.5], \"sizemode\": \"area\", \"sizeref\": 3816.214375}, \"mode\": \"markers\", \"name\": \"Rustic\", \"showlegend\": true, \"subplot\": \"mapbox\", \"type\": \"scattermapbox\"}, {\"hovertemplate\": \"neighbourhood=Scarborough Village<br>average_house_value=%{marker.size}<br>lat=%{lat}<br>lon=%{lon}<extra></extra>\", \"lat\": [43.73865186], \"legendgroup\": \"Scarborough Village\", \"lon\": [-79.21681262], \"marker\": {\"color\": \"#FF97FF\", \"size\": [329835.75], \"sizemode\": \"area\", \"sizeref\": 3816.214375}, \"mode\": \"markers\", \"name\": \"Scarborough Village\", \"showlegend\": true, \"subplot\": \"mapbox\", \"type\": \"scattermapbox\"}, {\"hovertemplate\": \"neighbourhood=South Parkdale<br>average_house_value=%{marker.size}<br>lat=%{lat}<br>lon=%{lon}<extra></extra>\", \"lat\": [43.63669952], \"legendgroup\": \"South Parkdale\", \"lon\": [-79.43933783], \"marker\": {\"color\": \"#FECB52\", \"size\": [447478.5], \"sizemode\": \"area\", \"sizeref\": 3816.214375}, \"mode\": \"markers\", \"name\": \"South Parkdale\", \"showlegend\": true, \"subplot\": \"mapbox\", \"type\": \"scattermapbox\"}, {\"hovertemplate\": \"neighbourhood=South Riverdale<br>average_house_value=%{marker.size}<br>lat=%{lat}<br>lon=%{lon}<extra></extra>\", \"lat\": [43.64929206], \"legendgroup\": \"South Riverdale\", \"lon\": [-79.33565132], \"marker\": {\"color\": \"#636efa\", \"size\": [455020.5], \"sizemode\": \"area\", \"sizeref\": 3816.214375}, \"mode\": \"markers\", \"name\": \"South Riverdale\", \"showlegend\": true, \"subplot\": \"mapbox\", \"type\": \"scattermapbox\"}, {\"hovertemplate\": \"neighbourhood=St.Andrew-Windfields<br>average_house_value=%{marker.size}<br>lat=%{lat}<br>lon=%{lon}<extra></extra>\", \"lat\": [43.75624583], \"legendgroup\": \"St.Andrew-Windfields\", \"lon\": [-79.37903709], \"marker\": {\"color\": \"#EF553B\", \"size\": [999107.0], \"sizemode\": \"area\", \"sizeref\": 3816.214375}, \"mode\": \"markers\", \"name\": \"St.Andrew-Windfields\", \"showlegend\": true, \"subplot\": \"mapbox\", \"type\": \"scattermapbox\"}, {\"hovertemplate\": \"neighbourhood=Steeles<br>average_house_value=%{marker.size}<br>lat=%{lat}<br>lon=%{lon}<extra></extra>\", \"lat\": [43.81295883], \"legendgroup\": \"Steeles\", \"lon\": [-79.32120701], \"marker\": {\"color\": \"#00cc96\", \"size\": [376014.5], \"sizemode\": \"area\", \"sizeref\": 3816.214375}, \"mode\": \"markers\", \"name\": \"Steeles\", \"showlegend\": true, \"subplot\": \"mapbox\", \"type\": \"scattermapbox\"}, {\"hovertemplate\": \"neighbourhood=Stonegate-Queensway<br>average_house_value=%{marker.size}<br>lat=%{lat}<br>lon=%{lon}<extra></extra>\", \"lat\": [43.63551813], \"legendgroup\": \"Stonegate-Queensway\", \"lon\": [-79.50112821], \"marker\": {\"color\": \"#ab63fa\", \"size\": [550432.25], \"sizemode\": \"area\", \"sizeref\": 3816.214375}, \"mode\": \"markers\", \"name\": \"Stonegate-Queensway\", \"showlegend\": true, \"subplot\": \"mapbox\", \"type\": \"scattermapbox\"}, {\"hovertemplate\": \"neighbourhood=Tam O'Shanter-Sullivan<br>average_house_value=%{marker.size}<br>lat=%{lat}<br>lon=%{lon}<extra></extra>\", \"lat\": [43.78012985], \"legendgroup\": \"Tam O'Shanter-Sullivan\", \"lon\": [-79.30291871], \"marker\": {\"color\": \"#FFA15A\", \"size\": [353926.5], \"sizemode\": \"area\", \"sizeref\": 3816.214375}, \"mode\": \"markers\", \"name\": \"Tam O'Shanter-Sullivan\", \"showlegend\": true, \"subplot\": \"mapbox\", \"type\": \"scattermapbox\"}, {\"hovertemplate\": \"neighbourhood=Taylor-Massey<br>average_house_value=%{marker.size}<br>lat=%{lat}<br>lon=%{lon}<extra></extra>\", \"lat\": [43.69499819], \"legendgroup\": \"Taylor-Massey\", \"lon\": [-79.29590112], \"marker\": {\"color\": \"#19d3f3\", \"size\": [239414.0], \"sizemode\": \"area\", \"sizeref\": 3816.214375}, \"mode\": \"markers\", \"name\": \"Taylor-Massey\", \"showlegend\": true, \"subplot\": \"mapbox\", \"type\": \"scattermapbox\"}, {\"hovertemplate\": \"neighbourhood=The Beaches<br>average_house_value=%{marker.size}<br>lat=%{lat}<br>lon=%{lon}<extra></extra>\", \"lat\": [43.67104999], \"legendgroup\": \"The Beaches\", \"lon\": [-79.29960129999999], \"marker\": {\"color\": \"#FF6692\", \"size\": [666306.0], \"sizemode\": \"area\", \"sizeref\": 3816.214375}, \"mode\": \"markers\", \"name\": \"The Beaches\", \"showlegend\": true, \"subplot\": \"mapbox\", \"type\": \"scattermapbox\"}, {\"hovertemplate\": \"neighbourhood=Thistletown-Beaumond Heights<br>average_house_value=%{marker.size}<br>lat=%{lat}<br>lon=%{lon}<extra></extra>\", \"lat\": [43.73798792], \"legendgroup\": \"Thistletown-Beaumond Heights\", \"lon\": [-79.56349102], \"marker\": {\"color\": \"#B6E880\", \"size\": [375864.0], \"sizemode\": \"area\", \"sizeref\": 3816.214375}, \"mode\": \"markers\", \"name\": \"Thistletown-Beaumond Heights\", \"showlegend\": true, \"subplot\": \"mapbox\", \"type\": \"scattermapbox\"}, {\"hovertemplate\": \"neighbourhood=Thorncliffe Park<br>average_house_value=%{marker.size}<br>lat=%{lat}<br>lon=%{lon}<extra></extra>\", \"lat\": [43.70774921], \"legendgroup\": \"Thorncliffe Park\", \"lon\": [-79.34998361], \"marker\": {\"color\": \"#FF97FF\", \"size\": [255264.75], \"sizemode\": \"area\", \"sizeref\": 3816.214375}, \"mode\": \"markers\", \"name\": \"Thorncliffe Park\", \"showlegend\": true, \"subplot\": \"mapbox\", \"type\": \"scattermapbox\"}, {\"hovertemplate\": \"neighbourhood=Trinity-Bellwoods<br>average_house_value=%{marker.size}<br>lat=%{lat}<br>lon=%{lon}<extra></extra>\", \"lat\": [43.6501763], \"legendgroup\": \"Trinity-Bellwoods\", \"lon\": [-79.41534216], \"marker\": {\"color\": \"#FECB52\", \"size\": [534465.75], \"sizemode\": \"area\", \"sizeref\": 3816.214375}, \"mode\": \"markers\", \"name\": \"Trinity-Bellwoods\", \"showlegend\": true, \"subplot\": \"mapbox\", \"type\": \"scattermapbox\"}, {\"hovertemplate\": \"neighbourhood=University<br>average_house_value=%{marker.size}<br>lat=%{lat}<br>lon=%{lon}<extra></extra>\", \"lat\": [43.6625062], \"legendgroup\": \"University\", \"lon\": [-79.40117975], \"marker\": {\"color\": \"#636efa\", \"size\": [618316.75], \"sizemode\": \"area\", \"sizeref\": 3816.214375}, \"mode\": \"markers\", \"name\": \"University\", \"showlegend\": true, \"subplot\": \"mapbox\", \"type\": \"scattermapbox\"}, {\"hovertemplate\": \"neighbourhood=Victoria Village<br>average_house_value=%{marker.size}<br>lat=%{lat}<br>lon=%{lon}<extra></extra>\", \"lat\": [43.72848902], \"legendgroup\": \"Victoria Village\", \"lon\": [-79.31487383], \"marker\": {\"color\": \"#EF553B\", \"size\": [352133.0], \"sizemode\": \"area\", \"sizeref\": 3816.214375}, \"mode\": \"markers\", \"name\": \"Victoria Village\", \"showlegend\": true, \"subplot\": \"mapbox\", \"type\": \"scattermapbox\"}, {\"hovertemplate\": \"neighbourhood=Waterfront Communities-The Island<br>average_house_value=%{marker.size}<br>lat=%{lat}<br>lon=%{lon}<extra></extra>\", \"lat\": [43.63388036], \"legendgroup\": \"Waterfront Communities-The Island\", \"lon\": [-79.37720231], \"marker\": {\"color\": \"#00cc96\", \"size\": [376863.0], \"sizemode\": \"area\", \"sizeref\": 3816.214375}, \"mode\": \"markers\", \"name\": \"Waterfront Communities-The Island\", \"showlegend\": true, \"subplot\": \"mapbox\", \"type\": \"scattermapbox\"}, {\"hovertemplate\": \"neighbourhood=West Hill<br>average_house_value=%{marker.size}<br>lat=%{lat}<br>lon=%{lon}<extra></extra>\", \"lat\": [43.76749026], \"legendgroup\": \"West Hill\", \"lon\": [-79.17667603], \"marker\": {\"color\": \"#ab63fa\", \"size\": [284647.5], \"sizemode\": \"area\", \"sizeref\": 3816.214375}, \"mode\": \"markers\", \"name\": \"West Hill\", \"showlegend\": true, \"subplot\": \"mapbox\", \"type\": \"scattermapbox\"}, {\"hovertemplate\": \"neighbourhood=West Humber-Clairville<br>average_house_value=%{marker.size}<br>lat=%{lat}<br>lon=%{lon}<extra></extra>\", \"lat\": [43.7161804], \"legendgroup\": \"West Humber-Clairville\", \"lon\": [-79.59635645], \"marker\": {\"color\": \"#FFA15A\", \"size\": [343254.25], \"sizemode\": \"area\", \"sizeref\": 3816.214375}, \"mode\": \"markers\", \"name\": \"West Humber-Clairville\", \"showlegend\": true, \"subplot\": \"mapbox\", \"type\": \"scattermapbox\"}, {\"hovertemplate\": \"neighbourhood=Westminster-Branson<br>average_house_value=%{marker.size}<br>lat=%{lat}<br>lon=%{lon}<extra></extra>\", \"lat\": [43.77881322], \"legendgroup\": \"Westminster-Branson\", \"lon\": [-79.45241823], \"marker\": {\"color\": \"#19d3f3\", \"size\": [349320.25], \"sizemode\": \"area\", \"sizeref\": 3816.214375}, \"mode\": \"markers\", \"name\": \"Westminster-Branson\", \"showlegend\": true, \"subplot\": \"mapbox\", \"type\": \"scattermapbox\"}, {\"hovertemplate\": \"neighbourhood=Weston<br>average_house_value=%{marker.size}<br>lat=%{lat}<br>lon=%{lon}<extra></extra>\", \"lat\": [43.70271605], \"legendgroup\": \"Weston\", \"lon\": [-79.51572255], \"marker\": {\"color\": \"#FF6692\", \"size\": [308007.75], \"sizemode\": \"area\", \"sizeref\": 3816.214375}, \"mode\": \"markers\", \"name\": \"Weston\", \"showlegend\": true, \"subplot\": \"mapbox\", \"type\": \"scattermapbox\"}, {\"hovertemplate\": \"neighbourhood=Weston-Pellam Park<br>average_house_value=%{marker.size}<br>lat=%{lat}<br>lon=%{lon}<extra></extra>\", \"lat\": [43.67396204], \"legendgroup\": \"Weston-Pellam Park\", \"lon\": [-79.46024391], \"marker\": {\"color\": \"#B6E880\", \"size\": [351802.0], \"sizemode\": \"area\", \"sizeref\": 3816.214375}, \"mode\": \"markers\", \"name\": \"Weston-Pellam Park\", \"showlegend\": true, \"subplot\": \"mapbox\", \"type\": \"scattermapbox\"}, {\"hovertemplate\": \"neighbourhood=Wexford/Maryvale<br>average_house_value=%{marker.size}<br>lat=%{lat}<br>lon=%{lon}<extra></extra>\", \"lat\": [43.74857214], \"legendgroup\": \"Wexford/Maryvale\", \"lon\": [-79.29863657], \"marker\": {\"color\": \"#FF97FF\", \"size\": [348319.25], \"sizemode\": \"area\", \"sizeref\": 3816.214375}, \"mode\": \"markers\", \"name\": \"Wexford/Maryvale\", \"showlegend\": true, \"subplot\": \"mapbox\", \"type\": \"scattermapbox\"}, {\"hovertemplate\": \"neighbourhood=Willowdale East<br>average_house_value=%{marker.size}<br>lat=%{lat}<br>lon=%{lon}<extra></extra>\", \"lat\": [43.77060226], \"legendgroup\": \"Willowdale East\", \"lon\": [-79.40148379], \"marker\": {\"color\": \"#FECB52\", \"size\": [469045.5], \"sizemode\": \"area\", \"sizeref\": 3816.214375}, \"mode\": \"markers\", \"name\": \"Willowdale East\", \"showlegend\": true, \"subplot\": \"mapbox\", \"type\": \"scattermapbox\"}, {\"hovertemplate\": \"neighbourhood=Willowdale West<br>average_house_value=%{marker.size}<br>lat=%{lat}<br>lon=%{lon}<extra></extra>\", \"lat\": [43.77121049], \"legendgroup\": \"Willowdale West\", \"lon\": [-79.4275578], \"marker\": {\"color\": \"#636efa\", \"size\": [466134.75], \"sizemode\": \"area\", \"sizeref\": 3816.214375}, \"mode\": \"markers\", \"name\": \"Willowdale West\", \"showlegend\": true, \"subplot\": \"mapbox\", \"type\": \"scattermapbox\"}, {\"hovertemplate\": \"neighbourhood=Willowridge-Martingrove-Richview<br>average_house_value=%{marker.size}<br>lat=%{lat}<br>lon=%{lon}<extra></extra>\", \"lat\": [43.68364496], \"legendgroup\": \"Willowridge-Martingrove-Richview\", \"lon\": [-79.55422105], \"marker\": {\"color\": \"#EF553B\", \"size\": [464278.0], \"sizemode\": \"area\", \"sizeref\": 3816.214375}, \"mode\": \"markers\", \"name\": \"Willowridge-Martingrove-Richview\", \"showlegend\": true, \"subplot\": \"mapbox\", \"type\": \"scattermapbox\"}, {\"hovertemplate\": \"neighbourhood=Woburn<br>average_house_value=%{marker.size}<br>lat=%{lat}<br>lon=%{lon}<extra></extra>\", \"lat\": [43.76674024], \"legendgroup\": \"Woburn\", \"lon\": [-79.22858577], \"marker\": {\"color\": \"#00cc96\", \"size\": [298505.75], \"sizemode\": \"area\", \"sizeref\": 3816.214375}, \"mode\": \"markers\", \"name\": \"Woburn\", \"showlegend\": true, \"subplot\": \"mapbox\", \"type\": \"scattermapbox\"}, {\"hovertemplate\": \"neighbourhood=Woodbine Corridor<br>average_house_value=%{marker.size}<br>lat=%{lat}<br>lon=%{lon}<extra></extra>\", \"lat\": [43.67677292], \"legendgroup\": \"Woodbine Corridor\", \"lon\": [-79.31540738], \"marker\": {\"color\": \"#ab63fa\", \"size\": [445382.75], \"sizemode\": \"area\", \"sizeref\": 3816.214375}, \"mode\": \"markers\", \"name\": \"Woodbine Corridor\", \"showlegend\": true, \"subplot\": \"mapbox\", \"type\": \"scattermapbox\"}, {\"hovertemplate\": \"neighbourhood=Woodbine-Lumsden<br>average_house_value=%{marker.size}<br>lat=%{lat}<br>lon=%{lon}<extra></extra>\", \"lat\": [43.69410674], \"legendgroup\": \"Woodbine-Lumsden\", \"lon\": [-79.31116353], \"marker\": {\"color\": \"#FFA15A\", \"size\": [369918.5], \"sizemode\": \"area\", \"sizeref\": 3816.214375}, \"mode\": \"markers\", \"name\": \"Woodbine-Lumsden\", \"showlegend\": true, \"subplot\": \"mapbox\", \"type\": \"scattermapbox\"}, {\"hovertemplate\": \"neighbourhood=Wychwood<br>average_house_value=%{marker.size}<br>lat=%{lat}<br>lon=%{lon}<extra></extra>\", \"lat\": [43.67691927], \"legendgroup\": \"Wychwood\", \"lon\": [-79.42551495], \"marker\": {\"color\": \"#19d3f3\", \"size\": [565976.5], \"sizemode\": \"area\", \"sizeref\": 3816.214375}, \"mode\": \"markers\", \"name\": \"Wychwood\", \"showlegend\": true, \"subplot\": \"mapbox\", \"type\": \"scattermapbox\"}, {\"hovertemplate\": \"neighbourhood=Yonge-Eglinton<br>average_house_value=%{marker.size}<br>lat=%{lat}<br>lon=%{lon}<extra></extra>\", \"lat\": [43.70468937], \"legendgroup\": \"Yonge-Eglinton\", \"lon\": [-79.40359017], \"marker\": {\"color\": \"#FF6692\", \"size\": [809745.75], \"sizemode\": \"area\", \"sizeref\": 3816.214375}, \"mode\": \"markers\", \"name\": \"Yonge-Eglinton\", \"showlegend\": true, \"subplot\": \"mapbox\", \"type\": \"scattermapbox\"}, {\"hovertemplate\": \"neighbourhood=Yonge-St.Clair<br>average_house_value=%{marker.size}<br>lat=%{lat}<br>lon=%{lon}<extra></extra>\", \"lat\": [43.68785887], \"legendgroup\": \"Yonge-St.Clair\", \"lon\": [-79.39787077], \"marker\": {\"color\": \"#B6E880\", \"size\": [813220.25], \"sizemode\": \"area\", \"sizeref\": 3816.214375}, \"mode\": \"markers\", \"name\": \"Yonge-St.Clair\", \"showlegend\": true, \"subplot\": \"mapbox\", \"type\": \"scattermapbox\"}, {\"hovertemplate\": \"neighbourhood=York University Heights<br>average_house_value=%{marker.size}<br>lat=%{lat}<br>lon=%{lon}<extra></extra>\", \"lat\": [43.76573649], \"legendgroup\": \"York University Heights\", \"lon\": [-79.48888293], \"marker\": {\"color\": \"#FF97FF\", \"size\": [305899.5], \"sizemode\": \"area\", \"sizeref\": 3816.214375}, \"mode\": \"markers\", \"name\": \"York University Heights\", \"showlegend\": true, \"subplot\": \"mapbox\", \"type\": \"scattermapbox\"}, {\"hovertemplate\": \"neighbourhood=Yorkdale-Glen Park<br>average_house_value=%{marker.size}<br>lat=%{lat}<br>lon=%{lon}<extra></extra>\", \"lat\": [43.71467153], \"legendgroup\": \"Yorkdale-Glen Park\", \"lon\": [-79.45710807], \"marker\": {\"color\": \"#FECB52\", \"size\": [430861.25], \"sizemode\": \"area\", \"sizeref\": 3816.214375}, \"mode\": \"markers\", \"name\": \"Yorkdale-Glen Park\", \"showlegend\": true, \"subplot\": \"mapbox\", \"type\": \"scattermapbox\"}],                        {\"legend\": {\"itemsizing\": \"constant\", \"title\": {\"text\": \"neighbourhood\"}, \"tracegroupgap\": 0}, \"mapbox\": {\"accesstoken\": \"pk.eyJ1IjoiaGNsYXI1MiIsImEiOiJja2k3NzA2dGwwdDhmMnhxb2N1eTYycXZjIn0.IfVMvCOLngBm1-Ompm4zHQ\", \"center\": {\"lat\": 43.708840577642846, \"lon\": -79.4001855035}, \"domain\": {\"x\": [0.0, 1.0], \"y\": [0.0, 1.0]}, \"zoom\": 3}, \"margin\": {\"t\": 60}, \"template\": {\"data\": {\"bar\": [{\"error_x\": {\"color\": \"#2a3f5f\"}, \"error_y\": {\"color\": \"#2a3f5f\"}, \"marker\": {\"line\": {\"color\": \"#E5ECF6\", \"width\": 0.5}}, \"type\": \"bar\"}], \"barpolar\": [{\"marker\": {\"line\": {\"color\": \"#E5ECF6\", \"width\": 0.5}}, \"type\": \"barpolar\"}], \"carpet\": [{\"aaxis\": {\"endlinecolor\": \"#2a3f5f\", \"gridcolor\": \"white\", \"linecolor\": \"white\", \"minorgridcolor\": \"white\", \"startlinecolor\": \"#2a3f5f\"}, \"baxis\": {\"endlinecolor\": \"#2a3f5f\", \"gridcolor\": \"white\", \"linecolor\": \"white\", \"minorgridcolor\": \"white\", \"startlinecolor\": \"#2a3f5f\"}, \"type\": \"carpet\"}], \"choropleth\": [{\"colorbar\": {\"outlinewidth\": 0, \"ticks\": \"\"}, \"type\": \"choropleth\"}], \"contour\": [{\"colorbar\": {\"outlinewidth\": 0, \"ticks\": \"\"}, \"colorscale\": [[0.0, \"#0d0887\"], [0.1111111111111111, \"#46039f\"], [0.2222222222222222, \"#7201a8\"], [0.3333333333333333, \"#9c179e\"], [0.4444444444444444, \"#bd3786\"], [0.5555555555555556, \"#d8576b\"], [0.6666666666666666, \"#ed7953\"], [0.7777777777777778, \"#fb9f3a\"], [0.8888888888888888, \"#fdca26\"], [1.0, \"#f0f921\"]], \"type\": \"contour\"}], \"contourcarpet\": [{\"colorbar\": {\"outlinewidth\": 0, \"ticks\": \"\"}, \"type\": \"contourcarpet\"}], \"heatmap\": [{\"colorbar\": {\"outlinewidth\": 0, \"ticks\": \"\"}, \"colorscale\": [[0.0, \"#0d0887\"], [0.1111111111111111, \"#46039f\"], [0.2222222222222222, \"#7201a8\"], [0.3333333333333333, \"#9c179e\"], [0.4444444444444444, \"#bd3786\"], [0.5555555555555556, \"#d8576b\"], [0.6666666666666666, \"#ed7953\"], [0.7777777777777778, \"#fb9f3a\"], [0.8888888888888888, \"#fdca26\"], [1.0, \"#f0f921\"]], \"type\": \"heatmap\"}], \"heatmapgl\": [{\"colorbar\": {\"outlinewidth\": 0, \"ticks\": \"\"}, \"colorscale\": [[0.0, \"#0d0887\"], [0.1111111111111111, \"#46039f\"], [0.2222222222222222, \"#7201a8\"], [0.3333333333333333, \"#9c179e\"], [0.4444444444444444, \"#bd3786\"], [0.5555555555555556, \"#d8576b\"], [0.6666666666666666, \"#ed7953\"], [0.7777777777777778, \"#fb9f3a\"], [0.8888888888888888, \"#fdca26\"], [1.0, \"#f0f921\"]], \"type\": \"heatmapgl\"}], \"histogram\": [{\"marker\": {\"colorbar\": {\"outlinewidth\": 0, \"ticks\": \"\"}}, \"type\": \"histogram\"}], \"histogram2d\": [{\"colorbar\": {\"outlinewidth\": 0, \"ticks\": \"\"}, \"colorscale\": [[0.0, \"#0d0887\"], [0.1111111111111111, \"#46039f\"], [0.2222222222222222, \"#7201a8\"], [0.3333333333333333, \"#9c179e\"], [0.4444444444444444, \"#bd3786\"], [0.5555555555555556, \"#d8576b\"], [0.6666666666666666, \"#ed7953\"], [0.7777777777777778, \"#fb9f3a\"], [0.8888888888888888, \"#fdca26\"], [1.0, \"#f0f921\"]], \"type\": \"histogram2d\"}], \"histogram2dcontour\": [{\"colorbar\": {\"outlinewidth\": 0, \"ticks\": \"\"}, \"colorscale\": [[0.0, \"#0d0887\"], [0.1111111111111111, \"#46039f\"], [0.2222222222222222, \"#7201a8\"], [0.3333333333333333, \"#9c179e\"], [0.4444444444444444, \"#bd3786\"], [0.5555555555555556, \"#d8576b\"], [0.6666666666666666, \"#ed7953\"], [0.7777777777777778, \"#fb9f3a\"], [0.8888888888888888, \"#fdca26\"], [1.0, \"#f0f921\"]], \"type\": \"histogram2dcontour\"}], \"mesh3d\": [{\"colorbar\": {\"outlinewidth\": 0, \"ticks\": \"\"}, \"type\": \"mesh3d\"}], \"parcoords\": [{\"line\": {\"colorbar\": {\"outlinewidth\": 0, \"ticks\": \"\"}}, \"type\": \"parcoords\"}], \"pie\": [{\"automargin\": true, \"type\": \"pie\"}], \"scatter\": [{\"marker\": {\"colorbar\": {\"outlinewidth\": 0, \"ticks\": \"\"}}, \"type\": \"scatter\"}], \"scatter3d\": [{\"line\": {\"colorbar\": {\"outlinewidth\": 0, \"ticks\": \"\"}}, \"marker\": {\"colorbar\": {\"outlinewidth\": 0, \"ticks\": \"\"}}, \"type\": \"scatter3d\"}], \"scattercarpet\": [{\"marker\": {\"colorbar\": {\"outlinewidth\": 0, \"ticks\": \"\"}}, \"type\": \"scattercarpet\"}], \"scattergeo\": [{\"marker\": {\"colorbar\": {\"outlinewidth\": 0, \"ticks\": \"\"}}, \"type\": \"scattergeo\"}], \"scattergl\": [{\"marker\": {\"colorbar\": {\"outlinewidth\": 0, \"ticks\": \"\"}}, \"type\": \"scattergl\"}], \"scattermapbox\": [{\"marker\": {\"colorbar\": {\"outlinewidth\": 0, \"ticks\": \"\"}}, \"type\": \"scattermapbox\"}], \"scatterpolar\": [{\"marker\": {\"colorbar\": {\"outlinewidth\": 0, \"ticks\": \"\"}}, \"type\": \"scatterpolar\"}], \"scatterpolargl\": [{\"marker\": {\"colorbar\": {\"outlinewidth\": 0, \"ticks\": \"\"}}, \"type\": \"scatterpolargl\"}], \"scatterternary\": [{\"marker\": {\"colorbar\": {\"outlinewidth\": 0, \"ticks\": \"\"}}, \"type\": \"scatterternary\"}], \"surface\": [{\"colorbar\": {\"outlinewidth\": 0, \"ticks\": \"\"}, \"colorscale\": [[0.0, \"#0d0887\"], [0.1111111111111111, \"#46039f\"], [0.2222222222222222, \"#7201a8\"], [0.3333333333333333, \"#9c179e\"], [0.4444444444444444, \"#bd3786\"], [0.5555555555555556, \"#d8576b\"], [0.6666666666666666, \"#ed7953\"], [0.7777777777777778, \"#fb9f3a\"], [0.8888888888888888, \"#fdca26\"], [1.0, \"#f0f921\"]], \"type\": \"surface\"}], \"table\": [{\"cells\": {\"fill\": {\"color\": \"#EBF0F8\"}, \"line\": {\"color\": \"white\"}}, \"header\": {\"fill\": {\"color\": \"#C8D4E3\"}, \"line\": {\"color\": \"white\"}}, \"type\": \"table\"}]}, \"layout\": {\"annotationdefaults\": {\"arrowcolor\": \"#2a3f5f\", \"arrowhead\": 0, \"arrowwidth\": 1}, \"autotypenumbers\": \"strict\", \"coloraxis\": {\"colorbar\": {\"outlinewidth\": 0, \"ticks\": \"\"}}, \"colorscale\": {\"diverging\": [[0, \"#8e0152\"], [0.1, \"#c51b7d\"], [0.2, \"#de77ae\"], [0.3, \"#f1b6da\"], [0.4, \"#fde0ef\"], [0.5, \"#f7f7f7\"], [0.6, \"#e6f5d0\"], [0.7, \"#b8e186\"], [0.8, \"#7fbc41\"], [0.9, \"#4d9221\"], [1, \"#276419\"]], \"sequential\": [[0.0, \"#0d0887\"], [0.1111111111111111, \"#46039f\"], [0.2222222222222222, \"#7201a8\"], [0.3333333333333333, \"#9c179e\"], [0.4444444444444444, \"#bd3786\"], [0.5555555555555556, \"#d8576b\"], [0.6666666666666666, \"#ed7953\"], [0.7777777777777778, \"#fb9f3a\"], [0.8888888888888888, \"#fdca26\"], [1.0, \"#f0f921\"]], \"sequentialminus\": [[0.0, \"#0d0887\"], [0.1111111111111111, \"#46039f\"], [0.2222222222222222, \"#7201a8\"], [0.3333333333333333, \"#9c179e\"], [0.4444444444444444, \"#bd3786\"], [0.5555555555555556, \"#d8576b\"], [0.6666666666666666, \"#ed7953\"], [0.7777777777777778, \"#fb9f3a\"], [0.8888888888888888, \"#fdca26\"], [1.0, \"#f0f921\"]]}, \"colorway\": [\"#636efa\", \"#EF553B\", \"#00cc96\", \"#ab63fa\", \"#FFA15A\", \"#19d3f3\", \"#FF6692\", \"#B6E880\", \"#FF97FF\", \"#FECB52\"], \"font\": {\"color\": \"#2a3f5f\"}, \"geo\": {\"bgcolor\": \"white\", \"lakecolor\": \"white\", \"landcolor\": \"#E5ECF6\", \"showlakes\": true, \"showland\": true, \"subunitcolor\": \"white\"}, \"hoverlabel\": {\"align\": \"left\"}, \"hovermode\": \"closest\", \"mapbox\": {\"style\": \"light\"}, \"paper_bgcolor\": \"white\", \"plot_bgcolor\": \"#E5ECF6\", \"polar\": {\"angularaxis\": {\"gridcolor\": \"white\", \"linecolor\": \"white\", \"ticks\": \"\"}, \"bgcolor\": \"#E5ECF6\", \"radialaxis\": {\"gridcolor\": \"white\", \"linecolor\": \"white\", \"ticks\": \"\"}}, \"scene\": {\"xaxis\": {\"backgroundcolor\": \"#E5ECF6\", \"gridcolor\": \"white\", \"gridwidth\": 2, \"linecolor\": \"white\", \"showbackground\": true, \"ticks\": \"\", \"zerolinecolor\": \"white\"}, \"yaxis\": {\"backgroundcolor\": \"#E5ECF6\", \"gridcolor\": \"white\", \"gridwidth\": 2, \"linecolor\": \"white\", \"showbackground\": true, \"ticks\": \"\", \"zerolinecolor\": \"white\"}, \"zaxis\": {\"backgroundcolor\": \"#E5ECF6\", \"gridcolor\": \"white\", \"gridwidth\": 2, \"linecolor\": \"white\", \"showbackground\": true, \"ticks\": \"\", \"zerolinecolor\": \"white\"}}, \"shapedefaults\": {\"line\": {\"color\": \"#2a3f5f\"}}, \"ternary\": {\"aaxis\": {\"gridcolor\": \"white\", \"linecolor\": \"white\", \"ticks\": \"\"}, \"baxis\": {\"gridcolor\": \"white\", \"linecolor\": \"white\", \"ticks\": \"\"}, \"bgcolor\": \"#E5ECF6\", \"caxis\": {\"gridcolor\": \"white\", \"linecolor\": \"white\", \"ticks\": \"\"}}, \"title\": {\"x\": 0.05}, \"xaxis\": {\"automargin\": true, \"gridcolor\": \"white\", \"linecolor\": \"white\", \"ticks\": \"\", \"title\": {\"standoff\": 15}, \"zerolinecolor\": \"white\", \"zerolinewidth\": 2}, \"yaxis\": {\"automargin\": true, \"gridcolor\": \"white\", \"linecolor\": \"white\", \"ticks\": \"\", \"title\": {\"standoff\": 15}, \"zerolinecolor\": \"white\", \"zerolinewidth\": 2}}}, \"width\": 1000},                        {\"responsive\": true}                    ).then(function(){\n",
       "                            \n",
       "var gd = document.getElementById('f2087587-0509-426d-a507-745c88328d42');\n",
       "var x = new MutationObserver(function (mutations, observer) {{\n",
       "        var display = window.getComputedStyle(gd).display;\n",
       "        if (!display || display === 'none') {{\n",
       "            console.log([gd, 'removed!']);\n",
       "            Plotly.purge(gd);\n",
       "            observer.disconnect();\n",
       "        }}\n",
       "}});\n",
       "\n",
       "// Listen for the removal of the full notebook cells\n",
       "var notebookContainer = gd.closest('#notebook-container');\n",
       "if (notebookContainer) {{\n",
       "    x.observe(notebookContainer, {childList: true});\n",
       "}}\n",
       "\n",
       "// Listen for the clearing of the current output cell\n",
       "var outputEl = gd.closest('.output');\n",
       "if (outputEl) {{\n",
       "    x.observe(outputEl, {childList: true});\n",
       "}}\n",
       "\n",
       "                        })                };                });            </script>        </div>"
      ]
     },
     "metadata": {},
     "output_type": "display_data"
    }
   ],
   "source": [
    "neighbourhood_map().show()"
   ]
  },
  {
   "cell_type": "code",
   "execution_count": 287,
   "metadata": {},
   "outputs": [
    {
     "data": {},
     "metadata": {},
     "output_type": "display_data"
    },
    {
     "data": {
      "application/vnd.holoviews_exec.v0+json": "",
      "text/html": [
       "<div id='202604'>\n",
       "\n",
       "\n",
       "\n",
       "\n",
       "\n",
       "  <div class=\"bk-root\" id=\"e88c836a-0a90-43fe-b151-aad68a0c9b03\" data-root-id=\"202604\"></div>\n",
       "</div>\n",
       "<script type=\"application/javascript\">(function(root) {\n",
       "  function embed_document(root) {\n",
       "    var docs_json = {\"e57fc7c6-062b-4c73-880e-cd3fd6cfff8d\":{\"roots\":{\"references\":[{\"attributes\":{\"axis_label\":\"Dwelling Type Units\",\"bounds\":\"auto\",\"formatter\":{\"id\":\"202646\"},\"major_label_orientation\":\"horizontal\",\"ticker\":{\"id\":\"202622\"}},\"id\":\"202621\",\"type\":\"LinearAxis\"},{\"attributes\":{},\"id\":\"202622\",\"type\":\"BasicTicker\"},{\"attributes\":{\"axis\":{\"id\":\"202621\"},\"dimension\":1,\"grid_line_color\":null,\"ticker\":null},\"id\":\"202624\",\"type\":\"Grid\"},{\"attributes\":{\"data\":{\"A_2016\":[269680,493270,95,71200,61565,48585,165575,2845],\"index\":[\"single_detached_house\",\"apartment_five_storeys_plus\",\"movable_dwelling\",\"semi_detached_house\",\"row_house\",\"duplex\",\"apartment_five_storeys_less\",\"other_house\"]},\"selected\":{\"id\":\"202639\"},\"selection_policy\":{\"id\":\"202658\"}},\"id\":\"202638\",\"type\":\"ColumnDataSource\"},{\"attributes\":{\"active_drag\":\"auto\",\"active_inspect\":\"auto\",\"active_multi\":null,\"active_scroll\":\"auto\",\"active_tap\":\"auto\",\"tools\":[{\"id\":\"202608\"},{\"id\":\"202625\"},{\"id\":\"202626\"},{\"id\":\"202627\"},{\"id\":\"202628\"},{\"id\":\"202629\"}]},\"id\":\"202631\",\"type\":\"Toolbar\"},{\"attributes\":{\"callback\":null,\"renderers\":[{\"id\":\"202644\"}],\"tags\":[\"hv_created\"],\"tooltips\":[[\"index\",\"@{index}\"],[\"2016\",\"@{A_2016}\"]]},\"id\":\"202608\",\"type\":\"HoverTool\"},{\"attributes\":{},\"id\":\"202648\",\"type\":\"CategoricalTickFormatter\"},{\"attributes\":{\"bottom_units\":\"screen\",\"fill_alpha\":0.5,\"fill_color\":\"lightgrey\",\"left_units\":\"screen\",\"level\":\"overlay\",\"line_alpha\":1.0,\"line_color\":\"black\",\"line_dash\":[4,4],\"line_width\":2,\"right_units\":\"screen\",\"top_units\":\"screen\"},\"id\":\"202630\",\"type\":\"BoxAnnotation\"},{\"attributes\":{\"data_source\":{\"id\":\"202638\"},\"glyph\":{\"id\":\"202641\"},\"hover_glyph\":null,\"muted_glyph\":{\"id\":\"202643\"},\"nonselection_glyph\":{\"id\":\"202642\"},\"selection_glyph\":null,\"view\":{\"id\":\"202645\"}},\"id\":\"202644\",\"type\":\"GlyphRenderer\"},{\"attributes\":{\"text\":\"number of dwelling types units in 2016\",\"text_color\":{\"value\":\"black\"},\"text_font_size\":{\"value\":\"12pt\"}},\"id\":\"202610\",\"type\":\"Title\"},{\"attributes\":{\"fill_color\":{\"value\":\"green\"},\"top\":{\"field\":\"A_2016\"},\"width\":{\"value\":0.8},\"x\":{\"field\":\"index\"}},\"id\":\"202641\",\"type\":\"VBar\"},{\"attributes\":{},\"id\":\"202625\",\"type\":\"SaveTool\"},{\"attributes\":{\"fill_alpha\":{\"value\":0.2},\"fill_color\":{\"value\":\"green\"},\"line_alpha\":{\"value\":0.2},\"top\":{\"field\":\"A_2016\"},\"width\":{\"value\":0.8},\"x\":{\"field\":\"index\"}},\"id\":\"202643\",\"type\":\"VBar\"},{\"attributes\":{\"below\":[{\"id\":\"202618\"}],\"center\":[{\"id\":\"202620\"},{\"id\":\"202624\"}],\"left\":[{\"id\":\"202621\"}],\"margin\":[5,5,5,5],\"min_border_bottom\":10,\"min_border_left\":10,\"min_border_right\":10,\"min_border_top\":10,\"renderers\":[{\"id\":\"202644\"}],\"sizing_mode\":\"fixed\",\"title\":{\"id\":\"202610\"},\"toolbar\":{\"id\":\"202631\"},\"x_range\":{\"id\":\"202606\"},\"x_scale\":{\"id\":\"202614\"},\"y_range\":{\"id\":\"202607\"},\"y_scale\":{\"id\":\"202616\"}},\"id\":\"202609\",\"subtype\":\"Figure\",\"type\":\"Plot\"},{\"attributes\":{},\"id\":\"202626\",\"type\":\"PanTool\"},{\"attributes\":{\"margin\":[5,5,5,5],\"name\":\"HSpacer94953\",\"sizing_mode\":\"stretch_width\"},\"id\":\"202667\",\"type\":\"Spacer\"},{\"attributes\":{},\"id\":\"202629\",\"type\":\"ResetTool\"},{\"attributes\":{},\"id\":\"202627\",\"type\":\"WheelZoomTool\"},{\"attributes\":{\"source\":{\"id\":\"202638\"}},\"id\":\"202645\",\"type\":\"CDSView\"},{\"attributes\":{},\"id\":\"202639\",\"type\":\"Selection\"},{\"attributes\":{},\"id\":\"202614\",\"type\":\"CategoricalScale\"},{\"attributes\":{\"axis\":{\"id\":\"202618\"},\"grid_line_color\":null,\"ticker\":null},\"id\":\"202620\",\"type\":\"Grid\"},{\"attributes\":{\"overlay\":{\"id\":\"202630\"}},\"id\":\"202628\",\"type\":\"BoxZoomTool\"},{\"attributes\":{\"children\":[{\"id\":\"202605\"},{\"id\":\"202609\"},{\"id\":\"202667\"}],\"margin\":[0,0,0,0],\"name\":\"Row94948\",\"tags\":[\"embedded\"]},\"id\":\"202604\",\"type\":\"Row\"},{\"attributes\":{\"end\":542587.5,\"reset_end\":542587.5,\"reset_start\":0.0,\"tags\":[[[\"2016\",\"2016\",null]]]},\"id\":\"202607\",\"type\":\"Range1d\"},{\"attributes\":{\"fill_alpha\":{\"value\":0.1},\"fill_color\":{\"value\":\"green\"},\"line_alpha\":{\"value\":0.1},\"top\":{\"field\":\"A_2016\"},\"width\":{\"value\":0.8},\"x\":{\"field\":\"index\"}},\"id\":\"202642\",\"type\":\"VBar\"},{\"attributes\":{},\"id\":\"202658\",\"type\":\"UnionRenderers\"},{\"attributes\":{\"format\":\"%.0f\"},\"id\":\"202646\",\"type\":\"PrintfTickFormatter\"},{\"attributes\":{},\"id\":\"202619\",\"type\":\"CategoricalTicker\"},{\"attributes\":{\"factors\":[\"single_detached_house\",\"apartment_five_storeys_plus\",\"movable_dwelling\",\"semi_detached_house\",\"row_house\",\"duplex\",\"apartment_five_storeys_less\",\"other_house\"],\"tags\":[[[\"index\",\"index\",null]]]},\"id\":\"202606\",\"type\":\"FactorRange\"},{\"attributes\":{\"axis_label\":\"2016\",\"bounds\":\"auto\",\"formatter\":{\"id\":\"202648\"},\"major_label_orientation\":1.5707963267948966,\"ticker\":{\"id\":\"202619\"}},\"id\":\"202618\",\"type\":\"CategoricalAxis\"},{\"attributes\":{},\"id\":\"202616\",\"type\":\"LinearScale\"},{\"attributes\":{\"margin\":[5,5,5,5],\"name\":\"HSpacer94952\",\"sizing_mode\":\"stretch_width\"},\"id\":\"202605\",\"type\":\"Spacer\"}],\"root_ids\":[\"202604\"]},\"title\":\"Bokeh Application\",\"version\":\"2.2.3\"}};\n",
       "    var render_items = [{\"docid\":\"e57fc7c6-062b-4c73-880e-cd3fd6cfff8d\",\"root_ids\":[\"202604\"],\"roots\":{\"202604\":\"e88c836a-0a90-43fe-b151-aad68a0c9b03\"}}];\n",
       "    root.Bokeh.embed.embed_items_notebook(docs_json, render_items);\n",
       "  }\n",
       "  if (root.Bokeh !== undefined && root.Bokeh.Panel !== undefined && root['Plotly'] !== undefined ) {\n",
       "    embed_document(root);\n",
       "  } else {\n",
       "    var attempts = 0;\n",
       "    var timer = setInterval(function(root) {\n",
       "      if (root.Bokeh !== undefined && root.Bokeh.Panel !== undefined && root['Plotly'] !== undefined) {\n",
       "        clearInterval(timer);\n",
       "        embed_document(root);\n",
       "      } else if (document.readyState == \"complete\") {\n",
       "        attempts++;\n",
       "        if (attempts > 100) {\n",
       "          clearInterval(timer);\n",
       "          console.log(\"Bokeh: ERROR: Unable to run BokehJS code because BokehJS library is missing\");\n",
       "        }\n",
       "      }\n",
       "    }, 10, root)\n",
       "  }\n",
       "})(window);</script>"
      ],
      "text/plain": [
       ":Bars   [index]   (2016)"
      ]
     },
     "execution_count": 287,
     "metadata": {
      "application/vnd.holoviews_exec.v0+json": {
       "id": "202604"
      }
     },
     "output_type": "execute_result"
    }
   ],
   "source": [
    "\n",
    "# # Bar chart for 2001\n",
    "bar_2001()\n",
    "\n",
    "# # Bar chart for 2006\n",
    "bar_2006()\n",
    "\n",
    "# # Bar chart for 2011\n",
    "bar_2011()\n",
    "\n",
    "# # Bar chart for 2016\n",
    "bar_2016()"
   ]
  },
  {
   "cell_type": "code",
   "execution_count": 288,
   "metadata": {},
   "outputs": [
    {
     "data": {},
     "metadata": {},
     "output_type": "display_data"
    },
    {
     "data": {
      "application/vnd.holoviews_exec.v0+json": "",
      "text/html": [
       "<div id='202704'>\n",
       "\n",
       "\n",
       "\n",
       "\n",
       "\n",
       "  <div class=\"bk-root\" id=\"a2baa2bd-7698-4a3f-b53f-b59f5be2d8c6\" data-root-id=\"202704\"></div>\n",
       "</div>\n",
       "<script type=\"application/javascript\">(function(root) {\n",
       "  function embed_document(root) {\n",
       "    var docs_json = {\"29b5b9de-5eb1-4190-ac29-8fe158c6a390\":{\"roots\":{\"references\":[{\"attributes\":{\"data\":{\"shelter_costs_rented\":{\"__ndarray__\":\"LL7iK773kEB1UAd1UOuMQMVXfMVX3o9AJUmSJEmhk0A=\",\"dtype\":\"float64\",\"order\":\"little\",\"shape\":[4]},\"year\":[2001,2006,2011,2016]},\"selected\":{\"id\":\"202740\"},\"selection_policy\":{\"id\":\"202759\"}},\"id\":\"202739\",\"type\":\"ColumnDataSource\"},{\"attributes\":{\"margin\":[5,5,5,5],\"name\":\"HSpacer95264\",\"sizing_mode\":\"stretch_width\"},\"id\":\"202705\",\"type\":\"Spacer\"},{\"attributes\":{\"axis\":{\"id\":\"202722\"},\"dimension\":1,\"grid_line_color\":null,\"ticker\":null},\"id\":\"202725\",\"type\":\"Grid\"},{\"attributes\":{\"axis\":{\"id\":\"202718\"},\"grid_line_color\":null,\"ticker\":null},\"id\":\"202721\",\"type\":\"Grid\"},{\"attributes\":{},\"id\":\"202723\",\"type\":\"BasicTicker\"},{\"attributes\":{\"text\":\"average monthly shelter costs for rented dwelling in Toronto\",\"text_color\":{\"value\":\"black\"},\"text_font_size\":{\"value\":\"12pt\"}},\"id\":\"202710\",\"type\":\"Title\"},{\"attributes\":{\"axis_label\":\"Average Monthy Shelter Cost\",\"bounds\":\"auto\",\"formatter\":{\"id\":\"202747\"},\"major_label_orientation\":\"horizontal\",\"ticker\":{\"id\":\"202723\"}},\"id\":\"202722\",\"type\":\"LinearAxis\"},{\"attributes\":{\"source\":{\"id\":\"202739\"}},\"id\":\"202746\",\"type\":\"CDSView\"},{\"attributes\":{},\"id\":\"202759\",\"type\":\"UnionRenderers\"},{\"attributes\":{\"line_color\":\"blue\",\"line_width\":2,\"x\":{\"field\":\"year\"},\"y\":{\"field\":\"shelter_costs_rented\"}},\"id\":\"202742\",\"type\":\"Line\"},{\"attributes\":{\"bottom_units\":\"screen\",\"fill_alpha\":0.5,\"fill_color\":\"lightgrey\",\"left_units\":\"screen\",\"level\":\"overlay\",\"line_alpha\":1.0,\"line_color\":\"black\",\"line_dash\":[4,4],\"line_width\":2,\"right_units\":\"screen\",\"top_units\":\"screen\"},\"id\":\"202731\",\"type\":\"BoxAnnotation\"},{\"attributes\":{\"below\":[{\"id\":\"202718\"}],\"center\":[{\"id\":\"202721\"},{\"id\":\"202725\"}],\"left\":[{\"id\":\"202722\"}],\"margin\":[5,5,5,5],\"min_border_bottom\":10,\"min_border_left\":10,\"min_border_right\":10,\"min_border_top\":10,\"renderers\":[{\"id\":\"202745\"}],\"sizing_mode\":\"fixed\",\"title\":{\"id\":\"202710\"},\"toolbar\":{\"id\":\"202732\"},\"x_range\":{\"id\":\"202706\"},\"x_scale\":{\"id\":\"202714\"},\"y_range\":{\"id\":\"202707\"},\"y_scale\":{\"id\":\"202716\"}},\"id\":\"202709\",\"subtype\":\"Figure\",\"type\":\"Plot\"},{\"attributes\":{\"callback\":null,\"renderers\":[{\"id\":\"202745\"}],\"tags\":[\"hv_created\"],\"tooltips\":[[\"year\",\"@{year}\"],[\"shelter_costs_rented\",\"@{shelter_costs_rented}\"]]},\"id\":\"202708\",\"type\":\"HoverTool\"},{\"attributes\":{\"end\":1289.412142857143,\"reset_end\":1289.412142857143,\"reset_start\":892.3235714285714,\"start\":892.3235714285714,\"tags\":[[[\"shelter_costs_rented\",\"shelter_costs_rented\",null]]]},\"id\":\"202707\",\"type\":\"Range1d\"},{\"attributes\":{},\"id\":\"202749\",\"type\":\"BasicTickFormatter\"},{\"attributes\":{},\"id\":\"202740\",\"type\":\"Selection\"},{\"attributes\":{\"active_drag\":\"auto\",\"active_inspect\":\"auto\",\"active_multi\":null,\"active_scroll\":\"auto\",\"active_tap\":\"auto\",\"tools\":[{\"id\":\"202708\"},{\"id\":\"202726\"},{\"id\":\"202727\"},{\"id\":\"202728\"},{\"id\":\"202729\"},{\"id\":\"202730\"}]},\"id\":\"202732\",\"type\":\"Toolbar\"},{\"attributes\":{\"end\":2016.0,\"reset_end\":2016.0,\"reset_start\":2001.0,\"start\":2001.0,\"tags\":[[[\"year\",\"year\",null]]]},\"id\":\"202706\",\"type\":\"Range1d\"},{\"attributes\":{\"format\":\"%.0f\"},\"id\":\"202747\",\"type\":\"PrintfTickFormatter\"},{\"attributes\":{},\"id\":\"202726\",\"type\":\"SaveTool\"},{\"attributes\":{},\"id\":\"202727\",\"type\":\"PanTool\"},{\"attributes\":{\"line_alpha\":0.2,\"line_color\":\"blue\",\"line_width\":2,\"x\":{\"field\":\"year\"},\"y\":{\"field\":\"shelter_costs_rented\"}},\"id\":\"202744\",\"type\":\"Line\"},{\"attributes\":{},\"id\":\"202730\",\"type\":\"ResetTool\"},{\"attributes\":{},\"id\":\"202714\",\"type\":\"LinearScale\"},{\"attributes\":{},\"id\":\"202728\",\"type\":\"WheelZoomTool\"},{\"attributes\":{},\"id\":\"202716\",\"type\":\"LinearScale\"},{\"attributes\":{\"overlay\":{\"id\":\"202731\"}},\"id\":\"202729\",\"type\":\"BoxZoomTool\"},{\"attributes\":{\"margin\":[5,5,5,5],\"name\":\"HSpacer95265\",\"sizing_mode\":\"stretch_width\"},\"id\":\"202768\",\"type\":\"Spacer\"},{\"attributes\":{\"data_source\":{\"id\":\"202739\"},\"glyph\":{\"id\":\"202742\"},\"hover_glyph\":null,\"muted_glyph\":{\"id\":\"202744\"},\"nonselection_glyph\":{\"id\":\"202743\"},\"selection_glyph\":null,\"view\":{\"id\":\"202746\"}},\"id\":\"202745\",\"type\":\"GlyphRenderer\"},{\"attributes\":{\"children\":[{\"id\":\"202705\"},{\"id\":\"202709\"},{\"id\":\"202768\"}],\"margin\":[0,0,0,0],\"name\":\"Row95260\",\"tags\":[\"embedded\"]},\"id\":\"202704\",\"type\":\"Row\"},{\"attributes\":{\"axis_label\":\"year\",\"bounds\":\"auto\",\"formatter\":{\"id\":\"202749\"},\"major_label_orientation\":1.5707963267948966,\"ticker\":{\"id\":\"202719\"}},\"id\":\"202718\",\"type\":\"LinearAxis\"},{\"attributes\":{\"line_alpha\":0.1,\"line_color\":\"blue\",\"line_width\":2,\"x\":{\"field\":\"year\"},\"y\":{\"field\":\"shelter_costs_rented\"}},\"id\":\"202743\",\"type\":\"Line\"},{\"attributes\":{},\"id\":\"202719\",\"type\":\"BasicTicker\"}],\"root_ids\":[\"202704\"]},\"title\":\"Bokeh Application\",\"version\":\"2.2.3\"}};\n",
       "    var render_items = [{\"docid\":\"29b5b9de-5eb1-4190-ac29-8fe158c6a390\",\"root_ids\":[\"202704\"],\"roots\":{\"202704\":\"a2baa2bd-7698-4a3f-b53f-b59f5be2d8c6\"}}];\n",
       "    root.Bokeh.embed.embed_items_notebook(docs_json, render_items);\n",
       "  }\n",
       "  if (root.Bokeh !== undefined && root.Bokeh.Panel !== undefined && root['Plotly'] !== undefined ) {\n",
       "    embed_document(root);\n",
       "  } else {\n",
       "    var attempts = 0;\n",
       "    var timer = setInterval(function(root) {\n",
       "      if (root.Bokeh !== undefined && root.Bokeh.Panel !== undefined && root['Plotly'] !== undefined) {\n",
       "        clearInterval(timer);\n",
       "        embed_document(root);\n",
       "      } else if (document.readyState == \"complete\") {\n",
       "        attempts++;\n",
       "        if (attempts > 100) {\n",
       "          clearInterval(timer);\n",
       "          console.log(\"Bokeh: ERROR: Unable to run BokehJS code because BokehJS library is missing\");\n",
       "        }\n",
       "      }\n",
       "    }, 10, root)\n",
       "  }\n",
       "})(window);</script>"
      ],
      "text/plain": [
       ":Curve   [year]   (shelter_costs_rented)"
      ]
     },
     "execution_count": 288,
     "metadata": {
      "application/vnd.holoviews_exec.v0+json": {
       "id": "202704"
      }
     },
     "output_type": "execute_result"
    }
   ],
   "source": [
    "# # Line chart for owned dwellings\n",
    "month_owned()\n",
    "# # Line chart for rented dwellings\n",
    "month_rent()"
   ]
  },
  {
   "cell_type": "code",
   "execution_count": 289,
   "metadata": {},
   "outputs": [
    {
     "data": {},
     "metadata": {},
     "output_type": "display_data"
    },
    {
     "data": {
      "application/vnd.holoviews_exec.v0+json": "",
      "text/html": [
       "<div id='202805'>\n",
       "\n",
       "\n",
       "\n",
       "\n",
       "\n",
       "  <div class=\"bk-root\" id=\"af33f25f-e9ef-4658-8839-3718045d1ffa\" data-root-id=\"202805\"></div>\n",
       "</div>\n",
       "<script type=\"application/javascript\">(function(root) {\n",
       "  function embed_document(root) {\n",
       "    var docs_json = {\"5df0a445-cc9b-4a3a-9c5c-3bcb511694f5\":{\"roots\":{\"references\":[{\"attributes\":{},\"id\":\"202860\",\"type\":\"UnionRenderers\"},{\"attributes\":{},\"id\":\"202828\",\"type\":\"PanTool\"},{\"attributes\":{},\"id\":\"202817\",\"type\":\"LinearScale\"},{\"attributes\":{\"callback\":null,\"renderers\":[{\"id\":\"202846\"}],\"tags\":[\"hv_created\"],\"tooltips\":[[\"year\",\"@{year}\"],[\"average_house_value\",\"@{average_house_value}\"]]},\"id\":\"202809\",\"type\":\"HoverTool\"},{\"attributes\":{\"source\":{\"id\":\"202840\"}},\"id\":\"202847\",\"type\":\"CDSView\"},{\"attributes\":{\"data\":{\"average_house_value\":{\"__ndarray__\":\"i6/4imuxEUGogzqo7uEZQfEVX3HxLyBBqIM6qAhEJEE=\",\"dtype\":\"float64\",\"order\":\"little\",\"shape\":[4]},\"year\":[2001,2006,2011,2016]},\"selected\":{\"id\":\"202841\"},\"selection_policy\":{\"id\":\"202860\"}},\"id\":\"202840\",\"type\":\"ColumnDataSource\"},{\"attributes\":{\"children\":[{\"id\":\"202806\"},{\"id\":\"202810\"},{\"id\":\"202869\"}],\"margin\":[0,0,0,0],\"name\":\"Row95482\",\"tags\":[\"embedded\"]},\"id\":\"202805\",\"type\":\"Row\"},{\"attributes\":{\"axis\":{\"id\":\"202819\"},\"grid_line_color\":null,\"ticker\":null},\"id\":\"202822\",\"type\":\"Grid\"},{\"attributes\":{\"axis_label\":\"year\",\"bounds\":\"auto\",\"formatter\":{\"id\":\"202850\"},\"major_label_orientation\":1.5707963267948966,\"ticker\":{\"id\":\"202820\"}},\"id\":\"202819\",\"type\":\"LinearAxis\"},{\"attributes\":{\"below\":[{\"id\":\"202819\"}],\"center\":[{\"id\":\"202822\"},{\"id\":\"202826\"}],\"left\":[{\"id\":\"202823\"}],\"margin\":[5,5,5,5],\"min_border_bottom\":10,\"min_border_left\":10,\"min_border_right\":10,\"min_border_top\":10,\"renderers\":[{\"id\":\"202846\"}],\"sizing_mode\":\"fixed\",\"title\":{\"id\":\"202811\"},\"toolbar\":{\"id\":\"202833\"},\"x_range\":{\"id\":\"202807\"},\"x_scale\":{\"id\":\"202815\"},\"y_range\":{\"id\":\"202808\"},\"y_scale\":{\"id\":\"202817\"}},\"id\":\"202810\",\"subtype\":\"Figure\",\"type\":\"Plot\"},{\"attributes\":{\"axis\":{\"id\":\"202823\"},\"dimension\":1,\"grid_line_color\":null,\"ticker\":null},\"id\":\"202826\",\"type\":\"Grid\"},{\"attributes\":{},\"id\":\"202824\",\"type\":\"BasicTicker\"},{\"attributes\":{},\"id\":\"202841\",\"type\":\"Selection\"},{\"attributes\":{\"text\":\"average house price in Toronto\",\"text_color\":{\"value\":\"black\"},\"text_font_size\":{\"value\":\"12pt\"}},\"id\":\"202811\",\"type\":\"Title\"},{\"attributes\":{},\"id\":\"202820\",\"type\":\"BasicTicker\"},{\"attributes\":{\"line_color\":\"blue\",\"line_width\":2,\"x\":{\"field\":\"year\"},\"y\":{\"field\":\"average_house_value\"}},\"id\":\"202843\",\"type\":\"Line\"},{\"attributes\":{},\"id\":\"202827\",\"type\":\"SaveTool\"},{\"attributes\":{},\"id\":\"202850\",\"type\":\"BasicTickFormatter\"},{\"attributes\":{},\"id\":\"202815\",\"type\":\"LinearScale\"},{\"attributes\":{\"format\":\"%.0f\"},\"id\":\"202848\",\"type\":\"PrintfTickFormatter\"},{\"attributes\":{\"overlay\":{\"id\":\"202832\"}},\"id\":\"202830\",\"type\":\"BoxZoomTool\"},{\"attributes\":{\"bottom_units\":\"screen\",\"fill_alpha\":0.5,\"fill_color\":\"lightgrey\",\"left_units\":\"screen\",\"level\":\"overlay\",\"line_alpha\":1.0,\"line_color\":\"black\",\"line_dash\":[4,4],\"line_width\":2,\"right_units\":\"screen\",\"top_units\":\"screen\"},\"id\":\"202832\",\"type\":\"BoxAnnotation\"},{\"attributes\":{\"axis_label\":\"Average House Price\",\"bounds\":\"auto\",\"formatter\":{\"id\":\"202848\"},\"major_label_orientation\":\"horizontal\",\"ticker\":{\"id\":\"202824\"}},\"id\":\"202823\",\"type\":\"LinearAxis\"},{\"attributes\":{\"line_alpha\":0.1,\"line_color\":\"blue\",\"line_width\":2,\"x\":{\"field\":\"year\"},\"y\":{\"field\":\"average_house_value\"}},\"id\":\"202844\",\"type\":\"Line\"},{\"attributes\":{\"data_source\":{\"id\":\"202840\"},\"glyph\":{\"id\":\"202843\"},\"hover_glyph\":null,\"muted_glyph\":{\"id\":\"202845\"},\"nonselection_glyph\":{\"id\":\"202844\"},\"selection_glyph\":null,\"view\":{\"id\":\"202847\"}},\"id\":\"202846\",\"type\":\"GlyphRenderer\"},{\"attributes\":{},\"id\":\"202831\",\"type\":\"ResetTool\"},{\"attributes\":{\"line_alpha\":0.2,\"line_color\":\"blue\",\"line_width\":2,\"x\":{\"field\":\"year\"},\"y\":{\"field\":\"average_house_value\"}},\"id\":\"202845\",\"type\":\"Line\"},{\"attributes\":{\"margin\":[5,5,5,5],\"name\":\"HSpacer95486\",\"sizing_mode\":\"stretch_width\"},\"id\":\"202806\",\"type\":\"Spacer\"},{\"attributes\":{\"end\":701486.8728571428,\"reset_end\":701486.8728571428,\"reset_start\":252464.34142857144,\"start\":252464.34142857144,\"tags\":[[[\"average_house_value\",\"average_house_value\",null]]]},\"id\":\"202808\",\"type\":\"Range1d\"},{\"attributes\":{\"end\":2016.0,\"reset_end\":2016.0,\"reset_start\":2001.0,\"start\":2001.0,\"tags\":[[[\"year\",\"year\",null]]]},\"id\":\"202807\",\"type\":\"Range1d\"},{\"attributes\":{},\"id\":\"202829\",\"type\":\"WheelZoomTool\"},{\"attributes\":{\"active_drag\":\"auto\",\"active_inspect\":\"auto\",\"active_multi\":null,\"active_scroll\":\"auto\",\"active_tap\":\"auto\",\"tools\":[{\"id\":\"202809\"},{\"id\":\"202827\"},{\"id\":\"202828\"},{\"id\":\"202829\"},{\"id\":\"202830\"},{\"id\":\"202831\"}]},\"id\":\"202833\",\"type\":\"Toolbar\"},{\"attributes\":{\"margin\":[5,5,5,5],\"name\":\"HSpacer95487\",\"sizing_mode\":\"stretch_width\"},\"id\":\"202869\",\"type\":\"Spacer\"}],\"root_ids\":[\"202805\"]},\"title\":\"Bokeh Application\",\"version\":\"2.2.3\"}};\n",
       "    var render_items = [{\"docid\":\"5df0a445-cc9b-4a3a-9c5c-3bcb511694f5\",\"root_ids\":[\"202805\"],\"roots\":{\"202805\":\"af33f25f-e9ef-4658-8839-3718045d1ffa\"}}];\n",
       "    root.Bokeh.embed.embed_items_notebook(docs_json, render_items);\n",
       "  }\n",
       "  if (root.Bokeh !== undefined && root.Bokeh.Panel !== undefined && root['Plotly'] !== undefined ) {\n",
       "    embed_document(root);\n",
       "  } else {\n",
       "    var attempts = 0;\n",
       "    var timer = setInterval(function(root) {\n",
       "      if (root.Bokeh !== undefined && root.Bokeh.Panel !== undefined && root['Plotly'] !== undefined) {\n",
       "        clearInterval(timer);\n",
       "        embed_document(root);\n",
       "      } else if (document.readyState == \"complete\") {\n",
       "        attempts++;\n",
       "        if (attempts > 100) {\n",
       "          clearInterval(timer);\n",
       "          console.log(\"Bokeh: ERROR: Unable to run BokehJS code because BokehJS library is missing\");\n",
       "        }\n",
       "      }\n",
       "    }, 10, root)\n",
       "  }\n",
       "})(window);</script>"
      ],
      "text/plain": [
       ":Curve   [year]   (average_house_value)"
      ]
     },
     "execution_count": 289,
     "metadata": {
      "application/vnd.holoviews_exec.v0+json": {
       "id": "202805"
      }
     },
     "output_type": "execute_result"
    }
   ],
   "source": [
    "average_house_val()\n"
   ]
  },
  {
   "cell_type": "code",
   "execution_count": 290,
   "metadata": {},
   "outputs": [
    {
     "data": {},
     "metadata": {},
     "output_type": "display_data"
    },
    {
     "data": {
      "application/vnd.holoviews_exec.v0+json": "",
      "text/html": [
       "<div id='202906'>\n",
       "\n",
       "\n",
       "\n",
       "\n",
       "\n",
       "  <div class=\"bk-root\" id=\"b69b0100-edcb-4e6f-a901-20b3a471452b\" data-root-id=\"202906\"></div>\n",
       "</div>\n",
       "<script type=\"application/javascript\">(function(root) {\n",
       "  function embed_document(root) {\n",
       "    var docs_json = {\"8976d718-f286-4565-874e-c8fd5b83f43b\":{\"roots\":{\"references\":[{\"attributes\":{},\"id\":\"202930\",\"type\":\"WheelZoomTool\"},{\"attributes\":{\"margin\":[20,20,20,20],\"min_width\":250,\"options\":[\"Agincourt North\",\"Agincourt South-Malvern West\",\"Alderwood\",\"Annex\",\"Banbury-Don Mills\",\"Bathurst Manor\",\"Bay Street Corridor\",\"Bayview Village\",\"Bayview Woods-Steeles\",\"Bedford Park-Nortown\",\"Beechborough-Greenbrook\",\"Bendale\",\"Birchcliffe-Cliffside\",\"Black Creek\",\"Blake-Jones\",\"Briar Hill-Belgravia\",\"Bridle Path-Sunnybrook-York Mills\",\"Broadview North\",\"Brookhaven-Amesbury\",\"Cabbagetown-South St.James Town\",\"Caledonia-Fairbank\",\"Casa Loma\",\"Centennial Scarborough\",\"Church-Yonge Corridor\",\"Clairlea-Birchmount\",\"Clanton Park\",\"Cliffcrest\",\"Corso Italia-Davenport\",\"Danforth\",\"Danforth-East York\",\"Don Valley Village\",\"Dorset Park\",\"Dovercourt-Wallace Emerson-Juncti\",\"Downsview-Roding-CFB\",\"Dufferin Grove\",\"East End-Danforth\",\"Edenbridge-Humber Valley\",\"Eglinton East\",\"Elms-Old Rexdale\",\"Englemount-Lawrence\",\"Eringate-Centennial-West Deane\",\"Etobicoke West Mall\",\"Flemingdon Park\",\"Forest Hill North\",\"Forest Hill South\",\"Glenfield-Jane Heights\",\"Greenwood-Coxwell\",\"Guildwood\",\"Henry Farm\",\"High Park North\",\"High Park-Swansea\",\"Highland Creek\",\"Hillcrest Village\",\"Humber Heights-Westmount\",\"Humber Summit\",\"Humbermede\",\"Humewood-Cedarvale\",\"Ionview\",\"Islington-City Centre West\",\"Junction Area\",\"Keelesdale-Eglinton West\",\"Kennedy Park\",\"Kensington-Chinatown\",\"Kingsview Village-The Westway\",\"Kingsway South\",\"L'Amoreaux\",\"Lambton Baby Point\",\"Lansing-Westgate\",\"Lawrence Park North\",\"Lawrence Park South\",\"Leaside-Bennington\",\"Little Portugal\",\"Long Branch\",\"Malvern\",\"Maple Leaf\",\"Markland Wood\",\"Milliken\",\"Mimico\",\"Morningside\",\"Moss Park\",\"Mount Dennis\",\"Mount Olive-Silverstone-Jamestown\",\"Mount Pleasant East\",\"Mount Pleasant West\",\"New Toronto\",\"Newtonbrook East\",\"Newtonbrook West\",\"Niagara\",\"North Riverdale\",\"North St.James Town\",\"O'Connor-Parkview\",\"Oakridge\",\"Oakwood Village\",\"Old East York\",\"Palmerston-Little Italy\",\"Parkwoods-Donalda\",\"Pelmo Park-Humberlea\",\"Playter Estates-Danforth\",\"Pleasant View\",\"Princess-Rosethorn\",\"Regent Park\",\"Rexdale-Kipling\",\"Rockcliffe-Smythe\",\"Roncesvalles\",\"Rosedale-Moore Park\",\"Rouge\",\"Runnymede-Bloor West Village\",\"Rustic\",\"Scarborough Village\",\"South Parkdale\",\"South Riverdale\",\"St.Andrew-Windfields\",\"Steeles\",\"Stonegate-Queensway\",\"Tam O'Shanter-Sullivan\",\"Taylor-Massey\",\"The Beaches\",\"Thistletown-Beaumond Heights\",\"Thorncliffe Park\",\"Trinity-Bellwoods\",\"University\",\"Victoria Village\",\"Waterfront Communities-The Island\",\"West Hill\",\"West Humber-Clairville\",\"Westminster-Branson\",\"Weston\",\"Weston-Pellam Park\",\"Wexford/Maryvale\",\"Willowdale East\",\"Willowdale West\",\"Willowridge-Martingrove-Richview\",\"Woburn\",\"Woodbine Corridor\",\"Woodbine-Lumsden\",\"Wychwood\",\"Yonge-Eglinton\",\"Yonge-St.Clair\",\"York University Heights\",\"Yorkdale-Glen Park\"],\"title\":\"neighbourhood\",\"value\":\"Agincourt North\",\"width\":250},\"id\":\"202978\",\"type\":\"Select\"},{\"attributes\":{},\"id\":\"202932\",\"type\":\"ResetTool\"},{\"attributes\":{\"data\":{\"average_house_value\":[200388,293140,366667,459051],\"year\":[2001,2006,2011,2016]},\"selected\":{\"id\":\"202942\"},\"selection_policy\":{\"id\":\"202965\"}},\"id\":\"202941\",\"type\":\"ColumnDataSource\"},{\"attributes\":{\"overlay\":{\"id\":\"202933\"}},\"id\":\"202931\",\"type\":\"BoxZoomTool\"},{\"attributes\":{},\"id\":\"202916\",\"type\":\"LinearScale\"},{\"attributes\":{\"axis_label\":\"year\",\"bounds\":\"auto\",\"formatter\":{\"id\":\"202951\"},\"major_label_orientation\":1.5707963267948966,\"ticker\":{\"id\":\"202921\"}},\"id\":\"202920\",\"type\":\"LinearAxis\"},{\"attributes\":{},\"id\":\"202951\",\"type\":\"BasicTickFormatter\"},{\"attributes\":{},\"id\":\"202918\",\"type\":\"LinearScale\"},{\"attributes\":{\"children\":[{\"id\":\"202978\"}],\"css_classes\":[\"panel-widget-box\"],\"margin\":[5,5,5,5],\"name\":\"WidgetBox95608\"},\"id\":\"202977\",\"type\":\"Column\"},{\"attributes\":{\"margin\":[5,5,5,5],\"name\":\"VSpacer95614\",\"sizing_mode\":\"stretch_height\"},\"id\":\"202979\",\"type\":\"Spacer\"},{\"attributes\":{},\"id\":\"202929\",\"type\":\"PanTool\"},{\"attributes\":{},\"id\":\"202921\",\"type\":\"BasicTicker\"},{\"attributes\":{\"axis\":{\"id\":\"202924\"},\"dimension\":1,\"grid_line_color\":null,\"ticker\":null},\"id\":\"202927\",\"type\":\"Grid\"},{\"attributes\":{\"axis\":{\"id\":\"202920\"},\"grid_line_color\":null,\"ticker\":null},\"id\":\"202923\",\"type\":\"Grid\"},{\"attributes\":{\"margin\":[5,5,5,5],\"name\":\"VSpacer95613\",\"sizing_mode\":\"stretch_height\"},\"id\":\"202976\",\"type\":\"Spacer\"},{\"attributes\":{},\"id\":\"202925\",\"type\":\"BasicTicker\"},{\"attributes\":{\"axis_label\":\"average_house_value\",\"bounds\":\"auto\",\"formatter\":{\"id\":\"202949\"},\"major_label_orientation\":\"horizontal\",\"ticker\":{\"id\":\"202925\"}},\"id\":\"202924\",\"type\":\"LinearAxis\"},{\"attributes\":{\"active_drag\":\"auto\",\"active_inspect\":\"auto\",\"active_multi\":null,\"active_scroll\":\"auto\",\"active_tap\":\"auto\",\"tools\":[{\"id\":\"202910\"},{\"id\":\"202928\"},{\"id\":\"202929\"},{\"id\":\"202930\"},{\"id\":\"202931\"},{\"id\":\"202932\"}]},\"id\":\"202934\",\"type\":\"Toolbar\"},{\"attributes\":{\"line_alpha\":0.1,\"line_width\":2,\"x\":{\"field\":\"year\"},\"y\":{\"field\":\"average_house_value\"}},\"id\":\"202945\",\"type\":\"Line\"},{\"attributes\":{},\"id\":\"202965\",\"type\":\"UnionRenderers\"},{\"attributes\":{\"margin\":[5,5,5,5],\"name\":\"HSpacer95616\",\"sizing_mode\":\"stretch_width\"},\"id\":\"202907\",\"type\":\"Spacer\"},{\"attributes\":{\"format\":\"%.0f\"},\"id\":\"202949\",\"type\":\"PrintfTickFormatter\"},{\"attributes\":{\"line_alpha\":0.2,\"line_width\":2,\"x\":{\"field\":\"year\"},\"y\":{\"field\":\"average_house_value\"}},\"id\":\"202946\",\"type\":\"Line\"},{\"attributes\":{\"below\":[{\"id\":\"202920\"}],\"center\":[{\"id\":\"202923\"},{\"id\":\"202927\"}],\"left\":[{\"id\":\"202924\"}],\"margin\":[5,5,5,5],\"min_border_bottom\":10,\"min_border_left\":10,\"min_border_right\":10,\"min_border_top\":10,\"renderers\":[{\"id\":\"202947\"}],\"sizing_mode\":\"fixed\",\"title\":{\"id\":\"202912\"},\"toolbar\":{\"id\":\"202934\"},\"x_range\":{\"id\":\"202908\"},\"x_scale\":{\"id\":\"202916\"},\"y_range\":{\"id\":\"202909\"},\"y_scale\":{\"id\":\"202918\"}},\"id\":\"202911\",\"subtype\":\"Figure\",\"type\":\"Plot\"},{\"attributes\":{\"line_width\":2,\"x\":{\"field\":\"year\"},\"y\":{\"field\":\"average_house_value\"}},\"id\":\"202944\",\"type\":\"Line\"},{\"attributes\":{\"bottom_units\":\"screen\",\"fill_alpha\":0.5,\"fill_color\":\"lightgrey\",\"left_units\":\"screen\",\"level\":\"overlay\",\"line_alpha\":1.0,\"line_color\":\"black\",\"line_dash\":[4,4],\"line_width\":2,\"right_units\":\"screen\",\"top_units\":\"screen\"},\"id\":\"202933\",\"type\":\"BoxAnnotation\"},{\"attributes\":{\"end\":484917.3,\"reset_end\":484917.3,\"reset_start\":174521.7,\"start\":174521.7,\"tags\":[[[\"average_house_value\",\"average_house_value\",null]]]},\"id\":\"202909\",\"type\":\"Range1d\"},{\"attributes\":{\"source\":{\"id\":\"202941\"}},\"id\":\"202948\",\"type\":\"CDSView\"},{\"attributes\":{\"children\":[{\"id\":\"202907\"},{\"id\":\"202911\"},{\"id\":\"202974\"},{\"id\":\"202975\"}],\"margin\":[0,0,0,0],\"name\":\"Row95607\"},\"id\":\"202906\",\"type\":\"Row\"},{\"attributes\":{\"children\":[{\"id\":\"202976\"},{\"id\":\"202977\"},{\"id\":\"202979\"}],\"margin\":[0,0,0,0],\"name\":\"Column95615\"},\"id\":\"202975\",\"type\":\"Column\"},{\"attributes\":{\"data_source\":{\"id\":\"202941\"},\"glyph\":{\"id\":\"202944\"},\"hover_glyph\":null,\"muted_glyph\":{\"id\":\"202946\"},\"nonselection_glyph\":{\"id\":\"202945\"},\"selection_glyph\":null,\"view\":{\"id\":\"202948\"}},\"id\":\"202947\",\"type\":\"GlyphRenderer\"},{\"attributes\":{\"client_comm_id\":\"7b2fc0ca34a641e0a954a69949b1da04\",\"comm_id\":\"f40e8e076f7747abb084093046796fff\",\"plot_id\":\"202906\"},\"id\":\"203001\",\"type\":\"panel.models.comm_manager.CommManager\"},{\"attributes\":{\"text\":\"neighbourhood: Agincourt North\",\"text_color\":{\"value\":\"black\"},\"text_font_size\":{\"value\":\"12pt\"}},\"id\":\"202912\",\"type\":\"Title\"},{\"attributes\":{\"callback\":null,\"renderers\":[{\"id\":\"202947\"}],\"tags\":[\"hv_created\"],\"tooltips\":[[\"year\",\"@{year}\"],[\"average_house_value\",\"@{average_house_value}\"]]},\"id\":\"202910\",\"type\":\"HoverTool\"},{\"attributes\":{},\"id\":\"202928\",\"type\":\"SaveTool\"},{\"attributes\":{\"margin\":[5,5,5,5],\"name\":\"HSpacer95617\",\"sizing_mode\":\"stretch_width\"},\"id\":\"202974\",\"type\":\"Spacer\"},{\"attributes\":{},\"id\":\"202942\",\"type\":\"Selection\"},{\"attributes\":{\"end\":2016.0,\"reset_end\":2016.0,\"reset_start\":2001.0,\"start\":2001.0,\"tags\":[[[\"year\",\"year\",null]]]},\"id\":\"202908\",\"type\":\"Range1d\"}],\"root_ids\":[\"202906\",\"203001\"]},\"title\":\"Bokeh Application\",\"version\":\"2.2.3\"}};\n",
       "    var render_items = [{\"docid\":\"8976d718-f286-4565-874e-c8fd5b83f43b\",\"root_ids\":[\"202906\"],\"roots\":{\"202906\":\"b69b0100-edcb-4e6f-a901-20b3a471452b\"}}];\n",
       "    root.Bokeh.embed.embed_items_notebook(docs_json, render_items);\n",
       "  }\n",
       "  if (root.Bokeh !== undefined && root.Bokeh.Panel !== undefined && root['Plotly'] !== undefined ) {\n",
       "    embed_document(root);\n",
       "  } else {\n",
       "    var attempts = 0;\n",
       "    var timer = setInterval(function(root) {\n",
       "      if (root.Bokeh !== undefined && root.Bokeh.Panel !== undefined && root['Plotly'] !== undefined) {\n",
       "        clearInterval(timer);\n",
       "        embed_document(root);\n",
       "      } else if (document.readyState == \"complete\") {\n",
       "        attempts++;\n",
       "        if (attempts > 100) {\n",
       "          clearInterval(timer);\n",
       "          console.log(\"Bokeh: ERROR: Unable to run BokehJS code because BokehJS library is missing\");\n",
       "        }\n",
       "      }\n",
       "    }, 10, root)\n",
       "  }\n",
       "})(window);</script>"
      ],
      "text/plain": [
       ":DynamicMap   [neighbourhood]\n",
       "   :Curve   [year]   (average_house_value)"
      ]
     },
     "execution_count": 290,
     "metadata": {
      "application/vnd.holoviews_exec.v0+json": {
       "id": "202906"
      }
     },
     "output_type": "execute_result"
    }
   ],
   "source": [
    "average_value_by_neighbourhood()"
   ]
  },
  {
   "cell_type": "code",
   "execution_count": 291,
   "metadata": {},
   "outputs": [
    {
     "data": {},
     "metadata": {},
     "output_type": "display_data"
    },
    {
     "data": {
      "application/vnd.holoviews_exec.v0+json": "",
      "text/html": [
       "<div id='203037'>\n",
       "\n",
       "\n",
       "\n",
       "\n",
       "\n",
       "  <div class=\"bk-root\" id=\"13b64d86-c749-4fbb-87a7-3fc97430b3a4\" data-root-id=\"203037\"></div>\n",
       "</div>\n",
       "<script type=\"application/javascript\">(function(root) {\n",
       "  function embed_document(root) {\n",
       "    var docs_json = {\"0793dfba-2e24-488d-b127-66637c87b347\":{\"roots\":{\"references\":[{\"attributes\":{\"data\":{\"Variable\":[\"single_detached_house\",\"single_detached_house\",\"single_detached_house\",\"single_detached_house\",\"apartment_five_storeys_plus\",\"apartment_five_storeys_plus\",\"apartment_five_storeys_plus\",\"apartment_five_storeys_plus\",\"movable_dwelling\",\"movable_dwelling\",\"movable_dwelling\",\"movable_dwelling\",\"semi_detached_house\",\"semi_detached_house\",\"semi_detached_house\",\"semi_detached_house\",\"row_house\",\"row_house\",\"row_house\",\"row_house\",\"duplex\",\"duplex\",\"duplex\",\"duplex\",\"apartment_five_storeys_less\",\"apartment_five_storeys_less\",\"apartment_five_storeys_less\",\"apartment_five_storeys_less\",\"other_house\",\"other_house\",\"other_house\",\"other_house\"],\"value\":[3715,3295,3385,3345,1480,2060,2130,2120,0,0,5,5,1055,775,820,805,1295,1425,1465,1440,195,600,610,645,185,565,705,735,5,0,20,15],\"xoffsets\":[[\"2001\",\"single_detached_house\"],[\"2006\",\"single_detached_house\"],[\"2011\",\"single_detached_house\"],[\"2016\",\"single_detached_house\"],[\"2001\",\"apartment_five_storeys_plus\"],[\"2006\",\"apartment_five_storeys_plus\"],[\"2011\",\"apartment_five_storeys_plus\"],[\"2016\",\"apartment_five_storeys_plus\"],[\"2001\",\"movable_dwelling\"],[\"2006\",\"movable_dwelling\"],[\"2011\",\"movable_dwelling\"],[\"2016\",\"movable_dwelling\"],[\"2001\",\"semi_detached_house\"],[\"2006\",\"semi_detached_house\"],[\"2011\",\"semi_detached_house\"],[\"2016\",\"semi_detached_house\"],[\"2001\",\"row_house\"],[\"2006\",\"row_house\"],[\"2011\",\"row_house\"],[\"2016\",\"row_house\"],[\"2001\",\"duplex\"],[\"2006\",\"duplex\"],[\"2011\",\"duplex\"],[\"2016\",\"duplex\"],[\"2001\",\"apartment_five_storeys_less\"],[\"2006\",\"apartment_five_storeys_less\"],[\"2011\",\"apartment_five_storeys_less\"],[\"2016\",\"apartment_five_storeys_less\"],[\"2001\",\"other_house\"],[\"2006\",\"other_house\"],[\"2011\",\"other_house\"],[\"2016\",\"other_house\"]],\"year\":[\"2001\",\"2006\",\"2011\",\"2016\",\"2001\",\"2006\",\"2011\",\"2016\",\"2001\",\"2006\",\"2011\",\"2016\",\"2001\",\"2006\",\"2011\",\"2016\",\"2001\",\"2006\",\"2011\",\"2016\",\"2001\",\"2006\",\"2011\",\"2016\",\"2001\",\"2006\",\"2011\",\"2016\",\"2001\",\"2006\",\"2011\",\"2016\"]},\"selected\":{\"id\":\"203073\"},\"selection_policy\":{\"id\":\"203096\"}},\"id\":\"203072\",\"type\":\"ColumnDataSource\"},{\"attributes\":{\"data_source\":{\"id\":\"203072\"},\"glyph\":{\"id\":\"203075\"},\"hover_glyph\":null,\"muted_glyph\":{\"id\":\"203077\"},\"nonselection_glyph\":{\"id\":\"203076\"},\"selection_glyph\":null,\"view\":{\"id\":\"203079\"}},\"id\":\"203078\",\"type\":\"GlyphRenderer\"},{\"attributes\":{\"text\":\"neighbourhood: Agincourt North\",\"text_color\":{\"value\":\"black\"},\"text_font_size\":{\"value\":\"12pt\"}},\"id\":\"203043\",\"type\":\"Title\"},{\"attributes\":{\"children\":[{\"id\":\"203107\"},{\"id\":\"203108\"},{\"id\":\"203110\"}],\"margin\":[0,0,0,0],\"name\":\"Column95879\"},\"id\":\"203106\",\"type\":\"Column\"},{\"attributes\":{\"below\":[{\"id\":\"203051\"}],\"center\":[{\"id\":\"203053\"},{\"id\":\"203057\"}],\"left\":[{\"id\":\"203054\"}],\"margin\":[5,5,5,5],\"min_border_bottom\":10,\"min_border_left\":10,\"min_border_right\":10,\"min_border_top\":10,\"renderers\":[{\"id\":\"203078\"}],\"sizing_mode\":\"fixed\",\"title\":{\"id\":\"203043\"},\"toolbar\":{\"id\":\"203064\"},\"x_range\":{\"id\":\"203039\"},\"x_scale\":{\"id\":\"203047\"},\"y_range\":{\"id\":\"203040\"},\"y_scale\":{\"id\":\"203049\"}},\"id\":\"203042\",\"subtype\":\"Figure\",\"type\":\"Plot\"},{\"attributes\":{},\"id\":\"203058\",\"type\":\"SaveTool\"},{\"attributes\":{\"fill_alpha\":{\"value\":0.2},\"fill_color\":{\"field\":\"Variable\",\"transform\":{\"id\":\"203071\"}},\"line_alpha\":{\"value\":0.2},\"top\":{\"field\":\"value\"},\"width\":{\"value\":0.8},\"x\":{\"field\":\"xoffsets\"}},\"id\":\"203077\",\"type\":\"VBar\"},{\"attributes\":{\"end\":4086.5,\"reset_end\":4086.5,\"reset_start\":0.0,\"tags\":[[[\"value\",\"value\",null]]]},\"id\":\"203040\",\"type\":\"Range1d\"},{\"attributes\":{},\"id\":\"203059\",\"type\":\"PanTool\"},{\"attributes\":{\"margin\":[5,5,5,5],\"name\":\"VSpacer95878\",\"sizing_mode\":\"stretch_height\"},\"id\":\"203110\",\"type\":\"Spacer\"},{\"attributes\":{},\"id\":\"203062\",\"type\":\"ResetTool\"},{\"attributes\":{},\"id\":\"203060\",\"type\":\"WheelZoomTool\"},{\"attributes\":{\"fill_alpha\":{\"value\":0.1},\"fill_color\":{\"field\":\"Variable\",\"transform\":{\"id\":\"203071\"}},\"line_alpha\":{\"value\":0.1},\"top\":{\"field\":\"value\"},\"width\":{\"value\":0.8},\"x\":{\"field\":\"xoffsets\"}},\"id\":\"203076\",\"type\":\"VBar\"},{\"attributes\":{\"children\":[{\"id\":\"203038\"},{\"id\":\"203042\"},{\"id\":\"203105\"},{\"id\":\"203106\"}],\"margin\":[0,0,0,0],\"name\":\"Row95871\"},\"id\":\"203037\",\"type\":\"Row\"},{\"attributes\":{\"axis\":{\"id\":\"203051\"},\"grid_line_color\":null,\"ticker\":null},\"id\":\"203053\",\"type\":\"Grid\"},{\"attributes\":{\"children\":[{\"id\":\"203109\"}],\"css_classes\":[\"panel-widget-box\"],\"margin\":[5,5,5,5],\"name\":\"WidgetBox95872\"},\"id\":\"203108\",\"type\":\"Column\"},{\"attributes\":{\"overlay\":{\"id\":\"203063\"}},\"id\":\"203061\",\"type\":\"BoxZoomTool\"},{\"attributes\":{},\"id\":\"203049\",\"type\":\"LinearScale\"},{\"attributes\":{},\"id\":\"203082\",\"type\":\"CategoricalTickFormatter\"},{\"attributes\":{},\"id\":\"203073\",\"type\":\"Selection\"},{\"attributes\":{\"factors\":[\"single_detached_house\",\"apartment_five_storeys_plus\",\"movable_dwelling\",\"semi_detached_house\",\"row_house\",\"duplex\",\"apartment_five_storeys_less\",\"other_house\"],\"palette\":[\"red\",\"red\",\"red\",\"red\",\"red\",\"red\",\"red\",\"red\"]},\"id\":\"203071\",\"type\":\"CategoricalColorMapper\"},{\"attributes\":{},\"id\":\"203096\",\"type\":\"UnionRenderers\"},{\"attributes\":{},\"id\":\"203052\",\"type\":\"CategoricalTicker\"},{\"attributes\":{\"source\":{\"id\":\"203072\"}},\"id\":\"203079\",\"type\":\"CDSView\"},{\"attributes\":{\"axis_label\":\"year\",\"bounds\":\"auto\",\"formatter\":{\"id\":\"203082\"},\"major_label_orientation\":1.5707963267948966,\"ticker\":{\"id\":\"203052\"}},\"id\":\"203051\",\"type\":\"CategoricalAxis\"},{\"attributes\":{\"margin\":[5,5,5,5],\"name\":\"HSpacer95880\",\"sizing_mode\":\"stretch_width\"},\"id\":\"203038\",\"type\":\"Spacer\"},{\"attributes\":{\"factors\":[[\"2001\",\"other_house\"],[\"2001\",\"apartment_five_storeys_less\"],[\"2001\",\"duplex\"],[\"2001\",\"row_house\"],[\"2001\",\"semi_detached_house\"],[\"2001\",\"movable_dwelling\"],[\"2001\",\"apartment_five_storeys_plus\"],[\"2001\",\"single_detached_house\"],[\"2006\",\"other_house\"],[\"2006\",\"apartment_five_storeys_less\"],[\"2006\",\"duplex\"],[\"2006\",\"row_house\"],[\"2006\",\"semi_detached_house\"],[\"2006\",\"movable_dwelling\"],[\"2006\",\"apartment_five_storeys_plus\"],[\"2006\",\"single_detached_house\"],[\"2011\",\"other_house\"],[\"2011\",\"apartment_five_storeys_less\"],[\"2011\",\"duplex\"],[\"2011\",\"row_house\"],[\"2011\",\"semi_detached_house\"],[\"2011\",\"movable_dwelling\"],[\"2011\",\"apartment_five_storeys_plus\"],[\"2011\",\"single_detached_house\"],[\"2016\",\"other_house\"],[\"2016\",\"apartment_five_storeys_less\"],[\"2016\",\"duplex\"],[\"2016\",\"row_house\"],[\"2016\",\"semi_detached_house\"],[\"2016\",\"movable_dwelling\"],[\"2016\",\"apartment_five_storeys_plus\"],[\"2016\",\"single_detached_house\"]],\"tags\":[[[\"year\",\"year\",null],[\"Variable\",\"Variable\",null]]]},\"id\":\"203039\",\"type\":\"FactorRange\"},{\"attributes\":{\"axis_label\":\"Number of Dwellings\",\"bounds\":\"auto\",\"formatter\":{\"id\":\"203080\"},\"major_label_orientation\":\"horizontal\",\"ticker\":{\"id\":\"203055\"}},\"id\":\"203054\",\"type\":\"LinearAxis\"},{\"attributes\":{\"margin\":[5,5,5,5],\"name\":\"HSpacer95881\",\"sizing_mode\":\"stretch_width\"},\"id\":\"203105\",\"type\":\"Spacer\"},{\"attributes\":{\"format\":\"%.0f\"},\"id\":\"203080\",\"type\":\"PrintfTickFormatter\"},{\"attributes\":{\"client_comm_id\":\"e714df42810c4bb9acbf94b3d6f09d15\",\"comm_id\":\"9e320e70776b4b02a86671821eb252cb\",\"plot_id\":\"203037\"},\"id\":\"203132\",\"type\":\"panel.models.comm_manager.CommManager\"},{\"attributes\":{},\"id\":\"203055\",\"type\":\"BasicTicker\"},{\"attributes\":{\"axis\":{\"id\":\"203054\"},\"dimension\":1,\"grid_line_color\":null,\"ticker\":null},\"id\":\"203057\",\"type\":\"Grid\"},{\"attributes\":{},\"id\":\"203047\",\"type\":\"CategoricalScale\"},{\"attributes\":{\"callback\":null,\"renderers\":[{\"id\":\"203078\"}],\"tags\":[\"hv_created\"],\"tooltips\":[[\"year\",\"@{year}\"],[\"Variable\",\"@{Variable}\"],[\"value\",\"@{value}\"]]},\"id\":\"203041\",\"type\":\"HoverTool\"},{\"attributes\":{\"active_drag\":\"auto\",\"active_inspect\":\"auto\",\"active_multi\":null,\"active_scroll\":\"auto\",\"active_tap\":\"auto\",\"tools\":[{\"id\":\"203041\"},{\"id\":\"203058\"},{\"id\":\"203059\"},{\"id\":\"203060\"},{\"id\":\"203061\"},{\"id\":\"203062\"}]},\"id\":\"203064\",\"type\":\"Toolbar\"},{\"attributes\":{\"margin\":[5,5,5,5],\"name\":\"VSpacer95877\",\"sizing_mode\":\"stretch_height\"},\"id\":\"203107\",\"type\":\"Spacer\"},{\"attributes\":{\"fill_color\":{\"field\":\"Variable\",\"transform\":{\"id\":\"203071\"}},\"top\":{\"field\":\"value\"},\"width\":{\"value\":0.8},\"x\":{\"field\":\"xoffsets\"}},\"id\":\"203075\",\"type\":\"VBar\"},{\"attributes\":{\"margin\":[20,20,20,20],\"min_width\":250,\"options\":[\"Agincourt North\",\"Agincourt South-Malvern West\",\"Alderwood\",\"Annex\",\"Banbury-Don Mills\",\"Bathurst Manor\",\"Bay Street Corridor\",\"Bayview Village\",\"Bayview Woods-Steeles\",\"Bedford Park-Nortown\",\"Beechborough-Greenbrook\",\"Bendale\",\"Birchcliffe-Cliffside\",\"Black Creek\",\"Blake-Jones\",\"Briar Hill-Belgravia\",\"Bridle Path-Sunnybrook-York Mills\",\"Broadview North\",\"Brookhaven-Amesbury\",\"Cabbagetown-South St.James Town\",\"Caledonia-Fairbank\",\"Casa Loma\",\"Centennial Scarborough\",\"Church-Yonge Corridor\",\"Clairlea-Birchmount\",\"Clanton Park\",\"Cliffcrest\",\"Corso Italia-Davenport\",\"Danforth\",\"Danforth-East York\",\"Don Valley Village\",\"Dorset Park\",\"Dovercourt-Wallace Emerson-Juncti\",\"Downsview-Roding-CFB\",\"Dufferin Grove\",\"East End-Danforth\",\"Edenbridge-Humber Valley\",\"Eglinton East\",\"Elms-Old Rexdale\",\"Englemount-Lawrence\",\"Eringate-Centennial-West Deane\",\"Etobicoke West Mall\",\"Flemingdon Park\",\"Forest Hill North\",\"Forest Hill South\",\"Glenfield-Jane Heights\",\"Greenwood-Coxwell\",\"Guildwood\",\"Henry Farm\",\"High Park North\",\"High Park-Swansea\",\"Highland Creek\",\"Hillcrest Village\",\"Humber Heights-Westmount\",\"Humber Summit\",\"Humbermede\",\"Humewood-Cedarvale\",\"Ionview\",\"Islington-City Centre West\",\"Junction Area\",\"Keelesdale-Eglinton West\",\"Kennedy Park\",\"Kensington-Chinatown\",\"Kingsview Village-The Westway\",\"Kingsway South\",\"L'Amoreaux\",\"Lambton Baby Point\",\"Lansing-Westgate\",\"Lawrence Park North\",\"Lawrence Park South\",\"Leaside-Bennington\",\"Little Portugal\",\"Long Branch\",\"Malvern\",\"Maple Leaf\",\"Markland Wood\",\"Milliken\",\"Mimico\",\"Morningside\",\"Moss Park\",\"Mount Dennis\",\"Mount Olive-Silverstone-Jamestown\",\"Mount Pleasant East\",\"Mount Pleasant West\",\"New Toronto\",\"Newtonbrook East\",\"Newtonbrook West\",\"Niagara\",\"North Riverdale\",\"North St.James Town\",\"O'Connor-Parkview\",\"Oakridge\",\"Oakwood Village\",\"Old East York\",\"Palmerston-Little Italy\",\"Parkwoods-Donalda\",\"Pelmo Park-Humberlea\",\"Playter Estates-Danforth\",\"Pleasant View\",\"Princess-Rosethorn\",\"Regent Park\",\"Rexdale-Kipling\",\"Rockcliffe-Smythe\",\"Roncesvalles\",\"Rosedale-Moore Park\",\"Rouge\",\"Runnymede-Bloor West Village\",\"Rustic\",\"Scarborough Village\",\"South Parkdale\",\"South Riverdale\",\"St.Andrew-Windfields\",\"Steeles\",\"Stonegate-Queensway\",\"Tam O'Shanter-Sullivan\",\"Taylor-Massey\",\"The Beaches\",\"Thistletown-Beaumond Heights\",\"Thorncliffe Park\",\"Trinity-Bellwoods\",\"University\",\"Victoria Village\",\"Waterfront Communities-The Island\",\"West Hill\",\"West Humber-Clairville\",\"Westminster-Branson\",\"Weston\",\"Weston-Pellam Park\",\"Wexford/Maryvale\",\"Willowdale East\",\"Willowdale West\",\"Willowridge-Martingrove-Richview\",\"Woburn\",\"Woodbine Corridor\",\"Woodbine-Lumsden\",\"Wychwood\",\"Yonge-Eglinton\",\"Yonge-St.Clair\",\"York University Heights\",\"Yorkdale-Glen Park\"],\"title\":\"neighbourhood\",\"value\":\"Agincourt North\",\"width\":250},\"id\":\"203109\",\"type\":\"Select\"},{\"attributes\":{\"bottom_units\":\"screen\",\"fill_alpha\":0.5,\"fill_color\":\"lightgrey\",\"left_units\":\"screen\",\"level\":\"overlay\",\"line_alpha\":1.0,\"line_color\":\"black\",\"line_dash\":[4,4],\"line_width\":2,\"right_units\":\"screen\",\"top_units\":\"screen\"},\"id\":\"203063\",\"type\":\"BoxAnnotation\"}],\"root_ids\":[\"203037\",\"203132\"]},\"title\":\"Bokeh Application\",\"version\":\"2.2.3\"}};\n",
       "    var render_items = [{\"docid\":\"0793dfba-2e24-488d-b127-66637c87b347\",\"root_ids\":[\"203037\"],\"roots\":{\"203037\":\"13b64d86-c749-4fbb-87a7-3fc97430b3a4\"}}];\n",
       "    root.Bokeh.embed.embed_items_notebook(docs_json, render_items);\n",
       "  }\n",
       "  if (root.Bokeh !== undefined && root.Bokeh.Panel !== undefined && root['Plotly'] !== undefined ) {\n",
       "    embed_document(root);\n",
       "  } else {\n",
       "    var attempts = 0;\n",
       "    var timer = setInterval(function(root) {\n",
       "      if (root.Bokeh !== undefined && root.Bokeh.Panel !== undefined && root['Plotly'] !== undefined) {\n",
       "        clearInterval(timer);\n",
       "        embed_document(root);\n",
       "      } else if (document.readyState == \"complete\") {\n",
       "        attempts++;\n",
       "        if (attempts > 100) {\n",
       "          clearInterval(timer);\n",
       "          console.log(\"Bokeh: ERROR: Unable to run BokehJS code because BokehJS library is missing\");\n",
       "        }\n",
       "      }\n",
       "    }, 10, root)\n",
       "  }\n",
       "})(window);</script>"
      ],
      "text/plain": [
       ":DynamicMap   [neighbourhood]\n",
       "   :Bars   [year,Variable]   (value)"
      ]
     },
     "execution_count": 291,
     "metadata": {
      "application/vnd.holoviews_exec.v0+json": {
       "id": "203037"
      }
     },
     "output_type": "execute_result"
    }
   ],
   "source": [
    "number_dwelling_types()"
   ]
  },
  {
   "cell_type": "code",
   "execution_count": 271,
   "metadata": {},
   "outputs": [
    {
     "data": {},
     "metadata": {},
     "output_type": "display_data"
    },
    {
     "data": {
      "application/vnd.holoviews_exec.v0+json": "",
      "text/html": [
       "<div id='198907'>\n",
       "\n",
       "\n",
       "\n",
       "\n",
       "\n",
       "  <div class=\"bk-root\" id=\"51760e96-f186-4455-8e1e-04119f7b8e59\" data-root-id=\"198907\"></div>\n",
       "</div>\n",
       "<script type=\"application/javascript\">(function(root) {\n",
       "  function embed_document(root) {\n",
       "    var docs_json = {\"882fd0b0-0648-4677-827f-5fe2f101b032\":{\"roots\":{\"references\":[{\"attributes\":{\"axis\":{\"id\":\"198921\"},\"grid_line_color\":null,\"ticker\":null},\"id\":\"198923\",\"type\":\"Grid\"},{\"attributes\":{},\"id\":\"198925\",\"type\":\"BasicTicker\"},{\"attributes\":{\"end\":1597812.3,\"reset_end\":1597812.3,\"reset_start\":741893.7,\"start\":741893.7,\"tags\":[[[\"average_house_value\",\"average_house_value\",null]]]},\"id\":\"198910\",\"type\":\"Range1d\"},{\"attributes\":{\"axis\":{\"id\":\"198924\"},\"dimension\":1,\"grid_line_color\":null,\"ticker\":null},\"id\":\"198927\",\"type\":\"Grid\"},{\"attributes\":{},\"id\":\"198961\",\"type\":\"UnionRenderers\"},{\"attributes\":{\"margin\":[5,5,5,5],\"name\":\"HSpacer91961\",\"sizing_mode\":\"stretch_width\"},\"id\":\"198970\",\"type\":\"Spacer\"},{\"attributes\":{\"active_drag\":\"auto\",\"active_inspect\":\"auto\",\"active_multi\":null,\"active_scroll\":\"auto\",\"active_tap\":\"auto\",\"tools\":[{\"id\":\"198911\"},{\"id\":\"198928\"},{\"id\":\"198929\"},{\"id\":\"198930\"},{\"id\":\"198931\"},{\"id\":\"198932\"}]},\"id\":\"198934\",\"type\":\"Toolbar\"},{\"attributes\":{\"axis_label\":\"average_house_value\",\"bounds\":\"auto\",\"formatter\":{\"id\":\"198949\"},\"major_label_orientation\":\"horizontal\",\"ticker\":{\"id\":\"198925\"}},\"id\":\"198924\",\"type\":\"LinearAxis\"},{\"attributes\":{\"source\":{\"id\":\"198941\"}},\"id\":\"198948\",\"type\":\"CDSView\"},{\"attributes\":{\"children\":[{\"id\":\"198908\"},{\"id\":\"198912\"},{\"id\":\"198970\"}],\"margin\":[0,0,0,0],\"name\":\"Row91956\",\"tags\":[\"embedded\"]},\"id\":\"198907\",\"type\":\"Row\"},{\"attributes\":{\"bottom_units\":\"screen\",\"fill_alpha\":0.5,\"fill_color\":\"lightgrey\",\"left_units\":\"screen\",\"level\":\"overlay\",\"line_alpha\":1.0,\"line_color\":\"black\",\"line_dash\":[4,4],\"line_width\":2,\"right_units\":\"screen\",\"top_units\":\"screen\"},\"id\":\"198933\",\"type\":\"BoxAnnotation\"},{\"attributes\":{},\"id\":\"198951\",\"type\":\"CategoricalTickFormatter\"},{\"attributes\":{\"data_source\":{\"id\":\"198941\"},\"glyph\":{\"id\":\"198944\"},\"hover_glyph\":null,\"muted_glyph\":{\"id\":\"198946\"},\"nonselection_glyph\":{\"id\":\"198945\"},\"selection_glyph\":null,\"view\":{\"id\":\"198948\"}},\"id\":\"198947\",\"type\":\"GlyphRenderer\"},{\"attributes\":{\"factors\":[\"Bridle Path-Sunnybrook-York Mills\",\"Forest Hill South\",\"Lawrence Park South\",\"Rosedale-Moore Park\",\"St.Andrew-Windfields\",\"Casa Loma\",\"Bedford Park-Nortown\",\"Forest Hill North\",\"Kingsway South\",\"Yonge-St.Clair\"],\"tags\":[[[\"neighbourhood\",\"neighbourhood\",null]]]},\"id\":\"198909\",\"type\":\"FactorRange\"},{\"attributes\":{\"margin\":[5,5,5,5],\"name\":\"HSpacer91960\",\"sizing_mode\":\"stretch_width\"},\"id\":\"198908\",\"type\":\"Spacer\"},{\"attributes\":{},\"id\":\"198922\",\"type\":\"CategoricalTicker\"},{\"attributes\":{\"fill_alpha\":{\"value\":0.1},\"fill_color\":{\"value\":\"green\"},\"line_alpha\":{\"value\":0.1},\"line_color\":{\"value\":\"green\"},\"size\":{\"units\":\"screen\",\"value\":5.477225575051661},\"x\":{\"field\":\"neighbourhood\"},\"y\":{\"field\":\"average_house_value\"}},\"id\":\"198945\",\"type\":\"Scatter\"},{\"attributes\":{\"below\":[{\"id\":\"198921\"}],\"center\":[{\"id\":\"198923\"},{\"id\":\"198927\"}],\"left\":[{\"id\":\"198924\"}],\"margin\":[5,5,5,5],\"min_border_bottom\":10,\"min_border_left\":10,\"min_border_right\":10,\"min_border_top\":10,\"renderers\":[{\"id\":\"198947\"}],\"sizing_mode\":\"fixed\",\"title\":{\"id\":\"198913\"},\"toolbar\":{\"id\":\"198934\"},\"x_range\":{\"id\":\"198909\"},\"x_scale\":{\"id\":\"198917\"},\"y_range\":{\"id\":\"198910\"},\"y_scale\":{\"id\":\"198919\"}},\"id\":\"198912\",\"subtype\":\"Figure\",\"type\":\"Plot\"},{\"attributes\":{},\"id\":\"198928\",\"type\":\"SaveTool\"},{\"attributes\":{\"fill_color\":{\"value\":\"green\"},\"line_color\":{\"value\":\"green\"},\"size\":{\"units\":\"screen\",\"value\":5.477225575051661},\"x\":{\"field\":\"neighbourhood\"},\"y\":{\"field\":\"average_house_value\"}},\"id\":\"198944\",\"type\":\"Scatter\"},{\"attributes\":{},\"id\":\"198942\",\"type\":\"Selection\"},{\"attributes\":{},\"id\":\"198929\",\"type\":\"PanTool\"},{\"attributes\":{\"text\":\"Top 10 Highest Average House Value Suburbs, Toronto 2001-2016\",\"text_color\":{\"value\":\"black\"},\"text_font_size\":{\"value\":\"12pt\"}},\"id\":\"198913\",\"type\":\"Title\"},{\"attributes\":{},\"id\":\"198932\",\"type\":\"ResetTool\"},{\"attributes\":{},\"id\":\"198930\",\"type\":\"WheelZoomTool\"},{\"attributes\":{\"format\":\"%.0f\"},\"id\":\"198949\",\"type\":\"PrintfTickFormatter\"},{\"attributes\":{\"overlay\":{\"id\":\"198933\"}},\"id\":\"198931\",\"type\":\"BoxZoomTool\"},{\"attributes\":{\"callback\":null,\"renderers\":[{\"id\":\"198947\"}],\"tags\":[\"hv_created\"],\"tooltips\":[[\"neighbourhood\",\"@{neighbourhood}\"],[\"average_house_value\",\"@{average_house_value}\"]]},\"id\":\"198911\",\"type\":\"HoverTool\"},{\"attributes\":{\"fill_alpha\":{\"value\":0.2},\"fill_color\":{\"value\":\"green\"},\"line_alpha\":{\"value\":0.2},\"line_color\":{\"value\":\"green\"},\"size\":{\"units\":\"screen\",\"value\":5.477225575051661},\"x\":{\"field\":\"neighbourhood\"},\"y\":{\"field\":\"average_house_value\"}},\"id\":\"198946\",\"type\":\"Scatter\"},{\"attributes\":{},\"id\":\"198917\",\"type\":\"CategoricalScale\"},{\"attributes\":{\"data\":{\"average_house_value\":{\"__ndarray__\":\"AAAAwNVKN0EAAACA2D8yQQAAAMCLsTBBAAAAAAiwMEEAAAAAhn0uQQAAAICQ8C1BAAAAgN5kLEEAAAAAwf0pQQAAAIDEuylBAAAAgEjRKEE=\",\"dtype\":\"float64\",\"order\":\"little\",\"shape\":[10]},\"neighbourhood\":[\"Bridle Path-Sunnybrook-York Mills\",\"Forest Hill South\",\"Lawrence Park South\",\"Rosedale-Moore Park\",\"St.Andrew-Windfields\",\"Casa Loma\",\"Bedford Park-Nortown\",\"Forest Hill North\",\"Kingsway South\",\"Yonge-St.Clair\"]},\"selected\":{\"id\":\"198942\"},\"selection_policy\":{\"id\":\"198961\"}},\"id\":\"198941\",\"type\":\"ColumnDataSource\"},{\"attributes\":{},\"id\":\"198919\",\"type\":\"LinearScale\"},{\"attributes\":{\"axis_label\":\"neighbourhood\",\"bounds\":\"auto\",\"formatter\":{\"id\":\"198951\"},\"major_label_orientation\":1.5707963267948966,\"ticker\":{\"id\":\"198922\"}},\"id\":\"198921\",\"type\":\"CategoricalAxis\"}],\"root_ids\":[\"198907\"]},\"title\":\"Bokeh Application\",\"version\":\"2.2.3\"}};\n",
       "    var render_items = [{\"docid\":\"882fd0b0-0648-4677-827f-5fe2f101b032\",\"root_ids\":[\"198907\"],\"roots\":{\"198907\":\"51760e96-f186-4455-8e1e-04119f7b8e59\"}}];\n",
       "    root.Bokeh.embed.embed_items_notebook(docs_json, render_items);\n",
       "  }\n",
       "  if (root.Bokeh !== undefined && root.Bokeh.Panel !== undefined && root['Plotly'] !== undefined ) {\n",
       "    embed_document(root);\n",
       "  } else {\n",
       "    var attempts = 0;\n",
       "    var timer = setInterval(function(root) {\n",
       "      if (root.Bokeh !== undefined && root.Bokeh.Panel !== undefined && root['Plotly'] !== undefined) {\n",
       "        clearInterval(timer);\n",
       "        embed_document(root);\n",
       "      } else if (document.readyState == \"complete\") {\n",
       "        attempts++;\n",
       "        if (attempts > 100) {\n",
       "          clearInterval(timer);\n",
       "          console.log(\"Bokeh: ERROR: Unable to run BokehJS code because BokehJS library is missing\");\n",
       "        }\n",
       "      }\n",
       "    }, 10, root)\n",
       "  }\n",
       "})(window);</script>"
      ],
      "text/plain": [
       ":Scatter   [neighbourhood]   (average_house_value)"
      ]
     },
     "execution_count": 271,
     "metadata": {
      "application/vnd.holoviews_exec.v0+json": {
       "id": "198907"
      }
     },
     "output_type": "execute_result"
    }
   ],
   "source": [
    "top_most_expensive_neighbourhoods()"
   ]
  },
  {
   "cell_type": "code",
   "execution_count": null,
   "metadata": {},
   "outputs": [],
   "source": []
  }
 ],
 "metadata": {
  "file_extension": ".py",
  "kernelspec": {
   "display_name": "Python [conda env:pyvizenv] *",
   "language": "python",
   "name": "conda-env-pyvizenv-py"
  },
  "language_info": {
   "codemirror_mode": {
    "name": "ipython",
    "version": 3
   },
   "file_extension": ".py",
   "mimetype": "text/x-python",
   "name": "python",
   "nbconvert_exporter": "python",
   "pygments_lexer": "ipython3",
   "version": "3.7.9"
  },
  "mimetype": "text/x-python",
  "name": "python",
  "npconvert_exporter": "python",
  "pygments_lexer": "ipython3",
  "version": 3
 },
 "nbformat": 4,
 "nbformat_minor": 4
}
