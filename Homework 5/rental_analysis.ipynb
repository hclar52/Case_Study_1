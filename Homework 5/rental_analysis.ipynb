{
 "cells": [
  {
   "cell_type": "markdown",
   "metadata": {},
   "source": [
    "# Unit 6 - Pythonic Monopoly\n",
    "\n",
    "![Toronto at night](Images/toronto.jpg)\n",
    "\n",
    "*[Photo by James Wheeler](https://www.pexels.com/@souvenirpixels?utm_content=attributionCopyText&utm_medium=referral&utm_source=pexels) | [Free License](https://www.pexels.com/photo-license/)*\n",
    "\n",
    "## Background\n",
    "\n",
    "Harold's company has just started a new Real Estate Investment division to provide customers with a broader range of portfolio options. Harold was tasked with building a prototype dashboard, and he needs your help. The real estate team wants to trial this initial offering with investment opportunities for the Toronto market. If the new service is popular, then they can start to expand to other markets.\n",
    "\n",
    "This dashboard's goal is to provide charts, maps, and interactive visualizations that help customers explore the data and determine if they want to invest in rental properties in Toronto.\n",
    "\n",
    "In this homework assignment, you will help Harold accomplish the following tasks:\n",
    "\n",
    "1. [Complete a notebook of rental analysis](#Rental-Analysis)\n",
    "\n",
    "2. [Create a dashboard of interactive visualizations to explore the market data](#Dashboard)\n",
    "\n",
    "The data provided for this homework was retrieved from the following websites:\n",
    "\n",
    "* [Toronto Open Data](https://open.toronto.ca/)\n",
    "\n",
    "* [Census Profile, 2016 Census - Toronto Metropolitan Area, Ontario and Canada](https://www12.statcan.gc.ca/census-recensement/2016/dp-pd/prof/details/page.cfm?Lang=E&Geo1=CMACA&Code1=535&Geo2=PR&Code2=01&SearchText=toronto&SearchType=Begins&SearchPR=01&B1=All&TABID=1&type=0)\n",
    "\n",
    "\n",
    "**Note:** If you encounter technical difficulties using PyViz, refer to the troubleshooting section of the [PyViz Installation Guide](PyVizInstallationGuide.md).\n",
    "\n",
    "---\n",
    "\n",
    "## Files\n",
    "\n",
    "* [toronto_neighbourhoods_census_data.csv](Starter_Code/Data/toronto_neighbourhoods_census_data.csv)\n",
    "\n",
    "* [toronto_neighbourhoods_coordinates.csv](Starter_Code/Data/toronto_neighbourhoods_coordinates.csv)\n",
    "\n",
    "* [Rental Analysis Starter Jupyter Notebook](Starter_Code/rental_analysis.ipynb)\n",
    "\n",
    "* [Dashboard Starter Jupyter Notebook](Starter_Code/dashboard.ipynb)\n",
    "\n",
    "## Instructions\n",
    "\n",
    "### Rental Analysis\n",
    "\n",
    "The first step to building the dashboard is to work out all of the calculations and visualizations in an analysis notebook. Once the code is running properly, it can be copied over to a dashboard code and used with Panel to create the final layout. Use the `rental_analysis.ipynb` to complete the following:\n",
    "\n",
    "#### Dwelling Types Per Year\n",
    "\n",
    "In this section, you will calculate the number of dwelling types per year and visualize the results as a bar chart using the Pandas plot function.\n",
    "\n",
    "**Note:** By default, the colour of the bar charts is blue. However, it is hard to see the difference between the yearly data.\n",
    "\n",
    "As an optional challenge, you can manually use the `color` parameter of the `plot()` function to change the colour of each bar chart.\n",
    "\n",
    "| Default Bar Charts                                  | Colored Bar Charts                                   |\n",
    "------------------------------------------------------|------------------------------------------------------|\n",
    "|![default_bar_charts](Images/default_bar_charts.png) | ![colored_bar_charts](Images/colored_bar_charts.png) |\n",
    "\n",
    "#### Average Monthly Shelter Costs in Toronto Per Year\n",
    "\n",
    "In this section, you want to visualize the average monthly shelter costs per year to understand rental income trends over time better. You will visualize the average (mean) shelter cost for owned and rented dwellings per year and visualize it as line charts.\n",
    "\n",
    "As an optional challenge, you can plot each line chart in a different colour.\n",
    "\n",
    "1. Calculate the average monthly shelter costs for owned and rented dwellings for each year.\n",
    "\n",
    "2. Visualize the monthly shelter costs per year as line charts.\n",
    "\n",
    "    ![gross-rent.png](Images/gross-rent.png)\n",
    "\n",
    "#### Average House Value per Year\n",
    "\n",
    "In this section, you want to determine the average house value per year. An investor may want to better understand the sales price of the rental property over time. For example, a customer will want to know if they should expect an increase or decrease in the property value over time so they can determine how long to hold the rental property. You will visualize the `average_house_value` per year as a bar chart.\n",
    "\n",
    "1. Calculate the mean `average_house_value` for each year.\n",
    "\n",
    "2. Visualize the `average_house_value` per year as a line chart.\n",
    "\n",
    "  ![average-sales.png](Images/average-sales.png)\n",
    "\n",
    "#### Average Prices By Neighbourhood\n",
    "\n",
    "In this section, you want to compare the house value by neighbourhood.\n",
    "\n",
    "1. Create a new DataFrame with the mean house values by neighbourhood per year.\n",
    "\n",
    "2. Visualize the mean `average_house_value` per year with the neighbourhood as a dropdown selector.\n",
    "\n",
    "**Hint:** Use `hvplot` to obtain the interactive dropdown selector for the neighbourhood.\n",
    "\n",
    "  ![avg-price-neighbourhood.png](Images/avg-price-neighbourhood.png)\n",
    "\n",
    "#### Number of Dwelling Types per Year\n",
    "\n",
    "In this section, you want to visualize the number of dwelling types per year in each neighbourhood. You want to provide investors a tool to understand the evolution of dwelling types over the years.\n",
    "\n",
    "**Hint:** Use `hvplot` to create an interactive visualization of the average number of dwelling types per year with a dropdown selector for the neighbourhood.\n",
    "\n",
    "![dwelling_types_per_year](Images/dwelling_types_per_year.png)\n",
    "\n",
    "#### Top 10 Most Expensive Neighbourhoods\n",
    "\n",
    "In this section, you want to figure out which neighbourhoods are the most expensive. You will need to calculate the mean house value for each neighbourhood and then sort the values to obtain the top 10 most expensive neighbourhoods on average. Plot the results as a bar chart.\n",
    "\n",
    "![top-10-expensive-neighbourhoods.png](Images/top-10-expensive-neighbourhoods.png)\n",
    "\n",
    "#### Neighbourhood Map\n",
    "\n",
    "In this final section, you will read in neighbourhood location data and build an interactive map with the average prices per neighbourhood. Use a scatter Mapbox object from Plotly express to create the visualization. You will need your Mapbox API key for this.\n",
    "\n",
    "Remember that to create maps visualizations using Plotly Express, you will need to create an account at [mapbox](https://www.mapbox.com/) and [create an access token](https://docs.mapbox.com/help/how-mapbox-works/access-tokens/#creating-and-managing-access-tokens).\n",
    "\n",
    "  ![neighbourhood-map.png](Images/neighbourhood-map.png)\n",
    "\n",
    "#### Cost Analysis (Optional Challenge)\n",
    "\n",
    "Plotly express offers a broad selection of interactive plots. In this optional challenge section, you will use Plotly express to create a couple of plots that investors can interactively filter and explore various factors related to the house value of Toronto's neighbourhoods.\n",
    "\n",
    "1. Create a bar chart row facet to plot the average house values for all Toronto neighbourhoods per year.\n",
    "\n",
    "    **Hint:** You can learn more about facet plots in Plotly Express in [this link](https://plotly.com/python/facet-plots/).\n",
    "\n",
    "   ![bar_chart_row](Images/bar_chart_row.png)\n",
    "\n",
    "2. Create a sunburst chart to conduct a cost analysis of the most expensive neighbourhoods in Toronto per year.\n",
    "\n",
    "    **Hint:** You can learn more about sunburst charts in Plotly Express in [this link](https://plotly.com/python/sunburst-charts/).\n",
    "\n",
    "    ![sunburst](Images/sunburst.png)\n",
    "\n",
    "### Dashboard\n",
    "\n",
    "Now that you have worked out all of the code and analysis, you will use the Panel library to build an interactive dashboard for all of the visualizations. There are no hard requirements for the layout of this dashboard, so use your imagination and creativity!\n",
    "\n",
    "Use the `dashboard.ipynb` starter notebook for your dashboard code. Copy over the code for each visualization and place this into separate functions (1 function per visualization). This will make it easier to build and modify the layout later. Each function should return the plot figure in a format that Panel can use to plot the visualization.\n",
    "\n",
    "Sample Dashboard:\n",
    "\n",
    "  ![dashboard-demo.gif](Images/dashboard-demo.gif)\n",
    "\n",
    "---\n",
    "\n",
    "### Submission\n",
    "\n",
    "* Upload two separate notebooks to Github - One for the analysis and one for the dashboard.\n",
    "\n",
    "* Write a README file to explain how to run and use your dashboard.\n",
    "\n",
    "* Submit the Github URL repository to Bootcampspot.\n",
    "\n",
    "* **Important Note:** You should not submit your Mapbox access token to Github!\n",
    "\n",
    "---\n",
    "\n",
    "© 2020 Trilogy Education Services, a 2U, Inc. brand. All Rights Reserved.\n"
   ]
  },
  {
   "cell_type": "markdown",
   "metadata": {},
   "source": [
    "# Toronto Dwellings Analysis\n",
    "\n",
    "In this assignment, you will perform fundamental analysis for the Toronto dwellings market to allow potential real estate investors to choose rental investment properties."
   ]
  },
  {
   "cell_type": "code",
   "execution_count": 91,
   "metadata": {},
   "outputs": [],
   "source": [
    "# imports\n",
    "import panel as pn\n",
    "pn.extension('plotly')\n",
    "import plotly.express as px\n",
    "import pandas as pd\n",
    "import hvplot.pandas\n",
    "import matplotlib.pyplot as plt\n",
    "import os\n",
    "from pathlib import Path\n",
    "from dotenv import load_dotenv"
   ]
  },
  {
   "cell_type": "code",
   "execution_count": 135,
   "metadata": {},
   "outputs": [],
   "source": [
    "# Read the Mapbox API key\n",
    "load_dotenv(r\"D:\\Keys\\keys.env\")\n",
    "map_box_api = os.getenv(\"MAPBOX_API_KEY\")"
   ]
  },
  {
   "cell_type": "markdown",
   "metadata": {},
   "source": [
    "## Load Data"
   ]
  },
  {
   "cell_type": "code",
   "execution_count": 93,
   "metadata": {},
   "outputs": [
    {
     "data": {
      "text/html": [
       "<div>\n",
       "<style scoped>\n",
       "    .dataframe tbody tr th:only-of-type {\n",
       "        vertical-align: middle;\n",
       "    }\n",
       "\n",
       "    .dataframe tbody tr th {\n",
       "        vertical-align: top;\n",
       "    }\n",
       "\n",
       "    .dataframe thead th {\n",
       "        text-align: right;\n",
       "    }\n",
       "</style>\n",
       "<table border=\"1\" class=\"dataframe\">\n",
       "  <thead>\n",
       "    <tr style=\"text-align: right;\">\n",
       "      <th></th>\n",
       "      <th>neighbourhood</th>\n",
       "      <th>single_detached_house</th>\n",
       "      <th>apartment_five_storeys_plus</th>\n",
       "      <th>movable_dwelling</th>\n",
       "      <th>semi_detached_house</th>\n",
       "      <th>row_house</th>\n",
       "      <th>duplex</th>\n",
       "      <th>apartment_five_storeys_less</th>\n",
       "      <th>other_house</th>\n",
       "      <th>average_house_value</th>\n",
       "      <th>shelter_costs_owned</th>\n",
       "      <th>shelter_costs_rented</th>\n",
       "    </tr>\n",
       "    <tr>\n",
       "      <th>year</th>\n",
       "      <th></th>\n",
       "      <th></th>\n",
       "      <th></th>\n",
       "      <th></th>\n",
       "      <th></th>\n",
       "      <th></th>\n",
       "      <th></th>\n",
       "      <th></th>\n",
       "      <th></th>\n",
       "      <th></th>\n",
       "      <th></th>\n",
       "      <th></th>\n",
       "    </tr>\n",
       "  </thead>\n",
       "  <tbody>\n",
       "    <tr>\n",
       "      <th>2001</th>\n",
       "      <td>Agincourt North</td>\n",
       "      <td>3715</td>\n",
       "      <td>1480</td>\n",
       "      <td>0</td>\n",
       "      <td>1055</td>\n",
       "      <td>1295</td>\n",
       "      <td>195</td>\n",
       "      <td>185</td>\n",
       "      <td>5</td>\n",
       "      <td>200388</td>\n",
       "      <td>810</td>\n",
       "      <td>870</td>\n",
       "    </tr>\n",
       "    <tr>\n",
       "      <th>2001</th>\n",
       "      <td>Agincourt South-Malvern West</td>\n",
       "      <td>3250</td>\n",
       "      <td>1835</td>\n",
       "      <td>0</td>\n",
       "      <td>545</td>\n",
       "      <td>455</td>\n",
       "      <td>105</td>\n",
       "      <td>425</td>\n",
       "      <td>0</td>\n",
       "      <td>203047</td>\n",
       "      <td>806</td>\n",
       "      <td>892</td>\n",
       "    </tr>\n",
       "    <tr>\n",
       "      <th>2001</th>\n",
       "      <td>Alderwood</td>\n",
       "      <td>3175</td>\n",
       "      <td>315</td>\n",
       "      <td>0</td>\n",
       "      <td>470</td>\n",
       "      <td>50</td>\n",
       "      <td>185</td>\n",
       "      <td>370</td>\n",
       "      <td>0</td>\n",
       "      <td>259998</td>\n",
       "      <td>817</td>\n",
       "      <td>924</td>\n",
       "    </tr>\n",
       "    <tr>\n",
       "      <th>2001</th>\n",
       "      <td>Annex</td>\n",
       "      <td>1060</td>\n",
       "      <td>6090</td>\n",
       "      <td>5</td>\n",
       "      <td>1980</td>\n",
       "      <td>605</td>\n",
       "      <td>275</td>\n",
       "      <td>3710</td>\n",
       "      <td>165</td>\n",
       "      <td>453850</td>\n",
       "      <td>1027</td>\n",
       "      <td>1378</td>\n",
       "    </tr>\n",
       "    <tr>\n",
       "      <th>2001</th>\n",
       "      <td>Banbury-Don Mills</td>\n",
       "      <td>3615</td>\n",
       "      <td>4465</td>\n",
       "      <td>0</td>\n",
       "      <td>240</td>\n",
       "      <td>380</td>\n",
       "      <td>15</td>\n",
       "      <td>1360</td>\n",
       "      <td>0</td>\n",
       "      <td>371864</td>\n",
       "      <td>1007</td>\n",
       "      <td>1163</td>\n",
       "    </tr>\n",
       "  </tbody>\n",
       "</table>\n",
       "</div>"
      ],
      "text/plain": [
       "                     neighbourhood  single_detached_house  \\\n",
       "year                                                        \n",
       "2001               Agincourt North                   3715   \n",
       "2001  Agincourt South-Malvern West                   3250   \n",
       "2001                     Alderwood                   3175   \n",
       "2001                         Annex                   1060   \n",
       "2001             Banbury-Don Mills                   3615   \n",
       "\n",
       "      apartment_five_storeys_plus  movable_dwelling  semi_detached_house  \\\n",
       "year                                                                       \n",
       "2001                         1480                 0                 1055   \n",
       "2001                         1835                 0                  545   \n",
       "2001                          315                 0                  470   \n",
       "2001                         6090                 5                 1980   \n",
       "2001                         4465                 0                  240   \n",
       "\n",
       "      row_house  duplex  apartment_five_storeys_less  other_house  \\\n",
       "year                                                                \n",
       "2001       1295     195                          185            5   \n",
       "2001        455     105                          425            0   \n",
       "2001         50     185                          370            0   \n",
       "2001        605     275                         3710          165   \n",
       "2001        380      15                         1360            0   \n",
       "\n",
       "      average_house_value  shelter_costs_owned  shelter_costs_rented  \n",
       "year                                                                  \n",
       "2001               200388                  810                   870  \n",
       "2001               203047                  806                   892  \n",
       "2001               259998                  817                   924  \n",
       "2001               453850                 1027                  1378  \n",
       "2001               371864                 1007                  1163  "
      ]
     },
     "execution_count": 93,
     "metadata": {},
     "output_type": "execute_result"
    }
   ],
   "source": [
    "# Read the census data into a Pandas DataFrame\n",
    "file_path = Path(\"Data/toronto_neighbourhoods_census_data.csv\")\n",
    "to_data = pd.read_csv(file_path, index_col=\"year\")\n",
    "to_data.head()"
   ]
  },
  {
   "cell_type": "markdown",
   "metadata": {},
   "source": [
    "- - - "
   ]
  },
  {
   "cell_type": "markdown",
   "metadata": {},
   "source": [
    "## Dwelling Types Per Year\n",
    "\n",
    "In this section, you will calculate the number of dwelling types per year. Visualize the results using bar charts and the Pandas plot function. \n",
    "\n",
    "**Hint:** Use the Pandas `groupby` function.\n",
    "\n",
    "**Optional challenge:** Plot each bar chart in a different color."
   ]
  },
  {
   "cell_type": "code",
   "execution_count": 94,
   "metadata": {},
   "outputs": [
    {
     "data": {
      "text/html": [
       "<div>\n",
       "<style scoped>\n",
       "    .dataframe tbody tr th:only-of-type {\n",
       "        vertical-align: middle;\n",
       "    }\n",
       "\n",
       "    .dataframe tbody tr th {\n",
       "        vertical-align: top;\n",
       "    }\n",
       "\n",
       "    .dataframe thead th {\n",
       "        text-align: right;\n",
       "    }\n",
       "</style>\n",
       "<table border=\"1\" class=\"dataframe\">\n",
       "  <thead>\n",
       "    <tr style=\"text-align: right;\">\n",
       "      <th></th>\n",
       "      <th>single_detached_house</th>\n",
       "      <th>apartment_five_storeys_plus</th>\n",
       "      <th>movable_dwelling</th>\n",
       "      <th>semi_detached_house</th>\n",
       "      <th>row_house</th>\n",
       "      <th>duplex</th>\n",
       "      <th>apartment_five_storeys_less</th>\n",
       "      <th>other_house</th>\n",
       "      <th>average_house_value</th>\n",
       "      <th>shelter_costs_owned</th>\n",
       "      <th>shelter_costs_rented</th>\n",
       "    </tr>\n",
       "    <tr>\n",
       "      <th>year</th>\n",
       "      <th></th>\n",
       "      <th></th>\n",
       "      <th></th>\n",
       "      <th></th>\n",
       "      <th></th>\n",
       "      <th></th>\n",
       "      <th></th>\n",
       "      <th></th>\n",
       "      <th></th>\n",
       "      <th></th>\n",
       "      <th></th>\n",
       "    </tr>\n",
       "  </thead>\n",
       "  <tbody>\n",
       "    <tr>\n",
       "      <th>2001</th>\n",
       "      <td>300930</td>\n",
       "      <td>355015</td>\n",
       "      <td>75</td>\n",
       "      <td>90995</td>\n",
       "      <td>52355</td>\n",
       "      <td>23785</td>\n",
       "      <td>116900</td>\n",
       "      <td>3040</td>\n",
       "      <td>40583604</td>\n",
       "      <td>118563</td>\n",
       "      <td>152031</td>\n",
       "    </tr>\n",
       "    <tr>\n",
       "      <th>2006</th>\n",
       "      <td>266860</td>\n",
       "      <td>379400</td>\n",
       "      <td>165</td>\n",
       "      <td>69430</td>\n",
       "      <td>54690</td>\n",
       "      <td>44095</td>\n",
       "      <td>162850</td>\n",
       "      <td>1335</td>\n",
       "      <td>59368353</td>\n",
       "      <td>184352</td>\n",
       "      <td>129558</td>\n",
       "    </tr>\n",
       "    <tr>\n",
       "      <th>2011</th>\n",
       "      <td>274940</td>\n",
       "      <td>429220</td>\n",
       "      <td>100</td>\n",
       "      <td>72480</td>\n",
       "      <td>60355</td>\n",
       "      <td>44750</td>\n",
       "      <td>163895</td>\n",
       "      <td>2165</td>\n",
       "      <td>74259461</td>\n",
       "      <td>202750</td>\n",
       "      <td>142771</td>\n",
       "    </tr>\n",
       "    <tr>\n",
       "      <th>2016</th>\n",
       "      <td>269680</td>\n",
       "      <td>493270</td>\n",
       "      <td>95</td>\n",
       "      <td>71200</td>\n",
       "      <td>61565</td>\n",
       "      <td>48585</td>\n",
       "      <td>165575</td>\n",
       "      <td>2845</td>\n",
       "      <td>92969566</td>\n",
       "      <td>246584</td>\n",
       "      <td>175885</td>\n",
       "    </tr>\n",
       "  </tbody>\n",
       "</table>\n",
       "</div>"
      ],
      "text/plain": [
       "      single_detached_house  apartment_five_storeys_plus  movable_dwelling  \\\n",
       "year                                                                         \n",
       "2001                 300930                       355015                75   \n",
       "2006                 266860                       379400               165   \n",
       "2011                 274940                       429220               100   \n",
       "2016                 269680                       493270                95   \n",
       "\n",
       "      semi_detached_house  row_house  duplex  apartment_five_storeys_less  \\\n",
       "year                                                                        \n",
       "2001                90995      52355   23785                       116900   \n",
       "2006                69430      54690   44095                       162850   \n",
       "2011                72480      60355   44750                       163895   \n",
       "2016                71200      61565   48585                       165575   \n",
       "\n",
       "      other_house  average_house_value  shelter_costs_owned  \\\n",
       "year                                                          \n",
       "2001         3040             40583604               118563   \n",
       "2006         1335             59368353               184352   \n",
       "2011         2165             74259461               202750   \n",
       "2016         2845             92969566               246584   \n",
       "\n",
       "      shelter_costs_rented  \n",
       "year                        \n",
       "2001                152031  \n",
       "2006                129558  \n",
       "2011                142771  \n",
       "2016                175885  "
      ]
     },
     "execution_count": 94,
     "metadata": {},
     "output_type": "execute_result"
    }
   ],
   "source": [
    "# Calculate the sum number of dwelling types units per year (hint: use groupby)\n",
    "to_data_grp = to_data.groupby(\"year\").sum()\n",
    "to_data_grp.head()"
   ]
  },
  {
   "cell_type": "code",
   "execution_count": 95,
   "metadata": {},
   "outputs": [],
   "source": [
    "# Save the dataframe as a csv file\n",
    "to_data_grp.to_csv(\"to_data_grp\")"
   ]
  },
  {
   "cell_type": "code",
   "execution_count": 96,
   "metadata": {},
   "outputs": [
    {
     "data": {
      "text/html": [
       "<div>\n",
       "<style scoped>\n",
       "    .dataframe tbody tr th:only-of-type {\n",
       "        vertical-align: middle;\n",
       "    }\n",
       "\n",
       "    .dataframe tbody tr th {\n",
       "        vertical-align: top;\n",
       "    }\n",
       "\n",
       "    .dataframe thead th {\n",
       "        text-align: right;\n",
       "    }\n",
       "</style>\n",
       "<table border=\"1\" class=\"dataframe\">\n",
       "  <thead>\n",
       "    <tr style=\"text-align: right;\">\n",
       "      <th></th>\n",
       "      <th>single_detached_house</th>\n",
       "      <th>apartment_five_storeys_plus</th>\n",
       "      <th>movable_dwelling</th>\n",
       "      <th>semi_detached_house</th>\n",
       "      <th>row_house</th>\n",
       "      <th>duplex</th>\n",
       "      <th>apartment_five_storeys_less</th>\n",
       "      <th>other_house</th>\n",
       "      <th>average_house_value</th>\n",
       "      <th>shelter_costs_owned</th>\n",
       "      <th>shelter_costs_rented</th>\n",
       "    </tr>\n",
       "    <tr>\n",
       "      <th>year</th>\n",
       "      <th></th>\n",
       "      <th></th>\n",
       "      <th></th>\n",
       "      <th></th>\n",
       "      <th></th>\n",
       "      <th></th>\n",
       "      <th></th>\n",
       "      <th></th>\n",
       "      <th></th>\n",
       "      <th></th>\n",
       "      <th></th>\n",
       "    </tr>\n",
       "  </thead>\n",
       "  <tbody>\n",
       "    <tr>\n",
       "      <th>2001</th>\n",
       "      <td>300930</td>\n",
       "      <td>355015</td>\n",
       "      <td>75</td>\n",
       "      <td>90995</td>\n",
       "      <td>52355</td>\n",
       "      <td>23785</td>\n",
       "      <td>116900</td>\n",
       "      <td>3040</td>\n",
       "      <td>40583604</td>\n",
       "      <td>118563</td>\n",
       "      <td>152031</td>\n",
       "    </tr>\n",
       "    <tr>\n",
       "      <th>2006</th>\n",
       "      <td>266860</td>\n",
       "      <td>379400</td>\n",
       "      <td>165</td>\n",
       "      <td>69430</td>\n",
       "      <td>54690</td>\n",
       "      <td>44095</td>\n",
       "      <td>162850</td>\n",
       "      <td>1335</td>\n",
       "      <td>59368353</td>\n",
       "      <td>184352</td>\n",
       "      <td>129558</td>\n",
       "    </tr>\n",
       "    <tr>\n",
       "      <th>2011</th>\n",
       "      <td>274940</td>\n",
       "      <td>429220</td>\n",
       "      <td>100</td>\n",
       "      <td>72480</td>\n",
       "      <td>60355</td>\n",
       "      <td>44750</td>\n",
       "      <td>163895</td>\n",
       "      <td>2165</td>\n",
       "      <td>74259461</td>\n",
       "      <td>202750</td>\n",
       "      <td>142771</td>\n",
       "    </tr>\n",
       "    <tr>\n",
       "      <th>2016</th>\n",
       "      <td>269680</td>\n",
       "      <td>493270</td>\n",
       "      <td>95</td>\n",
       "      <td>71200</td>\n",
       "      <td>61565</td>\n",
       "      <td>48585</td>\n",
       "      <td>165575</td>\n",
       "      <td>2845</td>\n",
       "      <td>92969566</td>\n",
       "      <td>246584</td>\n",
       "      <td>175885</td>\n",
       "    </tr>\n",
       "  </tbody>\n",
       "</table>\n",
       "</div>"
      ],
      "text/plain": [
       "      single_detached_house  apartment_five_storeys_plus  movable_dwelling  \\\n",
       "year                                                                         \n",
       "2001                 300930                       355015                75   \n",
       "2006                 266860                       379400               165   \n",
       "2011                 274940                       429220               100   \n",
       "2016                 269680                       493270                95   \n",
       "\n",
       "      semi_detached_house  row_house  duplex  apartment_five_storeys_less  \\\n",
       "year                                                                        \n",
       "2001                90995      52355   23785                       116900   \n",
       "2006                69430      54690   44095                       162850   \n",
       "2011                72480      60355   44750                       163895   \n",
       "2016                71200      61565   48585                       165575   \n",
       "\n",
       "      other_house  average_house_value  shelter_costs_owned  \\\n",
       "year                                                          \n",
       "2001         3040             40583604               118563   \n",
       "2006         1335             59368353               184352   \n",
       "2011         2165             74259461               202750   \n",
       "2016         2845             92969566               246584   \n",
       "\n",
       "      shelter_costs_rented  \n",
       "year                        \n",
       "2001                152031  \n",
       "2006                129558  \n",
       "2011                142771  \n",
       "2016                175885  "
      ]
     },
     "execution_count": 96,
     "metadata": {},
     "output_type": "execute_result"
    }
   ],
   "source": [
    "# Helper create_bar_chart function\n",
    "def create_bar_chart(data, title, xlabel, ylabel, color):\n",
    "    a = data.hvplot.bar(rot=90).opts(color=color,\n",
    "    title=title, xlabel=xlabel, ylabel=ylabel,yformatter=\"%.0f\", width=600, height =600\n",
    ")\n",
    "    return a\n",
    "to_data_grp"
   ]
  },
  {
   "cell_type": "code",
   "execution_count": 97,
   "metadata": {},
   "outputs": [
    {
     "data": {},
     "metadata": {},
     "output_type": "display_data"
    },
    {
     "data": {
      "application/vnd.holoviews_exec.v0+json": "",
      "text/html": [
       "<div id='3815'>\n",
       "\n",
       "\n",
       "\n",
       "\n",
       "\n",
       "  <div class=\"bk-root\" id=\"26200f04-b254-4390-84f2-50a2bf445b44\" data-root-id=\"3815\"></div>\n",
       "</div>\n",
       "<script type=\"application/javascript\">(function(root) {\n",
       "  function embed_document(root) {\n",
       "    var docs_json = {\"3246912c-157a-4b0c-91a8-23c7d63c3e51\":{\"roots\":{\"references\":[{\"attributes\":{},\"id\":\"3840\",\"type\":\"ResetTool\"},{\"attributes\":{},\"id\":\"3827\",\"type\":\"LinearScale\"},{\"attributes\":{},\"id\":\"3830\",\"type\":\"CategoricalTicker\"},{\"attributes\":{\"end\":390509.0,\"reset_end\":390509.0,\"reset_start\":0.0,\"tags\":[[[\"value\",\"value\",null]]]},\"id\":\"3818\",\"type\":\"Range1d\"},{\"attributes\":{\"axis\":{\"id\":\"3829\"},\"grid_line_color\":null,\"ticker\":null},\"id\":\"3831\",\"type\":\"Grid\"},{\"attributes\":{\"source\":{\"id\":\"3850\"}},\"id\":\"3857\",\"type\":\"CDSView\"},{\"attributes\":{\"axis_label\":\"Dwelling Type Units\",\"bounds\":\"auto\",\"formatter\":{\"id\":\"3858\"},\"major_label_orientation\":\"horizontal\",\"ticker\":{\"id\":\"3833\"}},\"id\":\"3832\",\"type\":\"LinearAxis\"},{\"attributes\":{\"fill_alpha\":{\"value\":0.2},\"fill_color\":{\"field\":\"Variable\",\"transform\":{\"id\":\"3849\"}},\"line_alpha\":{\"value\":0.2},\"top\":{\"field\":\"value\"},\"width\":{\"value\":0.8},\"x\":{\"field\":\"xoffsets\"}},\"id\":\"3855\",\"type\":\"VBar\"},{\"attributes\":{\"data_source\":{\"id\":\"3850\"},\"glyph\":{\"id\":\"3853\"},\"hover_glyph\":null,\"muted_glyph\":{\"id\":\"3855\"},\"nonselection_glyph\":{\"id\":\"3854\"},\"selection_glyph\":null,\"view\":{\"id\":\"3857\"}},\"id\":\"3856\",\"type\":\"GlyphRenderer\"},{\"attributes\":{},\"id\":\"3833\",\"type\":\"BasicTicker\"},{\"attributes\":{\"axis\":{\"id\":\"3832\"},\"dimension\":1,\"grid_line_color\":null,\"ticker\":null},\"id\":\"3835\",\"type\":\"Grid\"},{\"attributes\":{\"callback\":null,\"renderers\":[{\"id\":\"3856\"}],\"tags\":[\"hv_created\"],\"tooltips\":[[\"year\",\"@{year}\"],[\"Variable\",\"@{Variable}\"],[\"value\",\"@{value}\"]]},\"id\":\"3819\",\"type\":\"HoverTool\"},{\"attributes\":{\"active_drag\":\"auto\",\"active_inspect\":\"auto\",\"active_multi\":null,\"active_scroll\":\"auto\",\"active_tap\":\"auto\",\"tools\":[{\"id\":\"3819\"},{\"id\":\"3836\"},{\"id\":\"3837\"},{\"id\":\"3838\"},{\"id\":\"3839\"},{\"id\":\"3840\"}]},\"id\":\"3842\",\"type\":\"Toolbar\"},{\"attributes\":{\"margin\":[5,5,5,5],\"name\":\"HSpacer11274\",\"sizing_mode\":\"stretch_width\"},\"id\":\"3879\",\"type\":\"Spacer\"},{\"attributes\":{},\"id\":\"3859\",\"type\":\"CategoricalTickFormatter\"},{\"attributes\":{},\"id\":\"3825\",\"type\":\"CategoricalScale\"},{\"attributes\":{\"bottom_units\":\"screen\",\"fill_alpha\":0.5,\"fill_color\":\"lightgrey\",\"left_units\":\"screen\",\"level\":\"overlay\",\"line_alpha\":1.0,\"line_color\":\"black\",\"line_dash\":[4,4],\"line_width\":2,\"right_units\":\"screen\",\"top_units\":\"screen\"},\"id\":\"3841\",\"type\":\"BoxAnnotation\"},{\"attributes\":{\"data\":{\"Variable\":[\"single_detached_house\",\"apartment_five_storeys_plus\",\"movable_dwelling\",\"semi_detached_house\",\"row_house\",\"duplex\",\"apartment_five_storeys_less\",\"other_house\"],\"value\":[300930,355015,75,90995,52355,23785,116900,3040],\"xoffsets\":[[\"2001\",\"single_detached_house\"],[\"2001\",\"apartment_five_storeys_plus\"],[\"2001\",\"movable_dwelling\"],[\"2001\",\"semi_detached_house\"],[\"2001\",\"row_house\"],[\"2001\",\"duplex\"],[\"2001\",\"apartment_five_storeys_less\"],[\"2001\",\"other_house\"]],\"year\":[\"2001\",\"2001\",\"2001\",\"2001\",\"2001\",\"2001\",\"2001\",\"2001\"]},\"selected\":{\"id\":\"3851\"},\"selection_policy\":{\"id\":\"3871\"}},\"id\":\"3850\",\"type\":\"ColumnDataSource\"},{\"attributes\":{\"axis_label\":\"2001\",\"bounds\":\"auto\",\"formatter\":{\"id\":\"3859\"},\"major_label_orientation\":1.5707963267948966,\"ticker\":{\"id\":\"3830\"}},\"id\":\"3829\",\"type\":\"CategoricalAxis\"},{\"attributes\":{\"fill_alpha\":{\"value\":0.1},\"fill_color\":{\"field\":\"Variable\",\"transform\":{\"id\":\"3849\"}},\"line_alpha\":{\"value\":0.1},\"top\":{\"field\":\"value\"},\"width\":{\"value\":0.8},\"x\":{\"field\":\"xoffsets\"}},\"id\":\"3854\",\"type\":\"VBar\"},{\"attributes\":{},\"id\":\"3871\",\"type\":\"UnionRenderers\"},{\"attributes\":{\"text\":\"number of dwelling types units in 2001\",\"text_color\":{\"value\":\"black\"},\"text_font_size\":{\"value\":\"12pt\"}},\"id\":\"3821\",\"type\":\"Title\"},{\"attributes\":{\"fill_color\":{\"field\":\"Variable\",\"transform\":{\"id\":\"3849\"}},\"top\":{\"field\":\"value\"},\"width\":{\"value\":0.8},\"x\":{\"field\":\"xoffsets\"}},\"id\":\"3853\",\"type\":\"VBar\"},{\"attributes\":{},\"id\":\"3836\",\"type\":\"SaveTool\"},{\"attributes\":{\"format\":\"%.0f\"},\"id\":\"3858\",\"type\":\"PrintfTickFormatter\"},{\"attributes\":{\"children\":[{\"id\":\"3816\"},{\"id\":\"3820\"},{\"id\":\"3879\"}],\"margin\":[0,0,0,0],\"name\":\"Row11269\",\"tags\":[\"embedded\"]},\"id\":\"3815\",\"type\":\"Row\"},{\"attributes\":{\"below\":[{\"id\":\"3829\"}],\"center\":[{\"id\":\"3831\"},{\"id\":\"3835\"}],\"left\":[{\"id\":\"3832\"}],\"margin\":[5,5,5,5],\"min_border_bottom\":10,\"min_border_left\":10,\"min_border_right\":10,\"min_border_top\":10,\"renderers\":[{\"id\":\"3856\"}],\"sizing_mode\":\"fixed\",\"title\":{\"id\":\"3821\"},\"toolbar\":{\"id\":\"3842\"},\"x_range\":{\"id\":\"3817\"},\"x_scale\":{\"id\":\"3825\"},\"y_range\":{\"id\":\"3818\"},\"y_scale\":{\"id\":\"3827\"}},\"id\":\"3820\",\"subtype\":\"Figure\",\"type\":\"Plot\"},{\"attributes\":{},\"id\":\"3837\",\"type\":\"PanTool\"},{\"attributes\":{\"factors\":[\"single_detached_house\",\"apartment_five_storeys_plus\",\"movable_dwelling\",\"semi_detached_house\",\"row_house\",\"duplex\",\"apartment_five_storeys_less\",\"other_house\"],\"palette\":[\"black\",\"black\",\"black\",\"black\",\"black\",\"black\",\"black\",\"black\"]},\"id\":\"3849\",\"type\":\"CategoricalColorMapper\"},{\"attributes\":{},\"id\":\"3851\",\"type\":\"Selection\"},{\"attributes\":{},\"id\":\"3838\",\"type\":\"WheelZoomTool\"},{\"attributes\":{\"margin\":[5,5,5,5],\"name\":\"HSpacer11273\",\"sizing_mode\":\"stretch_width\"},\"id\":\"3816\",\"type\":\"Spacer\"},{\"attributes\":{\"overlay\":{\"id\":\"3841\"}},\"id\":\"3839\",\"type\":\"BoxZoomTool\"},{\"attributes\":{\"factors\":[[\"2001\",\"other_house\"],[\"2001\",\"apartment_five_storeys_less\"],[\"2001\",\"duplex\"],[\"2001\",\"row_house\"],[\"2001\",\"semi_detached_house\"],[\"2001\",\"movable_dwelling\"],[\"2001\",\"apartment_five_storeys_plus\"],[\"2001\",\"single_detached_house\"]],\"tags\":[[[\"year\",\"year\",null],[\"Variable\",\"Variable\",null]]]},\"id\":\"3817\",\"type\":\"FactorRange\"}],\"root_ids\":[\"3815\"]},\"title\":\"Bokeh Application\",\"version\":\"2.2.3\"}};\n",
       "    var render_items = [{\"docid\":\"3246912c-157a-4b0c-91a8-23c7d63c3e51\",\"root_ids\":[\"3815\"],\"roots\":{\"3815\":\"26200f04-b254-4390-84f2-50a2bf445b44\"}}];\n",
       "    root.Bokeh.embed.embed_items_notebook(docs_json, render_items);\n",
       "  }\n",
       "  if (root.Bokeh !== undefined && root.Bokeh.Panel !== undefined && root['Plotly'] !== undefined ) {\n",
       "    embed_document(root);\n",
       "  } else {\n",
       "    var attempts = 0;\n",
       "    var timer = setInterval(function(root) {\n",
       "      if (root.Bokeh !== undefined && root.Bokeh.Panel !== undefined && root['Plotly'] !== undefined) {\n",
       "        clearInterval(timer);\n",
       "        embed_document(root);\n",
       "      } else if (document.readyState == \"complete\") {\n",
       "        attempts++;\n",
       "        if (attempts > 100) {\n",
       "          clearInterval(timer);\n",
       "          console.log(\"Bokeh: ERROR: Unable to run BokehJS code because BokehJS library is missing\");\n",
       "        }\n",
       "      }\n",
       "    }, 10, root)\n",
       "  }\n",
       "})(window);</script>"
      ],
      "text/plain": [
       ":Bars   [year,Variable]   (value)"
      ]
     },
     "execution_count": 97,
     "metadata": {
      "application/vnd.holoviews_exec.v0+json": {
       "id": "3815"
      }
     },
     "output_type": "execute_result"
    }
   ],
   "source": [
    "# Create a bar chart per year to show the number of dwelling types\n",
    "\n",
    "# Bar chart for 2001\n",
    "data_2001 = to_data_grp.loc[\"2001\":\"2001\",\"single_detached_house\":\"other_house\"]\n",
    "bar_2001 = create_bar_chart(data_2001, \"number of dwelling types units in 2001\", \"2001\", \"Dwelling Type Units\", \"black\" )\n",
    "# Bar chart for 2006\n",
    "data_2006 = to_data_grp.loc[\"2006\":\"2006\",\"single_detached_house\":\"other_house\"]\n",
    "bar_2006 = create_bar_chart(data_2006, \"number of dwelling types units in 2006\", \"2006\", \"Dwelling Type Units\", \"blue\" )\n",
    "# Bar chart for 2011\n",
    "data_2011 = to_data_grp.loc[\"2011\":\"2011\",\"single_detached_house\":\"other_house\"]\n",
    "bar_2011 = create_bar_chart(data_2011, \"number of dwelling types units in 2011\", \"2011\", \"Dwelling Type Units\", \"red\" )\n",
    "# Bar chart for 2016\n",
    "data_2016 = to_data_grp.loc[\"2016\":\"2016\",\"single_detached_house\":\"other_house\"]\n",
    "bar_2016 = create_bar_chart(data_2016, \"number of dwelling types units in 2016\", \"2016\", \"Dwelling Type Units\", \"green\" )\n",
    "bar_2001\n"
   ]
  },
  {
   "cell_type": "code",
   "execution_count": 98,
   "metadata": {},
   "outputs": [
    {
     "data": {},
     "metadata": {},
     "output_type": "display_data"
    },
    {
     "data": {
      "application/vnd.holoviews_exec.v0+json": "",
      "text/html": [
       "<div id='3916'>\n",
       "\n",
       "\n",
       "\n",
       "\n",
       "\n",
       "  <div class=\"bk-root\" id=\"80b3e7fd-b58c-420c-858e-be8498c3a254\" data-root-id=\"3916\"></div>\n",
       "</div>\n",
       "<script type=\"application/javascript\">(function(root) {\n",
       "  function embed_document(root) {\n",
       "    var docs_json = {\"5202bdee-15fb-418c-a585-e4bbacc6f13d\":{\"roots\":{\"references\":[{\"attributes\":{},\"id\":\"3928\",\"type\":\"LinearScale\"},{\"attributes\":{\"factors\":[\"single_detached_house\",\"apartment_five_storeys_plus\",\"movable_dwelling\",\"semi_detached_house\",\"row_house\",\"duplex\",\"apartment_five_storeys_less\",\"other_house\"],\"palette\":[\"blue\",\"blue\",\"blue\",\"blue\",\"blue\",\"blue\",\"blue\",\"blue\"]},\"id\":\"3950\",\"type\":\"CategoricalColorMapper\"},{\"attributes\":{\"factors\":[[\"2006\",\"other_house\"],[\"2006\",\"apartment_five_storeys_less\"],[\"2006\",\"duplex\"],[\"2006\",\"row_house\"],[\"2006\",\"semi_detached_house\"],[\"2006\",\"movable_dwelling\"],[\"2006\",\"apartment_five_storeys_plus\"],[\"2006\",\"single_detached_house\"]],\"tags\":[[[\"year\",\"year\",null],[\"Variable\",\"Variable\",null]]]},\"id\":\"3918\",\"type\":\"FactorRange\"},{\"attributes\":{},\"id\":\"3960\",\"type\":\"CategoricalTickFormatter\"},{\"attributes\":{},\"id\":\"3934\",\"type\":\"BasicTicker\"},{\"attributes\":{\"source\":{\"id\":\"3951\"}},\"id\":\"3958\",\"type\":\"CDSView\"},{\"attributes\":{\"children\":[{\"id\":\"3917\"},{\"id\":\"3921\"},{\"id\":\"3980\"}],\"margin\":[0,0,0,0],\"name\":\"Row11475\",\"tags\":[\"embedded\"]},\"id\":\"3916\",\"type\":\"Row\"},{\"attributes\":{\"callback\":null,\"renderers\":[{\"id\":\"3957\"}],\"tags\":[\"hv_created\"],\"tooltips\":[[\"year\",\"@{year}\"],[\"Variable\",\"@{Variable}\"],[\"value\",\"@{value}\"]]},\"id\":\"3920\",\"type\":\"HoverTool\"},{\"attributes\":{},\"id\":\"3938\",\"type\":\"PanTool\"},{\"attributes\":{},\"id\":\"3972\",\"type\":\"UnionRenderers\"},{\"attributes\":{},\"id\":\"3931\",\"type\":\"CategoricalTicker\"},{\"attributes\":{\"margin\":[5,5,5,5],\"name\":\"HSpacer11480\",\"sizing_mode\":\"stretch_width\"},\"id\":\"3980\",\"type\":\"Spacer\"},{\"attributes\":{\"active_drag\":\"auto\",\"active_inspect\":\"auto\",\"active_multi\":null,\"active_scroll\":\"auto\",\"active_tap\":\"auto\",\"tools\":[{\"id\":\"3920\"},{\"id\":\"3937\"},{\"id\":\"3938\"},{\"id\":\"3939\"},{\"id\":\"3940\"},{\"id\":\"3941\"}]},\"id\":\"3943\",\"type\":\"Toolbar\"},{\"attributes\":{\"overlay\":{\"id\":\"3942\"}},\"id\":\"3940\",\"type\":\"BoxZoomTool\"},{\"attributes\":{\"bottom_units\":\"screen\",\"fill_alpha\":0.5,\"fill_color\":\"lightgrey\",\"left_units\":\"screen\",\"level\":\"overlay\",\"line_alpha\":1.0,\"line_color\":\"black\",\"line_dash\":[4,4],\"line_width\":2,\"right_units\":\"screen\",\"top_units\":\"screen\"},\"id\":\"3942\",\"type\":\"BoxAnnotation\"},{\"attributes\":{\"end\":417323.5,\"reset_end\":417323.5,\"reset_start\":0.0,\"tags\":[[[\"value\",\"value\",null]]]},\"id\":\"3919\",\"type\":\"Range1d\"},{\"attributes\":{\"margin\":[5,5,5,5],\"name\":\"HSpacer11479\",\"sizing_mode\":\"stretch_width\"},\"id\":\"3917\",\"type\":\"Spacer\"},{\"attributes\":{},\"id\":\"3937\",\"type\":\"SaveTool\"},{\"attributes\":{\"fill_alpha\":{\"value\":0.1},\"fill_color\":{\"field\":\"Variable\",\"transform\":{\"id\":\"3950\"}},\"line_alpha\":{\"value\":0.1},\"top\":{\"field\":\"value\"},\"width\":{\"value\":0.8},\"x\":{\"field\":\"xoffsets\"}},\"id\":\"3955\",\"type\":\"VBar\"},{\"attributes\":{\"axis\":{\"id\":\"3930\"},\"grid_line_color\":null,\"ticker\":null},\"id\":\"3932\",\"type\":\"Grid\"},{\"attributes\":{},\"id\":\"3926\",\"type\":\"CategoricalScale\"},{\"attributes\":{},\"id\":\"3939\",\"type\":\"WheelZoomTool\"},{\"attributes\":{\"format\":\"%.0f\"},\"id\":\"3959\",\"type\":\"PrintfTickFormatter\"},{\"attributes\":{\"axis_label\":\"Dwelling Type Units\",\"bounds\":\"auto\",\"formatter\":{\"id\":\"3959\"},\"major_label_orientation\":\"horizontal\",\"ticker\":{\"id\":\"3934\"}},\"id\":\"3933\",\"type\":\"LinearAxis\"},{\"attributes\":{\"below\":[{\"id\":\"3930\"}],\"center\":[{\"id\":\"3932\"},{\"id\":\"3936\"}],\"left\":[{\"id\":\"3933\"}],\"margin\":[5,5,5,5],\"min_border_bottom\":10,\"min_border_left\":10,\"min_border_right\":10,\"min_border_top\":10,\"renderers\":[{\"id\":\"3957\"}],\"sizing_mode\":\"fixed\",\"title\":{\"id\":\"3922\"},\"toolbar\":{\"id\":\"3943\"},\"x_range\":{\"id\":\"3918\"},\"x_scale\":{\"id\":\"3926\"},\"y_range\":{\"id\":\"3919\"},\"y_scale\":{\"id\":\"3928\"}},\"id\":\"3921\",\"subtype\":\"Figure\",\"type\":\"Plot\"},{\"attributes\":{\"axis\":{\"id\":\"3933\"},\"dimension\":1,\"grid_line_color\":null,\"ticker\":null},\"id\":\"3936\",\"type\":\"Grid\"},{\"attributes\":{},\"id\":\"3952\",\"type\":\"Selection\"},{\"attributes\":{},\"id\":\"3941\",\"type\":\"ResetTool\"},{\"attributes\":{\"fill_alpha\":{\"value\":0.2},\"fill_color\":{\"field\":\"Variable\",\"transform\":{\"id\":\"3950\"}},\"line_alpha\":{\"value\":0.2},\"top\":{\"field\":\"value\"},\"width\":{\"value\":0.8},\"x\":{\"field\":\"xoffsets\"}},\"id\":\"3956\",\"type\":\"VBar\"},{\"attributes\":{\"data\":{\"Variable\":[\"single_detached_house\",\"apartment_five_storeys_plus\",\"movable_dwelling\",\"semi_detached_house\",\"row_house\",\"duplex\",\"apartment_five_storeys_less\",\"other_house\"],\"value\":[266860,379400,165,69430,54690,44095,162850,1335],\"xoffsets\":[[\"2006\",\"single_detached_house\"],[\"2006\",\"apartment_five_storeys_plus\"],[\"2006\",\"movable_dwelling\"],[\"2006\",\"semi_detached_house\"],[\"2006\",\"row_house\"],[\"2006\",\"duplex\"],[\"2006\",\"apartment_five_storeys_less\"],[\"2006\",\"other_house\"]],\"year\":[\"2006\",\"2006\",\"2006\",\"2006\",\"2006\",\"2006\",\"2006\",\"2006\"]},\"selected\":{\"id\":\"3952\"},\"selection_policy\":{\"id\":\"3972\"}},\"id\":\"3951\",\"type\":\"ColumnDataSource\"},{\"attributes\":{\"axis_label\":\"2006\",\"bounds\":\"auto\",\"formatter\":{\"id\":\"3960\"},\"major_label_orientation\":1.5707963267948966,\"ticker\":{\"id\":\"3931\"}},\"id\":\"3930\",\"type\":\"CategoricalAxis\"},{\"attributes\":{\"text\":\"number of dwelling types units in 2006\",\"text_color\":{\"value\":\"black\"},\"text_font_size\":{\"value\":\"12pt\"}},\"id\":\"3922\",\"type\":\"Title\"},{\"attributes\":{\"fill_color\":{\"field\":\"Variable\",\"transform\":{\"id\":\"3950\"}},\"top\":{\"field\":\"value\"},\"width\":{\"value\":0.8},\"x\":{\"field\":\"xoffsets\"}},\"id\":\"3954\",\"type\":\"VBar\"},{\"attributes\":{\"data_source\":{\"id\":\"3951\"},\"glyph\":{\"id\":\"3954\"},\"hover_glyph\":null,\"muted_glyph\":{\"id\":\"3956\"},\"nonselection_glyph\":{\"id\":\"3955\"},\"selection_glyph\":null,\"view\":{\"id\":\"3958\"}},\"id\":\"3957\",\"type\":\"GlyphRenderer\"}],\"root_ids\":[\"3916\"]},\"title\":\"Bokeh Application\",\"version\":\"2.2.3\"}};\n",
       "    var render_items = [{\"docid\":\"5202bdee-15fb-418c-a585-e4bbacc6f13d\",\"root_ids\":[\"3916\"],\"roots\":{\"3916\":\"80b3e7fd-b58c-420c-858e-be8498c3a254\"}}];\n",
       "    root.Bokeh.embed.embed_items_notebook(docs_json, render_items);\n",
       "  }\n",
       "  if (root.Bokeh !== undefined && root.Bokeh.Panel !== undefined && root['Plotly'] !== undefined ) {\n",
       "    embed_document(root);\n",
       "  } else {\n",
       "    var attempts = 0;\n",
       "    var timer = setInterval(function(root) {\n",
       "      if (root.Bokeh !== undefined && root.Bokeh.Panel !== undefined && root['Plotly'] !== undefined) {\n",
       "        clearInterval(timer);\n",
       "        embed_document(root);\n",
       "      } else if (document.readyState == \"complete\") {\n",
       "        attempts++;\n",
       "        if (attempts > 100) {\n",
       "          clearInterval(timer);\n",
       "          console.log(\"Bokeh: ERROR: Unable to run BokehJS code because BokehJS library is missing\");\n",
       "        }\n",
       "      }\n",
       "    }, 10, root)\n",
       "  }\n",
       "})(window);</script>"
      ],
      "text/plain": [
       ":Bars   [year,Variable]   (value)"
      ]
     },
     "execution_count": 98,
     "metadata": {
      "application/vnd.holoviews_exec.v0+json": {
       "id": "3916"
      }
     },
     "output_type": "execute_result"
    }
   ],
   "source": [
    "bar_2006"
   ]
  },
  {
   "cell_type": "code",
   "execution_count": 99,
   "metadata": {},
   "outputs": [
    {
     "data": {},
     "metadata": {},
     "output_type": "display_data"
    },
    {
     "data": {
      "application/vnd.holoviews_exec.v0+json": "",
      "text/html": [
       "<div id='4017'>\n",
       "\n",
       "\n",
       "\n",
       "\n",
       "\n",
       "  <div class=\"bk-root\" id=\"29a4a2a5-b299-46f6-b5bc-375450e655d7\" data-root-id=\"4017\"></div>\n",
       "</div>\n",
       "<script type=\"application/javascript\">(function(root) {\n",
       "  function embed_document(root) {\n",
       "    var docs_json = {\"2b8e824c-a145-40b0-ac74-9d061d75c4df\":{\"roots\":{\"references\":[{\"attributes\":{\"bottom_units\":\"screen\",\"fill_alpha\":0.5,\"fill_color\":\"lightgrey\",\"left_units\":\"screen\",\"level\":\"overlay\",\"line_alpha\":1.0,\"line_color\":\"black\",\"line_dash\":[4,4],\"line_width\":2,\"right_units\":\"screen\",\"top_units\":\"screen\"},\"id\":\"4043\",\"type\":\"BoxAnnotation\"},{\"attributes\":{},\"id\":\"4053\",\"type\":\"Selection\"},{\"attributes\":{\"active_drag\":\"auto\",\"active_inspect\":\"auto\",\"active_multi\":null,\"active_scroll\":\"auto\",\"active_tap\":\"auto\",\"tools\":[{\"id\":\"4021\"},{\"id\":\"4038\"},{\"id\":\"4039\"},{\"id\":\"4040\"},{\"id\":\"4041\"},{\"id\":\"4042\"}]},\"id\":\"4044\",\"type\":\"Toolbar\"},{\"attributes\":{\"data_source\":{\"id\":\"4052\"},\"glyph\":{\"id\":\"4055\"},\"hover_glyph\":null,\"muted_glyph\":{\"id\":\"4057\"},\"nonselection_glyph\":{\"id\":\"4056\"},\"selection_glyph\":null,\"view\":{\"id\":\"4059\"}},\"id\":\"4058\",\"type\":\"GlyphRenderer\"},{\"attributes\":{\"margin\":[5,5,5,5],\"name\":\"HSpacer11686\",\"sizing_mode\":\"stretch_width\"},\"id\":\"4081\",\"type\":\"Spacer\"},{\"attributes\":{},\"id\":\"4027\",\"type\":\"CategoricalScale\"},{\"attributes\":{\"fill_color\":{\"field\":\"Variable\",\"transform\":{\"id\":\"4051\"}},\"top\":{\"field\":\"value\"},\"width\":{\"value\":0.8},\"x\":{\"field\":\"xoffsets\"}},\"id\":\"4055\",\"type\":\"VBar\"},{\"attributes\":{\"text\":\"number of dwelling types units in 2011\",\"text_color\":{\"value\":\"black\"},\"text_font_size\":{\"value\":\"12pt\"}},\"id\":\"4023\",\"type\":\"Title\"},{\"attributes\":{},\"id\":\"4061\",\"type\":\"CategoricalTickFormatter\"},{\"attributes\":{},\"id\":\"4073\",\"type\":\"UnionRenderers\"},{\"attributes\":{\"below\":[{\"id\":\"4031\"}],\"center\":[{\"id\":\"4033\"},{\"id\":\"4037\"}],\"left\":[{\"id\":\"4034\"}],\"margin\":[5,5,5,5],\"min_border_bottom\":10,\"min_border_left\":10,\"min_border_right\":10,\"min_border_top\":10,\"renderers\":[{\"id\":\"4058\"}],\"sizing_mode\":\"fixed\",\"title\":{\"id\":\"4023\"},\"toolbar\":{\"id\":\"4044\"},\"x_range\":{\"id\":\"4019\"},\"x_scale\":{\"id\":\"4027\"},\"y_range\":{\"id\":\"4020\"},\"y_scale\":{\"id\":\"4029\"}},\"id\":\"4022\",\"subtype\":\"Figure\",\"type\":\"Plot\"},{\"attributes\":{\"callback\":null,\"renderers\":[{\"id\":\"4058\"}],\"tags\":[\"hv_created\"],\"tooltips\":[[\"year\",\"@{year}\"],[\"Variable\",\"@{Variable}\"],[\"value\",\"@{value}\"]]},\"id\":\"4021\",\"type\":\"HoverTool\"},{\"attributes\":{},\"id\":\"4038\",\"type\":\"SaveTool\"},{\"attributes\":{},\"id\":\"4039\",\"type\":\"PanTool\"},{\"attributes\":{},\"id\":\"4042\",\"type\":\"ResetTool\"},{\"attributes\":{},\"id\":\"4040\",\"type\":\"WheelZoomTool\"},{\"attributes\":{\"format\":\"%.0f\"},\"id\":\"4060\",\"type\":\"PrintfTickFormatter\"},{\"attributes\":{},\"id\":\"4032\",\"type\":\"CategoricalTicker\"},{\"attributes\":{\"overlay\":{\"id\":\"4043\"}},\"id\":\"4041\",\"type\":\"BoxZoomTool\"},{\"attributes\":{\"axis\":{\"id\":\"4031\"},\"grid_line_color\":null,\"ticker\":null},\"id\":\"4033\",\"type\":\"Grid\"},{\"attributes\":{\"fill_alpha\":{\"value\":0.1},\"fill_color\":{\"field\":\"Variable\",\"transform\":{\"id\":\"4051\"}},\"line_alpha\":{\"value\":0.1},\"top\":{\"field\":\"value\"},\"width\":{\"value\":0.8},\"x\":{\"field\":\"xoffsets\"}},\"id\":\"4056\",\"type\":\"VBar\"},{\"attributes\":{},\"id\":\"4029\",\"type\":\"LinearScale\"},{\"attributes\":{\"axis_label\":\"2011\",\"bounds\":\"auto\",\"formatter\":{\"id\":\"4061\"},\"major_label_orientation\":1.5707963267948966,\"ticker\":{\"id\":\"4032\"}},\"id\":\"4031\",\"type\":\"CategoricalAxis\"},{\"attributes\":{\"margin\":[5,5,5,5],\"name\":\"HSpacer11685\",\"sizing_mode\":\"stretch_width\"},\"id\":\"4018\",\"type\":\"Spacer\"},{\"attributes\":{\"factors\":[[\"2011\",\"other_house\"],[\"2011\",\"apartment_five_storeys_less\"],[\"2011\",\"duplex\"],[\"2011\",\"row_house\"],[\"2011\",\"semi_detached_house\"],[\"2011\",\"movable_dwelling\"],[\"2011\",\"apartment_five_storeys_plus\"],[\"2011\",\"single_detached_house\"]],\"tags\":[[[\"year\",\"year\",null],[\"Variable\",\"Variable\",null]]]},\"id\":\"4019\",\"type\":\"FactorRange\"},{\"attributes\":{\"factors\":[\"single_detached_house\",\"apartment_five_storeys_plus\",\"movable_dwelling\",\"semi_detached_house\",\"row_house\",\"duplex\",\"apartment_five_storeys_less\",\"other_house\"],\"palette\":[\"red\",\"red\",\"red\",\"red\",\"red\",\"red\",\"red\",\"red\"]},\"id\":\"4051\",\"type\":\"CategoricalColorMapper\"},{\"attributes\":{\"source\":{\"id\":\"4052\"}},\"id\":\"4059\",\"type\":\"CDSView\"},{\"attributes\":{\"children\":[{\"id\":\"4018\"},{\"id\":\"4022\"},{\"id\":\"4081\"}],\"margin\":[0,0,0,0],\"name\":\"Row11681\",\"tags\":[\"embedded\"]},\"id\":\"4017\",\"type\":\"Row\"},{\"attributes\":{\"axis_label\":\"Dwelling Type Units\",\"bounds\":\"auto\",\"formatter\":{\"id\":\"4060\"},\"major_label_orientation\":\"horizontal\",\"ticker\":{\"id\":\"4035\"}},\"id\":\"4034\",\"type\":\"LinearAxis\"},{\"attributes\":{\"data\":{\"Variable\":[\"single_detached_house\",\"apartment_five_storeys_plus\",\"movable_dwelling\",\"semi_detached_house\",\"row_house\",\"duplex\",\"apartment_five_storeys_less\",\"other_house\"],\"value\":[274940,429220,100,72480,60355,44750,163895,2165],\"xoffsets\":[[\"2011\",\"single_detached_house\"],[\"2011\",\"apartment_five_storeys_plus\"],[\"2011\",\"movable_dwelling\"],[\"2011\",\"semi_detached_house\"],[\"2011\",\"row_house\"],[\"2011\",\"duplex\"],[\"2011\",\"apartment_five_storeys_less\"],[\"2011\",\"other_house\"]],\"year\":[\"2011\",\"2011\",\"2011\",\"2011\",\"2011\",\"2011\",\"2011\",\"2011\"]},\"selected\":{\"id\":\"4053\"},\"selection_policy\":{\"id\":\"4073\"}},\"id\":\"4052\",\"type\":\"ColumnDataSource\"},{\"attributes\":{},\"id\":\"4035\",\"type\":\"BasicTicker\"},{\"attributes\":{\"axis\":{\"id\":\"4034\"},\"dimension\":1,\"grid_line_color\":null,\"ticker\":null},\"id\":\"4037\",\"type\":\"Grid\"},{\"attributes\":{\"end\":472132.0,\"reset_end\":472132.0,\"reset_start\":0.0,\"tags\":[[[\"value\",\"value\",null]]]},\"id\":\"4020\",\"type\":\"Range1d\"},{\"attributes\":{\"fill_alpha\":{\"value\":0.2},\"fill_color\":{\"field\":\"Variable\",\"transform\":{\"id\":\"4051\"}},\"line_alpha\":{\"value\":0.2},\"top\":{\"field\":\"value\"},\"width\":{\"value\":0.8},\"x\":{\"field\":\"xoffsets\"}},\"id\":\"4057\",\"type\":\"VBar\"}],\"root_ids\":[\"4017\"]},\"title\":\"Bokeh Application\",\"version\":\"2.2.3\"}};\n",
       "    var render_items = [{\"docid\":\"2b8e824c-a145-40b0-ac74-9d061d75c4df\",\"root_ids\":[\"4017\"],\"roots\":{\"4017\":\"29a4a2a5-b299-46f6-b5bc-375450e655d7\"}}];\n",
       "    root.Bokeh.embed.embed_items_notebook(docs_json, render_items);\n",
       "  }\n",
       "  if (root.Bokeh !== undefined && root.Bokeh.Panel !== undefined && root['Plotly'] !== undefined ) {\n",
       "    embed_document(root);\n",
       "  } else {\n",
       "    var attempts = 0;\n",
       "    var timer = setInterval(function(root) {\n",
       "      if (root.Bokeh !== undefined && root.Bokeh.Panel !== undefined && root['Plotly'] !== undefined) {\n",
       "        clearInterval(timer);\n",
       "        embed_document(root);\n",
       "      } else if (document.readyState == \"complete\") {\n",
       "        attempts++;\n",
       "        if (attempts > 100) {\n",
       "          clearInterval(timer);\n",
       "          console.log(\"Bokeh: ERROR: Unable to run BokehJS code because BokehJS library is missing\");\n",
       "        }\n",
       "      }\n",
       "    }, 10, root)\n",
       "  }\n",
       "})(window);</script>"
      ],
      "text/plain": [
       ":Bars   [year,Variable]   (value)"
      ]
     },
     "execution_count": 99,
     "metadata": {
      "application/vnd.holoviews_exec.v0+json": {
       "id": "4017"
      }
     },
     "output_type": "execute_result"
    }
   ],
   "source": [
    "bar_2011"
   ]
  },
  {
   "cell_type": "code",
   "execution_count": 100,
   "metadata": {},
   "outputs": [
    {
     "data": {},
     "metadata": {},
     "output_type": "display_data"
    },
    {
     "data": {
      "application/vnd.holoviews_exec.v0+json": "",
      "text/html": [
       "<div id='4118'>\n",
       "\n",
       "\n",
       "\n",
       "\n",
       "\n",
       "  <div class=\"bk-root\" id=\"f406dac5-a174-4077-a2a2-ca9afb0792bc\" data-root-id=\"4118\"></div>\n",
       "</div>\n",
       "<script type=\"application/javascript\">(function(root) {\n",
       "  function embed_document(root) {\n",
       "    var docs_json = {\"6f421bae-12f8-48bd-bf9b-d20386823a38\":{\"roots\":{\"references\":[{\"attributes\":{},\"id\":\"4133\",\"type\":\"CategoricalTicker\"},{\"attributes\":{},\"id\":\"4141\",\"type\":\"WheelZoomTool\"},{\"attributes\":{\"overlay\":{\"id\":\"4144\"}},\"id\":\"4142\",\"type\":\"BoxZoomTool\"},{\"attributes\":{\"data\":{\"Variable\":[\"single_detached_house\",\"apartment_five_storeys_plus\",\"movable_dwelling\",\"semi_detached_house\",\"row_house\",\"duplex\",\"apartment_five_storeys_less\",\"other_house\"],\"value\":[269680,493270,95,71200,61565,48585,165575,2845],\"xoffsets\":[[\"2016\",\"single_detached_house\"],[\"2016\",\"apartment_five_storeys_plus\"],[\"2016\",\"movable_dwelling\"],[\"2016\",\"semi_detached_house\"],[\"2016\",\"row_house\"],[\"2016\",\"duplex\"],[\"2016\",\"apartment_five_storeys_less\"],[\"2016\",\"other_house\"]],\"year\":[\"2016\",\"2016\",\"2016\",\"2016\",\"2016\",\"2016\",\"2016\",\"2016\"]},\"selected\":{\"id\":\"4154\"},\"selection_policy\":{\"id\":\"4174\"}},\"id\":\"4153\",\"type\":\"ColumnDataSource\"},{\"attributes\":{},\"id\":\"4143\",\"type\":\"ResetTool\"},{\"attributes\":{\"fill_color\":{\"field\":\"Variable\",\"transform\":{\"id\":\"4152\"}},\"top\":{\"field\":\"value\"},\"width\":{\"value\":0.8},\"x\":{\"field\":\"xoffsets\"}},\"id\":\"4156\",\"type\":\"VBar\"},{\"attributes\":{\"axis\":{\"id\":\"4132\"},\"grid_line_color\":null,\"ticker\":null},\"id\":\"4134\",\"type\":\"Grid\"},{\"attributes\":{},\"id\":\"4154\",\"type\":\"Selection\"},{\"attributes\":{},\"id\":\"4174\",\"type\":\"UnionRenderers\"},{\"attributes\":{},\"id\":\"4130\",\"type\":\"LinearScale\"},{\"attributes\":{\"axis_label\":\"2016\",\"bounds\":\"auto\",\"formatter\":{\"id\":\"4162\"},\"major_label_orientation\":1.5707963267948966,\"ticker\":{\"id\":\"4133\"}},\"id\":\"4132\",\"type\":\"CategoricalAxis\"},{\"attributes\":{\"end\":542587.5,\"reset_end\":542587.5,\"reset_start\":0.0,\"tags\":[[[\"value\",\"value\",null]]]},\"id\":\"4121\",\"type\":\"Range1d\"},{\"attributes\":{\"fill_alpha\":{\"value\":0.1},\"fill_color\":{\"field\":\"Variable\",\"transform\":{\"id\":\"4152\"}},\"line_alpha\":{\"value\":0.1},\"top\":{\"field\":\"value\"},\"width\":{\"value\":0.8},\"x\":{\"field\":\"xoffsets\"}},\"id\":\"4157\",\"type\":\"VBar\"},{\"attributes\":{},\"id\":\"4128\",\"type\":\"CategoricalScale\"},{\"attributes\":{\"data_source\":{\"id\":\"4153\"},\"glyph\":{\"id\":\"4156\"},\"hover_glyph\":null,\"muted_glyph\":{\"id\":\"4158\"},\"nonselection_glyph\":{\"id\":\"4157\"},\"selection_glyph\":null,\"view\":{\"id\":\"4160\"}},\"id\":\"4159\",\"type\":\"GlyphRenderer\"},{\"attributes\":{\"format\":\"%.0f\"},\"id\":\"4161\",\"type\":\"PrintfTickFormatter\"},{\"attributes\":{\"axis_label\":\"Dwelling Type Units\",\"bounds\":\"auto\",\"formatter\":{\"id\":\"4161\"},\"major_label_orientation\":\"horizontal\",\"ticker\":{\"id\":\"4136\"}},\"id\":\"4135\",\"type\":\"LinearAxis\"},{\"attributes\":{},\"id\":\"4136\",\"type\":\"BasicTicker\"},{\"attributes\":{\"axis\":{\"id\":\"4135\"},\"dimension\":1,\"grid_line_color\":null,\"ticker\":null},\"id\":\"4138\",\"type\":\"Grid\"},{\"attributes\":{\"margin\":[5,5,5,5],\"name\":\"HSpacer11892\",\"sizing_mode\":\"stretch_width\"},\"id\":\"4182\",\"type\":\"Spacer\"},{\"attributes\":{\"callback\":null,\"renderers\":[{\"id\":\"4159\"}],\"tags\":[\"hv_created\"],\"tooltips\":[[\"year\",\"@{year}\"],[\"Variable\",\"@{Variable}\"],[\"value\",\"@{value}\"]]},\"id\":\"4122\",\"type\":\"HoverTool\"},{\"attributes\":{\"factors\":[\"single_detached_house\",\"apartment_five_storeys_plus\",\"movable_dwelling\",\"semi_detached_house\",\"row_house\",\"duplex\",\"apartment_five_storeys_less\",\"other_house\"],\"palette\":[\"green\",\"green\",\"green\",\"green\",\"green\",\"green\",\"green\",\"green\"]},\"id\":\"4152\",\"type\":\"CategoricalColorMapper\"},{\"attributes\":{\"active_drag\":\"auto\",\"active_inspect\":\"auto\",\"active_multi\":null,\"active_scroll\":\"auto\",\"active_tap\":\"auto\",\"tools\":[{\"id\":\"4122\"},{\"id\":\"4139\"},{\"id\":\"4140\"},{\"id\":\"4141\"},{\"id\":\"4142\"},{\"id\":\"4143\"}]},\"id\":\"4145\",\"type\":\"Toolbar\"},{\"attributes\":{\"margin\":[5,5,5,5],\"name\":\"HSpacer11891\",\"sizing_mode\":\"stretch_width\"},\"id\":\"4119\",\"type\":\"Spacer\"},{\"attributes\":{\"source\":{\"id\":\"4153\"}},\"id\":\"4160\",\"type\":\"CDSView\"},{\"attributes\":{\"bottom_units\":\"screen\",\"fill_alpha\":0.5,\"fill_color\":\"lightgrey\",\"left_units\":\"screen\",\"level\":\"overlay\",\"line_alpha\":1.0,\"line_color\":\"black\",\"line_dash\":[4,4],\"line_width\":2,\"right_units\":\"screen\",\"top_units\":\"screen\"},\"id\":\"4144\",\"type\":\"BoxAnnotation\"},{\"attributes\":{},\"id\":\"4162\",\"type\":\"CategoricalTickFormatter\"},{\"attributes\":{\"text\":\"number of dwelling types units in 2016\",\"text_color\":{\"value\":\"black\"},\"text_font_size\":{\"value\":\"12pt\"}},\"id\":\"4124\",\"type\":\"Title\"},{\"attributes\":{\"fill_alpha\":{\"value\":0.2},\"fill_color\":{\"field\":\"Variable\",\"transform\":{\"id\":\"4152\"}},\"line_alpha\":{\"value\":0.2},\"top\":{\"field\":\"value\"},\"width\":{\"value\":0.8},\"x\":{\"field\":\"xoffsets\"}},\"id\":\"4158\",\"type\":\"VBar\"},{\"attributes\":{\"children\":[{\"id\":\"4119\"},{\"id\":\"4123\"},{\"id\":\"4182\"}],\"margin\":[0,0,0,0],\"name\":\"Row11887\",\"tags\":[\"embedded\"]},\"id\":\"4118\",\"type\":\"Row\"},{\"attributes\":{\"below\":[{\"id\":\"4132\"}],\"center\":[{\"id\":\"4134\"},{\"id\":\"4138\"}],\"left\":[{\"id\":\"4135\"}],\"margin\":[5,5,5,5],\"min_border_bottom\":10,\"min_border_left\":10,\"min_border_right\":10,\"min_border_top\":10,\"renderers\":[{\"id\":\"4159\"}],\"sizing_mode\":\"fixed\",\"title\":{\"id\":\"4124\"},\"toolbar\":{\"id\":\"4145\"},\"x_range\":{\"id\":\"4120\"},\"x_scale\":{\"id\":\"4128\"},\"y_range\":{\"id\":\"4121\"},\"y_scale\":{\"id\":\"4130\"}},\"id\":\"4123\",\"subtype\":\"Figure\",\"type\":\"Plot\"},{\"attributes\":{},\"id\":\"4139\",\"type\":\"SaveTool\"},{\"attributes\":{},\"id\":\"4140\",\"type\":\"PanTool\"},{\"attributes\":{\"factors\":[[\"2016\",\"other_house\"],[\"2016\",\"apartment_five_storeys_less\"],[\"2016\",\"duplex\"],[\"2016\",\"row_house\"],[\"2016\",\"semi_detached_house\"],[\"2016\",\"movable_dwelling\"],[\"2016\",\"apartment_five_storeys_plus\"],[\"2016\",\"single_detached_house\"]],\"tags\":[[[\"year\",\"year\",null],[\"Variable\",\"Variable\",null]]]},\"id\":\"4120\",\"type\":\"FactorRange\"}],\"root_ids\":[\"4118\"]},\"title\":\"Bokeh Application\",\"version\":\"2.2.3\"}};\n",
       "    var render_items = [{\"docid\":\"6f421bae-12f8-48bd-bf9b-d20386823a38\",\"root_ids\":[\"4118\"],\"roots\":{\"4118\":\"f406dac5-a174-4077-a2a2-ca9afb0792bc\"}}];\n",
       "    root.Bokeh.embed.embed_items_notebook(docs_json, render_items);\n",
       "  }\n",
       "  if (root.Bokeh !== undefined && root.Bokeh.Panel !== undefined && root['Plotly'] !== undefined ) {\n",
       "    embed_document(root);\n",
       "  } else {\n",
       "    var attempts = 0;\n",
       "    var timer = setInterval(function(root) {\n",
       "      if (root.Bokeh !== undefined && root.Bokeh.Panel !== undefined && root['Plotly'] !== undefined) {\n",
       "        clearInterval(timer);\n",
       "        embed_document(root);\n",
       "      } else if (document.readyState == \"complete\") {\n",
       "        attempts++;\n",
       "        if (attempts > 100) {\n",
       "          clearInterval(timer);\n",
       "          console.log(\"Bokeh: ERROR: Unable to run BokehJS code because BokehJS library is missing\");\n",
       "        }\n",
       "      }\n",
       "    }, 10, root)\n",
       "  }\n",
       "})(window);</script>"
      ],
      "text/plain": [
       ":Bars   [year,Variable]   (value)"
      ]
     },
     "execution_count": 100,
     "metadata": {
      "application/vnd.holoviews_exec.v0+json": {
       "id": "4118"
      }
     },
     "output_type": "execute_result"
    }
   ],
   "source": [
    "bar_2016"
   ]
  },
  {
   "cell_type": "markdown",
   "metadata": {},
   "source": [
    "- - - "
   ]
  },
  {
   "cell_type": "markdown",
   "metadata": {},
   "source": [
    "## Average Monthly Shelter Costs in Toronto Per Year\n",
    "\n",
    "In this section, you will calculate the average monthly shelter costs for owned and rented dwellings and the average house value for each year. Plot the results as a line chart.\n",
    "\n",
    "**Optional challenge:** Plot each line chart in a different color."
   ]
  },
  {
   "cell_type": "code",
   "execution_count": 141,
   "metadata": {},
   "outputs": [
    {
     "data": {
      "text/html": [
       "<div>\n",
       "<style scoped>\n",
       "    .dataframe tbody tr th:only-of-type {\n",
       "        vertical-align: middle;\n",
       "    }\n",
       "\n",
       "    .dataframe tbody tr th {\n",
       "        vertical-align: top;\n",
       "    }\n",
       "\n",
       "    .dataframe thead th {\n",
       "        text-align: right;\n",
       "    }\n",
       "</style>\n",
       "<table border=\"1\" class=\"dataframe\">\n",
       "  <thead>\n",
       "    <tr style=\"text-align: right;\">\n",
       "      <th></th>\n",
       "      <th>shelter_costs_owned</th>\n",
       "    </tr>\n",
       "    <tr>\n",
       "      <th>year</th>\n",
       "      <th></th>\n",
       "    </tr>\n",
       "  </thead>\n",
       "  <tbody>\n",
       "    <tr>\n",
       "      <th>2001</th>\n",
       "      <td>846.878571</td>\n",
       "    </tr>\n",
       "    <tr>\n",
       "      <th>2006</th>\n",
       "      <td>1316.800000</td>\n",
       "    </tr>\n",
       "    <tr>\n",
       "      <th>2011</th>\n",
       "      <td>1448.214286</td>\n",
       "    </tr>\n",
       "    <tr>\n",
       "      <th>2016</th>\n",
       "      <td>1761.314286</td>\n",
       "    </tr>\n",
       "  </tbody>\n",
       "</table>\n",
       "</div>"
      ],
      "text/plain": [
       "      shelter_costs_owned\n",
       "year                     \n",
       "2001           846.878571\n",
       "2006          1316.800000\n",
       "2011          1448.214286\n",
       "2016          1761.314286"
      ]
     },
     "execution_count": 141,
     "metadata": {},
     "output_type": "execute_result"
    }
   ],
   "source": [
    "# Calculate the average monthly shelter costs for owned and rented dwellings\n",
    "a_data_grp = to_data.groupby(\"year\").sum()/to_data.groupby(\"year\").count()\n",
    "data_month_owned = a_data_grp.loc[:,\"shelter_costs_owned\":\"shelter_costs_owned\"]\n",
    "data_month_rent = a_data_grp.loc[:,\"shelter_costs_rented\":\"shelter_costs_rented\"]\n",
    "data_month_owned"
   ]
  },
  {
   "cell_type": "code",
   "execution_count": 102,
   "metadata": {},
   "outputs": [],
   "source": [
    "# Helper create_line_chart function\n",
    "def create_line_chart(data, title, xlabel, ylabel, color):\n",
    "    b = data.hvplot.line(rot=90,x='year').opts(color=color,\n",
    "    title=title, xlabel=xlabel, ylabel=ylabel,yformatter=\"%.0f\", width=600, height =600\n",
    ")\n",
    "    return b"
   ]
  },
  {
   "cell_type": "code",
   "execution_count": 103,
   "metadata": {},
   "outputs": [],
   "source": [
    "# Create two line charts, one to plot the monthly shelter costs for owned dwelleing and other for rented dwellings per year\n",
    "\n",
    "# Line chart for owned dwellings\n",
    "month_owned_plot = create_line_chart(data_month_owned, \"average monthly shelter costs for owned dwelling in Toronto\", \"year\", \"Average Monthy Shelter Cost\", \"pink\")\n",
    "\n",
    "\n",
    "# Line chart for rented dwellings\n",
    "month_rent_plot = create_line_chart(data_month_rent, \"average monthly shelter costs for rented dwelling in Toronto\", \"year\", \"Average Monthy Shelter Cost\", \"blue\")"
   ]
  },
  {
   "cell_type": "code",
   "execution_count": 104,
   "metadata": {},
   "outputs": [
    {
     "data": {},
     "metadata": {},
     "output_type": "display_data"
    },
    {
     "data": {
      "application/vnd.holoviews_exec.v0+json": "",
      "text/html": [
       "<div id='4219'>\n",
       "\n",
       "\n",
       "\n",
       "\n",
       "\n",
       "  <div class=\"bk-root\" id=\"2720fc42-85c6-4e95-8f25-5f5712d7abb6\" data-root-id=\"4219\"></div>\n",
       "</div>\n",
       "<script type=\"application/javascript\">(function(root) {\n",
       "  function embed_document(root) {\n",
       "    var docs_json = {\"2f7e872f-c751-457b-b71e-1429ae9ae770\":{\"roots\":{\"references\":[{\"attributes\":{\"line_alpha\":0.1,\"line_color\":\"pink\",\"line_width\":2,\"x\":{\"field\":\"year\"},\"y\":{\"field\":\"shelter_costs_owned\"}},\"id\":\"4258\",\"type\":\"Line\"},{\"attributes\":{},\"id\":\"4243\",\"type\":\"WheelZoomTool\"},{\"attributes\":{\"source\":{\"id\":\"4254\"}},\"id\":\"4261\",\"type\":\"CDSView\"},{\"attributes\":{\"line_alpha\":0.2,\"line_color\":\"pink\",\"line_width\":2,\"x\":{\"field\":\"year\"},\"y\":{\"field\":\"shelter_costs_owned\"}},\"id\":\"4259\",\"type\":\"Line\"},{\"attributes\":{},\"id\":\"4238\",\"type\":\"BasicTicker\"},{\"attributes\":{},\"id\":\"4231\",\"type\":\"LinearScale\"},{\"attributes\":{\"end\":1852.7578571428571,\"reset_end\":1852.7578571428571,\"reset_start\":755.435,\"start\":755.435,\"tags\":[[[\"shelter_costs_owned\",\"shelter_costs_owned\",null]]]},\"id\":\"4222\",\"type\":\"Range1d\"},{\"attributes\":{},\"id\":\"4229\",\"type\":\"LinearScale\"},{\"attributes\":{},\"id\":\"4242\",\"type\":\"PanTool\"},{\"attributes\":{\"active_drag\":\"auto\",\"active_inspect\":\"auto\",\"active_multi\":null,\"active_scroll\":\"auto\",\"active_tap\":\"auto\",\"tools\":[{\"id\":\"4223\"},{\"id\":\"4241\"},{\"id\":\"4242\"},{\"id\":\"4243\"},{\"id\":\"4244\"},{\"id\":\"4245\"}]},\"id\":\"4247\",\"type\":\"Toolbar\"},{\"attributes\":{},\"id\":\"4234\",\"type\":\"BasicTicker\"},{\"attributes\":{\"axis_label\":\"year\",\"bounds\":\"auto\",\"formatter\":{\"id\":\"4263\"},\"major_label_orientation\":1.5707963267948966,\"ticker\":{\"id\":\"4234\"}},\"id\":\"4233\",\"type\":\"LinearAxis\"},{\"attributes\":{},\"id\":\"4275\",\"type\":\"UnionRenderers\"},{\"attributes\":{\"text\":\"average monthly shelter costs for owned dwelling in Toronto\",\"text_color\":{\"value\":\"black\"},\"text_font_size\":{\"value\":\"12pt\"}},\"id\":\"4225\",\"type\":\"Title\"},{\"attributes\":{\"bottom_units\":\"screen\",\"fill_alpha\":0.5,\"fill_color\":\"lightgrey\",\"left_units\":\"screen\",\"level\":\"overlay\",\"line_alpha\":1.0,\"line_color\":\"black\",\"line_dash\":[4,4],\"line_width\":2,\"right_units\":\"screen\",\"top_units\":\"screen\"},\"id\":\"4246\",\"type\":\"BoxAnnotation\"},{\"attributes\":{\"children\":[{\"id\":\"4220\"},{\"id\":\"4224\"},{\"id\":\"4283\"}],\"margin\":[0,0,0,0],\"name\":\"Row12329\",\"tags\":[\"embedded\"]},\"id\":\"4219\",\"type\":\"Row\"},{\"attributes\":{},\"id\":\"4241\",\"type\":\"SaveTool\"},{\"attributes\":{},\"id\":\"4245\",\"type\":\"ResetTool\"},{\"attributes\":{\"data_source\":{\"id\":\"4254\"},\"glyph\":{\"id\":\"4257\"},\"hover_glyph\":null,\"muted_glyph\":{\"id\":\"4259\"},\"nonselection_glyph\":{\"id\":\"4258\"},\"selection_glyph\":null,\"view\":{\"id\":\"4261\"}},\"id\":\"4260\",\"type\":\"GlyphRenderer\"},{\"attributes\":{\"below\":[{\"id\":\"4233\"}],\"center\":[{\"id\":\"4236\"},{\"id\":\"4240\"}],\"left\":[{\"id\":\"4237\"}],\"margin\":[5,5,5,5],\"min_border_bottom\":10,\"min_border_left\":10,\"min_border_right\":10,\"min_border_top\":10,\"renderers\":[{\"id\":\"4260\"}],\"sizing_mode\":\"fixed\",\"title\":{\"id\":\"4225\"},\"toolbar\":{\"id\":\"4247\"},\"x_range\":{\"id\":\"4221\"},\"x_scale\":{\"id\":\"4229\"},\"y_range\":{\"id\":\"4222\"},\"y_scale\":{\"id\":\"4231\"}},\"id\":\"4224\",\"subtype\":\"Figure\",\"type\":\"Plot\"},{\"attributes\":{\"overlay\":{\"id\":\"4246\"}},\"id\":\"4244\",\"type\":\"BoxZoomTool\"},{\"attributes\":{\"data\":{\"shelter_costs_owned\":{\"__ndarray__\":\"UAd1UAd3ikAzMzMzM5OUQG7btm3boJZA1EEd1EGFm0A=\",\"dtype\":\"float64\",\"order\":\"little\",\"shape\":[4]},\"year\":[2001,2006,2011,2016]},\"selected\":{\"id\":\"4255\"},\"selection_policy\":{\"id\":\"4275\"}},\"id\":\"4254\",\"type\":\"ColumnDataSource\"},{\"attributes\":{\"line_color\":\"pink\",\"line_width\":2,\"x\":{\"field\":\"year\"},\"y\":{\"field\":\"shelter_costs_owned\"}},\"id\":\"4257\",\"type\":\"Line\"},{\"attributes\":{},\"id\":\"4255\",\"type\":\"Selection\"},{\"attributes\":{},\"id\":\"4263\",\"type\":\"BasicTickFormatter\"},{\"attributes\":{\"format\":\"%.0f\"},\"id\":\"4262\",\"type\":\"PrintfTickFormatter\"},{\"attributes\":{\"end\":2016.0,\"reset_end\":2016.0,\"reset_start\":2001.0,\"start\":2001.0,\"tags\":[[[\"year\",\"year\",null]]]},\"id\":\"4221\",\"type\":\"Range1d\"},{\"attributes\":{\"callback\":null,\"renderers\":[{\"id\":\"4260\"}],\"tags\":[\"hv_created\"],\"tooltips\":[[\"year\",\"@{year}\"],[\"shelter_costs_owned\",\"@{shelter_costs_owned}\"]]},\"id\":\"4223\",\"type\":\"HoverTool\"},{\"attributes\":{\"margin\":[5,5,5,5],\"name\":\"HSpacer12333\",\"sizing_mode\":\"stretch_width\"},\"id\":\"4220\",\"type\":\"Spacer\"},{\"attributes\":{\"axis\":{\"id\":\"4237\"},\"dimension\":1,\"grid_line_color\":null,\"ticker\":null},\"id\":\"4240\",\"type\":\"Grid\"},{\"attributes\":{\"margin\":[5,5,5,5],\"name\":\"HSpacer12334\",\"sizing_mode\":\"stretch_width\"},\"id\":\"4283\",\"type\":\"Spacer\"},{\"attributes\":{\"axis\":{\"id\":\"4233\"},\"grid_line_color\":null,\"ticker\":null},\"id\":\"4236\",\"type\":\"Grid\"},{\"attributes\":{\"axis_label\":\"Average Monthy Shelter Cost\",\"bounds\":\"auto\",\"formatter\":{\"id\":\"4262\"},\"major_label_orientation\":\"horizontal\",\"ticker\":{\"id\":\"4238\"}},\"id\":\"4237\",\"type\":\"LinearAxis\"}],\"root_ids\":[\"4219\"]},\"title\":\"Bokeh Application\",\"version\":\"2.2.3\"}};\n",
       "    var render_items = [{\"docid\":\"2f7e872f-c751-457b-b71e-1429ae9ae770\",\"root_ids\":[\"4219\"],\"roots\":{\"4219\":\"2720fc42-85c6-4e95-8f25-5f5712d7abb6\"}}];\n",
       "    root.Bokeh.embed.embed_items_notebook(docs_json, render_items);\n",
       "  }\n",
       "  if (root.Bokeh !== undefined && root.Bokeh.Panel !== undefined && root['Plotly'] !== undefined ) {\n",
       "    embed_document(root);\n",
       "  } else {\n",
       "    var attempts = 0;\n",
       "    var timer = setInterval(function(root) {\n",
       "      if (root.Bokeh !== undefined && root.Bokeh.Panel !== undefined && root['Plotly'] !== undefined) {\n",
       "        clearInterval(timer);\n",
       "        embed_document(root);\n",
       "      } else if (document.readyState == \"complete\") {\n",
       "        attempts++;\n",
       "        if (attempts > 100) {\n",
       "          clearInterval(timer);\n",
       "          console.log(\"Bokeh: ERROR: Unable to run BokehJS code because BokehJS library is missing\");\n",
       "        }\n",
       "      }\n",
       "    }, 10, root)\n",
       "  }\n",
       "})(window);</script>"
      ],
      "text/plain": [
       ":Curve   [year]   (shelter_costs_owned)"
      ]
     },
     "execution_count": 104,
     "metadata": {
      "application/vnd.holoviews_exec.v0+json": {
       "id": "4219"
      }
     },
     "output_type": "execute_result"
    }
   ],
   "source": [
    "month_owned_plot"
   ]
  },
  {
   "cell_type": "code",
   "execution_count": 105,
   "metadata": {},
   "outputs": [
    {
     "data": {},
     "metadata": {},
     "output_type": "display_data"
    },
    {
     "data": {
      "application/vnd.holoviews_exec.v0+json": "",
      "text/html": [
       "<div id='4320'>\n",
       "\n",
       "\n",
       "\n",
       "\n",
       "\n",
       "  <div class=\"bk-root\" id=\"04b3546a-a361-4dbb-b36a-16188f106fd8\" data-root-id=\"4320\"></div>\n",
       "</div>\n",
       "<script type=\"application/javascript\">(function(root) {\n",
       "  function embed_document(root) {\n",
       "    var docs_json = {\"bef6b933-cdb8-419e-9df7-1f6482338f6a\":{\"roots\":{\"references\":[{\"attributes\":{\"line_color\":\"blue\",\"line_width\":2,\"x\":{\"field\":\"year\"},\"y\":{\"field\":\"shelter_costs_rented\"}},\"id\":\"4358\",\"type\":\"Line\"},{\"attributes\":{\"below\":[{\"id\":\"4334\"}],\"center\":[{\"id\":\"4337\"},{\"id\":\"4341\"}],\"left\":[{\"id\":\"4338\"}],\"margin\":[5,5,5,5],\"min_border_bottom\":10,\"min_border_left\":10,\"min_border_right\":10,\"min_border_top\":10,\"renderers\":[{\"id\":\"4361\"}],\"sizing_mode\":\"fixed\",\"title\":{\"id\":\"4326\"},\"toolbar\":{\"id\":\"4348\"},\"x_range\":{\"id\":\"4322\"},\"x_scale\":{\"id\":\"4330\"},\"y_range\":{\"id\":\"4323\"},\"y_scale\":{\"id\":\"4332\"}},\"id\":\"4325\",\"subtype\":\"Figure\",\"type\":\"Plot\"},{\"attributes\":{},\"id\":\"4364\",\"type\":\"BasicTickFormatter\"},{\"attributes\":{\"margin\":[5,5,5,5],\"name\":\"HSpacer12437\",\"sizing_mode\":\"stretch_width\"},\"id\":\"4321\",\"type\":\"Spacer\"},{\"attributes\":{},\"id\":\"4339\",\"type\":\"BasicTicker\"},{\"attributes\":{\"data\":{\"shelter_costs_rented\":{\"__ndarray__\":\"LL7iK773kEB1UAd1UOuMQMVXfMVX3o9AJUmSJEmhk0A=\",\"dtype\":\"float64\",\"order\":\"little\",\"shape\":[4]},\"year\":[2001,2006,2011,2016]},\"selected\":{\"id\":\"4356\"},\"selection_policy\":{\"id\":\"4376\"}},\"id\":\"4355\",\"type\":\"ColumnDataSource\"},{\"attributes\":{\"format\":\"%.0f\"},\"id\":\"4363\",\"type\":\"PrintfTickFormatter\"},{\"attributes\":{\"children\":[{\"id\":\"4321\"},{\"id\":\"4325\"},{\"id\":\"4384\"}],\"margin\":[0,0,0,0],\"name\":\"Row12433\",\"tags\":[\"embedded\"]},\"id\":\"4320\",\"type\":\"Row\"},{\"attributes\":{\"axis_label\":\"year\",\"bounds\":\"auto\",\"formatter\":{\"id\":\"4364\"},\"major_label_orientation\":1.5707963267948966,\"ticker\":{\"id\":\"4335\"}},\"id\":\"4334\",\"type\":\"LinearAxis\"},{\"attributes\":{\"callback\":null,\"renderers\":[{\"id\":\"4361\"}],\"tags\":[\"hv_created\"],\"tooltips\":[[\"year\",\"@{year}\"],[\"shelter_costs_rented\",\"@{shelter_costs_rented}\"]]},\"id\":\"4324\",\"type\":\"HoverTool\"},{\"attributes\":{\"axis_label\":\"Average Monthy Shelter Cost\",\"bounds\":\"auto\",\"formatter\":{\"id\":\"4363\"},\"major_label_orientation\":\"horizontal\",\"ticker\":{\"id\":\"4339\"}},\"id\":\"4338\",\"type\":\"LinearAxis\"},{\"attributes\":{\"source\":{\"id\":\"4355\"}},\"id\":\"4362\",\"type\":\"CDSView\"},{\"attributes\":{\"text\":\"average monthly shelter costs for rented dwelling in Toronto\",\"text_color\":{\"value\":\"black\"},\"text_font_size\":{\"value\":\"12pt\"}},\"id\":\"4326\",\"type\":\"Title\"},{\"attributes\":{},\"id\":\"4332\",\"type\":\"LinearScale\"},{\"attributes\":{},\"id\":\"4346\",\"type\":\"ResetTool\"},{\"attributes\":{\"end\":1289.412142857143,\"reset_end\":1289.412142857143,\"reset_start\":892.3235714285714,\"start\":892.3235714285714,\"tags\":[[[\"shelter_costs_rented\",\"shelter_costs_rented\",null]]]},\"id\":\"4323\",\"type\":\"Range1d\"},{\"attributes\":{\"bottom_units\":\"screen\",\"fill_alpha\":0.5,\"fill_color\":\"lightgrey\",\"left_units\":\"screen\",\"level\":\"overlay\",\"line_alpha\":1.0,\"line_color\":\"black\",\"line_dash\":[4,4],\"line_width\":2,\"right_units\":\"screen\",\"top_units\":\"screen\"},\"id\":\"4347\",\"type\":\"BoxAnnotation\"},{\"attributes\":{},\"id\":\"4356\",\"type\":\"Selection\"},{\"attributes\":{},\"id\":\"4330\",\"type\":\"LinearScale\"},{\"attributes\":{},\"id\":\"4344\",\"type\":\"WheelZoomTool\"},{\"attributes\":{\"axis\":{\"id\":\"4334\"},\"grid_line_color\":null,\"ticker\":null},\"id\":\"4337\",\"type\":\"Grid\"},{\"attributes\":{},\"id\":\"4342\",\"type\":\"SaveTool\"},{\"attributes\":{\"overlay\":{\"id\":\"4347\"}},\"id\":\"4345\",\"type\":\"BoxZoomTool\"},{\"attributes\":{\"line_alpha\":0.2,\"line_color\":\"blue\",\"line_width\":2,\"x\":{\"field\":\"year\"},\"y\":{\"field\":\"shelter_costs_rented\"}},\"id\":\"4360\",\"type\":\"Line\"},{\"attributes\":{\"active_drag\":\"auto\",\"active_inspect\":\"auto\",\"active_multi\":null,\"active_scroll\":\"auto\",\"active_tap\":\"auto\",\"tools\":[{\"id\":\"4324\"},{\"id\":\"4342\"},{\"id\":\"4343\"},{\"id\":\"4344\"},{\"id\":\"4345\"},{\"id\":\"4346\"}]},\"id\":\"4348\",\"type\":\"Toolbar\"},{\"attributes\":{\"line_alpha\":0.1,\"line_color\":\"blue\",\"line_width\":2,\"x\":{\"field\":\"year\"},\"y\":{\"field\":\"shelter_costs_rented\"}},\"id\":\"4359\",\"type\":\"Line\"},{\"attributes\":{\"margin\":[5,5,5,5],\"name\":\"HSpacer12438\",\"sizing_mode\":\"stretch_width\"},\"id\":\"4384\",\"type\":\"Spacer\"},{\"attributes\":{\"axis\":{\"id\":\"4338\"},\"dimension\":1,\"grid_line_color\":null,\"ticker\":null},\"id\":\"4341\",\"type\":\"Grid\"},{\"attributes\":{\"end\":2016.0,\"reset_end\":2016.0,\"reset_start\":2001.0,\"start\":2001.0,\"tags\":[[[\"year\",\"year\",null]]]},\"id\":\"4322\",\"type\":\"Range1d\"},{\"attributes\":{},\"id\":\"4343\",\"type\":\"PanTool\"},{\"attributes\":{},\"id\":\"4335\",\"type\":\"BasicTicker\"},{\"attributes\":{\"data_source\":{\"id\":\"4355\"},\"glyph\":{\"id\":\"4358\"},\"hover_glyph\":null,\"muted_glyph\":{\"id\":\"4360\"},\"nonselection_glyph\":{\"id\":\"4359\"},\"selection_glyph\":null,\"view\":{\"id\":\"4362\"}},\"id\":\"4361\",\"type\":\"GlyphRenderer\"},{\"attributes\":{},\"id\":\"4376\",\"type\":\"UnionRenderers\"}],\"root_ids\":[\"4320\"]},\"title\":\"Bokeh Application\",\"version\":\"2.2.3\"}};\n",
       "    var render_items = [{\"docid\":\"bef6b933-cdb8-419e-9df7-1f6482338f6a\",\"root_ids\":[\"4320\"],\"roots\":{\"4320\":\"04b3546a-a361-4dbb-b36a-16188f106fd8\"}}];\n",
       "    root.Bokeh.embed.embed_items_notebook(docs_json, render_items);\n",
       "  }\n",
       "  if (root.Bokeh !== undefined && root.Bokeh.Panel !== undefined && root['Plotly'] !== undefined ) {\n",
       "    embed_document(root);\n",
       "  } else {\n",
       "    var attempts = 0;\n",
       "    var timer = setInterval(function(root) {\n",
       "      if (root.Bokeh !== undefined && root.Bokeh.Panel !== undefined && root['Plotly'] !== undefined) {\n",
       "        clearInterval(timer);\n",
       "        embed_document(root);\n",
       "      } else if (document.readyState == \"complete\") {\n",
       "        attempts++;\n",
       "        if (attempts > 100) {\n",
       "          clearInterval(timer);\n",
       "          console.log(\"Bokeh: ERROR: Unable to run BokehJS code because BokehJS library is missing\");\n",
       "        }\n",
       "      }\n",
       "    }, 10, root)\n",
       "  }\n",
       "})(window);</script>"
      ],
      "text/plain": [
       ":Curve   [year]   (shelter_costs_rented)"
      ]
     },
     "execution_count": 105,
     "metadata": {
      "application/vnd.holoviews_exec.v0+json": {
       "id": "4320"
      }
     },
     "output_type": "execute_result"
    }
   ],
   "source": [
    "month_rent_plot"
   ]
  },
  {
   "cell_type": "markdown",
   "metadata": {},
   "source": [
    "## Average House Value per Year\n",
    "\n",
    "In this section, you want to determine the average house value per year. An investor may want to understand better the sales price of the rental property over time. For example, a customer will want to know if they should expect an increase or decrease in the property value over time so they can determine how long to hold the rental property. You will visualize the `average_house_value` per year as a bar chart."
   ]
  },
  {
   "cell_type": "code",
   "execution_count": 106,
   "metadata": {},
   "outputs": [
    {
     "data": {
      "text/html": [
       "<div>\n",
       "<style scoped>\n",
       "    .dataframe tbody tr th:only-of-type {\n",
       "        vertical-align: middle;\n",
       "    }\n",
       "\n",
       "    .dataframe tbody tr th {\n",
       "        vertical-align: top;\n",
       "    }\n",
       "\n",
       "    .dataframe thead th {\n",
       "        text-align: right;\n",
       "    }\n",
       "</style>\n",
       "<table border=\"1\" class=\"dataframe\">\n",
       "  <thead>\n",
       "    <tr style=\"text-align: right;\">\n",
       "      <th></th>\n",
       "      <th>average_house_value</th>\n",
       "    </tr>\n",
       "    <tr>\n",
       "      <th>year</th>\n",
       "      <th></th>\n",
       "    </tr>\n",
       "  </thead>\n",
       "  <tbody>\n",
       "    <tr>\n",
       "      <th>2001</th>\n",
       "      <td>289882.885714</td>\n",
       "    </tr>\n",
       "    <tr>\n",
       "      <th>2006</th>\n",
       "      <td>424059.664286</td>\n",
       "    </tr>\n",
       "    <tr>\n",
       "      <th>2011</th>\n",
       "      <td>530424.721429</td>\n",
       "    </tr>\n",
       "    <tr>\n",
       "      <th>2016</th>\n",
       "      <td>664068.328571</td>\n",
       "    </tr>\n",
       "  </tbody>\n",
       "</table>\n",
       "</div>"
      ],
      "text/plain": [
       "      average_house_value\n",
       "year                     \n",
       "2001        289882.885714\n",
       "2006        424059.664286\n",
       "2011        530424.721429\n",
       "2016        664068.328571"
      ]
     },
     "execution_count": 106,
     "metadata": {},
     "output_type": "execute_result"
    }
   ],
   "source": [
    "# Calculate the average house value per year\n",
    "average_house_value = a_data_grp.loc[:,\"average_house_value\":\"average_house_value\"]\n",
    "average_house_value\n"
   ]
  },
  {
   "cell_type": "code",
   "execution_count": 107,
   "metadata": {},
   "outputs": [
    {
     "data": {},
     "metadata": {},
     "output_type": "display_data"
    },
    {
     "data": {
      "application/vnd.holoviews_exec.v0+json": "",
      "text/html": [
       "<div id='4421'>\n",
       "\n",
       "\n",
       "\n",
       "\n",
       "\n",
       "  <div class=\"bk-root\" id=\"9520ab08-6acf-4177-a8bf-829bc1489b22\" data-root-id=\"4421\"></div>\n",
       "</div>\n",
       "<script type=\"application/javascript\">(function(root) {\n",
       "  function embed_document(root) {\n",
       "    var docs_json = {\"04907376-b738-4a37-a720-a7873ea4ffc9\":{\"roots\":{\"references\":[{\"attributes\":{\"line_alpha\":0.2,\"line_color\":\"yellow\",\"line_width\":2,\"x\":{\"field\":\"year\"},\"y\":{\"field\":\"average_house_value\"}},\"id\":\"4461\",\"type\":\"Line\"},{\"attributes\":{\"bottom_units\":\"screen\",\"fill_alpha\":0.5,\"fill_color\":\"lightgrey\",\"left_units\":\"screen\",\"level\":\"overlay\",\"line_alpha\":1.0,\"line_color\":\"black\",\"line_dash\":[4,4],\"line_width\":2,\"right_units\":\"screen\",\"top_units\":\"screen\"},\"id\":\"4448\",\"type\":\"BoxAnnotation\"},{\"attributes\":{\"line_color\":\"yellow\",\"line_width\":2,\"x\":{\"field\":\"year\"},\"y\":{\"field\":\"average_house_value\"}},\"id\":\"4459\",\"type\":\"Line\"},{\"attributes\":{\"axis\":{\"id\":\"4439\"},\"dimension\":1,\"grid_line_color\":null,\"ticker\":null},\"id\":\"4442\",\"type\":\"Grid\"},{\"attributes\":{\"margin\":[5,5,5,5],\"name\":\"HSpacer12660\",\"sizing_mode\":\"stretch_width\"},\"id\":\"4485\",\"type\":\"Spacer\"},{\"attributes\":{},\"id\":\"4447\",\"type\":\"ResetTool\"},{\"attributes\":{},\"id\":\"4457\",\"type\":\"Selection\"},{\"attributes\":{},\"id\":\"4443\",\"type\":\"SaveTool\"},{\"attributes\":{\"margin\":[5,5,5,5],\"name\":\"HSpacer12659\",\"sizing_mode\":\"stretch_width\"},\"id\":\"4422\",\"type\":\"Spacer\"},{\"attributes\":{\"active_drag\":\"auto\",\"active_inspect\":\"auto\",\"active_multi\":null,\"active_scroll\":\"auto\",\"active_tap\":\"auto\",\"tools\":[{\"id\":\"4425\"},{\"id\":\"4443\"},{\"id\":\"4444\"},{\"id\":\"4445\"},{\"id\":\"4446\"},{\"id\":\"4447\"}]},\"id\":\"4449\",\"type\":\"Toolbar\"},{\"attributes\":{\"data\":{\"average_house_value\":{\"__ndarray__\":\"i6/4imuxEUGogzqo7uEZQfEVX3HxLyBBqIM6qAhEJEE=\",\"dtype\":\"float64\",\"order\":\"little\",\"shape\":[4]},\"year\":[2001,2006,2011,2016]},\"selected\":{\"id\":\"4457\"},\"selection_policy\":{\"id\":\"4477\"}},\"id\":\"4456\",\"type\":\"ColumnDataSource\"},{\"attributes\":{\"axis\":{\"id\":\"4435\"},\"grid_line_color\":null,\"ticker\":null},\"id\":\"4438\",\"type\":\"Grid\"},{\"attributes\":{},\"id\":\"4477\",\"type\":\"UnionRenderers\"},{\"attributes\":{\"callback\":null,\"renderers\":[{\"id\":\"4462\"}],\"tags\":[\"hv_created\"],\"tooltips\":[[\"year\",\"@{year}\"],[\"average_house_value\",\"@{average_house_value}\"]]},\"id\":\"4425\",\"type\":\"HoverTool\"},{\"attributes\":{\"overlay\":{\"id\":\"4448\"}},\"id\":\"4446\",\"type\":\"BoxZoomTool\"},{\"attributes\":{},\"id\":\"4465\",\"type\":\"BasicTickFormatter\"},{\"attributes\":{\"text\":\"average house value per year in Toronto\",\"text_color\":{\"value\":\"black\"},\"text_font_size\":{\"value\":\"12pt\"}},\"id\":\"4427\",\"type\":\"Title\"},{\"attributes\":{\"end\":701486.8728571428,\"reset_end\":701486.8728571428,\"reset_start\":252464.34142857144,\"start\":252464.34142857144,\"tags\":[[[\"average_house_value\",\"average_house_value\",null]]]},\"id\":\"4424\",\"type\":\"Range1d\"},{\"attributes\":{},\"id\":\"4431\",\"type\":\"LinearScale\"},{\"attributes\":{},\"id\":\"4444\",\"type\":\"PanTool\"},{\"attributes\":{\"source\":{\"id\":\"4456\"}},\"id\":\"4463\",\"type\":\"CDSView\"},{\"attributes\":{},\"id\":\"4433\",\"type\":\"LinearScale\"},{\"attributes\":{\"axis_label\":\"Average house value\",\"bounds\":\"auto\",\"formatter\":{\"id\":\"4464\"},\"major_label_orientation\":\"horizontal\",\"ticker\":{\"id\":\"4440\"}},\"id\":\"4439\",\"type\":\"LinearAxis\"},{\"attributes\":{\"below\":[{\"id\":\"4435\"}],\"center\":[{\"id\":\"4438\"},{\"id\":\"4442\"}],\"left\":[{\"id\":\"4439\"}],\"margin\":[5,5,5,5],\"min_border_bottom\":10,\"min_border_left\":10,\"min_border_right\":10,\"min_border_top\":10,\"renderers\":[{\"id\":\"4462\"}],\"sizing_mode\":\"fixed\",\"title\":{\"id\":\"4427\"},\"toolbar\":{\"id\":\"4449\"},\"x_range\":{\"id\":\"4423\"},\"x_scale\":{\"id\":\"4431\"},\"y_range\":{\"id\":\"4424\"},\"y_scale\":{\"id\":\"4433\"}},\"id\":\"4426\",\"subtype\":\"Figure\",\"type\":\"Plot\"},{\"attributes\":{\"end\":2016.0,\"reset_end\":2016.0,\"reset_start\":2001.0,\"start\":2001.0,\"tags\":[[[\"year\",\"year\",null]]]},\"id\":\"4423\",\"type\":\"Range1d\"},{\"attributes\":{},\"id\":\"4440\",\"type\":\"BasicTicker\"},{\"attributes\":{\"format\":\"%.0f\"},\"id\":\"4464\",\"type\":\"PrintfTickFormatter\"},{\"attributes\":{\"line_alpha\":0.1,\"line_color\":\"yellow\",\"line_width\":2,\"x\":{\"field\":\"year\"},\"y\":{\"field\":\"average_house_value\"}},\"id\":\"4460\",\"type\":\"Line\"},{\"attributes\":{},\"id\":\"4436\",\"type\":\"BasicTicker\"},{\"attributes\":{\"children\":[{\"id\":\"4422\"},{\"id\":\"4426\"},{\"id\":\"4485\"}],\"margin\":[0,0,0,0],\"name\":\"Row12655\",\"tags\":[\"embedded\"]},\"id\":\"4421\",\"type\":\"Row\"},{\"attributes\":{},\"id\":\"4445\",\"type\":\"WheelZoomTool\"},{\"attributes\":{\"data_source\":{\"id\":\"4456\"},\"glyph\":{\"id\":\"4459\"},\"hover_glyph\":null,\"muted_glyph\":{\"id\":\"4461\"},\"nonselection_glyph\":{\"id\":\"4460\"},\"selection_glyph\":null,\"view\":{\"id\":\"4463\"}},\"id\":\"4462\",\"type\":\"GlyphRenderer\"},{\"attributes\":{\"axis_label\":\"year\",\"bounds\":\"auto\",\"formatter\":{\"id\":\"4465\"},\"major_label_orientation\":1.5707963267948966,\"ticker\":{\"id\":\"4436\"}},\"id\":\"4435\",\"type\":\"LinearAxis\"}],\"root_ids\":[\"4421\"]},\"title\":\"Bokeh Application\",\"version\":\"2.2.3\"}};\n",
       "    var render_items = [{\"docid\":\"04907376-b738-4a37-a720-a7873ea4ffc9\",\"root_ids\":[\"4421\"],\"roots\":{\"4421\":\"9520ab08-6acf-4177-a8bf-829bc1489b22\"}}];\n",
       "    root.Bokeh.embed.embed_items_notebook(docs_json, render_items);\n",
       "  }\n",
       "  if (root.Bokeh !== undefined && root.Bokeh.Panel !== undefined && root['Plotly'] !== undefined ) {\n",
       "    embed_document(root);\n",
       "  } else {\n",
       "    var attempts = 0;\n",
       "    var timer = setInterval(function(root) {\n",
       "      if (root.Bokeh !== undefined && root.Bokeh.Panel !== undefined && root['Plotly'] !== undefined) {\n",
       "        clearInterval(timer);\n",
       "        embed_document(root);\n",
       "      } else if (document.readyState == \"complete\") {\n",
       "        attempts++;\n",
       "        if (attempts > 100) {\n",
       "          clearInterval(timer);\n",
       "          console.log(\"Bokeh: ERROR: Unable to run BokehJS code because BokehJS library is missing\");\n",
       "        }\n",
       "      }\n",
       "    }, 10, root)\n",
       "  }\n",
       "})(window);</script>"
      ],
      "text/plain": [
       ":Curve   [year]   (average_house_value)"
      ]
     },
     "execution_count": 107,
     "metadata": {
      "application/vnd.holoviews_exec.v0+json": {
       "id": "4421"
      }
     },
     "output_type": "execute_result"
    }
   ],
   "source": [
    "# Plot the average house value per year as a line chart\n",
    "average_house_value_plot = create_line_chart(average_house_value, \"average house value per year in Toronto\", \"year\", \"Average house value\", \"yellow\")\n",
    "average_house_value_plot"
   ]
  },
  {
   "cell_type": "markdown",
   "metadata": {},
   "source": [
    "- - - "
   ]
  },
  {
   "cell_type": "markdown",
   "metadata": {},
   "source": [
    "## Average House Value by Neighbourhood\n",
    "\n",
    "In this section, you will use `hvplot` to create an interactive visualization of the average house value with a dropdown selector for the neighbourhood.\n",
    "\n",
    "**Hint:** It will be easier to create a new DataFrame from grouping the data and calculating the mean house values for each year and neighbourhood."
   ]
  },
  {
   "cell_type": "code",
   "execution_count": 108,
   "metadata": {},
   "outputs": [
    {
     "data": {
      "text/html": [
       "<div>\n",
       "<style scoped>\n",
       "    .dataframe tbody tr th:only-of-type {\n",
       "        vertical-align: middle;\n",
       "    }\n",
       "\n",
       "    .dataframe tbody tr th {\n",
       "        vertical-align: top;\n",
       "    }\n",
       "\n",
       "    .dataframe thead th {\n",
       "        text-align: right;\n",
       "    }\n",
       "</style>\n",
       "<table border=\"1\" class=\"dataframe\">\n",
       "  <thead>\n",
       "    <tr style=\"text-align: right;\">\n",
       "      <th></th>\n",
       "      <th>neighbourhood</th>\n",
       "      <th>average_house_value</th>\n",
       "    </tr>\n",
       "    <tr>\n",
       "      <th>year</th>\n",
       "      <th></th>\n",
       "      <th></th>\n",
       "    </tr>\n",
       "  </thead>\n",
       "  <tbody>\n",
       "    <tr>\n",
       "      <th>2001</th>\n",
       "      <td>Agincourt North</td>\n",
       "      <td>200388</td>\n",
       "    </tr>\n",
       "    <tr>\n",
       "      <th>2001</th>\n",
       "      <td>Agincourt South-Malvern West</td>\n",
       "      <td>203047</td>\n",
       "    </tr>\n",
       "    <tr>\n",
       "      <th>2001</th>\n",
       "      <td>Alderwood</td>\n",
       "      <td>259998</td>\n",
       "    </tr>\n",
       "    <tr>\n",
       "      <th>2001</th>\n",
       "      <td>Annex</td>\n",
       "      <td>453850</td>\n",
       "    </tr>\n",
       "    <tr>\n",
       "      <th>2001</th>\n",
       "      <td>Banbury-Don Mills</td>\n",
       "      <td>371864</td>\n",
       "    </tr>\n",
       "  </tbody>\n",
       "</table>\n",
       "</div>"
      ],
      "text/plain": [
       "                     neighbourhood  average_house_value\n",
       "year                                                   \n",
       "2001               Agincourt North               200388\n",
       "2001  Agincourt South-Malvern West               203047\n",
       "2001                     Alderwood               259998\n",
       "2001                         Annex               453850\n",
       "2001             Banbury-Don Mills               371864"
      ]
     },
     "execution_count": 108,
     "metadata": {},
     "output_type": "execute_result"
    }
   ],
   "source": [
    "# Create a new DataFrame with the mean house values by neighbourhood per year\n",
    "neighbourhood_grp_clean = to_data.drop(columns=[\"single_detached_house\",\"apartment_five_storeys_plus\",\"movable_dwelling\",\"semi_detached_house\",\"row_house\",\"duplex\",\"apartment_five_storeys_less\",\"other_house\",\"shelter_costs_owned\",\"shelter_costs_rented\"])\n",
    "neighbourhood_grp_clean.head()\n"
   ]
  },
  {
   "cell_type": "code",
   "execution_count": 109,
   "metadata": {},
   "outputs": [
    {
     "data": {},
     "metadata": {},
     "output_type": "display_data"
    },
    {
     "data": {
      "application/vnd.holoviews_exec.v0+json": "",
      "text/html": [
       "<div id='4522'>\n",
       "\n",
       "\n",
       "\n",
       "\n",
       "\n",
       "  <div class=\"bk-root\" id=\"34a48198-e371-4940-8899-2383cdc98ed3\" data-root-id=\"4522\"></div>\n",
       "</div>\n",
       "<script type=\"application/javascript\">(function(root) {\n",
       "  function embed_document(root) {\n",
       "    var docs_json = {\"25030d2d-a855-4ff5-933d-7cb15bf945b9\":{\"roots\":{\"references\":[{\"attributes\":{},\"id\":\"4548\",\"type\":\"ResetTool\"},{\"attributes\":{\"children\":[{\"id\":\"4592\"},{\"id\":\"4593\"},{\"id\":\"4595\"}],\"margin\":[0,0,0,0],\"name\":\"Column12799\"},\"id\":\"4591\",\"type\":\"Column\"},{\"attributes\":{\"line_color\":\"#1f77b3\",\"line_width\":2,\"x\":{\"field\":\"year\"},\"y\":{\"field\":\"average_house_value\"}},\"id\":\"4560\",\"type\":\"Line\"},{\"attributes\":{\"margin\":[5,5,5,5],\"name\":\"HSpacer12801\",\"sizing_mode\":\"stretch_width\"},\"id\":\"4590\",\"type\":\"Spacer\"},{\"attributes\":{\"callback\":null,\"renderers\":[{\"id\":\"4563\"}],\"tags\":[\"hv_created\"],\"tooltips\":[[\"year\",\"@{year}\"],[\"average_house_value\",\"@{average_house_value}\"]]},\"id\":\"4526\",\"type\":\"HoverTool\"},{\"attributes\":{\"source\":{\"id\":\"4557\"}},\"id\":\"4564\",\"type\":\"CDSView\"},{\"attributes\":{},\"id\":\"4582\",\"type\":\"UnionRenderers\"},{\"attributes\":{},\"id\":\"4546\",\"type\":\"WheelZoomTool\"},{\"attributes\":{\"line_alpha\":0.2,\"line_color\":\"#1f77b3\",\"line_width\":2,\"x\":{\"field\":\"year\"},\"y\":{\"field\":\"average_house_value\"}},\"id\":\"4562\",\"type\":\"Line\"},{\"attributes\":{\"end\":484917.3,\"reset_end\":484917.3,\"reset_start\":174521.7,\"start\":174521.7,\"tags\":[[[\"average_house_value\",\"average_house_value\",null]]]},\"id\":\"4525\",\"type\":\"Range1d\"},{\"attributes\":{\"axis\":{\"id\":\"4540\"},\"dimension\":1,\"grid_line_color\":null,\"ticker\":null},\"id\":\"4543\",\"type\":\"Grid\"},{\"attributes\":{\"data\":{\"average_house_value\":[200388,293140,366667,459051],\"year\":[2001,2006,2011,2016]},\"selected\":{\"id\":\"4558\"},\"selection_policy\":{\"id\":\"4582\"}},\"id\":\"4557\",\"type\":\"ColumnDataSource\"},{\"attributes\":{\"format\":\"%.0f\"},\"id\":\"4565\",\"type\":\"PrintfTickFormatter\"},{\"attributes\":{},\"id\":\"4545\",\"type\":\"PanTool\"},{\"attributes\":{\"margin\":[5,5,5,5],\"name\":\"VSpacer12798\",\"sizing_mode\":\"stretch_height\"},\"id\":\"4595\",\"type\":\"Spacer\"},{\"attributes\":{\"children\":[{\"id\":\"4594\"}],\"css_classes\":[\"panel-widget-box\"],\"margin\":[5,5,5,5],\"name\":\"WidgetBox12792\"},\"id\":\"4593\",\"type\":\"Column\"},{\"attributes\":{\"end\":2016.0,\"reset_end\":2016.0,\"reset_start\":2001.0,\"start\":2001.0,\"tags\":[[[\"year\",\"year\",null]]]},\"id\":\"4524\",\"type\":\"Range1d\"},{\"attributes\":{},\"id\":\"4558\",\"type\":\"Selection\"},{\"attributes\":{},\"id\":\"4534\",\"type\":\"LinearScale\"},{\"attributes\":{\"bottom_units\":\"screen\",\"fill_alpha\":0.5,\"fill_color\":\"lightgrey\",\"left_units\":\"screen\",\"level\":\"overlay\",\"line_alpha\":1.0,\"line_color\":\"black\",\"line_dash\":[4,4],\"line_width\":2,\"right_units\":\"screen\",\"top_units\":\"screen\"},\"id\":\"4549\",\"type\":\"BoxAnnotation\"},{\"attributes\":{\"client_comm_id\":\"d398686fb36e4e5ea7d773a8b5476334\",\"comm_id\":\"06dd189886a3493cbaa5c83bc24cdaec\",\"plot_id\":\"4522\"},\"id\":\"4617\",\"type\":\"panel.models.comm_manager.CommManager\"},{\"attributes\":{\"overlay\":{\"id\":\"4549\"}},\"id\":\"4547\",\"type\":\"BoxZoomTool\"},{\"attributes\":{},\"id\":\"4537\",\"type\":\"BasicTicker\"},{\"attributes\":{},\"id\":\"4532\",\"type\":\"LinearScale\"},{\"attributes\":{\"line_alpha\":0.1,\"line_color\":\"#1f77b3\",\"line_width\":2,\"x\":{\"field\":\"year\"},\"y\":{\"field\":\"average_house_value\"}},\"id\":\"4561\",\"type\":\"Line\"},{\"attributes\":{\"below\":[{\"id\":\"4536\"}],\"center\":[{\"id\":\"4539\"},{\"id\":\"4543\"}],\"left\":[{\"id\":\"4540\"}],\"margin\":[5,5,5,5],\"min_border_bottom\":10,\"min_border_left\":10,\"min_border_right\":10,\"min_border_top\":10,\"renderers\":[{\"id\":\"4563\"}],\"sizing_mode\":\"fixed\",\"title\":{\"id\":\"4528\"},\"toolbar\":{\"id\":\"4550\"},\"x_range\":{\"id\":\"4524\"},\"x_scale\":{\"id\":\"4532\"},\"y_range\":{\"id\":\"4525\"},\"y_scale\":{\"id\":\"4534\"}},\"id\":\"4527\",\"subtype\":\"Figure\",\"type\":\"Plot\"},{\"attributes\":{\"axis\":{\"id\":\"4536\"},\"grid_line_color\":null,\"ticker\":null},\"id\":\"4539\",\"type\":\"Grid\"},{\"attributes\":{},\"id\":\"4544\",\"type\":\"SaveTool\"},{\"attributes\":{\"margin\":[20,20,20,20],\"min_width\":250,\"options\":[\"Agincourt North\",\"Agincourt South-Malvern West\",\"Alderwood\",\"Annex\",\"Banbury-Don Mills\",\"Bathurst Manor\",\"Bay Street Corridor\",\"Bayview Village\",\"Bayview Woods-Steeles\",\"Bedford Park-Nortown\",\"Beechborough-Greenbrook\",\"Bendale\",\"Birchcliffe-Cliffside\",\"Black Creek\",\"Blake-Jones\",\"Briar Hill-Belgravia\",\"Bridle Path-Sunnybrook-York Mills\",\"Broadview North\",\"Brookhaven-Amesbury\",\"Cabbagetown-South St.James Town\",\"Caledonia-Fairbank\",\"Casa Loma\",\"Centennial Scarborough\",\"Church-Yonge Corridor\",\"Clairlea-Birchmount\",\"Clanton Park\",\"Cliffcrest\",\"Corso Italia-Davenport\",\"Danforth\",\"Danforth-East York\",\"Don Valley Village\",\"Dorset Park\",\"Dovercourt-Wallace Emerson-Juncti\",\"Downsview-Roding-CFB\",\"Dufferin Grove\",\"East End-Danforth\",\"Edenbridge-Humber Valley\",\"Eglinton East\",\"Elms-Old Rexdale\",\"Englemount-Lawrence\",\"Eringate-Centennial-West Deane\",\"Etobicoke West Mall\",\"Flemingdon Park\",\"Forest Hill North\",\"Forest Hill South\",\"Glenfield-Jane Heights\",\"Greenwood-Coxwell\",\"Guildwood\",\"Henry Farm\",\"High Park North\",\"High Park-Swansea\",\"Highland Creek\",\"Hillcrest Village\",\"Humber Heights-Westmount\",\"Humber Summit\",\"Humbermede\",\"Humewood-Cedarvale\",\"Ionview\",\"Islington-City Centre West\",\"Junction Area\",\"Keelesdale-Eglinton West\",\"Kennedy Park\",\"Kensington-Chinatown\",\"Kingsview Village-The Westway\",\"Kingsway South\",\"L'Amoreaux\",\"Lambton Baby Point\",\"Lansing-Westgate\",\"Lawrence Park North\",\"Lawrence Park South\",\"Leaside-Bennington\",\"Little Portugal\",\"Long Branch\",\"Malvern\",\"Maple Leaf\",\"Markland Wood\",\"Milliken\",\"Mimico\",\"Morningside\",\"Moss Park\",\"Mount Dennis\",\"Mount Olive-Silverstone-Jamestown\",\"Mount Pleasant East\",\"Mount Pleasant West\",\"New Toronto\",\"Newtonbrook East\",\"Newtonbrook West\",\"Niagara\",\"North Riverdale\",\"North St.James Town\",\"O'Connor-Parkview\",\"Oakridge\",\"Oakwood Village\",\"Old East York\",\"Palmerston-Little Italy\",\"Parkwoods-Donalda\",\"Pelmo Park-Humberlea\",\"Playter Estates-Danforth\",\"Pleasant View\",\"Princess-Rosethorn\",\"Regent Park\",\"Rexdale-Kipling\",\"Rockcliffe-Smythe\",\"Roncesvalles\",\"Rosedale-Moore Park\",\"Rouge\",\"Runnymede-Bloor West Village\",\"Rustic\",\"Scarborough Village\",\"South Parkdale\",\"South Riverdale\",\"St.Andrew-Windfields\",\"Steeles\",\"Stonegate-Queensway\",\"Tam O'Shanter-Sullivan\",\"Taylor-Massey\",\"The Beaches\",\"Thistletown-Beaumond Heights\",\"Thorncliffe Park\",\"Trinity-Bellwoods\",\"University\",\"Victoria Village\",\"Waterfront Communities-The Island\",\"West Hill\",\"West Humber-Clairville\",\"Westminster-Branson\",\"Weston\",\"Weston-Pellam Park\",\"Wexford/Maryvale\",\"Willowdale East\",\"Willowdale West\",\"Willowridge-Martingrove-Richview\",\"Woburn\",\"Woodbine Corridor\",\"Woodbine-Lumsden\",\"Wychwood\",\"Yonge-Eglinton\",\"Yonge-St.Clair\",\"York University Heights\",\"Yorkdale-Glen Park\"],\"title\":\"neighbourhood\",\"value\":\"Agincourt North\",\"width\":250},\"id\":\"4594\",\"type\":\"Select\"},{\"attributes\":{\"margin\":[5,5,5,5],\"name\":\"VSpacer12797\",\"sizing_mode\":\"stretch_height\"},\"id\":\"4592\",\"type\":\"Spacer\"},{\"attributes\":{\"children\":[{\"id\":\"4523\"},{\"id\":\"4527\"},{\"id\":\"4590\"},{\"id\":\"4591\"}],\"margin\":[0,0,0,0],\"name\":\"Row12791\"},\"id\":\"4522\",\"type\":\"Row\"},{\"attributes\":{\"active_drag\":\"auto\",\"active_inspect\":\"auto\",\"active_multi\":null,\"active_scroll\":\"auto\",\"active_tap\":\"auto\",\"tools\":[{\"id\":\"4526\"},{\"id\":\"4544\"},{\"id\":\"4545\"},{\"id\":\"4546\"},{\"id\":\"4547\"},{\"id\":\"4548\"}]},\"id\":\"4550\",\"type\":\"Toolbar\"},{\"attributes\":{\"text\":\"neighbourhood: Agincourt North\",\"text_color\":{\"value\":\"black\"},\"text_font_size\":{\"value\":\"12pt\"}},\"id\":\"4528\",\"type\":\"Title\"},{\"attributes\":{\"axis_label\":\"average_house_value\",\"bounds\":\"auto\",\"formatter\":{\"id\":\"4565\"},\"major_label_orientation\":\"horizontal\",\"ticker\":{\"id\":\"4541\"}},\"id\":\"4540\",\"type\":\"LinearAxis\"},{\"attributes\":{},\"id\":\"4566\",\"type\":\"BasicTickFormatter\"},{\"attributes\":{\"margin\":[5,5,5,5],\"name\":\"HSpacer12800\",\"sizing_mode\":\"stretch_width\"},\"id\":\"4523\",\"type\":\"Spacer\"},{\"attributes\":{\"axis_label\":\"year\",\"bounds\":\"auto\",\"formatter\":{\"id\":\"4566\"},\"major_label_orientation\":\"horizontal\",\"ticker\":{\"id\":\"4537\"}},\"id\":\"4536\",\"type\":\"LinearAxis\"},{\"attributes\":{\"data_source\":{\"id\":\"4557\"},\"glyph\":{\"id\":\"4560\"},\"hover_glyph\":null,\"muted_glyph\":{\"id\":\"4562\"},\"nonselection_glyph\":{\"id\":\"4561\"},\"selection_glyph\":null,\"view\":{\"id\":\"4564\"}},\"id\":\"4563\",\"type\":\"GlyphRenderer\"},{\"attributes\":{},\"id\":\"4541\",\"type\":\"BasicTicker\"}],\"root_ids\":[\"4522\",\"4617\"]},\"title\":\"Bokeh Application\",\"version\":\"2.2.3\"}};\n",
       "    var render_items = [{\"docid\":\"25030d2d-a855-4ff5-933d-7cb15bf945b9\",\"root_ids\":[\"4522\"],\"roots\":{\"4522\":\"34a48198-e371-4940-8899-2383cdc98ed3\"}}];\n",
       "    root.Bokeh.embed.embed_items_notebook(docs_json, render_items);\n",
       "  }\n",
       "  if (root.Bokeh !== undefined && root.Bokeh.Panel !== undefined && root['Plotly'] !== undefined ) {\n",
       "    embed_document(root);\n",
       "  } else {\n",
       "    var attempts = 0;\n",
       "    var timer = setInterval(function(root) {\n",
       "      if (root.Bokeh !== undefined && root.Bokeh.Panel !== undefined && root['Plotly'] !== undefined) {\n",
       "        clearInterval(timer);\n",
       "        embed_document(root);\n",
       "      } else if (document.readyState == \"complete\") {\n",
       "        attempts++;\n",
       "        if (attempts > 100) {\n",
       "          clearInterval(timer);\n",
       "          console.log(\"Bokeh: ERROR: Unable to run BokehJS code because BokehJS library is missing\");\n",
       "        }\n",
       "      }\n",
       "    }, 10, root)\n",
       "  }\n",
       "})(window);</script>"
      ],
      "text/plain": [
       ":DynamicMap   [neighbourhood]\n",
       "   :Curve   [year]   (average_house_value)"
      ]
     },
     "execution_count": 109,
     "metadata": {
      "application/vnd.holoviews_exec.v0+json": {
       "id": "4522"
      }
     },
     "output_type": "execute_result"
    }
   ],
   "source": [
    "# Use hvplot to create an interactive line chart of the average house value per neighbourhood\n",
    "# The plot should have a dropdown selector for the neighbourhood\n",
    "to_data.hvplot(x=\"year\", y=\"average_house_value\", groupby=\"neighbourhood\", kind=\"line\", yformatter=\"%.0f\", width=600, height =600)"
   ]
  },
  {
   "cell_type": "code",
   "execution_count": null,
   "metadata": {},
   "outputs": [],
   "source": []
  },
  {
   "cell_type": "markdown",
   "metadata": {},
   "source": [
    "## Number of Dwelling Types per Year\n",
    "\n",
    "In this section, you will use `hvplot` to create an interactive visualization of the average number of dwelling types per year with a dropdown selector for the neighbourhood."
   ]
  },
  {
   "cell_type": "code",
   "execution_count": 110,
   "metadata": {},
   "outputs": [],
   "source": [
    "# Fetch the data of all dwelling types per year\n"
   ]
  },
  {
   "cell_type": "code",
   "execution_count": 111,
   "metadata": {},
   "outputs": [
    {
     "data": {},
     "metadata": {},
     "output_type": "display_data"
    },
    {
     "data": {
      "application/vnd.holoviews_exec.v0+json": "",
      "text/html": [
       "<div id='4653'>\n",
       "\n",
       "\n",
       "\n",
       "\n",
       "\n",
       "  <div class=\"bk-root\" id=\"854a2e4e-d52c-4359-836a-a5260e9c4d61\" data-root-id=\"4653\"></div>\n",
       "</div>\n",
       "<script type=\"application/javascript\">(function(root) {\n",
       "  function embed_document(root) {\n",
       "    var docs_json = {\"8b271dcc-153f-44df-bfd9-d0b09ab05d33\":{\"roots\":{\"references\":[{\"attributes\":{\"children\":[{\"id\":\"4654\"},{\"id\":\"4658\"},{\"id\":\"4721\"},{\"id\":\"4722\"}],\"margin\":[0,0,0,0],\"name\":\"Row13056\"},\"id\":\"4653\",\"type\":\"Row\"},{\"attributes\":{},\"id\":\"4668\",\"type\":\"CategoricalTicker\"},{\"attributes\":{\"text\":\"neighbourhood: Agincourt North\",\"text_color\":{\"value\":\"black\"},\"text_font_size\":{\"value\":\"12pt\"}},\"id\":\"4659\",\"type\":\"Title\"},{\"attributes\":{\"axis\":{\"id\":\"4670\"},\"dimension\":1,\"grid_line_color\":null,\"ticker\":null},\"id\":\"4673\",\"type\":\"Grid\"},{\"attributes\":{\"overlay\":{\"id\":\"4679\"}},\"id\":\"4677\",\"type\":\"BoxZoomTool\"},{\"attributes\":{\"fill_color\":{\"field\":\"Variable\",\"transform\":{\"id\":\"4687\"}},\"top\":{\"field\":\"value\"},\"width\":{\"value\":0.8},\"x\":{\"field\":\"xoffsets\"}},\"id\":\"4691\",\"type\":\"VBar\"},{\"attributes\":{\"children\":[{\"id\":\"4723\"},{\"id\":\"4724\"},{\"id\":\"4726\"}],\"margin\":[0,0,0,0],\"name\":\"Column13064\"},\"id\":\"4722\",\"type\":\"Column\"},{\"attributes\":{},\"id\":\"4663\",\"type\":\"CategoricalScale\"},{\"attributes\":{},\"id\":\"4676\",\"type\":\"WheelZoomTool\"},{\"attributes\":{\"active_drag\":\"auto\",\"active_inspect\":\"auto\",\"active_multi\":null,\"active_scroll\":\"auto\",\"active_tap\":\"auto\",\"tools\":[{\"id\":\"4657\"},{\"id\":\"4674\"},{\"id\":\"4675\"},{\"id\":\"4676\"},{\"id\":\"4677\"},{\"id\":\"4678\"}]},\"id\":\"4680\",\"type\":\"Toolbar\"},{\"attributes\":{\"axis\":{\"id\":\"4667\"},\"grid_line_color\":null,\"ticker\":null},\"id\":\"4669\",\"type\":\"Grid\"},{\"attributes\":{\"factors\":[\"single_detached_house\",\"apartment_five_storeys_plus\",\"movable_dwelling\",\"semi_detached_house\",\"row_house\",\"duplex\",\"apartment_five_storeys_less\",\"other_house\"],\"palette\":[\"#1f77b3\",\"#ff7e0e\",\"#2ba02b\",\"#d62628\",\"#9367bc\",\"#8c564b\",\"#e277c1\",\"#7e7e7e\"]},\"id\":\"4687\",\"type\":\"CategoricalColorMapper\"},{\"attributes\":{\"margin\":[5,5,5,5],\"name\":\"HSpacer13066\",\"sizing_mode\":\"stretch_width\"},\"id\":\"4721\",\"type\":\"Spacer\"},{\"attributes\":{\"bottom_units\":\"screen\",\"fill_alpha\":0.5,\"fill_color\":\"lightgrey\",\"left_units\":\"screen\",\"level\":\"overlay\",\"line_alpha\":1.0,\"line_color\":\"black\",\"line_dash\":[4,4],\"line_width\":2,\"right_units\":\"screen\",\"top_units\":\"screen\"},\"id\":\"4679\",\"type\":\"BoxAnnotation\"},{\"attributes\":{\"margin\":[5,5,5,5],\"name\":\"HSpacer13065\",\"sizing_mode\":\"stretch_width\"},\"id\":\"4654\",\"type\":\"Spacer\"},{\"attributes\":{},\"id\":\"4675\",\"type\":\"PanTool\"},{\"attributes\":{\"fill_alpha\":{\"value\":0.1},\"fill_color\":{\"field\":\"Variable\",\"transform\":{\"id\":\"4687\"}},\"line_alpha\":{\"value\":0.1},\"top\":{\"field\":\"value\"},\"width\":{\"value\":0.8},\"x\":{\"field\":\"xoffsets\"}},\"id\":\"4692\",\"type\":\"VBar\"},{\"attributes\":{},\"id\":\"4713\",\"type\":\"UnionRenderers\"},{\"attributes\":{\"end\":4086.5,\"reset_end\":4086.5,\"reset_start\":0.0,\"tags\":[[[\"value\",\"value\",null]]]},\"id\":\"4656\",\"type\":\"Range1d\"},{\"attributes\":{\"data\":{\"Variable\":[\"single_detached_house\",\"single_detached_house\",\"single_detached_house\",\"single_detached_house\",\"apartment_five_storeys_plus\",\"apartment_five_storeys_plus\",\"apartment_five_storeys_plus\",\"apartment_five_storeys_plus\",\"movable_dwelling\",\"movable_dwelling\",\"movable_dwelling\",\"movable_dwelling\",\"semi_detached_house\",\"semi_detached_house\",\"semi_detached_house\",\"semi_detached_house\",\"row_house\",\"row_house\",\"row_house\",\"row_house\",\"duplex\",\"duplex\",\"duplex\",\"duplex\",\"apartment_five_storeys_less\",\"apartment_five_storeys_less\",\"apartment_five_storeys_less\",\"apartment_five_storeys_less\",\"other_house\",\"other_house\",\"other_house\",\"other_house\"],\"value\":[3715,3295,3385,3345,1480,2060,2130,2120,0,0,5,5,1055,775,820,805,1295,1425,1465,1440,195,600,610,645,185,565,705,735,5,0,20,15],\"xoffsets\":[[\"2001\",\"single_detached_house\"],[\"2006\",\"single_detached_house\"],[\"2011\",\"single_detached_house\"],[\"2016\",\"single_detached_house\"],[\"2001\",\"apartment_five_storeys_plus\"],[\"2006\",\"apartment_five_storeys_plus\"],[\"2011\",\"apartment_five_storeys_plus\"],[\"2016\",\"apartment_five_storeys_plus\"],[\"2001\",\"movable_dwelling\"],[\"2006\",\"movable_dwelling\"],[\"2011\",\"movable_dwelling\"],[\"2016\",\"movable_dwelling\"],[\"2001\",\"semi_detached_house\"],[\"2006\",\"semi_detached_house\"],[\"2011\",\"semi_detached_house\"],[\"2016\",\"semi_detached_house\"],[\"2001\",\"row_house\"],[\"2006\",\"row_house\"],[\"2011\",\"row_house\"],[\"2016\",\"row_house\"],[\"2001\",\"duplex\"],[\"2006\",\"duplex\"],[\"2011\",\"duplex\"],[\"2016\",\"duplex\"],[\"2001\",\"apartment_five_storeys_less\"],[\"2006\",\"apartment_five_storeys_less\"],[\"2011\",\"apartment_five_storeys_less\"],[\"2016\",\"apartment_five_storeys_less\"],[\"2001\",\"other_house\"],[\"2006\",\"other_house\"],[\"2011\",\"other_house\"],[\"2016\",\"other_house\"]],\"year\":[\"2001\",\"2006\",\"2011\",\"2016\",\"2001\",\"2006\",\"2011\",\"2016\",\"2001\",\"2006\",\"2011\",\"2016\",\"2001\",\"2006\",\"2011\",\"2016\",\"2001\",\"2006\",\"2011\",\"2016\",\"2001\",\"2006\",\"2011\",\"2016\",\"2001\",\"2006\",\"2011\",\"2016\",\"2001\",\"2006\",\"2011\",\"2016\"]},\"selected\":{\"id\":\"4689\"},\"selection_policy\":{\"id\":\"4713\"}},\"id\":\"4688\",\"type\":\"ColumnDataSource\"},{\"attributes\":{},\"id\":\"4689\",\"type\":\"Selection\"},{\"attributes\":{},\"id\":\"4678\",\"type\":\"ResetTool\"},{\"attributes\":{\"format\":\"%.0f\"},\"id\":\"4696\",\"type\":\"PrintfTickFormatter\"},{\"attributes\":{\"below\":[{\"id\":\"4667\"}],\"center\":[{\"id\":\"4669\"},{\"id\":\"4673\"}],\"left\":[{\"id\":\"4670\"}],\"margin\":[5,5,5,5],\"min_border_bottom\":10,\"min_border_left\":10,\"min_border_right\":10,\"min_border_top\":10,\"renderers\":[{\"id\":\"4694\"}],\"sizing_mode\":\"fixed\",\"title\":{\"id\":\"4659\"},\"toolbar\":{\"id\":\"4680\"},\"x_range\":{\"id\":\"4655\"},\"x_scale\":{\"id\":\"4663\"},\"y_range\":{\"id\":\"4656\"},\"y_scale\":{\"id\":\"4665\"}},\"id\":\"4658\",\"subtype\":\"Figure\",\"type\":\"Plot\"},{\"attributes\":{\"factors\":[[\"2001\",\"other_house\"],[\"2001\",\"apartment_five_storeys_less\"],[\"2001\",\"duplex\"],[\"2001\",\"row_house\"],[\"2001\",\"semi_detached_house\"],[\"2001\",\"movable_dwelling\"],[\"2001\",\"apartment_five_storeys_plus\"],[\"2001\",\"single_detached_house\"],[\"2006\",\"other_house\"],[\"2006\",\"apartment_five_storeys_less\"],[\"2006\",\"duplex\"],[\"2006\",\"row_house\"],[\"2006\",\"semi_detached_house\"],[\"2006\",\"movable_dwelling\"],[\"2006\",\"apartment_five_storeys_plus\"],[\"2006\",\"single_detached_house\"],[\"2011\",\"other_house\"],[\"2011\",\"apartment_five_storeys_less\"],[\"2011\",\"duplex\"],[\"2011\",\"row_house\"],[\"2011\",\"semi_detached_house\"],[\"2011\",\"movable_dwelling\"],[\"2011\",\"apartment_five_storeys_plus\"],[\"2011\",\"single_detached_house\"],[\"2016\",\"other_house\"],[\"2016\",\"apartment_five_storeys_less\"],[\"2016\",\"duplex\"],[\"2016\",\"row_house\"],[\"2016\",\"semi_detached_house\"],[\"2016\",\"movable_dwelling\"],[\"2016\",\"apartment_five_storeys_plus\"],[\"2016\",\"single_detached_house\"]],\"tags\":[[[\"year\",\"year\",null],[\"Variable\",\"Variable\",null]]]},\"id\":\"4655\",\"type\":\"FactorRange\"},{\"attributes\":{},\"id\":\"4674\",\"type\":\"SaveTool\"},{\"attributes\":{\"margin\":[20,20,20,20],\"min_width\":250,\"options\":[\"Agincourt North\",\"Agincourt South-Malvern West\",\"Alderwood\",\"Annex\",\"Banbury-Don Mills\",\"Bathurst Manor\",\"Bay Street Corridor\",\"Bayview Village\",\"Bayview Woods-Steeles\",\"Bedford Park-Nortown\",\"Beechborough-Greenbrook\",\"Bendale\",\"Birchcliffe-Cliffside\",\"Black Creek\",\"Blake-Jones\",\"Briar Hill-Belgravia\",\"Bridle Path-Sunnybrook-York Mills\",\"Broadview North\",\"Brookhaven-Amesbury\",\"Cabbagetown-South St.James Town\",\"Caledonia-Fairbank\",\"Casa Loma\",\"Centennial Scarborough\",\"Church-Yonge Corridor\",\"Clairlea-Birchmount\",\"Clanton Park\",\"Cliffcrest\",\"Corso Italia-Davenport\",\"Danforth\",\"Danforth-East York\",\"Don Valley Village\",\"Dorset Park\",\"Dovercourt-Wallace Emerson-Juncti\",\"Downsview-Roding-CFB\",\"Dufferin Grove\",\"East End-Danforth\",\"Edenbridge-Humber Valley\",\"Eglinton East\",\"Elms-Old Rexdale\",\"Englemount-Lawrence\",\"Eringate-Centennial-West Deane\",\"Etobicoke West Mall\",\"Flemingdon Park\",\"Forest Hill North\",\"Forest Hill South\",\"Glenfield-Jane Heights\",\"Greenwood-Coxwell\",\"Guildwood\",\"Henry Farm\",\"High Park North\",\"High Park-Swansea\",\"Highland Creek\",\"Hillcrest Village\",\"Humber Heights-Westmount\",\"Humber Summit\",\"Humbermede\",\"Humewood-Cedarvale\",\"Ionview\",\"Islington-City Centre West\",\"Junction Area\",\"Keelesdale-Eglinton West\",\"Kennedy Park\",\"Kensington-Chinatown\",\"Kingsview Village-The Westway\",\"Kingsway South\",\"L'Amoreaux\",\"Lambton Baby Point\",\"Lansing-Westgate\",\"Lawrence Park North\",\"Lawrence Park South\",\"Leaside-Bennington\",\"Little Portugal\",\"Long Branch\",\"Malvern\",\"Maple Leaf\",\"Markland Wood\",\"Milliken\",\"Mimico\",\"Morningside\",\"Moss Park\",\"Mount Dennis\",\"Mount Olive-Silverstone-Jamestown\",\"Mount Pleasant East\",\"Mount Pleasant West\",\"New Toronto\",\"Newtonbrook East\",\"Newtonbrook West\",\"Niagara\",\"North Riverdale\",\"North St.James Town\",\"O'Connor-Parkview\",\"Oakridge\",\"Oakwood Village\",\"Old East York\",\"Palmerston-Little Italy\",\"Parkwoods-Donalda\",\"Pelmo Park-Humberlea\",\"Playter Estates-Danforth\",\"Pleasant View\",\"Princess-Rosethorn\",\"Regent Park\",\"Rexdale-Kipling\",\"Rockcliffe-Smythe\",\"Roncesvalles\",\"Rosedale-Moore Park\",\"Rouge\",\"Runnymede-Bloor West Village\",\"Rustic\",\"Scarborough Village\",\"South Parkdale\",\"South Riverdale\",\"St.Andrew-Windfields\",\"Steeles\",\"Stonegate-Queensway\",\"Tam O'Shanter-Sullivan\",\"Taylor-Massey\",\"The Beaches\",\"Thistletown-Beaumond Heights\",\"Thorncliffe Park\",\"Trinity-Bellwoods\",\"University\",\"Victoria Village\",\"Waterfront Communities-The Island\",\"West Hill\",\"West Humber-Clairville\",\"Westminster-Branson\",\"Weston\",\"Weston-Pellam Park\",\"Wexford/Maryvale\",\"Willowdale East\",\"Willowdale West\",\"Willowridge-Martingrove-Richview\",\"Woburn\",\"Woodbine Corridor\",\"Woodbine-Lumsden\",\"Wychwood\",\"Yonge-Eglinton\",\"Yonge-St.Clair\",\"York University Heights\",\"Yorkdale-Glen Park\"],\"title\":\"neighbourhood\",\"value\":\"Agincourt North\",\"width\":250},\"id\":\"4725\",\"type\":\"Select\"},{\"attributes\":{\"margin\":[5,5,5,5],\"name\":\"VSpacer13062\",\"sizing_mode\":\"stretch_height\"},\"id\":\"4723\",\"type\":\"Spacer\"},{\"attributes\":{\"client_comm_id\":\"3c2dd277605440b5b1970f93eae4369e\",\"comm_id\":\"3cc6410690f4415597d7b553aa918177\",\"plot_id\":\"4653\"},\"id\":\"4748\",\"type\":\"panel.models.comm_manager.CommManager\"},{\"attributes\":{\"source\":{\"id\":\"4688\"}},\"id\":\"4695\",\"type\":\"CDSView\"},{\"attributes\":{\"axis_label\":\"year, Variable\",\"bounds\":\"auto\",\"formatter\":{\"id\":\"4697\"},\"major_label_orientation\":1.5707963267948966,\"ticker\":{\"id\":\"4668\"}},\"id\":\"4667\",\"type\":\"CategoricalAxis\"},{\"attributes\":{},\"id\":\"4671\",\"type\":\"BasicTicker\"},{\"attributes\":{\"axis_label\":\"Number of Dwellings\",\"bounds\":\"auto\",\"formatter\":{\"id\":\"4696\"},\"major_label_orientation\":\"horizontal\",\"ticker\":{\"id\":\"4671\"}},\"id\":\"4670\",\"type\":\"LinearAxis\"},{\"attributes\":{\"data_source\":{\"id\":\"4688\"},\"glyph\":{\"id\":\"4691\"},\"hover_glyph\":null,\"muted_glyph\":{\"id\":\"4693\"},\"nonselection_glyph\":{\"id\":\"4692\"},\"selection_glyph\":null,\"view\":{\"id\":\"4695\"}},\"id\":\"4694\",\"type\":\"GlyphRenderer\"},{\"attributes\":{\"callback\":null,\"renderers\":[{\"id\":\"4694\"}],\"tags\":[\"hv_created\"],\"tooltips\":[[\"year\",\"@{year}\"],[\"Variable\",\"@{Variable}\"],[\"value\",\"@{value}\"]]},\"id\":\"4657\",\"type\":\"HoverTool\"},{\"attributes\":{},\"id\":\"4697\",\"type\":\"CategoricalTickFormatter\"},{\"attributes\":{\"children\":[{\"id\":\"4725\"}],\"css_classes\":[\"panel-widget-box\"],\"margin\":[5,5,5,5],\"name\":\"WidgetBox13057\"},\"id\":\"4724\",\"type\":\"Column\"},{\"attributes\":{\"fill_alpha\":{\"value\":0.2},\"fill_color\":{\"field\":\"Variable\",\"transform\":{\"id\":\"4687\"}},\"line_alpha\":{\"value\":0.2},\"top\":{\"field\":\"value\"},\"width\":{\"value\":0.8},\"x\":{\"field\":\"xoffsets\"}},\"id\":\"4693\",\"type\":\"VBar\"},{\"attributes\":{\"margin\":[5,5,5,5],\"name\":\"VSpacer13063\",\"sizing_mode\":\"stretch_height\"},\"id\":\"4726\",\"type\":\"Spacer\"},{\"attributes\":{},\"id\":\"4665\",\"type\":\"LinearScale\"}],\"root_ids\":[\"4653\",\"4748\"]},\"title\":\"Bokeh Application\",\"version\":\"2.2.3\"}};\n",
       "    var render_items = [{\"docid\":\"8b271dcc-153f-44df-bfd9-d0b09ab05d33\",\"root_ids\":[\"4653\"],\"roots\":{\"4653\":\"854a2e4e-d52c-4359-836a-a5260e9c4d61\"}}];\n",
       "    root.Bokeh.embed.embed_items_notebook(docs_json, render_items);\n",
       "  }\n",
       "  if (root.Bokeh !== undefined && root.Bokeh.Panel !== undefined && root['Plotly'] !== undefined ) {\n",
       "    embed_document(root);\n",
       "  } else {\n",
       "    var attempts = 0;\n",
       "    var timer = setInterval(function(root) {\n",
       "      if (root.Bokeh !== undefined && root.Bokeh.Panel !== undefined && root['Plotly'] !== undefined) {\n",
       "        clearInterval(timer);\n",
       "        embed_document(root);\n",
       "      } else if (document.readyState == \"complete\") {\n",
       "        attempts++;\n",
       "        if (attempts > 100) {\n",
       "          clearInterval(timer);\n",
       "          console.log(\"Bokeh: ERROR: Unable to run BokehJS code because BokehJS library is missing\");\n",
       "        }\n",
       "      }\n",
       "    }, 10, root)\n",
       "  }\n",
       "})(window);</script>"
      ],
      "text/plain": [
       ":DynamicMap   [neighbourhood]\n",
       "   :Bars   [year,Variable]   (value)"
      ]
     },
     "execution_count": 111,
     "metadata": {
      "application/vnd.holoviews_exec.v0+json": {
       "id": "4653"
      }
     },
     "output_type": "execute_result"
    }
   ],
   "source": [
    "# Use hvplot to create an interactive bar chart of the number of dwelling types per neighbourhood\n",
    "to_data.hvplot(x=\"year\", y=(\"single_detached_house\",\"apartment_five_storeys_plus\",\"movable_dwelling\",\"semi_detached_house\",\"row_house\",\"duplex\",\"apartment_five_storeys_less\",\"other_house\"), groupby=\"neighbourhood\", kind=\"bar\", yformatter=\"%.0f\", width=600, height =600,rot=90,ylabel=\"Number of Dwellings\")\n"
   ]
  },
  {
   "cell_type": "markdown",
   "metadata": {},
   "source": [
    "- - - "
   ]
  },
  {
   "cell_type": "markdown",
   "metadata": {},
   "source": [
    "## The Top 10 Most Expensive Neighbourhoods\n",
    "\n",
    "In this section, you will need to calculate the house value for each neighbourhood and then sort the values to obtain the top 10 most expensive neighbourhoods on average. Plot the results as a bar chart."
   ]
  },
  {
   "cell_type": "code",
   "execution_count": 112,
   "metadata": {},
   "outputs": [
    {
     "data": {
      "text/html": [
       "<div>\n",
       "<style scoped>\n",
       "    .dataframe tbody tr th:only-of-type {\n",
       "        vertical-align: middle;\n",
       "    }\n",
       "\n",
       "    .dataframe tbody tr th {\n",
       "        vertical-align: top;\n",
       "    }\n",
       "\n",
       "    .dataframe thead th {\n",
       "        text-align: right;\n",
       "    }\n",
       "</style>\n",
       "<table border=\"1\" class=\"dataframe\">\n",
       "  <thead>\n",
       "    <tr style=\"text-align: right;\">\n",
       "      <th></th>\n",
       "      <th>single_detached_house</th>\n",
       "      <th>apartment_five_storeys_plus</th>\n",
       "      <th>movable_dwelling</th>\n",
       "      <th>semi_detached_house</th>\n",
       "      <th>row_house</th>\n",
       "      <th>duplex</th>\n",
       "      <th>apartment_five_storeys_less</th>\n",
       "      <th>other_house</th>\n",
       "      <th>average_house_value</th>\n",
       "      <th>shelter_costs_owned</th>\n",
       "      <th>shelter_costs_rented</th>\n",
       "    </tr>\n",
       "    <tr>\n",
       "      <th>neighbourhood</th>\n",
       "      <th></th>\n",
       "      <th></th>\n",
       "      <th></th>\n",
       "      <th></th>\n",
       "      <th></th>\n",
       "      <th></th>\n",
       "      <th></th>\n",
       "      <th></th>\n",
       "      <th></th>\n",
       "      <th></th>\n",
       "      <th></th>\n",
       "    </tr>\n",
       "  </thead>\n",
       "  <tbody>\n",
       "    <tr>\n",
       "      <th>Bridle Path-Sunnybrook-York Mills</th>\n",
       "      <td>2260.00</td>\n",
       "      <td>331.25</td>\n",
       "      <td>0.00</td>\n",
       "      <td>36.25</td>\n",
       "      <td>90.00</td>\n",
       "      <td>25.0</td>\n",
       "      <td>40.00</td>\n",
       "      <td>0.00</td>\n",
       "      <td>1526485.75</td>\n",
       "      <td>2360.75</td>\n",
       "      <td>2321.75</td>\n",
       "    </tr>\n",
       "    <tr>\n",
       "      <th>Forest Hill South</th>\n",
       "      <td>1742.50</td>\n",
       "      <td>2031.25</td>\n",
       "      <td>1.25</td>\n",
       "      <td>61.25</td>\n",
       "      <td>45.00</td>\n",
       "      <td>75.0</td>\n",
       "      <td>1027.50</td>\n",
       "      <td>3.75</td>\n",
       "      <td>1195992.50</td>\n",
       "      <td>1781.00</td>\n",
       "      <td>1313.75</td>\n",
       "    </tr>\n",
       "    <tr>\n",
       "      <th>Lawrence Park South</th>\n",
       "      <td>3472.50</td>\n",
       "      <td>773.75</td>\n",
       "      <td>0.00</td>\n",
       "      <td>126.25</td>\n",
       "      <td>38.75</td>\n",
       "      <td>225.0</td>\n",
       "      <td>966.25</td>\n",
       "      <td>16.25</td>\n",
       "      <td>1094027.75</td>\n",
       "      <td>1954.00</td>\n",
       "      <td>1372.75</td>\n",
       "    </tr>\n",
       "    <tr>\n",
       "      <th>Rosedale-Moore Park</th>\n",
       "      <td>2498.75</td>\n",
       "      <td>4641.25</td>\n",
       "      <td>0.00</td>\n",
       "      <td>486.25</td>\n",
       "      <td>245.00</td>\n",
       "      <td>327.5</td>\n",
       "      <td>1618.75</td>\n",
       "      <td>2.50</td>\n",
       "      <td>1093640.00</td>\n",
       "      <td>1909.75</td>\n",
       "      <td>1537.25</td>\n",
       "    </tr>\n",
       "    <tr>\n",
       "      <th>St.Andrew-Windfields</th>\n",
       "      <td>3225.00</td>\n",
       "      <td>1670.00</td>\n",
       "      <td>0.00</td>\n",
       "      <td>185.00</td>\n",
       "      <td>552.50</td>\n",
       "      <td>97.5</td>\n",
       "      <td>586.25</td>\n",
       "      <td>5.00</td>\n",
       "      <td>999107.00</td>\n",
       "      <td>1880.25</td>\n",
       "      <td>1384.50</td>\n",
       "    </tr>\n",
       "    <tr>\n",
       "      <th>Casa Loma</th>\n",
       "      <td>916.25</td>\n",
       "      <td>2310.00</td>\n",
       "      <td>0.00</td>\n",
       "      <td>288.75</td>\n",
       "      <td>201.25</td>\n",
       "      <td>162.5</td>\n",
       "      <td>1192.50</td>\n",
       "      <td>2.50</td>\n",
       "      <td>981064.25</td>\n",
       "      <td>1873.75</td>\n",
       "      <td>1547.75</td>\n",
       "    </tr>\n",
       "    <tr>\n",
       "      <th>Bedford Park-Nortown</th>\n",
       "      <td>4865.00</td>\n",
       "      <td>1981.25</td>\n",
       "      <td>0.00</td>\n",
       "      <td>43.75</td>\n",
       "      <td>57.50</td>\n",
       "      <td>287.5</td>\n",
       "      <td>1275.00</td>\n",
       "      <td>88.75</td>\n",
       "      <td>930415.25</td>\n",
       "      <td>1786.75</td>\n",
       "      <td>1255.00</td>\n",
       "    </tr>\n",
       "    <tr>\n",
       "      <th>Forest Hill North</th>\n",
       "      <td>1488.75</td>\n",
       "      <td>3392.50</td>\n",
       "      <td>0.00</td>\n",
       "      <td>12.50</td>\n",
       "      <td>16.25</td>\n",
       "      <td>82.5</td>\n",
       "      <td>402.50</td>\n",
       "      <td>1.25</td>\n",
       "      <td>851680.50</td>\n",
       "      <td>1722.75</td>\n",
       "      <td>1245.50</td>\n",
       "    </tr>\n",
       "    <tr>\n",
       "      <th>Kingsway South</th>\n",
       "      <td>2326.25</td>\n",
       "      <td>576.25</td>\n",
       "      <td>0.00</td>\n",
       "      <td>66.25</td>\n",
       "      <td>48.75</td>\n",
       "      <td>20.0</td>\n",
       "      <td>336.25</td>\n",
       "      <td>2.50</td>\n",
       "      <td>843234.25</td>\n",
       "      <td>1736.75</td>\n",
       "      <td>1622.00</td>\n",
       "    </tr>\n",
       "    <tr>\n",
       "      <th>Yonge-St.Clair</th>\n",
       "      <td>565.00</td>\n",
       "      <td>3948.75</td>\n",
       "      <td>0.00</td>\n",
       "      <td>425.00</td>\n",
       "      <td>212.50</td>\n",
       "      <td>172.5</td>\n",
       "      <td>1308.75</td>\n",
       "      <td>6.25</td>\n",
       "      <td>813220.25</td>\n",
       "      <td>1680.75</td>\n",
       "      <td>1369.00</td>\n",
       "    </tr>\n",
       "  </tbody>\n",
       "</table>\n",
       "</div>"
      ],
      "text/plain": [
       "                                   single_detached_house  \\\n",
       "neighbourhood                                              \n",
       "Bridle Path-Sunnybrook-York Mills                2260.00   \n",
       "Forest Hill South                                1742.50   \n",
       "Lawrence Park South                              3472.50   \n",
       "Rosedale-Moore Park                              2498.75   \n",
       "St.Andrew-Windfields                             3225.00   \n",
       "Casa Loma                                         916.25   \n",
       "Bedford Park-Nortown                             4865.00   \n",
       "Forest Hill North                                1488.75   \n",
       "Kingsway South                                   2326.25   \n",
       "Yonge-St.Clair                                    565.00   \n",
       "\n",
       "                                   apartment_five_storeys_plus  \\\n",
       "neighbourhood                                                    \n",
       "Bridle Path-Sunnybrook-York Mills                       331.25   \n",
       "Forest Hill South                                      2031.25   \n",
       "Lawrence Park South                                     773.75   \n",
       "Rosedale-Moore Park                                    4641.25   \n",
       "St.Andrew-Windfields                                   1670.00   \n",
       "Casa Loma                                              2310.00   \n",
       "Bedford Park-Nortown                                   1981.25   \n",
       "Forest Hill North                                      3392.50   \n",
       "Kingsway South                                          576.25   \n",
       "Yonge-St.Clair                                         3948.75   \n",
       "\n",
       "                                   movable_dwelling  semi_detached_house  \\\n",
       "neighbourhood                                                              \n",
       "Bridle Path-Sunnybrook-York Mills              0.00                36.25   \n",
       "Forest Hill South                              1.25                61.25   \n",
       "Lawrence Park South                            0.00               126.25   \n",
       "Rosedale-Moore Park                            0.00               486.25   \n",
       "St.Andrew-Windfields                           0.00               185.00   \n",
       "Casa Loma                                      0.00               288.75   \n",
       "Bedford Park-Nortown                           0.00                43.75   \n",
       "Forest Hill North                              0.00                12.50   \n",
       "Kingsway South                                 0.00                66.25   \n",
       "Yonge-St.Clair                                 0.00               425.00   \n",
       "\n",
       "                                   row_house  duplex  \\\n",
       "neighbourhood                                          \n",
       "Bridle Path-Sunnybrook-York Mills      90.00    25.0   \n",
       "Forest Hill South                      45.00    75.0   \n",
       "Lawrence Park South                    38.75   225.0   \n",
       "Rosedale-Moore Park                   245.00   327.5   \n",
       "St.Andrew-Windfields                  552.50    97.5   \n",
       "Casa Loma                             201.25   162.5   \n",
       "Bedford Park-Nortown                   57.50   287.5   \n",
       "Forest Hill North                      16.25    82.5   \n",
       "Kingsway South                         48.75    20.0   \n",
       "Yonge-St.Clair                        212.50   172.5   \n",
       "\n",
       "                                   apartment_five_storeys_less  other_house  \\\n",
       "neighbourhood                                                                 \n",
       "Bridle Path-Sunnybrook-York Mills                        40.00         0.00   \n",
       "Forest Hill South                                      1027.50         3.75   \n",
       "Lawrence Park South                                     966.25        16.25   \n",
       "Rosedale-Moore Park                                    1618.75         2.50   \n",
       "St.Andrew-Windfields                                    586.25         5.00   \n",
       "Casa Loma                                              1192.50         2.50   \n",
       "Bedford Park-Nortown                                   1275.00        88.75   \n",
       "Forest Hill North                                       402.50         1.25   \n",
       "Kingsway South                                          336.25         2.50   \n",
       "Yonge-St.Clair                                         1308.75         6.25   \n",
       "\n",
       "                                   average_house_value  shelter_costs_owned  \\\n",
       "neighbourhood                                                                 \n",
       "Bridle Path-Sunnybrook-York Mills           1526485.75              2360.75   \n",
       "Forest Hill South                           1195992.50              1781.00   \n",
       "Lawrence Park South                         1094027.75              1954.00   \n",
       "Rosedale-Moore Park                         1093640.00              1909.75   \n",
       "St.Andrew-Windfields                         999107.00              1880.25   \n",
       "Casa Loma                                    981064.25              1873.75   \n",
       "Bedford Park-Nortown                         930415.25              1786.75   \n",
       "Forest Hill North                            851680.50              1722.75   \n",
       "Kingsway South                               843234.25              1736.75   \n",
       "Yonge-St.Clair                               813220.25              1680.75   \n",
       "\n",
       "                                   shelter_costs_rented  \n",
       "neighbourhood                                            \n",
       "Bridle Path-Sunnybrook-York Mills               2321.75  \n",
       "Forest Hill South                               1313.75  \n",
       "Lawrence Park South                             1372.75  \n",
       "Rosedale-Moore Park                             1537.25  \n",
       "St.Andrew-Windfields                            1384.50  \n",
       "Casa Loma                                       1547.75  \n",
       "Bedford Park-Nortown                            1255.00  \n",
       "Forest Hill North                               1245.50  \n",
       "Kingsway South                                  1622.00  \n",
       "Yonge-St.Clair                                  1369.00  "
      ]
     },
     "execution_count": 112,
     "metadata": {},
     "output_type": "execute_result"
    }
   ],
   "source": [
    "# Getting the data from the top 10 expensive neighbourhoods\n",
    "multi_group = to_data.groupby(\"neighbourhood\").sum()/to_data.groupby(\"neighbourhood\").count()\n",
    "multi_group.sort_values(\"average_house_value\",ascending=False,inplace=True)\n",
    "top_10 = multi_group.head(10)\n",
    "top_10"
   ]
  },
  {
   "cell_type": "code",
   "execution_count": 113,
   "metadata": {},
   "outputs": [
    {
     "data": {},
     "metadata": {},
     "output_type": "display_data"
    },
    {
     "data": {
      "application/vnd.holoviews_exec.v0+json": "",
      "text/html": [
       "<div id='4784'>\n",
       "\n",
       "\n",
       "\n",
       "\n",
       "\n",
       "  <div class=\"bk-root\" id=\"a07a1674-9fae-408d-9ba7-11013d4c6405\" data-root-id=\"4784\"></div>\n",
       "</div>\n",
       "<script type=\"application/javascript\">(function(root) {\n",
       "  function embed_document(root) {\n",
       "    var docs_json = {\"e8318940-e196-4f35-a60a-098e669fa8c4\":{\"roots\":{\"references\":[{\"attributes\":{},\"id\":\"4839\",\"type\":\"UnionRenderers\"},{\"attributes\":{\"source\":{\"id\":\"4818\"}},\"id\":\"4825\",\"type\":\"CDSView\"},{\"attributes\":{\"fill_alpha\":{\"value\":0.2},\"fill_color\":{\"value\":\"#1f77b3\"},\"line_alpha\":{\"value\":0.2},\"top\":{\"field\":\"average_house_value\"},\"width\":{\"value\":0.8},\"x\":{\"field\":\"neighbourhood\"}},\"id\":\"4823\",\"type\":\"VBar\"},{\"attributes\":{\"margin\":[5,5,5,5],\"name\":\"HSpacer13616\",\"sizing_mode\":\"stretch_width\"},\"id\":\"4847\",\"type\":\"Spacer\"},{\"attributes\":{\"format\":\"%.0f\"},\"id\":\"4826\",\"type\":\"PrintfTickFormatter\"},{\"attributes\":{\"below\":[{\"id\":\"4798\"}],\"center\":[{\"id\":\"4800\"},{\"id\":\"4804\"}],\"left\":[{\"id\":\"4801\"}],\"margin\":[5,5,5,5],\"min_border_bottom\":10,\"min_border_left\":10,\"min_border_right\":10,\"min_border_top\":10,\"plot_height\":1000,\"plot_width\":1000,\"renderers\":[{\"id\":\"4824\"}],\"sizing_mode\":\"fixed\",\"title\":{\"id\":\"4790\"},\"toolbar\":{\"id\":\"4811\"},\"x_range\":{\"id\":\"4786\"},\"x_scale\":{\"id\":\"4794\"},\"y_range\":{\"id\":\"4787\"},\"y_scale\":{\"id\":\"4796\"}},\"id\":\"4789\",\"subtype\":\"Figure\",\"type\":\"Plot\"},{\"attributes\":{},\"id\":\"4805\",\"type\":\"SaveTool\"},{\"attributes\":{\"fill_color\":{\"value\":\"#1f77b3\"},\"top\":{\"field\":\"average_house_value\"},\"width\":{\"value\":0.8},\"x\":{\"field\":\"neighbourhood\"}},\"id\":\"4821\",\"type\":\"VBar\"},{\"attributes\":{},\"id\":\"4827\",\"type\":\"CategoricalTickFormatter\"},{\"attributes\":{},\"id\":\"4806\",\"type\":\"PanTool\"},{\"attributes\":{\"factors\":[\"Bridle Path-Sunnybrook-York Mills\",\"Forest Hill South\",\"Lawrence Park South\",\"Rosedale-Moore Park\",\"St.Andrew-Windfields\",\"Casa Loma\",\"Bedford Park-Nortown\",\"Forest Hill North\",\"Kingsway South\",\"Yonge-St.Clair\"],\"tags\":[[[\"neighbourhood\",\"neighbourhood\",null]]]},\"id\":\"4786\",\"type\":\"FactorRange\"},{\"attributes\":{},\"id\":\"4807\",\"type\":\"WheelZoomTool\"},{\"attributes\":{\"data\":{\"average_house_value\":{\"__ndarray__\":\"AAAAwNVKN0EAAACA2D8yQQAAAMCLsTBBAAAAAAiwMEEAAAAAhn0uQQAAAICQ8C1BAAAAgN5kLEEAAAAAwf0pQQAAAIDEuylBAAAAgEjRKEE=\",\"dtype\":\"float64\",\"order\":\"little\",\"shape\":[10]},\"neighbourhood\":[\"Bridle Path-Sunnybrook-York Mills\",\"Forest Hill South\",\"Lawrence Park South\",\"Rosedale-Moore Park\",\"St.Andrew-Windfields\",\"Casa Loma\",\"Bedford Park-Nortown\",\"Forest Hill North\",\"Kingsway South\",\"Yonge-St.Clair\"]},\"selected\":{\"id\":\"4819\"},\"selection_policy\":{\"id\":\"4839\"}},\"id\":\"4818\",\"type\":\"ColumnDataSource\"},{\"attributes\":{\"margin\":[5,5,5,5],\"name\":\"HSpacer13615\",\"sizing_mode\":\"stretch_width\"},\"id\":\"4785\",\"type\":\"Spacer\"},{\"attributes\":{\"overlay\":{\"id\":\"4810\"}},\"id\":\"4808\",\"type\":\"BoxZoomTool\"},{\"attributes\":{},\"id\":\"4799\",\"type\":\"CategoricalTicker\"},{\"attributes\":{},\"id\":\"4809\",\"type\":\"ResetTool\"},{\"attributes\":{\"axis\":{\"id\":\"4798\"},\"grid_line_color\":null,\"ticker\":null},\"id\":\"4800\",\"type\":\"Grid\"},{\"attributes\":{},\"id\":\"4796\",\"type\":\"LinearScale\"},{\"attributes\":{\"axis_label\":\"neighbourhood\",\"bounds\":\"auto\",\"formatter\":{\"id\":\"4827\"},\"major_label_orientation\":1.5707963267948966,\"ticker\":{\"id\":\"4799\"}},\"id\":\"4798\",\"type\":\"CategoricalAxis\"},{\"attributes\":{},\"id\":\"4819\",\"type\":\"Selection\"},{\"attributes\":{},\"id\":\"4794\",\"type\":\"CategoricalScale\"},{\"attributes\":{\"axis_label\":\"Average House Value\",\"bounds\":\"auto\",\"formatter\":{\"id\":\"4826\"},\"major_label_orientation\":\"horizontal\",\"ticker\":{\"id\":\"4802\"}},\"id\":\"4801\",\"type\":\"LinearAxis\"},{\"attributes\":{\"end\":1597812.3,\"reset_end\":1597812.3,\"reset_start\":0.0,\"tags\":[[[\"average_house_value\",\"average_house_value\",null]]]},\"id\":\"4787\",\"type\":\"Range1d\"},{\"attributes\":{},\"id\":\"4802\",\"type\":\"BasicTicker\"},{\"attributes\":{\"axis\":{\"id\":\"4801\"},\"dimension\":1,\"grid_line_color\":null,\"ticker\":null},\"id\":\"4804\",\"type\":\"Grid\"},{\"attributes\":{\"active_drag\":\"auto\",\"active_inspect\":\"auto\",\"active_multi\":null,\"active_scroll\":\"auto\",\"active_tap\":\"auto\",\"tools\":[{\"id\":\"4788\"},{\"id\":\"4805\"},{\"id\":\"4806\"},{\"id\":\"4807\"},{\"id\":\"4808\"},{\"id\":\"4809\"}]},\"id\":\"4811\",\"type\":\"Toolbar\"},{\"attributes\":{\"fill_alpha\":{\"value\":0.1},\"fill_color\":{\"value\":\"#1f77b3\"},\"line_alpha\":{\"value\":0.1},\"top\":{\"field\":\"average_house_value\"},\"width\":{\"value\":0.8},\"x\":{\"field\":\"neighbourhood\"}},\"id\":\"4822\",\"type\":\"VBar\"},{\"attributes\":{\"children\":[{\"id\":\"4785\"},{\"id\":\"4789\"},{\"id\":\"4847\"}],\"margin\":[0,0,0,0],\"name\":\"Row13611\",\"tags\":[\"embedded\"]},\"id\":\"4784\",\"type\":\"Row\"},{\"attributes\":{\"callback\":null,\"renderers\":[{\"id\":\"4824\"}],\"tags\":[\"hv_created\"],\"tooltips\":[[\"neighbourhood\",\"@{neighbourhood}\"],[\"average_house_value\",\"@{average_house_value}\"]]},\"id\":\"4788\",\"type\":\"HoverTool\"},{\"attributes\":{\"bottom_units\":\"screen\",\"fill_alpha\":0.5,\"fill_color\":\"lightgrey\",\"left_units\":\"screen\",\"level\":\"overlay\",\"line_alpha\":1.0,\"line_color\":\"black\",\"line_dash\":[4,4],\"line_width\":2,\"right_units\":\"screen\",\"top_units\":\"screen\"},\"id\":\"4810\",\"type\":\"BoxAnnotation\"},{\"attributes\":{\"text\":\"Average House Value in Toronto 2001-2016\",\"text_color\":{\"value\":\"black\"},\"text_font_size\":{\"value\":\"12pt\"}},\"id\":\"4790\",\"type\":\"Title\"},{\"attributes\":{\"data_source\":{\"id\":\"4818\"},\"glyph\":{\"id\":\"4821\"},\"hover_glyph\":null,\"muted_glyph\":{\"id\":\"4823\"},\"nonselection_glyph\":{\"id\":\"4822\"},\"selection_glyph\":null,\"view\":{\"id\":\"4825\"}},\"id\":\"4824\",\"type\":\"GlyphRenderer\"}],\"root_ids\":[\"4784\"]},\"title\":\"Bokeh Application\",\"version\":\"2.2.3\"}};\n",
       "    var render_items = [{\"docid\":\"e8318940-e196-4f35-a60a-098e669fa8c4\",\"root_ids\":[\"4784\"],\"roots\":{\"4784\":\"a07a1674-9fae-408d-9ba7-11013d4c6405\"}}];\n",
       "    root.Bokeh.embed.embed_items_notebook(docs_json, render_items);\n",
       "  }\n",
       "  if (root.Bokeh !== undefined && root.Bokeh.Panel !== undefined && root['Plotly'] !== undefined ) {\n",
       "    embed_document(root);\n",
       "  } else {\n",
       "    var attempts = 0;\n",
       "    var timer = setInterval(function(root) {\n",
       "      if (root.Bokeh !== undefined && root.Bokeh.Panel !== undefined && root['Plotly'] !== undefined) {\n",
       "        clearInterval(timer);\n",
       "        embed_document(root);\n",
       "      } else if (document.readyState == \"complete\") {\n",
       "        attempts++;\n",
       "        if (attempts > 100) {\n",
       "          clearInterval(timer);\n",
       "          console.log(\"Bokeh: ERROR: Unable to run BokehJS code because BokehJS library is missing\");\n",
       "        }\n",
       "      }\n",
       "    }, 10, root)\n",
       "  }\n",
       "})(window);</script>"
      ],
      "text/plain": [
       ":Bars   [neighbourhood]   (average_house_value)"
      ]
     },
     "execution_count": 113,
     "metadata": {
      "application/vnd.holoviews_exec.v0+json": {
       "id": "4784"
      }
     },
     "output_type": "execute_result"
    }
   ],
   "source": [
    "# Plotting the data from the top 10 expensive neighbourhoods\n",
    "top_10.hvplot(x=\"neighbourhood\", y=(\"average_house_value\"), kind=\"bar\", yformatter=\"%.0f\", width=1000, height =1000,rot=90,ylabel=\"Average House Value\", title=\"Top 10 Average House Value in Toronto 2001-2016\")"
   ]
  },
  {
   "cell_type": "markdown",
   "metadata": {},
   "source": [
    "- - - "
   ]
  },
  {
   "cell_type": "markdown",
   "metadata": {},
   "source": [
    "## Neighbourhood Map\n",
    "\n",
    "In this section, you will read in neighbourhoods location data and build an interactive map with the average house value per neighbourhood. Use a `scatter_mapbox` from Plotly express to create the visualization. Remember, you will need your Mapbox API key for this."
   ]
  },
  {
   "cell_type": "markdown",
   "metadata": {},
   "source": [
    "### Load Location Data"
   ]
  },
  {
   "cell_type": "code",
   "execution_count": 114,
   "metadata": {},
   "outputs": [
    {
     "data": {
      "text/html": [
       "<div>\n",
       "<style scoped>\n",
       "    .dataframe tbody tr th:only-of-type {\n",
       "        vertical-align: middle;\n",
       "    }\n",
       "\n",
       "    .dataframe tbody tr th {\n",
       "        vertical-align: top;\n",
       "    }\n",
       "\n",
       "    .dataframe thead th {\n",
       "        text-align: right;\n",
       "    }\n",
       "</style>\n",
       "<table border=\"1\" class=\"dataframe\">\n",
       "  <thead>\n",
       "    <tr style=\"text-align: right;\">\n",
       "      <th></th>\n",
       "      <th>lat</th>\n",
       "      <th>lon</th>\n",
       "    </tr>\n",
       "    <tr>\n",
       "      <th>neighbourhood</th>\n",
       "      <th></th>\n",
       "      <th></th>\n",
       "    </tr>\n",
       "  </thead>\n",
       "  <tbody>\n",
       "    <tr>\n",
       "      <th>Agincourt North</th>\n",
       "      <td>43.805441</td>\n",
       "      <td>-79.266712</td>\n",
       "    </tr>\n",
       "    <tr>\n",
       "      <th>Agincourt South-Malvern West</th>\n",
       "      <td>43.788658</td>\n",
       "      <td>-79.265612</td>\n",
       "    </tr>\n",
       "    <tr>\n",
       "      <th>Alderwood</th>\n",
       "      <td>43.604937</td>\n",
       "      <td>-79.541611</td>\n",
       "    </tr>\n",
       "    <tr>\n",
       "      <th>Annex</th>\n",
       "      <td>43.671585</td>\n",
       "      <td>-79.404001</td>\n",
       "    </tr>\n",
       "    <tr>\n",
       "      <th>Banbury-Don Mills</th>\n",
       "      <td>43.737657</td>\n",
       "      <td>-79.349718</td>\n",
       "    </tr>\n",
       "  </tbody>\n",
       "</table>\n",
       "</div>"
      ],
      "text/plain": [
       "                                    lat        lon\n",
       "neighbourhood                                     \n",
       "Agincourt North               43.805441 -79.266712\n",
       "Agincourt South-Malvern West  43.788658 -79.265612\n",
       "Alderwood                     43.604937 -79.541611\n",
       "Annex                         43.671585 -79.404001\n",
       "Banbury-Don Mills             43.737657 -79.349718"
      ]
     },
     "execution_count": 114,
     "metadata": {},
     "output_type": "execute_result"
    }
   ],
   "source": [
    "# Load neighbourhoods coordinates data\n",
    "file_path = Path(\"Data/toronto_neighbourhoods_coordinates.csv\")\n",
    "df_neighbourhood_locations = pd.read_csv(file_path)\n",
    "df_neighbourhood_locations.set_index(\"neighbourhood\",inplace=True)\n",
    "df_neighbourhood_locations.head()\n"
   ]
  },
  {
   "cell_type": "markdown",
   "metadata": {},
   "source": [
    "### Data Preparation\n",
    "\n",
    "You will need to join the location data with the mean values per neighbourhood.\n",
    "\n",
    "1. Calculate the mean values for each neighbourhood.\n",
    "\n",
    "2. Join the average values with the neighbourhood locations."
   ]
  },
  {
   "cell_type": "code",
   "execution_count": 115,
   "metadata": {},
   "outputs": [
    {
     "data": {
      "text/html": [
       "<div>\n",
       "<style scoped>\n",
       "    .dataframe tbody tr th:only-of-type {\n",
       "        vertical-align: middle;\n",
       "    }\n",
       "\n",
       "    .dataframe tbody tr th {\n",
       "        vertical-align: top;\n",
       "    }\n",
       "\n",
       "    .dataframe thead th {\n",
       "        text-align: right;\n",
       "    }\n",
       "</style>\n",
       "<table border=\"1\" class=\"dataframe\">\n",
       "  <thead>\n",
       "    <tr style=\"text-align: right;\">\n",
       "      <th></th>\n",
       "      <th>single_detached_house</th>\n",
       "      <th>apartment_five_storeys_plus</th>\n",
       "      <th>movable_dwelling</th>\n",
       "      <th>semi_detached_house</th>\n",
       "      <th>row_house</th>\n",
       "      <th>duplex</th>\n",
       "      <th>apartment_five_storeys_less</th>\n",
       "      <th>other_house</th>\n",
       "      <th>average_house_value</th>\n",
       "      <th>shelter_costs_owned</th>\n",
       "      <th>shelter_costs_rented</th>\n",
       "    </tr>\n",
       "    <tr>\n",
       "      <th>neighbourhood</th>\n",
       "      <th></th>\n",
       "      <th></th>\n",
       "      <th></th>\n",
       "      <th></th>\n",
       "      <th></th>\n",
       "      <th></th>\n",
       "      <th></th>\n",
       "      <th></th>\n",
       "      <th></th>\n",
       "      <th></th>\n",
       "      <th></th>\n",
       "    </tr>\n",
       "  </thead>\n",
       "  <tbody>\n",
       "    <tr>\n",
       "      <th>Agincourt North</th>\n",
       "      <td>3435.00</td>\n",
       "      <td>1947.50</td>\n",
       "      <td>2.50</td>\n",
       "      <td>863.75</td>\n",
       "      <td>1406.25</td>\n",
       "      <td>512.50</td>\n",
       "      <td>547.50</td>\n",
       "      <td>10.00</td>\n",
       "      <td>329811.50</td>\n",
       "      <td>1109.00</td>\n",
       "      <td>983.50</td>\n",
       "    </tr>\n",
       "    <tr>\n",
       "      <th>Agincourt South-Malvern West</th>\n",
       "      <td>2897.50</td>\n",
       "      <td>2180.00</td>\n",
       "      <td>1.25</td>\n",
       "      <td>375.00</td>\n",
       "      <td>456.25</td>\n",
       "      <td>523.75</td>\n",
       "      <td>628.75</td>\n",
       "      <td>32.50</td>\n",
       "      <td>334189.00</td>\n",
       "      <td>1131.25</td>\n",
       "      <td>985.00</td>\n",
       "    </tr>\n",
       "    <tr>\n",
       "      <th>Alderwood</th>\n",
       "      <td>2903.75</td>\n",
       "      <td>302.50</td>\n",
       "      <td>1.25</td>\n",
       "      <td>503.75</td>\n",
       "      <td>76.25</td>\n",
       "      <td>302.50</td>\n",
       "      <td>502.50</td>\n",
       "      <td>1.25</td>\n",
       "      <td>427922.50</td>\n",
       "      <td>1166.75</td>\n",
       "      <td>1003.25</td>\n",
       "    </tr>\n",
       "    <tr>\n",
       "      <th>Annex</th>\n",
       "      <td>751.25</td>\n",
       "      <td>7235.00</td>\n",
       "      <td>1.25</td>\n",
       "      <td>1375.00</td>\n",
       "      <td>613.75</td>\n",
       "      <td>355.00</td>\n",
       "      <td>4605.00</td>\n",
       "      <td>83.75</td>\n",
       "      <td>746977.00</td>\n",
       "      <td>1692.75</td>\n",
       "      <td>1315.25</td>\n",
       "    </tr>\n",
       "    <tr>\n",
       "      <th>Banbury-Don Mills</th>\n",
       "      <td>3572.50</td>\n",
       "      <td>5388.75</td>\n",
       "      <td>1.25</td>\n",
       "      <td>273.75</td>\n",
       "      <td>626.25</td>\n",
       "      <td>32.50</td>\n",
       "      <td>1340.00</td>\n",
       "      <td>0.00</td>\n",
       "      <td>612039.00</td>\n",
       "      <td>1463.50</td>\n",
       "      <td>1242.75</td>\n",
       "    </tr>\n",
       "    <tr>\n",
       "      <th>Bathurst Manor</th>\n",
       "      <td>2131.25</td>\n",
       "      <td>1815.00</td>\n",
       "      <td>0.00</td>\n",
       "      <td>151.25</td>\n",
       "      <td>70.00</td>\n",
       "      <td>677.50</td>\n",
       "      <td>973.75</td>\n",
       "      <td>8.75</td>\n",
       "      <td>501576.75</td>\n",
       "      <td>1307.00</td>\n",
       "      <td>1059.50</td>\n",
       "    </tr>\n",
       "    <tr>\n",
       "      <th>Bay Street Corridor</th>\n",
       "      <td>3.75</td>\n",
       "      <td>10470.00</td>\n",
       "      <td>0.00</td>\n",
       "      <td>1.25</td>\n",
       "      <td>18.75</td>\n",
       "      <td>1.25</td>\n",
       "      <td>271.25</td>\n",
       "      <td>2.50</td>\n",
       "      <td>423653.50</td>\n",
       "      <td>1494.50</td>\n",
       "      <td>1436.75</td>\n",
       "    </tr>\n",
       "    <tr>\n",
       "      <th>Bayview Village</th>\n",
       "      <td>2101.25</td>\n",
       "      <td>3222.50</td>\n",
       "      <td>2.50</td>\n",
       "      <td>141.25</td>\n",
       "      <td>830.00</td>\n",
       "      <td>70.00</td>\n",
       "      <td>500.00</td>\n",
       "      <td>2.50</td>\n",
       "      <td>539258.75</td>\n",
       "      <td>1512.75</td>\n",
       "      <td>1422.00</td>\n",
       "    </tr>\n",
       "    <tr>\n",
       "      <th>Bayview Woods-Steeles</th>\n",
       "      <td>1585.00</td>\n",
       "      <td>1700.00</td>\n",
       "      <td>0.00</td>\n",
       "      <td>580.00</td>\n",
       "      <td>175.00</td>\n",
       "      <td>86.25</td>\n",
       "      <td>522.50</td>\n",
       "      <td>1.25</td>\n",
       "      <td>565413.50</td>\n",
       "      <td>1364.25</td>\n",
       "      <td>1399.50</td>\n",
       "    </tr>\n",
       "    <tr>\n",
       "      <th>Bedford Park-Nortown</th>\n",
       "      <td>4865.00</td>\n",
       "      <td>1981.25</td>\n",
       "      <td>0.00</td>\n",
       "      <td>43.75</td>\n",
       "      <td>57.50</td>\n",
       "      <td>287.50</td>\n",
       "      <td>1275.00</td>\n",
       "      <td>88.75</td>\n",
       "      <td>930415.25</td>\n",
       "      <td>1786.75</td>\n",
       "      <td>1255.00</td>\n",
       "    </tr>\n",
       "    <tr>\n",
       "      <th>Beechborough-Greenbrook</th>\n",
       "      <td>686.25</td>\n",
       "      <td>671.25</td>\n",
       "      <td>0.00</td>\n",
       "      <td>70.00</td>\n",
       "      <td>16.25</td>\n",
       "      <td>97.50</td>\n",
       "      <td>1060.00</td>\n",
       "      <td>3.75</td>\n",
       "      <td>370927.75</td>\n",
       "      <td>1029.25</td>\n",
       "      <td>797.50</td>\n",
       "    </tr>\n",
       "    <tr>\n",
       "      <th>Bendale</th>\n",
       "      <td>3993.75</td>\n",
       "      <td>3582.50</td>\n",
       "      <td>2.50</td>\n",
       "      <td>323.75</td>\n",
       "      <td>258.75</td>\n",
       "      <td>921.25</td>\n",
       "      <td>330.00</td>\n",
       "      <td>10.00</td>\n",
       "      <td>301123.25</td>\n",
       "      <td>1151.25</td>\n",
       "      <td>994.50</td>\n",
       "    </tr>\n",
       "    <tr>\n",
       "      <th>Birchcliffe-Cliffside</th>\n",
       "      <td>5045.00</td>\n",
       "      <td>920.00</td>\n",
       "      <td>0.00</td>\n",
       "      <td>418.75</td>\n",
       "      <td>47.50</td>\n",
       "      <td>781.25</td>\n",
       "      <td>1957.50</td>\n",
       "      <td>26.25</td>\n",
       "      <td>437315.00</td>\n",
       "      <td>1228.75</td>\n",
       "      <td>918.75</td>\n",
       "    </tr>\n",
       "    <tr>\n",
       "      <th>Black Creek</th>\n",
       "      <td>732.50</td>\n",
       "      <td>4356.25</td>\n",
       "      <td>0.00</td>\n",
       "      <td>685.00</td>\n",
       "      <td>1116.25</td>\n",
       "      <td>113.75</td>\n",
       "      <td>238.75</td>\n",
       "      <td>2.50</td>\n",
       "      <td>260841.75</td>\n",
       "      <td>1011.75</td>\n",
       "      <td>864.50</td>\n",
       "    </tr>\n",
       "    <tr>\n",
       "      <th>Blake-Jones</th>\n",
       "      <td>526.25</td>\n",
       "      <td>491.25</td>\n",
       "      <td>0.00</td>\n",
       "      <td>810.00</td>\n",
       "      <td>380.00</td>\n",
       "      <td>151.25</td>\n",
       "      <td>748.75</td>\n",
       "      <td>25.00</td>\n",
       "      <td>511437.00</td>\n",
       "      <td>1359.25</td>\n",
       "      <td>897.75</td>\n",
       "    </tr>\n",
       "    <tr>\n",
       "      <th>Briar Hill-Belgravia</th>\n",
       "      <td>1713.75</td>\n",
       "      <td>2401.25</td>\n",
       "      <td>0.00</td>\n",
       "      <td>150.00</td>\n",
       "      <td>37.50</td>\n",
       "      <td>351.25</td>\n",
       "      <td>1035.00</td>\n",
       "      <td>5.00</td>\n",
       "      <td>365524.50</td>\n",
       "      <td>1304.25</td>\n",
       "      <td>1030.25</td>\n",
       "    </tr>\n",
       "    <tr>\n",
       "      <th>Bridle Path-Sunnybrook-York Mills</th>\n",
       "      <td>2260.00</td>\n",
       "      <td>331.25</td>\n",
       "      <td>0.00</td>\n",
       "      <td>36.25</td>\n",
       "      <td>90.00</td>\n",
       "      <td>25.00</td>\n",
       "      <td>40.00</td>\n",
       "      <td>0.00</td>\n",
       "      <td>1526485.75</td>\n",
       "      <td>2360.75</td>\n",
       "      <td>2321.75</td>\n",
       "    </tr>\n",
       "    <tr>\n",
       "      <th>Broadview North</th>\n",
       "      <td>880.00</td>\n",
       "      <td>3213.75</td>\n",
       "      <td>0.00</td>\n",
       "      <td>448.75</td>\n",
       "      <td>81.25</td>\n",
       "      <td>112.50</td>\n",
       "      <td>793.75</td>\n",
       "      <td>1.25</td>\n",
       "      <td>443373.25</td>\n",
       "      <td>1320.25</td>\n",
       "      <td>1007.75</td>\n",
       "    </tr>\n",
       "    <tr>\n",
       "      <th>Brookhaven-Amesbury</th>\n",
       "      <td>1775.00</td>\n",
       "      <td>3568.75</td>\n",
       "      <td>0.00</td>\n",
       "      <td>255.00</td>\n",
       "      <td>8.75</td>\n",
       "      <td>108.75</td>\n",
       "      <td>501.25</td>\n",
       "      <td>6.25</td>\n",
       "      <td>350943.00</td>\n",
       "      <td>1151.25</td>\n",
       "      <td>932.50</td>\n",
       "    </tr>\n",
       "    <tr>\n",
       "      <th>Cabbagetown-South St.James Town</th>\n",
       "      <td>268.75</td>\n",
       "      <td>3322.50</td>\n",
       "      <td>0.00</td>\n",
       "      <td>451.25</td>\n",
       "      <td>615.00</td>\n",
       "      <td>127.50</td>\n",
       "      <td>1422.50</td>\n",
       "      <td>12.50</td>\n",
       "      <td>494110.50</td>\n",
       "      <td>1479.25</td>\n",
       "      <td>1072.25</td>\n",
       "    </tr>\n",
       "    <tr>\n",
       "      <th>Caledonia-Fairbank</th>\n",
       "      <td>1757.50</td>\n",
       "      <td>166.25</td>\n",
       "      <td>0.00</td>\n",
       "      <td>421.25</td>\n",
       "      <td>18.75</td>\n",
       "      <td>371.25</td>\n",
       "      <td>853.75</td>\n",
       "      <td>5.00</td>\n",
       "      <td>361714.25</td>\n",
       "      <td>1239.25</td>\n",
       "      <td>989.00</td>\n",
       "    </tr>\n",
       "    <tr>\n",
       "      <th>Casa Loma</th>\n",
       "      <td>916.25</td>\n",
       "      <td>2310.00</td>\n",
       "      <td>0.00</td>\n",
       "      <td>288.75</td>\n",
       "      <td>201.25</td>\n",
       "      <td>162.50</td>\n",
       "      <td>1192.50</td>\n",
       "      <td>2.50</td>\n",
       "      <td>981064.25</td>\n",
       "      <td>1873.75</td>\n",
       "      <td>1547.75</td>\n",
       "    </tr>\n",
       "    <tr>\n",
       "      <th>Centennial Scarborough</th>\n",
       "      <td>3341.25</td>\n",
       "      <td>0.00</td>\n",
       "      <td>2.50</td>\n",
       "      <td>166.25</td>\n",
       "      <td>420.00</td>\n",
       "      <td>125.00</td>\n",
       "      <td>40.00</td>\n",
       "      <td>5.00</td>\n",
       "      <td>409862.75</td>\n",
       "      <td>1331.50</td>\n",
       "      <td>1148.75</td>\n",
       "    </tr>\n",
       "    <tr>\n",
       "      <th>Church-Yonge Corridor</th>\n",
       "      <td>28.75</td>\n",
       "      <td>15042.50</td>\n",
       "      <td>1.25</td>\n",
       "      <td>32.50</td>\n",
       "      <td>231.25</td>\n",
       "      <td>38.75</td>\n",
       "      <td>1337.50</td>\n",
       "      <td>27.50</td>\n",
       "      <td>406117.50</td>\n",
       "      <td>1539.00</td>\n",
       "      <td>1202.75</td>\n",
       "    </tr>\n",
       "    <tr>\n",
       "      <th>Clairlea-Birchmount</th>\n",
       "      <td>3223.75</td>\n",
       "      <td>1746.25</td>\n",
       "      <td>2.50</td>\n",
       "      <td>890.00</td>\n",
       "      <td>525.00</td>\n",
       "      <td>563.75</td>\n",
       "      <td>1020.00</td>\n",
       "      <td>28.75</td>\n",
       "      <td>354555.25</td>\n",
       "      <td>1241.00</td>\n",
       "      <td>952.00</td>\n",
       "    </tr>\n",
       "    <tr>\n",
       "      <th>Clanton Park</th>\n",
       "      <td>2480.00</td>\n",
       "      <td>1352.50</td>\n",
       "      <td>6.25</td>\n",
       "      <td>11.25</td>\n",
       "      <td>12.50</td>\n",
       "      <td>517.50</td>\n",
       "      <td>1256.25</td>\n",
       "      <td>15.00</td>\n",
       "      <td>551561.25</td>\n",
       "      <td>1394.25</td>\n",
       "      <td>1024.00</td>\n",
       "    </tr>\n",
       "    <tr>\n",
       "      <th>Cliffcrest</th>\n",
       "      <td>3407.50</td>\n",
       "      <td>1317.50</td>\n",
       "      <td>1.25</td>\n",
       "      <td>63.75</td>\n",
       "      <td>342.50</td>\n",
       "      <td>372.50</td>\n",
       "      <td>147.50</td>\n",
       "      <td>43.75</td>\n",
       "      <td>417422.00</td>\n",
       "      <td>1227.50</td>\n",
       "      <td>911.25</td>\n",
       "    </tr>\n",
       "    <tr>\n",
       "      <th>Corso Italia-Davenport</th>\n",
       "      <td>1451.25</td>\n",
       "      <td>3.75</td>\n",
       "      <td>0.00</td>\n",
       "      <td>1375.00</td>\n",
       "      <td>103.75</td>\n",
       "      <td>482.50</td>\n",
       "      <td>1811.25</td>\n",
       "      <td>35.00</td>\n",
       "      <td>419930.50</td>\n",
       "      <td>1217.50</td>\n",
       "      <td>986.75</td>\n",
       "    </tr>\n",
       "    <tr>\n",
       "      <th>Danforth</th>\n",
       "      <td>708.75</td>\n",
       "      <td>337.50</td>\n",
       "      <td>0.00</td>\n",
       "      <td>1350.00</td>\n",
       "      <td>33.75</td>\n",
       "      <td>197.50</td>\n",
       "      <td>1275.00</td>\n",
       "      <td>30.00</td>\n",
       "      <td>466943.00</td>\n",
       "      <td>1343.25</td>\n",
       "      <td>930.75</td>\n",
       "    </tr>\n",
       "    <tr>\n",
       "      <th>Danforth-East York</th>\n",
       "      <td>3001.25</td>\n",
       "      <td>778.75</td>\n",
       "      <td>0.00</td>\n",
       "      <td>1721.25</td>\n",
       "      <td>32.50</td>\n",
       "      <td>512.50</td>\n",
       "      <td>856.25</td>\n",
       "      <td>30.00</td>\n",
       "      <td>421679.25</td>\n",
       "      <td>1265.00</td>\n",
       "      <td>982.00</td>\n",
       "    </tr>\n",
       "    <tr>\n",
       "      <th>...</th>\n",
       "      <td>...</td>\n",
       "      <td>...</td>\n",
       "      <td>...</td>\n",
       "      <td>...</td>\n",
       "      <td>...</td>\n",
       "      <td>...</td>\n",
       "      <td>...</td>\n",
       "      <td>...</td>\n",
       "      <td>...</td>\n",
       "      <td>...</td>\n",
       "      <td>...</td>\n",
       "    </tr>\n",
       "    <tr>\n",
       "      <th>South Riverdale</th>\n",
       "      <td>1005.00</td>\n",
       "      <td>1012.50</td>\n",
       "      <td>3.75</td>\n",
       "      <td>2686.25</td>\n",
       "      <td>1566.25</td>\n",
       "      <td>467.50</td>\n",
       "      <td>3823.75</td>\n",
       "      <td>85.00</td>\n",
       "      <td>455020.50</td>\n",
       "      <td>1416.75</td>\n",
       "      <td>971.00</td>\n",
       "    </tr>\n",
       "    <tr>\n",
       "      <th>St.Andrew-Windfields</th>\n",
       "      <td>3225.00</td>\n",
       "      <td>1670.00</td>\n",
       "      <td>0.00</td>\n",
       "      <td>185.00</td>\n",
       "      <td>552.50</td>\n",
       "      <td>97.50</td>\n",
       "      <td>586.25</td>\n",
       "      <td>5.00</td>\n",
       "      <td>999107.00</td>\n",
       "      <td>1880.25</td>\n",
       "      <td>1384.50</td>\n",
       "    </tr>\n",
       "    <tr>\n",
       "      <th>Steeles</th>\n",
       "      <td>3711.25</td>\n",
       "      <td>2592.50</td>\n",
       "      <td>1.25</td>\n",
       "      <td>190.00</td>\n",
       "      <td>558.75</td>\n",
       "      <td>275.00</td>\n",
       "      <td>257.50</td>\n",
       "      <td>0.00</td>\n",
       "      <td>376014.50</td>\n",
       "      <td>1153.25</td>\n",
       "      <td>1125.75</td>\n",
       "    </tr>\n",
       "    <tr>\n",
       "      <th>Stonegate-Queensway</th>\n",
       "      <td>5872.50</td>\n",
       "      <td>867.50</td>\n",
       "      <td>0.00</td>\n",
       "      <td>93.75</td>\n",
       "      <td>357.50</td>\n",
       "      <td>222.50</td>\n",
       "      <td>2788.75</td>\n",
       "      <td>6.25</td>\n",
       "      <td>550432.25</td>\n",
       "      <td>1288.00</td>\n",
       "      <td>1041.25</td>\n",
       "    </tr>\n",
       "    <tr>\n",
       "      <th>Tam O'Shanter-Sullivan</th>\n",
       "      <td>3168.75</td>\n",
       "      <td>4542.50</td>\n",
       "      <td>0.00</td>\n",
       "      <td>170.00</td>\n",
       "      <td>891.25</td>\n",
       "      <td>477.50</td>\n",
       "      <td>408.75</td>\n",
       "      <td>10.00</td>\n",
       "      <td>353926.50</td>\n",
       "      <td>1105.00</td>\n",
       "      <td>973.75</td>\n",
       "    </tr>\n",
       "    <tr>\n",
       "      <th>Taylor-Massey</th>\n",
       "      <td>622.50</td>\n",
       "      <td>4795.00</td>\n",
       "      <td>0.00</td>\n",
       "      <td>203.75</td>\n",
       "      <td>216.25</td>\n",
       "      <td>150.00</td>\n",
       "      <td>218.75</td>\n",
       "      <td>15.00</td>\n",
       "      <td>239414.00</td>\n",
       "      <td>1129.25</td>\n",
       "      <td>919.25</td>\n",
       "    </tr>\n",
       "    <tr>\n",
       "      <th>The Beaches</th>\n",
       "      <td>2642.50</td>\n",
       "      <td>488.75</td>\n",
       "      <td>1.25</td>\n",
       "      <td>1543.75</td>\n",
       "      <td>285.00</td>\n",
       "      <td>461.25</td>\n",
       "      <td>3770.00</td>\n",
       "      <td>23.75</td>\n",
       "      <td>666306.00</td>\n",
       "      <td>1707.00</td>\n",
       "      <td>1257.75</td>\n",
       "    </tr>\n",
       "    <tr>\n",
       "      <th>Thistletown-Beaumond Heights</th>\n",
       "      <td>1682.50</td>\n",
       "      <td>666.25</td>\n",
       "      <td>0.00</td>\n",
       "      <td>322.50</td>\n",
       "      <td>52.50</td>\n",
       "      <td>253.75</td>\n",
       "      <td>237.50</td>\n",
       "      <td>3.75</td>\n",
       "      <td>375864.00</td>\n",
       "      <td>1193.75</td>\n",
       "      <td>938.50</td>\n",
       "    </tr>\n",
       "    <tr>\n",
       "      <th>Thorncliffe Park</th>\n",
       "      <td>3.75</td>\n",
       "      <td>6318.75</td>\n",
       "      <td>0.00</td>\n",
       "      <td>0.00</td>\n",
       "      <td>141.25</td>\n",
       "      <td>0.00</td>\n",
       "      <td>187.50</td>\n",
       "      <td>5.00</td>\n",
       "      <td>255264.75</td>\n",
       "      <td>1304.25</td>\n",
       "      <td>1088.50</td>\n",
       "    </tr>\n",
       "    <tr>\n",
       "      <th>Trinity-Bellwoods</th>\n",
       "      <td>442.50</td>\n",
       "      <td>178.75</td>\n",
       "      <td>0.00</td>\n",
       "      <td>1023.75</td>\n",
       "      <td>1027.50</td>\n",
       "      <td>460.00</td>\n",
       "      <td>3310.00</td>\n",
       "      <td>168.75</td>\n",
       "      <td>534465.75</td>\n",
       "      <td>1373.75</td>\n",
       "      <td>1160.00</td>\n",
       "    </tr>\n",
       "    <tr>\n",
       "      <th>University</th>\n",
       "      <td>155.00</td>\n",
       "      <td>830.00</td>\n",
       "      <td>0.00</td>\n",
       "      <td>301.25</td>\n",
       "      <td>321.25</td>\n",
       "      <td>146.25</td>\n",
       "      <td>1252.50</td>\n",
       "      <td>46.25</td>\n",
       "      <td>618316.75</td>\n",
       "      <td>1447.25</td>\n",
       "      <td>1263.00</td>\n",
       "    </tr>\n",
       "    <tr>\n",
       "      <th>Victoria Village</th>\n",
       "      <td>1256.25</td>\n",
       "      <td>3150.00</td>\n",
       "      <td>0.00</td>\n",
       "      <td>315.00</td>\n",
       "      <td>308.75</td>\n",
       "      <td>130.00</td>\n",
       "      <td>2002.50</td>\n",
       "      <td>11.25</td>\n",
       "      <td>352133.00</td>\n",
       "      <td>1162.25</td>\n",
       "      <td>916.25</td>\n",
       "    </tr>\n",
       "    <tr>\n",
       "      <th>Waterfront Communities-The Island</th>\n",
       "      <td>267.50</td>\n",
       "      <td>21913.75</td>\n",
       "      <td>2.50</td>\n",
       "      <td>68.75</td>\n",
       "      <td>528.75</td>\n",
       "      <td>31.25</td>\n",
       "      <td>667.50</td>\n",
       "      <td>15.00</td>\n",
       "      <td>376863.00</td>\n",
       "      <td>1655.50</td>\n",
       "      <td>1438.75</td>\n",
       "    </tr>\n",
       "    <tr>\n",
       "      <th>West Hill</th>\n",
       "      <td>3250.00</td>\n",
       "      <td>3441.25</td>\n",
       "      <td>0.00</td>\n",
       "      <td>475.00</td>\n",
       "      <td>1252.50</td>\n",
       "      <td>576.25</td>\n",
       "      <td>575.00</td>\n",
       "      <td>16.25</td>\n",
       "      <td>284647.50</td>\n",
       "      <td>1071.50</td>\n",
       "      <td>761.25</td>\n",
       "    </tr>\n",
       "    <tr>\n",
       "      <th>West Humber-Clairville</th>\n",
       "      <td>4381.25</td>\n",
       "      <td>1725.00</td>\n",
       "      <td>0.00</td>\n",
       "      <td>273.75</td>\n",
       "      <td>1341.25</td>\n",
       "      <td>1345.00</td>\n",
       "      <td>505.00</td>\n",
       "      <td>2.50</td>\n",
       "      <td>343254.25</td>\n",
       "      <td>1215.25</td>\n",
       "      <td>986.25</td>\n",
       "    </tr>\n",
       "    <tr>\n",
       "      <th>Westminster-Branson</th>\n",
       "      <td>846.25</td>\n",
       "      <td>7665.00</td>\n",
       "      <td>0.00</td>\n",
       "      <td>642.50</td>\n",
       "      <td>400.00</td>\n",
       "      <td>117.50</td>\n",
       "      <td>277.50</td>\n",
       "      <td>12.50</td>\n",
       "      <td>349320.25</td>\n",
       "      <td>1319.50</td>\n",
       "      <td>1121.50</td>\n",
       "    </tr>\n",
       "    <tr>\n",
       "      <th>Weston</th>\n",
       "      <td>1742.50</td>\n",
       "      <td>4387.50</td>\n",
       "      <td>0.00</td>\n",
       "      <td>216.25</td>\n",
       "      <td>142.50</td>\n",
       "      <td>193.75</td>\n",
       "      <td>768.75</td>\n",
       "      <td>5.00</td>\n",
       "      <td>308007.75</td>\n",
       "      <td>1188.75</td>\n",
       "      <td>927.75</td>\n",
       "    </tr>\n",
       "    <tr>\n",
       "      <th>Weston-Pellam Park</th>\n",
       "      <td>650.00</td>\n",
       "      <td>553.75</td>\n",
       "      <td>1.25</td>\n",
       "      <td>1342.50</td>\n",
       "      <td>307.50</td>\n",
       "      <td>186.25</td>\n",
       "      <td>1135.00</td>\n",
       "      <td>21.25</td>\n",
       "      <td>351802.00</td>\n",
       "      <td>1150.25</td>\n",
       "      <td>804.50</td>\n",
       "    </tr>\n",
       "    <tr>\n",
       "      <th>Wexford/Maryvale</th>\n",
       "      <td>5482.50</td>\n",
       "      <td>1810.00</td>\n",
       "      <td>2.50</td>\n",
       "      <td>13.75</td>\n",
       "      <td>251.25</td>\n",
       "      <td>1313.75</td>\n",
       "      <td>1090.00</td>\n",
       "      <td>10.00</td>\n",
       "      <td>348319.25</td>\n",
       "      <td>1092.50</td>\n",
       "      <td>926.50</td>\n",
       "    </tr>\n",
       "    <tr>\n",
       "      <th>Willowdale East</th>\n",
       "      <td>3533.75</td>\n",
       "      <td>11598.75</td>\n",
       "      <td>6.25</td>\n",
       "      <td>63.75</td>\n",
       "      <td>736.25</td>\n",
       "      <td>205.00</td>\n",
       "      <td>1378.75</td>\n",
       "      <td>10.00</td>\n",
       "      <td>469045.50</td>\n",
       "      <td>1484.75</td>\n",
       "      <td>1424.00</td>\n",
       "    </tr>\n",
       "    <tr>\n",
       "      <th>Willowdale West</th>\n",
       "      <td>2178.75</td>\n",
       "      <td>3253.75</td>\n",
       "      <td>1.25</td>\n",
       "      <td>143.75</td>\n",
       "      <td>133.75</td>\n",
       "      <td>251.25</td>\n",
       "      <td>202.50</td>\n",
       "      <td>0.00</td>\n",
       "      <td>466134.75</td>\n",
       "      <td>1369.75</td>\n",
       "      <td>1149.75</td>\n",
       "    </tr>\n",
       "    <tr>\n",
       "      <th>Willowridge-Martingrove-Richview</th>\n",
       "      <td>3647.50</td>\n",
       "      <td>3373.75</td>\n",
       "      <td>0.00</td>\n",
       "      <td>531.25</td>\n",
       "      <td>277.50</td>\n",
       "      <td>183.75</td>\n",
       "      <td>42.50</td>\n",
       "      <td>0.00</td>\n",
       "      <td>464278.00</td>\n",
       "      <td>1181.75</td>\n",
       "      <td>1109.75</td>\n",
       "    </tr>\n",
       "    <tr>\n",
       "      <th>Woburn</th>\n",
       "      <td>6623.75</td>\n",
       "      <td>8898.75</td>\n",
       "      <td>1.25</td>\n",
       "      <td>326.25</td>\n",
       "      <td>241.25</td>\n",
       "      <td>1417.50</td>\n",
       "      <td>430.00</td>\n",
       "      <td>7.50</td>\n",
       "      <td>298505.75</td>\n",
       "      <td>1112.00</td>\n",
       "      <td>884.25</td>\n",
       "    </tr>\n",
       "    <tr>\n",
       "      <th>Woodbine Corridor</th>\n",
       "      <td>898.75</td>\n",
       "      <td>577.50</td>\n",
       "      <td>0.00</td>\n",
       "      <td>1646.25</td>\n",
       "      <td>253.75</td>\n",
       "      <td>161.25</td>\n",
       "      <td>1721.25</td>\n",
       "      <td>23.75</td>\n",
       "      <td>445382.75</td>\n",
       "      <td>1393.00</td>\n",
       "      <td>909.00</td>\n",
       "    </tr>\n",
       "    <tr>\n",
       "      <th>Woodbine-Lumsden</th>\n",
       "      <td>1938.75</td>\n",
       "      <td>633.75</td>\n",
       "      <td>0.00</td>\n",
       "      <td>323.75</td>\n",
       "      <td>21.25</td>\n",
       "      <td>257.50</td>\n",
       "      <td>303.75</td>\n",
       "      <td>7.50</td>\n",
       "      <td>369918.50</td>\n",
       "      <td>1256.00</td>\n",
       "      <td>906.50</td>\n",
       "    </tr>\n",
       "    <tr>\n",
       "      <th>Wychwood</th>\n",
       "      <td>1056.25</td>\n",
       "      <td>1236.25</td>\n",
       "      <td>0.00</td>\n",
       "      <td>992.50</td>\n",
       "      <td>298.75</td>\n",
       "      <td>325.00</td>\n",
       "      <td>1878.75</td>\n",
       "      <td>17.50</td>\n",
       "      <td>565976.50</td>\n",
       "      <td>1390.75</td>\n",
       "      <td>1017.25</td>\n",
       "    </tr>\n",
       "    <tr>\n",
       "      <th>Yonge-Eglinton</th>\n",
       "      <td>1468.75</td>\n",
       "      <td>1638.75</td>\n",
       "      <td>0.00</td>\n",
       "      <td>470.00</td>\n",
       "      <td>33.75</td>\n",
       "      <td>328.75</td>\n",
       "      <td>1385.00</td>\n",
       "      <td>6.25</td>\n",
       "      <td>809745.75</td>\n",
       "      <td>1799.50</td>\n",
       "      <td>1347.75</td>\n",
       "    </tr>\n",
       "    <tr>\n",
       "      <th>Yonge-St.Clair</th>\n",
       "      <td>565.00</td>\n",
       "      <td>3948.75</td>\n",
       "      <td>0.00</td>\n",
       "      <td>425.00</td>\n",
       "      <td>212.50</td>\n",
       "      <td>172.50</td>\n",
       "      <td>1308.75</td>\n",
       "      <td>6.25</td>\n",
       "      <td>813220.25</td>\n",
       "      <td>1680.75</td>\n",
       "      <td>1369.00</td>\n",
       "    </tr>\n",
       "    <tr>\n",
       "      <th>York University Heights</th>\n",
       "      <td>1355.00</td>\n",
       "      <td>5165.00</td>\n",
       "      <td>1.25</td>\n",
       "      <td>1316.25</td>\n",
       "      <td>662.50</td>\n",
       "      <td>188.75</td>\n",
       "      <td>1085.00</td>\n",
       "      <td>33.75</td>\n",
       "      <td>305899.50</td>\n",
       "      <td>1116.75</td>\n",
       "      <td>937.50</td>\n",
       "    </tr>\n",
       "    <tr>\n",
       "      <th>Yorkdale-Glen Park</th>\n",
       "      <td>2286.25</td>\n",
       "      <td>1347.50</td>\n",
       "      <td>0.00</td>\n",
       "      <td>73.75</td>\n",
       "      <td>450.00</td>\n",
       "      <td>377.50</td>\n",
       "      <td>722.50</td>\n",
       "      <td>7.50</td>\n",
       "      <td>430861.25</td>\n",
       "      <td>1122.50</td>\n",
       "      <td>942.50</td>\n",
       "    </tr>\n",
       "  </tbody>\n",
       "</table>\n",
       "<p>140 rows × 11 columns</p>\n",
       "</div>"
      ],
      "text/plain": [
       "                                   single_detached_house  \\\n",
       "neighbourhood                                              \n",
       "Agincourt North                                  3435.00   \n",
       "Agincourt South-Malvern West                     2897.50   \n",
       "Alderwood                                        2903.75   \n",
       "Annex                                             751.25   \n",
       "Banbury-Don Mills                                3572.50   \n",
       "Bathurst Manor                                   2131.25   \n",
       "Bay Street Corridor                                 3.75   \n",
       "Bayview Village                                  2101.25   \n",
       "Bayview Woods-Steeles                            1585.00   \n",
       "Bedford Park-Nortown                             4865.00   \n",
       "Beechborough-Greenbrook                           686.25   \n",
       "Bendale                                          3993.75   \n",
       "Birchcliffe-Cliffside                            5045.00   \n",
       "Black Creek                                       732.50   \n",
       "Blake-Jones                                       526.25   \n",
       "Briar Hill-Belgravia                             1713.75   \n",
       "Bridle Path-Sunnybrook-York Mills                2260.00   \n",
       "Broadview North                                   880.00   \n",
       "Brookhaven-Amesbury                              1775.00   \n",
       "Cabbagetown-South St.James Town                   268.75   \n",
       "Caledonia-Fairbank                               1757.50   \n",
       "Casa Loma                                         916.25   \n",
       "Centennial Scarborough                           3341.25   \n",
       "Church-Yonge Corridor                              28.75   \n",
       "Clairlea-Birchmount                              3223.75   \n",
       "Clanton Park                                     2480.00   \n",
       "Cliffcrest                                       3407.50   \n",
       "Corso Italia-Davenport                           1451.25   \n",
       "Danforth                                          708.75   \n",
       "Danforth-East York                               3001.25   \n",
       "...                                                  ...   \n",
       "South Riverdale                                  1005.00   \n",
       "St.Andrew-Windfields                             3225.00   \n",
       "Steeles                                          3711.25   \n",
       "Stonegate-Queensway                              5872.50   \n",
       "Tam O'Shanter-Sullivan                           3168.75   \n",
       "Taylor-Massey                                     622.50   \n",
       "The Beaches                                      2642.50   \n",
       "Thistletown-Beaumond Heights                     1682.50   \n",
       "Thorncliffe Park                                    3.75   \n",
       "Trinity-Bellwoods                                 442.50   \n",
       "University                                        155.00   \n",
       "Victoria Village                                 1256.25   \n",
       "Waterfront Communities-The Island                 267.50   \n",
       "West Hill                                        3250.00   \n",
       "West Humber-Clairville                           4381.25   \n",
       "Westminster-Branson                               846.25   \n",
       "Weston                                           1742.50   \n",
       "Weston-Pellam Park                                650.00   \n",
       "Wexford/Maryvale                                 5482.50   \n",
       "Willowdale East                                  3533.75   \n",
       "Willowdale West                                  2178.75   \n",
       "Willowridge-Martingrove-Richview                 3647.50   \n",
       "Woburn                                           6623.75   \n",
       "Woodbine Corridor                                 898.75   \n",
       "Woodbine-Lumsden                                 1938.75   \n",
       "Wychwood                                         1056.25   \n",
       "Yonge-Eglinton                                   1468.75   \n",
       "Yonge-St.Clair                                    565.00   \n",
       "York University Heights                          1355.00   \n",
       "Yorkdale-Glen Park                               2286.25   \n",
       "\n",
       "                                   apartment_five_storeys_plus  \\\n",
       "neighbourhood                                                    \n",
       "Agincourt North                                        1947.50   \n",
       "Agincourt South-Malvern West                           2180.00   \n",
       "Alderwood                                               302.50   \n",
       "Annex                                                  7235.00   \n",
       "Banbury-Don Mills                                      5388.75   \n",
       "Bathurst Manor                                         1815.00   \n",
       "Bay Street Corridor                                   10470.00   \n",
       "Bayview Village                                        3222.50   \n",
       "Bayview Woods-Steeles                                  1700.00   \n",
       "Bedford Park-Nortown                                   1981.25   \n",
       "Beechborough-Greenbrook                                 671.25   \n",
       "Bendale                                                3582.50   \n",
       "Birchcliffe-Cliffside                                   920.00   \n",
       "Black Creek                                            4356.25   \n",
       "Blake-Jones                                             491.25   \n",
       "Briar Hill-Belgravia                                   2401.25   \n",
       "Bridle Path-Sunnybrook-York Mills                       331.25   \n",
       "Broadview North                                        3213.75   \n",
       "Brookhaven-Amesbury                                    3568.75   \n",
       "Cabbagetown-South St.James Town                        3322.50   \n",
       "Caledonia-Fairbank                                      166.25   \n",
       "Casa Loma                                              2310.00   \n",
       "Centennial Scarborough                                    0.00   \n",
       "Church-Yonge Corridor                                 15042.50   \n",
       "Clairlea-Birchmount                                    1746.25   \n",
       "Clanton Park                                           1352.50   \n",
       "Cliffcrest                                             1317.50   \n",
       "Corso Italia-Davenport                                    3.75   \n",
       "Danforth                                                337.50   \n",
       "Danforth-East York                                      778.75   \n",
       "...                                                        ...   \n",
       "South Riverdale                                        1012.50   \n",
       "St.Andrew-Windfields                                   1670.00   \n",
       "Steeles                                                2592.50   \n",
       "Stonegate-Queensway                                     867.50   \n",
       "Tam O'Shanter-Sullivan                                 4542.50   \n",
       "Taylor-Massey                                          4795.00   \n",
       "The Beaches                                             488.75   \n",
       "Thistletown-Beaumond Heights                            666.25   \n",
       "Thorncliffe Park                                       6318.75   \n",
       "Trinity-Bellwoods                                       178.75   \n",
       "University                                              830.00   \n",
       "Victoria Village                                       3150.00   \n",
       "Waterfront Communities-The Island                     21913.75   \n",
       "West Hill                                              3441.25   \n",
       "West Humber-Clairville                                 1725.00   \n",
       "Westminster-Branson                                    7665.00   \n",
       "Weston                                                 4387.50   \n",
       "Weston-Pellam Park                                      553.75   \n",
       "Wexford/Maryvale                                       1810.00   \n",
       "Willowdale East                                       11598.75   \n",
       "Willowdale West                                        3253.75   \n",
       "Willowridge-Martingrove-Richview                       3373.75   \n",
       "Woburn                                                 8898.75   \n",
       "Woodbine Corridor                                       577.50   \n",
       "Woodbine-Lumsden                                        633.75   \n",
       "Wychwood                                               1236.25   \n",
       "Yonge-Eglinton                                         1638.75   \n",
       "Yonge-St.Clair                                         3948.75   \n",
       "York University Heights                                5165.00   \n",
       "Yorkdale-Glen Park                                     1347.50   \n",
       "\n",
       "                                   movable_dwelling  semi_detached_house  \\\n",
       "neighbourhood                                                              \n",
       "Agincourt North                                2.50               863.75   \n",
       "Agincourt South-Malvern West                   1.25               375.00   \n",
       "Alderwood                                      1.25               503.75   \n",
       "Annex                                          1.25              1375.00   \n",
       "Banbury-Don Mills                              1.25               273.75   \n",
       "Bathurst Manor                                 0.00               151.25   \n",
       "Bay Street Corridor                            0.00                 1.25   \n",
       "Bayview Village                                2.50               141.25   \n",
       "Bayview Woods-Steeles                          0.00               580.00   \n",
       "Bedford Park-Nortown                           0.00                43.75   \n",
       "Beechborough-Greenbrook                        0.00                70.00   \n",
       "Bendale                                        2.50               323.75   \n",
       "Birchcliffe-Cliffside                          0.00               418.75   \n",
       "Black Creek                                    0.00               685.00   \n",
       "Blake-Jones                                    0.00               810.00   \n",
       "Briar Hill-Belgravia                           0.00               150.00   \n",
       "Bridle Path-Sunnybrook-York Mills              0.00                36.25   \n",
       "Broadview North                                0.00               448.75   \n",
       "Brookhaven-Amesbury                            0.00               255.00   \n",
       "Cabbagetown-South St.James Town                0.00               451.25   \n",
       "Caledonia-Fairbank                             0.00               421.25   \n",
       "Casa Loma                                      0.00               288.75   \n",
       "Centennial Scarborough                         2.50               166.25   \n",
       "Church-Yonge Corridor                          1.25                32.50   \n",
       "Clairlea-Birchmount                            2.50               890.00   \n",
       "Clanton Park                                   6.25                11.25   \n",
       "Cliffcrest                                     1.25                63.75   \n",
       "Corso Italia-Davenport                         0.00              1375.00   \n",
       "Danforth                                       0.00              1350.00   \n",
       "Danforth-East York                             0.00              1721.25   \n",
       "...                                             ...                  ...   \n",
       "South Riverdale                                3.75              2686.25   \n",
       "St.Andrew-Windfields                           0.00               185.00   \n",
       "Steeles                                        1.25               190.00   \n",
       "Stonegate-Queensway                            0.00                93.75   \n",
       "Tam O'Shanter-Sullivan                         0.00               170.00   \n",
       "Taylor-Massey                                  0.00               203.75   \n",
       "The Beaches                                    1.25              1543.75   \n",
       "Thistletown-Beaumond Heights                   0.00               322.50   \n",
       "Thorncliffe Park                               0.00                 0.00   \n",
       "Trinity-Bellwoods                              0.00              1023.75   \n",
       "University                                     0.00               301.25   \n",
       "Victoria Village                               0.00               315.00   \n",
       "Waterfront Communities-The Island              2.50                68.75   \n",
       "West Hill                                      0.00               475.00   \n",
       "West Humber-Clairville                         0.00               273.75   \n",
       "Westminster-Branson                            0.00               642.50   \n",
       "Weston                                         0.00               216.25   \n",
       "Weston-Pellam Park                             1.25              1342.50   \n",
       "Wexford/Maryvale                               2.50                13.75   \n",
       "Willowdale East                                6.25                63.75   \n",
       "Willowdale West                                1.25               143.75   \n",
       "Willowridge-Martingrove-Richview               0.00               531.25   \n",
       "Woburn                                         1.25               326.25   \n",
       "Woodbine Corridor                              0.00              1646.25   \n",
       "Woodbine-Lumsden                               0.00               323.75   \n",
       "Wychwood                                       0.00               992.50   \n",
       "Yonge-Eglinton                                 0.00               470.00   \n",
       "Yonge-St.Clair                                 0.00               425.00   \n",
       "York University Heights                        1.25              1316.25   \n",
       "Yorkdale-Glen Park                             0.00                73.75   \n",
       "\n",
       "                                   row_house   duplex  \\\n",
       "neighbourhood                                           \n",
       "Agincourt North                      1406.25   512.50   \n",
       "Agincourt South-Malvern West          456.25   523.75   \n",
       "Alderwood                              76.25   302.50   \n",
       "Annex                                 613.75   355.00   \n",
       "Banbury-Don Mills                     626.25    32.50   \n",
       "Bathurst Manor                         70.00   677.50   \n",
       "Bay Street Corridor                    18.75     1.25   \n",
       "Bayview Village                       830.00    70.00   \n",
       "Bayview Woods-Steeles                 175.00    86.25   \n",
       "Bedford Park-Nortown                   57.50   287.50   \n",
       "Beechborough-Greenbrook                16.25    97.50   \n",
       "Bendale                               258.75   921.25   \n",
       "Birchcliffe-Cliffside                  47.50   781.25   \n",
       "Black Creek                          1116.25   113.75   \n",
       "Blake-Jones                           380.00   151.25   \n",
       "Briar Hill-Belgravia                   37.50   351.25   \n",
       "Bridle Path-Sunnybrook-York Mills      90.00    25.00   \n",
       "Broadview North                        81.25   112.50   \n",
       "Brookhaven-Amesbury                     8.75   108.75   \n",
       "Cabbagetown-South St.James Town       615.00   127.50   \n",
       "Caledonia-Fairbank                     18.75   371.25   \n",
       "Casa Loma                             201.25   162.50   \n",
       "Centennial Scarborough                420.00   125.00   \n",
       "Church-Yonge Corridor                 231.25    38.75   \n",
       "Clairlea-Birchmount                   525.00   563.75   \n",
       "Clanton Park                           12.50   517.50   \n",
       "Cliffcrest                            342.50   372.50   \n",
       "Corso Italia-Davenport                103.75   482.50   \n",
       "Danforth                               33.75   197.50   \n",
       "Danforth-East York                     32.50   512.50   \n",
       "...                                      ...      ...   \n",
       "South Riverdale                      1566.25   467.50   \n",
       "St.Andrew-Windfields                  552.50    97.50   \n",
       "Steeles                               558.75   275.00   \n",
       "Stonegate-Queensway                   357.50   222.50   \n",
       "Tam O'Shanter-Sullivan                891.25   477.50   \n",
       "Taylor-Massey                         216.25   150.00   \n",
       "The Beaches                           285.00   461.25   \n",
       "Thistletown-Beaumond Heights           52.50   253.75   \n",
       "Thorncliffe Park                      141.25     0.00   \n",
       "Trinity-Bellwoods                    1027.50   460.00   \n",
       "University                            321.25   146.25   \n",
       "Victoria Village                      308.75   130.00   \n",
       "Waterfront Communities-The Island     528.75    31.25   \n",
       "West Hill                            1252.50   576.25   \n",
       "West Humber-Clairville               1341.25  1345.00   \n",
       "Westminster-Branson                   400.00   117.50   \n",
       "Weston                                142.50   193.75   \n",
       "Weston-Pellam Park                    307.50   186.25   \n",
       "Wexford/Maryvale                      251.25  1313.75   \n",
       "Willowdale East                       736.25   205.00   \n",
       "Willowdale West                       133.75   251.25   \n",
       "Willowridge-Martingrove-Richview      277.50   183.75   \n",
       "Woburn                                241.25  1417.50   \n",
       "Woodbine Corridor                     253.75   161.25   \n",
       "Woodbine-Lumsden                       21.25   257.50   \n",
       "Wychwood                              298.75   325.00   \n",
       "Yonge-Eglinton                         33.75   328.75   \n",
       "Yonge-St.Clair                        212.50   172.50   \n",
       "York University Heights               662.50   188.75   \n",
       "Yorkdale-Glen Park                    450.00   377.50   \n",
       "\n",
       "                                   apartment_five_storeys_less  other_house  \\\n",
       "neighbourhood                                                                 \n",
       "Agincourt North                                         547.50        10.00   \n",
       "Agincourt South-Malvern West                            628.75        32.50   \n",
       "Alderwood                                               502.50         1.25   \n",
       "Annex                                                  4605.00        83.75   \n",
       "Banbury-Don Mills                                      1340.00         0.00   \n",
       "Bathurst Manor                                          973.75         8.75   \n",
       "Bay Street Corridor                                     271.25         2.50   \n",
       "Bayview Village                                         500.00         2.50   \n",
       "Bayview Woods-Steeles                                   522.50         1.25   \n",
       "Bedford Park-Nortown                                   1275.00        88.75   \n",
       "Beechborough-Greenbrook                                1060.00         3.75   \n",
       "Bendale                                                 330.00        10.00   \n",
       "Birchcliffe-Cliffside                                  1957.50        26.25   \n",
       "Black Creek                                             238.75         2.50   \n",
       "Blake-Jones                                             748.75        25.00   \n",
       "Briar Hill-Belgravia                                   1035.00         5.00   \n",
       "Bridle Path-Sunnybrook-York Mills                        40.00         0.00   \n",
       "Broadview North                                         793.75         1.25   \n",
       "Brookhaven-Amesbury                                     501.25         6.25   \n",
       "Cabbagetown-South St.James Town                        1422.50        12.50   \n",
       "Caledonia-Fairbank                                      853.75         5.00   \n",
       "Casa Loma                                              1192.50         2.50   \n",
       "Centennial Scarborough                                   40.00         5.00   \n",
       "Church-Yonge Corridor                                  1337.50        27.50   \n",
       "Clairlea-Birchmount                                    1020.00        28.75   \n",
       "Clanton Park                                           1256.25        15.00   \n",
       "Cliffcrest                                              147.50        43.75   \n",
       "Corso Italia-Davenport                                 1811.25        35.00   \n",
       "Danforth                                               1275.00        30.00   \n",
       "Danforth-East York                                      856.25        30.00   \n",
       "...                                                        ...          ...   \n",
       "South Riverdale                                        3823.75        85.00   \n",
       "St.Andrew-Windfields                                    586.25         5.00   \n",
       "Steeles                                                 257.50         0.00   \n",
       "Stonegate-Queensway                                    2788.75         6.25   \n",
       "Tam O'Shanter-Sullivan                                  408.75        10.00   \n",
       "Taylor-Massey                                           218.75        15.00   \n",
       "The Beaches                                            3770.00        23.75   \n",
       "Thistletown-Beaumond Heights                            237.50         3.75   \n",
       "Thorncliffe Park                                        187.50         5.00   \n",
       "Trinity-Bellwoods                                      3310.00       168.75   \n",
       "University                                             1252.50        46.25   \n",
       "Victoria Village                                       2002.50        11.25   \n",
       "Waterfront Communities-The Island                       667.50        15.00   \n",
       "West Hill                                               575.00        16.25   \n",
       "West Humber-Clairville                                  505.00         2.50   \n",
       "Westminster-Branson                                     277.50        12.50   \n",
       "Weston                                                  768.75         5.00   \n",
       "Weston-Pellam Park                                     1135.00        21.25   \n",
       "Wexford/Maryvale                                       1090.00        10.00   \n",
       "Willowdale East                                        1378.75        10.00   \n",
       "Willowdale West                                         202.50         0.00   \n",
       "Willowridge-Martingrove-Richview                         42.50         0.00   \n",
       "Woburn                                                  430.00         7.50   \n",
       "Woodbine Corridor                                      1721.25        23.75   \n",
       "Woodbine-Lumsden                                        303.75         7.50   \n",
       "Wychwood                                               1878.75        17.50   \n",
       "Yonge-Eglinton                                         1385.00         6.25   \n",
       "Yonge-St.Clair                                         1308.75         6.25   \n",
       "York University Heights                                1085.00        33.75   \n",
       "Yorkdale-Glen Park                                      722.50         7.50   \n",
       "\n",
       "                                   average_house_value  shelter_costs_owned  \\\n",
       "neighbourhood                                                                 \n",
       "Agincourt North                              329811.50              1109.00   \n",
       "Agincourt South-Malvern West                 334189.00              1131.25   \n",
       "Alderwood                                    427922.50              1166.75   \n",
       "Annex                                        746977.00              1692.75   \n",
       "Banbury-Don Mills                            612039.00              1463.50   \n",
       "Bathurst Manor                               501576.75              1307.00   \n",
       "Bay Street Corridor                          423653.50              1494.50   \n",
       "Bayview Village                              539258.75              1512.75   \n",
       "Bayview Woods-Steeles                        565413.50              1364.25   \n",
       "Bedford Park-Nortown                         930415.25              1786.75   \n",
       "Beechborough-Greenbrook                      370927.75              1029.25   \n",
       "Bendale                                      301123.25              1151.25   \n",
       "Birchcliffe-Cliffside                        437315.00              1228.75   \n",
       "Black Creek                                  260841.75              1011.75   \n",
       "Blake-Jones                                  511437.00              1359.25   \n",
       "Briar Hill-Belgravia                         365524.50              1304.25   \n",
       "Bridle Path-Sunnybrook-York Mills           1526485.75              2360.75   \n",
       "Broadview North                              443373.25              1320.25   \n",
       "Brookhaven-Amesbury                          350943.00              1151.25   \n",
       "Cabbagetown-South St.James Town              494110.50              1479.25   \n",
       "Caledonia-Fairbank                           361714.25              1239.25   \n",
       "Casa Loma                                    981064.25              1873.75   \n",
       "Centennial Scarborough                       409862.75              1331.50   \n",
       "Church-Yonge Corridor                        406117.50              1539.00   \n",
       "Clairlea-Birchmount                          354555.25              1241.00   \n",
       "Clanton Park                                 551561.25              1394.25   \n",
       "Cliffcrest                                   417422.00              1227.50   \n",
       "Corso Italia-Davenport                       419930.50              1217.50   \n",
       "Danforth                                     466943.00              1343.25   \n",
       "Danforth-East York                           421679.25              1265.00   \n",
       "...                                                ...                  ...   \n",
       "South Riverdale                              455020.50              1416.75   \n",
       "St.Andrew-Windfields                         999107.00              1880.25   \n",
       "Steeles                                      376014.50              1153.25   \n",
       "Stonegate-Queensway                          550432.25              1288.00   \n",
       "Tam O'Shanter-Sullivan                       353926.50              1105.00   \n",
       "Taylor-Massey                                239414.00              1129.25   \n",
       "The Beaches                                  666306.00              1707.00   \n",
       "Thistletown-Beaumond Heights                 375864.00              1193.75   \n",
       "Thorncliffe Park                             255264.75              1304.25   \n",
       "Trinity-Bellwoods                            534465.75              1373.75   \n",
       "University                                   618316.75              1447.25   \n",
       "Victoria Village                             352133.00              1162.25   \n",
       "Waterfront Communities-The Island            376863.00              1655.50   \n",
       "West Hill                                    284647.50              1071.50   \n",
       "West Humber-Clairville                       343254.25              1215.25   \n",
       "Westminster-Branson                          349320.25              1319.50   \n",
       "Weston                                       308007.75              1188.75   \n",
       "Weston-Pellam Park                           351802.00              1150.25   \n",
       "Wexford/Maryvale                             348319.25              1092.50   \n",
       "Willowdale East                              469045.50              1484.75   \n",
       "Willowdale West                              466134.75              1369.75   \n",
       "Willowridge-Martingrove-Richview             464278.00              1181.75   \n",
       "Woburn                                       298505.75              1112.00   \n",
       "Woodbine Corridor                            445382.75              1393.00   \n",
       "Woodbine-Lumsden                             369918.50              1256.00   \n",
       "Wychwood                                     565976.50              1390.75   \n",
       "Yonge-Eglinton                               809745.75              1799.50   \n",
       "Yonge-St.Clair                               813220.25              1680.75   \n",
       "York University Heights                      305899.50              1116.75   \n",
       "Yorkdale-Glen Park                           430861.25              1122.50   \n",
       "\n",
       "                                   shelter_costs_rented  \n",
       "neighbourhood                                            \n",
       "Agincourt North                                  983.50  \n",
       "Agincourt South-Malvern West                     985.00  \n",
       "Alderwood                                       1003.25  \n",
       "Annex                                           1315.25  \n",
       "Banbury-Don Mills                               1242.75  \n",
       "Bathurst Manor                                  1059.50  \n",
       "Bay Street Corridor                             1436.75  \n",
       "Bayview Village                                 1422.00  \n",
       "Bayview Woods-Steeles                           1399.50  \n",
       "Bedford Park-Nortown                            1255.00  \n",
       "Beechborough-Greenbrook                          797.50  \n",
       "Bendale                                          994.50  \n",
       "Birchcliffe-Cliffside                            918.75  \n",
       "Black Creek                                      864.50  \n",
       "Blake-Jones                                      897.75  \n",
       "Briar Hill-Belgravia                            1030.25  \n",
       "Bridle Path-Sunnybrook-York Mills               2321.75  \n",
       "Broadview North                                 1007.75  \n",
       "Brookhaven-Amesbury                              932.50  \n",
       "Cabbagetown-South St.James Town                 1072.25  \n",
       "Caledonia-Fairbank                               989.00  \n",
       "Casa Loma                                       1547.75  \n",
       "Centennial Scarborough                          1148.75  \n",
       "Church-Yonge Corridor                           1202.75  \n",
       "Clairlea-Birchmount                              952.00  \n",
       "Clanton Park                                    1024.00  \n",
       "Cliffcrest                                       911.25  \n",
       "Corso Italia-Davenport                           986.75  \n",
       "Danforth                                         930.75  \n",
       "Danforth-East York                               982.00  \n",
       "...                                                 ...  \n",
       "South Riverdale                                  971.00  \n",
       "St.Andrew-Windfields                            1384.50  \n",
       "Steeles                                         1125.75  \n",
       "Stonegate-Queensway                             1041.25  \n",
       "Tam O'Shanter-Sullivan                           973.75  \n",
       "Taylor-Massey                                    919.25  \n",
       "The Beaches                                     1257.75  \n",
       "Thistletown-Beaumond Heights                     938.50  \n",
       "Thorncliffe Park                                1088.50  \n",
       "Trinity-Bellwoods                               1160.00  \n",
       "University                                      1263.00  \n",
       "Victoria Village                                 916.25  \n",
       "Waterfront Communities-The Island               1438.75  \n",
       "West Hill                                        761.25  \n",
       "West Humber-Clairville                           986.25  \n",
       "Westminster-Branson                             1121.50  \n",
       "Weston                                           927.75  \n",
       "Weston-Pellam Park                               804.50  \n",
       "Wexford/Maryvale                                 926.50  \n",
       "Willowdale East                                 1424.00  \n",
       "Willowdale West                                 1149.75  \n",
       "Willowridge-Martingrove-Richview                1109.75  \n",
       "Woburn                                           884.25  \n",
       "Woodbine Corridor                                909.00  \n",
       "Woodbine-Lumsden                                 906.50  \n",
       "Wychwood                                        1017.25  \n",
       "Yonge-Eglinton                                  1347.75  \n",
       "Yonge-St.Clair                                  1369.00  \n",
       "York University Heights                          937.50  \n",
       "Yorkdale-Glen Park                               942.50  \n",
       "\n",
       "[140 rows x 11 columns]"
      ]
     },
     "execution_count": 115,
     "metadata": {},
     "output_type": "execute_result"
    }
   ],
   "source": [
    "# Calculate the mean values for each neighborhood\n",
    "multi_group = to_data.groupby(\"neighbourhood\").sum()/to_data.groupby(\"neighbourhood\").count()\n",
    "multi_group"
   ]
  },
  {
   "cell_type": "code",
   "execution_count": 131,
   "metadata": {},
   "outputs": [
    {
     "data": {
      "text/html": [
       "<div>\n",
       "<style scoped>\n",
       "    .dataframe tbody tr th:only-of-type {\n",
       "        vertical-align: middle;\n",
       "    }\n",
       "\n",
       "    .dataframe tbody tr th {\n",
       "        vertical-align: top;\n",
       "    }\n",
       "\n",
       "    .dataframe thead th {\n",
       "        text-align: right;\n",
       "    }\n",
       "</style>\n",
       "<table border=\"1\" class=\"dataframe\">\n",
       "  <thead>\n",
       "    <tr style=\"text-align: right;\">\n",
       "      <th></th>\n",
       "      <th>neighbourhood</th>\n",
       "      <th>single_detached_house</th>\n",
       "      <th>apartment_five_storeys_plus</th>\n",
       "      <th>movable_dwelling</th>\n",
       "      <th>semi_detached_house</th>\n",
       "      <th>row_house</th>\n",
       "      <th>duplex</th>\n",
       "      <th>apartment_five_storeys_less</th>\n",
       "      <th>other_house</th>\n",
       "      <th>average_house_value</th>\n",
       "      <th>shelter_costs_owned</th>\n",
       "      <th>shelter_costs_rented</th>\n",
       "      <th>lat</th>\n",
       "      <th>lon</th>\n",
       "    </tr>\n",
       "  </thead>\n",
       "  <tbody>\n",
       "    <tr>\n",
       "      <th>0</th>\n",
       "      <td>Agincourt North</td>\n",
       "      <td>3435.00</td>\n",
       "      <td>1947.50</td>\n",
       "      <td>2.50</td>\n",
       "      <td>863.75</td>\n",
       "      <td>1406.25</td>\n",
       "      <td>512.50</td>\n",
       "      <td>547.50</td>\n",
       "      <td>10.00</td>\n",
       "      <td>329811.5</td>\n",
       "      <td>1109.00</td>\n",
       "      <td>983.50</td>\n",
       "      <td>43.805441</td>\n",
       "      <td>-79.266712</td>\n",
       "    </tr>\n",
       "    <tr>\n",
       "      <th>1</th>\n",
       "      <td>Agincourt South-Malvern West</td>\n",
       "      <td>2897.50</td>\n",
       "      <td>2180.00</td>\n",
       "      <td>1.25</td>\n",
       "      <td>375.00</td>\n",
       "      <td>456.25</td>\n",
       "      <td>523.75</td>\n",
       "      <td>628.75</td>\n",
       "      <td>32.50</td>\n",
       "      <td>334189.0</td>\n",
       "      <td>1131.25</td>\n",
       "      <td>985.00</td>\n",
       "      <td>43.788658</td>\n",
       "      <td>-79.265612</td>\n",
       "    </tr>\n",
       "    <tr>\n",
       "      <th>2</th>\n",
       "      <td>Alderwood</td>\n",
       "      <td>2903.75</td>\n",
       "      <td>302.50</td>\n",
       "      <td>1.25</td>\n",
       "      <td>503.75</td>\n",
       "      <td>76.25</td>\n",
       "      <td>302.50</td>\n",
       "      <td>502.50</td>\n",
       "      <td>1.25</td>\n",
       "      <td>427922.5</td>\n",
       "      <td>1166.75</td>\n",
       "      <td>1003.25</td>\n",
       "      <td>43.604937</td>\n",
       "      <td>-79.541611</td>\n",
       "    </tr>\n",
       "    <tr>\n",
       "      <th>3</th>\n",
       "      <td>Annex</td>\n",
       "      <td>751.25</td>\n",
       "      <td>7235.00</td>\n",
       "      <td>1.25</td>\n",
       "      <td>1375.00</td>\n",
       "      <td>613.75</td>\n",
       "      <td>355.00</td>\n",
       "      <td>4605.00</td>\n",
       "      <td>83.75</td>\n",
       "      <td>746977.0</td>\n",
       "      <td>1692.75</td>\n",
       "      <td>1315.25</td>\n",
       "      <td>43.671585</td>\n",
       "      <td>-79.404001</td>\n",
       "    </tr>\n",
       "    <tr>\n",
       "      <th>4</th>\n",
       "      <td>Banbury-Don Mills</td>\n",
       "      <td>3572.50</td>\n",
       "      <td>5388.75</td>\n",
       "      <td>1.25</td>\n",
       "      <td>273.75</td>\n",
       "      <td>626.25</td>\n",
       "      <td>32.50</td>\n",
       "      <td>1340.00</td>\n",
       "      <td>0.00</td>\n",
       "      <td>612039.0</td>\n",
       "      <td>1463.50</td>\n",
       "      <td>1242.75</td>\n",
       "      <td>43.737657</td>\n",
       "      <td>-79.349718</td>\n",
       "    </tr>\n",
       "  </tbody>\n",
       "</table>\n",
       "</div>"
      ],
      "text/plain": [
       "                  neighbourhood  single_detached_house  \\\n",
       "0               Agincourt North                3435.00   \n",
       "1  Agincourt South-Malvern West                2897.50   \n",
       "2                     Alderwood                2903.75   \n",
       "3                         Annex                 751.25   \n",
       "4             Banbury-Don Mills                3572.50   \n",
       "\n",
       "   apartment_five_storeys_plus  movable_dwelling  semi_detached_house  \\\n",
       "0                      1947.50              2.50               863.75   \n",
       "1                      2180.00              1.25               375.00   \n",
       "2                       302.50              1.25               503.75   \n",
       "3                      7235.00              1.25              1375.00   \n",
       "4                      5388.75              1.25               273.75   \n",
       "\n",
       "   row_house  duplex  apartment_five_storeys_less  other_house  \\\n",
       "0    1406.25  512.50                       547.50        10.00   \n",
       "1     456.25  523.75                       628.75        32.50   \n",
       "2      76.25  302.50                       502.50         1.25   \n",
       "3     613.75  355.00                      4605.00        83.75   \n",
       "4     626.25   32.50                      1340.00         0.00   \n",
       "\n",
       "   average_house_value  shelter_costs_owned  shelter_costs_rented        lat  \\\n",
       "0             329811.5              1109.00                983.50  43.805441   \n",
       "1             334189.0              1131.25                985.00  43.788658   \n",
       "2             427922.5              1166.75               1003.25  43.604937   \n",
       "3             746977.0              1692.75               1315.25  43.671585   \n",
       "4             612039.0              1463.50               1242.75  43.737657   \n",
       "\n",
       "         lon  \n",
       "0 -79.266712  \n",
       "1 -79.265612  \n",
       "2 -79.541611  \n",
       "3 -79.404001  \n",
       "4 -79.349718  "
      ]
     },
     "execution_count": 131,
     "metadata": {},
     "output_type": "execute_result"
    }
   ],
   "source": [
    "# Join the average values with the neighbourhood locations\n",
    "joined_data_rows = pd.concat(\n",
    "    [multi_group, df_neighbourhood_locations], axis=\"columns\", join=\"inner\"\n",
    ").reset_index()\n",
    "joined_data_rows.head()"
   ]
  },
  {
   "cell_type": "markdown",
   "metadata": {},
   "source": [
    "### Mapbox Visualization\n",
    "\n",
    "Plot the average values per neighbourhood using a Plotly express `scatter_mapbox` visualization."
   ]
  },
  {
   "cell_type": "code",
   "execution_count": 137,
   "metadata": {},
   "outputs": [],
   "source": [
    "px.set_mapbox_access_token(map_box_api)"
   ]
  },
  {
   "cell_type": "code",
   "execution_count": 145,
   "metadata": {},
   "outputs": [
    {
     "data": {},
     "metadata": {},
     "output_type": "display_data"
    },
    {
     "data": {
      "application/vnd.holoviews_exec.v0+json": "",
      "text/html": [
       "<div id='38403'>\n",
       "\n",
       "\n",
       "\n",
       "\n",
       "\n",
       "  <div class=\"bk-root\" id=\"8ced04af-9852-40d2-bd05-4d1e35559ac2\" data-root-id=\"38403\"></div>\n",
       "</div>\n",
       "<script type=\"application/javascript\">(function(root) {\n",
       "  function embed_document(root) {\n",
       "    var docs_json = {\"c1bbbf70-926e-4c67-be6d-1b0a2fa5e5fa\":{\"roots\":{\"references\":[{\"attributes\":{\"data\":{\"lat\":[{\"__ndarray__\":\"hKk9V6HdRUA=\",\"dtype\":\"float64\",\"order\":\"little\",\"shape\":[1]}],\"lon\":[{\"__ndarray__\":\"oEhBAeXaU8A=\",\"dtype\":\"float64\",\"order\":\"little\",\"shape\":[1]}],\"marker.size\":[{\"__ndarray__\":\"AAAAgN5kLEE=\",\"dtype\":\"float64\",\"order\":\"little\",\"shape\":[1]}]},\"selected\":{\"id\":\"38566\"},\"selection_policy\":{\"id\":\"38567\"}},\"id\":\"38415\",\"type\":\"ColumnDataSource\"},{\"attributes\":{},\"id\":\"38629\",\"type\":\"UnionRenderers\"},{\"attributes\":{},\"id\":\"38725\",\"type\":\"UnionRenderers\"},{\"attributes\":{},\"id\":\"38630\",\"type\":\"Selection\"},{\"attributes\":{},\"id\":\"38724\",\"type\":\"Selection\"},{\"attributes\":{},\"id\":\"38631\",\"type\":\"UnionRenderers\"},{\"attributes\":{},\"id\":\"38726\",\"type\":\"Selection\"},{\"attributes\":{\"data\":{\"lat\":[{\"__ndarray__\":\"V8PRl9bORUA=\",\"dtype\":\"float64\",\"order\":\"little\",\"shape\":[1]}],\"lon\":[{\"__ndarray__\":\"NBUcPQLgU8A=\",\"dtype\":\"float64\",\"order\":\"little\",\"shape\":[1]}],\"marker.size\":[{\"__ndarray__\":\"AAAAAEoEGEE=\",\"dtype\":\"float64\",\"order\":\"little\",\"shape\":[1]}]},\"selected\":{\"id\":\"38702\"},\"selection_policy\":{\"id\":\"38703\"}},\"id\":\"38483\",\"type\":\"ColumnDataSource\"},{\"attributes\":{},\"id\":\"38632\",\"type\":\"Selection\"},{\"attributes\":{},\"id\":\"38727\",\"type\":\"UnionRenderers\"},{\"attributes\":{},\"id\":\"38633\",\"type\":\"UnionRenderers\"},{\"attributes\":{\"data\":{\"lat\":[{\"__ndarray__\":\"Cink7wPWRUA=\",\"dtype\":\"float64\",\"order\":\"little\",\"shape\":[1]}],\"lon\":[{\"__ndarray__\":\"F1XxDHvWU8A=\",\"dtype\":\"float64\",\"order\":\"little\",\"shape\":[1]}],\"marker.size\":[{\"__ndarray__\":\"AAAAgK50JUE=\",\"dtype\":\"float64\",\"order\":\"little\",\"shape\":[1]}]},\"selected\":{\"id\":\"38724\"},\"selection_policy\":{\"id\":\"38725\"}},\"id\":\"38494\",\"type\":\"ColumnDataSource\"},{\"attributes\":{},\"id\":\"38728\",\"type\":\"Selection\"},{\"attributes\":{},\"id\":\"38634\",\"type\":\"Selection\"},{\"attributes\":{\"data\":{\"lat\":[{\"__ndarray__\":\"HKcRyF/jRUA=\",\"dtype\":\"float64\",\"order\":\"little\",\"shape\":[1]}],\"lon\":[{\"__ndarray__\":\"GB7BriLYU8A=\",\"dtype\":\"float64\",\"order\":\"little\",\"shape\":[1]}],\"marker.size\":[{\"__ndarray__\":\"AAAAgPV0IEE=\",\"dtype\":\"float64\",\"order\":\"little\",\"shape\":[1]}]},\"selected\":{\"id\":\"38562\"},\"selection_policy\":{\"id\":\"38563\"}},\"id\":\"38413\",\"type\":\"ColumnDataSource\"},{\"attributes\":{},\"id\":\"38729\",\"type\":\"UnionRenderers\"},{\"attributes\":{\"data\":{\"lat\":[{\"__ndarray__\":\"ZDE9oyXkRUA=\",\"dtype\":\"float64\",\"order\":\"little\",\"shape\":[1]}],\"lon\":[{\"__ndarray__\":\"Zf6wKUDNU8A=\",\"dtype\":\"float64\",\"order\":\"little\",\"shape\":[1]}],\"marker.size\":[{\"__ndarray__\":\"AAAAAFZlEUE=\",\"dtype\":\"float64\",\"order\":\"little\",\"shape\":[1]}]},\"selected\":{\"id\":\"38704\"},\"selection_policy\":{\"id\":\"38705\"}},\"id\":\"38484\",\"type\":\"ColumnDataSource\"},{\"attributes\":{},\"id\":\"38635\",\"type\":\"UnionRenderers\"},{\"attributes\":{},\"id\":\"38730\",\"type\":\"Selection\"},{\"attributes\":{},\"id\":\"38636\",\"type\":\"Selection\"},{\"attributes\":{\"data\":{\"lat\":[{\"__ndarray__\":\"AktLOLbVRUA=\",\"dtype\":\"float64\",\"order\":\"little\",\"shape\":[1]}],\"lon\":[{\"__ndarray__\":\"S0I7CgTYU8A=\",\"dtype\":\"float64\",\"order\":\"little\",\"shape\":[1]}],\"marker.size\":[{\"__ndarray__\":\"AAAAAP8cGUE=\",\"dtype\":\"float64\",\"order\":\"little\",\"shape\":[1]}]},\"selected\":{\"id\":\"38726\"},\"selection_policy\":{\"id\":\"38727\"}},\"id\":\"38495\",\"type\":\"ColumnDataSource\"},{\"attributes\":{},\"id\":\"38731\",\"type\":\"UnionRenderers\"},{\"attributes\":{},\"id\":\"38637\",\"type\":\"UnionRenderers\"},{\"attributes\":{},\"id\":\"38732\",\"type\":\"Selection\"},{\"attributes\":{\"data\":{\"lat\":[{\"__ndarray__\":\"6pL1xAjURUA=\",\"dtype\":\"float64\",\"order\":\"little\",\"shape\":[1]}],\"lon\":[{\"__ndarray__\":\"JvFmy4HXU8A=\",\"dtype\":\"float64\",\"order\":\"little\",\"shape\":[1]}],\"marker.size\":[{\"__ndarray__\":\"AAAAAMD9GEE=\",\"dtype\":\"float64\",\"order\":\"little\",\"shape\":[1]}]},\"selected\":{\"id\":\"38706\"},\"selection_policy\":{\"id\":\"38707\"}},\"id\":\"38485\",\"type\":\"ColumnDataSource\"},{\"attributes\":{},\"id\":\"38638\",\"type\":\"Selection\"},{\"attributes\":{},\"id\":\"38733\",\"type\":\"UnionRenderers\"},{\"attributes\":{},\"id\":\"38639\",\"type\":\"UnionRenderers\"},{\"attributes\":{\"data\":{\"lat\":[{\"__ndarray__\":\"Y6w+cHjaRUA=\",\"dtype\":\"float64\",\"order\":\"little\",\"shape\":[1]}],\"lon\":[{\"__ndarray__\":\"ZUMvivvTU8A=\",\"dtype\":\"float64\",\"order\":\"little\",\"shape\":[1]}],\"marker.size\":[{\"__ndarray__\":\"AAAAAC81EkE=\",\"dtype\":\"float64\",\"order\":\"little\",\"shape\":[1]}]},\"selected\":{\"id\":\"38728\"},\"selection_policy\":{\"id\":\"38729\"}},\"id\":\"38496\",\"type\":\"ColumnDataSource\"},{\"attributes\":{},\"id\":\"38734\",\"type\":\"Selection\"},{\"attributes\":{},\"id\":\"38640\",\"type\":\"Selection\"},{\"attributes\":{},\"id\":\"38735\",\"type\":\"UnionRenderers\"},{\"attributes\":{\"data\":{\"lat\":[{\"__ndarray__\":\"K74EGxXYRUA=\",\"dtype\":\"float64\",\"order\":\"little\",\"shape\":[1]}],\"lon\":[{\"__ndarray__\":\"s0Md0v/fU8A=\",\"dtype\":\"float64\",\"order\":\"little\",\"shape\":[1]}],\"marker.size\":[{\"__ndarray__\":\"AAAAAJMCEEE=\",\"dtype\":\"float64\",\"order\":\"little\",\"shape\":[1]}]},\"selected\":{\"id\":\"38708\"},\"selection_policy\":{\"id\":\"38709\"}},\"id\":\"38486\",\"type\":\"ColumnDataSource\"},{\"attributes\":{},\"id\":\"38641\",\"type\":\"UnionRenderers\"},{\"attributes\":{\"data\":{\"lat\":[{\"__ndarray__\":\"ETfprlPhRUA=\",\"dtype\":\"float64\",\"order\":\"little\",\"shape\":[1]}],\"lon\":[{\"__ndarray__\":\"NshmP3nQU8A=\",\"dtype\":\"float64\",\"order\":\"little\",\"shape\":[1]}],\"marker.size\":[{\"__ndarray__\":\"AAAAAA1hEkE=\",\"dtype\":\"float64\",\"order\":\"little\",\"shape\":[1]}]},\"selected\":{\"id\":\"38570\"},\"selection_policy\":{\"id\":\"38571\"}},\"id\":\"38417\",\"type\":\"ColumnDataSource\"},{\"attributes\":{},\"id\":\"38736\",\"type\":\"Selection\"},{\"attributes\":{},\"id\":\"38642\",\"type\":\"Selection\"},{\"attributes\":{\"data\":{\"lat\":[{\"__ndarray__\":\"vL8PQTTcRUA=\",\"dtype\":\"float64\",\"order\":\"little\",\"shape\":[1]}],\"lon\":[{\"__ndarray__\":\"aU9ugP7bU8A=\",\"dtype\":\"float64\",\"order\":\"little\",\"shape\":[1]}],\"marker.size\":[{\"__ndarray__\":\"AAAAgNFcIUE=\",\"dtype\":\"float64\",\"order\":\"little\",\"shape\":[1]}]},\"selected\":{\"id\":\"38626\"},\"selection_policy\":{\"id\":\"38627\"}},\"id\":\"38445\",\"type\":\"ColumnDataSource\"},{\"attributes\":{\"data\":{\"lat\":[{\"__ndarray__\":\"Qihrq0TZRUA=\",\"dtype\":\"float64\",\"order\":\"little\",\"shape\":[1]}],\"lon\":[{\"__ndarray__\":\"+y3PvebRU8A=\",\"dtype\":\"float64\",\"order\":\"little\",\"shape\":[1]}],\"marker.size\":[{\"__ndarray__\":\"AAAAAMbFGUE=\",\"dtype\":\"float64\",\"order\":\"little\",\"shape\":[1]}]},\"selected\":{\"id\":\"38730\"},\"selection_policy\":{\"id\":\"38731\"}},\"id\":\"38497\",\"type\":\"ColumnDataSource\"},{\"attributes\":{},\"id\":\"38737\",\"type\":\"UnionRenderers\"},{\"attributes\":{},\"id\":\"38643\",\"type\":\"UnionRenderers\"},{\"attributes\":{\"client_comm_id\":\"36267b613f7244d682a1548788e2d90e\",\"comm_id\":\"c8d4b4af88c140339e071ac86f65cf39\",\"plot_id\":\"38403\"},\"id\":\"39388\",\"type\":\"panel.models.comm_manager.CommManager\"},{\"attributes\":{},\"id\":\"38738\",\"type\":\"Selection\"},{\"attributes\":{\"data\":{\"lat\":[{\"__ndarray__\":\"VYWKmv3lRUA=\",\"dtype\":\"float64\",\"order\":\"little\",\"shape\":[1]}],\"lon\":[{\"__ndarray__\":\"u53YnnTYU8A=\",\"dtype\":\"float64\",\"order\":\"little\",\"shape\":[1]}],\"marker.size\":[{\"__ndarray__\":\"AAAAAEtBIUE=\",\"dtype\":\"float64\",\"order\":\"little\",\"shape\":[1]}]},\"selected\":{\"id\":\"38564\"},\"selection_policy\":{\"id\":\"38565\"}},\"id\":\"38414\",\"type\":\"ColumnDataSource\"},{\"attributes\":{\"data\":{\"lat\":[{\"__ndarray__\":\"vbczXZnfRUA=\",\"dtype\":\"float64\",\"order\":\"little\",\"shape\":[1]}],\"lon\":[{\"__ndarray__\":\"SP7cp5XlU8A=\",\"dtype\":\"float64\",\"order\":\"little\",\"shape\":[1]}],\"marker.size\":[{\"__ndarray__\":\"AAAAAPLnDkE=\",\"dtype\":\"float64\",\"order\":\"little\",\"shape\":[1]}]},\"selected\":{\"id\":\"38710\"},\"selection_policy\":{\"id\":\"38711\"}},\"id\":\"38487\",\"type\":\"ColumnDataSource\"},{\"attributes\":{},\"id\":\"38644\",\"type\":\"Selection\"},{\"attributes\":{},\"id\":\"38739\",\"type\":\"UnionRenderers\"},{\"attributes\":{\"data\":{\"lat\":[{\"__ndarray__\":\"iMxkUbvYRUA=\",\"dtype\":\"float64\",\"order\":\"little\",\"shape\":[1]}],\"lon\":[{\"__ndarray__\":\"/HF3ra/eU8A=\",\"dtype\":\"float64\",\"order\":\"little\",\"shape\":[1]}],\"marker.size\":[{\"__ndarray__\":\"AAAAAL+jFkE=\",\"dtype\":\"float64\",\"order\":\"little\",\"shape\":[1]}]},\"selected\":{\"id\":\"38568\"},\"selection_policy\":{\"id\":\"38569\"}},\"id\":\"38416\",\"type\":\"ColumnDataSource\"},{\"attributes\":{},\"id\":\"38645\",\"type\":\"UnionRenderers\"},{\"attributes\":{\"data\":{\"lat\":[{\"__ndarray__\":\"DK2Q6iLYRUA=\",\"dtype\":\"float64\",\"order\":\"little\",\"shape\":[1]}],\"lon\":[{\"__ndarray__\":\"w3b/cSXcU8A=\",\"dtype\":\"float64\",\"order\":\"little\",\"shape\":[1]}],\"marker.size\":[{\"__ndarray__\":\"AAAAAMvtGkE=\",\"dtype\":\"float64\",\"order\":\"little\",\"shape\":[1]}]},\"selected\":{\"id\":\"38732\"},\"selection_policy\":{\"id\":\"38733\"}},\"id\":\"38498\",\"type\":\"ColumnDataSource\"},{\"attributes\":{},\"id\":\"38740\",\"type\":\"Selection\"},{\"attributes\":{},\"id\":\"38646\",\"type\":\"Selection\"},{\"attributes\":{\"data\":{\"lat\":[{\"__ndarray__\":\"BbwOzSPaRUA=\",\"dtype\":\"float64\",\"order\":\"little\",\"shape\":[1]}],\"lon\":[{\"__ndarray__\":\"MY2RsmbbU8A=\",\"dtype\":\"float64\",\"order\":\"little\",\"shape\":[1]}],\"marker.size\":[{\"__ndarray__\":\"AAAAAMH9KUE=\",\"dtype\":\"float64\",\"order\":\"little\",\"shape\":[1]}]},\"selected\":{\"id\":\"38634\"},\"selection_policy\":{\"id\":\"38635\"}},\"id\":\"38449\",\"type\":\"ColumnDataSource\"},{\"attributes\":{},\"id\":\"38741\",\"type\":\"UnionRenderers\"},{\"attributes\":{\"data\":{\"lat\":[{\"__ndarray__\":\"E1WNmDjaRUA=\",\"dtype\":\"float64\",\"order\":\"little\",\"shape\":[1]}],\"lon\":[{\"__ndarray__\":\"niwQmKLYU8A=\",\"dtype\":\"float64\",\"order\":\"little\",\"shape\":[1]}],\"marker.size\":[{\"__ndarray__\":\"AAAAgPSrJEE=\",\"dtype\":\"float64\",\"order\":\"little\",\"shape\":[1]}]},\"selected\":{\"id\":\"38712\"},\"selection_policy\":{\"id\":\"38713\"}},\"id\":\"38488\",\"type\":\"ColumnDataSource\"},{\"attributes\":{},\"id\":\"38647\",\"type\":\"UnionRenderers\"},{\"attributes\":{},\"id\":\"38742\",\"type\":\"Selection\"},{\"attributes\":{},\"id\":\"38648\",\"type\":\"Selection\"},{\"attributes\":{\"data\":{\"lat\":[{\"__ndarray__\":\"xI7vIDDZRUA=\",\"dtype\":\"float64\",\"order\":\"little\",\"shape\":[1]}],\"lon\":[{\"__ndarray__\":\"4JgrpHjVU8A=\",\"dtype\":\"float64\",\"order\":\"little\",\"shape\":[1]}],\"marker.size\":[{\"__ndarray__\":\"AAAAAFYQG0E=\",\"dtype\":\"float64\",\"order\":\"little\",\"shape\":[1]}]},\"selected\":{\"id\":\"38734\"},\"selection_policy\":{\"id\":\"38735\"}},\"id\":\"38499\",\"type\":\"ColumnDataSource\"},{\"attributes\":{},\"id\":\"38743\",\"type\":\"UnionRenderers\"},{\"attributes\":{},\"id\":\"38649\",\"type\":\"UnionRenderers\"},{\"attributes\":{\"data\":{\"lat\":[{\"__ndarray__\":\"+7ZYOObYRUA=\",\"dtype\":\"float64\",\"order\":\"little\",\"shape\":[1]}],\"lon\":[{\"__ndarray__\":\"UbYOL4TaU8A=\",\"dtype\":\"float64\",\"order\":\"little\",\"shape\":[1]}],\"marker.size\":[{\"__ndarray__\":\"AAAAgNg/MkE=\",\"dtype\":\"float64\",\"order\":\"little\",\"shape\":[1]}]},\"selected\":{\"id\":\"38636\"},\"selection_policy\":{\"id\":\"38637\"}},\"id\":\"38450\",\"type\":\"ColumnDataSource\"},{\"attributes\":{},\"id\":\"38744\",\"type\":\"Selection\"},{\"attributes\":{\"data\":{\"lat\":[{\"__ndarray__\":\"r6aA7iraRUA=\",\"dtype\":\"float64\",\"order\":\"little\",\"shape\":[1]}],\"lon\":[{\"__ndarray__\":\"b7SIzSzZU8A=\",\"dtype\":\"float64\",\"order\":\"little\",\"shape\":[1]}],\"marker.size\":[{\"__ndarray__\":\"AAAAAFeTHEE=\",\"dtype\":\"float64\",\"order\":\"little\",\"shape\":[1]}]},\"selected\":{\"id\":\"38714\"},\"selection_policy\":{\"id\":\"38715\"}},\"id\":\"38489\",\"type\":\"ColumnDataSource\"},{\"attributes\":{},\"id\":\"38650\",\"type\":\"Selection\"},{\"attributes\":{\"data\":{\"lat\":[{\"__ndarray__\":\"PX0E/nDfRUA=\",\"dtype\":\"float64\",\"order\":\"little\",\"shape\":[1]}],\"lon\":[{\"__ndarray__\":\"7kGlndzgU8A=\",\"dtype\":\"float64\",\"order\":\"little\",\"shape\":[1]}],\"marker.size\":[{\"__ndarray__\":\"AAAAALf+E0E=\",\"dtype\":\"float64\",\"order\":\"little\",\"shape\":[1]}]},\"selected\":{\"id\":\"38638\"},\"selection_policy\":{\"id\":\"38639\"}},\"id\":\"38451\",\"type\":\"ColumnDataSource\"},{\"attributes\":{},\"id\":\"38745\",\"type\":\"UnionRenderers\"},{\"attributes\":{},\"id\":\"38651\",\"type\":\"UnionRenderers\"},{\"attributes\":{\"data\":{\"lat\":[{\"__ndarray__\":\"jraFQl/URUA=\",\"dtype\":\"float64\",\"order\":\"little\",\"shape\":[1]}],\"lon\":[{\"__ndarray__\":\"f+1oNcfaU8A=\",\"dtype\":\"float64\",\"order\":\"little\",\"shape\":[1]}],\"marker.size\":[{\"__ndarray__\":\"AAAAgN/8IkE=\",\"dtype\":\"float64\",\"order\":\"little\",\"shape\":[1]}]},\"selected\":{\"id\":\"38736\"},\"selection_policy\":{\"id\":\"38737\"}},\"id\":\"38500\",\"type\":\"ColumnDataSource\"},{\"attributes\":{},\"id\":\"38746\",\"type\":\"Selection\"},{\"attributes\":{},\"id\":\"38652\",\"type\":\"Selection\"},{\"attributes\":{},\"id\":\"38747\",\"type\":\"UnionRenderers\"},{\"attributes\":{\"data\":{\"lat\":[{\"__ndarray__\":\"26xVFuDMRUA=\",\"dtype\":\"float64\",\"order\":\"little\",\"shape\":[1]}],\"lon\":[{\"__ndarray__\":\"I3P6tKngU8A=\",\"dtype\":\"float64\",\"order\":\"little\",\"shape\":[1]}],\"marker.size\":[{\"__ndarray__\":\"AAAAABDkGEE=\",\"dtype\":\"float64\",\"order\":\"little\",\"shape\":[1]}]},\"selected\":{\"id\":\"38716\"},\"selection_policy\":{\"id\":\"38717\"}},\"id\":\"38490\",\"type\":\"ColumnDataSource\"},{\"attributes\":{},\"id\":\"38653\",\"type\":\"UnionRenderers\"},{\"attributes\":{},\"id\":\"38748\",\"type\":\"Selection\"},{\"attributes\":{},\"id\":\"38654\",\"type\":\"Selection\"},{\"attributes\":{\"data\":{\"lat\":[{\"__ndarray__\":\"iITO76TgRUA=\",\"dtype\":\"float64\",\"order\":\"little\",\"shape\":[1]}],\"lon\":[{\"__ndarray__\":\"YA1IqSHVU8A=\",\"dtype\":\"float64\",\"order\":\"little\",\"shape\":[1]}],\"marker.size\":[{\"__ndarray__\":\"AAAAAPK/G0E=\",\"dtype\":\"float64\",\"order\":\"little\",\"shape\":[1]}]},\"selected\":{\"id\":\"38738\"},\"selection_policy\":{\"id\":\"38739\"}},\"id\":\"38501\",\"type\":\"ColumnDataSource\"},{\"attributes\":{\"data\":{\"lat\":[{\"__ndarray__\":\"vzWo5DnURUA=\",\"dtype\":\"float64\",\"order\":\"little\",\"shape\":[1]}],\"lon\":[{\"__ndarray__\":\"z7rKAyblU8A=\",\"dtype\":\"float64\",\"order\":\"little\",\"shape\":[1]}],\"marker.size\":[{\"__ndarray__\":\"AAAAAFdHGEE=\",\"dtype\":\"float64\",\"order\":\"little\",\"shape\":[1]}]},\"selected\":{\"id\":\"38628\"},\"selection_policy\":{\"id\":\"38629\"}},\"id\":\"38446\",\"type\":\"ColumnDataSource\"},{\"attributes\":{},\"id\":\"38749\",\"type\":\"UnionRenderers\"},{\"attributes\":{},\"id\":\"38655\",\"type\":\"UnionRenderers\"},{\"attributes\":{\"data\":{\"lat\":[{\"__ndarray__\":\"02J0aZHSRUA=\",\"dtype\":\"float64\",\"order\":\"little\",\"shape\":[1]}],\"lon\":[{\"__ndarray__\":\"5aQofmnkU8A=\",\"dtype\":\"float64\",\"order\":\"little\",\"shape\":[1]}],\"marker.size\":[{\"__ndarray__\":\"AAAAAJDiEkE=\",\"dtype\":\"float64\",\"order\":\"little\",\"shape\":[1]}]},\"selected\":{\"id\":\"38630\"},\"selection_policy\":{\"id\":\"38631\"}},\"id\":\"38447\",\"type\":\"ColumnDataSource\"},{\"attributes\":{},\"id\":\"38750\",\"type\":\"Selection\"},{\"attributes\":{\"data\":{\"lat\":[{\"__ndarray__\":\"7tR1C1HlRUA=\",\"dtype\":\"float64\",\"order\":\"little\",\"shape\":[1]}],\"lon\":[{\"__ndarray__\":\"L/4R4frZU8A=\",\"dtype\":\"float64\",\"order\":\"little\",\"shape\":[1]}],\"marker.size\":[{\"__ndarray__\":\"AAAAgKoTIUE=\",\"dtype\":\"float64\",\"order\":\"little\",\"shape\":[1]}]},\"selected\":{\"id\":\"38718\"},\"selection_policy\":{\"id\":\"38719\"}},\"id\":\"38491\",\"type\":\"ColumnDataSource\"},{\"attributes\":{},\"id\":\"38656\",\"type\":\"Selection\"},{\"attributes\":{},\"id\":\"38751\",\"type\":\"UnionRenderers\"},{\"attributes\":{},\"id\":\"38657\",\"type\":\"UnionRenderers\"},{\"attributes\":{\"data\":{\"lat\":[{\"__ndarray__\":\"hrO2hNfbRUA=\",\"dtype\":\"float64\",\"order\":\"little\",\"shape\":[1]}],\"lon\":[{\"__ndarray__\":\"xgMlYM/hU8A=\",\"dtype\":\"float64\",\"order\":\"little\",\"shape\":[1]}],\"marker.size\":[{\"__ndarray__\":\"AAAAAN2+GEE=\",\"dtype\":\"float64\",\"order\":\"little\",\"shape\":[1]}]},\"selected\":{\"id\":\"38740\"},\"selection_policy\":{\"id\":\"38741\"}},\"id\":\"38502\",\"type\":\"ColumnDataSource\"},{\"attributes\":{},\"id\":\"38752\",\"type\":\"Selection\"},{\"attributes\":{},\"id\":\"38658\",\"type\":\"Selection\"},{\"attributes\":{},\"id\":\"38753\",\"type\":\"UnionRenderers\"},{\"attributes\":{\"data\":{\"lat\":[{\"__ndarray__\":\"bf8MZ+XhRUA=\",\"dtype\":\"float64\",\"order\":\"little\",\"shape\":[1]}],\"lon\":[{\"__ndarray__\":\"0Ff7ATDdU8A=\",\"dtype\":\"float64\",\"order\":\"little\",\"shape\":[1]}],\"marker.size\":[{\"__ndarray__\":\"AAAAACOdHkE=\",\"dtype\":\"float64\",\"order\":\"little\",\"shape\":[1]}]},\"selected\":{\"id\":\"38558\"},\"selection_policy\":{\"id\":\"38559\"}},\"id\":\"38411\",\"type\":\"ColumnDataSource\"},{\"attributes\":{\"data\":{\"lat\":[{\"__ndarray__\":\"QkJSE5bkRUA=\",\"dtype\":\"float64\",\"order\":\"little\",\"shape\":[1]}],\"lon\":[{\"__ndarray__\":\"bA/3aJzbU8A=\",\"dtype\":\"float64\",\"order\":\"little\",\"shape\":[1]}],\"marker.size\":[{\"__ndarray__\":\"AAAAAGIcHEE=\",\"dtype\":\"float64\",\"order\":\"little\",\"shape\":[1]}]},\"selected\":{\"id\":\"38720\"},\"selection_policy\":{\"id\":\"38721\"}},\"id\":\"38492\",\"type\":\"ColumnDataSource\"},{\"attributes\":{},\"id\":\"38659\",\"type\":\"UnionRenderers\"},{\"attributes\":{\"data\":{\"lat\":[{\"__ndarray__\":\"4j0HlqPbRUA=\",\"dtype\":\"float64\",\"order\":\"little\",\"shape\":[1]}],\"lon\":[{\"__ndarray__\":\"9ZJSEkrVU8A=\",\"dtype\":\"float64\",\"order\":\"little\",\"shape\":[1]}],\"marker.size\":[{\"__ndarray__\":\"AAAAALhdCUE=\",\"dtype\":\"float64\",\"order\":\"little\",\"shape\":[1]}]},\"selected\":{\"id\":\"38632\"},\"selection_policy\":{\"id\":\"38633\"}},\"id\":\"38448\",\"type\":\"ColumnDataSource\"},{\"attributes\":{\"data\":{\"lat\":[{\"__ndarray__\":\"VMtSwn7RRUA=\",\"dtype\":\"float64\",\"order\":\"little\",\"shape\":[1]}],\"lon\":[{\"__ndarray__\":\"Ao2IGGXaU8A=\",\"dtype\":\"float64\",\"order\":\"little\",\"shape\":[1]}],\"marker.size\":[{\"__ndarray__\":\"AAAAACSVFkE=\",\"dtype\":\"float64\",\"order\":\"little\",\"shape\":[1]}]},\"selected\":{\"id\":\"38722\"},\"selection_policy\":{\"id\":\"38723\"}},\"id\":\"38493\",\"type\":\"ColumnDataSource\"},{\"attributes\":{\"data\":{\"lat\":[{\"__ndarray__\":\"6NzMbADXRUA=\",\"dtype\":\"float64\",\"order\":\"little\",\"shape\":[1]}],\"lon\":[{\"__ndarray__\":\"OhQuebbWU8A=\",\"dtype\":\"float64\",\"order\":\"little\",\"shape\":[1]}],\"marker.size\":[{\"__ndarray__\":\"AAAAgDbNI0E=\",\"dtype\":\"float64\",\"order\":\"little\",\"shape\":[1]}]},\"selected\":{\"id\":\"38742\"},\"selection_policy\":{\"id\":\"38743\"}},\"id\":\"38503\",\"type\":\"ColumnDataSource\"},{\"attributes\":{},\"id\":\"38754\",\"type\":\"Selection\"},{\"attributes\":{},\"id\":\"38660\",\"type\":\"Selection\"},{\"attributes\":{},\"id\":\"38755\",\"type\":\"UnionRenderers\"},{\"attributes\":{},\"id\":\"38788\",\"type\":\"Selection\"},{\"attributes\":{\"data\":{\"lat\":[{\"__ndarray__\":\"dJqBoXnZRUA=\",\"dtype\":\"float64\",\"order\":\"little\",\"shape\":[1]}],\"lon\":[{\"__ndarray__\":\"3twEhPvcU8A=\",\"dtype\":\"float64\",\"order\":\"little\",\"shape\":[1]}],\"marker.size\":[{\"__ndarray__\":\"AAAAAFJPFkE=\",\"dtype\":\"float64\",\"order\":\"little\",\"shape\":[1]}]},\"selected\":{\"id\":\"38578\"},\"selection_policy\":{\"id\":\"38579\"}},\"id\":\"38421\",\"type\":\"ColumnDataSource\"},{\"attributes\":{},\"id\":\"38756\",\"type\":\"Selection\"},{\"attributes\":{},\"id\":\"38787\",\"type\":\"UnionRenderers\"},{\"attributes\":{},\"id\":\"38757\",\"type\":\"UnionRenderers\"},{\"attributes\":{},\"id\":\"38789\",\"type\":\"UnionRenderers\"},{\"attributes\":{\"data\":{\"lat\":[{\"__ndarray__\":\"iKL+gvbVRUA=\",\"dtype\":\"float64\",\"order\":\"little\",\"shape\":[1]}],\"lon\":[{\"__ndarray__\":\"rp1qJdvZU8A=\",\"dtype\":\"float64\",\"order\":\"little\",\"shape\":[1]}],\"marker.size\":[{\"__ndarray__\":\"AAAAAMLLJkE=\",\"dtype\":\"float64\",\"order\":\"little\",\"shape\":[1]}]},\"selected\":{\"id\":\"38554\"},\"selection_policy\":{\"id\":\"38555\"}},\"id\":\"38409\",\"type\":\"ColumnDataSource\"},{\"attributes\":{\"data\":{\"lat\":[{\"__ndarray__\":\"MJEc+jjTRUA=\",\"dtype\":\"float64\",\"order\":\"little\",\"shape\":[1]}],\"lon\":[{\"__ndarray__\":\"ZnZI95TaU8A=\",\"dtype\":\"float64\",\"order\":\"little\",\"shape\":[1]}],\"marker.size\":[{\"__ndarray__\":\"AAAAgINPIEE=\",\"dtype\":\"float64\",\"order\":\"little\",\"shape\":[1]}]},\"selected\":{\"id\":\"38786\"},\"selection_policy\":{\"id\":\"38787\"}},\"id\":\"38525\",\"type\":\"ColumnDataSource\"},{\"attributes\":{},\"id\":\"38758\",\"type\":\"Selection\"},{\"attributes\":{},\"id\":\"38790\",\"type\":\"Selection\"},{\"attributes\":{},\"id\":\"38759\",\"type\":\"UnionRenderers\"},{\"attributes\":{\"data\":{\"lat\":[{\"__ndarray__\":\"fcgA9YvgRUA=\",\"dtype\":\"float64\",\"order\":\"little\",\"shape\":[1]}],\"lon\":[{\"__ndarray__\":\"1pwPES/bU8A=\",\"dtype\":\"float64\",\"order\":\"little\",\"shape\":[1]}],\"marker.size\":[{\"__ndarray__\":\"AAAAAMG2IkE=\",\"dtype\":\"float64\",\"order\":\"little\",\"shape\":[1]}]},\"selected\":{\"id\":\"38682\"},\"selection_policy\":{\"id\":\"38683\"}},\"id\":\"38473\",\"type\":\"ColumnDataSource\"},{\"attributes\":{\"data\":{\"lat\":[{\"__ndarray__\":\"6nB8BrfiRUA=\",\"dtype\":\"float64\",\"order\":\"little\",\"shape\":[1]}],\"lon\":[{\"__ndarray__\":\"lQlkG13bU8A=\",\"dtype\":\"float64\",\"order\":\"little\",\"shape\":[1]}],\"marker.size\":[{\"__ndarray__\":\"AAAAAFtzHEE=\",\"dtype\":\"float64\",\"order\":\"little\",\"shape\":[1]}]},\"selected\":{\"id\":\"38808\"},\"selection_policy\":{\"id\":\"38809\"}},\"id\":\"38536\",\"type\":\"ColumnDataSource\"},{\"attributes\":{\"data\":{\"lat\":[{\"__ndarray__\":\"IysBKRjWRUA=\",\"dtype\":\"float64\",\"order\":\"little\",\"shape\":[1]}],\"lon\":[{\"__ndarray__\":\"01leoMHUU8A=\",\"dtype\":\"float64\",\"order\":\"little\",\"shape\":[1]}],\"marker.size\":[{\"__ndarray__\":\"AAAAAL6fF0E=\",\"dtype\":\"float64\",\"order\":\"little\",\"shape\":[1]}]},\"selected\":{\"id\":\"38640\"},\"selection_policy\":{\"id\":\"38641\"}},\"id\":\"38452\",\"type\":\"ColumnDataSource\"},{\"attributes\":{\"data\":{\"lat\":[{\"__ndarray__\":\"s+OvXn/RRUA=\",\"dtype\":\"float64\",\"order\":\"little\",\"shape\":[1]}],\"lon\":[{\"__ndarray__\":\"uO9qHB7cU8A=\",\"dtype\":\"float64\",\"order\":\"little\",\"shape\":[1]}],\"marker.size\":[{\"__ndarray__\":\"AAAAANpPG0E=\",\"dtype\":\"float64\",\"order\":\"little\",\"shape\":[1]}]},\"selected\":{\"id\":\"38766\"},\"selection_policy\":{\"id\":\"38767\"}},\"id\":\"38515\",\"type\":\"ColumnDataSource\"},{\"attributes\":{},\"id\":\"38791\",\"type\":\"UnionRenderers\"},{\"attributes\":{},\"id\":\"38760\",\"type\":\"Selection\"},{\"attributes\":{},\"id\":\"38792\",\"type\":\"Selection\"},{\"attributes\":{\"data\":{\"lat\":[{\"__ndarray__\":\"2TLPAM3URUA=\",\"dtype\":\"float64\",\"order\":\"little\",\"shape\":[1]}],\"lon\":[{\"__ndarray__\":\"UYTU7azZU8A=\",\"dtype\":\"float64\",\"order\":\"little\",\"shape\":[1]}],\"marker.size\":[{\"__ndarray__\":\"AAAAgJneIkE=\",\"dtype\":\"float64\",\"order\":\"little\",\"shape\":[1]}]},\"selected\":{\"id\":\"38788\"},\"selection_policy\":{\"id\":\"38789\"}},\"id\":\"38526\",\"type\":\"ColumnDataSource\"},{\"attributes\":{},\"id\":\"38761\",\"type\":\"UnionRenderers\"},{\"attributes\":{},\"id\":\"38793\",\"type\":\"UnionRenderers\"},{\"attributes\":{},\"id\":\"38762\",\"type\":\"Selection\"},{\"attributes\":{\"data\":{\"lat\":[{\"__ndarray__\":\"kCGVnHLdRUA=\",\"dtype\":\"float64\",\"order\":\"little\",\"shape\":[1]}],\"lon\":[{\"__ndarray__\":\"eB8NyNrZU8A=\",\"dtype\":\"float64\",\"order\":\"little\",\"shape\":[1]}],\"marker.size\":[{\"__ndarray__\":\"AAAAAMEsJ0E=\",\"dtype\":\"float64\",\"order\":\"little\",\"shape\":[1]}]},\"selected\":{\"id\":\"38684\"},\"selection_policy\":{\"id\":\"38685\"}},\"id\":\"38474\",\"type\":\"ColumnDataSource\"},{\"attributes\":{\"data\":{\"lat\":[{\"__ndarray__\":\"O6OUrYHXRUA=\",\"dtype\":\"float64\",\"order\":\"little\",\"shape\":[1]}],\"lon\":[{\"__ndarray__\":\"TiCRW3jjU8A=\",\"dtype\":\"float64\",\"order\":\"little\",\"shape\":[1]}],\"marker.size\":[{\"__ndarray__\":\"AAAAAFhWHEE=\",\"dtype\":\"float64\",\"order\":\"little\",\"shape\":[1]}]},\"selected\":{\"id\":\"38810\"},\"selection_policy\":{\"id\":\"38811\"}},\"id\":\"38537\",\"type\":\"ColumnDataSource\"},{\"attributes\":{\"data\":{\"lat\":[{\"__ndarray__\":\"6srKo9nfRUA=\",\"dtype\":\"float64\",\"order\":\"little\",\"shape\":[1]}],\"lon\":[{\"__ndarray__\":\"O0pvyXvMU8A=\",\"dtype\":\"float64\",\"order\":\"little\",\"shape\":[1]}],\"marker.size\":[{\"__ndarray__\":\"AAAAAHaLFkE=\",\"dtype\":\"float64\",\"order\":\"little\",\"shape\":[1]}]},\"selected\":{\"id\":\"38642\"},\"selection_policy\":{\"id\":\"38643\"}},\"id\":\"38453\",\"type\":\"ColumnDataSource\"},{\"attributes\":{\"data\":{\"lat\":[{\"__ndarray__\":\"UaCRABzTRUA=\",\"dtype\":\"float64\",\"order\":\"little\",\"shape\":[1]}],\"lon\":[{\"__ndarray__\":\"l5CsT3vVU8A=\",\"dtype\":\"float64\",\"order\":\"little\",\"shape\":[1]}],\"marker.size\":[{\"__ndarray__\":\"AAAAALLFG0E=\",\"dtype\":\"float64\",\"order\":\"little\",\"shape\":[1]}]},\"selected\":{\"id\":\"38768\"},\"selection_policy\":{\"id\":\"38769\"}},\"id\":\"38516\",\"type\":\"ColumnDataSource\"},{\"attributes\":{\"data\":{\"lat\":[{\"__ndarray__\":\"hp+s1pHdRUA=\",\"dtype\":\"float64\",\"order\":\"little\",\"shape\":[1]}],\"lon\":[{\"__ndarray__\":\"vFpR9z/YU8A=\",\"dtype\":\"float64\",\"order\":\"little\",\"shape\":[1]}],\"marker.size\":[{\"__ndarray__\":\"AAAAwNVKN0E=\",\"dtype\":\"float64\",\"order\":\"little\",\"shape\":[1]}]},\"selected\":{\"id\":\"38580\"},\"selection_policy\":{\"id\":\"38581\"}},\"id\":\"38422\",\"type\":\"ColumnDataSource\"},{\"attributes\":{},\"id\":\"38794\",\"type\":\"Selection\"},{\"attributes\":{},\"id\":\"38763\",\"type\":\"UnionRenderers\"},{\"attributes\":{},\"id\":\"38795\",\"type\":\"UnionRenderers\"},{\"attributes\":{\"data\":{\"lat\":[{\"__ndarray__\":\"kjLSID/dRUA=\",\"dtype\":\"float64\",\"order\":\"little\",\"shape\":[1]}],\"lon\":[{\"__ndarray__\":\"142Q5CbUU8A=\",\"dtype\":\"float64\",\"order\":\"little\",\"shape\":[1]}],\"marker.size\":[{\"__ndarray__\":\"AAAAABR+FUE=\",\"dtype\":\"float64\",\"order\":\"little\",\"shape\":[1]}]},\"selected\":{\"id\":\"38790\"},\"selection_policy\":{\"id\":\"38791\"}},\"id\":\"38527\",\"type\":\"ColumnDataSource\"},{\"attributes\":{},\"id\":\"38764\",\"type\":\"Selection\"},{\"attributes\":{\"css_classes\":[\"markdown\"],\"margin\":[5,5,5,5],\"name\":\"Markdown13838\",\"text\":\"&lt;h2&gt;Average House Value Toronto 2001-2016 by Neighbourhood&lt;/h2&gt;\"},\"id\":\"38405\",\"type\":\"panel.models.markup.HTML\"},{\"attributes\":{},\"id\":\"38796\",\"type\":\"Selection\"},{\"attributes\":{},\"id\":\"38765\",\"type\":\"UnionRenderers\"},{\"attributes\":{\"data\":{\"lat\":[{\"__ndarray__\":\"f+fNl83bRUA=\",\"dtype\":\"float64\",\"order\":\"little\",\"shape\":[1]}],\"lon\":[{\"__ndarray__\":\"lLW4jPzZU8A=\",\"dtype\":\"float64\",\"order\":\"little\",\"shape\":[1]}],\"marker.size\":[{\"__ndarray__\":\"AAAAwIuxMEE=\",\"dtype\":\"float64\",\"order\":\"little\",\"shape\":[1]}]},\"selected\":{\"id\":\"38686\"},\"selection_policy\":{\"id\":\"38687\"}},\"id\":\"38475\",\"type\":\"ColumnDataSource\"},{\"attributes\":{\"data\":{\"lat\":[{\"__ndarray__\":\"4alPiyTiRUA=\",\"dtype\":\"float64\",\"order\":\"little\",\"shape\":[1]}],\"lon\":[{\"__ndarray__\":\"yJ41JqHOU8A=\",\"dtype\":\"float64\",\"order\":\"little\",\"shape\":[1]}],\"marker.size\":[{\"__ndarray__\":\"AAAAACc4EkE=\",\"dtype\":\"float64\",\"order\":\"little\",\"shape\":[1]}]},\"selected\":{\"id\":\"38812\"},\"selection_policy\":{\"id\":\"38813\"}},\"id\":\"38538\",\"type\":\"ColumnDataSource\"},{\"attributes\":{\"data\":{\"lat\":[{\"__ndarray__\":\"qebm2bTiRUA=\",\"dtype\":\"float64\",\"order\":\"little\",\"shape\":[1]}],\"lon\":[{\"__ndarray__\":\"xW0b49bVU8A=\",\"dtype\":\"float64\",\"order\":\"little\",\"shape\":[1]}],\"marker.size\":[{\"__ndarray__\":\"AAAAAJiUFkE=\",\"dtype\":\"float64\",\"order\":\"little\",\"shape\":[1]}]},\"selected\":{\"id\":\"38644\"},\"selection_policy\":{\"id\":\"38645\"}},\"id\":\"38454\",\"type\":\"ColumnDataSource\"},{\"attributes\":{\"data\":{\"lat\":[{\"__ndarray__\":\"DsvRqczgRUA=\",\"dtype\":\"float64\",\"order\":\"little\",\"shape\":[1]}],\"lon\":[{\"__ndarray__\":\"WGHIJELYU8A=\",\"dtype\":\"float64\",\"order\":\"little\",\"shape\":[1]}],\"marker.size\":[{\"__ndarray__\":\"AAAAAIZ9LkE=\",\"dtype\":\"float64\",\"order\":\"little\",\"shape\":[1]}]},\"selected\":{\"id\":\"38770\"},\"selection_policy\":{\"id\":\"38771\"}},\"id\":\"38517\",\"type\":\"ColumnDataSource\"},{\"attributes\":{},\"id\":\"38797\",\"type\":\"UnionRenderers\"},{\"attributes\":{},\"id\":\"38766\",\"type\":\"Selection\"},{\"attributes\":{},\"id\":\"38798\",\"type\":\"Selection\"},{\"attributes\":{\"data\":{\"lat\":[{\"__ndarray__\":\"a+Pb/SLRRUA=\",\"dtype\":\"float64\",\"order\":\"little\",\"shape\":[1]}],\"lon\":[{\"__ndarray__\":\"PlsoFSTYU8A=\",\"dtype\":\"float64\",\"order\":\"little\",\"shape\":[1]}],\"marker.size\":[{\"__ndarray__\":\"AAAAAHwAF0E=\",\"dtype\":\"float64\",\"order\":\"little\",\"shape\":[1]}]},\"selected\":{\"id\":\"38792\"},\"selection_policy\":{\"id\":\"38793\"}},\"id\":\"38528\",\"type\":\"ColumnDataSource\"},{\"attributes\":{},\"id\":\"38767\",\"type\":\"UnionRenderers\"},{\"attributes\":{},\"id\":\"38799\",\"type\":\"UnionRenderers\"},{\"attributes\":{},\"id\":\"38768\",\"type\":\"Selection\"},{\"attributes\":{\"data\":{\"lat\":[{\"__ndarray__\":\"HqN+D8XZRUA=\",\"dtype\":\"float64\",\"order\":\"little\",\"shape\":[1]}],\"lon\":[{\"__ndarray__\":\"Sb/55BPfU8A=\",\"dtype\":\"float64\",\"order\":\"little\",\"shape\":[1]}],\"marker.size\":[{\"__ndarray__\":\"AAAAAHxrFUE=\",\"dtype\":\"float64\",\"order\":\"little\",\"shape\":[1]}]},\"selected\":{\"id\":\"38584\"},\"selection_policy\":{\"id\":\"38585\"}},\"id\":\"38424\",\"type\":\"ColumnDataSource\"},{\"attributes\":{\"data\":{\"lat\":[{\"__ndarray__\":\"SHEKAhbaRUA=\",\"dtype\":\"float64\",\"order\":\"little\",\"shape\":[1]}],\"lon\":[{\"__ndarray__\":\"SxGuum3XU8A=\",\"dtype\":\"float64\",\"order\":\"little\",\"shape\":[1]}],\"marker.size\":[{\"__ndarray__\":\"AAAAgI+cKEE=\",\"dtype\":\"float64\",\"order\":\"little\",\"shape\":[1]}]},\"selected\":{\"id\":\"38688\"},\"selection_policy\":{\"id\":\"38689\"}},\"id\":\"38476\",\"type\":\"ColumnDataSource\"},{\"attributes\":{\"data\":{\"lat\":[{\"__ndarray__\":\"9Ru7fqDWRUA=\",\"dtype\":\"float64\",\"order\":\"little\",\"shape\":[1]}],\"lon\":[{\"__ndarray__\":\"F4Fvoi/UU8A=\",\"dtype\":\"float64\",\"order\":\"little\",\"shape\":[1]}],\"marker.size\":[{\"__ndarray__\":\"AAAAABsvG0E=\",\"dtype\":\"float64\",\"order\":\"little\",\"shape\":[1]}]},\"selected\":{\"id\":\"38814\"},\"selection_policy\":{\"id\":\"38815\"}},\"id\":\"38539\",\"type\":\"ColumnDataSource\"},{\"attributes\":{\"data\":{\"lat\":[{\"__ndarray__\":\"PblDFivURUA=\",\"dtype\":\"float64\",\"order\":\"little\",\"shape\":[1]}],\"lon\":[{\"__ndarray__\":\"DI0O5dfdU8A=\",\"dtype\":\"float64\",\"order\":\"little\",\"shape\":[1]}],\"marker.size\":[{\"__ndarray__\":\"AAAAACJAIEE=\",\"dtype\":\"float64\",\"order\":\"little\",\"shape\":[1]}]},\"selected\":{\"id\":\"38646\"},\"selection_policy\":{\"id\":\"38647\"}},\"id\":\"38455\",\"type\":\"ColumnDataSource\"},{\"attributes\":{\"data\":{\"lat\":[{\"__ndarray__\":\"FuzxCA/oRUA=\",\"dtype\":\"float64\",\"order\":\"little\",\"shape\":[1]}],\"lon\":[{\"__ndarray__\":\"iszYp47UU8A=\",\"dtype\":\"float64\",\"order\":\"little\",\"shape\":[1]}],\"marker.size\":[{\"__ndarray__\":\"AAAAADrzFkE=\",\"dtype\":\"float64\",\"order\":\"little\",\"shape\":[1]}]},\"selected\":{\"id\":\"38772\"},\"selection_policy\":{\"id\":\"38773\"}},\"id\":\"38518\",\"type\":\"ColumnDataSource\"},{\"attributes\":{},\"id\":\"38800\",\"type\":\"Selection\"},{\"attributes\":{},\"id\":\"38769\",\"type\":\"UnionRenderers\"},{\"attributes\":{},\"id\":\"38801\",\"type\":\"UnionRenderers\"},{\"attributes\":{\"data\":{\"lat\":[{\"__ndarray__\":\"alnvHj3iRUA=\",\"dtype\":\"float64\",\"order\":\"little\",\"shape\":[1]}],\"lon\":[{\"__ndarray__\":\"k7X6qE7LU8A=\",\"dtype\":\"float64\",\"order\":\"little\",\"shape\":[1]}],\"marker.size\":[{\"__ndarray__\":\"AAAAAJ5fEUE=\",\"dtype\":\"float64\",\"order\":\"little\",\"shape\":[1]}]},\"selected\":{\"id\":\"38794\"},\"selection_policy\":{\"id\":\"38795\"}},\"id\":\"38529\",\"type\":\"ColumnDataSource\"},{\"attributes\":{},\"id\":\"38770\",\"type\":\"Selection\"},{\"attributes\":{\"_render_count\":0,\"config\":null,\"data\":[{\"hovertemplate\":\"neighbourhood=Agincourt North<br>average_house_value=%{marker.size}<br>lat=%{lat}<br>lon=%{lon}<extra></extra>\",\"legendgroup\":\"Agincourt North\",\"marker\":{\"color\":\"#636efa\",\"sizemode\":\"area\",\"sizeref\":3816.214375},\"mode\":\"markers\",\"name\":\"Agincourt North\",\"showlegend\":true,\"subplot\":\"mapbox\",\"type\":\"scattermapbox\"},{\"hovertemplate\":\"neighbourhood=Agincourt South-Malvern West<br>average_house_value=%{marker.size}<br>lat=%{lat}<br>lon=%{lon}<extra></extra>\",\"legendgroup\":\"Agincourt South-Malvern West\",\"marker\":{\"color\":\"#EF553B\",\"sizemode\":\"area\",\"sizeref\":3816.214375},\"mode\":\"markers\",\"name\":\"Agincourt South-Malvern West\",\"showlegend\":true,\"subplot\":\"mapbox\",\"type\":\"scattermapbox\"},{\"hovertemplate\":\"neighbourhood=Alderwood<br>average_house_value=%{marker.size}<br>lat=%{lat}<br>lon=%{lon}<extra></extra>\",\"legendgroup\":\"Alderwood\",\"marker\":{\"color\":\"#00cc96\",\"sizemode\":\"area\",\"sizeref\":3816.214375},\"mode\":\"markers\",\"name\":\"Alderwood\",\"showlegend\":true,\"subplot\":\"mapbox\",\"type\":\"scattermapbox\"},{\"hovertemplate\":\"neighbourhood=Annex<br>average_house_value=%{marker.size}<br>lat=%{lat}<br>lon=%{lon}<extra></extra>\",\"legendgroup\":\"Annex\",\"marker\":{\"color\":\"#ab63fa\",\"sizemode\":\"area\",\"sizeref\":3816.214375},\"mode\":\"markers\",\"name\":\"Annex\",\"showlegend\":true,\"subplot\":\"mapbox\",\"type\":\"scattermapbox\"},{\"hovertemplate\":\"neighbourhood=Banbury-Don Mills<br>average_house_value=%{marker.size}<br>lat=%{lat}<br>lon=%{lon}<extra></extra>\",\"legendgroup\":\"Banbury-Don Mills\",\"marker\":{\"color\":\"#FFA15A\",\"sizemode\":\"area\",\"sizeref\":3816.214375},\"mode\":\"markers\",\"name\":\"Banbury-Don Mills\",\"showlegend\":true,\"subplot\":\"mapbox\",\"type\":\"scattermapbox\"},{\"hovertemplate\":\"neighbourhood=Bathurst Manor<br>average_house_value=%{marker.size}<br>lat=%{lat}<br>lon=%{lon}<extra></extra>\",\"legendgroup\":\"Bathurst Manor\",\"marker\":{\"color\":\"#19d3f3\",\"sizemode\":\"area\",\"sizeref\":3816.214375},\"mode\":\"markers\",\"name\":\"Bathurst Manor\",\"showlegend\":true,\"subplot\":\"mapbox\",\"type\":\"scattermapbox\"},{\"hovertemplate\":\"neighbourhood=Bay Street Corridor<br>average_house_value=%{marker.size}<br>lat=%{lat}<br>lon=%{lon}<extra></extra>\",\"legendgroup\":\"Bay Street Corridor\",\"marker\":{\"color\":\"#FF6692\",\"sizemode\":\"area\",\"sizeref\":3816.214375},\"mode\":\"markers\",\"name\":\"Bay Street Corridor\",\"showlegend\":true,\"subplot\":\"mapbox\",\"type\":\"scattermapbox\"},{\"hovertemplate\":\"neighbourhood=Bayview Village<br>average_house_value=%{marker.size}<br>lat=%{lat}<br>lon=%{lon}<extra></extra>\",\"legendgroup\":\"Bayview Village\",\"marker\":{\"color\":\"#B6E880\",\"sizemode\":\"area\",\"sizeref\":3816.214375},\"mode\":\"markers\",\"name\":\"Bayview Village\",\"showlegend\":true,\"subplot\":\"mapbox\",\"type\":\"scattermapbox\"},{\"hovertemplate\":\"neighbourhood=Bayview Woods-Steeles<br>average_house_value=%{marker.size}<br>lat=%{lat}<br>lon=%{lon}<extra></extra>\",\"legendgroup\":\"Bayview Woods-Steeles\",\"marker\":{\"color\":\"#FF97FF\",\"sizemode\":\"area\",\"sizeref\":3816.214375},\"mode\":\"markers\",\"name\":\"Bayview Woods-Steeles\",\"showlegend\":true,\"subplot\":\"mapbox\",\"type\":\"scattermapbox\"},{\"hovertemplate\":\"neighbourhood=Bedford Park-Nortown<br>average_house_value=%{marker.size}<br>lat=%{lat}<br>lon=%{lon}<extra></extra>\",\"legendgroup\":\"Bedford Park-Nortown\",\"marker\":{\"color\":\"#FECB52\",\"sizemode\":\"area\",\"sizeref\":3816.214375},\"mode\":\"markers\",\"name\":\"Bedford Park-Nortown\",\"showlegend\":true,\"subplot\":\"mapbox\",\"type\":\"scattermapbox\"},{\"hovertemplate\":\"neighbourhood=Beechborough-Greenbrook<br>average_house_value=%{marker.size}<br>lat=%{lat}<br>lon=%{lon}<extra></extra>\",\"legendgroup\":\"Beechborough-Greenbrook\",\"marker\":{\"color\":\"#636efa\",\"sizemode\":\"area\",\"sizeref\":3816.214375},\"mode\":\"markers\",\"name\":\"Beechborough-Greenbrook\",\"showlegend\":true,\"subplot\":\"mapbox\",\"type\":\"scattermapbox\"},{\"hovertemplate\":\"neighbourhood=Bendale<br>average_house_value=%{marker.size}<br>lat=%{lat}<br>lon=%{lon}<extra></extra>\",\"legendgroup\":\"Bendale\",\"marker\":{\"color\":\"#EF553B\",\"sizemode\":\"area\",\"sizeref\":3816.214375},\"mode\":\"markers\",\"name\":\"Bendale\",\"showlegend\":true,\"subplot\":\"mapbox\",\"type\":\"scattermapbox\"},{\"hovertemplate\":\"neighbourhood=Birchcliffe-Cliffside<br>average_house_value=%{marker.size}<br>lat=%{lat}<br>lon=%{lon}<extra></extra>\",\"legendgroup\":\"Birchcliffe-Cliffside\",\"marker\":{\"color\":\"#00cc96\",\"sizemode\":\"area\",\"sizeref\":3816.214375},\"mode\":\"markers\",\"name\":\"Birchcliffe-Cliffside\",\"showlegend\":true,\"subplot\":\"mapbox\",\"type\":\"scattermapbox\"},{\"hovertemplate\":\"neighbourhood=Black Creek<br>average_house_value=%{marker.size}<br>lat=%{lat}<br>lon=%{lon}<extra></extra>\",\"legendgroup\":\"Black Creek\",\"marker\":{\"color\":\"#ab63fa\",\"sizemode\":\"area\",\"sizeref\":3816.214375},\"mode\":\"markers\",\"name\":\"Black Creek\",\"showlegend\":true,\"subplot\":\"mapbox\",\"type\":\"scattermapbox\"},{\"hovertemplate\":\"neighbourhood=Blake-Jones<br>average_house_value=%{marker.size}<br>lat=%{lat}<br>lon=%{lon}<extra></extra>\",\"legendgroup\":\"Blake-Jones\",\"marker\":{\"color\":\"#FFA15A\",\"sizemode\":\"area\",\"sizeref\":3816.214375},\"mode\":\"markers\",\"name\":\"Blake-Jones\",\"showlegend\":true,\"subplot\":\"mapbox\",\"type\":\"scattermapbox\"},{\"hovertemplate\":\"neighbourhood=Briar Hill-Belgravia<br>average_house_value=%{marker.size}<br>lat=%{lat}<br>lon=%{lon}<extra></extra>\",\"legendgroup\":\"Briar Hill-Belgravia\",\"marker\":{\"color\":\"#19d3f3\",\"sizemode\":\"area\",\"sizeref\":3816.214375},\"mode\":\"markers\",\"name\":\"Briar Hill-Belgravia\",\"showlegend\":true,\"subplot\":\"mapbox\",\"type\":\"scattermapbox\"},{\"hovertemplate\":\"neighbourhood=Bridle Path-Sunnybrook-York Mills<br>average_house_value=%{marker.size}<br>lat=%{lat}<br>lon=%{lon}<extra></extra>\",\"legendgroup\":\"Bridle Path-Sunnybrook-York Mills\",\"marker\":{\"color\":\"#FF6692\",\"sizemode\":\"area\",\"sizeref\":3816.214375},\"mode\":\"markers\",\"name\":\"Bridle Path-Sunnybrook-York Mills\",\"showlegend\":true,\"subplot\":\"mapbox\",\"type\":\"scattermapbox\"},{\"hovertemplate\":\"neighbourhood=Broadview North<br>average_house_value=%{marker.size}<br>lat=%{lat}<br>lon=%{lon}<extra></extra>\",\"legendgroup\":\"Broadview North\",\"marker\":{\"color\":\"#B6E880\",\"sizemode\":\"area\",\"sizeref\":3816.214375},\"mode\":\"markers\",\"name\":\"Broadview North\",\"showlegend\":true,\"subplot\":\"mapbox\",\"type\":\"scattermapbox\"},{\"hovertemplate\":\"neighbourhood=Brookhaven-Amesbury<br>average_house_value=%{marker.size}<br>lat=%{lat}<br>lon=%{lon}<extra></extra>\",\"legendgroup\":\"Brookhaven-Amesbury\",\"marker\":{\"color\":\"#FF97FF\",\"sizemode\":\"area\",\"sizeref\":3816.214375},\"mode\":\"markers\",\"name\":\"Brookhaven-Amesbury\",\"showlegend\":true,\"subplot\":\"mapbox\",\"type\":\"scattermapbox\"},{\"hovertemplate\":\"neighbourhood=Cabbagetown-South St.James Town<br>average_house_value=%{marker.size}<br>lat=%{lat}<br>lon=%{lon}<extra></extra>\",\"legendgroup\":\"Cabbagetown-South St.James Town\",\"marker\":{\"color\":\"#FECB52\",\"sizemode\":\"area\",\"sizeref\":3816.214375},\"mode\":\"markers\",\"name\":\"Cabbagetown-South St.James Town\",\"showlegend\":true,\"subplot\":\"mapbox\",\"type\":\"scattermapbox\"},{\"hovertemplate\":\"neighbourhood=Caledonia-Fairbank<br>average_house_value=%{marker.size}<br>lat=%{lat}<br>lon=%{lon}<extra></extra>\",\"legendgroup\":\"Caledonia-Fairbank\",\"marker\":{\"color\":\"#636efa\",\"sizemode\":\"area\",\"sizeref\":3816.214375},\"mode\":\"markers\",\"name\":\"Caledonia-Fairbank\",\"showlegend\":true,\"subplot\":\"mapbox\",\"type\":\"scattermapbox\"},{\"hovertemplate\":\"neighbourhood=Casa Loma<br>average_house_value=%{marker.size}<br>lat=%{lat}<br>lon=%{lon}<extra></extra>\",\"legendgroup\":\"Casa Loma\",\"marker\":{\"color\":\"#EF553B\",\"sizemode\":\"area\",\"sizeref\":3816.214375},\"mode\":\"markers\",\"name\":\"Casa Loma\",\"showlegend\":true,\"subplot\":\"mapbox\",\"type\":\"scattermapbox\"},{\"hovertemplate\":\"neighbourhood=Centennial Scarborough<br>average_house_value=%{marker.size}<br>lat=%{lat}<br>lon=%{lon}<extra></extra>\",\"legendgroup\":\"Centennial Scarborough\",\"marker\":{\"color\":\"#00cc96\",\"sizemode\":\"area\",\"sizeref\":3816.214375},\"mode\":\"markers\",\"name\":\"Centennial Scarborough\",\"showlegend\":true,\"subplot\":\"mapbox\",\"type\":\"scattermapbox\"},{\"hovertemplate\":\"neighbourhood=Church-Yonge Corridor<br>average_house_value=%{marker.size}<br>lat=%{lat}<br>lon=%{lon}<extra></extra>\",\"legendgroup\":\"Church-Yonge Corridor\",\"marker\":{\"color\":\"#ab63fa\",\"sizemode\":\"area\",\"sizeref\":3816.214375},\"mode\":\"markers\",\"name\":\"Church-Yonge Corridor\",\"showlegend\":true,\"subplot\":\"mapbox\",\"type\":\"scattermapbox\"},{\"hovertemplate\":\"neighbourhood=Clairlea-Birchmount<br>average_house_value=%{marker.size}<br>lat=%{lat}<br>lon=%{lon}<extra></extra>\",\"legendgroup\":\"Clairlea-Birchmount\",\"marker\":{\"color\":\"#FFA15A\",\"sizemode\":\"area\",\"sizeref\":3816.214375},\"mode\":\"markers\",\"name\":\"Clairlea-Birchmount\",\"showlegend\":true,\"subplot\":\"mapbox\",\"type\":\"scattermapbox\"},{\"hovertemplate\":\"neighbourhood=Clanton Park<br>average_house_value=%{marker.size}<br>lat=%{lat}<br>lon=%{lon}<extra></extra>\",\"legendgroup\":\"Clanton Park\",\"marker\":{\"color\":\"#19d3f3\",\"sizemode\":\"area\",\"sizeref\":3816.214375},\"mode\":\"markers\",\"name\":\"Clanton Park\",\"showlegend\":true,\"subplot\":\"mapbox\",\"type\":\"scattermapbox\"},{\"hovertemplate\":\"neighbourhood=Cliffcrest<br>average_house_value=%{marker.size}<br>lat=%{lat}<br>lon=%{lon}<extra></extra>\",\"legendgroup\":\"Cliffcrest\",\"marker\":{\"color\":\"#FF6692\",\"sizemode\":\"area\",\"sizeref\":3816.214375},\"mode\":\"markers\",\"name\":\"Cliffcrest\",\"showlegend\":true,\"subplot\":\"mapbox\",\"type\":\"scattermapbox\"},{\"hovertemplate\":\"neighbourhood=Corso Italia-Davenport<br>average_house_value=%{marker.size}<br>lat=%{lat}<br>lon=%{lon}<extra></extra>\",\"legendgroup\":\"Corso Italia-Davenport\",\"marker\":{\"color\":\"#B6E880\",\"sizemode\":\"area\",\"sizeref\":3816.214375},\"mode\":\"markers\",\"name\":\"Corso Italia-Davenport\",\"showlegend\":true,\"subplot\":\"mapbox\",\"type\":\"scattermapbox\"},{\"hovertemplate\":\"neighbourhood=Danforth<br>average_house_value=%{marker.size}<br>lat=%{lat}<br>lon=%{lon}<extra></extra>\",\"legendgroup\":\"Danforth\",\"marker\":{\"color\":\"#FF97FF\",\"sizemode\":\"area\",\"sizeref\":3816.214375},\"mode\":\"markers\",\"name\":\"Danforth\",\"showlegend\":true,\"subplot\":\"mapbox\",\"type\":\"scattermapbox\"},{\"hovertemplate\":\"neighbourhood=Danforth-East York<br>average_house_value=%{marker.size}<br>lat=%{lat}<br>lon=%{lon}<extra></extra>\",\"legendgroup\":\"Danforth-East York\",\"marker\":{\"color\":\"#FECB52\",\"sizemode\":\"area\",\"sizeref\":3816.214375},\"mode\":\"markers\",\"name\":\"Danforth-East York\",\"showlegend\":true,\"subplot\":\"mapbox\",\"type\":\"scattermapbox\"},{\"hovertemplate\":\"neighbourhood=Don Valley Village<br>average_house_value=%{marker.size}<br>lat=%{lat}<br>lon=%{lon}<extra></extra>\",\"legendgroup\":\"Don Valley Village\",\"marker\":{\"color\":\"#636efa\",\"sizemode\":\"area\",\"sizeref\":3816.214375},\"mode\":\"markers\",\"name\":\"Don Valley Village\",\"showlegend\":true,\"subplot\":\"mapbox\",\"type\":\"scattermapbox\"},{\"hovertemplate\":\"neighbourhood=Dorset Park<br>average_house_value=%{marker.size}<br>lat=%{lat}<br>lon=%{lon}<extra></extra>\",\"legendgroup\":\"Dorset Park\",\"marker\":{\"color\":\"#EF553B\",\"sizemode\":\"area\",\"sizeref\":3816.214375},\"mode\":\"markers\",\"name\":\"Dorset Park\",\"showlegend\":true,\"subplot\":\"mapbox\",\"type\":\"scattermapbox\"},{\"hovertemplate\":\"neighbourhood=Dovercourt-Wallace Emerson-Juncti<br>average_house_value=%{marker.size}<br>lat=%{lat}<br>lon=%{lon}<extra></extra>\",\"legendgroup\":\"Dovercourt-Wallace Emerson-Juncti\",\"marker\":{\"color\":\"#00cc96\",\"sizemode\":\"area\",\"sizeref\":3816.214375},\"mode\":\"markers\",\"name\":\"Dovercourt-Wallace Emerson-Juncti\",\"showlegend\":true,\"subplot\":\"mapbox\",\"type\":\"scattermapbox\"},{\"hovertemplate\":\"neighbourhood=Downsview-Roding-CFB<br>average_house_value=%{marker.size}<br>lat=%{lat}<br>lon=%{lon}<extra></extra>\",\"legendgroup\":\"Downsview-Roding-CFB\",\"marker\":{\"color\":\"#ab63fa\",\"sizemode\":\"area\",\"sizeref\":3816.214375},\"mode\":\"markers\",\"name\":\"Downsview-Roding-CFB\",\"showlegend\":true,\"subplot\":\"mapbox\",\"type\":\"scattermapbox\"},{\"hovertemplate\":\"neighbourhood=Dufferin Grove<br>average_house_value=%{marker.size}<br>lat=%{lat}<br>lon=%{lon}<extra></extra>\",\"legendgroup\":\"Dufferin Grove\",\"marker\":{\"color\":\"#FFA15A\",\"sizemode\":\"area\",\"sizeref\":3816.214375},\"mode\":\"markers\",\"name\":\"Dufferin Grove\",\"showlegend\":true,\"subplot\":\"mapbox\",\"type\":\"scattermapbox\"},{\"hovertemplate\":\"neighbourhood=East End-Danforth<br>average_house_value=%{marker.size}<br>lat=%{lat}<br>lon=%{lon}<extra></extra>\",\"legendgroup\":\"East End-Danforth\",\"marker\":{\"color\":\"#19d3f3\",\"sizemode\":\"area\",\"sizeref\":3816.214375},\"mode\":\"markers\",\"name\":\"East End-Danforth\",\"showlegend\":true,\"subplot\":\"mapbox\",\"type\":\"scattermapbox\"},{\"hovertemplate\":\"neighbourhood=Edenbridge-Humber Valley<br>average_house_value=%{marker.size}<br>lat=%{lat}<br>lon=%{lon}<extra></extra>\",\"legendgroup\":\"Edenbridge-Humber Valley\",\"marker\":{\"color\":\"#FF6692\",\"sizemode\":\"area\",\"sizeref\":3816.214375},\"mode\":\"markers\",\"name\":\"Edenbridge-Humber Valley\",\"showlegend\":true,\"subplot\":\"mapbox\",\"type\":\"scattermapbox\"},{\"hovertemplate\":\"neighbourhood=Eglinton East<br>average_house_value=%{marker.size}<br>lat=%{lat}<br>lon=%{lon}<extra></extra>\",\"legendgroup\":\"Eglinton East\",\"marker\":{\"color\":\"#B6E880\",\"sizemode\":\"area\",\"sizeref\":3816.214375},\"mode\":\"markers\",\"name\":\"Eglinton East\",\"showlegend\":true,\"subplot\":\"mapbox\",\"type\":\"scattermapbox\"},{\"hovertemplate\":\"neighbourhood=Elms-Old Rexdale<br>average_house_value=%{marker.size}<br>lat=%{lat}<br>lon=%{lon}<extra></extra>\",\"legendgroup\":\"Elms-Old Rexdale\",\"marker\":{\"color\":\"#FF97FF\",\"sizemode\":\"area\",\"sizeref\":3816.214375},\"mode\":\"markers\",\"name\":\"Elms-Old Rexdale\",\"showlegend\":true,\"subplot\":\"mapbox\",\"type\":\"scattermapbox\"},{\"hovertemplate\":\"neighbourhood=Englemount-Lawrence<br>average_house_value=%{marker.size}<br>lat=%{lat}<br>lon=%{lon}<extra></extra>\",\"legendgroup\":\"Englemount-Lawrence\",\"marker\":{\"color\":\"#FECB52\",\"sizemode\":\"area\",\"sizeref\":3816.214375},\"mode\":\"markers\",\"name\":\"Englemount-Lawrence\",\"showlegend\":true,\"subplot\":\"mapbox\",\"type\":\"scattermapbox\"},{\"hovertemplate\":\"neighbourhood=Eringate-Centennial-West Deane<br>average_house_value=%{marker.size}<br>lat=%{lat}<br>lon=%{lon}<extra></extra>\",\"legendgroup\":\"Eringate-Centennial-West Deane\",\"marker\":{\"color\":\"#636efa\",\"sizemode\":\"area\",\"sizeref\":3816.214375},\"mode\":\"markers\",\"name\":\"Eringate-Centennial-West Deane\",\"showlegend\":true,\"subplot\":\"mapbox\",\"type\":\"scattermapbox\"},{\"hovertemplate\":\"neighbourhood=Etobicoke West Mall<br>average_house_value=%{marker.size}<br>lat=%{lat}<br>lon=%{lon}<extra></extra>\",\"legendgroup\":\"Etobicoke West Mall\",\"marker\":{\"color\":\"#EF553B\",\"sizemode\":\"area\",\"sizeref\":3816.214375},\"mode\":\"markers\",\"name\":\"Etobicoke West Mall\",\"showlegend\":true,\"subplot\":\"mapbox\",\"type\":\"scattermapbox\"},{\"hovertemplate\":\"neighbourhood=Flemingdon Park<br>average_house_value=%{marker.size}<br>lat=%{lat}<br>lon=%{lon}<extra></extra>\",\"legendgroup\":\"Flemingdon Park\",\"marker\":{\"color\":\"#00cc96\",\"sizemode\":\"area\",\"sizeref\":3816.214375},\"mode\":\"markers\",\"name\":\"Flemingdon Park\",\"showlegend\":true,\"subplot\":\"mapbox\",\"type\":\"scattermapbox\"},{\"hovertemplate\":\"neighbourhood=Forest Hill North<br>average_house_value=%{marker.size}<br>lat=%{lat}<br>lon=%{lon}<extra></extra>\",\"legendgroup\":\"Forest Hill North\",\"marker\":{\"color\":\"#ab63fa\",\"sizemode\":\"area\",\"sizeref\":3816.214375},\"mode\":\"markers\",\"name\":\"Forest Hill North\",\"showlegend\":true,\"subplot\":\"mapbox\",\"type\":\"scattermapbox\"},{\"hovertemplate\":\"neighbourhood=Forest Hill South<br>average_house_value=%{marker.size}<br>lat=%{lat}<br>lon=%{lon}<extra></extra>\",\"legendgroup\":\"Forest Hill South\",\"marker\":{\"color\":\"#FFA15A\",\"sizemode\":\"area\",\"sizeref\":3816.214375},\"mode\":\"markers\",\"name\":\"Forest Hill South\",\"showlegend\":true,\"subplot\":\"mapbox\",\"type\":\"scattermapbox\"},{\"hovertemplate\":\"neighbourhood=Glenfield-Jane Heights<br>average_house_value=%{marker.size}<br>lat=%{lat}<br>lon=%{lon}<extra></extra>\",\"legendgroup\":\"Glenfield-Jane Heights\",\"marker\":{\"color\":\"#19d3f3\",\"sizemode\":\"area\",\"sizeref\":3816.214375},\"mode\":\"markers\",\"name\":\"Glenfield-Jane Heights\",\"showlegend\":true,\"subplot\":\"mapbox\",\"type\":\"scattermapbox\"},{\"hovertemplate\":\"neighbourhood=Greenwood-Coxwell<br>average_house_value=%{marker.size}<br>lat=%{lat}<br>lon=%{lon}<extra></extra>\",\"legendgroup\":\"Greenwood-Coxwell\",\"marker\":{\"color\":\"#FF6692\",\"sizemode\":\"area\",\"sizeref\":3816.214375},\"mode\":\"markers\",\"name\":\"Greenwood-Coxwell\",\"showlegend\":true,\"subplot\":\"mapbox\",\"type\":\"scattermapbox\"},{\"hovertemplate\":\"neighbourhood=Guildwood<br>average_house_value=%{marker.size}<br>lat=%{lat}<br>lon=%{lon}<extra></extra>\",\"legendgroup\":\"Guildwood\",\"marker\":{\"color\":\"#B6E880\",\"sizemode\":\"area\",\"sizeref\":3816.214375},\"mode\":\"markers\",\"name\":\"Guildwood\",\"showlegend\":true,\"subplot\":\"mapbox\",\"type\":\"scattermapbox\"},{\"hovertemplate\":\"neighbourhood=Henry Farm<br>average_house_value=%{marker.size}<br>lat=%{lat}<br>lon=%{lon}<extra></extra>\",\"legendgroup\":\"Henry Farm\",\"marker\":{\"color\":\"#FF97FF\",\"sizemode\":\"area\",\"sizeref\":3816.214375},\"mode\":\"markers\",\"name\":\"Henry Farm\",\"showlegend\":true,\"subplot\":\"mapbox\",\"type\":\"scattermapbox\"},{\"hovertemplate\":\"neighbourhood=High Park North<br>average_house_value=%{marker.size}<br>lat=%{lat}<br>lon=%{lon}<extra></extra>\",\"legendgroup\":\"High Park North\",\"marker\":{\"color\":\"#FECB52\",\"sizemode\":\"area\",\"sizeref\":3816.214375},\"mode\":\"markers\",\"name\":\"High Park North\",\"showlegend\":true,\"subplot\":\"mapbox\",\"type\":\"scattermapbox\"},{\"hovertemplate\":\"neighbourhood=High Park-Swansea<br>average_house_value=%{marker.size}<br>lat=%{lat}<br>lon=%{lon}<extra></extra>\",\"legendgroup\":\"High Park-Swansea\",\"marker\":{\"color\":\"#636efa\",\"sizemode\":\"area\",\"sizeref\":3816.214375},\"mode\":\"markers\",\"name\":\"High Park-Swansea\",\"showlegend\":true,\"subplot\":\"mapbox\",\"type\":\"scattermapbox\"},{\"hovertemplate\":\"neighbourhood=Highland Creek<br>average_house_value=%{marker.size}<br>lat=%{lat}<br>lon=%{lon}<extra></extra>\",\"legendgroup\":\"Highland Creek\",\"marker\":{\"color\":\"#EF553B\",\"sizemode\":\"area\",\"sizeref\":3816.214375},\"mode\":\"markers\",\"name\":\"Highland Creek\",\"showlegend\":true,\"subplot\":\"mapbox\",\"type\":\"scattermapbox\"},{\"hovertemplate\":\"neighbourhood=Hillcrest Village<br>average_house_value=%{marker.size}<br>lat=%{lat}<br>lon=%{lon}<extra></extra>\",\"legendgroup\":\"Hillcrest Village\",\"marker\":{\"color\":\"#00cc96\",\"sizemode\":\"area\",\"sizeref\":3816.214375},\"mode\":\"markers\",\"name\":\"Hillcrest Village\",\"showlegend\":true,\"subplot\":\"mapbox\",\"type\":\"scattermapbox\"},{\"hovertemplate\":\"neighbourhood=Humber Heights-Westmount<br>average_house_value=%{marker.size}<br>lat=%{lat}<br>lon=%{lon}<extra></extra>\",\"legendgroup\":\"Humber Heights-Westmount\",\"marker\":{\"color\":\"#ab63fa\",\"sizemode\":\"area\",\"sizeref\":3816.214375},\"mode\":\"markers\",\"name\":\"Humber Heights-Westmount\",\"showlegend\":true,\"subplot\":\"mapbox\",\"type\":\"scattermapbox\"},{\"hovertemplate\":\"neighbourhood=Humber Summit<br>average_house_value=%{marker.size}<br>lat=%{lat}<br>lon=%{lon}<extra></extra>\",\"legendgroup\":\"Humber Summit\",\"marker\":{\"color\":\"#FFA15A\",\"sizemode\":\"area\",\"sizeref\":3816.214375},\"mode\":\"markers\",\"name\":\"Humber Summit\",\"showlegend\":true,\"subplot\":\"mapbox\",\"type\":\"scattermapbox\"},{\"hovertemplate\":\"neighbourhood=Humbermede<br>average_house_value=%{marker.size}<br>lat=%{lat}<br>lon=%{lon}<extra></extra>\",\"legendgroup\":\"Humbermede\",\"marker\":{\"color\":\"#19d3f3\",\"sizemode\":\"area\",\"sizeref\":3816.214375},\"mode\":\"markers\",\"name\":\"Humbermede\",\"showlegend\":true,\"subplot\":\"mapbox\",\"type\":\"scattermapbox\"},{\"hovertemplate\":\"neighbourhood=Humewood-Cedarvale<br>average_house_value=%{marker.size}<br>lat=%{lat}<br>lon=%{lon}<extra></extra>\",\"legendgroup\":\"Humewood-Cedarvale\",\"marker\":{\"color\":\"#FF6692\",\"sizemode\":\"area\",\"sizeref\":3816.214375},\"mode\":\"markers\",\"name\":\"Humewood-Cedarvale\",\"showlegend\":true,\"subplot\":\"mapbox\",\"type\":\"scattermapbox\"},{\"hovertemplate\":\"neighbourhood=Ionview<br>average_house_value=%{marker.size}<br>lat=%{lat}<br>lon=%{lon}<extra></extra>\",\"legendgroup\":\"Ionview\",\"marker\":{\"color\":\"#B6E880\",\"sizemode\":\"area\",\"sizeref\":3816.214375},\"mode\":\"markers\",\"name\":\"Ionview\",\"showlegend\":true,\"subplot\":\"mapbox\",\"type\":\"scattermapbox\"},{\"hovertemplate\":\"neighbourhood=Islington-City Centre West<br>average_house_value=%{marker.size}<br>lat=%{lat}<br>lon=%{lon}<extra></extra>\",\"legendgroup\":\"Islington-City Centre West\",\"marker\":{\"color\":\"#FF97FF\",\"sizemode\":\"area\",\"sizeref\":3816.214375},\"mode\":\"markers\",\"name\":\"Islington-City Centre West\",\"showlegend\":true,\"subplot\":\"mapbox\",\"type\":\"scattermapbox\"},{\"hovertemplate\":\"neighbourhood=Junction Area<br>average_house_value=%{marker.size}<br>lat=%{lat}<br>lon=%{lon}<extra></extra>\",\"legendgroup\":\"Junction Area\",\"marker\":{\"color\":\"#FECB52\",\"sizemode\":\"area\",\"sizeref\":3816.214375},\"mode\":\"markers\",\"name\":\"Junction Area\",\"showlegend\":true,\"subplot\":\"mapbox\",\"type\":\"scattermapbox\"},{\"hovertemplate\":\"neighbourhood=Keelesdale-Eglinton West<br>average_house_value=%{marker.size}<br>lat=%{lat}<br>lon=%{lon}<extra></extra>\",\"legendgroup\":\"Keelesdale-Eglinton West\",\"marker\":{\"color\":\"#636efa\",\"sizemode\":\"area\",\"sizeref\":3816.214375},\"mode\":\"markers\",\"name\":\"Keelesdale-Eglinton West\",\"showlegend\":true,\"subplot\":\"mapbox\",\"type\":\"scattermapbox\"},{\"hovertemplate\":\"neighbourhood=Kennedy Park<br>average_house_value=%{marker.size}<br>lat=%{lat}<br>lon=%{lon}<extra></extra>\",\"legendgroup\":\"Kennedy Park\",\"marker\":{\"color\":\"#EF553B\",\"sizemode\":\"area\",\"sizeref\":3816.214375},\"mode\":\"markers\",\"name\":\"Kennedy Park\",\"showlegend\":true,\"subplot\":\"mapbox\",\"type\":\"scattermapbox\"},{\"hovertemplate\":\"neighbourhood=Kensington-Chinatown<br>average_house_value=%{marker.size}<br>lat=%{lat}<br>lon=%{lon}<extra></extra>\",\"legendgroup\":\"Kensington-Chinatown\",\"marker\":{\"color\":\"#00cc96\",\"sizemode\":\"area\",\"sizeref\":3816.214375},\"mode\":\"markers\",\"name\":\"Kensington-Chinatown\",\"showlegend\":true,\"subplot\":\"mapbox\",\"type\":\"scattermapbox\"},{\"hovertemplate\":\"neighbourhood=Kingsview Village-The Westway<br>average_house_value=%{marker.size}<br>lat=%{lat}<br>lon=%{lon}<extra></extra>\",\"legendgroup\":\"Kingsview Village-The Westway\",\"marker\":{\"color\":\"#ab63fa\",\"sizemode\":\"area\",\"sizeref\":3816.214375},\"mode\":\"markers\",\"name\":\"Kingsview Village-The Westway\",\"showlegend\":true,\"subplot\":\"mapbox\",\"type\":\"scattermapbox\"},{\"hovertemplate\":\"neighbourhood=Kingsway South<br>average_house_value=%{marker.size}<br>lat=%{lat}<br>lon=%{lon}<extra></extra>\",\"legendgroup\":\"Kingsway South\",\"marker\":{\"color\":\"#FFA15A\",\"sizemode\":\"area\",\"sizeref\":3816.214375},\"mode\":\"markers\",\"name\":\"Kingsway South\",\"showlegend\":true,\"subplot\":\"mapbox\",\"type\":\"scattermapbox\"},{\"hovertemplate\":\"neighbourhood=L'Amoreaux<br>average_house_value=%{marker.size}<br>lat=%{lat}<br>lon=%{lon}<extra></extra>\",\"legendgroup\":\"L'Amoreaux\",\"marker\":{\"color\":\"#19d3f3\",\"sizemode\":\"area\",\"sizeref\":3816.214375},\"mode\":\"markers\",\"name\":\"L'Amoreaux\",\"showlegend\":true,\"subplot\":\"mapbox\",\"type\":\"scattermapbox\"},{\"hovertemplate\":\"neighbourhood=Lambton Baby Point<br>average_house_value=%{marker.size}<br>lat=%{lat}<br>lon=%{lon}<extra></extra>\",\"legendgroup\":\"Lambton Baby Point\",\"marker\":{\"color\":\"#FF6692\",\"sizemode\":\"area\",\"sizeref\":3816.214375},\"mode\":\"markers\",\"name\":\"Lambton Baby Point\",\"showlegend\":true,\"subplot\":\"mapbox\",\"type\":\"scattermapbox\"},{\"hovertemplate\":\"neighbourhood=Lansing-Westgate<br>average_house_value=%{marker.size}<br>lat=%{lat}<br>lon=%{lon}<extra></extra>\",\"legendgroup\":\"Lansing-Westgate\",\"marker\":{\"color\":\"#B6E880\",\"sizemode\":\"area\",\"sizeref\":3816.214375},\"mode\":\"markers\",\"name\":\"Lansing-Westgate\",\"showlegend\":true,\"subplot\":\"mapbox\",\"type\":\"scattermapbox\"},{\"hovertemplate\":\"neighbourhood=Lawrence Park North<br>average_house_value=%{marker.size}<br>lat=%{lat}<br>lon=%{lon}<extra></extra>\",\"legendgroup\":\"Lawrence Park North\",\"marker\":{\"color\":\"#FF97FF\",\"sizemode\":\"area\",\"sizeref\":3816.214375},\"mode\":\"markers\",\"name\":\"Lawrence Park North\",\"showlegend\":true,\"subplot\":\"mapbox\",\"type\":\"scattermapbox\"},{\"hovertemplate\":\"neighbourhood=Lawrence Park South<br>average_house_value=%{marker.size}<br>lat=%{lat}<br>lon=%{lon}<extra></extra>\",\"legendgroup\":\"Lawrence Park South\",\"marker\":{\"color\":\"#FECB52\",\"sizemode\":\"area\",\"sizeref\":3816.214375},\"mode\":\"markers\",\"name\":\"Lawrence Park South\",\"showlegend\":true,\"subplot\":\"mapbox\",\"type\":\"scattermapbox\"},{\"hovertemplate\":\"neighbourhood=Leaside-Bennington<br>average_house_value=%{marker.size}<br>lat=%{lat}<br>lon=%{lon}<extra></extra>\",\"legendgroup\":\"Leaside-Bennington\",\"marker\":{\"color\":\"#636efa\",\"sizemode\":\"area\",\"sizeref\":3816.214375},\"mode\":\"markers\",\"name\":\"Leaside-Bennington\",\"showlegend\":true,\"subplot\":\"mapbox\",\"type\":\"scattermapbox\"},{\"hovertemplate\":\"neighbourhood=Little Portugal<br>average_house_value=%{marker.size}<br>lat=%{lat}<br>lon=%{lon}<extra></extra>\",\"legendgroup\":\"Little Portugal\",\"marker\":{\"color\":\"#EF553B\",\"sizemode\":\"area\",\"sizeref\":3816.214375},\"mode\":\"markers\",\"name\":\"Little Portugal\",\"showlegend\":true,\"subplot\":\"mapbox\",\"type\":\"scattermapbox\"},{\"hovertemplate\":\"neighbourhood=Long Branch<br>average_house_value=%{marker.size}<br>lat=%{lat}<br>lon=%{lon}<extra></extra>\",\"legendgroup\":\"Long Branch\",\"marker\":{\"color\":\"#00cc96\",\"sizemode\":\"area\",\"sizeref\":3816.214375},\"mode\":\"markers\",\"name\":\"Long Branch\",\"showlegend\":true,\"subplot\":\"mapbox\",\"type\":\"scattermapbox\"},{\"hovertemplate\":\"neighbourhood=Malvern<br>average_house_value=%{marker.size}<br>lat=%{lat}<br>lon=%{lon}<extra></extra>\",\"legendgroup\":\"Malvern\",\"marker\":{\"color\":\"#ab63fa\",\"sizemode\":\"area\",\"sizeref\":3816.214375},\"mode\":\"markers\",\"name\":\"Malvern\",\"showlegend\":true,\"subplot\":\"mapbox\",\"type\":\"scattermapbox\"},{\"hovertemplate\":\"neighbourhood=Maple Leaf<br>average_house_value=%{marker.size}<br>lat=%{lat}<br>lon=%{lon}<extra></extra>\",\"legendgroup\":\"Maple Leaf\",\"marker\":{\"color\":\"#FFA15A\",\"sizemode\":\"area\",\"sizeref\":3816.214375},\"mode\":\"markers\",\"name\":\"Maple Leaf\",\"showlegend\":true,\"subplot\":\"mapbox\",\"type\":\"scattermapbox\"},{\"hovertemplate\":\"neighbourhood=Markland Wood<br>average_house_value=%{marker.size}<br>lat=%{lat}<br>lon=%{lon}<extra></extra>\",\"legendgroup\":\"Markland Wood\",\"marker\":{\"color\":\"#19d3f3\",\"sizemode\":\"area\",\"sizeref\":3816.214375},\"mode\":\"markers\",\"name\":\"Markland Wood\",\"showlegend\":true,\"subplot\":\"mapbox\",\"type\":\"scattermapbox\"},{\"hovertemplate\":\"neighbourhood=Milliken<br>average_house_value=%{marker.size}<br>lat=%{lat}<br>lon=%{lon}<extra></extra>\",\"legendgroup\":\"Milliken\",\"marker\":{\"color\":\"#FF6692\",\"sizemode\":\"area\",\"sizeref\":3816.214375},\"mode\":\"markers\",\"name\":\"Milliken\",\"showlegend\":true,\"subplot\":\"mapbox\",\"type\":\"scattermapbox\"},{\"hovertemplate\":\"neighbourhood=Mimico<br>average_house_value=%{marker.size}<br>lat=%{lat}<br>lon=%{lon}<extra></extra>\",\"legendgroup\":\"Mimico\",\"marker\":{\"color\":\"#B6E880\",\"sizemode\":\"area\",\"sizeref\":3816.214375},\"mode\":\"markers\",\"name\":\"Mimico\",\"showlegend\":true,\"subplot\":\"mapbox\",\"type\":\"scattermapbox\"},{\"hovertemplate\":\"neighbourhood=Morningside<br>average_house_value=%{marker.size}<br>lat=%{lat}<br>lon=%{lon}<extra></extra>\",\"legendgroup\":\"Morningside\",\"marker\":{\"color\":\"#FF97FF\",\"sizemode\":\"area\",\"sizeref\":3816.214375},\"mode\":\"markers\",\"name\":\"Morningside\",\"showlegend\":true,\"subplot\":\"mapbox\",\"type\":\"scattermapbox\"},{\"hovertemplate\":\"neighbourhood=Moss Park<br>average_house_value=%{marker.size}<br>lat=%{lat}<br>lon=%{lon}<extra></extra>\",\"legendgroup\":\"Moss Park\",\"marker\":{\"color\":\"#FECB52\",\"sizemode\":\"area\",\"sizeref\":3816.214375},\"mode\":\"markers\",\"name\":\"Moss Park\",\"showlegend\":true,\"subplot\":\"mapbox\",\"type\":\"scattermapbox\"},{\"hovertemplate\":\"neighbourhood=Mount Dennis<br>average_house_value=%{marker.size}<br>lat=%{lat}<br>lon=%{lon}<extra></extra>\",\"legendgroup\":\"Mount Dennis\",\"marker\":{\"color\":\"#636efa\",\"sizemode\":\"area\",\"sizeref\":3816.214375},\"mode\":\"markers\",\"name\":\"Mount Dennis\",\"showlegend\":true,\"subplot\":\"mapbox\",\"type\":\"scattermapbox\"},{\"hovertemplate\":\"neighbourhood=Mount Olive-Silverstone-Jamestown<br>average_house_value=%{marker.size}<br>lat=%{lat}<br>lon=%{lon}<extra></extra>\",\"legendgroup\":\"Mount Olive-Silverstone-Jamestown\",\"marker\":{\"color\":\"#EF553B\",\"sizemode\":\"area\",\"sizeref\":3816.214375},\"mode\":\"markers\",\"name\":\"Mount Olive-Silverstone-Jamestown\",\"showlegend\":true,\"subplot\":\"mapbox\",\"type\":\"scattermapbox\"},{\"hovertemplate\":\"neighbourhood=Mount Pleasant East<br>average_house_value=%{marker.size}<br>lat=%{lat}<br>lon=%{lon}<extra></extra>\",\"legendgroup\":\"Mount Pleasant East\",\"marker\":{\"color\":\"#00cc96\",\"sizemode\":\"area\",\"sizeref\":3816.214375},\"mode\":\"markers\",\"name\":\"Mount Pleasant East\",\"showlegend\":true,\"subplot\":\"mapbox\",\"type\":\"scattermapbox\"},{\"hovertemplate\":\"neighbourhood=Mount Pleasant West<br>average_house_value=%{marker.size}<br>lat=%{lat}<br>lon=%{lon}<extra></extra>\",\"legendgroup\":\"Mount Pleasant West\",\"marker\":{\"color\":\"#ab63fa\",\"sizemode\":\"area\",\"sizeref\":3816.214375},\"mode\":\"markers\",\"name\":\"Mount Pleasant West\",\"showlegend\":true,\"subplot\":\"mapbox\",\"type\":\"scattermapbox\"},{\"hovertemplate\":\"neighbourhood=New Toronto<br>average_house_value=%{marker.size}<br>lat=%{lat}<br>lon=%{lon}<extra></extra>\",\"legendgroup\":\"New Toronto\",\"marker\":{\"color\":\"#FFA15A\",\"sizemode\":\"area\",\"sizeref\":3816.214375},\"mode\":\"markers\",\"name\":\"New Toronto\",\"showlegend\":true,\"subplot\":\"mapbox\",\"type\":\"scattermapbox\"},{\"hovertemplate\":\"neighbourhood=Newtonbrook East<br>average_house_value=%{marker.size}<br>lat=%{lat}<br>lon=%{lon}<extra></extra>\",\"legendgroup\":\"Newtonbrook East\",\"marker\":{\"color\":\"#19d3f3\",\"sizemode\":\"area\",\"sizeref\":3816.214375},\"mode\":\"markers\",\"name\":\"Newtonbrook East\",\"showlegend\":true,\"subplot\":\"mapbox\",\"type\":\"scattermapbox\"},{\"hovertemplate\":\"neighbourhood=Newtonbrook West<br>average_house_value=%{marker.size}<br>lat=%{lat}<br>lon=%{lon}<extra></extra>\",\"legendgroup\":\"Newtonbrook West\",\"marker\":{\"color\":\"#FF6692\",\"sizemode\":\"area\",\"sizeref\":3816.214375},\"mode\":\"markers\",\"name\":\"Newtonbrook West\",\"showlegend\":true,\"subplot\":\"mapbox\",\"type\":\"scattermapbox\"},{\"hovertemplate\":\"neighbourhood=Niagara<br>average_house_value=%{marker.size}<br>lat=%{lat}<br>lon=%{lon}<extra></extra>\",\"legendgroup\":\"Niagara\",\"marker\":{\"color\":\"#B6E880\",\"sizemode\":\"area\",\"sizeref\":3816.214375},\"mode\":\"markers\",\"name\":\"Niagara\",\"showlegend\":true,\"subplot\":\"mapbox\",\"type\":\"scattermapbox\"},{\"hovertemplate\":\"neighbourhood=North Riverdale<br>average_house_value=%{marker.size}<br>lat=%{lat}<br>lon=%{lon}<extra></extra>\",\"legendgroup\":\"North Riverdale\",\"marker\":{\"color\":\"#FF97FF\",\"sizemode\":\"area\",\"sizeref\":3816.214375},\"mode\":\"markers\",\"name\":\"North Riverdale\",\"showlegend\":true,\"subplot\":\"mapbox\",\"type\":\"scattermapbox\"},{\"hovertemplate\":\"neighbourhood=North St.James Town<br>average_house_value=%{marker.size}<br>lat=%{lat}<br>lon=%{lon}<extra></extra>\",\"legendgroup\":\"North St.James Town\",\"marker\":{\"color\":\"#FECB52\",\"sizemode\":\"area\",\"sizeref\":3816.214375},\"mode\":\"markers\",\"name\":\"North St.James Town\",\"showlegend\":true,\"subplot\":\"mapbox\",\"type\":\"scattermapbox\"},{\"hovertemplate\":\"neighbourhood=O'Connor-Parkview<br>average_house_value=%{marker.size}<br>lat=%{lat}<br>lon=%{lon}<extra></extra>\",\"legendgroup\":\"O'Connor-Parkview\",\"marker\":{\"color\":\"#636efa\",\"sizemode\":\"area\",\"sizeref\":3816.214375},\"mode\":\"markers\",\"name\":\"O'Connor-Parkview\",\"showlegend\":true,\"subplot\":\"mapbox\",\"type\":\"scattermapbox\"},{\"hovertemplate\":\"neighbourhood=Oakridge<br>average_house_value=%{marker.size}<br>lat=%{lat}<br>lon=%{lon}<extra></extra>\",\"legendgroup\":\"Oakridge\",\"marker\":{\"color\":\"#EF553B\",\"sizemode\":\"area\",\"sizeref\":3816.214375},\"mode\":\"markers\",\"name\":\"Oakridge\",\"showlegend\":true,\"subplot\":\"mapbox\",\"type\":\"scattermapbox\"},{\"hovertemplate\":\"neighbourhood=Oakwood Village<br>average_house_value=%{marker.size}<br>lat=%{lat}<br>lon=%{lon}<extra></extra>\",\"legendgroup\":\"Oakwood Village\",\"marker\":{\"color\":\"#00cc96\",\"sizemode\":\"area\",\"sizeref\":3816.214375},\"mode\":\"markers\",\"name\":\"Oakwood Village\",\"showlegend\":true,\"subplot\":\"mapbox\",\"type\":\"scattermapbox\"},{\"hovertemplate\":\"neighbourhood=Old East York<br>average_house_value=%{marker.size}<br>lat=%{lat}<br>lon=%{lon}<extra></extra>\",\"legendgroup\":\"Old East York\",\"marker\":{\"color\":\"#ab63fa\",\"sizemode\":\"area\",\"sizeref\":3816.214375},\"mode\":\"markers\",\"name\":\"Old East York\",\"showlegend\":true,\"subplot\":\"mapbox\",\"type\":\"scattermapbox\"},{\"hovertemplate\":\"neighbourhood=Palmerston-Little Italy<br>average_house_value=%{marker.size}<br>lat=%{lat}<br>lon=%{lon}<extra></extra>\",\"legendgroup\":\"Palmerston-Little Italy\",\"marker\":{\"color\":\"#FFA15A\",\"sizemode\":\"area\",\"sizeref\":3816.214375},\"mode\":\"markers\",\"name\":\"Palmerston-Little Italy\",\"showlegend\":true,\"subplot\":\"mapbox\",\"type\":\"scattermapbox\"},{\"hovertemplate\":\"neighbourhood=Parkwoods-Donalda<br>average_house_value=%{marker.size}<br>lat=%{lat}<br>lon=%{lon}<extra></extra>\",\"legendgroup\":\"Parkwoods-Donalda\",\"marker\":{\"color\":\"#19d3f3\",\"sizemode\":\"area\",\"sizeref\":3816.214375},\"mode\":\"markers\",\"name\":\"Parkwoods-Donalda\",\"showlegend\":true,\"subplot\":\"mapbox\",\"type\":\"scattermapbox\"},{\"hovertemplate\":\"neighbourhood=Pelmo Park-Humberlea<br>average_house_value=%{marker.size}<br>lat=%{lat}<br>lon=%{lon}<extra></extra>\",\"legendgroup\":\"Pelmo Park-Humberlea\",\"marker\":{\"color\":\"#FF6692\",\"sizemode\":\"area\",\"sizeref\":3816.214375},\"mode\":\"markers\",\"name\":\"Pelmo Park-Humberlea\",\"showlegend\":true,\"subplot\":\"mapbox\",\"type\":\"scattermapbox\"},{\"hovertemplate\":\"neighbourhood=Playter Estates-Danforth<br>average_house_value=%{marker.size}<br>lat=%{lat}<br>lon=%{lon}<extra></extra>\",\"legendgroup\":\"Playter Estates-Danforth\",\"marker\":{\"color\":\"#B6E880\",\"sizemode\":\"area\",\"sizeref\":3816.214375},\"mode\":\"markers\",\"name\":\"Playter Estates-Danforth\",\"showlegend\":true,\"subplot\":\"mapbox\",\"type\":\"scattermapbox\"},{\"hovertemplate\":\"neighbourhood=Pleasant View<br>average_house_value=%{marker.size}<br>lat=%{lat}<br>lon=%{lon}<extra></extra>\",\"legendgroup\":\"Pleasant View\",\"marker\":{\"color\":\"#FF97FF\",\"sizemode\":\"area\",\"sizeref\":3816.214375},\"mode\":\"markers\",\"name\":\"Pleasant View\",\"showlegend\":true,\"subplot\":\"mapbox\",\"type\":\"scattermapbox\"},{\"hovertemplate\":\"neighbourhood=Princess-Rosethorn<br>average_house_value=%{marker.size}<br>lat=%{lat}<br>lon=%{lon}<extra></extra>\",\"legendgroup\":\"Princess-Rosethorn\",\"marker\":{\"color\":\"#FECB52\",\"sizemode\":\"area\",\"sizeref\":3816.214375},\"mode\":\"markers\",\"name\":\"Princess-Rosethorn\",\"showlegend\":true,\"subplot\":\"mapbox\",\"type\":\"scattermapbox\"},{\"hovertemplate\":\"neighbourhood=Regent Park<br>average_house_value=%{marker.size}<br>lat=%{lat}<br>lon=%{lon}<extra></extra>\",\"legendgroup\":\"Regent Park\",\"marker\":{\"color\":\"#636efa\",\"sizemode\":\"area\",\"sizeref\":3816.214375},\"mode\":\"markers\",\"name\":\"Regent Park\",\"showlegend\":true,\"subplot\":\"mapbox\",\"type\":\"scattermapbox\"},{\"hovertemplate\":\"neighbourhood=Rexdale-Kipling<br>average_house_value=%{marker.size}<br>lat=%{lat}<br>lon=%{lon}<extra></extra>\",\"legendgroup\":\"Rexdale-Kipling\",\"marker\":{\"color\":\"#EF553B\",\"sizemode\":\"area\",\"sizeref\":3816.214375},\"mode\":\"markers\",\"name\":\"Rexdale-Kipling\",\"showlegend\":true,\"subplot\":\"mapbox\",\"type\":\"scattermapbox\"},{\"hovertemplate\":\"neighbourhood=Rockcliffe-Smythe<br>average_house_value=%{marker.size}<br>lat=%{lat}<br>lon=%{lon}<extra></extra>\",\"legendgroup\":\"Rockcliffe-Smythe\",\"marker\":{\"color\":\"#00cc96\",\"sizemode\":\"area\",\"sizeref\":3816.214375},\"mode\":\"markers\",\"name\":\"Rockcliffe-Smythe\",\"showlegend\":true,\"subplot\":\"mapbox\",\"type\":\"scattermapbox\"},{\"hovertemplate\":\"neighbourhood=Roncesvalles<br>average_house_value=%{marker.size}<br>lat=%{lat}<br>lon=%{lon}<extra></extra>\",\"legendgroup\":\"Roncesvalles\",\"marker\":{\"color\":\"#ab63fa\",\"sizemode\":\"area\",\"sizeref\":3816.214375},\"mode\":\"markers\",\"name\":\"Roncesvalles\",\"showlegend\":true,\"subplot\":\"mapbox\",\"type\":\"scattermapbox\"},{\"hovertemplate\":\"neighbourhood=Rosedale-Moore Park<br>average_house_value=%{marker.size}<br>lat=%{lat}<br>lon=%{lon}<extra></extra>\",\"legendgroup\":\"Rosedale-Moore Park\",\"marker\":{\"color\":\"#FFA15A\",\"sizemode\":\"area\",\"sizeref\":3816.214375},\"mode\":\"markers\",\"name\":\"Rosedale-Moore Park\",\"showlegend\":true,\"subplot\":\"mapbox\",\"type\":\"scattermapbox\"},{\"hovertemplate\":\"neighbourhood=Rouge<br>average_house_value=%{marker.size}<br>lat=%{lat}<br>lon=%{lon}<extra></extra>\",\"legendgroup\":\"Rouge\",\"marker\":{\"color\":\"#19d3f3\",\"sizemode\":\"area\",\"sizeref\":3816.214375},\"mode\":\"markers\",\"name\":\"Rouge\",\"showlegend\":true,\"subplot\":\"mapbox\",\"type\":\"scattermapbox\"},{\"hovertemplate\":\"neighbourhood=Runnymede-Bloor West Village<br>average_house_value=%{marker.size}<br>lat=%{lat}<br>lon=%{lon}<extra></extra>\",\"legendgroup\":\"Runnymede-Bloor West Village\",\"marker\":{\"color\":\"#FF6692\",\"sizemode\":\"area\",\"sizeref\":3816.214375},\"mode\":\"markers\",\"name\":\"Runnymede-Bloor West Village\",\"showlegend\":true,\"subplot\":\"mapbox\",\"type\":\"scattermapbox\"},{\"hovertemplate\":\"neighbourhood=Rustic<br>average_house_value=%{marker.size}<br>lat=%{lat}<br>lon=%{lon}<extra></extra>\",\"legendgroup\":\"Rustic\",\"marker\":{\"color\":\"#B6E880\",\"sizemode\":\"area\",\"sizeref\":3816.214375},\"mode\":\"markers\",\"name\":\"Rustic\",\"showlegend\":true,\"subplot\":\"mapbox\",\"type\":\"scattermapbox\"},{\"hovertemplate\":\"neighbourhood=Scarborough Village<br>average_house_value=%{marker.size}<br>lat=%{lat}<br>lon=%{lon}<extra></extra>\",\"legendgroup\":\"Scarborough Village\",\"marker\":{\"color\":\"#FF97FF\",\"sizemode\":\"area\",\"sizeref\":3816.214375},\"mode\":\"markers\",\"name\":\"Scarborough Village\",\"showlegend\":true,\"subplot\":\"mapbox\",\"type\":\"scattermapbox\"},{\"hovertemplate\":\"neighbourhood=South Parkdale<br>average_house_value=%{marker.size}<br>lat=%{lat}<br>lon=%{lon}<extra></extra>\",\"legendgroup\":\"South Parkdale\",\"marker\":{\"color\":\"#FECB52\",\"sizemode\":\"area\",\"sizeref\":3816.214375},\"mode\":\"markers\",\"name\":\"South Parkdale\",\"showlegend\":true,\"subplot\":\"mapbox\",\"type\":\"scattermapbox\"},{\"hovertemplate\":\"neighbourhood=South Riverdale<br>average_house_value=%{marker.size}<br>lat=%{lat}<br>lon=%{lon}<extra></extra>\",\"legendgroup\":\"South Riverdale\",\"marker\":{\"color\":\"#636efa\",\"sizemode\":\"area\",\"sizeref\":3816.214375},\"mode\":\"markers\",\"name\":\"South Riverdale\",\"showlegend\":true,\"subplot\":\"mapbox\",\"type\":\"scattermapbox\"},{\"hovertemplate\":\"neighbourhood=St.Andrew-Windfields<br>average_house_value=%{marker.size}<br>lat=%{lat}<br>lon=%{lon}<extra></extra>\",\"legendgroup\":\"St.Andrew-Windfields\",\"marker\":{\"color\":\"#EF553B\",\"sizemode\":\"area\",\"sizeref\":3816.214375},\"mode\":\"markers\",\"name\":\"St.Andrew-Windfields\",\"showlegend\":true,\"subplot\":\"mapbox\",\"type\":\"scattermapbox\"},{\"hovertemplate\":\"neighbourhood=Steeles<br>average_house_value=%{marker.size}<br>lat=%{lat}<br>lon=%{lon}<extra></extra>\",\"legendgroup\":\"Steeles\",\"marker\":{\"color\":\"#00cc96\",\"sizemode\":\"area\",\"sizeref\":3816.214375},\"mode\":\"markers\",\"name\":\"Steeles\",\"showlegend\":true,\"subplot\":\"mapbox\",\"type\":\"scattermapbox\"},{\"hovertemplate\":\"neighbourhood=Stonegate-Queensway<br>average_house_value=%{marker.size}<br>lat=%{lat}<br>lon=%{lon}<extra></extra>\",\"legendgroup\":\"Stonegate-Queensway\",\"marker\":{\"color\":\"#ab63fa\",\"sizemode\":\"area\",\"sizeref\":3816.214375},\"mode\":\"markers\",\"name\":\"Stonegate-Queensway\",\"showlegend\":true,\"subplot\":\"mapbox\",\"type\":\"scattermapbox\"},{\"hovertemplate\":\"neighbourhood=Tam O'Shanter-Sullivan<br>average_house_value=%{marker.size}<br>lat=%{lat}<br>lon=%{lon}<extra></extra>\",\"legendgroup\":\"Tam O'Shanter-Sullivan\",\"marker\":{\"color\":\"#FFA15A\",\"sizemode\":\"area\",\"sizeref\":3816.214375},\"mode\":\"markers\",\"name\":\"Tam O'Shanter-Sullivan\",\"showlegend\":true,\"subplot\":\"mapbox\",\"type\":\"scattermapbox\"},{\"hovertemplate\":\"neighbourhood=Taylor-Massey<br>average_house_value=%{marker.size}<br>lat=%{lat}<br>lon=%{lon}<extra></extra>\",\"legendgroup\":\"Taylor-Massey\",\"marker\":{\"color\":\"#19d3f3\",\"sizemode\":\"area\",\"sizeref\":3816.214375},\"mode\":\"markers\",\"name\":\"Taylor-Massey\",\"showlegend\":true,\"subplot\":\"mapbox\",\"type\":\"scattermapbox\"},{\"hovertemplate\":\"neighbourhood=The Beaches<br>average_house_value=%{marker.size}<br>lat=%{lat}<br>lon=%{lon}<extra></extra>\",\"legendgroup\":\"The Beaches\",\"marker\":{\"color\":\"#FF6692\",\"sizemode\":\"area\",\"sizeref\":3816.214375},\"mode\":\"markers\",\"name\":\"The Beaches\",\"showlegend\":true,\"subplot\":\"mapbox\",\"type\":\"scattermapbox\"},{\"hovertemplate\":\"neighbourhood=Thistletown-Beaumond Heights<br>average_house_value=%{marker.size}<br>lat=%{lat}<br>lon=%{lon}<extra></extra>\",\"legendgroup\":\"Thistletown-Beaumond Heights\",\"marker\":{\"color\":\"#B6E880\",\"sizemode\":\"area\",\"sizeref\":3816.214375},\"mode\":\"markers\",\"name\":\"Thistletown-Beaumond Heights\",\"showlegend\":true,\"subplot\":\"mapbox\",\"type\":\"scattermapbox\"},{\"hovertemplate\":\"neighbourhood=Thorncliffe Park<br>average_house_value=%{marker.size}<br>lat=%{lat}<br>lon=%{lon}<extra></extra>\",\"legendgroup\":\"Thorncliffe Park\",\"marker\":{\"color\":\"#FF97FF\",\"sizemode\":\"area\",\"sizeref\":3816.214375},\"mode\":\"markers\",\"name\":\"Thorncliffe Park\",\"showlegend\":true,\"subplot\":\"mapbox\",\"type\":\"scattermapbox\"},{\"hovertemplate\":\"neighbourhood=Trinity-Bellwoods<br>average_house_value=%{marker.size}<br>lat=%{lat}<br>lon=%{lon}<extra></extra>\",\"legendgroup\":\"Trinity-Bellwoods\",\"marker\":{\"color\":\"#FECB52\",\"sizemode\":\"area\",\"sizeref\":3816.214375},\"mode\":\"markers\",\"name\":\"Trinity-Bellwoods\",\"showlegend\":true,\"subplot\":\"mapbox\",\"type\":\"scattermapbox\"},{\"hovertemplate\":\"neighbourhood=University<br>average_house_value=%{marker.size}<br>lat=%{lat}<br>lon=%{lon}<extra></extra>\",\"legendgroup\":\"University\",\"marker\":{\"color\":\"#636efa\",\"sizemode\":\"area\",\"sizeref\":3816.214375},\"mode\":\"markers\",\"name\":\"University\",\"showlegend\":true,\"subplot\":\"mapbox\",\"type\":\"scattermapbox\"},{\"hovertemplate\":\"neighbourhood=Victoria Village<br>average_house_value=%{marker.size}<br>lat=%{lat}<br>lon=%{lon}<extra></extra>\",\"legendgroup\":\"Victoria Village\",\"marker\":{\"color\":\"#EF553B\",\"sizemode\":\"area\",\"sizeref\":3816.214375},\"mode\":\"markers\",\"name\":\"Victoria Village\",\"showlegend\":true,\"subplot\":\"mapbox\",\"type\":\"scattermapbox\"},{\"hovertemplate\":\"neighbourhood=Waterfront Communities-The Island<br>average_house_value=%{marker.size}<br>lat=%{lat}<br>lon=%{lon}<extra></extra>\",\"legendgroup\":\"Waterfront Communities-The Island\",\"marker\":{\"color\":\"#00cc96\",\"sizemode\":\"area\",\"sizeref\":3816.214375},\"mode\":\"markers\",\"name\":\"Waterfront Communities-The Island\",\"showlegend\":true,\"subplot\":\"mapbox\",\"type\":\"scattermapbox\"},{\"hovertemplate\":\"neighbourhood=West Hill<br>average_house_value=%{marker.size}<br>lat=%{lat}<br>lon=%{lon}<extra></extra>\",\"legendgroup\":\"West Hill\",\"marker\":{\"color\":\"#ab63fa\",\"sizemode\":\"area\",\"sizeref\":3816.214375},\"mode\":\"markers\",\"name\":\"West Hill\",\"showlegend\":true,\"subplot\":\"mapbox\",\"type\":\"scattermapbox\"},{\"hovertemplate\":\"neighbourhood=West Humber-Clairville<br>average_house_value=%{marker.size}<br>lat=%{lat}<br>lon=%{lon}<extra></extra>\",\"legendgroup\":\"West Humber-Clairville\",\"marker\":{\"color\":\"#FFA15A\",\"sizemode\":\"area\",\"sizeref\":3816.214375},\"mode\":\"markers\",\"name\":\"West Humber-Clairville\",\"showlegend\":true,\"subplot\":\"mapbox\",\"type\":\"scattermapbox\"},{\"hovertemplate\":\"neighbourhood=Westminster-Branson<br>average_house_value=%{marker.size}<br>lat=%{lat}<br>lon=%{lon}<extra></extra>\",\"legendgroup\":\"Westminster-Branson\",\"marker\":{\"color\":\"#19d3f3\",\"sizemode\":\"area\",\"sizeref\":3816.214375},\"mode\":\"markers\",\"name\":\"Westminster-Branson\",\"showlegend\":true,\"subplot\":\"mapbox\",\"type\":\"scattermapbox\"},{\"hovertemplate\":\"neighbourhood=Weston<br>average_house_value=%{marker.size}<br>lat=%{lat}<br>lon=%{lon}<extra></extra>\",\"legendgroup\":\"Weston\",\"marker\":{\"color\":\"#FF6692\",\"sizemode\":\"area\",\"sizeref\":3816.214375},\"mode\":\"markers\",\"name\":\"Weston\",\"showlegend\":true,\"subplot\":\"mapbox\",\"type\":\"scattermapbox\"},{\"hovertemplate\":\"neighbourhood=Weston-Pellam Park<br>average_house_value=%{marker.size}<br>lat=%{lat}<br>lon=%{lon}<extra></extra>\",\"legendgroup\":\"Weston-Pellam Park\",\"marker\":{\"color\":\"#B6E880\",\"sizemode\":\"area\",\"sizeref\":3816.214375},\"mode\":\"markers\",\"name\":\"Weston-Pellam Park\",\"showlegend\":true,\"subplot\":\"mapbox\",\"type\":\"scattermapbox\"},{\"hovertemplate\":\"neighbourhood=Wexford/Maryvale<br>average_house_value=%{marker.size}<br>lat=%{lat}<br>lon=%{lon}<extra></extra>\",\"legendgroup\":\"Wexford/Maryvale\",\"marker\":{\"color\":\"#FF97FF\",\"sizemode\":\"area\",\"sizeref\":3816.214375},\"mode\":\"markers\",\"name\":\"Wexford/Maryvale\",\"showlegend\":true,\"subplot\":\"mapbox\",\"type\":\"scattermapbox\"},{\"hovertemplate\":\"neighbourhood=Willowdale East<br>average_house_value=%{marker.size}<br>lat=%{lat}<br>lon=%{lon}<extra></extra>\",\"legendgroup\":\"Willowdale East\",\"marker\":{\"color\":\"#FECB52\",\"sizemode\":\"area\",\"sizeref\":3816.214375},\"mode\":\"markers\",\"name\":\"Willowdale East\",\"showlegend\":true,\"subplot\":\"mapbox\",\"type\":\"scattermapbox\"},{\"hovertemplate\":\"neighbourhood=Willowdale West<br>average_house_value=%{marker.size}<br>lat=%{lat}<br>lon=%{lon}<extra></extra>\",\"legendgroup\":\"Willowdale West\",\"marker\":{\"color\":\"#636efa\",\"sizemode\":\"area\",\"sizeref\":3816.214375},\"mode\":\"markers\",\"name\":\"Willowdale West\",\"showlegend\":true,\"subplot\":\"mapbox\",\"type\":\"scattermapbox\"},{\"hovertemplate\":\"neighbourhood=Willowridge-Martingrove-Richview<br>average_house_value=%{marker.size}<br>lat=%{lat}<br>lon=%{lon}<extra></extra>\",\"legendgroup\":\"Willowridge-Martingrove-Richview\",\"marker\":{\"color\":\"#EF553B\",\"sizemode\":\"area\",\"sizeref\":3816.214375},\"mode\":\"markers\",\"name\":\"Willowridge-Martingrove-Richview\",\"showlegend\":true,\"subplot\":\"mapbox\",\"type\":\"scattermapbox\"},{\"hovertemplate\":\"neighbourhood=Woburn<br>average_house_value=%{marker.size}<br>lat=%{lat}<br>lon=%{lon}<extra></extra>\",\"legendgroup\":\"Woburn\",\"marker\":{\"color\":\"#00cc96\",\"sizemode\":\"area\",\"sizeref\":3816.214375},\"mode\":\"markers\",\"name\":\"Woburn\",\"showlegend\":true,\"subplot\":\"mapbox\",\"type\":\"scattermapbox\"},{\"hovertemplate\":\"neighbourhood=Woodbine Corridor<br>average_house_value=%{marker.size}<br>lat=%{lat}<br>lon=%{lon}<extra></extra>\",\"legendgroup\":\"Woodbine Corridor\",\"marker\":{\"color\":\"#ab63fa\",\"sizemode\":\"area\",\"sizeref\":3816.214375},\"mode\":\"markers\",\"name\":\"Woodbine Corridor\",\"showlegend\":true,\"subplot\":\"mapbox\",\"type\":\"scattermapbox\"},{\"hovertemplate\":\"neighbourhood=Woodbine-Lumsden<br>average_house_value=%{marker.size}<br>lat=%{lat}<br>lon=%{lon}<extra></extra>\",\"legendgroup\":\"Woodbine-Lumsden\",\"marker\":{\"color\":\"#FFA15A\",\"sizemode\":\"area\",\"sizeref\":3816.214375},\"mode\":\"markers\",\"name\":\"Woodbine-Lumsden\",\"showlegend\":true,\"subplot\":\"mapbox\",\"type\":\"scattermapbox\"},{\"hovertemplate\":\"neighbourhood=Wychwood<br>average_house_value=%{marker.size}<br>lat=%{lat}<br>lon=%{lon}<extra></extra>\",\"legendgroup\":\"Wychwood\",\"marker\":{\"color\":\"#19d3f3\",\"sizemode\":\"area\",\"sizeref\":3816.214375},\"mode\":\"markers\",\"name\":\"Wychwood\",\"showlegend\":true,\"subplot\":\"mapbox\",\"type\":\"scattermapbox\"},{\"hovertemplate\":\"neighbourhood=Yonge-Eglinton<br>average_house_value=%{marker.size}<br>lat=%{lat}<br>lon=%{lon}<extra></extra>\",\"legendgroup\":\"Yonge-Eglinton\",\"marker\":{\"color\":\"#FF6692\",\"sizemode\":\"area\",\"sizeref\":3816.214375},\"mode\":\"markers\",\"name\":\"Yonge-Eglinton\",\"showlegend\":true,\"subplot\":\"mapbox\",\"type\":\"scattermapbox\"},{\"hovertemplate\":\"neighbourhood=Yonge-St.Clair<br>average_house_value=%{marker.size}<br>lat=%{lat}<br>lon=%{lon}<extra></extra>\",\"legendgroup\":\"Yonge-St.Clair\",\"marker\":{\"color\":\"#B6E880\",\"sizemode\":\"area\",\"sizeref\":3816.214375},\"mode\":\"markers\",\"name\":\"Yonge-St.Clair\",\"showlegend\":true,\"subplot\":\"mapbox\",\"type\":\"scattermapbox\"},{\"hovertemplate\":\"neighbourhood=York University Heights<br>average_house_value=%{marker.size}<br>lat=%{lat}<br>lon=%{lon}<extra></extra>\",\"legendgroup\":\"York University Heights\",\"marker\":{\"color\":\"#FF97FF\",\"sizemode\":\"area\",\"sizeref\":3816.214375},\"mode\":\"markers\",\"name\":\"York University Heights\",\"showlegend\":true,\"subplot\":\"mapbox\",\"type\":\"scattermapbox\"},{\"hovertemplate\":\"neighbourhood=Yorkdale-Glen Park<br>average_house_value=%{marker.size}<br>lat=%{lat}<br>lon=%{lon}<extra></extra>\",\"legendgroup\":\"Yorkdale-Glen Park\",\"marker\":{\"color\":\"#FECB52\",\"sizemode\":\"area\",\"sizeref\":3816.214375},\"mode\":\"markers\",\"name\":\"Yorkdale-Glen Park\",\"showlegend\":true,\"subplot\":\"mapbox\",\"type\":\"scattermapbox\"}],\"data_sources\":[{\"id\":\"38406\"},{\"id\":\"38407\"},{\"id\":\"38408\"},{\"id\":\"38409\"},{\"id\":\"38410\"},{\"id\":\"38411\"},{\"id\":\"38412\"},{\"id\":\"38413\"},{\"id\":\"38414\"},{\"id\":\"38415\"},{\"id\":\"38416\"},{\"id\":\"38417\"},{\"id\":\"38418\"},{\"id\":\"38419\"},{\"id\":\"38420\"},{\"id\":\"38421\"},{\"id\":\"38422\"},{\"id\":\"38423\"},{\"id\":\"38424\"},{\"id\":\"38425\"},{\"id\":\"38426\"},{\"id\":\"38427\"},{\"id\":\"38428\"},{\"id\":\"38429\"},{\"id\":\"38430\"},{\"id\":\"38431\"},{\"id\":\"38432\"},{\"id\":\"38433\"},{\"id\":\"38434\"},{\"id\":\"38435\"},{\"id\":\"38436\"},{\"id\":\"38437\"},{\"id\":\"38438\"},{\"id\":\"38439\"},{\"id\":\"38440\"},{\"id\":\"38441\"},{\"id\":\"38442\"},{\"id\":\"38443\"},{\"id\":\"38444\"},{\"id\":\"38445\"},{\"id\":\"38446\"},{\"id\":\"38447\"},{\"id\":\"38448\"},{\"id\":\"38449\"},{\"id\":\"38450\"},{\"id\":\"38451\"},{\"id\":\"38452\"},{\"id\":\"38453\"},{\"id\":\"38454\"},{\"id\":\"38455\"},{\"id\":\"38456\"},{\"id\":\"38457\"},{\"id\":\"38458\"},{\"id\":\"38459\"},{\"id\":\"38460\"},{\"id\":\"38461\"},{\"id\":\"38462\"},{\"id\":\"38463\"},{\"id\":\"38464\"},{\"id\":\"38465\"},{\"id\":\"38466\"},{\"id\":\"38467\"},{\"id\":\"38468\"},{\"id\":\"38469\"},{\"id\":\"38470\"},{\"id\":\"38471\"},{\"id\":\"38472\"},{\"id\":\"38473\"},{\"id\":\"38474\"},{\"id\":\"38475\"},{\"id\":\"38476\"},{\"id\":\"38477\"},{\"id\":\"38478\"},{\"id\":\"38479\"},{\"id\":\"38480\"},{\"id\":\"38481\"},{\"id\":\"38482\"},{\"id\":\"38483\"},{\"id\":\"38484\"},{\"id\":\"38485\"},{\"id\":\"38486\"},{\"id\":\"38487\"},{\"id\":\"38488\"},{\"id\":\"38489\"},{\"id\":\"38490\"},{\"id\":\"38491\"},{\"id\":\"38492\"},{\"id\":\"38493\"},{\"id\":\"38494\"},{\"id\":\"38495\"},{\"id\":\"38496\"},{\"id\":\"38497\"},{\"id\":\"38498\"},{\"id\":\"38499\"},{\"id\":\"38500\"},{\"id\":\"38501\"},{\"id\":\"38502\"},{\"id\":\"38503\"},{\"id\":\"38504\"},{\"id\":\"38505\"},{\"id\":\"38506\"},{\"id\":\"38507\"},{\"id\":\"38508\"},{\"id\":\"38509\"},{\"id\":\"38510\"},{\"id\":\"38511\"},{\"id\":\"38512\"},{\"id\":\"38513\"},{\"id\":\"38514\"},{\"id\":\"38515\"},{\"id\":\"38516\"},{\"id\":\"38517\"},{\"id\":\"38518\"},{\"id\":\"38519\"},{\"id\":\"38520\"},{\"id\":\"38521\"},{\"id\":\"38522\"},{\"id\":\"38523\"},{\"id\":\"38524\"},{\"id\":\"38525\"},{\"id\":\"38526\"},{\"id\":\"38527\"},{\"id\":\"38528\"},{\"id\":\"38529\"},{\"id\":\"38530\"},{\"id\":\"38531\"},{\"id\":\"38532\"},{\"id\":\"38533\"},{\"id\":\"38534\"},{\"id\":\"38535\"},{\"id\":\"38536\"},{\"id\":\"38537\"},{\"id\":\"38538\"},{\"id\":\"38539\"},{\"id\":\"38540\"},{\"id\":\"38541\"},{\"id\":\"38542\"},{\"id\":\"38543\"},{\"id\":\"38544\"},{\"id\":\"38545\"}],\"layout\":{\"legend\":{\"itemsizing\":\"constant\",\"title\":{\"text\":\"neighbourhood\"},\"tracegroupgap\":0},\"mapbox\":{\"accesstoken\":\"pk.eyJ1IjoiaGNsYXI1MiIsImEiOiJja2k3NzA2dGwwdDhmMnhxb2N1eTYycXZjIn0.IfVMvCOLngBm1-Ompm4zHQ\",\"center\":{\"lat\":43.708840577642846,\"lon\":-79.4001855035},\"domain\":{\"x\":[0.0,1.0],\"y\":[0.0,1.0]},\"zoom\":3},\"margin\":{\"t\":60},\"template\":{\"data\":{\"bar\":[{\"error_x\":{\"color\":\"#2a3f5f\"},\"error_y\":{\"color\":\"#2a3f5f\"},\"marker\":{\"line\":{\"color\":\"#E5ECF6\",\"width\":0.5}},\"type\":\"bar\"}],\"barpolar\":[{\"marker\":{\"line\":{\"color\":\"#E5ECF6\",\"width\":0.5}},\"type\":\"barpolar\"}],\"carpet\":[{\"aaxis\":{\"endlinecolor\":\"#2a3f5f\",\"gridcolor\":\"white\",\"linecolor\":\"white\",\"minorgridcolor\":\"white\",\"startlinecolor\":\"#2a3f5f\"},\"baxis\":{\"endlinecolor\":\"#2a3f5f\",\"gridcolor\":\"white\",\"linecolor\":\"white\",\"minorgridcolor\":\"white\",\"startlinecolor\":\"#2a3f5f\"},\"type\":\"carpet\"}],\"choropleth\":[{\"colorbar\":{\"outlinewidth\":0,\"ticks\":\"\"},\"type\":\"choropleth\"}],\"contour\":[{\"colorbar\":{\"outlinewidth\":0,\"ticks\":\"\"},\"colorscale\":[[0.0,\"#0d0887\"],[0.1111111111111111,\"#46039f\"],[0.2222222222222222,\"#7201a8\"],[0.3333333333333333,\"#9c179e\"],[0.4444444444444444,\"#bd3786\"],[0.5555555555555556,\"#d8576b\"],[0.6666666666666666,\"#ed7953\"],[0.7777777777777778,\"#fb9f3a\"],[0.8888888888888888,\"#fdca26\"],[1.0,\"#f0f921\"]],\"type\":\"contour\"}],\"contourcarpet\":[{\"colorbar\":{\"outlinewidth\":0,\"ticks\":\"\"},\"type\":\"contourcarpet\"}],\"heatmap\":[{\"colorbar\":{\"outlinewidth\":0,\"ticks\":\"\"},\"colorscale\":[[0.0,\"#0d0887\"],[0.1111111111111111,\"#46039f\"],[0.2222222222222222,\"#7201a8\"],[0.3333333333333333,\"#9c179e\"],[0.4444444444444444,\"#bd3786\"],[0.5555555555555556,\"#d8576b\"],[0.6666666666666666,\"#ed7953\"],[0.7777777777777778,\"#fb9f3a\"],[0.8888888888888888,\"#fdca26\"],[1.0,\"#f0f921\"]],\"type\":\"heatmap\"}],\"heatmapgl\":[{\"colorbar\":{\"outlinewidth\":0,\"ticks\":\"\"},\"colorscale\":[[0.0,\"#0d0887\"],[0.1111111111111111,\"#46039f\"],[0.2222222222222222,\"#7201a8\"],[0.3333333333333333,\"#9c179e\"],[0.4444444444444444,\"#bd3786\"],[0.5555555555555556,\"#d8576b\"],[0.6666666666666666,\"#ed7953\"],[0.7777777777777778,\"#fb9f3a\"],[0.8888888888888888,\"#fdca26\"],[1.0,\"#f0f921\"]],\"type\":\"heatmapgl\"}],\"histogram\":[{\"marker\":{\"colorbar\":{\"outlinewidth\":0,\"ticks\":\"\"}},\"type\":\"histogram\"}],\"histogram2d\":[{\"colorbar\":{\"outlinewidth\":0,\"ticks\":\"\"},\"colorscale\":[[0.0,\"#0d0887\"],[0.1111111111111111,\"#46039f\"],[0.2222222222222222,\"#7201a8\"],[0.3333333333333333,\"#9c179e\"],[0.4444444444444444,\"#bd3786\"],[0.5555555555555556,\"#d8576b\"],[0.6666666666666666,\"#ed7953\"],[0.7777777777777778,\"#fb9f3a\"],[0.8888888888888888,\"#fdca26\"],[1.0,\"#f0f921\"]],\"type\":\"histogram2d\"}],\"histogram2dcontour\":[{\"colorbar\":{\"outlinewidth\":0,\"ticks\":\"\"},\"colorscale\":[[0.0,\"#0d0887\"],[0.1111111111111111,\"#46039f\"],[0.2222222222222222,\"#7201a8\"],[0.3333333333333333,\"#9c179e\"],[0.4444444444444444,\"#bd3786\"],[0.5555555555555556,\"#d8576b\"],[0.6666666666666666,\"#ed7953\"],[0.7777777777777778,\"#fb9f3a\"],[0.8888888888888888,\"#fdca26\"],[1.0,\"#f0f921\"]],\"type\":\"histogram2dcontour\"}],\"mesh3d\":[{\"colorbar\":{\"outlinewidth\":0,\"ticks\":\"\"},\"type\":\"mesh3d\"}],\"parcoords\":[{\"line\":{\"colorbar\":{\"outlinewidth\":0,\"ticks\":\"\"}},\"type\":\"parcoords\"}],\"pie\":[{\"automargin\":true,\"type\":\"pie\"}],\"scatter\":[{\"marker\":{\"colorbar\":{\"outlinewidth\":0,\"ticks\":\"\"}},\"type\":\"scatter\"}],\"scatter3d\":[{\"line\":{\"colorbar\":{\"outlinewidth\":0,\"ticks\":\"\"}},\"marker\":{\"colorbar\":{\"outlinewidth\":0,\"ticks\":\"\"}},\"type\":\"scatter3d\"}],\"scattercarpet\":[{\"marker\":{\"colorbar\":{\"outlinewidth\":0,\"ticks\":\"\"}},\"type\":\"scattercarpet\"}],\"scattergeo\":[{\"marker\":{\"colorbar\":{\"outlinewidth\":0,\"ticks\":\"\"}},\"type\":\"scattergeo\"}],\"scattergl\":[{\"marker\":{\"colorbar\":{\"outlinewidth\":0,\"ticks\":\"\"}},\"type\":\"scattergl\"}],\"scattermapbox\":[{\"marker\":{\"colorbar\":{\"outlinewidth\":0,\"ticks\":\"\"}},\"type\":\"scattermapbox\"}],\"scatterpolar\":[{\"marker\":{\"colorbar\":{\"outlinewidth\":0,\"ticks\":\"\"}},\"type\":\"scatterpolar\"}],\"scatterpolargl\":[{\"marker\":{\"colorbar\":{\"outlinewidth\":0,\"ticks\":\"\"}},\"type\":\"scatterpolargl\"}],\"scatterternary\":[{\"marker\":{\"colorbar\":{\"outlinewidth\":0,\"ticks\":\"\"}},\"type\":\"scatterternary\"}],\"surface\":[{\"colorbar\":{\"outlinewidth\":0,\"ticks\":\"\"},\"colorscale\":[[0.0,\"#0d0887\"],[0.1111111111111111,\"#46039f\"],[0.2222222222222222,\"#7201a8\"],[0.3333333333333333,\"#9c179e\"],[0.4444444444444444,\"#bd3786\"],[0.5555555555555556,\"#d8576b\"],[0.6666666666666666,\"#ed7953\"],[0.7777777777777778,\"#fb9f3a\"],[0.8888888888888888,\"#fdca26\"],[1.0,\"#f0f921\"]],\"type\":\"surface\"}],\"table\":[{\"cells\":{\"fill\":{\"color\":\"#EBF0F8\"},\"line\":{\"color\":\"white\"}},\"header\":{\"fill\":{\"color\":\"#C8D4E3\"},\"line\":{\"color\":\"white\"}},\"type\":\"table\"}]},\"layout\":{\"annotationdefaults\":{\"arrowcolor\":\"#2a3f5f\",\"arrowhead\":0,\"arrowwidth\":1},\"autotypenumbers\":\"strict\",\"coloraxis\":{\"colorbar\":{\"outlinewidth\":0,\"ticks\":\"\"}},\"colorscale\":{\"diverging\":[[0,\"#8e0152\"],[0.1,\"#c51b7d\"],[0.2,\"#de77ae\"],[0.3,\"#f1b6da\"],[0.4,\"#fde0ef\"],[0.5,\"#f7f7f7\"],[0.6,\"#e6f5d0\"],[0.7,\"#b8e186\"],[0.8,\"#7fbc41\"],[0.9,\"#4d9221\"],[1,\"#276419\"]],\"sequential\":[[0.0,\"#0d0887\"],[0.1111111111111111,\"#46039f\"],[0.2222222222222222,\"#7201a8\"],[0.3333333333333333,\"#9c179e\"],[0.4444444444444444,\"#bd3786\"],[0.5555555555555556,\"#d8576b\"],[0.6666666666666666,\"#ed7953\"],[0.7777777777777778,\"#fb9f3a\"],[0.8888888888888888,\"#fdca26\"],[1.0,\"#f0f921\"]],\"sequentialminus\":[[0.0,\"#0d0887\"],[0.1111111111111111,\"#46039f\"],[0.2222222222222222,\"#7201a8\"],[0.3333333333333333,\"#9c179e\"],[0.4444444444444444,\"#bd3786\"],[0.5555555555555556,\"#d8576b\"],[0.6666666666666666,\"#ed7953\"],[0.7777777777777778,\"#fb9f3a\"],[0.8888888888888888,\"#fdca26\"],[1.0,\"#f0f921\"]]},\"colorway\":[\"#636efa\",\"#EF553B\",\"#00cc96\",\"#ab63fa\",\"#FFA15A\",\"#19d3f3\",\"#FF6692\",\"#B6E880\",\"#FF97FF\",\"#FECB52\"],\"font\":{\"color\":\"#2a3f5f\"},\"geo\":{\"bgcolor\":\"white\",\"lakecolor\":\"white\",\"landcolor\":\"#E5ECF6\",\"showlakes\":true,\"showland\":true,\"subunitcolor\":\"white\"},\"hoverlabel\":{\"align\":\"left\"},\"hovermode\":\"closest\",\"mapbox\":{\"style\":\"light\"},\"paper_bgcolor\":\"white\",\"plot_bgcolor\":\"#E5ECF6\",\"polar\":{\"angularaxis\":{\"gridcolor\":\"white\",\"linecolor\":\"white\",\"ticks\":\"\"},\"bgcolor\":\"#E5ECF6\",\"radialaxis\":{\"gridcolor\":\"white\",\"linecolor\":\"white\",\"ticks\":\"\"}},\"scene\":{\"xaxis\":{\"backgroundcolor\":\"#E5ECF6\",\"gridcolor\":\"white\",\"gridwidth\":2,\"linecolor\":\"white\",\"showbackground\":true,\"ticks\":\"\",\"zerolinecolor\":\"white\"},\"yaxis\":{\"backgroundcolor\":\"#E5ECF6\",\"gridcolor\":\"white\",\"gridwidth\":2,\"linecolor\":\"white\",\"showbackground\":true,\"ticks\":\"\",\"zerolinecolor\":\"white\"},\"zaxis\":{\"backgroundcolor\":\"#E5ECF6\",\"gridcolor\":\"white\",\"gridwidth\":2,\"linecolor\":\"white\",\"showbackground\":true,\"ticks\":\"\",\"zerolinecolor\":\"white\"}},\"shapedefaults\":{\"line\":{\"color\":\"#2a3f5f\"}},\"ternary\":{\"aaxis\":{\"gridcolor\":\"white\",\"linecolor\":\"white\",\"ticks\":\"\"},\"baxis\":{\"gridcolor\":\"white\",\"linecolor\":\"white\",\"ticks\":\"\"},\"bgcolor\":\"#E5ECF6\",\"caxis\":{\"gridcolor\":\"white\",\"linecolor\":\"white\",\"ticks\":\"\"}},\"title\":{\"x\":0.05},\"xaxis\":{\"automargin\":true,\"gridcolor\":\"white\",\"linecolor\":\"white\",\"ticks\":\"\",\"title\":{\"standoff\":15},\"zerolinecolor\":\"white\",\"zerolinewidth\":2},\"yaxis\":{\"automargin\":true,\"gridcolor\":\"white\",\"linecolor\":\"white\",\"ticks\":\"\",\"title\":{\"standoff\":15},\"zerolinecolor\":\"white\",\"zerolinewidth\":2}}},\"width\":1000},\"margin\":[5,5,5,5],\"name\":\"Plotly13840\",\"viewport_update_throttle\":200},\"id\":\"38546\",\"type\":\"panel.models.plotly.PlotlyPlot\"},{\"attributes\":{},\"id\":\"38802\",\"type\":\"Selection\"},{\"attributes\":{\"data\":{\"lat\":[{\"__ndarray__\":\"ZQU71YzWRUA=\",\"dtype\":\"float64\",\"order\":\"little\",\"shape\":[1]}],\"lon\":[{\"__ndarray__\":\"tYC33ZfVU8A=\",\"dtype\":\"float64\",\"order\":\"little\",\"shape\":[1]}],\"marker.size\":[{\"__ndarray__\":\"AAAAADQ3H0E=\",\"dtype\":\"float64\",\"order\":\"little\",\"shape\":[1]}]},\"selected\":{\"id\":\"38576\"},\"selection_policy\":{\"id\":\"38577\"}},\"id\":\"38420\",\"type\":\"ColumnDataSource\"},{\"attributes\":{\"data\":{\"lat\":[{\"__ndarray__\":\"U/xKrRjnRUA=\",\"dtype\":\"float64\",\"order\":\"little\",\"shape\":[1]}],\"lon\":[{\"__ndarray__\":\"GObrzxHRU8A=\",\"dtype\":\"float64\",\"order\":\"little\",\"shape\":[1]}],\"marker.size\":[{\"__ndarray__\":\"AAAAAE4hFEE=\",\"dtype\":\"float64\",\"order\":\"little\",\"shape\":[1]}]},\"selected\":{\"id\":\"38548\"},\"selection_policy\":{\"id\":\"38549\"}},\"id\":\"38406\",\"type\":\"ColumnDataSource\"},{\"attributes\":{},\"id\":\"38771\",\"type\":\"UnionRenderers\"},{\"attributes\":{\"data\":{\"lat\":[{\"__ndarray__\":\"3yoVdeLSRUA=\",\"dtype\":\"float64\",\"order\":\"little\",\"shape\":[1]}],\"lon\":[{\"__ndarray__\":\"RYtDaIrbU8A=\",\"dtype\":\"float64\",\"order\":\"little\",\"shape\":[1]}],\"marker.size\":[{\"__ndarray__\":\"AAAAAEF8IEE=\",\"dtype\":\"float64\",\"order\":\"little\",\"shape\":[1]}]},\"selected\":{\"id\":\"38690\"},\"selection_policy\":{\"id\":\"38691\"}},\"id\":\"38477\",\"type\":\"ColumnDataSource\"},{\"attributes\":{\"data\":{\"lat\":[{\"__ndarray__\":\"2R1afdjYRUA=\",\"dtype\":\"float64\",\"order\":\"little\",\"shape\":[1]}],\"lon\":[{\"__ndarray__\":\"tUNwGurTU8A=\",\"dtype\":\"float64\",\"order\":\"little\",\"shape\":[1]}],\"marker.size\":[{\"__ndarray__\":\"AAAAAPqTFkE=\",\"dtype\":\"float64\",\"order\":\"little\",\"shape\":[1]}]},\"selected\":{\"id\":\"38816\"},\"selection_policy\":{\"id\":\"38817\"}},\"id\":\"38540\",\"type\":\"ColumnDataSource\"},{\"attributes\":{\"data\":{\"lat\":[{\"__ndarray__\":\"OXTleZHSRUA=\",\"dtype\":\"float64\",\"order\":\"little\",\"shape\":[1]}],\"lon\":[{\"__ndarray__\":\"2OZSnvHdU8A=\",\"dtype\":\"float64\",\"order\":\"little\",\"shape\":[1]}],\"marker.size\":[{\"__ndarray__\":\"AAAAgIPKIUE=\",\"dtype\":\"float64\",\"order\":\"little\",\"shape\":[1]}]},\"selected\":{\"id\":\"38648\"},\"selection_policy\":{\"id\":\"38649\"}},\"id\":\"38456\",\"type\":\"ColumnDataSource\"},{\"attributes\":{\"data\":{\"lat\":[{\"__ndarray__\":\"uy54qFjRRUA=\",\"dtype\":\"float64\",\"order\":\"little\",\"shape\":[1]}],\"lon\":[{\"__ndarray__\":\"ZUMOfBLgU8A=\",\"dtype\":\"float64\",\"order\":\"little\",\"shape\":[1]}],\"marker.size\":[{\"__ndarray__\":\"AAAAgEDMIEE=\",\"dtype\":\"float64\",\"order\":\"little\",\"shape\":[1]}]},\"selected\":{\"id\":\"38774\"},\"selection_policy\":{\"id\":\"38775\"}},\"id\":\"38519\",\"type\":\"ColumnDataSource\"},{\"attributes\":{\"data\":{\"lat\":[{\"__ndarray__\":\"v2N47OfhRUA=\",\"dtype\":\"float64\",\"order\":\"little\",\"shape\":[1]}],\"lon\":[{\"__ndarray__\":\"pyXzG2jhU8A=\",\"dtype\":\"float64\",\"order\":\"little\",\"shape\":[1]}],\"marker.size\":[{\"__ndarray__\":\"AAAAAE7XD0E=\",\"dtype\":\"float64\",\"order\":\"little\",\"shape\":[1]}]},\"selected\":{\"id\":\"38574\"},\"selection_policy\":{\"id\":\"38575\"}},\"id\":\"38419\",\"type\":\"ColumnDataSource\"},{\"attributes\":{},\"id\":\"38803\",\"type\":\"UnionRenderers\"},{\"attributes\":{},\"id\":\"38772\",\"type\":\"Selection\"},{\"attributes\":{},\"id\":\"38804\",\"type\":\"Selection\"},{\"attributes\":{\"data\":{\"lat\":[{\"__ndarray__\":\"ogSizKvbRUA=\",\"dtype\":\"float64\",\"order\":\"little\",\"shape\":[1]}],\"lon\":[{\"__ndarray__\":\"jmA+tCrmU8A=\",\"dtype\":\"float64\",\"order\":\"little\",\"shape\":[1]}],\"marker.size\":[{\"__ndarray__\":\"AAAAAFnzFEE=\",\"dtype\":\"float64\",\"order\":\"little\",\"shape\":[1]}]},\"selected\":{\"id\":\"38796\"},\"selection_policy\":{\"id\":\"38797\"}},\"id\":\"38530\",\"type\":\"ColumnDataSource\"},{\"attributes\":{},\"id\":\"38773\",\"type\":\"UnionRenderers\"},{\"attributes\":{\"data\":{\"lat\":[{\"__ndarray__\":\"vhr77UbXRUA=\",\"dtype\":\"float64\",\"order\":\"little\",\"shape\":[1]}],\"lon\":[{\"__ndarray__\":\"PJPsxxzaU8A=\",\"dtype\":\"float64\",\"order\":\"little\",\"shape\":[1]}],\"marker.size\":[{\"__ndarray__\":\"AAAAgJDwLUE=\",\"dtype\":\"float64\",\"order\":\"little\",\"shape\":[1]}]},\"selected\":{\"id\":\"38590\"},\"selection_policy\":{\"id\":\"38591\"}},\"id\":\"38427\",\"type\":\"ColumnDataSource\"},{\"attributes\":{},\"id\":\"38805\",\"type\":\"UnionRenderers\"},{\"attributes\":{},\"id\":\"38774\",\"type\":\"Selection\"},{\"attributes\":{\"data\":{\"lat\":[{\"__ndarray__\":\"BfoCgtLLRUA=\",\"dtype\":\"float64\",\"order\":\"little\",\"shape\":[1]}],\"lon\":[{\"__ndarray__\":\"G070VCLiU8A=\",\"dtype\":\"float64\",\"order\":\"little\",\"shape\":[1]}],\"marker.size\":[{\"__ndarray__\":\"AAAAAJmMF0E=\",\"dtype\":\"float64\",\"order\":\"little\",\"shape\":[1]}]},\"selected\":{\"id\":\"38692\"},\"selection_policy\":{\"id\":\"38693\"}},\"id\":\"38478\",\"type\":\"ColumnDataSource\"},{\"attributes\":{\"data\":{\"lat\":[{\"__ndarray__\":\"UldnSqXWRUA=\",\"dtype\":\"float64\",\"order\":\"little\",\"shape\":[1]}],\"lon\":[{\"__ndarray__\":\"YY0OozvbU8A=\",\"dtype\":\"float64\",\"order\":\"little\",\"shape\":[1]}],\"marker.size\":[{\"__ndarray__\":\"AAAAALFFIUE=\",\"dtype\":\"float64\",\"order\":\"little\",\"shape\":[1]}]},\"selected\":{\"id\":\"38818\"},\"selection_policy\":{\"id\":\"38819\"}},\"id\":\"38541\",\"type\":\"ColumnDataSource\"},{\"attributes\":{\"data\":{\"lat\":[{\"__ndarray__\":\"ctOPGzjlRUA=\",\"dtype\":\"float64\",\"order\":\"little\",\"shape\":[1]}],\"lon\":[{\"__ndarray__\":\"yKV9tVvLU8A=\",\"dtype\":\"float64\",\"order\":\"little\",\"shape\":[1]}],\"marker.size\":[{\"__ndarray__\":\"AAAAAJosGkE=\",\"dtype\":\"float64\",\"order\":\"little\",\"shape\":[1]}]},\"selected\":{\"id\":\"38650\"},\"selection_policy\":{\"id\":\"38651\"}},\"id\":\"38457\",\"type\":\"ColumnDataSource\"},{\"attributes\":{\"data\":{\"lat\":[{\"__ndarray__\":\"EzGAS9vjRUA=\",\"dtype\":\"float64\",\"order\":\"little\",\"shape\":[1]}],\"lon\":[{\"__ndarray__\":\"+jIoBWPTU8A=\",\"dtype\":\"float64\",\"order\":\"little\",\"shape\":[1]}],\"marker.size\":[{\"__ndarray__\":\"AAAAABqaFUE=\",\"dtype\":\"float64\",\"order\":\"little\",\"shape\":[1]}]},\"selected\":{\"id\":\"38776\"},\"selection_policy\":{\"id\":\"38777\"}},\"id\":\"38520\",\"type\":\"ColumnDataSource\"},{\"attributes\":{\"data\":{\"lat\":[{\"__ndarray__\":\"K38Iu/LkRUA=\",\"dtype\":\"float64\",\"order\":\"little\",\"shape\":[1]}],\"lon\":[{\"__ndarray__\":\"oZuiyP/QU8A=\",\"dtype\":\"float64\",\"order\":\"little\",\"shape\":[1]}],\"marker.size\":[{\"__ndarray__\":\"AAAAALRlFEE=\",\"dtype\":\"float64\",\"order\":\"little\",\"shape\":[1]}]},\"selected\":{\"id\":\"38550\"},\"selection_policy\":{\"id\":\"38551\"}},\"id\":\"38407\",\"type\":\"ColumnDataSource\"},{\"attributes\":{},\"id\":\"38806\",\"type\":\"Selection\"},{\"attributes\":{},\"id\":\"38775\",\"type\":\"UnionRenderers\"},{\"attributes\":{},\"id\":\"38807\",\"type\":\"UnionRenderers\"},{\"attributes\":{\"data\":{\"lat\":[{\"__ndarray__\":\"1svOJrDjRUA=\",\"dtype\":\"float64\",\"order\":\"little\",\"shape\":[1]}],\"lon\":[{\"__ndarray__\":\"tn2Xa/TcU8A=\",\"dtype\":\"float64\",\"order\":\"little\",\"shape\":[1]}],\"marker.size\":[{\"__ndarray__\":\"AAAAACFSFUE=\",\"dtype\":\"float64\",\"order\":\"little\",\"shape\":[1]}]},\"selected\":{\"id\":\"38798\"},\"selection_policy\":{\"id\":\"38799\"}},\"id\":\"38531\",\"type\":\"ColumnDataSource\"},{\"attributes\":{},\"id\":\"38776\",\"type\":\"Selection\"},{\"attributes\":{\"data\":{\"lat\":[{\"__ndarray__\":\"GYjpayvYRUA=\",\"dtype\":\"float64\",\"order\":\"little\",\"shape\":[1]}],\"lon\":[{\"__ndarray__\":\"UrxGosLWU8A=\",\"dtype\":\"float64\",\"order\":\"little\",\"shape\":[1]}],\"marker.size\":[{\"__ndarray__\":\"AAAAALUPG0E=\",\"dtype\":\"float64\",\"order\":\"little\",\"shape\":[1]}]},\"selected\":{\"id\":\"38582\"},\"selection_policy\":{\"id\":\"38583\"}},\"id\":\"38423\",\"type\":\"ColumnDataSource\"},{\"attributes\":{},\"id\":\"38808\",\"type\":\"Selection\"},{\"attributes\":{},\"id\":\"38777\",\"type\":\"UnionRenderers\"},{\"attributes\":{\"data\":{\"lat\":[{\"__ndarray__\":\"xRSbRd7mRUA=\",\"dtype\":\"float64\",\"order\":\"little\",\"shape\":[1]}],\"lon\":[{\"__ndarray__\":\"2m1Ztj3OU8A=\",\"dtype\":\"float64\",\"order\":\"little\",\"shape\":[1]}],\"marker.size\":[{\"__ndarray__\":\"AAAAAIJbD0E=\",\"dtype\":\"float64\",\"order\":\"little\",\"shape\":[1]}]},\"selected\":{\"id\":\"38694\"},\"selection_policy\":{\"id\":\"38695\"}},\"id\":\"38479\",\"type\":\"ColumnDataSource\"},{\"attributes\":{\"data\":{\"lat\":[{\"__ndarray__\":\"kv7iQjPaRUA=\",\"dtype\":\"float64\",\"order\":\"little\",\"shape\":[1]}],\"lon\":[{\"__ndarray__\":\"xkjda9TZU8A=\",\"dtype\":\"float64\",\"order\":\"little\",\"shape\":[1]}],\"marker.size\":[{\"__ndarray__\":\"AAAAgCO2KEE=\",\"dtype\":\"float64\",\"order\":\"little\",\"shape\":[1]}]},\"selected\":{\"id\":\"38820\"},\"selection_policy\":{\"id\":\"38821\"}},\"id\":\"38542\",\"type\":\"ColumnDataSource\"},{\"attributes\":{\"data\":{\"lat\":[{\"__ndarray__\":\"z3ciTsjmRUA=\",\"dtype\":\"float64\",\"order\":\"little\",\"shape\":[1]}],\"lon\":[{\"__ndarray__\":\"XB/WG7XWU8A=\",\"dtype\":\"float64\",\"order\":\"little\",\"shape\":[1]}],\"marker.size\":[{\"__ndarray__\":\"AAAAADwcGEE=\",\"dtype\":\"float64\",\"order\":\"little\",\"shape\":[1]}]},\"selected\":{\"id\":\"38652\"},\"selection_policy\":{\"id\":\"38653\"}},\"id\":\"38458\",\"type\":\"ColumnDataSource\"},{\"attributes\":{\"data\":{\"lat\":[{\"__ndarray__\":\"I2pgs/XYRUA=\",\"dtype\":\"float64\",\"order\":\"little\",\"shape\":[1]}],\"lon\":[{\"__ndarray__\":\"/E9AC/DSU8A=\",\"dtype\":\"float64\",\"order\":\"little\",\"shape\":[1]}],\"marker.size\":[{\"__ndarray__\":\"AAAAALA5DUE=\",\"dtype\":\"float64\",\"order\":\"little\",\"shape\":[1]}]},\"selected\":{\"id\":\"38778\"},\"selection_policy\":{\"id\":\"38779\"}},\"id\":\"38521\",\"type\":\"ColumnDataSource\"},{\"attributes\":{\"data\":{\"lat\":[{\"__ndarray__\":\"YtKEkm7NRUA=\",\"dtype\":\"float64\",\"order\":\"little\",\"shape\":[1]}],\"lon\":[{\"__ndarray__\":\"ZeDjwKniU8A=\",\"dtype\":\"float64\",\"order\":\"little\",\"shape\":[1]}],\"marker.size\":[{\"__ndarray__\":\"AAAAAEoeGkE=\",\"dtype\":\"float64\",\"order\":\"little\",\"shape\":[1]}]},\"selected\":{\"id\":\"38552\"},\"selection_policy\":{\"id\":\"38553\"}},\"id\":\"38408\",\"type\":\"ColumnDataSource\"},{\"attributes\":{},\"id\":\"38809\",\"type\":\"UnionRenderers\"},{\"attributes\":{},\"id\":\"38778\",\"type\":\"Selection\"},{\"attributes\":{},\"id\":\"38810\",\"type\":\"Selection\"},{\"attributes\":{\"data\":{\"lat\":[{\"__ndarray__\":\"6Y96mfLZRUA=\",\"dtype\":\"float64\",\"order\":\"little\",\"shape\":[1]}],\"lon\":[{\"__ndarray__\":\"04MnmQHhU8A=\",\"dtype\":\"float64\",\"order\":\"little\",\"shape\":[1]}],\"marker.size\":[{\"__ndarray__\":\"AAAAAJ/MEkE=\",\"dtype\":\"float64\",\"order\":\"little\",\"shape\":[1]}]},\"selected\":{\"id\":\"38800\"},\"selection_policy\":{\"id\":\"38801\"}},\"id\":\"38532\",\"type\":\"ColumnDataSource\"},{\"attributes\":{},\"id\":\"38779\",\"type\":\"UnionRenderers\"},{\"attributes\":{},\"id\":\"38811\",\"type\":\"UnionRenderers\"},{\"attributes\":{},\"id\":\"38780\",\"type\":\"Selection\"},{\"attributes\":{\"data\":{\"lat\":[{\"__ndarray__\":\"vhVH7ZfbRUA=\",\"dtype\":\"float64\",\"order\":\"little\",\"shape\":[1]}],\"lon\":[{\"__ndarray__\":\"JExJvcTeU8A=\",\"dtype\":\"float64\",\"order\":\"little\",\"shape\":[1]}],\"marker.size\":[{\"__ndarray__\":\"AAAAALSpG0E=\",\"dtype\":\"float64\",\"order\":\"little\",\"shape\":[1]}]},\"selected\":{\"id\":\"38696\"},\"selection_policy\":{\"id\":\"38697\"}},\"id\":\"38480\",\"type\":\"ColumnDataSource\"},{\"attributes\":{\"data\":{\"lat\":[{\"__ndarray__\":\"7nRrwgvYRUA=\",\"dtype\":\"float64\",\"order\":\"little\",\"shape\":[1]}],\"lon\":[{\"__ndarray__\":\"zEv2tnbZU8A=\",\"dtype\":\"float64\",\"order\":\"little\",\"shape\":[1]}],\"marker.size\":[{\"__ndarray__\":\"AAAAgEjRKEE=\",\"dtype\":\"float64\",\"order\":\"little\",\"shape\":[1]}]},\"selected\":{\"id\":\"38822\"},\"selection_policy\":{\"id\":\"38823\"}},\"id\":\"38543\",\"type\":\"ColumnDataSource\"},{\"attributes\":{\"data\":{\"lat\":[{\"__ndarray__\":\"+JuaFZvYRUA=\",\"dtype\":\"float64\",\"order\":\"little\",\"shape\":[1]}],\"lon\":[{\"__ndarray__\":\"o3lbRG/hU8A=\",\"dtype\":\"float64\",\"order\":\"little\",\"shape\":[1]}],\"marker.size\":[{\"__ndarray__\":\"AAAAAPppG0E=\",\"dtype\":\"float64\",\"order\":\"little\",\"shape\":[1]}]},\"selected\":{\"id\":\"38654\"},\"selection_policy\":{\"id\":\"38655\"}},\"id\":\"38459\",\"type\":\"ColumnDataSource\"},{\"attributes\":{\"data\":{\"lat\":[{\"__ndarray__\":\"/INQ9+TVRUA=\",\"dtype\":\"float64\",\"order\":\"little\",\"shape\":[1]}],\"lon\":[{\"__ndarray__\":\"s1XuqizTU8A=\",\"dtype\":\"float64\",\"order\":\"little\",\"shape\":[1]}],\"marker.size\":[{\"__ndarray__\":\"AAAAAIRVJEE=\",\"dtype\":\"float64\",\"order\":\"little\",\"shape\":[1]}]},\"selected\":{\"id\":\"38780\"},\"selection_policy\":{\"id\":\"38781\"}},\"id\":\"38522\",\"type\":\"ColumnDataSource\"},{\"attributes\":{},\"id\":\"38812\",\"type\":\"Selection\"},{\"attributes\":{},\"id\":\"38781\",\"type\":\"UnionRenderers\"},{\"attributes\":{},\"id\":\"38813\",\"type\":\"UnionRenderers\"},{\"attributes\":{\"data\":{\"lat\":[{\"__ndarray__\":\"OpzQVuvYRUA=\",\"dtype\":\"float64\",\"order\":\"little\",\"shape\":[1]}],\"lon\":[{\"__ndarray__\":\"kB3pRvfQU8A=\",\"dtype\":\"float64\",\"order\":\"little\",\"shape\":[1]}],\"marker.size\":[{\"__ndarray__\":\"AAAAAAyxGkE=\",\"dtype\":\"float64\",\"order\":\"little\",\"shape\":[1]}]},\"selected\":{\"id\":\"38572\"},\"selection_policy\":{\"id\":\"38573\"}},\"id\":\"38418\",\"type\":\"ColumnDataSource\"},{\"attributes\":{\"data\":{\"lat\":[{\"__ndarray__\":\"0UVcY0TWRUA=\",\"dtype\":\"float64\",\"order\":\"little\",\"shape\":[1]}],\"lon\":[{\"__ndarray__\":\"hmjfonTdU8A=\",\"dtype\":\"float64\",\"order\":\"little\",\"shape\":[1]}],\"marker.size\":[{\"__ndarray__\":\"AAAAAOh4FUE=\",\"dtype\":\"float64\",\"order\":\"little\",\"shape\":[1]}]},\"selected\":{\"id\":\"38802\"},\"selection_policy\":{\"id\":\"38803\"}},\"id\":\"38533\",\"type\":\"ColumnDataSource\"},{\"attributes\":{},\"id\":\"38782\",\"type\":\"Selection\"},{\"attributes\":{},\"id\":\"38814\",\"type\":\"Selection\"},{\"attributes\":{},\"id\":\"38783\",\"type\":\"UnionRenderers\"},{\"attributes\":{\"data\":{\"lat\":[{\"__ndarray__\":\"R3Nk5RfRRUA=\",\"dtype\":\"float64\",\"order\":\"little\",\"shape\":[1]}],\"lon\":[{\"__ndarray__\":\"p28+GrPkU8A=\",\"dtype\":\"float64\",\"order\":\"little\",\"shape\":[1]}],\"marker.size\":[{\"__ndarray__\":\"AAAAABsZG0E=\",\"dtype\":\"float64\",\"order\":\"little\",\"shape\":[1]}]},\"selected\":{\"id\":\"38698\"},\"selection_policy\":{\"id\":\"38699\"}},\"id\":\"38481\",\"type\":\"ColumnDataSource\"},{\"attributes\":{\"data\":{\"lat\":[{\"__ndarray__\":\"sfM+pwPiRUA=\",\"dtype\":\"float64\",\"order\":\"little\",\"shape\":[1]}],\"lon\":[{\"__ndarray__\":\"Dfug20nfU8A=\",\"dtype\":\"float64\",\"order\":\"little\",\"shape\":[1]}],\"marker.size\":[{\"__ndarray__\":\"AAAAAK6rEkE=\",\"dtype\":\"float64\",\"order\":\"little\",\"shape\":[1]}]},\"selected\":{\"id\":\"38824\"},\"selection_policy\":{\"id\":\"38825\"}},\"id\":\"38544\",\"type\":\"ColumnDataSource\"},{\"attributes\":{\"data\":{\"lat\":[{\"__ndarray__\":\"7URJSCThRUA=\",\"dtype\":\"float64\",\"order\":\"little\",\"shape\":[1]}],\"lon\":[{\"__ndarray__\":\"U8rvXZjjU8A=\",\"dtype\":\"float64\",\"order\":\"little\",\"shape\":[1]}],\"marker.size\":[{\"__ndarray__\":\"AAAAAEp9FUE=\",\"dtype\":\"float64\",\"order\":\"little\",\"shape\":[1]}]},\"selected\":{\"id\":\"38656\"},\"selection_policy\":{\"id\":\"38657\"}},\"id\":\"38460\",\"type\":\"ColumnDataSource\"},{\"attributes\":{\"data\":{\"lat\":[{\"__ndarray__\":\"HZ9eY3beRUA=\",\"dtype\":\"float64\",\"order\":\"little\",\"shape\":[1]}],\"lon\":[{\"__ndarray__\":\"V5+jPBDkU8A=\",\"dtype\":\"float64\",\"order\":\"little\",\"shape\":[1]}],\"marker.size\":[{\"__ndarray__\":\"AAAAAODwFkE=\",\"dtype\":\"float64\",\"order\":\"little\",\"shape\":[1]}]},\"selected\":{\"id\":\"38782\"},\"selection_policy\":{\"id\":\"38783\"}},\"id\":\"38523\",\"type\":\"ColumnDataSource\"},{\"attributes\":{},\"id\":\"38815\",\"type\":\"UnionRenderers\"},{\"attributes\":{},\"id\":\"38784\",\"type\":\"Selection\"},{\"attributes\":{},\"id\":\"38816\",\"type\":\"Selection\"},{\"attributes\":{\"data\":{\"lat\":[{\"__ndarray__\":\"oMwWe3XVRUA=\",\"dtype\":\"float64\",\"order\":\"little\",\"shape\":[1]}],\"lon\":[{\"__ndarray__\":\"D+OgSm7XU8A=\",\"dtype\":\"float64\",\"order\":\"little\",\"shape\":[1]}],\"marker.size\":[{\"__ndarray__\":\"AAAAAHooHkE=\",\"dtype\":\"float64\",\"order\":\"little\",\"shape\":[1]}]},\"selected\":{\"id\":\"38586\"},\"selection_policy\":{\"id\":\"38587\"}},\"id\":\"38425\",\"type\":\"ColumnDataSource\"},{\"attributes\":{\"data\":{\"lat\":[{\"__ndarray__\":\"lf89NtHfRUA=\",\"dtype\":\"float64\",\"order\":\"little\",\"shape\":[1]}],\"lon\":[{\"__ndarray__\":\"iWKP3BzTU8A=\",\"dtype\":\"float64\",\"order\":\"little\",\"shape\":[1]}],\"marker.size\":[{\"__ndarray__\":\"AAAAAH1CFUE=\",\"dtype\":\"float64\",\"order\":\"little\",\"shape\":[1]}]},\"selected\":{\"id\":\"38804\"},\"selection_policy\":{\"id\":\"38805\"}},\"id\":\"38534\",\"type\":\"ColumnDataSource\"},{\"attributes\":{},\"id\":\"38785\",\"type\":\"UnionRenderers\"},{\"attributes\":{\"data\":{\"lat\":[{\"__ndarray__\":\"O3ZIGKPiRUA=\",\"dtype\":\"float64\",\"order\":\"little\",\"shape\":[1]}],\"lon\":[{\"__ndarray__\":\"JfsQ6bHZU8A=\",\"dtype\":\"float64\",\"order\":\"little\",\"shape\":[1]}],\"marker.size\":[{\"__ndarray__\":\"AAAAANagHEE=\",\"dtype\":\"float64\",\"order\":\"little\",\"shape\":[1]}]},\"selected\":{\"id\":\"38806\"},\"selection_policy\":{\"id\":\"38807\"}},\"id\":\"38535\",\"type\":\"ColumnDataSource\"},{\"attributes\":{\"data\":{\"lat\":[{\"__ndarray__\":\"1pZTZQzpRUA=\",\"dtype\":\"float64\",\"order\":\"little\",\"shape\":[1]}],\"lon\":[{\"__ndarray__\":\"iGADv5nRU8A=\",\"dtype\":\"float64\",\"order\":\"little\",\"shape\":[1]}],\"marker.size\":[{\"__ndarray__\":\"AAAAAHEOFUE=\",\"dtype\":\"float64\",\"order\":\"little\",\"shape\":[1]}]},\"selected\":{\"id\":\"38700\"},\"selection_policy\":{\"id\":\"38701\"}},\"id\":\"38482\",\"type\":\"ColumnDataSource\"},{\"attributes\":{\"data\":{\"lat\":[{\"__ndarray__\":\"u11QW3rbRUA=\",\"dtype\":\"float64\",\"order\":\"little\",\"shape\":[1]}],\"lon\":[{\"__ndarray__\":\"0Ng0QkHdU8A=\",\"dtype\":\"float64\",\"order\":\"little\",\"shape\":[1]}],\"marker.size\":[{\"__ndarray__\":\"AAAAADVMGkE=\",\"dtype\":\"float64\",\"order\":\"little\",\"shape\":[1]}]},\"selected\":{\"id\":\"38826\"},\"selection_policy\":{\"id\":\"38827\"}},\"id\":\"38545\",\"type\":\"ColumnDataSource\"},{\"attributes\":{\"data\":{\"lat\":[{\"__ndarray__\":\"96PRsijfRUA=\",\"dtype\":\"float64\",\"order\":\"little\",\"shape\":[1]}],\"lon\":[{\"__ndarray__\":\"2LSUJLbiU8A=\",\"dtype\":\"float64\",\"order\":\"little\",\"shape\":[1]}],\"marker.size\":[{\"__ndarray__\":\"AAAAAJ+EE0E=\",\"dtype\":\"float64\",\"order\":\"little\",\"shape\":[1]}]},\"selected\":{\"id\":\"38658\"},\"selection_policy\":{\"id\":\"38659\"}},\"id\":\"38461\",\"type\":\"ColumnDataSource\"},{\"attributes\":{\"data\":{\"lat\":[{\"__ndarray__\":\"JFyvhpfaRUA=\",\"dtype\":\"float64\",\"order\":\"little\",\"shape\":[1]}],\"lon\":[{\"__ndarray__\":\"gcWnIWbWU8A=\",\"dtype\":\"float64\",\"order\":\"little\",\"shape\":[1]}],\"marker.size\":[{\"__ndarray__\":\"AAAAAAYpD0E=\",\"dtype\":\"float64\",\"order\":\"little\",\"shape\":[1]}]},\"selected\":{\"id\":\"38784\"},\"selection_policy\":{\"id\":\"38785\"}},\"id\":\"38524\",\"type\":\"ColumnDataSource\"},{\"attributes\":{},\"id\":\"38817\",\"type\":\"UnionRenderers\"},{\"attributes\":{},\"id\":\"38786\",\"type\":\"Selection\"},{\"attributes\":{\"data\":{\"lat\":[{\"__ndarray__\":\"LWO//lbbRUA=\",\"dtype\":\"float64\",\"order\":\"little\",\"shape\":[1]}],\"lon\":[{\"__ndarray__\":\"lLK5KALSU8A=\",\"dtype\":\"float64\",\"order\":\"little\",\"shape\":[1]}],\"marker.size\":[{\"__ndarray__\":\"AAAAAO2jFUE=\",\"dtype\":\"float64\",\"order\":\"little\",\"shape\":[1]}]},\"selected\":{\"id\":\"38596\"},\"selection_policy\":{\"id\":\"38597\"}},\"id\":\"38430\",\"type\":\"ColumnDataSource\"},{\"attributes\":{},\"id\":\"38661\",\"type\":\"UnionRenderers\"},{\"attributes\":{},\"id\":\"38692\",\"type\":\"Selection\"},{\"attributes\":{},\"id\":\"38566\",\"type\":\"Selection\"},{\"attributes\":{},\"id\":\"38662\",\"type\":\"Selection\"},{\"attributes\":{},\"id\":\"38693\",\"type\":\"UnionRenderers\"},{\"attributes\":{},\"id\":\"38567\",\"type\":\"UnionRenderers\"},{\"attributes\":{},\"id\":\"38663\",\"type\":\"UnionRenderers\"},{\"attributes\":{},\"id\":\"38694\",\"type\":\"Selection\"},{\"attributes\":{},\"id\":\"38568\",\"type\":\"Selection\"},{\"attributes\":{},\"id\":\"38695\",\"type\":\"UnionRenderers\"},{\"attributes\":{\"data\":{\"lat\":[{\"__ndarray__\":\"0N980bvkRUA=\",\"dtype\":\"float64\",\"order\":\"little\",\"shape\":[1]}],\"lon\":[{\"__ndarray__\":\"lCyKy2/VU8A=\",\"dtype\":\"float64\",\"order\":\"little\",\"shape\":[1]}],\"marker.size\":[{\"__ndarray__\":\"AAAAAP3JFkE=\",\"dtype\":\"float64\",\"order\":\"little\",\"shape\":[1]}]},\"selected\":{\"id\":\"38744\"},\"selection_policy\":{\"id\":\"38745\"}},\"id\":\"38504\",\"type\":\"ColumnDataSource\"},{\"attributes\":{},\"id\":\"38569\",\"type\":\"UnionRenderers\"},{\"attributes\":{},\"id\":\"38664\",\"type\":\"Selection\"},{\"attributes\":{},\"id\":\"38696\",\"type\":\"Selection\"},{\"attributes\":{},\"id\":\"38570\",\"type\":\"Selection\"},{\"attributes\":{},\"id\":\"38665\",\"type\":\"UnionRenderers\"},{\"attributes\":{},\"id\":\"38697\",\"type\":\"UnionRenderers\"},{\"attributes\":{},\"id\":\"38571\",\"type\":\"UnionRenderers\"},{\"attributes\":{},\"id\":\"38666\",\"type\":\"Selection\"},{\"attributes\":{\"data\":{\"lat\":[{\"__ndarray__\":\"OM3Qsk3cRUA=\",\"dtype\":\"float64\",\"order\":\"little\",\"shape\":[1]}],\"lon\":[{\"__ndarray__\":\"BRme6hLPU8A=\",\"dtype\":\"float64\",\"order\":\"little\",\"shape\":[1]}],\"marker.size\":[{\"__ndarray__\":\"AAAAADh6GUE=\",\"dtype\":\"float64\",\"order\":\"little\",\"shape\":[1]}]},\"selected\":{\"id\":\"38600\"},\"selection_policy\":{\"id\":\"38601\"}},\"id\":\"38432\",\"type\":\"ColumnDataSource\"},{\"attributes\":{},\"id\":\"38698\",\"type\":\"Selection\"},{\"attributes\":{\"data\":{\"lat\":[{\"__ndarray__\":\"lz1kJUHVRUA=\",\"dtype\":\"float64\",\"order\":\"little\",\"shape\":[1]}],\"lon\":[{\"__ndarray__\":\"HFI1D9riU8A=\",\"dtype\":\"float64\",\"order\":\"little\",\"shape\":[1]}],\"marker.size\":[{\"__ndarray__\":\"AAAAAGVeJ0E=\",\"dtype\":\"float64\",\"order\":\"little\",\"shape\":[1]}]},\"selected\":{\"id\":\"38746\"},\"selection_policy\":{\"id\":\"38747\"}},\"id\":\"38505\",\"type\":\"ColumnDataSource\"},{\"attributes\":{},\"id\":\"38572\",\"type\":\"Selection\"},{\"attributes\":{},\"id\":\"38667\",\"type\":\"UnionRenderers\"},{\"attributes\":{},\"id\":\"38699\",\"type\":\"UnionRenderers\"},{\"attributes\":{},\"id\":\"38573\",\"type\":\"UnionRenderers\"},{\"attributes\":{},\"id\":\"38668\",\"type\":\"Selection\"},{\"attributes\":{},\"id\":\"38700\",\"type\":\"Selection\"},{\"attributes\":{},\"id\":\"38574\",\"type\":\"Selection\"},{\"attributes\":{},\"id\":\"38669\",\"type\":\"UnionRenderers\"},{\"attributes\":{},\"id\":\"38701\",\"type\":\"UnionRenderers\"},{\"attributes\":{\"data\":{\"lat\":[{\"__ndarray__\":\"YnVYn3rURUA=\",\"dtype\":\"float64\",\"order\":\"little\",\"shape\":[1]}],\"lon\":[{\"__ndarray__\":\"rDeLkxLXU8A=\",\"dtype\":\"float64\",\"order\":\"little\",\"shape\":[1]}],\"marker.size\":[{\"__ndarray__\":\"AAAAAAn2F0E=\",\"dtype\":\"float64\",\"order\":\"little\",\"shape\":[1]}]},\"selected\":{\"id\":\"38748\"},\"selection_policy\":{\"id\":\"38749\"}},\"id\":\"38506\",\"type\":\"ColumnDataSource\"},{\"attributes\":{},\"id\":\"38575\",\"type\":\"UnionRenderers\"},{\"attributes\":{\"data\":{\"lat\":[{\"__ndarray__\":\"/pcxJvneRUA=\",\"dtype\":\"float64\",\"order\":\"little\",\"shape\":[1]}],\"lon\":[{\"__ndarray__\":\"G06yOJDcU8A=\",\"dtype\":\"float64\",\"order\":\"little\",\"shape\":[1]}],\"marker.size\":[{\"__ndarray__\":\"AAAAgBLVIEE=\",\"dtype\":\"float64\",\"order\":\"little\",\"shape\":[1]}]},\"selected\":{\"id\":\"38598\"},\"selection_policy\":{\"id\":\"38599\"}},\"id\":\"38431\",\"type\":\"ColumnDataSource\"},{\"attributes\":{},\"id\":\"38670\",\"type\":\"Selection\"},{\"attributes\":{},\"id\":\"38702\",\"type\":\"Selection\"},{\"attributes\":{},\"id\":\"38576\",\"type\":\"Selection\"},{\"attributes\":{},\"id\":\"38671\",\"type\":\"UnionRenderers\"},{\"attributes\":{},\"id\":\"38703\",\"type\":\"UnionRenderers\"},{\"attributes\":{},\"id\":\"38577\",\"type\":\"UnionRenderers\"},{\"attributes\":{},\"id\":\"38672\",\"type\":\"Selection\"},{\"attributes\":{},\"id\":\"38704\",\"type\":\"Selection\"},{\"attributes\":{\"data\":{\"lat\":[{\"__ndarray__\":\"4vBZCaPcRUA=\",\"dtype\":\"float64\",\"order\":\"little\",\"shape\":[1]}],\"lon\":[{\"__ndarray__\":\"B8EVFj3kU8A=\",\"dtype\":\"float64\",\"order\":\"little\",\"shape\":[1]}],\"marker.size\":[{\"__ndarray__\":\"AAAAAJ0IFkE=\",\"dtype\":\"float64\",\"order\":\"little\",\"shape\":[1]}]},\"selected\":{\"id\":\"38750\"},\"selection_policy\":{\"id\":\"38751\"}},\"id\":\"38507\",\"type\":\"ColumnDataSource\"},{\"attributes\":{},\"id\":\"38578\",\"type\":\"Selection\"},{\"attributes\":{},\"id\":\"38673\",\"type\":\"UnionRenderers\"},{\"attributes\":{},\"id\":\"38705\",\"type\":\"UnionRenderers\"},{\"attributes\":{},\"id\":\"38579\",\"type\":\"UnionRenderers\"},{\"attributes\":{},\"id\":\"38674\",\"type\":\"Selection\"},{\"attributes\":{},\"id\":\"38706\",\"type\":\"Selection\"},{\"attributes\":{},\"id\":\"38580\",\"type\":\"Selection\"},{\"attributes\":{},\"id\":\"38675\",\"type\":\"UnionRenderers\"},{\"attributes\":{},\"id\":\"38707\",\"type\":\"UnionRenderers\"},{\"attributes\":{\"data\":{\"lat\":[{\"__ndarray__\":\"mjORiF/WRUA=\",\"dtype\":\"float64\",\"order\":\"little\",\"shape\":[1]}],\"lon\":[{\"__ndarray__\":\"UM6rlaTfU8A=\",\"dtype\":\"float64\",\"order\":\"little\",\"shape\":[1]}],\"marker.size\":[{\"__ndarray__\":\"AAAAAPEYFUE=\",\"dtype\":\"float64\",\"order\":\"little\",\"shape\":[1]}]},\"selected\":{\"id\":\"38752\"},\"selection_policy\":{\"id\":\"38753\"}},\"id\":\"38508\",\"type\":\"ColumnDataSource\"},{\"attributes\":{},\"id\":\"38581\",\"type\":\"UnionRenderers\"},{\"attributes\":{},\"id\":\"38676\",\"type\":\"Selection\"},{\"attributes\":{},\"id\":\"38708\",\"type\":\"Selection\"},{\"attributes\":{},\"id\":\"38582\",\"type\":\"Selection\"},{\"attributes\":{},\"id\":\"38677\",\"type\":\"UnionRenderers\"},{\"attributes\":{},\"id\":\"38709\",\"type\":\"UnionRenderers\"},{\"attributes\":{},\"id\":\"38583\",\"type\":\"UnionRenderers\"},{\"attributes\":{},\"id\":\"38678\",\"type\":\"Selection\"},{\"attributes\":{},\"id\":\"38710\",\"type\":\"Selection\"},{\"attributes\":{\"data\":{\"lat\":[{\"__ndarray__\":\"M597KLTSRUA=\",\"dtype\":\"float64\",\"order\":\"little\",\"shape\":[1]}],\"lon\":[{\"__ndarray__\":\"/0cB/VncU8A=\",\"dtype\":\"float64\",\"order\":\"little\",\"shape\":[1]}],\"marker.size\":[{\"__ndarray__\":\"AAAAACUQH0E=\",\"dtype\":\"float64\",\"order\":\"little\",\"shape\":[1]}]},\"selected\":{\"id\":\"38754\"},\"selection_policy\":{\"id\":\"38755\"}},\"id\":\"38509\",\"type\":\"ColumnDataSource\"},{\"attributes\":{},\"id\":\"38584\",\"type\":\"Selection\"},{\"attributes\":{},\"id\":\"38679\",\"type\":\"UnionRenderers\"},{\"attributes\":{},\"id\":\"38711\",\"type\":\"UnionRenderers\"},{\"attributes\":{},\"id\":\"38585\",\"type\":\"UnionRenderers\"},{\"attributes\":{\"data\":{\"lat\":[{\"__ndarray__\":\"l0W0X2/URUA=\",\"dtype\":\"float64\",\"order\":\"little\",\"shape\":[1]}],\"lon\":[{\"__ndarray__\":\"cHE70UHYU8A=\",\"dtype\":\"float64\",\"order\":\"little\",\"shape\":[1]}],\"marker.size\":[{\"__ndarray__\":\"AAAAAJbJGEE=\",\"dtype\":\"float64\",\"order\":\"little\",\"shape\":[1]}]},\"selected\":{\"id\":\"38594\"},\"selection_policy\":{\"id\":\"38595\"}},\"id\":\"38429\",\"type\":\"ColumnDataSource\"},{\"attributes\":{},\"id\":\"38680\",\"type\":\"Selection\"},{\"attributes\":{},\"id\":\"38712\",\"type\":\"Selection\"},{\"attributes\":{},\"id\":\"38586\",\"type\":\"Selection\"},{\"attributes\":{},\"id\":\"38681\",\"type\":\"UnionRenderers\"},{\"attributes\":{},\"id\":\"38713\",\"type\":\"UnionRenderers\"},{\"attributes\":{\"data\":{\"lat\":[{\"__ndarray__\":\"AfLrqGbXRUA=\",\"dtype\":\"float64\",\"order\":\"little\",\"shape\":[1]}],\"lon\":[{\"__ndarray__\":\"rxLigEzYU8A=\",\"dtype\":\"float64\",\"order\":\"little\",\"shape\":[1]}],\"marker.size\":[{\"__ndarray__\":\"AAAAAAiwMEE=\",\"dtype\":\"float64\",\"order\":\"little\",\"shape\":[1]}]},\"selected\":{\"id\":\"38756\"},\"selection_policy\":{\"id\":\"38757\"}},\"id\":\"38510\",\"type\":\"ColumnDataSource\"},{\"attributes\":{},\"id\":\"38587\",\"type\":\"UnionRenderers\"},{\"attributes\":{},\"id\":\"38682\",\"type\":\"Selection\"},{\"attributes\":{},\"id\":\"38714\",\"type\":\"Selection\"},{\"attributes\":{},\"id\":\"38588\",\"type\":\"Selection\"},{\"attributes\":{},\"id\":\"38683\",\"type\":\"UnionRenderers\"},{\"attributes\":{},\"id\":\"38715\",\"type\":\"UnionRenderers\"},{\"attributes\":{},\"id\":\"38589\",\"type\":\"UnionRenderers\"},{\"attributes\":{},\"id\":\"38684\",\"type\":\"Selection\"},{\"attributes\":{},\"id\":\"38716\",\"type\":\"Selection\"},{\"attributes\":{\"data\":{\"lat\":[{\"__ndarray__\":\"J5F1Hx3pRUA=\",\"dtype\":\"float64\",\"order\":\"little\",\"shape\":[1]}],\"lon\":[{\"__ndarray__\":\"ueQTDe3LU8A=\",\"dtype\":\"float64\",\"order\":\"little\",\"shape\":[1]}],\"marker.size\":[{\"__ndarray__\":\"AAAAAHv3FkE=\",\"dtype\":\"float64\",\"order\":\"little\",\"shape\":[1]}]},\"selected\":{\"id\":\"38758\"},\"selection_policy\":{\"id\":\"38759\"}},\"id\":\"38511\",\"type\":\"ColumnDataSource\"},{\"attributes\":{},\"id\":\"38590\",\"type\":\"Selection\"},{\"attributes\":{},\"id\":\"38685\",\"type\":\"UnionRenderers\"},{\"attributes\":{},\"id\":\"38717\",\"type\":\"UnionRenderers\"},{\"attributes\":{},\"id\":\"38591\",\"type\":\"UnionRenderers\"},{\"attributes\":{},\"id\":\"38686\",\"type\":\"Selection\"},{\"attributes\":{\"data\":{\"lat\":[{\"__ndarray__\":\"2X/4VCnURUA=\",\"dtype\":\"float64\",\"order\":\"little\",\"shape\":[1]}],\"lon\":[{\"__ndarray__\":\"04cuqK/YU8A=\",\"dtype\":\"float64\",\"order\":\"little\",\"shape\":[1]}],\"marker.size\":[{\"__ndarray__\":\"AAAAAJbbGUE=\",\"dtype\":\"float64\",\"order\":\"little\",\"shape\":[1]}]},\"selected\":{\"id\":\"38560\"},\"selection_policy\":{\"id\":\"38561\"}},\"id\":\"38412\",\"type\":\"ColumnDataSource\"},{\"attributes\":{},\"id\":\"38718\",\"type\":\"Selection\"},{\"attributes\":{},\"id\":\"38592\",\"type\":\"Selection\"},{\"attributes\":{},\"id\":\"38687\",\"type\":\"UnionRenderers\"},{\"attributes\":{},\"id\":\"38719\",\"type\":\"UnionRenderers\"},{\"attributes\":{\"data\":{\"lat\":[{\"__ndarray__\":\"FZay62LURUA=\",\"dtype\":\"float64\",\"order\":\"little\",\"shape\":[1]}],\"lon\":[{\"__ndarray__\":\"+x/D1xXfU8A=\",\"dtype\":\"float64\",\"order\":\"little\",\"shape\":[1]}],\"marker.size\":[{\"__ndarray__\":\"AAAAACTZIEE=\",\"dtype\":\"float64\",\"order\":\"little\",\"shape\":[1]}]},\"selected\":{\"id\":\"38760\"},\"selection_policy\":{\"id\":\"38761\"}},\"id\":\"38512\",\"type\":\"ColumnDataSource\"},{\"attributes\":{},\"id\":\"38593\",\"type\":\"UnionRenderers\"},{\"attributes\":{},\"id\":\"38688\",\"type\":\"Selection\"},{\"attributes\":{},\"id\":\"38720\",\"type\":\"Selection\"},{\"attributes\":{},\"id\":\"38594\",\"type\":\"Selection\"},{\"attributes\":{},\"id\":\"38689\",\"type\":\"UnionRenderers\"},{\"attributes\":{},\"id\":\"38721\",\"type\":\"UnionRenderers\"},{\"attributes\":{},\"id\":\"38595\",\"type\":\"UnionRenderers\"},{\"attributes\":{},\"id\":\"38690\",\"type\":\"Selection\"},{\"attributes\":{\"data\":{\"lat\":[{\"__ndarray__\":\"WFTE6STkRUA=\",\"dtype\":\"float64\",\"order\":\"little\",\"shape\":[1]}],\"lon\":[{\"__ndarray__\":\"MN6HaqfJU8A=\",\"dtype\":\"float64\",\"order\":\"little\",\"shape\":[1]}],\"marker.size\":[{\"__ndarray__\":\"AAAAABsEGUE=\",\"dtype\":\"float64\",\"order\":\"little\",\"shape\":[1]}]},\"selected\":{\"id\":\"38592\"},\"selection_policy\":{\"id\":\"38593\"}},\"id\":\"38428\",\"type\":\"ColumnDataSource\"},{\"attributes\":{},\"id\":\"38722\",\"type\":\"Selection\"},{\"attributes\":{\"data\":{\"lat\":[{\"__ndarray__\":\"uff0ARbbRUA=\",\"dtype\":\"float64\",\"order\":\"little\",\"shape\":[1]}],\"lon\":[{\"__ndarray__\":\"Q4QLu+DfU8A=\",\"dtype\":\"float64\",\"order\":\"little\",\"shape\":[1]}],\"marker.size\":[{\"__ndarray__\":\"AAAAAMpPGkE=\",\"dtype\":\"float64\",\"order\":\"little\",\"shape\":[1]}]},\"selected\":{\"id\":\"38762\"},\"selection_policy\":{\"id\":\"38763\"}},\"id\":\"38513\",\"type\":\"ColumnDataSource\"},{\"attributes\":{},\"id\":\"38596\",\"type\":\"Selection\"},{\"attributes\":{\"data\":{\"lat\":[{\"__ndarray__\":\"L+rmJIzeRUA=\",\"dtype\":\"float64\",\"order\":\"little\",\"shape\":[1]}],\"lon\":[{\"__ndarray__\":\"pRAKQuDNU8A=\",\"dtype\":\"float64\",\"order\":\"little\",\"shape\":[1]}],\"marker.size\":[{\"__ndarray__\":\"AAAAAK8hFEE=\",\"dtype\":\"float64\",\"order\":\"little\",\"shape\":[1]}]},\"selected\":{\"id\":\"38764\"},\"selection_policy\":{\"id\":\"38765\"}},\"id\":\"38514\",\"type\":\"ColumnDataSource\"},{\"attributes\":{},\"id\":\"38691\",\"type\":\"UnionRenderers\"},{\"attributes\":{},\"id\":\"38723\",\"type\":\"UnionRenderers\"},{\"attributes\":{},\"id\":\"38597\",\"type\":\"UnionRenderers\"},{\"attributes\":{},\"id\":\"38599\",\"type\":\"UnionRenderers\"},{\"attributes\":{},\"id\":\"38818\",\"type\":\"Selection\"},{\"attributes\":{},\"id\":\"38598\",\"type\":\"Selection\"},{\"attributes\":{},\"id\":\"38819\",\"type\":\"UnionRenderers\"},{\"attributes\":{},\"id\":\"38600\",\"type\":\"Selection\"},{\"attributes\":{},\"id\":\"38820\",\"type\":\"Selection\"},{\"attributes\":{\"data\":{\"lat\":[{\"__ndarray__\":\"JLJRzn7YRUA=\",\"dtype\":\"float64\",\"order\":\"little\",\"shape\":[1]}],\"lon\":[{\"__ndarray__\":\"zFL8KV/bU8A=\",\"dtype\":\"float64\",\"order\":\"little\",\"shape\":[1]}],\"marker.size\":[{\"__ndarray__\":\"AAAAAPtFJUE=\",\"dtype\":\"float64\",\"order\":\"little\",\"shape\":[1]}]},\"selected\":{\"id\":\"38660\"},\"selection_policy\":{\"id\":\"38661\"}},\"id\":\"38462\",\"type\":\"ColumnDataSource\"},{\"attributes\":{},\"id\":\"38821\",\"type\":\"UnionRenderers\"},{\"attributes\":{\"margin\":[0,0,0,0],\"tabs\":[{\"id\":\"38547\"}]},\"id\":\"38403\",\"type\":\"Tabs\"},{\"attributes\":{\"data\":{\"lat\":[{\"__ndarray__\":\"RbC7itbeRUA=\",\"dtype\":\"float64\",\"order\":\"little\",\"shape\":[1]}],\"lon\":[{\"__ndarray__\":\"wHDX4LfPU8A=\",\"dtype\":\"float64\",\"order\":\"little\",\"shape\":[1]}],\"marker.size\":[{\"__ndarray__\":\"AAAAAJpqEEE=\",\"dtype\":\"float64\",\"order\":\"little\",\"shape\":[1]}]},\"selected\":{\"id\":\"38622\"},\"selection_policy\":{\"id\":\"38623\"}},\"id\":\"38443\",\"type\":\"ColumnDataSource\"},{\"attributes\":{},\"id\":\"38601\",\"type\":\"UnionRenderers\"},{\"attributes\":{\"data\":{\"lat\":[{\"__ndarray__\":\"ZxxVE+XTRUA=\",\"dtype\":\"float64\",\"order\":\"little\",\"shape\":[1]}],\"lon\":[{\"__ndarray__\":\"6v9FZf3bU8A=\",\"dtype\":\"float64\",\"order\":\"little\",\"shape\":[1]}],\"marker.size\":[{\"__ndarray__\":\"AAAAANPtG0E=\",\"dtype\":\"float64\",\"order\":\"little\",\"shape\":[1]}]},\"selected\":{\"id\":\"38616\"},\"selection_policy\":{\"id\":\"38617\"}},\"id\":\"38440\",\"type\":\"ColumnDataSource\"},{\"attributes\":{},\"id\":\"38822\",\"type\":\"Selection\"},{\"attributes\":{},\"id\":\"38602\",\"type\":\"Selection\"},{\"attributes\":{},\"id\":\"38550\",\"type\":\"Selection\"},{\"attributes\":{},\"id\":\"38823\",\"type\":\"UnionRenderers\"},{\"attributes\":{},\"id\":\"38603\",\"type\":\"UnionRenderers\"},{\"attributes\":{\"data\":{\"lat\":[{\"__ndarray__\":\"0svFayDeRUA=\",\"dtype\":\"float64\",\"order\":\"little\",\"shape\":[1]}],\"lon\":[{\"__ndarray__\":\"NesQKHDRU8A=\",\"dtype\":\"float64\",\"order\":\"little\",\"shape\":[1]}],\"marker.size\":[{\"__ndarray__\":\"AAAAABePEUE=\",\"dtype\":\"float64\",\"order\":\"little\",\"shape\":[1]}]},\"selected\":{\"id\":\"38662\"},\"selection_policy\":{\"id\":\"38663\"}},\"id\":\"38463\",\"type\":\"ColumnDataSource\"},{\"attributes\":{},\"id\":\"38824\",\"type\":\"Selection\"},{\"attributes\":{},\"id\":\"38604\",\"type\":\"Selection\"},{\"attributes\":{},\"id\":\"38825\",\"type\":\"UnionRenderers\"},{\"attributes\":{},\"id\":\"38605\",\"type\":\"UnionRenderers\"},{\"attributes\":{},\"id\":\"38826\",\"type\":\"Selection\"},{\"attributes\":{},\"id\":\"38606\",\"type\":\"Selection\"},{\"attributes\":{\"data\":{\"lat\":[{\"__ndarray__\":\"LlVpi2veRUA=\",\"dtype\":\"float64\",\"order\":\"little\",\"shape\":[1]}],\"lon\":[{\"__ndarray__\":\"FbuFx2HWU8A=\",\"dtype\":\"float64\",\"order\":\"little\",\"shape\":[1]}],\"marker.size\":[{\"__ndarray__\":\"AAAAAI6tIkE=\",\"dtype\":\"float64\",\"order\":\"little\",\"shape\":[1]}]},\"selected\":{\"id\":\"38556\"},\"selection_policy\":{\"id\":\"38557\"}},\"id\":\"38410\",\"type\":\"ColumnDataSource\"},{\"attributes\":{\"data\":{\"lat\":[{\"__ndarray__\":\"eLu5UxXRRUA=\",\"dtype\":\"float64\",\"order\":\"little\",\"shape\":[1]}],\"lon\":[{\"__ndarray__\":\"Qqu8ssXiU8A=\",\"dtype\":\"float64\",\"order\":\"little\",\"shape\":[1]}],\"marker.size\":[{\"__ndarray__\":\"AAAAAJWRG0E=\",\"dtype\":\"float64\",\"order\":\"little\",\"shape\":[1]}]},\"selected\":{\"id\":\"38664\"},\"selection_policy\":{\"id\":\"38665\"}},\"id\":\"38464\",\"type\":\"ColumnDataSource\"},{\"attributes\":{},\"id\":\"38827\",\"type\":\"UnionRenderers\"},{\"attributes\":{},\"id\":\"38607\",\"type\":\"UnionRenderers\"},{\"attributes\":{},\"id\":\"38608\",\"type\":\"Selection\"},{\"attributes\":{},\"id\":\"38609\",\"type\":\"UnionRenderers\"},{\"attributes\":{\"data\":{\"lat\":[{\"__ndarray__\":\"0r13aX3VRUA=\",\"dtype\":\"float64\",\"order\":\"little\",\"shape\":[1]}],\"lon\":[{\"__ndarray__\":\"jeshEizeU8A=\",\"dtype\":\"float64\",\"order\":\"little\",\"shape\":[1]}],\"marker.size\":[{\"__ndarray__\":\"AAAAANVxGkE=\",\"dtype\":\"float64\",\"order\":\"little\",\"shape\":[1]}]},\"selected\":{\"id\":\"38666\"},\"selection_policy\":{\"id\":\"38667\"}},\"id\":\"38465\",\"type\":\"ColumnDataSource\"},{\"attributes\":{},\"id\":\"38610\",\"type\":\"Selection\"},{\"attributes\":{},\"id\":\"38611\",\"type\":\"UnionRenderers\"},{\"attributes\":{},\"id\":\"38612\",\"type\":\"Selection\"},{\"attributes\":{\"data\":{\"lat\":[{\"__ndarray__\":\"Ns/w6sXXRUA=\",\"dtype\":\"float64\",\"order\":\"little\",\"shape\":[1]}],\"lon\":[{\"__ndarray__\":\"h2SOBizeU8A=\",\"dtype\":\"float64\",\"order\":\"little\",\"shape\":[1]}],\"marker.size\":[{\"__ndarray__\":\"AAAAAFuzE0E=\",\"dtype\":\"float64\",\"order\":\"little\",\"shape\":[1]}]},\"selected\":{\"id\":\"38668\"},\"selection_policy\":{\"id\":\"38669\"}},\"id\":\"38466\",\"type\":\"ColumnDataSource\"},{\"attributes\":{\"data\":{\"lat\":[{\"__ndarray__\":\"Zgz3ulrcRUA=\",\"dtype\":\"float64\",\"order\":\"little\",\"shape\":[1]}],\"lon\":[{\"__ndarray__\":\"Bh5riCLjU8A=\",\"dtype\":\"float64\",\"order\":\"little\",\"shape\":[1]}],\"marker.size\":[{\"__ndarray__\":\"AAAAANVgEEE=\",\"dtype\":\"float64\",\"order\":\"little\",\"shape\":[1]}]},\"selected\":{\"id\":\"38624\"},\"selection_policy\":{\"id\":\"38625\"}},\"id\":\"38444\",\"type\":\"ColumnDataSource\"},{\"attributes\":{\"data\":{\"lat\":[{\"__ndarray__\":\"wReJfUDYRUA=\",\"dtype\":\"float64\",\"order\":\"little\",\"shape\":[1]}],\"lon\":[{\"__ndarray__\":\"kbiFtjXVU8A=\",\"dtype\":\"float64\",\"order\":\"little\",\"shape\":[1]}],\"marker.size\":[{\"__ndarray__\":\"AAAAAL28GUE=\",\"dtype\":\"float64\",\"order\":\"little\",\"shape\":[1]}]},\"selected\":{\"id\":\"38606\"},\"selection_policy\":{\"id\":\"38607\"}},\"id\":\"38435\",\"type\":\"ColumnDataSource\"},{\"attributes\":{},\"id\":\"38613\",\"type\":\"UnionRenderers\"},{\"attributes\":{},\"id\":\"38548\",\"type\":\"Selection\"},{\"attributes\":{},\"id\":\"38549\",\"type\":\"UnionRenderers\"},{\"attributes\":{},\"id\":\"38614\",\"type\":\"Selection\"},{\"attributes\":{},\"id\":\"38551\",\"type\":\"UnionRenderers\"},{\"attributes\":{},\"id\":\"38615\",\"type\":\"UnionRenderers\"},{\"attributes\":{\"data\":{\"lat\":[{\"__ndarray__\":\"smmEAt/cRUA=\",\"dtype\":\"float64\",\"order\":\"little\",\"shape\":[1]}],\"lon\":[{\"__ndarray__\":\"QRolGqrQU8A=\",\"dtype\":\"float64\",\"order\":\"little\",\"shape\":[1]}],\"marker.size\":[{\"__ndarray__\":\"AAAAAAaIEUE=\",\"dtype\":\"float64\",\"order\":\"little\",\"shape\":[1]}]},\"selected\":{\"id\":\"38670\"},\"selection_policy\":{\"id\":\"38671\"}},\"id\":\"38467\",\"type\":\"ColumnDataSource\"},{\"attributes\":{\"data\":{\"lat\":[{\"__ndarray__\":\"GNQShtzdRUA=\",\"dtype\":\"float64\",\"order\":\"little\",\"shape\":[1]}],\"lon\":[{\"__ndarray__\":\"lEH/TmTfU8A=\",\"dtype\":\"float64\",\"order\":\"little\",\"shape\":[1]}],\"marker.size\":[{\"__ndarray__\":\"AAAAAJ5HF0E=\",\"dtype\":\"float64\",\"order\":\"little\",\"shape\":[1]}]},\"selected\":{\"id\":\"38614\"},\"selection_policy\":{\"id\":\"38615\"}},\"id\":\"38439\",\"type\":\"ColumnDataSource\"},{\"attributes\":{},\"id\":\"38552\",\"type\":\"Selection\"},{\"attributes\":{\"child\":{\"id\":\"38404\"},\"name\":\"Column13842\",\"title\":\"map\"},\"id\":\"38547\",\"type\":\"Panel\"},{\"attributes\":{},\"id\":\"38616\",\"type\":\"Selection\"},{\"attributes\":{},\"id\":\"38553\",\"type\":\"UnionRenderers\"},{\"attributes\":{},\"id\":\"38617\",\"type\":\"UnionRenderers\"},{\"attributes\":{\"children\":[{\"id\":\"38405\"},{\"id\":\"38546\"}],\"margin\":[0,0,0,0],\"name\":\"Column13842\"},\"id\":\"38404\",\"type\":\"Column\"},{\"attributes\":{},\"id\":\"38555\",\"type\":\"UnionRenderers\"},{\"attributes\":{},\"id\":\"38618\",\"type\":\"Selection\"},{\"attributes\":{\"data\":{\"lat\":[{\"__ndarray__\":\"BEJnqafTRUA=\",\"dtype\":\"float64\",\"order\":\"little\",\"shape\":[1]}],\"lon\":[{\"__ndarray__\":\"FlHRYGzZU8A=\",\"dtype\":\"float64\",\"order\":\"little\",\"shape\":[1]}],\"marker.size\":[{\"__ndarray__\":\"AAAAAJfiGkE=\",\"dtype\":\"float64\",\"order\":\"little\",\"shape\":[1]}]},\"selected\":{\"id\":\"38672\"},\"selection_policy\":{\"id\":\"38673\"}},\"id\":\"38468\",\"type\":\"ColumnDataSource\"},{\"attributes\":{\"data\":{\"lat\":[{\"__ndarray__\":\"g2Z8BCPYRUA=\",\"dtype\":\"float64\",\"order\":\"little\",\"shape\":[1]}],\"lon\":[{\"__ndarray__\":\"BhbZMSLdU8A=\",\"dtype\":\"float64\",\"order\":\"little\",\"shape\":[1]}],\"marker.size\":[{\"__ndarray__\":\"AAAAAMkTFkE=\",\"dtype\":\"float64\",\"order\":\"little\",\"shape\":[1]}]},\"selected\":{\"id\":\"38588\"},\"selection_policy\":{\"id\":\"38589\"}},\"id\":\"38426\",\"type\":\"ColumnDataSource\"},{\"attributes\":{},\"id\":\"38556\",\"type\":\"Selection\"},{\"attributes\":{},\"id\":\"38619\",\"type\":\"UnionRenderers\"},{\"attributes\":{\"data\":{\"lat\":[{\"__ndarray__\":\"+aOHJY7XRUA=\",\"dtype\":\"float64\",\"order\":\"little\",\"shape\":[1]}],\"lon\":[{\"__ndarray__\":\"TuLewhvVU8A=\",\"dtype\":\"float64\",\"order\":\"little\",\"shape\":[1]}],\"marker.size\":[{\"__ndarray__\":\"AAAAAPx/HEE=\",\"dtype\":\"float64\",\"order\":\"little\",\"shape\":[1]}]},\"selected\":{\"id\":\"38604\"},\"selection_policy\":{\"id\":\"38605\"}},\"id\":\"38434\",\"type\":\"ColumnDataSource\"},{\"attributes\":{},\"id\":\"38557\",\"type\":\"UnionRenderers\"},{\"attributes\":{},\"id\":\"38620\",\"type\":\"Selection\"},{\"attributes\":{},\"id\":\"38558\",\"type\":\"Selection\"},{\"attributes\":{},\"id\":\"38621\",\"type\":\"UnionRenderers\"},{\"attributes\":{\"data\":{\"lat\":[{\"__ndarray__\":\"BCaqlnjZRUA=\",\"dtype\":\"float64\",\"order\":\"little\",\"shape\":[1]}],\"lon\":[{\"__ndarray__\":\"NshFMRDjU8A=\",\"dtype\":\"float64\",\"order\":\"little\",\"shape\":[1]}],\"marker.size\":[{\"__ndarray__\":\"AAAAAKOmFEE=\",\"dtype\":\"float64\",\"order\":\"little\",\"shape\":[1]}]},\"selected\":{\"id\":\"38674\"},\"selection_policy\":{\"id\":\"38675\"}},\"id\":\"38469\",\"type\":\"ColumnDataSource\"},{\"attributes\":{},\"id\":\"38559\",\"type\":\"UnionRenderers\"},{\"attributes\":{},\"id\":\"38622\",\"type\":\"Selection\"},{\"attributes\":{\"data\":{\"lat\":[{\"__ndarray__\":\"pusN5y/hRUA=\",\"dtype\":\"float64\",\"order\":\"little\",\"shape\":[1]}],\"lon\":[{\"__ndarray__\":\"QzmwoNnRU8A=\",\"dtype\":\"float64\",\"order\":\"little\",\"shape\":[1]}],\"marker.size\":[{\"__ndarray__\":\"AAAAAIL7D0E=\",\"dtype\":\"float64\",\"order\":\"little\",\"shape\":[1]}]},\"selected\":{\"id\":\"38610\"},\"selection_policy\":{\"id\":\"38611\"}},\"id\":\"38437\",\"type\":\"ColumnDataSource\"},{\"attributes\":{},\"id\":\"38560\",\"type\":\"Selection\"},{\"attributes\":{},\"id\":\"38623\",\"type\":\"UnionRenderers\"},{\"attributes\":{},\"id\":\"38561\",\"type\":\"UnionRenderers\"},{\"attributes\":{},\"id\":\"38624\",\"type\":\"Selection\"},{\"attributes\":{\"data\":{\"lat\":[{\"__ndarray__\":\"Fg+1jqbTRUA=\",\"dtype\":\"float64\",\"order\":\"little\",\"shape\":[1]}],\"lon\":[{\"__ndarray__\":\"KoZQSq3gU8A=\",\"dtype\":\"float64\",\"order\":\"little\",\"shape\":[1]}],\"marker.size\":[{\"__ndarray__\":\"AAAAgMS7KUE=\",\"dtype\":\"float64\",\"order\":\"little\",\"shape\":[1]}]},\"selected\":{\"id\":\"38676\"},\"selection_policy\":{\"id\":\"38677\"}},\"id\":\"38470\",\"type\":\"ColumnDataSource\"},{\"attributes\":{},\"id\":\"38554\",\"type\":\"Selection\"},{\"attributes\":{},\"id\":\"38562\",\"type\":\"Selection\"},{\"attributes\":{},\"id\":\"38625\",\"type\":\"UnionRenderers\"},{\"attributes\":{\"data\":{\"lat\":[{\"__ndarray__\":\"nQbS5jTVRUA=\",\"dtype\":\"float64\",\"order\":\"little\",\"shape\":[1]}],\"lon\":[{\"__ndarray__\":\"wh0DDRHcU8A=\",\"dtype\":\"float64\",\"order\":\"little\",\"shape\":[1]}],\"marker.size\":[{\"__ndarray__\":\"AAAAAC6IGkE=\",\"dtype\":\"float64\",\"order\":\"little\",\"shape\":[1]}]},\"selected\":{\"id\":\"38612\"},\"selection_policy\":{\"id\":\"38613\"}},\"id\":\"38438\",\"type\":\"ColumnDataSource\"},{\"attributes\":{\"data\":{\"lat\":[{\"__ndarray__\":\"C2bplt/VRUA=\",\"dtype\":\"float64\",\"order\":\"little\",\"shape\":[1]}],\"lon\":[{\"__ndarray__\":\"cy+s8m/hU8A=\",\"dtype\":\"float64\",\"order\":\"little\",\"shape\":[1]}],\"marker.size\":[{\"__ndarray__\":\"AAAAAAVMKEE=\",\"dtype\":\"float64\",\"order\":\"little\",\"shape\":[1]}]},\"selected\":{\"id\":\"38620\"},\"selection_policy\":{\"id\":\"38621\"}},\"id\":\"38442\",\"type\":\"ColumnDataSource\"},{\"attributes\":{},\"id\":\"38563\",\"type\":\"UnionRenderers\"},{\"attributes\":{},\"id\":\"38626\",\"type\":\"Selection\"},{\"attributes\":{},\"id\":\"38564\",\"type\":\"Selection\"},{\"attributes\":{},\"id\":\"38627\",\"type\":\"UnionRenderers\"},{\"attributes\":{\"data\":{\"lat\":[{\"__ndarray__\":\"YeDaBdrlRUA=\",\"dtype\":\"float64\",\"order\":\"little\",\"shape\":[1]}],\"lon\":[{\"__ndarray__\":\"TL/I9BnUU8A=\",\"dtype\":\"float64\",\"order\":\"little\",\"shape\":[1]}],\"marker.size\":[{\"__ndarray__\":\"AAAAgIfYI0E=\",\"dtype\":\"float64\",\"order\":\"little\",\"shape\":[1]}]},\"selected\":{\"id\":\"38678\"},\"selection_policy\":{\"id\":\"38679\"}},\"id\":\"38471\",\"type\":\"ColumnDataSource\"},{\"attributes\":{\"data\":{\"lat\":[{\"__ndarray__\":\"gQrDVybURUA=\",\"dtype\":\"float64\",\"order\":\"little\",\"shape\":[1]}],\"lon\":[{\"__ndarray__\":\"S0KeNL/fU8A=\",\"dtype\":\"float64\",\"order\":\"little\",\"shape\":[1]}],\"marker.size\":[{\"__ndarray__\":\"AAAAAKeLFEE=\",\"dtype\":\"float64\",\"order\":\"little\",\"shape\":[1]}]},\"selected\":{\"id\":\"38680\"},\"selection_policy\":{\"id\":\"38681\"}},\"id\":\"38472\",\"type\":\"ColumnDataSource\"},{\"attributes\":{\"data\":{\"lat\":[{\"__ndarray__\":\"ULB7ApPXRUA=\",\"dtype\":\"float64\",\"order\":\"little\",\"shape\":[1]}],\"lon\":[{\"__ndarray__\":\"JFtEsSjTU8A=\",\"dtype\":\"float64\",\"order\":\"little\",\"shape\":[1]}],\"marker.size\":[{\"__ndarray__\":\"AAAAAJktHUE=\",\"dtype\":\"float64\",\"order\":\"little\",\"shape\":[1]}]},\"selected\":{\"id\":\"38618\"},\"selection_policy\":{\"id\":\"38619\"}},\"id\":\"38441\",\"type\":\"ColumnDataSource\"},{\"attributes\":{\"data\":{\"lat\":[{\"__ndarray__\":\"Sdu290LkRUA=\",\"dtype\":\"float64\",\"order\":\"little\",\"shape\":[1]}],\"lon\":[{\"__ndarray__\":\"bzH9GqLWU8A=\",\"dtype\":\"float64\",\"order\":\"little\",\"shape\":[1]}],\"marker.size\":[{\"__ndarray__\":\"AAAAAOlKGEE=\",\"dtype\":\"float64\",\"order\":\"little\",\"shape\":[1]}]},\"selected\":{\"id\":\"38608\"},\"selection_policy\":{\"id\":\"38609\"}},\"id\":\"38436\",\"type\":\"ColumnDataSource\"},{\"attributes\":{},\"id\":\"38565\",\"type\":\"UnionRenderers\"},{\"attributes\":{},\"id\":\"38628\",\"type\":\"Selection\"},{\"attributes\":{\"data\":{\"lat\":[{\"__ndarray__\":\"Ih27l73WRUA=\",\"dtype\":\"float64\",\"order\":\"little\",\"shape\":[1]}],\"lon\":[{\"__ndarray__\":\"CZRmVqPcU8A=\",\"dtype\":\"float64\",\"order\":\"little\",\"shape\":[1]}],\"marker.size\":[{\"__ndarray__\":\"AAAAAGqhGUE=\",\"dtype\":\"float64\",\"order\":\"little\",\"shape\":[1]}]},\"selected\":{\"id\":\"38602\"},\"selection_policy\":{\"id\":\"38603\"}},\"id\":\"38433\",\"type\":\"ColumnDataSource\"}],\"root_ids\":[\"38403\",\"39388\"]},\"title\":\"Bokeh Application\",\"version\":\"2.2.3\"}};\n",
       "    var render_items = [{\"docid\":\"c1bbbf70-926e-4c67-be6d-1b0a2fa5e5fa\",\"root_ids\":[\"38403\"],\"roots\":{\"38403\":\"8ced04af-9852-40d2-bd05-4d1e35559ac2\"}}];\n",
       "    root.Bokeh.embed.embed_items_notebook(docs_json, render_items);\n",
       "  }\n",
       "  if (root.Bokeh !== undefined && root.Bokeh.Panel !== undefined && root['Plotly'] !== undefined ) {\n",
       "    embed_document(root);\n",
       "  } else {\n",
       "    var attempts = 0;\n",
       "    var timer = setInterval(function(root) {\n",
       "      if (root.Bokeh !== undefined && root.Bokeh.Panel !== undefined && root['Plotly'] !== undefined) {\n",
       "        clearInterval(timer);\n",
       "        embed_document(root);\n",
       "      } else if (document.readyState == \"complete\") {\n",
       "        attempts++;\n",
       "        if (attempts > 100) {\n",
       "          clearInterval(timer);\n",
       "          console.log(\"Bokeh: ERROR: Unable to run BokehJS code because BokehJS library is missing\");\n",
       "        }\n",
       "      }\n",
       "    }, 10, root)\n",
       "  }\n",
       "})(window);</script>"
      ],
      "text/plain": [
       "Tabs\n",
       "    [0] Column\n",
       "        [0] Markdown(str)\n",
       "        [1] Plotly(Figure)"
      ]
     },
     "execution_count": 145,
     "metadata": {
      "application/vnd.holoviews_exec.v0+json": {
       "id": "38403"
      }
     },
     "output_type": "execute_result"
    }
   ],
   "source": [
    "# Create a scatter mapbox to analyze neighbourhood info\n",
    "def mapfind():\n",
    "    c = px.scatter_mapbox(\n",
    "        joined_data_rows,\n",
    "        lat=\"lat\",\n",
    "        lon=\"lon\",\n",
    "        size=\"average_house_value\",\n",
    "        color=\"neighbourhood\",\n",
    "        color_continuous_scale=px.colors.cyclical.IceFire,\n",
    "        zoom = 3,\n",
    "        width=1000,\n",
    "    )\n",
    "    return c\n",
    "\n",
    "# Create panels to structure the layout of the dashboard\n",
    "geo_column = pn.Column(\n",
    "    \"## Average House Value Toronto 2001-2016 by Neighbourhood\", mapfind()\n",
    ")\n",
    "\n",
    "# Create tabs\n",
    "dashboard = pn.Tabs(\n",
    "    (\"map\", geo_column)\n",
    ")\n",
    "dashboard.servable()"
   ]
  },
  {
   "cell_type": "markdown",
   "metadata": {},
   "source": [
    "- - -"
   ]
  },
  {
   "cell_type": "markdown",
   "metadata": {},
   "source": [
    "## Cost Analysis - Optional Challenge\n",
    "\n",
    "In this section, you will use Plotly express to a couple of plots that investors can interactively filter and explore various factors related to the house value of the Toronto's neighbourhoods. \n",
    "\n",
    "### Create a bar chart row facet to plot the average house values for all Toronto's neighbourhoods per year"
   ]
  },
  {
   "cell_type": "code",
   "execution_count": 23,
   "metadata": {},
   "outputs": [
    {
     "data": {
      "application/vnd.plotly.v1+json": {
       "config": {
        "plotlyServerURL": "https://plotly.com"
       },
       "data": [
        {
         "alignmentgroup": "True",
         "hovertemplate": "year=2001<br>Neighbourhoods=%{x}<br>Avg. House Value=%{marker.color}<extra></extra>",
         "legendgroup": "",
         "marker": {
          "color": [
           200388,
           203047,
           259998,
           453850,
           371864,
           304749,
           257404,
           327644,
           343535,
           565304,
           225369,
           182957,
           265705,
           158483,
           310740,
           222086,
           927466,
           269386,
           213227,
           300213,
           219771,
           596077,
           249025,
           246750,
           215421,
           335119,
           253618,
           255142,
           283706,
           256205,
           241824,
           159187,
           264116,
           231741,
           278023,
           290457,
           483734,
           163419,
           163039,
           345676,
           241685,
           187993,
           126255,
           517466,
           726664,
           199043,
           235168,
           224425,
           224780,
           323536,
           354207,
           260555,
           240009,
           272896,
           213919,
           194295,
           423537,
           174793,
           274436,
           263247,
           196112,
           174518,
           267631,
           205572,
           512334,
           395115,
           204523,
           372579,
           461393,
           664712,
           489998,
           328211,
           234424,
           156076,
           275374,
           269751,
           209609,
           239078,
           173169,
           248778,
           159374,
           153829,
           411558,
           284459,
           247779,
           339987,
           279833,
           224801,
           427169,
           249993,
           181251,
           256556,
           268067,
           269410,
           378033,
           276239,
           246333,
           394235,
           226856,
           465254,
           238524,
           219337,
           210017,
           309221,
           664476,
           228625,
           335435,
           261923,
           200402,
           271880,
           276462,
           607040,
           228460,
           334433,
           215039,
           145464,
           404836,
           228368,
           155094,
           324732,
           375678,
           213950,
           228975,
           172947,
           208555,
           212241,
           187140,
           213749,
           211633,
           284984,
           283215,
           282087,
           181367,
           270607,
           224756,
           343877,
           491987,
           494098,
           185859,
           261784
          ],
          "coloraxis": "coloraxis"
         },
         "name": "",
         "offsetgroup": "",
         "orientation": "v",
         "showlegend": false,
         "textposition": "auto",
         "type": "bar",
         "x": [
          "Agincourt North",
          "Agincourt South-Malvern West",
          "Alderwood",
          "Annex",
          "Banbury-Don Mills",
          "Bathurst Manor",
          "Bay Street Corridor",
          "Bayview Village",
          "Bayview Woods-Steeles",
          "Bedford Park-Nortown",
          "Beechborough-Greenbrook",
          "Bendale",
          "Birchcliffe-Cliffside",
          "Black Creek",
          "Blake-Jones",
          "Briar Hill-Belgravia",
          "Bridle Path-Sunnybrook-York Mills",
          "Broadview North",
          "Brookhaven-Amesbury",
          "Cabbagetown-South St.James Town",
          "Caledonia-Fairbank",
          "Casa Loma",
          "Centennial Scarborough",
          "Church-Yonge Corridor",
          "Clairlea-Birchmount",
          "Clanton Park",
          "Cliffcrest",
          "Corso Italia-Davenport",
          "Danforth",
          "Danforth-East York",
          "Don Valley Village",
          "Dorset Park",
          "Dovercourt-Wallace Emerson-Juncti",
          "Downsview-Roding-CFB",
          "Dufferin Grove",
          "East End-Danforth",
          "Edenbridge-Humber Valley",
          "Eglinton East",
          "Elms-Old Rexdale",
          "Englemount-Lawrence",
          "Eringate-Centennial-West Deane",
          "Etobicoke West Mall",
          "Flemingdon Park",
          "Forest Hill North",
          "Forest Hill South",
          "Glenfield-Jane Heights",
          "Greenwood-Coxwell",
          "Guildwood",
          "Henry Farm",
          "High Park North",
          "High Park-Swansea",
          "Highland Creek",
          "Hillcrest Village",
          "Humber Heights-Westmount",
          "Humber Summit",
          "Humbermede",
          "Humewood-Cedarvale",
          "Ionview",
          "Islington-City Centre West",
          "Junction Area",
          "Keelesdale-Eglinton West",
          "Kennedy Park",
          "Kensington-Chinatown",
          "Kingsview Village-The Westway",
          "Kingsway South",
          "L'Amoreaux",
          "Lambton Baby Point",
          "Lansing-Westgate",
          "Lawrence Park North",
          "Lawrence Park South",
          "Leaside-Bennington",
          "Little Portugal",
          "Long Branch",
          "Malvern",
          "Maple Leaf",
          "Markland Wood",
          "Milliken",
          "Mimico",
          "Morningside",
          "Moss Park",
          "Mount Dennis",
          "Mount Olive-Silverstone-Jamestown",
          "Mount Pleasant East",
          "Mount Pleasant West",
          "New Toronto",
          "Newtonbrook East",
          "Newtonbrook West",
          "Niagara",
          "North Riverdale",
          "North St.James Town",
          "O'Connor-Parkview",
          "Oakridge",
          "Oakwood Village",
          "Old East York",
          "Palmerston-Little Italy",
          "Parkwoods-Donalda",
          "Pelmo Park-Humberlea",
          "Playter Estates-Danforth",
          "Pleasant View",
          "Princess-Rosethorn",
          "Regent Park",
          "Rexdale-Kipling",
          "Rockcliffe-Smythe",
          "Roncesvalles",
          "Rosedale-Moore Park",
          "Rouge",
          "Runnymede-Bloor West Village",
          "Rustic",
          "Scarborough Village",
          "South Parkdale",
          "South Riverdale",
          "St.Andrew-Windfields",
          "Steeles",
          "Stonegate-Queensway",
          "Tam O'Shanter-Sullivan",
          "Taylor-Massey",
          "The Beaches",
          "Thistletown-Beaumond Heights",
          "Thorncliffe Park",
          "Trinity-Bellwoods",
          "University",
          "Victoria Village",
          "Waterfront Communities-The Island",
          "West Hill",
          "West Humber-Clairville",
          "Westminster-Branson",
          "Weston",
          "Weston-Pellam Park",
          "Wexford/Maryvale",
          "Willowdale East",
          "Willowdale West",
          "Willowridge-Martingrove-Richview",
          "Woburn",
          "Woodbine Corridor",
          "Woodbine-Lumsden",
          "Wychwood",
          "Yonge-Eglinton",
          "Yonge-St.Clair",
          "York University Heights",
          "Yorkdale-Glen Park"
         ],
         "xaxis": "x4",
         "y": [
          200388,
          203047,
          259998,
          453850,
          371864,
          304749,
          257404,
          327644,
          343535,
          565304,
          225369,
          182957,
          265705,
          158483,
          310740,
          222086,
          927466,
          269386,
          213227,
          300213,
          219771,
          596077,
          249025,
          246750,
          215421,
          335119,
          253618,
          255142,
          283706,
          256205,
          241824,
          159187,
          264116,
          231741,
          278023,
          290457,
          483734,
          163419,
          163039,
          345676,
          241685,
          187993,
          126255,
          517466,
          726664,
          199043,
          235168,
          224425,
          224780,
          323536,
          354207,
          260555,
          240009,
          272896,
          213919,
          194295,
          423537,
          174793,
          274436,
          263247,
          196112,
          174518,
          267631,
          205572,
          512334,
          395115,
          204523,
          372579,
          461393,
          664712,
          489998,
          328211,
          234424,
          156076,
          275374,
          269751,
          209609,
          239078,
          173169,
          248778,
          159374,
          153829,
          411558,
          284459,
          247779,
          339987,
          279833,
          224801,
          427169,
          249993,
          181251,
          256556,
          268067,
          269410,
          378033,
          276239,
          246333,
          394235,
          226856,
          465254,
          238524,
          219337,
          210017,
          309221,
          664476,
          228625,
          335435,
          261923,
          200402,
          271880,
          276462,
          607040,
          228460,
          334433,
          215039,
          145464,
          404836,
          228368,
          155094,
          324732,
          375678,
          213950,
          228975,
          172947,
          208555,
          212241,
          187140,
          213749,
          211633,
          284984,
          283215,
          282087,
          181367,
          270607,
          224756,
          343877,
          491987,
          494098,
          185859,
          261784
         ],
         "yaxis": "y4"
        },
        {
         "alignmentgroup": "True",
         "hovertemplate": "year=2006<br>Neighbourhoods=%{x}<br>Avg. House Value=%{marker.color}<extra></extra>",
         "legendgroup": "",
         "marker": {
          "color": [
           293140,
           297031,
           380342,
           663921,
           543987,
           445807,
           376548,
           479299,
           502546,
           826963,
           329685,
           267642,
           388690,
           231839,
           454571,
           324882,
           1356757,
           394075,
           311922,
           439171,
           321496,
           871981,
           364291,
           360962,
           315133,
           490234,
           371009,
           373239,
           415024,
           374793,
           353756,
           232869,
           386366,
           339006,
           406710,
           424900,
           707638,
           239060,
           238505,
           505677,
           353553,
           275009,
           184694,
           756983,
           1063011,
           291172,
           344019,
           328303,
           328823,
           473289,
           518157,
           381156,
           351101,
           399210,
           312935,
           284227,
           619577,
           255698,
           401463,
           385094,
           286886,
           255296,
           391509,
           300725,
           749476,
           578001,
           299190,
           545034,
           674957,
           972384,
           716801,
           480129,
           342930,
           228318,
           402835,
           394610,
           306629,
           349739,
           253323,
           363929,
           233143,
           225031,
           602054,
           416125,
           362468,
           497355,
           409358,
           328854,
           624890,
           365706,
           265146,
           375307,
           392146,
           394111,
           553011,
           404100,
           360352,
           576713,
           331860,
           680604,
           348928,
           320860,
           307227,
           452349,
           972039,
           334448,
           490697,
           383158,
           293162,
           397724,
           404427,
           888017,
           334206,
           489230,
           314574,
           212794,
           592220,
           334072,
           226882,
           475039,
           549567,
           312980,
           334960,
           252998,
           305088,
           310480,
           273761,
           312685,
           309590,
           416893,
           414306,
           412655,
           265315,
           395861,
           328788,
           503046,
           719711,
           722799,
           271887,
           382954
          ],
          "coloraxis": "coloraxis"
         },
         "name": "",
         "offsetgroup": "",
         "orientation": "v",
         "showlegend": false,
         "textposition": "auto",
         "type": "bar",
         "x": [
          "Agincourt North",
          "Agincourt South-Malvern West",
          "Alderwood",
          "Annex",
          "Banbury-Don Mills",
          "Bathurst Manor",
          "Bay Street Corridor",
          "Bayview Village",
          "Bayview Woods-Steeles",
          "Bedford Park-Nortown",
          "Beechborough-Greenbrook",
          "Bendale",
          "Birchcliffe-Cliffside",
          "Black Creek",
          "Blake-Jones",
          "Briar Hill-Belgravia",
          "Bridle Path-Sunnybrook-York Mills",
          "Broadview North",
          "Brookhaven-Amesbury",
          "Cabbagetown-South St.James Town",
          "Caledonia-Fairbank",
          "Casa Loma",
          "Centennial Scarborough",
          "Church-Yonge Corridor",
          "Clairlea-Birchmount",
          "Clanton Park",
          "Cliffcrest",
          "Corso Italia-Davenport",
          "Danforth",
          "Danforth-East York",
          "Don Valley Village",
          "Dorset Park",
          "Dovercourt-Wallace Emerson-Juncti",
          "Downsview-Roding-CFB",
          "Dufferin Grove",
          "East End-Danforth",
          "Edenbridge-Humber Valley",
          "Eglinton East",
          "Elms-Old Rexdale",
          "Englemount-Lawrence",
          "Eringate-Centennial-West Deane",
          "Etobicoke West Mall",
          "Flemingdon Park",
          "Forest Hill North",
          "Forest Hill South",
          "Glenfield-Jane Heights",
          "Greenwood-Coxwell",
          "Guildwood",
          "Henry Farm",
          "High Park North",
          "High Park-Swansea",
          "Highland Creek",
          "Hillcrest Village",
          "Humber Heights-Westmount",
          "Humber Summit",
          "Humbermede",
          "Humewood-Cedarvale",
          "Ionview",
          "Islington-City Centre West",
          "Junction Area",
          "Keelesdale-Eglinton West",
          "Kennedy Park",
          "Kensington-Chinatown",
          "Kingsview Village-The Westway",
          "Kingsway South",
          "L'Amoreaux",
          "Lambton Baby Point",
          "Lansing-Westgate",
          "Lawrence Park North",
          "Lawrence Park South",
          "Leaside-Bennington",
          "Little Portugal",
          "Long Branch",
          "Malvern",
          "Maple Leaf",
          "Markland Wood",
          "Milliken",
          "Mimico",
          "Morningside",
          "Moss Park",
          "Mount Dennis",
          "Mount Olive-Silverstone-Jamestown",
          "Mount Pleasant East",
          "Mount Pleasant West",
          "New Toronto",
          "Newtonbrook East",
          "Newtonbrook West",
          "Niagara",
          "North Riverdale",
          "North St.James Town",
          "O'Connor-Parkview",
          "Oakridge",
          "Oakwood Village",
          "Old East York",
          "Palmerston-Little Italy",
          "Parkwoods-Donalda",
          "Pelmo Park-Humberlea",
          "Playter Estates-Danforth",
          "Pleasant View",
          "Princess-Rosethorn",
          "Regent Park",
          "Rexdale-Kipling",
          "Rockcliffe-Smythe",
          "Roncesvalles",
          "Rosedale-Moore Park",
          "Rouge",
          "Runnymede-Bloor West Village",
          "Rustic",
          "Scarborough Village",
          "South Parkdale",
          "South Riverdale",
          "St.Andrew-Windfields",
          "Steeles",
          "Stonegate-Queensway",
          "Tam O'Shanter-Sullivan",
          "Taylor-Massey",
          "The Beaches",
          "Thistletown-Beaumond Heights",
          "Thorncliffe Park",
          "Trinity-Bellwoods",
          "University",
          "Victoria Village",
          "Waterfront Communities-The Island",
          "West Hill",
          "West Humber-Clairville",
          "Westminster-Branson",
          "Weston",
          "Weston-Pellam Park",
          "Wexford/Maryvale",
          "Willowdale East",
          "Willowdale West",
          "Willowridge-Martingrove-Richview",
          "Woburn",
          "Woodbine Corridor",
          "Woodbine-Lumsden",
          "Wychwood",
          "Yonge-Eglinton",
          "Yonge-St.Clair",
          "York University Heights",
          "Yorkdale-Glen Park"
         ],
         "xaxis": "x3",
         "y": [
          293140,
          297031,
          380342,
          663921,
          543987,
          445807,
          376548,
          479299,
          502546,
          826963,
          329685,
          267642,
          388690,
          231839,
          454571,
          324882,
          1356757,
          394075,
          311922,
          439171,
          321496,
          871981,
          364291,
          360962,
          315133,
          490234,
          371009,
          373239,
          415024,
          374793,
          353756,
          232869,
          386366,
          339006,
          406710,
          424900,
          707638,
          239060,
          238505,
          505677,
          353553,
          275009,
          184694,
          756983,
          1063011,
          291172,
          344019,
          328303,
          328823,
          473289,
          518157,
          381156,
          351101,
          399210,
          312935,
          284227,
          619577,
          255698,
          401463,
          385094,
          286886,
          255296,
          391509,
          300725,
          749476,
          578001,
          299190,
          545034,
          674957,
          972384,
          716801,
          480129,
          342930,
          228318,
          402835,
          394610,
          306629,
          349739,
          253323,
          363929,
          233143,
          225031,
          602054,
          416125,
          362468,
          497355,
          409358,
          328854,
          624890,
          365706,
          265146,
          375307,
          392146,
          394111,
          553011,
          404100,
          360352,
          576713,
          331860,
          680604,
          348928,
          320860,
          307227,
          452349,
          972039,
          334448,
          490697,
          383158,
          293162,
          397724,
          404427,
          888017,
          334206,
          489230,
          314574,
          212794,
          592220,
          334072,
          226882,
          475039,
          549567,
          312980,
          334960,
          252998,
          305088,
          310480,
          273761,
          312685,
          309590,
          416893,
          414306,
          412655,
          265315,
          395861,
          328788,
          503046,
          719711,
          722799,
          271887,
          382954
         ],
         "yaxis": "y3"
        },
        {
         "alignmentgroup": "True",
         "hovertemplate": "year=2011<br>Neighbourhoods=%{x}<br>Avg. House Value=%{marker.color}<extra></extra>",
         "legendgroup": "",
         "marker": {
          "color": [
           366667,
           371534,
           475742,
           830450,
           680433,
           557627,
           470996,
           599520,
           628597,
           1034387,
           412378,
           334773,
           486184,
           289990,
           568589,
           406371,
           1697067,
           492919,
           390160,
           549326,
           402135,
           1090696,
           455664,
           451500,
           394176,
           613197,
           464068,
           466857,
           519123,
           468801,
           442487,
           291278,
           483276,
           424038,
           508723,
           531476,
           885132,
           299023,
           298328,
           632514,
           442233,
           343988,
           231020,
           946854,
           1329642,
           364206,
           430308,
           410650,
           411300,
           592002,
           648124,
           476760,
           439166,
           499342,
           391427,
           355519,
           774983,
           319834,
           502160,
           481686,
           358844,
           319331,
           489709,
           376154,
           937464,
           722978,
           374234,
           681742,
           844253,
           1216283,
           896593,
           600558,
           428946,
           285586,
           503876,
           493588,
           383540,
           437462,
           316863,
           455212,
           291621,
           281475,
           753065,
           520500,
           453384,
           622104,
           512036,
           411339,
           781629,
           457435,
           331652,
           469444,
           490506,
           492964,
           691720,
           505459,
           450737,
           721368,
           415099,
           851317,
           436448,
           401340,
           384287,
           565810,
           1215852,
           418336,
           613776,
           479264,
           366694,
           497483,
           505868,
           1110755,
           418033,
           611942,
           393477,
           266168,
           740764,
           417866,
           283790,
           594191,
           687412,
           391483,
           418977,
           316456,
           381612,
           388356,
           342427,
           391115,
           387243,
           521460,
           518224,
           516160,
           331863,
           495153,
           411256,
           629223,
           900233,
           904096,
           340083,
           479009
          ],
          "coloraxis": "coloraxis"
         },
         "name": "",
         "offsetgroup": "",
         "orientation": "v",
         "showlegend": false,
         "textposition": "auto",
         "type": "bar",
         "x": [
          "Agincourt North",
          "Agincourt South-Malvern West",
          "Alderwood",
          "Annex",
          "Banbury-Don Mills",
          "Bathurst Manor",
          "Bay Street Corridor",
          "Bayview Village",
          "Bayview Woods-Steeles",
          "Bedford Park-Nortown",
          "Beechborough-Greenbrook",
          "Bendale",
          "Birchcliffe-Cliffside",
          "Black Creek",
          "Blake-Jones",
          "Briar Hill-Belgravia",
          "Bridle Path-Sunnybrook-York Mills",
          "Broadview North",
          "Brookhaven-Amesbury",
          "Cabbagetown-South St.James Town",
          "Caledonia-Fairbank",
          "Casa Loma",
          "Centennial Scarborough",
          "Church-Yonge Corridor",
          "Clairlea-Birchmount",
          "Clanton Park",
          "Cliffcrest",
          "Corso Italia-Davenport",
          "Danforth",
          "Danforth-East York",
          "Don Valley Village",
          "Dorset Park",
          "Dovercourt-Wallace Emerson-Juncti",
          "Downsview-Roding-CFB",
          "Dufferin Grove",
          "East End-Danforth",
          "Edenbridge-Humber Valley",
          "Eglinton East",
          "Elms-Old Rexdale",
          "Englemount-Lawrence",
          "Eringate-Centennial-West Deane",
          "Etobicoke West Mall",
          "Flemingdon Park",
          "Forest Hill North",
          "Forest Hill South",
          "Glenfield-Jane Heights",
          "Greenwood-Coxwell",
          "Guildwood",
          "Henry Farm",
          "High Park North",
          "High Park-Swansea",
          "Highland Creek",
          "Hillcrest Village",
          "Humber Heights-Westmount",
          "Humber Summit",
          "Humbermede",
          "Humewood-Cedarvale",
          "Ionview",
          "Islington-City Centre West",
          "Junction Area",
          "Keelesdale-Eglinton West",
          "Kennedy Park",
          "Kensington-Chinatown",
          "Kingsview Village-The Westway",
          "Kingsway South",
          "L'Amoreaux",
          "Lambton Baby Point",
          "Lansing-Westgate",
          "Lawrence Park North",
          "Lawrence Park South",
          "Leaside-Bennington",
          "Little Portugal",
          "Long Branch",
          "Malvern",
          "Maple Leaf",
          "Markland Wood",
          "Milliken",
          "Mimico",
          "Morningside",
          "Moss Park",
          "Mount Dennis",
          "Mount Olive-Silverstone-Jamestown",
          "Mount Pleasant East",
          "Mount Pleasant West",
          "New Toronto",
          "Newtonbrook East",
          "Newtonbrook West",
          "Niagara",
          "North Riverdale",
          "North St.James Town",
          "O'Connor-Parkview",
          "Oakridge",
          "Oakwood Village",
          "Old East York",
          "Palmerston-Little Italy",
          "Parkwoods-Donalda",
          "Pelmo Park-Humberlea",
          "Playter Estates-Danforth",
          "Pleasant View",
          "Princess-Rosethorn",
          "Regent Park",
          "Rexdale-Kipling",
          "Rockcliffe-Smythe",
          "Roncesvalles",
          "Rosedale-Moore Park",
          "Rouge",
          "Runnymede-Bloor West Village",
          "Rustic",
          "Scarborough Village",
          "South Parkdale",
          "South Riverdale",
          "St.Andrew-Windfields",
          "Steeles",
          "Stonegate-Queensway",
          "Tam O'Shanter-Sullivan",
          "Taylor-Massey",
          "The Beaches",
          "Thistletown-Beaumond Heights",
          "Thorncliffe Park",
          "Trinity-Bellwoods",
          "University",
          "Victoria Village",
          "Waterfront Communities-The Island",
          "West Hill",
          "West Humber-Clairville",
          "Westminster-Branson",
          "Weston",
          "Weston-Pellam Park",
          "Wexford/Maryvale",
          "Willowdale East",
          "Willowdale West",
          "Willowridge-Martingrove-Richview",
          "Woburn",
          "Woodbine Corridor",
          "Woodbine-Lumsden",
          "Wychwood",
          "Yonge-Eglinton",
          "Yonge-St.Clair",
          "York University Heights",
          "Yorkdale-Glen Park"
         ],
         "xaxis": "x2",
         "y": [
          366667,
          371534,
          475742,
          830450,
          680433,
          557627,
          470996,
          599520,
          628597,
          1034387,
          412378,
          334773,
          486184,
          289990,
          568589,
          406371,
          1697067,
          492919,
          390160,
          549326,
          402135,
          1090696,
          455664,
          451500,
          394176,
          613197,
          464068,
          466857,
          519123,
          468801,
          442487,
          291278,
          483276,
          424038,
          508723,
          531476,
          885132,
          299023,
          298328,
          632514,
          442233,
          343988,
          231020,
          946854,
          1329642,
          364206,
          430308,
          410650,
          411300,
          592002,
          648124,
          476760,
          439166,
          499342,
          391427,
          355519,
          774983,
          319834,
          502160,
          481686,
          358844,
          319331,
          489709,
          376154,
          937464,
          722978,
          374234,
          681742,
          844253,
          1216283,
          896593,
          600558,
          428946,
          285586,
          503876,
          493588,
          383540,
          437462,
          316863,
          455212,
          291621,
          281475,
          753065,
          520500,
          453384,
          622104,
          512036,
          411339,
          781629,
          457435,
          331652,
          469444,
          490506,
          492964,
          691720,
          505459,
          450737,
          721368,
          415099,
          851317,
          436448,
          401340,
          384287,
          565810,
          1215852,
          418336,
          613776,
          479264,
          366694,
          497483,
          505868,
          1110755,
          418033,
          611942,
          393477,
          266168,
          740764,
          417866,
          283790,
          594191,
          687412,
          391483,
          418977,
          316456,
          381612,
          388356,
          342427,
          391115,
          387243,
          521460,
          518224,
          516160,
          331863,
          495153,
          411256,
          629223,
          900233,
          904096,
          340083,
          479009
         ],
         "yaxis": "y2"
        },
        {
         "alignmentgroup": "True",
         "hovertemplate": "year=2016<br>Neighbourhoods=%{x}<br>Avg. House Value=%{marker.color}<extra></extra>",
         "legendgroup": "",
         "marker": {
          "color": [
           459051,
           465144,
           595608,
           1039687,
           851872,
           698124,
           589666,
           750572,
           786976,
           1295007,
           516279,
           419121,
           608681,
           363055,
           711848,
           508759,
           2124653,
           617113,
           488463,
           687732,
           503455,
           1365503,
           570471,
           565258,
           493491,
           767695,
           580993,
           584484,
           649919,
           586918,
           553974,
           364667,
           605040,
           530877,
           636899,
           665384,
           1108146,
           374364,
           373493,
           791880,
           553656,
           430658,
           289227,
           1185419,
           1664653,
           455970,
           538727,
           514116,
           514929,
           741161,
           811423,
           596883,
           549816,
           625154,
           490049,
           445094,
           970245,
           400418,
           628682,
           603050,
           449257,
           399789,
           613094,
           470928,
           1173663,
           905137,
           468524,
           853511,
           1056967,
           1522732,
           1122495,
           751872,
           537021,
           357541,
           630831,
           617950,
           480175,
           547683,
           396699,
           569905,
           365097,
           352394,
           942804,
           651643,
           567617,
           778847,
           641047,
           514978,
           978565,
           572689,
           415214,
           587723,
           614092,
           617169,
           866003,
           632812,
           564303,
           903121,
           519686,
           1065811,
           546413,
           502460,
           481110,
           708369,
           1522193,
           523738,
           768420,
           600017,
           459085,
           622827,
           633325,
           1390616,
           523359,
           766124,
           492616,
           333230,
           927404,
           523150,
           355293,
           743901,
           860610,
           490119,
           524540,
           396189,
           477762,
           486204,
           428703,
           489659,
           484811,
           652845,
           648794,
           646210,
           415478,
           619910,
           514874,
           787760,
           1127052,
           1131888,
           425769,
           599698
          ],
          "coloraxis": "coloraxis"
         },
         "name": "",
         "offsetgroup": "",
         "orientation": "v",
         "showlegend": false,
         "textposition": "auto",
         "type": "bar",
         "x": [
          "Agincourt North",
          "Agincourt South-Malvern West",
          "Alderwood",
          "Annex",
          "Banbury-Don Mills",
          "Bathurst Manor",
          "Bay Street Corridor",
          "Bayview Village",
          "Bayview Woods-Steeles",
          "Bedford Park-Nortown",
          "Beechborough-Greenbrook",
          "Bendale",
          "Birchcliffe-Cliffside",
          "Black Creek",
          "Blake-Jones",
          "Briar Hill-Belgravia",
          "Bridle Path-Sunnybrook-York Mills",
          "Broadview North",
          "Brookhaven-Amesbury",
          "Cabbagetown-South St.James Town",
          "Caledonia-Fairbank",
          "Casa Loma",
          "Centennial Scarborough",
          "Church-Yonge Corridor",
          "Clairlea-Birchmount",
          "Clanton Park",
          "Cliffcrest",
          "Corso Italia-Davenport",
          "Danforth",
          "Danforth-East York",
          "Don Valley Village",
          "Dorset Park",
          "Dovercourt-Wallace Emerson-Juncti",
          "Downsview-Roding-CFB",
          "Dufferin Grove",
          "East End-Danforth",
          "Edenbridge-Humber Valley",
          "Eglinton East",
          "Elms-Old Rexdale",
          "Englemount-Lawrence",
          "Eringate-Centennial-West Deane",
          "Etobicoke West Mall",
          "Flemingdon Park",
          "Forest Hill North",
          "Forest Hill South",
          "Glenfield-Jane Heights",
          "Greenwood-Coxwell",
          "Guildwood",
          "Henry Farm",
          "High Park North",
          "High Park-Swansea",
          "Highland Creek",
          "Hillcrest Village",
          "Humber Heights-Westmount",
          "Humber Summit",
          "Humbermede",
          "Humewood-Cedarvale",
          "Ionview",
          "Islington-City Centre West",
          "Junction Area",
          "Keelesdale-Eglinton West",
          "Kennedy Park",
          "Kensington-Chinatown",
          "Kingsview Village-The Westway",
          "Kingsway South",
          "L'Amoreaux",
          "Lambton Baby Point",
          "Lansing-Westgate",
          "Lawrence Park North",
          "Lawrence Park South",
          "Leaside-Bennington",
          "Little Portugal",
          "Long Branch",
          "Malvern",
          "Maple Leaf",
          "Markland Wood",
          "Milliken",
          "Mimico",
          "Morningside",
          "Moss Park",
          "Mount Dennis",
          "Mount Olive-Silverstone-Jamestown",
          "Mount Pleasant East",
          "Mount Pleasant West",
          "New Toronto",
          "Newtonbrook East",
          "Newtonbrook West",
          "Niagara",
          "North Riverdale",
          "North St.James Town",
          "O'Connor-Parkview",
          "Oakridge",
          "Oakwood Village",
          "Old East York",
          "Palmerston-Little Italy",
          "Parkwoods-Donalda",
          "Pelmo Park-Humberlea",
          "Playter Estates-Danforth",
          "Pleasant View",
          "Princess-Rosethorn",
          "Regent Park",
          "Rexdale-Kipling",
          "Rockcliffe-Smythe",
          "Roncesvalles",
          "Rosedale-Moore Park",
          "Rouge",
          "Runnymede-Bloor West Village",
          "Rustic",
          "Scarborough Village",
          "South Parkdale",
          "South Riverdale",
          "St.Andrew-Windfields",
          "Steeles",
          "Stonegate-Queensway",
          "Tam O'Shanter-Sullivan",
          "Taylor-Massey",
          "The Beaches",
          "Thistletown-Beaumond Heights",
          "Thorncliffe Park",
          "Trinity-Bellwoods",
          "University",
          "Victoria Village",
          "Waterfront Communities-The Island",
          "West Hill",
          "West Humber-Clairville",
          "Westminster-Branson",
          "Weston",
          "Weston-Pellam Park",
          "Wexford/Maryvale",
          "Willowdale East",
          "Willowdale West",
          "Willowridge-Martingrove-Richview",
          "Woburn",
          "Woodbine Corridor",
          "Woodbine-Lumsden",
          "Wychwood",
          "Yonge-Eglinton",
          "Yonge-St.Clair",
          "York University Heights",
          "Yorkdale-Glen Park"
         ],
         "xaxis": "x",
         "y": [
          459051,
          465144,
          595608,
          1039687,
          851872,
          698124,
          589666,
          750572,
          786976,
          1295007,
          516279,
          419121,
          608681,
          363055,
          711848,
          508759,
          2124653,
          617113,
          488463,
          687732,
          503455,
          1365503,
          570471,
          565258,
          493491,
          767695,
          580993,
          584484,
          649919,
          586918,
          553974,
          364667,
          605040,
          530877,
          636899,
          665384,
          1108146,
          374364,
          373493,
          791880,
          553656,
          430658,
          289227,
          1185419,
          1664653,
          455970,
          538727,
          514116,
          514929,
          741161,
          811423,
          596883,
          549816,
          625154,
          490049,
          445094,
          970245,
          400418,
          628682,
          603050,
          449257,
          399789,
          613094,
          470928,
          1173663,
          905137,
          468524,
          853511,
          1056967,
          1522732,
          1122495,
          751872,
          537021,
          357541,
          630831,
          617950,
          480175,
          547683,
          396699,
          569905,
          365097,
          352394,
          942804,
          651643,
          567617,
          778847,
          641047,
          514978,
          978565,
          572689,
          415214,
          587723,
          614092,
          617169,
          866003,
          632812,
          564303,
          903121,
          519686,
          1065811,
          546413,
          502460,
          481110,
          708369,
          1522193,
          523738,
          768420,
          600017,
          459085,
          622827,
          633325,
          1390616,
          523359,
          766124,
          492616,
          333230,
          927404,
          523150,
          355293,
          743901,
          860610,
          490119,
          524540,
          396189,
          477762,
          486204,
          428703,
          489659,
          484811,
          652845,
          648794,
          646210,
          415478,
          619910,
          514874,
          787760,
          1127052,
          1131888,
          425769,
          599698
         ],
         "yaxis": "y"
        }
       ],
       "layout": {
        "annotations": [
         {
          "font": {},
          "showarrow": false,
          "text": "year=2016",
          "textangle": 90,
          "x": 0.98,
          "xanchor": "left",
          "xref": "paper",
          "y": 0.11375,
          "yanchor": "middle",
          "yref": "paper"
         },
         {
          "font": {},
          "showarrow": false,
          "text": "year=2011",
          "textangle": 90,
          "x": 0.98,
          "xanchor": "left",
          "xref": "paper",
          "y": 0.37124999999999997,
          "yanchor": "middle",
          "yref": "paper"
         },
         {
          "font": {},
          "showarrow": false,
          "text": "year=2006",
          "textangle": 90,
          "x": 0.98,
          "xanchor": "left",
          "xref": "paper",
          "y": 0.62875,
          "yanchor": "middle",
          "yref": "paper"
         },
         {
          "font": {},
          "showarrow": false,
          "text": "year=2001",
          "textangle": 90,
          "x": 0.98,
          "xanchor": "left",
          "xref": "paper",
          "y": 0.88625,
          "yanchor": "middle",
          "yref": "paper"
         }
        ],
        "autosize": true,
        "barmode": "relative",
        "coloraxis": {
         "colorbar": {
          "title": {
           "text": "Avg. House Value"
          }
         },
         "colorscale": [
          [
           0,
           "#0d0887"
          ],
          [
           0.1111111111111111,
           "#46039f"
          ],
          [
           0.2222222222222222,
           "#7201a8"
          ],
          [
           0.3333333333333333,
           "#9c179e"
          ],
          [
           0.4444444444444444,
           "#bd3786"
          ],
          [
           0.5555555555555556,
           "#d8576b"
          ],
          [
           0.6666666666666666,
           "#ed7953"
          ],
          [
           0.7777777777777778,
           "#fb9f3a"
          ],
          [
           0.8888888888888888,
           "#fdca26"
          ],
          [
           1,
           "#f0f921"
          ]
         ]
        },
        "legend": {
         "tracegroupgap": 0
        },
        "template": {
         "data": {
          "bar": [
           {
            "error_x": {
             "color": "#2a3f5f"
            },
            "error_y": {
             "color": "#2a3f5f"
            },
            "marker": {
             "line": {
              "color": "#E5ECF6",
              "width": 0.5
             }
            },
            "type": "bar"
           }
          ],
          "barpolar": [
           {
            "marker": {
             "line": {
              "color": "#E5ECF6",
              "width": 0.5
             }
            },
            "type": "barpolar"
           }
          ],
          "carpet": [
           {
            "aaxis": {
             "endlinecolor": "#2a3f5f",
             "gridcolor": "white",
             "linecolor": "white",
             "minorgridcolor": "white",
             "startlinecolor": "#2a3f5f"
            },
            "baxis": {
             "endlinecolor": "#2a3f5f",
             "gridcolor": "white",
             "linecolor": "white",
             "minorgridcolor": "white",
             "startlinecolor": "#2a3f5f"
            },
            "type": "carpet"
           }
          ],
          "choropleth": [
           {
            "colorbar": {
             "outlinewidth": 0,
             "ticks": ""
            },
            "type": "choropleth"
           }
          ],
          "contour": [
           {
            "colorbar": {
             "outlinewidth": 0,
             "ticks": ""
            },
            "colorscale": [
             [
              0,
              "#0d0887"
             ],
             [
              0.1111111111111111,
              "#46039f"
             ],
             [
              0.2222222222222222,
              "#7201a8"
             ],
             [
              0.3333333333333333,
              "#9c179e"
             ],
             [
              0.4444444444444444,
              "#bd3786"
             ],
             [
              0.5555555555555556,
              "#d8576b"
             ],
             [
              0.6666666666666666,
              "#ed7953"
             ],
             [
              0.7777777777777778,
              "#fb9f3a"
             ],
             [
              0.8888888888888888,
              "#fdca26"
             ],
             [
              1,
              "#f0f921"
             ]
            ],
            "type": "contour"
           }
          ],
          "contourcarpet": [
           {
            "colorbar": {
             "outlinewidth": 0,
             "ticks": ""
            },
            "type": "contourcarpet"
           }
          ],
          "heatmap": [
           {
            "colorbar": {
             "outlinewidth": 0,
             "ticks": ""
            },
            "colorscale": [
             [
              0,
              "#0d0887"
             ],
             [
              0.1111111111111111,
              "#46039f"
             ],
             [
              0.2222222222222222,
              "#7201a8"
             ],
             [
              0.3333333333333333,
              "#9c179e"
             ],
             [
              0.4444444444444444,
              "#bd3786"
             ],
             [
              0.5555555555555556,
              "#d8576b"
             ],
             [
              0.6666666666666666,
              "#ed7953"
             ],
             [
              0.7777777777777778,
              "#fb9f3a"
             ],
             [
              0.8888888888888888,
              "#fdca26"
             ],
             [
              1,
              "#f0f921"
             ]
            ],
            "type": "heatmap"
           }
          ],
          "heatmapgl": [
           {
            "colorbar": {
             "outlinewidth": 0,
             "ticks": ""
            },
            "colorscale": [
             [
              0,
              "#0d0887"
             ],
             [
              0.1111111111111111,
              "#46039f"
             ],
             [
              0.2222222222222222,
              "#7201a8"
             ],
             [
              0.3333333333333333,
              "#9c179e"
             ],
             [
              0.4444444444444444,
              "#bd3786"
             ],
             [
              0.5555555555555556,
              "#d8576b"
             ],
             [
              0.6666666666666666,
              "#ed7953"
             ],
             [
              0.7777777777777778,
              "#fb9f3a"
             ],
             [
              0.8888888888888888,
              "#fdca26"
             ],
             [
              1,
              "#f0f921"
             ]
            ],
            "type": "heatmapgl"
           }
          ],
          "histogram": [
           {
            "marker": {
             "colorbar": {
              "outlinewidth": 0,
              "ticks": ""
             }
            },
            "type": "histogram"
           }
          ],
          "histogram2d": [
           {
            "colorbar": {
             "outlinewidth": 0,
             "ticks": ""
            },
            "colorscale": [
             [
              0,
              "#0d0887"
             ],
             [
              0.1111111111111111,
              "#46039f"
             ],
             [
              0.2222222222222222,
              "#7201a8"
             ],
             [
              0.3333333333333333,
              "#9c179e"
             ],
             [
              0.4444444444444444,
              "#bd3786"
             ],
             [
              0.5555555555555556,
              "#d8576b"
             ],
             [
              0.6666666666666666,
              "#ed7953"
             ],
             [
              0.7777777777777778,
              "#fb9f3a"
             ],
             [
              0.8888888888888888,
              "#fdca26"
             ],
             [
              1,
              "#f0f921"
             ]
            ],
            "type": "histogram2d"
           }
          ],
          "histogram2dcontour": [
           {
            "colorbar": {
             "outlinewidth": 0,
             "ticks": ""
            },
            "colorscale": [
             [
              0,
              "#0d0887"
             ],
             [
              0.1111111111111111,
              "#46039f"
             ],
             [
              0.2222222222222222,
              "#7201a8"
             ],
             [
              0.3333333333333333,
              "#9c179e"
             ],
             [
              0.4444444444444444,
              "#bd3786"
             ],
             [
              0.5555555555555556,
              "#d8576b"
             ],
             [
              0.6666666666666666,
              "#ed7953"
             ],
             [
              0.7777777777777778,
              "#fb9f3a"
             ],
             [
              0.8888888888888888,
              "#fdca26"
             ],
             [
              1,
              "#f0f921"
             ]
            ],
            "type": "histogram2dcontour"
           }
          ],
          "mesh3d": [
           {
            "colorbar": {
             "outlinewidth": 0,
             "ticks": ""
            },
            "type": "mesh3d"
           }
          ],
          "parcoords": [
           {
            "line": {
             "colorbar": {
              "outlinewidth": 0,
              "ticks": ""
             }
            },
            "type": "parcoords"
           }
          ],
          "pie": [
           {
            "automargin": true,
            "type": "pie"
           }
          ],
          "scatter": [
           {
            "marker": {
             "colorbar": {
              "outlinewidth": 0,
              "ticks": ""
             }
            },
            "type": "scatter"
           }
          ],
          "scatter3d": [
           {
            "line": {
             "colorbar": {
              "outlinewidth": 0,
              "ticks": ""
             }
            },
            "marker": {
             "colorbar": {
              "outlinewidth": 0,
              "ticks": ""
             }
            },
            "type": "scatter3d"
           }
          ],
          "scattercarpet": [
           {
            "marker": {
             "colorbar": {
              "outlinewidth": 0,
              "ticks": ""
             }
            },
            "type": "scattercarpet"
           }
          ],
          "scattergeo": [
           {
            "marker": {
             "colorbar": {
              "outlinewidth": 0,
              "ticks": ""
             }
            },
            "type": "scattergeo"
           }
          ],
          "scattergl": [
           {
            "marker": {
             "colorbar": {
              "outlinewidth": 0,
              "ticks": ""
             }
            },
            "type": "scattergl"
           }
          ],
          "scattermapbox": [
           {
            "marker": {
             "colorbar": {
              "outlinewidth": 0,
              "ticks": ""
             }
            },
            "type": "scattermapbox"
           }
          ],
          "scatterpolar": [
           {
            "marker": {
             "colorbar": {
              "outlinewidth": 0,
              "ticks": ""
             }
            },
            "type": "scatterpolar"
           }
          ],
          "scatterpolargl": [
           {
            "marker": {
             "colorbar": {
              "outlinewidth": 0,
              "ticks": ""
             }
            },
            "type": "scatterpolargl"
           }
          ],
          "scatterternary": [
           {
            "marker": {
             "colorbar": {
              "outlinewidth": 0,
              "ticks": ""
             }
            },
            "type": "scatterternary"
           }
          ],
          "surface": [
           {
            "colorbar": {
             "outlinewidth": 0,
             "ticks": ""
            },
            "colorscale": [
             [
              0,
              "#0d0887"
             ],
             [
              0.1111111111111111,
              "#46039f"
             ],
             [
              0.2222222222222222,
              "#7201a8"
             ],
             [
              0.3333333333333333,
              "#9c179e"
             ],
             [
              0.4444444444444444,
              "#bd3786"
             ],
             [
              0.5555555555555556,
              "#d8576b"
             ],
             [
              0.6666666666666666,
              "#ed7953"
             ],
             [
              0.7777777777777778,
              "#fb9f3a"
             ],
             [
              0.8888888888888888,
              "#fdca26"
             ],
             [
              1,
              "#f0f921"
             ]
            ],
            "type": "surface"
           }
          ],
          "table": [
           {
            "cells": {
             "fill": {
              "color": "#EBF0F8"
             },
             "line": {
              "color": "white"
             }
            },
            "header": {
             "fill": {
              "color": "#C8D4E3"
             },
             "line": {
              "color": "white"
             }
            },
            "type": "table"
           }
          ]
         },
         "layout": {
          "annotationdefaults": {
           "arrowcolor": "#2a3f5f",
           "arrowhead": 0,
           "arrowwidth": 1
          },
          "coloraxis": {
           "colorbar": {
            "outlinewidth": 0,
            "ticks": ""
           }
          },
          "colorscale": {
           "diverging": [
            [
             0,
             "#8e0152"
            ],
            [
             0.1,
             "#c51b7d"
            ],
            [
             0.2,
             "#de77ae"
            ],
            [
             0.3,
             "#f1b6da"
            ],
            [
             0.4,
             "#fde0ef"
            ],
            [
             0.5,
             "#f7f7f7"
            ],
            [
             0.6,
             "#e6f5d0"
            ],
            [
             0.7,
             "#b8e186"
            ],
            [
             0.8,
             "#7fbc41"
            ],
            [
             0.9,
             "#4d9221"
            ],
            [
             1,
             "#276419"
            ]
           ],
           "sequential": [
            [
             0,
             "#0d0887"
            ],
            [
             0.1111111111111111,
             "#46039f"
            ],
            [
             0.2222222222222222,
             "#7201a8"
            ],
            [
             0.3333333333333333,
             "#9c179e"
            ],
            [
             0.4444444444444444,
             "#bd3786"
            ],
            [
             0.5555555555555556,
             "#d8576b"
            ],
            [
             0.6666666666666666,
             "#ed7953"
            ],
            [
             0.7777777777777778,
             "#fb9f3a"
            ],
            [
             0.8888888888888888,
             "#fdca26"
            ],
            [
             1,
             "#f0f921"
            ]
           ],
           "sequentialminus": [
            [
             0,
             "#0d0887"
            ],
            [
             0.1111111111111111,
             "#46039f"
            ],
            [
             0.2222222222222222,
             "#7201a8"
            ],
            [
             0.3333333333333333,
             "#9c179e"
            ],
            [
             0.4444444444444444,
             "#bd3786"
            ],
            [
             0.5555555555555556,
             "#d8576b"
            ],
            [
             0.6666666666666666,
             "#ed7953"
            ],
            [
             0.7777777777777778,
             "#fb9f3a"
            ],
            [
             0.8888888888888888,
             "#fdca26"
            ],
            [
             1,
             "#f0f921"
            ]
           ]
          },
          "colorway": [
           "#636efa",
           "#EF553B",
           "#00cc96",
           "#ab63fa",
           "#FFA15A",
           "#19d3f3",
           "#FF6692",
           "#B6E880",
           "#FF97FF",
           "#FECB52"
          ],
          "font": {
           "color": "#2a3f5f"
          },
          "geo": {
           "bgcolor": "white",
           "lakecolor": "white",
           "landcolor": "#E5ECF6",
           "showlakes": true,
           "showland": true,
           "subunitcolor": "white"
          },
          "hoverlabel": {
           "align": "left"
          },
          "hovermode": "closest",
          "mapbox": {
           "style": "light"
          },
          "paper_bgcolor": "white",
          "plot_bgcolor": "#E5ECF6",
          "polar": {
           "angularaxis": {
            "gridcolor": "white",
            "linecolor": "white",
            "ticks": ""
           },
           "bgcolor": "#E5ECF6",
           "radialaxis": {
            "gridcolor": "white",
            "linecolor": "white",
            "ticks": ""
           }
          },
          "scene": {
           "xaxis": {
            "backgroundcolor": "#E5ECF6",
            "gridcolor": "white",
            "gridwidth": 2,
            "linecolor": "white",
            "showbackground": true,
            "ticks": "",
            "zerolinecolor": "white"
           },
           "yaxis": {
            "backgroundcolor": "#E5ECF6",
            "gridcolor": "white",
            "gridwidth": 2,
            "linecolor": "white",
            "showbackground": true,
            "ticks": "",
            "zerolinecolor": "white"
           },
           "zaxis": {
            "backgroundcolor": "#E5ECF6",
            "gridcolor": "white",
            "gridwidth": 2,
            "linecolor": "white",
            "showbackground": true,
            "ticks": "",
            "zerolinecolor": "white"
           }
          },
          "shapedefaults": {
           "line": {
            "color": "#2a3f5f"
           }
          },
          "ternary": {
           "aaxis": {
            "gridcolor": "white",
            "linecolor": "white",
            "ticks": ""
           },
           "baxis": {
            "gridcolor": "white",
            "linecolor": "white",
            "ticks": ""
           },
           "bgcolor": "#E5ECF6",
           "caxis": {
            "gridcolor": "white",
            "linecolor": "white",
            "ticks": ""
           }
          },
          "title": {
           "x": 0.05
          },
          "xaxis": {
           "automargin": true,
           "gridcolor": "white",
           "linecolor": "white",
           "ticks": "",
           "title": {
            "standoff": 15
           },
           "zerolinecolor": "white",
           "zerolinewidth": 2
          },
          "yaxis": {
           "automargin": true,
           "gridcolor": "white",
           "linecolor": "white",
           "ticks": "",
           "title": {
            "standoff": 15
           },
           "zerolinecolor": "white",
           "zerolinewidth": 2
          }
         }
        },
        "title": {
         "text": "Average House Values in Toronto per Neighbourhood"
        },
        "xaxis": {
         "anchor": "y",
         "autorange": true,
         "domain": [
          0,
          0.98
         ],
         "range": [
          -0.5,
          139.5
         ],
         "title": {
          "text": "Neighbourhoods"
         },
         "type": "category"
        },
        "xaxis2": {
         "anchor": "y2",
         "autorange": true,
         "domain": [
          0,
          0.98
         ],
         "matches": "x",
         "range": [
          -0.5,
          139.5
         ],
         "showticklabels": false,
         "type": "category"
        },
        "xaxis3": {
         "anchor": "y3",
         "autorange": true,
         "domain": [
          0,
          0.98
         ],
         "matches": "x",
         "range": [
          -0.5,
          139.5
         ],
         "showticklabels": false,
         "type": "category"
        },
        "xaxis4": {
         "anchor": "y4",
         "autorange": true,
         "domain": [
          0,
          0.98
         ],
         "matches": "x",
         "range": [
          -0.5,
          139.5
         ],
         "showticklabels": false,
         "type": "category"
        },
        "yaxis": {
         "anchor": "x",
         "autorange": true,
         "domain": [
          0,
          0.2275
         ],
         "range": [
          0,
          2236476.8421052634
         ],
         "title": {
          "text": "Avg. House Value"
         },
         "type": "linear"
        },
        "yaxis2": {
         "anchor": "x2",
         "autorange": true,
         "domain": [
          0.2575,
          0.485
         ],
         "matches": "y",
         "range": [
          0,
          2236476.8421052634
         ],
         "title": {
          "text": "Avg. House Value"
         },
         "type": "linear"
        },
        "yaxis3": {
         "anchor": "x3",
         "autorange": true,
         "domain": [
          0.515,
          0.7425
         ],
         "matches": "y",
         "range": [
          0,
          2236476.8421052634
         ],
         "title": {
          "text": "Avg. House Value"
         },
         "type": "linear"
        },
        "yaxis4": {
         "anchor": "x4",
         "autorange": true,
         "domain": [
          0.7725,
          1
         ],
         "matches": "y",
         "range": [
          0,
          2236476.8421052634
         ],
         "title": {
          "text": "Avg. House Value"
         },
         "type": "linear"
        }
       }
      },
      "image/png": "[encoded data removed]",
      "text/html": [
       "<div>\n",
       "        \n",
       "        \n",
       "            <div id=\"24b6f220-d63c-4d5e-866b-af04270df0c1\" class=\"plotly-graph-div\" style=\"height:1024px; width:100%;\"></div>\n",
       "            <script type=\"text/javascript\">\n",
       "                require([\"plotly\"], function(Plotly) {\n",
       "                    window.PLOTLYENV=window.PLOTLYENV || {};\n",
       "                    \n",
       "                if (document.getElementById(\"24b6f220-d63c-4d5e-866b-af04270df0c1\")) {\n",
       "                    Plotly.newPlot(\n",
       "                        '24b6f220-d63c-4d5e-866b-af04270df0c1',\n",
       "                        [{\"alignmentgroup\": \"True\", \"hovertemplate\": \"year=2001<br>Neighbourhoods=%{x}<br>Avg. House Value=%{marker.color}<extra></extra>\", \"legendgroup\": \"\", \"marker\": {\"color\": [200388, 203047, 259998, 453850, 371864, 304749, 257404, 327644, 343535, 565304, 225369, 182957, 265705, 158483, 310740, 222086, 927466, 269386, 213227, 300213, 219771, 596077, 249025, 246750, 215421, 335119, 253618, 255142, 283706, 256205, 241824, 159187, 264116, 231741, 278023, 290457, 483734, 163419, 163039, 345676, 241685, 187993, 126255, 517466, 726664, 199043, 235168, 224425, 224780, 323536, 354207, 260555, 240009, 272896, 213919, 194295, 423537, 174793, 274436, 263247, 196112, 174518, 267631, 205572, 512334, 395115, 204523, 372579, 461393, 664712, 489998, 328211, 234424, 156076, 275374, 269751, 209609, 239078, 173169, 248778, 159374, 153829, 411558, 284459, 247779, 339987, 279833, 224801, 427169, 249993, 181251, 256556, 268067, 269410, 378033, 276239, 246333, 394235, 226856, 465254, 238524, 219337, 210017, 309221, 664476, 228625, 335435, 261923, 200402, 271880, 276462, 607040, 228460, 334433, 215039, 145464, 404836, 228368, 155094, 324732, 375678, 213950, 228975, 172947, 208555, 212241, 187140, 213749, 211633, 284984, 283215, 282087, 181367, 270607, 224756, 343877, 491987, 494098, 185859, 261784], \"coloraxis\": \"coloraxis\"}, \"name\": \"\", \"offsetgroup\": \"\", \"orientation\": \"v\", \"showlegend\": false, \"textposition\": \"auto\", \"type\": \"bar\", \"x\": [\"Agincourt North\", \"Agincourt South-Malvern West\", \"Alderwood\", \"Annex\", \"Banbury-Don Mills\", \"Bathurst Manor\", \"Bay Street Corridor\", \"Bayview Village\", \"Bayview Woods-Steeles\", \"Bedford Park-Nortown\", \"Beechborough-Greenbrook\", \"Bendale\", \"Birchcliffe-Cliffside\", \"Black Creek\", \"Blake-Jones\", \"Briar Hill-Belgravia\", \"Bridle Path-Sunnybrook-York Mills\", \"Broadview North\", \"Brookhaven-Amesbury\", \"Cabbagetown-South St.James Town\", \"Caledonia-Fairbank\", \"Casa Loma\", \"Centennial Scarborough\", \"Church-Yonge Corridor\", \"Clairlea-Birchmount\", \"Clanton Park\", \"Cliffcrest\", \"Corso Italia-Davenport\", \"Danforth\", \"Danforth-East York\", \"Don Valley Village\", \"Dorset Park\", \"Dovercourt-Wallace Emerson-Juncti\", \"Downsview-Roding-CFB\", \"Dufferin Grove\", \"East End-Danforth\", \"Edenbridge-Humber Valley\", \"Eglinton East\", \"Elms-Old Rexdale\", \"Englemount-Lawrence\", \"Eringate-Centennial-West Deane\", \"Etobicoke West Mall\", \"Flemingdon Park\", \"Forest Hill North\", \"Forest Hill South\", \"Glenfield-Jane Heights\", \"Greenwood-Coxwell\", \"Guildwood\", \"Henry Farm\", \"High Park North\", \"High Park-Swansea\", \"Highland Creek\", \"Hillcrest Village\", \"Humber Heights-Westmount\", \"Humber Summit\", \"Humbermede\", \"Humewood-Cedarvale\", \"Ionview\", \"Islington-City Centre West\", \"Junction Area\", \"Keelesdale-Eglinton West\", \"Kennedy Park\", \"Kensington-Chinatown\", \"Kingsview Village-The Westway\", \"Kingsway South\", \"L'Amoreaux\", \"Lambton Baby Point\", \"Lansing-Westgate\", \"Lawrence Park North\", \"Lawrence Park South\", \"Leaside-Bennington\", \"Little Portugal\", \"Long Branch\", \"Malvern\", \"Maple Leaf\", \"Markland Wood\", \"Milliken\", \"Mimico\", \"Morningside\", \"Moss Park\", \"Mount Dennis\", \"Mount Olive-Silverstone-Jamestown\", \"Mount Pleasant East\", \"Mount Pleasant West\", \"New Toronto\", \"Newtonbrook East\", \"Newtonbrook West\", \"Niagara\", \"North Riverdale\", \"North St.James Town\", \"O'Connor-Parkview\", \"Oakridge\", \"Oakwood Village\", \"Old East York\", \"Palmerston-Little Italy\", \"Parkwoods-Donalda\", \"Pelmo Park-Humberlea\", \"Playter Estates-Danforth\", \"Pleasant View\", \"Princess-Rosethorn\", \"Regent Park\", \"Rexdale-Kipling\", \"Rockcliffe-Smythe\", \"Roncesvalles\", \"Rosedale-Moore Park\", \"Rouge\", \"Runnymede-Bloor West Village\", \"Rustic\", \"Scarborough Village\", \"South Parkdale\", \"South Riverdale\", \"St.Andrew-Windfields\", \"Steeles\", \"Stonegate-Queensway\", \"Tam O'Shanter-Sullivan\", \"Taylor-Massey\", \"The Beaches\", \"Thistletown-Beaumond Heights\", \"Thorncliffe Park\", \"Trinity-Bellwoods\", \"University\", \"Victoria Village\", \"Waterfront Communities-The Island\", \"West Hill\", \"West Humber-Clairville\", \"Westminster-Branson\", \"Weston\", \"Weston-Pellam Park\", \"Wexford/Maryvale\", \"Willowdale East\", \"Willowdale West\", \"Willowridge-Martingrove-Richview\", \"Woburn\", \"Woodbine Corridor\", \"Woodbine-Lumsden\", \"Wychwood\", \"Yonge-Eglinton\", \"Yonge-St.Clair\", \"York University Heights\", \"Yorkdale-Glen Park\"], \"xaxis\": \"x4\", \"y\": [200388, 203047, 259998, 453850, 371864, 304749, 257404, 327644, 343535, 565304, 225369, 182957, 265705, 158483, 310740, 222086, 927466, 269386, 213227, 300213, 219771, 596077, 249025, 246750, 215421, 335119, 253618, 255142, 283706, 256205, 241824, 159187, 264116, 231741, 278023, 290457, 483734, 163419, 163039, 345676, 241685, 187993, 126255, 517466, 726664, 199043, 235168, 224425, 224780, 323536, 354207, 260555, 240009, 272896, 213919, 194295, 423537, 174793, 274436, 263247, 196112, 174518, 267631, 205572, 512334, 395115, 204523, 372579, 461393, 664712, 489998, 328211, 234424, 156076, 275374, 269751, 209609, 239078, 173169, 248778, 159374, 153829, 411558, 284459, 247779, 339987, 279833, 224801, 427169, 249993, 181251, 256556, 268067, 269410, 378033, 276239, 246333, 394235, 226856, 465254, 238524, 219337, 210017, 309221, 664476, 228625, 335435, 261923, 200402, 271880, 276462, 607040, 228460, 334433, 215039, 145464, 404836, 228368, 155094, 324732, 375678, 213950, 228975, 172947, 208555, 212241, 187140, 213749, 211633, 284984, 283215, 282087, 181367, 270607, 224756, 343877, 491987, 494098, 185859, 261784], \"yaxis\": \"y4\"}, {\"alignmentgroup\": \"True\", \"hovertemplate\": \"year=2006<br>Neighbourhoods=%{x}<br>Avg. House Value=%{marker.color}<extra></extra>\", \"legendgroup\": \"\", \"marker\": {\"color\": [293140, 297031, 380342, 663921, 543987, 445807, 376548, 479299, 502546, 826963, 329685, 267642, 388690, 231839, 454571, 324882, 1356757, 394075, 311922, 439171, 321496, 871981, 364291, 360962, 315133, 490234, 371009, 373239, 415024, 374793, 353756, 232869, 386366, 339006, 406710, 424900, 707638, 239060, 238505, 505677, 353553, 275009, 184694, 756983, 1063011, 291172, 344019, 328303, 328823, 473289, 518157, 381156, 351101, 399210, 312935, 284227, 619577, 255698, 401463, 385094, 286886, 255296, 391509, 300725, 749476, 578001, 299190, 545034, 674957, 972384, 716801, 480129, 342930, 228318, 402835, 394610, 306629, 349739, 253323, 363929, 233143, 225031, 602054, 416125, 362468, 497355, 409358, 328854, 624890, 365706, 265146, 375307, 392146, 394111, 553011, 404100, 360352, 576713, 331860, 680604, 348928, 320860, 307227, 452349, 972039, 334448, 490697, 383158, 293162, 397724, 404427, 888017, 334206, 489230, 314574, 212794, 592220, 334072, 226882, 475039, 549567, 312980, 334960, 252998, 305088, 310480, 273761, 312685, 309590, 416893, 414306, 412655, 265315, 395861, 328788, 503046, 719711, 722799, 271887, 382954], \"coloraxis\": \"coloraxis\"}, \"name\": \"\", \"offsetgroup\": \"\", \"orientation\": \"v\", \"showlegend\": false, \"textposition\": \"auto\", \"type\": \"bar\", \"x\": [\"Agincourt North\", \"Agincourt South-Malvern West\", \"Alderwood\", \"Annex\", \"Banbury-Don Mills\", \"Bathurst Manor\", \"Bay Street Corridor\", \"Bayview Village\", \"Bayview Woods-Steeles\", \"Bedford Park-Nortown\", \"Beechborough-Greenbrook\", \"Bendale\", \"Birchcliffe-Cliffside\", \"Black Creek\", \"Blake-Jones\", \"Briar Hill-Belgravia\", \"Bridle Path-Sunnybrook-York Mills\", \"Broadview North\", \"Brookhaven-Amesbury\", \"Cabbagetown-South St.James Town\", \"Caledonia-Fairbank\", \"Casa Loma\", \"Centennial Scarborough\", \"Church-Yonge Corridor\", \"Clairlea-Birchmount\", \"Clanton Park\", \"Cliffcrest\", \"Corso Italia-Davenport\", \"Danforth\", \"Danforth-East York\", \"Don Valley Village\", \"Dorset Park\", \"Dovercourt-Wallace Emerson-Juncti\", \"Downsview-Roding-CFB\", \"Dufferin Grove\", \"East End-Danforth\", \"Edenbridge-Humber Valley\", \"Eglinton East\", \"Elms-Old Rexdale\", \"Englemount-Lawrence\", \"Eringate-Centennial-West Deane\", \"Etobicoke West Mall\", \"Flemingdon Park\", \"Forest Hill North\", \"Forest Hill South\", \"Glenfield-Jane Heights\", \"Greenwood-Coxwell\", \"Guildwood\", \"Henry Farm\", \"High Park North\", \"High Park-Swansea\", \"Highland Creek\", \"Hillcrest Village\", \"Humber Heights-Westmount\", \"Humber Summit\", \"Humbermede\", \"Humewood-Cedarvale\", \"Ionview\", \"Islington-City Centre West\", \"Junction Area\", \"Keelesdale-Eglinton West\", \"Kennedy Park\", \"Kensington-Chinatown\", \"Kingsview Village-The Westway\", \"Kingsway South\", \"L'Amoreaux\", \"Lambton Baby Point\", \"Lansing-Westgate\", \"Lawrence Park North\", \"Lawrence Park South\", \"Leaside-Bennington\", \"Little Portugal\", \"Long Branch\", \"Malvern\", \"Maple Leaf\", \"Markland Wood\", \"Milliken\", \"Mimico\", \"Morningside\", \"Moss Park\", \"Mount Dennis\", \"Mount Olive-Silverstone-Jamestown\", \"Mount Pleasant East\", \"Mount Pleasant West\", \"New Toronto\", \"Newtonbrook East\", \"Newtonbrook West\", \"Niagara\", \"North Riverdale\", \"North St.James Town\", \"O'Connor-Parkview\", \"Oakridge\", \"Oakwood Village\", \"Old East York\", \"Palmerston-Little Italy\", \"Parkwoods-Donalda\", \"Pelmo Park-Humberlea\", \"Playter Estates-Danforth\", \"Pleasant View\", \"Princess-Rosethorn\", \"Regent Park\", \"Rexdale-Kipling\", \"Rockcliffe-Smythe\", \"Roncesvalles\", \"Rosedale-Moore Park\", \"Rouge\", \"Runnymede-Bloor West Village\", \"Rustic\", \"Scarborough Village\", \"South Parkdale\", \"South Riverdale\", \"St.Andrew-Windfields\", \"Steeles\", \"Stonegate-Queensway\", \"Tam O'Shanter-Sullivan\", \"Taylor-Massey\", \"The Beaches\", \"Thistletown-Beaumond Heights\", \"Thorncliffe Park\", \"Trinity-Bellwoods\", \"University\", \"Victoria Village\", \"Waterfront Communities-The Island\", \"West Hill\", \"West Humber-Clairville\", \"Westminster-Branson\", \"Weston\", \"Weston-Pellam Park\", \"Wexford/Maryvale\", \"Willowdale East\", \"Willowdale West\", \"Willowridge-Martingrove-Richview\", \"Woburn\", \"Woodbine Corridor\", \"Woodbine-Lumsden\", \"Wychwood\", \"Yonge-Eglinton\", \"Yonge-St.Clair\", \"York University Heights\", \"Yorkdale-Glen Park\"], \"xaxis\": \"x3\", \"y\": [293140, 297031, 380342, 663921, 543987, 445807, 376548, 479299, 502546, 826963, 329685, 267642, 388690, 231839, 454571, 324882, 1356757, 394075, 311922, 439171, 321496, 871981, 364291, 360962, 315133, 490234, 371009, 373239, 415024, 374793, 353756, 232869, 386366, 339006, 406710, 424900, 707638, 239060, 238505, 505677, 353553, 275009, 184694, 756983, 1063011, 291172, 344019, 328303, 328823, 473289, 518157, 381156, 351101, 399210, 312935, 284227, 619577, 255698, 401463, 385094, 286886, 255296, 391509, 300725, 749476, 578001, 299190, 545034, 674957, 972384, 716801, 480129, 342930, 228318, 402835, 394610, 306629, 349739, 253323, 363929, 233143, 225031, 602054, 416125, 362468, 497355, 409358, 328854, 624890, 365706, 265146, 375307, 392146, 394111, 553011, 404100, 360352, 576713, 331860, 680604, 348928, 320860, 307227, 452349, 972039, 334448, 490697, 383158, 293162, 397724, 404427, 888017, 334206, 489230, 314574, 212794, 592220, 334072, 226882, 475039, 549567, 312980, 334960, 252998, 305088, 310480, 273761, 312685, 309590, 416893, 414306, 412655, 265315, 395861, 328788, 503046, 719711, 722799, 271887, 382954], \"yaxis\": \"y3\"}, {\"alignmentgroup\": \"True\", \"hovertemplate\": \"year=2011<br>Neighbourhoods=%{x}<br>Avg. House Value=%{marker.color}<extra></extra>\", \"legendgroup\": \"\", \"marker\": {\"color\": [366667, 371534, 475742, 830450, 680433, 557627, 470996, 599520, 628597, 1034387, 412378, 334773, 486184, 289990, 568589, 406371, 1697067, 492919, 390160, 549326, 402135, 1090696, 455664, 451500, 394176, 613197, 464068, 466857, 519123, 468801, 442487, 291278, 483276, 424038, 508723, 531476, 885132, 299023, 298328, 632514, 442233, 343988, 231020, 946854, 1329642, 364206, 430308, 410650, 411300, 592002, 648124, 476760, 439166, 499342, 391427, 355519, 774983, 319834, 502160, 481686, 358844, 319331, 489709, 376154, 937464, 722978, 374234, 681742, 844253, 1216283, 896593, 600558, 428946, 285586, 503876, 493588, 383540, 437462, 316863, 455212, 291621, 281475, 753065, 520500, 453384, 622104, 512036, 411339, 781629, 457435, 331652, 469444, 490506, 492964, 691720, 505459, 450737, 721368, 415099, 851317, 436448, 401340, 384287, 565810, 1215852, 418336, 613776, 479264, 366694, 497483, 505868, 1110755, 418033, 611942, 393477, 266168, 740764, 417866, 283790, 594191, 687412, 391483, 418977, 316456, 381612, 388356, 342427, 391115, 387243, 521460, 518224, 516160, 331863, 495153, 411256, 629223, 900233, 904096, 340083, 479009], \"coloraxis\": \"coloraxis\"}, \"name\": \"\", \"offsetgroup\": \"\", \"orientation\": \"v\", \"showlegend\": false, \"textposition\": \"auto\", \"type\": \"bar\", \"x\": [\"Agincourt North\", \"Agincourt South-Malvern West\", \"Alderwood\", \"Annex\", \"Banbury-Don Mills\", \"Bathurst Manor\", \"Bay Street Corridor\", \"Bayview Village\", \"Bayview Woods-Steeles\", \"Bedford Park-Nortown\", \"Beechborough-Greenbrook\", \"Bendale\", \"Birchcliffe-Cliffside\", \"Black Creek\", \"Blake-Jones\", \"Briar Hill-Belgravia\", \"Bridle Path-Sunnybrook-York Mills\", \"Broadview North\", \"Brookhaven-Amesbury\", \"Cabbagetown-South St.James Town\", \"Caledonia-Fairbank\", \"Casa Loma\", \"Centennial Scarborough\", \"Church-Yonge Corridor\", \"Clairlea-Birchmount\", \"Clanton Park\", \"Cliffcrest\", \"Corso Italia-Davenport\", \"Danforth\", \"Danforth-East York\", \"Don Valley Village\", \"Dorset Park\", \"Dovercourt-Wallace Emerson-Juncti\", \"Downsview-Roding-CFB\", \"Dufferin Grove\", \"East End-Danforth\", \"Edenbridge-Humber Valley\", \"Eglinton East\", \"Elms-Old Rexdale\", \"Englemount-Lawrence\", \"Eringate-Centennial-West Deane\", \"Etobicoke West Mall\", \"Flemingdon Park\", \"Forest Hill North\", \"Forest Hill South\", \"Glenfield-Jane Heights\", \"Greenwood-Coxwell\", \"Guildwood\", \"Henry Farm\", \"High Park North\", \"High Park-Swansea\", \"Highland Creek\", \"Hillcrest Village\", \"Humber Heights-Westmount\", \"Humber Summit\", \"Humbermede\", \"Humewood-Cedarvale\", \"Ionview\", \"Islington-City Centre West\", \"Junction Area\", \"Keelesdale-Eglinton West\", \"Kennedy Park\", \"Kensington-Chinatown\", \"Kingsview Village-The Westway\", \"Kingsway South\", \"L'Amoreaux\", \"Lambton Baby Point\", \"Lansing-Westgate\", \"Lawrence Park North\", \"Lawrence Park South\", \"Leaside-Bennington\", \"Little Portugal\", \"Long Branch\", \"Malvern\", \"Maple Leaf\", \"Markland Wood\", \"Milliken\", \"Mimico\", \"Morningside\", \"Moss Park\", \"Mount Dennis\", \"Mount Olive-Silverstone-Jamestown\", \"Mount Pleasant East\", \"Mount Pleasant West\", \"New Toronto\", \"Newtonbrook East\", \"Newtonbrook West\", \"Niagara\", \"North Riverdale\", \"North St.James Town\", \"O'Connor-Parkview\", \"Oakridge\", \"Oakwood Village\", \"Old East York\", \"Palmerston-Little Italy\", \"Parkwoods-Donalda\", \"Pelmo Park-Humberlea\", \"Playter Estates-Danforth\", \"Pleasant View\", \"Princess-Rosethorn\", \"Regent Park\", \"Rexdale-Kipling\", \"Rockcliffe-Smythe\", \"Roncesvalles\", \"Rosedale-Moore Park\", \"Rouge\", \"Runnymede-Bloor West Village\", \"Rustic\", \"Scarborough Village\", \"South Parkdale\", \"South Riverdale\", \"St.Andrew-Windfields\", \"Steeles\", \"Stonegate-Queensway\", \"Tam O'Shanter-Sullivan\", \"Taylor-Massey\", \"The Beaches\", \"Thistletown-Beaumond Heights\", \"Thorncliffe Park\", \"Trinity-Bellwoods\", \"University\", \"Victoria Village\", \"Waterfront Communities-The Island\", \"West Hill\", \"West Humber-Clairville\", \"Westminster-Branson\", \"Weston\", \"Weston-Pellam Park\", \"Wexford/Maryvale\", \"Willowdale East\", \"Willowdale West\", \"Willowridge-Martingrove-Richview\", \"Woburn\", \"Woodbine Corridor\", \"Woodbine-Lumsden\", \"Wychwood\", \"Yonge-Eglinton\", \"Yonge-St.Clair\", \"York University Heights\", \"Yorkdale-Glen Park\"], \"xaxis\": \"x2\", \"y\": [366667, 371534, 475742, 830450, 680433, 557627, 470996, 599520, 628597, 1034387, 412378, 334773, 486184, 289990, 568589, 406371, 1697067, 492919, 390160, 549326, 402135, 1090696, 455664, 451500, 394176, 613197, 464068, 466857, 519123, 468801, 442487, 291278, 483276, 424038, 508723, 531476, 885132, 299023, 298328, 632514, 442233, 343988, 231020, 946854, 1329642, 364206, 430308, 410650, 411300, 592002, 648124, 476760, 439166, 499342, 391427, 355519, 774983, 319834, 502160, 481686, 358844, 319331, 489709, 376154, 937464, 722978, 374234, 681742, 844253, 1216283, 896593, 600558, 428946, 285586, 503876, 493588, 383540, 437462, 316863, 455212, 291621, 281475, 753065, 520500, 453384, 622104, 512036, 411339, 781629, 457435, 331652, 469444, 490506, 492964, 691720, 505459, 450737, 721368, 415099, 851317, 436448, 401340, 384287, 565810, 1215852, 418336, 613776, 479264, 366694, 497483, 505868, 1110755, 418033, 611942, 393477, 266168, 740764, 417866, 283790, 594191, 687412, 391483, 418977, 316456, 381612, 388356, 342427, 391115, 387243, 521460, 518224, 516160, 331863, 495153, 411256, 629223, 900233, 904096, 340083, 479009], \"yaxis\": \"y2\"}, {\"alignmentgroup\": \"True\", \"hovertemplate\": \"year=2016<br>Neighbourhoods=%{x}<br>Avg. House Value=%{marker.color}<extra></extra>\", \"legendgroup\": \"\", \"marker\": {\"color\": [459051, 465144, 595608, 1039687, 851872, 698124, 589666, 750572, 786976, 1295007, 516279, 419121, 608681, 363055, 711848, 508759, 2124653, 617113, 488463, 687732, 503455, 1365503, 570471, 565258, 493491, 767695, 580993, 584484, 649919, 586918, 553974, 364667, 605040, 530877, 636899, 665384, 1108146, 374364, 373493, 791880, 553656, 430658, 289227, 1185419, 1664653, 455970, 538727, 514116, 514929, 741161, 811423, 596883, 549816, 625154, 490049, 445094, 970245, 400418, 628682, 603050, 449257, 399789, 613094, 470928, 1173663, 905137, 468524, 853511, 1056967, 1522732, 1122495, 751872, 537021, 357541, 630831, 617950, 480175, 547683, 396699, 569905, 365097, 352394, 942804, 651643, 567617, 778847, 641047, 514978, 978565, 572689, 415214, 587723, 614092, 617169, 866003, 632812, 564303, 903121, 519686, 1065811, 546413, 502460, 481110, 708369, 1522193, 523738, 768420, 600017, 459085, 622827, 633325, 1390616, 523359, 766124, 492616, 333230, 927404, 523150, 355293, 743901, 860610, 490119, 524540, 396189, 477762, 486204, 428703, 489659, 484811, 652845, 648794, 646210, 415478, 619910, 514874, 787760, 1127052, 1131888, 425769, 599698], \"coloraxis\": \"coloraxis\"}, \"name\": \"\", \"offsetgroup\": \"\", \"orientation\": \"v\", \"showlegend\": false, \"textposition\": \"auto\", \"type\": \"bar\", \"x\": [\"Agincourt North\", \"Agincourt South-Malvern West\", \"Alderwood\", \"Annex\", \"Banbury-Don Mills\", \"Bathurst Manor\", \"Bay Street Corridor\", \"Bayview Village\", \"Bayview Woods-Steeles\", \"Bedford Park-Nortown\", \"Beechborough-Greenbrook\", \"Bendale\", \"Birchcliffe-Cliffside\", \"Black Creek\", \"Blake-Jones\", \"Briar Hill-Belgravia\", \"Bridle Path-Sunnybrook-York Mills\", \"Broadview North\", \"Brookhaven-Amesbury\", \"Cabbagetown-South St.James Town\", \"Caledonia-Fairbank\", \"Casa Loma\", \"Centennial Scarborough\", \"Church-Yonge Corridor\", \"Clairlea-Birchmount\", \"Clanton Park\", \"Cliffcrest\", \"Corso Italia-Davenport\", \"Danforth\", \"Danforth-East York\", \"Don Valley Village\", \"Dorset Park\", \"Dovercourt-Wallace Emerson-Juncti\", \"Downsview-Roding-CFB\", \"Dufferin Grove\", \"East End-Danforth\", \"Edenbridge-Humber Valley\", \"Eglinton East\", \"Elms-Old Rexdale\", \"Englemount-Lawrence\", \"Eringate-Centennial-West Deane\", \"Etobicoke West Mall\", \"Flemingdon Park\", \"Forest Hill North\", \"Forest Hill South\", \"Glenfield-Jane Heights\", \"Greenwood-Coxwell\", \"Guildwood\", \"Henry Farm\", \"High Park North\", \"High Park-Swansea\", \"Highland Creek\", \"Hillcrest Village\", \"Humber Heights-Westmount\", \"Humber Summit\", \"Humbermede\", \"Humewood-Cedarvale\", \"Ionview\", \"Islington-City Centre West\", \"Junction Area\", \"Keelesdale-Eglinton West\", \"Kennedy Park\", \"Kensington-Chinatown\", \"Kingsview Village-The Westway\", \"Kingsway South\", \"L'Amoreaux\", \"Lambton Baby Point\", \"Lansing-Westgate\", \"Lawrence Park North\", \"Lawrence Park South\", \"Leaside-Bennington\", \"Little Portugal\", \"Long Branch\", \"Malvern\", \"Maple Leaf\", \"Markland Wood\", \"Milliken\", \"Mimico\", \"Morningside\", \"Moss Park\", \"Mount Dennis\", \"Mount Olive-Silverstone-Jamestown\", \"Mount Pleasant East\", \"Mount Pleasant West\", \"New Toronto\", \"Newtonbrook East\", \"Newtonbrook West\", \"Niagara\", \"North Riverdale\", \"North St.James Town\", \"O'Connor-Parkview\", \"Oakridge\", \"Oakwood Village\", \"Old East York\", \"Palmerston-Little Italy\", \"Parkwoods-Donalda\", \"Pelmo Park-Humberlea\", \"Playter Estates-Danforth\", \"Pleasant View\", \"Princess-Rosethorn\", \"Regent Park\", \"Rexdale-Kipling\", \"Rockcliffe-Smythe\", \"Roncesvalles\", \"Rosedale-Moore Park\", \"Rouge\", \"Runnymede-Bloor West Village\", \"Rustic\", \"Scarborough Village\", \"South Parkdale\", \"South Riverdale\", \"St.Andrew-Windfields\", \"Steeles\", \"Stonegate-Queensway\", \"Tam O'Shanter-Sullivan\", \"Taylor-Massey\", \"The Beaches\", \"Thistletown-Beaumond Heights\", \"Thorncliffe Park\", \"Trinity-Bellwoods\", \"University\", \"Victoria Village\", \"Waterfront Communities-The Island\", \"West Hill\", \"West Humber-Clairville\", \"Westminster-Branson\", \"Weston\", \"Weston-Pellam Park\", \"Wexford/Maryvale\", \"Willowdale East\", \"Willowdale West\", \"Willowridge-Martingrove-Richview\", \"Woburn\", \"Woodbine Corridor\", \"Woodbine-Lumsden\", \"Wychwood\", \"Yonge-Eglinton\", \"Yonge-St.Clair\", \"York University Heights\", \"Yorkdale-Glen Park\"], \"xaxis\": \"x\", \"y\": [459051, 465144, 595608, 1039687, 851872, 698124, 589666, 750572, 786976, 1295007, 516279, 419121, 608681, 363055, 711848, 508759, 2124653, 617113, 488463, 687732, 503455, 1365503, 570471, 565258, 493491, 767695, 580993, 584484, 649919, 586918, 553974, 364667, 605040, 530877, 636899, 665384, 1108146, 374364, 373493, 791880, 553656, 430658, 289227, 1185419, 1664653, 455970, 538727, 514116, 514929, 741161, 811423, 596883, 549816, 625154, 490049, 445094, 970245, 400418, 628682, 603050, 449257, 399789, 613094, 470928, 1173663, 905137, 468524, 853511, 1056967, 1522732, 1122495, 751872, 537021, 357541, 630831, 617950, 480175, 547683, 396699, 569905, 365097, 352394, 942804, 651643, 567617, 778847, 641047, 514978, 978565, 572689, 415214, 587723, 614092, 617169, 866003, 632812, 564303, 903121, 519686, 1065811, 546413, 502460, 481110, 708369, 1522193, 523738, 768420, 600017, 459085, 622827, 633325, 1390616, 523359, 766124, 492616, 333230, 927404, 523150, 355293, 743901, 860610, 490119, 524540, 396189, 477762, 486204, 428703, 489659, 484811, 652845, 648794, 646210, 415478, 619910, 514874, 787760, 1127052, 1131888, 425769, 599698], \"yaxis\": \"y\"}],\n",
       "                        {\"annotations\": [{\"font\": {}, \"showarrow\": false, \"text\": \"year=2016\", \"textangle\": 90, \"x\": 0.98, \"xanchor\": \"left\", \"xref\": \"paper\", \"y\": 0.11375, \"yanchor\": \"middle\", \"yref\": \"paper\"}, {\"font\": {}, \"showarrow\": false, \"text\": \"year=2011\", \"textangle\": 90, \"x\": 0.98, \"xanchor\": \"left\", \"xref\": \"paper\", \"y\": 0.37124999999999997, \"yanchor\": \"middle\", \"yref\": \"paper\"}, {\"font\": {}, \"showarrow\": false, \"text\": \"year=2006\", \"textangle\": 90, \"x\": 0.98, \"xanchor\": \"left\", \"xref\": \"paper\", \"y\": 0.62875, \"yanchor\": \"middle\", \"yref\": \"paper\"}, {\"font\": {}, \"showarrow\": false, \"text\": \"year=2001\", \"textangle\": 90, \"x\": 0.98, \"xanchor\": \"left\", \"xref\": \"paper\", \"y\": 0.88625, \"yanchor\": \"middle\", \"yref\": \"paper\"}], \"barmode\": \"relative\", \"coloraxis\": {\"colorbar\": {\"title\": {\"text\": \"Avg. House Value\"}}, \"colorscale\": [[0.0, \"#0d0887\"], [0.1111111111111111, \"#46039f\"], [0.2222222222222222, \"#7201a8\"], [0.3333333333333333, \"#9c179e\"], [0.4444444444444444, \"#bd3786\"], [0.5555555555555556, \"#d8576b\"], [0.6666666666666666, \"#ed7953\"], [0.7777777777777778, \"#fb9f3a\"], [0.8888888888888888, \"#fdca26\"], [1.0, \"#f0f921\"]]}, \"height\": 1024, \"legend\": {\"tracegroupgap\": 0}, \"template\": {\"data\": {\"bar\": [{\"error_x\": {\"color\": \"#2a3f5f\"}, \"error_y\": {\"color\": \"#2a3f5f\"}, \"marker\": {\"line\": {\"color\": \"#E5ECF6\", \"width\": 0.5}}, \"type\": \"bar\"}], \"barpolar\": [{\"marker\": {\"line\": {\"color\": \"#E5ECF6\", \"width\": 0.5}}, \"type\": \"barpolar\"}], \"carpet\": [{\"aaxis\": {\"endlinecolor\": \"#2a3f5f\", \"gridcolor\": \"white\", \"linecolor\": \"white\", \"minorgridcolor\": \"white\", \"startlinecolor\": \"#2a3f5f\"}, \"baxis\": {\"endlinecolor\": \"#2a3f5f\", \"gridcolor\": \"white\", \"linecolor\": \"white\", \"minorgridcolor\": \"white\", \"startlinecolor\": \"#2a3f5f\"}, \"type\": \"carpet\"}], \"choropleth\": [{\"colorbar\": {\"outlinewidth\": 0, \"ticks\": \"\"}, \"type\": \"choropleth\"}], \"contour\": [{\"colorbar\": {\"outlinewidth\": 0, \"ticks\": \"\"}, \"colorscale\": [[0.0, \"#0d0887\"], [0.1111111111111111, \"#46039f\"], [0.2222222222222222, \"#7201a8\"], [0.3333333333333333, \"#9c179e\"], [0.4444444444444444, \"#bd3786\"], [0.5555555555555556, \"#d8576b\"], [0.6666666666666666, \"#ed7953\"], [0.7777777777777778, \"#fb9f3a\"], [0.8888888888888888, \"#fdca26\"], [1.0, \"#f0f921\"]], \"type\": \"contour\"}], \"contourcarpet\": [{\"colorbar\": {\"outlinewidth\": 0, \"ticks\": \"\"}, \"type\": \"contourcarpet\"}], \"heatmap\": [{\"colorbar\": {\"outlinewidth\": 0, \"ticks\": \"\"}, \"colorscale\": [[0.0, \"#0d0887\"], [0.1111111111111111, \"#46039f\"], [0.2222222222222222, \"#7201a8\"], [0.3333333333333333, \"#9c179e\"], [0.4444444444444444, \"#bd3786\"], [0.5555555555555556, \"#d8576b\"], [0.6666666666666666, \"#ed7953\"], [0.7777777777777778, \"#fb9f3a\"], [0.8888888888888888, \"#fdca26\"], [1.0, \"#f0f921\"]], \"type\": \"heatmap\"}], \"heatmapgl\": [{\"colorbar\": {\"outlinewidth\": 0, \"ticks\": \"\"}, \"colorscale\": [[0.0, \"#0d0887\"], [0.1111111111111111, \"#46039f\"], [0.2222222222222222, \"#7201a8\"], [0.3333333333333333, \"#9c179e\"], [0.4444444444444444, \"#bd3786\"], [0.5555555555555556, \"#d8576b\"], [0.6666666666666666, \"#ed7953\"], [0.7777777777777778, \"#fb9f3a\"], [0.8888888888888888, \"#fdca26\"], [1.0, \"#f0f921\"]], \"type\": \"heatmapgl\"}], \"histogram\": [{\"marker\": {\"colorbar\": {\"outlinewidth\": 0, \"ticks\": \"\"}}, \"type\": \"histogram\"}], \"histogram2d\": [{\"colorbar\": {\"outlinewidth\": 0, \"ticks\": \"\"}, \"colorscale\": [[0.0, \"#0d0887\"], [0.1111111111111111, \"#46039f\"], [0.2222222222222222, \"#7201a8\"], [0.3333333333333333, \"#9c179e\"], [0.4444444444444444, \"#bd3786\"], [0.5555555555555556, \"#d8576b\"], [0.6666666666666666, \"#ed7953\"], [0.7777777777777778, \"#fb9f3a\"], [0.8888888888888888, \"#fdca26\"], [1.0, \"#f0f921\"]], \"type\": \"histogram2d\"}], \"histogram2dcontour\": [{\"colorbar\": {\"outlinewidth\": 0, \"ticks\": \"\"}, \"colorscale\": [[0.0, \"#0d0887\"], [0.1111111111111111, \"#46039f\"], [0.2222222222222222, \"#7201a8\"], [0.3333333333333333, \"#9c179e\"], [0.4444444444444444, \"#bd3786\"], [0.5555555555555556, \"#d8576b\"], [0.6666666666666666, \"#ed7953\"], [0.7777777777777778, \"#fb9f3a\"], [0.8888888888888888, \"#fdca26\"], [1.0, \"#f0f921\"]], \"type\": \"histogram2dcontour\"}], \"mesh3d\": [{\"colorbar\": {\"outlinewidth\": 0, \"ticks\": \"\"}, \"type\": \"mesh3d\"}], \"parcoords\": [{\"line\": {\"colorbar\": {\"outlinewidth\": 0, \"ticks\": \"\"}}, \"type\": \"parcoords\"}], \"pie\": [{\"automargin\": true, \"type\": \"pie\"}], \"scatter\": [{\"marker\": {\"colorbar\": {\"outlinewidth\": 0, \"ticks\": \"\"}}, \"type\": \"scatter\"}], \"scatter3d\": [{\"line\": {\"colorbar\": {\"outlinewidth\": 0, \"ticks\": \"\"}}, \"marker\": {\"colorbar\": {\"outlinewidth\": 0, \"ticks\": \"\"}}, \"type\": \"scatter3d\"}], \"scattercarpet\": [{\"marker\": {\"colorbar\": {\"outlinewidth\": 0, \"ticks\": \"\"}}, \"type\": \"scattercarpet\"}], \"scattergeo\": [{\"marker\": {\"colorbar\": {\"outlinewidth\": 0, \"ticks\": \"\"}}, \"type\": \"scattergeo\"}], \"scattergl\": [{\"marker\": {\"colorbar\": {\"outlinewidth\": 0, \"ticks\": \"\"}}, \"type\": \"scattergl\"}], \"scattermapbox\": [{\"marker\": {\"colorbar\": {\"outlinewidth\": 0, \"ticks\": \"\"}}, \"type\": \"scattermapbox\"}], \"scatterpolar\": [{\"marker\": {\"colorbar\": {\"outlinewidth\": 0, \"ticks\": \"\"}}, \"type\": \"scatterpolar\"}], \"scatterpolargl\": [{\"marker\": {\"colorbar\": {\"outlinewidth\": 0, \"ticks\": \"\"}}, \"type\": \"scatterpolargl\"}], \"scatterternary\": [{\"marker\": {\"colorbar\": {\"outlinewidth\": 0, \"ticks\": \"\"}}, \"type\": \"scatterternary\"}], \"surface\": [{\"colorbar\": {\"outlinewidth\": 0, \"ticks\": \"\"}, \"colorscale\": [[0.0, \"#0d0887\"], [0.1111111111111111, \"#46039f\"], [0.2222222222222222, \"#7201a8\"], [0.3333333333333333, \"#9c179e\"], [0.4444444444444444, \"#bd3786\"], [0.5555555555555556, \"#d8576b\"], [0.6666666666666666, \"#ed7953\"], [0.7777777777777778, \"#fb9f3a\"], [0.8888888888888888, \"#fdca26\"], [1.0, \"#f0f921\"]], \"type\": \"surface\"}], \"table\": [{\"cells\": {\"fill\": {\"color\": \"#EBF0F8\"}, \"line\": {\"color\": \"white\"}}, \"header\": {\"fill\": {\"color\": \"#C8D4E3\"}, \"line\": {\"color\": \"white\"}}, \"type\": \"table\"}]}, \"layout\": {\"annotationdefaults\": {\"arrowcolor\": \"#2a3f5f\", \"arrowhead\": 0, \"arrowwidth\": 1}, \"coloraxis\": {\"colorbar\": {\"outlinewidth\": 0, \"ticks\": \"\"}}, \"colorscale\": {\"diverging\": [[0, \"#8e0152\"], [0.1, \"#c51b7d\"], [0.2, \"#de77ae\"], [0.3, \"#f1b6da\"], [0.4, \"#fde0ef\"], [0.5, \"#f7f7f7\"], [0.6, \"#e6f5d0\"], [0.7, \"#b8e186\"], [0.8, \"#7fbc41\"], [0.9, \"#4d9221\"], [1, \"#276419\"]], \"sequential\": [[0.0, \"#0d0887\"], [0.1111111111111111, \"#46039f\"], [0.2222222222222222, \"#7201a8\"], [0.3333333333333333, \"#9c179e\"], [0.4444444444444444, \"#bd3786\"], [0.5555555555555556, \"#d8576b\"], [0.6666666666666666, \"#ed7953\"], [0.7777777777777778, \"#fb9f3a\"], [0.8888888888888888, \"#fdca26\"], [1.0, \"#f0f921\"]], \"sequentialminus\": [[0.0, \"#0d0887\"], [0.1111111111111111, \"#46039f\"], [0.2222222222222222, \"#7201a8\"], [0.3333333333333333, \"#9c179e\"], [0.4444444444444444, \"#bd3786\"], [0.5555555555555556, \"#d8576b\"], [0.6666666666666666, \"#ed7953\"], [0.7777777777777778, \"#fb9f3a\"], [0.8888888888888888, \"#fdca26\"], [1.0, \"#f0f921\"]]}, \"colorway\": [\"#636efa\", \"#EF553B\", \"#00cc96\", \"#ab63fa\", \"#FFA15A\", \"#19d3f3\", \"#FF6692\", \"#B6E880\", \"#FF97FF\", \"#FECB52\"], \"font\": {\"color\": \"#2a3f5f\"}, \"geo\": {\"bgcolor\": \"white\", \"lakecolor\": \"white\", \"landcolor\": \"#E5ECF6\", \"showlakes\": true, \"showland\": true, \"subunitcolor\": \"white\"}, \"hoverlabel\": {\"align\": \"left\"}, \"hovermode\": \"closest\", \"mapbox\": {\"style\": \"light\"}, \"paper_bgcolor\": \"white\", \"plot_bgcolor\": \"#E5ECF6\", \"polar\": {\"angularaxis\": {\"gridcolor\": \"white\", \"linecolor\": \"white\", \"ticks\": \"\"}, \"bgcolor\": \"#E5ECF6\", \"radialaxis\": {\"gridcolor\": \"white\", \"linecolor\": \"white\", \"ticks\": \"\"}}, \"scene\": {\"xaxis\": {\"backgroundcolor\": \"#E5ECF6\", \"gridcolor\": \"white\", \"gridwidth\": 2, \"linecolor\": \"white\", \"showbackground\": true, \"ticks\": \"\", \"zerolinecolor\": \"white\"}, \"yaxis\": {\"backgroundcolor\": \"#E5ECF6\", \"gridcolor\": \"white\", \"gridwidth\": 2, \"linecolor\": \"white\", \"showbackground\": true, \"ticks\": \"\", \"zerolinecolor\": \"white\"}, \"zaxis\": {\"backgroundcolor\": \"#E5ECF6\", \"gridcolor\": \"white\", \"gridwidth\": 2, \"linecolor\": \"white\", \"showbackground\": true, \"ticks\": \"\", \"zerolinecolor\": \"white\"}}, \"shapedefaults\": {\"line\": {\"color\": \"#2a3f5f\"}}, \"ternary\": {\"aaxis\": {\"gridcolor\": \"white\", \"linecolor\": \"white\", \"ticks\": \"\"}, \"baxis\": {\"gridcolor\": \"white\", \"linecolor\": \"white\", \"ticks\": \"\"}, \"bgcolor\": \"#E5ECF6\", \"caxis\": {\"gridcolor\": \"white\", \"linecolor\": \"white\", \"ticks\": \"\"}}, \"title\": {\"x\": 0.05}, \"xaxis\": {\"automargin\": true, \"gridcolor\": \"white\", \"linecolor\": \"white\", \"ticks\": \"\", \"title\": {\"standoff\": 15}, \"zerolinecolor\": \"white\", \"zerolinewidth\": 2}, \"yaxis\": {\"automargin\": true, \"gridcolor\": \"white\", \"linecolor\": \"white\", \"ticks\": \"\", \"title\": {\"standoff\": 15}, \"zerolinecolor\": \"white\", \"zerolinewidth\": 2}}}, \"title\": {\"text\": \"Average House Values in Toronto per Neighbourhood\"}, \"xaxis\": {\"anchor\": \"y\", \"domain\": [0.0, 0.98], \"title\": {\"text\": \"Neighbourhoods\"}}, \"xaxis2\": {\"anchor\": \"y2\", \"domain\": [0.0, 0.98], \"matches\": \"x\", \"showticklabels\": false}, \"xaxis3\": {\"anchor\": \"y3\", \"domain\": [0.0, 0.98], \"matches\": \"x\", \"showticklabels\": false}, \"xaxis4\": {\"anchor\": \"y4\", \"domain\": [0.0, 0.98], \"matches\": \"x\", \"showticklabels\": false}, \"yaxis\": {\"anchor\": \"x\", \"domain\": [0.0, 0.2275], \"title\": {\"text\": \"Avg. House Value\"}}, \"yaxis2\": {\"anchor\": \"x2\", \"domain\": [0.2575, 0.485], \"matches\": \"y\", \"title\": {\"text\": \"Avg. House Value\"}}, \"yaxis3\": {\"anchor\": \"x3\", \"domain\": [0.515, 0.7425], \"matches\": \"y\", \"title\": {\"text\": \"Avg. House Value\"}}, \"yaxis4\": {\"anchor\": \"x4\", \"domain\": [0.7725, 1.0], \"matches\": \"y\", \"title\": {\"text\": \"Avg. House Value\"}}},\n",
       "                        {\"responsive\": true}\n",
       "                    ).then(function(){\n",
       "                            \n",
       "var gd = document.getElementById('24b6f220-d63c-4d5e-866b-af04270df0c1');\n",
       "var x = new MutationObserver(function (mutations, observer) {{\n",
       "        var display = window.getComputedStyle(gd).display;\n",
       "        if (!display || display === 'none') {{\n",
       "            console.log([gd, 'removed!']);\n",
       "            Plotly.purge(gd);\n",
       "            observer.disconnect();\n",
       "        }}\n",
       "}});\n",
       "\n",
       "// Listen for the removal of the full notebook cells\n",
       "var notebookContainer = gd.closest('#notebook-container');\n",
       "if (notebookContainer) {{\n",
       "    x.observe(notebookContainer, {childList: true});\n",
       "}}\n",
       "\n",
       "// Listen for the clearing of the current output cell\n",
       "var outputEl = gd.closest('.output');\n",
       "if (outputEl) {{\n",
       "    x.observe(outputEl, {childList: true});\n",
       "}}\n",
       "\n",
       "                        })\n",
       "                };\n",
       "                });\n",
       "            </script>\n",
       "        </div>"
      ]
     },
     "metadata": {},
     "output_type": "display_data"
    }
   ],
   "source": [
    "# YOUR CODE HERE!"
   ]
  },
  {
   "cell_type": "markdown",
   "metadata": {},
   "source": [
    "### Create a sunburst chart to conduct a costs analysis of most expensive neighbourhoods in Toronto per year"
   ]
  },
  {
   "cell_type": "code",
   "execution_count": 24,
   "metadata": {},
   "outputs": [
    {
     "data": {
      "text/html": [
       "<div>\n",
       "<style scoped>\n",
       "    .dataframe tbody tr th:only-of-type {\n",
       "        vertical-align: middle;\n",
       "    }\n",
       "\n",
       "    .dataframe tbody tr th {\n",
       "        vertical-align: top;\n",
       "    }\n",
       "\n",
       "    .dataframe thead th {\n",
       "        text-align: right;\n",
       "    }\n",
       "</style>\n",
       "<table border=\"1\" class=\"dataframe\">\n",
       "  <thead>\n",
       "    <tr style=\"text-align: right;\">\n",
       "      <th></th>\n",
       "      <th>year</th>\n",
       "      <th>neighbourhood</th>\n",
       "      <th>single_detached_house</th>\n",
       "      <th>apartment_five_storeys_plus</th>\n",
       "      <th>movable_dwelling</th>\n",
       "      <th>semi_detached_house</th>\n",
       "      <th>row_house</th>\n",
       "      <th>duplex</th>\n",
       "      <th>apartment_five_storeys_less</th>\n",
       "      <th>other_house</th>\n",
       "      <th>average_house_value</th>\n",
       "      <th>shelter_costs_owned</th>\n",
       "      <th>shelter_costs_rented</th>\n",
       "    </tr>\n",
       "  </thead>\n",
       "  <tbody>\n",
       "    <tr>\n",
       "      <th>0</th>\n",
       "      <td>2001</td>\n",
       "      <td>Bedford Park-Nortown</td>\n",
       "      <td>4985</td>\n",
       "      <td>2080</td>\n",
       "      <td>0</td>\n",
       "      <td>45</td>\n",
       "      <td>40</td>\n",
       "      <td>210</td>\n",
       "      <td>1235</td>\n",
       "      <td>15</td>\n",
       "      <td>565304</td>\n",
       "      <td>933</td>\n",
       "      <td>1491</td>\n",
       "    </tr>\n",
       "    <tr>\n",
       "      <th>1</th>\n",
       "      <td>2001</td>\n",
       "      <td>Bridle Path-Sunnybrook-York Mills</td>\n",
       "      <td>2275</td>\n",
       "      <td>110</td>\n",
       "      <td>0</td>\n",
       "      <td>25</td>\n",
       "      <td>15</td>\n",
       "      <td>10</td>\n",
       "      <td>20</td>\n",
       "      <td>0</td>\n",
       "      <td>927466</td>\n",
       "      <td>1983</td>\n",
       "      <td>1790</td>\n",
       "    </tr>\n",
       "    <tr>\n",
       "      <th>2</th>\n",
       "      <td>2001</td>\n",
       "      <td>Casa Loma</td>\n",
       "      <td>1035</td>\n",
       "      <td>1700</td>\n",
       "      <td>0</td>\n",
       "      <td>415</td>\n",
       "      <td>190</td>\n",
       "      <td>185</td>\n",
       "      <td>1090</td>\n",
       "      <td>5</td>\n",
       "      <td>596077</td>\n",
       "      <td>1241</td>\n",
       "      <td>1500</td>\n",
       "    </tr>\n",
       "    <tr>\n",
       "      <th>3</th>\n",
       "      <td>2001</td>\n",
       "      <td>Forest Hill North</td>\n",
       "      <td>1565</td>\n",
       "      <td>3380</td>\n",
       "      <td>0</td>\n",
       "      <td>10</td>\n",
       "      <td>0</td>\n",
       "      <td>0</td>\n",
       "      <td>485</td>\n",
       "      <td>5</td>\n",
       "      <td>517466</td>\n",
       "      <td>940</td>\n",
       "      <td>1428</td>\n",
       "    </tr>\n",
       "    <tr>\n",
       "      <th>4</th>\n",
       "      <td>2001</td>\n",
       "      <td>Forest Hill South</td>\n",
       "      <td>1815</td>\n",
       "      <td>2440</td>\n",
       "      <td>5</td>\n",
       "      <td>65</td>\n",
       "      <td>45</td>\n",
       "      <td>85</td>\n",
       "      <td>1010</td>\n",
       "      <td>15</td>\n",
       "      <td>726664</td>\n",
       "      <td>1001</td>\n",
       "      <td>1469</td>\n",
       "    </tr>\n",
       "  </tbody>\n",
       "</table>\n",
       "</div>"
      ],
      "text/plain": [
       "   year                      neighbourhood  single_detached_house  \\\n",
       "0  2001               Bedford Park-Nortown                   4985   \n",
       "1  2001  Bridle Path-Sunnybrook-York Mills                   2275   \n",
       "2  2001                          Casa Loma                   1035   \n",
       "3  2001                  Forest Hill North                   1565   \n",
       "4  2001                  Forest Hill South                   1815   \n",
       "\n",
       "   apartment_five_storeys_plus  movable_dwelling  semi_detached_house  \\\n",
       "0                         2080                 0                   45   \n",
       "1                          110                 0                   25   \n",
       "2                         1700                 0                  415   \n",
       "3                         3380                 0                   10   \n",
       "4                         2440                 5                   65   \n",
       "\n",
       "   row_house  duplex  apartment_five_storeys_less  other_house  \\\n",
       "0         40     210                         1235           15   \n",
       "1         15      10                           20            0   \n",
       "2        190     185                         1090            5   \n",
       "3          0       0                          485            5   \n",
       "4         45      85                         1010           15   \n",
       "\n",
       "   average_house_value  shelter_costs_owned  shelter_costs_rented  \n",
       "0               565304                  933                  1491  \n",
       "1               927466                 1983                  1790  \n",
       "2               596077                 1241                  1500  \n",
       "3               517466                  940                  1428  \n",
       "4               726664                 1001                  1469  "
      ]
     },
     "execution_count": 24,
     "metadata": {},
     "output_type": "execute_result"
    }
   ],
   "source": [
    "# Fetch the data from all expensive neighbourhoods per year.\n",
    "# YOUR CODE HERE!"
   ]
  },
  {
   "cell_type": "code",
   "execution_count": 25,
   "metadata": {},
   "outputs": [
    {
     "data": {
      "application/vnd.plotly.v1+json": {
       "config": {
        "plotlyServerURL": "https://plotly.com"
       },
       "data": [
        {
         "branchvalues": "total",
         "customdata": [
          [
           933,
           1491,
           933
          ],
          [
           1808,
           1020,
           1808
          ],
          [
           1988,
           1124,
           1988
          ],
          [
           2418,
           1385,
           2418
          ],
          [
           1983,
           1790,
           1983
          ],
          [
           2170,
           2167,
           2170
          ],
          [
           2387,
           2388,
           2387
          ],
          [
           2903,
           2942,
           2903
          ],
          [
           1241,
           1500,
           1241
          ],
          [
           1819,
           1356,
           1819
          ],
          [
           2001,
           1494,
           2001
          ],
          [
           2434,
           1841,
           2434
          ],
          [
           940,
           1428,
           940
          ],
          [
           1731,
           1027,
           1731
          ],
          [
           1904,
           1132,
           1904
          ],
          [
           2316,
           1395,
           2316
          ],
          [
           1001,
           1469,
           1001
          ],
          [
           1781,
           1094,
           1781
          ],
          [
           1959,
           1206,
           1959
          ],
          [
           2383,
           1486,
           2383
          ],
          [
           1362,
           1340,
           1362
          ],
          [
           1625,
           1488,
           1625
          ],
          [
           1787,
           1640,
           1787
          ],
          [
           2173,
           2020,
           2173
          ],
          [
           1021,
           1630,
           1021
          ],
          [
           1977,
           1116,
           1977
          ],
          [
           2174,
           1230,
           2174
          ],
          [
           2644,
           1515,
           2644
          ],
          [
           1219,
           1540,
           1219
          ],
          [
           1868,
           1332,
           1868
          ],
          [
           2054,
           1468,
           2054
          ],
          [
           2498,
           1809,
           2498
          ],
          [
           1055,
           1551,
           1055
          ],
          [
           1881,
           1152,
           1881
          ],
          [
           2069,
           1270,
           2069
          ],
          [
           2516,
           1565,
           2516
          ],
          [
           1091,
           1351,
           1091
          ],
          [
           1638,
           1192,
           1638
          ],
          [
           1802,
           1314,
           1802
          ],
          [
           2192,
           1619,
           2192
          ],
          [
           "(?)",
           "(?)",
           1224.7502831983431
          ],
          [
           "(?)",
           "(?)",
           1856.058787788345
          ],
          [
           "(?)",
           "(?)",
           2041.3886794989783
          ],
          [
           "(?)",
           "(?)",
           2482.826591451349
          ]
         ],
         "domain": {
          "x": [
           0,
           1
          ],
          "y": [
           0,
           1
          ]
         },
         "hovertemplate": "labels=%{label}<br>average_house_value=%{value}<br>parent=%{parent}<br>id=%{id}<br>shelter_costs_owned=%{customdata[0]}<br>shelter_costs_rented=%{customdata[1]}<br>shelter_costs_ownedadditional_col_for_hover=%{color}<extra></extra>",
         "ids": [
          "2001/Bedford Park-Nortown",
          "2006/Bedford Park-Nortown",
          "2011/Bedford Park-Nortown",
          "2016/Bedford Park-Nortown",
          "2001/Bridle Path-Sunnybrook-York Mills",
          "2006/Bridle Path-Sunnybrook-York Mills",
          "2011/Bridle Path-Sunnybrook-York Mills",
          "2016/Bridle Path-Sunnybrook-York Mills",
          "2001/Casa Loma",
          "2006/Casa Loma",
          "2011/Casa Loma",
          "2016/Casa Loma",
          "2001/Forest Hill North",
          "2006/Forest Hill North",
          "2011/Forest Hill North",
          "2016/Forest Hill North",
          "2001/Forest Hill South",
          "2006/Forest Hill South",
          "2011/Forest Hill South",
          "2016/Forest Hill South",
          "2001/Kingsway South",
          "2006/Kingsway South",
          "2011/Kingsway South",
          "2016/Kingsway South",
          "2001/Lawrence Park South",
          "2006/Lawrence Park South",
          "2011/Lawrence Park South",
          "2016/Lawrence Park South",
          "2001/Rosedale-Moore Park",
          "2006/Rosedale-Moore Park",
          "2011/Rosedale-Moore Park",
          "2016/Rosedale-Moore Park",
          "2001/St.Andrew-Windfields",
          "2006/St.Andrew-Windfields",
          "2011/St.Andrew-Windfields",
          "2016/St.Andrew-Windfields",
          "2001/Yonge-St.Clair",
          "2006/Yonge-St.Clair",
          "2011/Yonge-St.Clair",
          "2016/Yonge-St.Clair",
          "2001",
          "2006",
          "2011",
          "2016"
         ],
         "labels": [
          "Bedford Park-Nortown",
          "Bedford Park-Nortown",
          "Bedford Park-Nortown",
          "Bedford Park-Nortown",
          "Bridle Path-Sunnybrook-York Mills",
          "Bridle Path-Sunnybrook-York Mills",
          "Bridle Path-Sunnybrook-York Mills",
          "Bridle Path-Sunnybrook-York Mills",
          "Casa Loma",
          "Casa Loma",
          "Casa Loma",
          "Casa Loma",
          "Forest Hill North",
          "Forest Hill North",
          "Forest Hill North",
          "Forest Hill North",
          "Forest Hill South",
          "Forest Hill South",
          "Forest Hill South",
          "Forest Hill South",
          "Kingsway South",
          "Kingsway South",
          "Kingsway South",
          "Kingsway South",
          "Lawrence Park South",
          "Lawrence Park South",
          "Lawrence Park South",
          "Lawrence Park South",
          "Rosedale-Moore Park",
          "Rosedale-Moore Park",
          "Rosedale-Moore Park",
          "Rosedale-Moore Park",
          "St.Andrew-Windfields",
          "St.Andrew-Windfields",
          "St.Andrew-Windfields",
          "St.Andrew-Windfields",
          "Yonge-St.Clair",
          "Yonge-St.Clair",
          "Yonge-St.Clair",
          "Yonge-St.Clair",
          "2001",
          "2006",
          "2011",
          "2016"
         ],
         "marker": {
          "coloraxis": "coloraxis",
          "colors": [
           933,
           1808,
           1988,
           2418,
           1983,
           2170,
           2387,
           2903,
           1241,
           1819,
           2001,
           2434,
           940,
           1731,
           1904,
           2316,
           1001,
           1781,
           1959,
           2383,
           1362,
           1625,
           1787,
           2173,
           1021,
           1977,
           2174,
           2644,
           1219,
           1868,
           2054,
           2498,
           1055,
           1881,
           2069,
           2516,
           1091,
           1638,
           1802,
           2192,
           1224.7502831983431,
           1856.058787788345,
           2041.3886794989783,
           2482.826591451349
          ]
         },
         "name": "",
         "parents": [
          "2001",
          "2006",
          "2011",
          "2016",
          "2001",
          "2006",
          "2011",
          "2016",
          "2001",
          "2006",
          "2011",
          "2016",
          "2001",
          "2006",
          "2011",
          "2016",
          "2001",
          "2006",
          "2011",
          "2016",
          "2001",
          "2006",
          "2011",
          "2016",
          "2001",
          "2006",
          "2011",
          "2016",
          "2001",
          "2006",
          "2011",
          "2016",
          "2001",
          "2006",
          "2011",
          "2016",
          "2001",
          "2006",
          "2011",
          "2016",
          "",
          "",
          "",
          ""
         ],
         "type": "sunburst",
         "values": [
          565304,
          826963,
          1034387,
          1295007,
          927466,
          1356757,
          1697067,
          2124653,
          596077,
          871981,
          1090696,
          1365503,
          517466,
          756983,
          946854,
          1185419,
          726664,
          1063011,
          1329642,
          1664653,
          512334,
          749476,
          937464,
          1173663,
          664712,
          972384,
          1216283,
          1522732,
          664476,
          972039,
          1215852,
          1522193,
          607040,
          888017,
          1110755,
          1390616,
          494098,
          722799,
          904096,
          1131888,
          6275637,
          9180410,
          11483096,
          14376327
         ]
        }
       ],
       "layout": {
        "autosize": true,
        "coloraxis": {
         "colorbar": {
          "title": {
           "text": "shelter_costs_ownedadditional_col_for_hover"
          }
         },
         "colorscale": [
          [
           0,
           "rgb(247,251,255)"
          ],
          [
           0.125,
           "rgb(222,235,247)"
          ],
          [
           0.25,
           "rgb(198,219,239)"
          ],
          [
           0.375,
           "rgb(158,202,225)"
          ],
          [
           0.5,
           "rgb(107,174,214)"
          ],
          [
           0.625,
           "rgb(66,146,198)"
          ],
          [
           0.75,
           "rgb(33,113,181)"
          ],
          [
           0.875,
           "rgb(8,81,156)"
          ],
          [
           1,
           "rgb(8,48,107)"
          ]
         ]
        },
        "legend": {
         "tracegroupgap": 0
        },
        "template": {
         "data": {
          "bar": [
           {
            "error_x": {
             "color": "#2a3f5f"
            },
            "error_y": {
             "color": "#2a3f5f"
            },
            "marker": {
             "line": {
              "color": "#E5ECF6",
              "width": 0.5
             }
            },
            "type": "bar"
           }
          ],
          "barpolar": [
           {
            "marker": {
             "line": {
              "color": "#E5ECF6",
              "width": 0.5
             }
            },
            "type": "barpolar"
           }
          ],
          "carpet": [
           {
            "aaxis": {
             "endlinecolor": "#2a3f5f",
             "gridcolor": "white",
             "linecolor": "white",
             "minorgridcolor": "white",
             "startlinecolor": "#2a3f5f"
            },
            "baxis": {
             "endlinecolor": "#2a3f5f",
             "gridcolor": "white",
             "linecolor": "white",
             "minorgridcolor": "white",
             "startlinecolor": "#2a3f5f"
            },
            "type": "carpet"
           }
          ],
          "choropleth": [
           {
            "colorbar": {
             "outlinewidth": 0,
             "ticks": ""
            },
            "type": "choropleth"
           }
          ],
          "contour": [
           {
            "colorbar": {
             "outlinewidth": 0,
             "ticks": ""
            },
            "colorscale": [
             [
              0,
              "#0d0887"
             ],
             [
              0.1111111111111111,
              "#46039f"
             ],
             [
              0.2222222222222222,
              "#7201a8"
             ],
             [
              0.3333333333333333,
              "#9c179e"
             ],
             [
              0.4444444444444444,
              "#bd3786"
             ],
             [
              0.5555555555555556,
              "#d8576b"
             ],
             [
              0.6666666666666666,
              "#ed7953"
             ],
             [
              0.7777777777777778,
              "#fb9f3a"
             ],
             [
              0.8888888888888888,
              "#fdca26"
             ],
             [
              1,
              "#f0f921"
             ]
            ],
            "type": "contour"
           }
          ],
          "contourcarpet": [
           {
            "colorbar": {
             "outlinewidth": 0,
             "ticks": ""
            },
            "type": "contourcarpet"
           }
          ],
          "heatmap": [
           {
            "colorbar": {
             "outlinewidth": 0,
             "ticks": ""
            },
            "colorscale": [
             [
              0,
              "#0d0887"
             ],
             [
              0.1111111111111111,
              "#46039f"
             ],
             [
              0.2222222222222222,
              "#7201a8"
             ],
             [
              0.3333333333333333,
              "#9c179e"
             ],
             [
              0.4444444444444444,
              "#bd3786"
             ],
             [
              0.5555555555555556,
              "#d8576b"
             ],
             [
              0.6666666666666666,
              "#ed7953"
             ],
             [
              0.7777777777777778,
              "#fb9f3a"
             ],
             [
              0.8888888888888888,
              "#fdca26"
             ],
             [
              1,
              "#f0f921"
             ]
            ],
            "type": "heatmap"
           }
          ],
          "heatmapgl": [
           {
            "colorbar": {
             "outlinewidth": 0,
             "ticks": ""
            },
            "colorscale": [
             [
              0,
              "#0d0887"
             ],
             [
              0.1111111111111111,
              "#46039f"
             ],
             [
              0.2222222222222222,
              "#7201a8"
             ],
             [
              0.3333333333333333,
              "#9c179e"
             ],
             [
              0.4444444444444444,
              "#bd3786"
             ],
             [
              0.5555555555555556,
              "#d8576b"
             ],
             [
              0.6666666666666666,
              "#ed7953"
             ],
             [
              0.7777777777777778,
              "#fb9f3a"
             ],
             [
              0.8888888888888888,
              "#fdca26"
             ],
             [
              1,
              "#f0f921"
             ]
            ],
            "type": "heatmapgl"
           }
          ],
          "histogram": [
           {
            "marker": {
             "colorbar": {
              "outlinewidth": 0,
              "ticks": ""
             }
            },
            "type": "histogram"
           }
          ],
          "histogram2d": [
           {
            "colorbar": {
             "outlinewidth": 0,
             "ticks": ""
            },
            "colorscale": [
             [
              0,
              "#0d0887"
             ],
             [
              0.1111111111111111,
              "#46039f"
             ],
             [
              0.2222222222222222,
              "#7201a8"
             ],
             [
              0.3333333333333333,
              "#9c179e"
             ],
             [
              0.4444444444444444,
              "#bd3786"
             ],
             [
              0.5555555555555556,
              "#d8576b"
             ],
             [
              0.6666666666666666,
              "#ed7953"
             ],
             [
              0.7777777777777778,
              "#fb9f3a"
             ],
             [
              0.8888888888888888,
              "#fdca26"
             ],
             [
              1,
              "#f0f921"
             ]
            ],
            "type": "histogram2d"
           }
          ],
          "histogram2dcontour": [
           {
            "colorbar": {
             "outlinewidth": 0,
             "ticks": ""
            },
            "colorscale": [
             [
              0,
              "#0d0887"
             ],
             [
              0.1111111111111111,
              "#46039f"
             ],
             [
              0.2222222222222222,
              "#7201a8"
             ],
             [
              0.3333333333333333,
              "#9c179e"
             ],
             [
              0.4444444444444444,
              "#bd3786"
             ],
             [
              0.5555555555555556,
              "#d8576b"
             ],
             [
              0.6666666666666666,
              "#ed7953"
             ],
             [
              0.7777777777777778,
              "#fb9f3a"
             ],
             [
              0.8888888888888888,
              "#fdca26"
             ],
             [
              1,
              "#f0f921"
             ]
            ],
            "type": "histogram2dcontour"
           }
          ],
          "mesh3d": [
           {
            "colorbar": {
             "outlinewidth": 0,
             "ticks": ""
            },
            "type": "mesh3d"
           }
          ],
          "parcoords": [
           {
            "line": {
             "colorbar": {
              "outlinewidth": 0,
              "ticks": ""
             }
            },
            "type": "parcoords"
           }
          ],
          "pie": [
           {
            "automargin": true,
            "type": "pie"
           }
          ],
          "scatter": [
           {
            "marker": {
             "colorbar": {
              "outlinewidth": 0,
              "ticks": ""
             }
            },
            "type": "scatter"
           }
          ],
          "scatter3d": [
           {
            "line": {
             "colorbar": {
              "outlinewidth": 0,
              "ticks": ""
             }
            },
            "marker": {
             "colorbar": {
              "outlinewidth": 0,
              "ticks": ""
             }
            },
            "type": "scatter3d"
           }
          ],
          "scattercarpet": [
           {
            "marker": {
             "colorbar": {
              "outlinewidth": 0,
              "ticks": ""
             }
            },
            "type": "scattercarpet"
           }
          ],
          "scattergeo": [
           {
            "marker": {
             "colorbar": {
              "outlinewidth": 0,
              "ticks": ""
             }
            },
            "type": "scattergeo"
           }
          ],
          "scattergl": [
           {
            "marker": {
             "colorbar": {
              "outlinewidth": 0,
              "ticks": ""
             }
            },
            "type": "scattergl"
           }
          ],
          "scattermapbox": [
           {
            "marker": {
             "colorbar": {
              "outlinewidth": 0,
              "ticks": ""
             }
            },
            "type": "scattermapbox"
           }
          ],
          "scatterpolar": [
           {
            "marker": {
             "colorbar": {
              "outlinewidth": 0,
              "ticks": ""
             }
            },
            "type": "scatterpolar"
           }
          ],
          "scatterpolargl": [
           {
            "marker": {
             "colorbar": {
              "outlinewidth": 0,
              "ticks": ""
             }
            },
            "type": "scatterpolargl"
           }
          ],
          "scatterternary": [
           {
            "marker": {
             "colorbar": {
              "outlinewidth": 0,
              "ticks": ""
             }
            },
            "type": "scatterternary"
           }
          ],
          "surface": [
           {
            "colorbar": {
             "outlinewidth": 0,
             "ticks": ""
            },
            "colorscale": [
             [
              0,
              "#0d0887"
             ],
             [
              0.1111111111111111,
              "#46039f"
             ],
             [
              0.2222222222222222,
              "#7201a8"
             ],
             [
              0.3333333333333333,
              "#9c179e"
             ],
             [
              0.4444444444444444,
              "#bd3786"
             ],
             [
              0.5555555555555556,
              "#d8576b"
             ],
             [
              0.6666666666666666,
              "#ed7953"
             ],
             [
              0.7777777777777778,
              "#fb9f3a"
             ],
             [
              0.8888888888888888,
              "#fdca26"
             ],
             [
              1,
              "#f0f921"
             ]
            ],
            "type": "surface"
           }
          ],
          "table": [
           {
            "cells": {
             "fill": {
              "color": "#EBF0F8"
             },
             "line": {
              "color": "white"
             }
            },
            "header": {
             "fill": {
              "color": "#C8D4E3"
             },
             "line": {
              "color": "white"
             }
            },
            "type": "table"
           }
          ]
         },
         "layout": {
          "annotationdefaults": {
           "arrowcolor": "#2a3f5f",
           "arrowhead": 0,
           "arrowwidth": 1
          },
          "coloraxis": {
           "colorbar": {
            "outlinewidth": 0,
            "ticks": ""
           }
          },
          "colorscale": {
           "diverging": [
            [
             0,
             "#8e0152"
            ],
            [
             0.1,
             "#c51b7d"
            ],
            [
             0.2,
             "#de77ae"
            ],
            [
             0.3,
             "#f1b6da"
            ],
            [
             0.4,
             "#fde0ef"
            ],
            [
             0.5,
             "#f7f7f7"
            ],
            [
             0.6,
             "#e6f5d0"
            ],
            [
             0.7,
             "#b8e186"
            ],
            [
             0.8,
             "#7fbc41"
            ],
            [
             0.9,
             "#4d9221"
            ],
            [
             1,
             "#276419"
            ]
           ],
           "sequential": [
            [
             0,
             "#0d0887"
            ],
            [
             0.1111111111111111,
             "#46039f"
            ],
            [
             0.2222222222222222,
             "#7201a8"
            ],
            [
             0.3333333333333333,
             "#9c179e"
            ],
            [
             0.4444444444444444,
             "#bd3786"
            ],
            [
             0.5555555555555556,
             "#d8576b"
            ],
            [
             0.6666666666666666,
             "#ed7953"
            ],
            [
             0.7777777777777778,
             "#fb9f3a"
            ],
            [
             0.8888888888888888,
             "#fdca26"
            ],
            [
             1,
             "#f0f921"
            ]
           ],
           "sequentialminus": [
            [
             0,
             "#0d0887"
            ],
            [
             0.1111111111111111,
             "#46039f"
            ],
            [
             0.2222222222222222,
             "#7201a8"
            ],
            [
             0.3333333333333333,
             "#9c179e"
            ],
            [
             0.4444444444444444,
             "#bd3786"
            ],
            [
             0.5555555555555556,
             "#d8576b"
            ],
            [
             0.6666666666666666,
             "#ed7953"
            ],
            [
             0.7777777777777778,
             "#fb9f3a"
            ],
            [
             0.8888888888888888,
             "#fdca26"
            ],
            [
             1,
             "#f0f921"
            ]
           ]
          },
          "colorway": [
           "#636efa",
           "#EF553B",
           "#00cc96",
           "#ab63fa",
           "#FFA15A",
           "#19d3f3",
           "#FF6692",
           "#B6E880",
           "#FF97FF",
           "#FECB52"
          ],
          "font": {
           "color": "#2a3f5f"
          },
          "geo": {
           "bgcolor": "white",
           "lakecolor": "white",
           "landcolor": "#E5ECF6",
           "showlakes": true,
           "showland": true,
           "subunitcolor": "white"
          },
          "hoverlabel": {
           "align": "left"
          },
          "hovermode": "closest",
          "mapbox": {
           "style": "light"
          },
          "paper_bgcolor": "white",
          "plot_bgcolor": "#E5ECF6",
          "polar": {
           "angularaxis": {
            "gridcolor": "white",
            "linecolor": "white",
            "ticks": ""
           },
           "bgcolor": "#E5ECF6",
           "radialaxis": {
            "gridcolor": "white",
            "linecolor": "white",
            "ticks": ""
           }
          },
          "scene": {
           "xaxis": {
            "backgroundcolor": "#E5ECF6",
            "gridcolor": "white",
            "gridwidth": 2,
            "linecolor": "white",
            "showbackground": true,
            "ticks": "",
            "zerolinecolor": "white"
           },
           "yaxis": {
            "backgroundcolor": "#E5ECF6",
            "gridcolor": "white",
            "gridwidth": 2,
            "linecolor": "white",
            "showbackground": true,
            "ticks": "",
            "zerolinecolor": "white"
           },
           "zaxis": {
            "backgroundcolor": "#E5ECF6",
            "gridcolor": "white",
            "gridwidth": 2,
            "linecolor": "white",
            "showbackground": true,
            "ticks": "",
            "zerolinecolor": "white"
           }
          },
          "shapedefaults": {
           "line": {
            "color": "#2a3f5f"
           }
          },
          "ternary": {
           "aaxis": {
            "gridcolor": "white",
            "linecolor": "white",
            "ticks": ""
           },
           "baxis": {
            "gridcolor": "white",
            "linecolor": "white",
            "ticks": ""
           },
           "bgcolor": "#E5ECF6",
           "caxis": {
            "gridcolor": "white",
            "linecolor": "white",
            "ticks": ""
           }
          },
          "title": {
           "x": 0.05
          },
          "xaxis": {
           "automargin": true,
           "gridcolor": "white",
           "linecolor": "white",
           "ticks": "",
           "title": {
            "standoff": 15
           },
           "zerolinecolor": "white",
           "zerolinewidth": 2
          },
          "yaxis": {
           "automargin": true,
           "gridcolor": "white",
           "linecolor": "white",
           "ticks": "",
           "title": {
            "standoff": 15
           },
           "zerolinecolor": "white",
           "zerolinewidth": 2
          }
         }
        },
        "title": {
         "text": "Costs Analysis of Most Expensive Neighbourhoods in Toronto per Year"
        }
       }
      },
      "image/png": "[encoded data removed]",
      "text/html": [
       "<div>\n",
       "        \n",
       "        \n",
       "            <div id=\"c48d3a98-b006-44bf-84cc-dc0791db0b27\" class=\"plotly-graph-div\" style=\"height:525px; width:100%;\"></div>\n",
       "            <script type=\"text/javascript\">\n",
       "                require([\"plotly\"], function(Plotly) {\n",
       "                    window.PLOTLYENV=window.PLOTLYENV || {};\n",
       "                    \n",
       "                if (document.getElementById(\"c48d3a98-b006-44bf-84cc-dc0791db0b27\")) {\n",
       "                    Plotly.newPlot(\n",
       "                        'c48d3a98-b006-44bf-84cc-dc0791db0b27',\n",
       "                        [{\"branchvalues\": \"total\", \"customdata\": [[933, 1491, 933.0], [1808, 1020, 1808.0], [1988, 1124, 1988.0], [2418, 1385, 2418.0], [1983, 1790, 1983.0], [2170, 2167, 2170.0], [2387, 2388, 2387.0], [2903, 2942, 2903.0], [1241, 1500, 1241.0], [1819, 1356, 1819.0], [2001, 1494, 2001.0], [2434, 1841, 2434.0], [940, 1428, 940.0], [1731, 1027, 1731.0], [1904, 1132, 1904.0], [2316, 1395, 2316.0], [1001, 1469, 1001.0], [1781, 1094, 1781.0], [1959, 1206, 1959.0], [2383, 1486, 2383.0], [1362, 1340, 1362.0], [1625, 1488, 1625.0], [1787, 1640, 1787.0], [2173, 2020, 2173.0], [1021, 1630, 1021.0], [1977, 1116, 1977.0], [2174, 1230, 2174.0], [2644, 1515, 2644.0], [1219, 1540, 1219.0], [1868, 1332, 1868.0], [2054, 1468, 2054.0], [2498, 1809, 2498.0], [1055, 1551, 1055.0], [1881, 1152, 1881.0], [2069, 1270, 2069.0], [2516, 1565, 2516.0], [1091, 1351, 1091.0], [1638, 1192, 1638.0], [1802, 1314, 1802.0], [2192, 1619, 2192.0], [\"(?)\", \"(?)\", 1224.7502831983431], [\"(?)\", \"(?)\", 1856.058787788345], [\"(?)\", \"(?)\", 2041.3886794989783], [\"(?)\", \"(?)\", 2482.826591451349]], \"domain\": {\"x\": [0.0, 1.0], \"y\": [0.0, 1.0]}, \"hovertemplate\": \"labels=%{label}<br>average_house_value=%{value}<br>parent=%{parent}<br>id=%{id}<br>shelter_costs_owned=%{customdata[0]}<br>shelter_costs_rented=%{customdata[1]}<br>shelter_costs_ownedadditional_col_for_hover=%{color}<extra></extra>\", \"ids\": [\"2001/Bedford Park-Nortown\", \"2006/Bedford Park-Nortown\", \"2011/Bedford Park-Nortown\", \"2016/Bedford Park-Nortown\", \"2001/Bridle Path-Sunnybrook-York Mills\", \"2006/Bridle Path-Sunnybrook-York Mills\", \"2011/Bridle Path-Sunnybrook-York Mills\", \"2016/Bridle Path-Sunnybrook-York Mills\", \"2001/Casa Loma\", \"2006/Casa Loma\", \"2011/Casa Loma\", \"2016/Casa Loma\", \"2001/Forest Hill North\", \"2006/Forest Hill North\", \"2011/Forest Hill North\", \"2016/Forest Hill North\", \"2001/Forest Hill South\", \"2006/Forest Hill South\", \"2011/Forest Hill South\", \"2016/Forest Hill South\", \"2001/Kingsway South\", \"2006/Kingsway South\", \"2011/Kingsway South\", \"2016/Kingsway South\", \"2001/Lawrence Park South\", \"2006/Lawrence Park South\", \"2011/Lawrence Park South\", \"2016/Lawrence Park South\", \"2001/Rosedale-Moore Park\", \"2006/Rosedale-Moore Park\", \"2011/Rosedale-Moore Park\", \"2016/Rosedale-Moore Park\", \"2001/St.Andrew-Windfields\", \"2006/St.Andrew-Windfields\", \"2011/St.Andrew-Windfields\", \"2016/St.Andrew-Windfields\", \"2001/Yonge-St.Clair\", \"2006/Yonge-St.Clair\", \"2011/Yonge-St.Clair\", \"2016/Yonge-St.Clair\", \"2001\", \"2006\", \"2011\", \"2016\"], \"labels\": [\"Bedford Park-Nortown\", \"Bedford Park-Nortown\", \"Bedford Park-Nortown\", \"Bedford Park-Nortown\", \"Bridle Path-Sunnybrook-York Mills\", \"Bridle Path-Sunnybrook-York Mills\", \"Bridle Path-Sunnybrook-York Mills\", \"Bridle Path-Sunnybrook-York Mills\", \"Casa Loma\", \"Casa Loma\", \"Casa Loma\", \"Casa Loma\", \"Forest Hill North\", \"Forest Hill North\", \"Forest Hill North\", \"Forest Hill North\", \"Forest Hill South\", \"Forest Hill South\", \"Forest Hill South\", \"Forest Hill South\", \"Kingsway South\", \"Kingsway South\", \"Kingsway South\", \"Kingsway South\", \"Lawrence Park South\", \"Lawrence Park South\", \"Lawrence Park South\", \"Lawrence Park South\", \"Rosedale-Moore Park\", \"Rosedale-Moore Park\", \"Rosedale-Moore Park\", \"Rosedale-Moore Park\", \"St.Andrew-Windfields\", \"St.Andrew-Windfields\", \"St.Andrew-Windfields\", \"St.Andrew-Windfields\", \"Yonge-St.Clair\", \"Yonge-St.Clair\", \"Yonge-St.Clair\", \"Yonge-St.Clair\", \"2001\", \"2006\", \"2011\", \"2016\"], \"marker\": {\"coloraxis\": \"coloraxis\", \"colors\": [933.0, 1808.0, 1988.0, 2418.0, 1983.0, 2170.0, 2387.0, 2903.0, 1241.0, 1819.0, 2001.0, 2434.0, 940.0, 1731.0, 1904.0, 2316.0, 1001.0, 1781.0, 1959.0, 2383.0, 1362.0, 1625.0, 1787.0, 2173.0, 1021.0, 1977.0, 2174.0, 2644.0, 1219.0, 1868.0, 2054.0, 2498.0, 1055.0, 1881.0, 2069.0, 2516.0, 1091.0, 1638.0, 1802.0, 2192.0, 1224.7502831983431, 1856.058787788345, 2041.3886794989783, 2482.826591451349]}, \"name\": \"\", \"parents\": [\"2001\", \"2006\", \"2011\", \"2016\", \"2001\", \"2006\", \"2011\", \"2016\", \"2001\", \"2006\", \"2011\", \"2016\", \"2001\", \"2006\", \"2011\", \"2016\", \"2001\", \"2006\", \"2011\", \"2016\", \"2001\", \"2006\", \"2011\", \"2016\", \"2001\", \"2006\", \"2011\", \"2016\", \"2001\", \"2006\", \"2011\", \"2016\", \"2001\", \"2006\", \"2011\", \"2016\", \"2001\", \"2006\", \"2011\", \"2016\", \"\", \"\", \"\", \"\"], \"type\": \"sunburst\", \"values\": [565304, 826963, 1034387, 1295007, 927466, 1356757, 1697067, 2124653, 596077, 871981, 1090696, 1365503, 517466, 756983, 946854, 1185419, 726664, 1063011, 1329642, 1664653, 512334, 749476, 937464, 1173663, 664712, 972384, 1216283, 1522732, 664476, 972039, 1215852, 1522193, 607040, 888017, 1110755, 1390616, 494098, 722799, 904096, 1131888, 6275637, 9180410, 11483096, 14376327]}],\n",
       "                        {\"coloraxis\": {\"colorbar\": {\"title\": {\"text\": \"shelter_costs_ownedadditional_col_for_hover\"}}, \"colorscale\": [[0.0, \"rgb(247,251,255)\"], [0.125, \"rgb(222,235,247)\"], [0.25, \"rgb(198,219,239)\"], [0.375, \"rgb(158,202,225)\"], [0.5, \"rgb(107,174,214)\"], [0.625, \"rgb(66,146,198)\"], [0.75, \"rgb(33,113,181)\"], [0.875, \"rgb(8,81,156)\"], [1.0, \"rgb(8,48,107)\"]]}, \"legend\": {\"tracegroupgap\": 0}, \"template\": {\"data\": {\"bar\": [{\"error_x\": {\"color\": \"#2a3f5f\"}, \"error_y\": {\"color\": \"#2a3f5f\"}, \"marker\": {\"line\": {\"color\": \"#E5ECF6\", \"width\": 0.5}}, \"type\": \"bar\"}], \"barpolar\": [{\"marker\": {\"line\": {\"color\": \"#E5ECF6\", \"width\": 0.5}}, \"type\": \"barpolar\"}], \"carpet\": [{\"aaxis\": {\"endlinecolor\": \"#2a3f5f\", \"gridcolor\": \"white\", \"linecolor\": \"white\", \"minorgridcolor\": \"white\", \"startlinecolor\": \"#2a3f5f\"}, \"baxis\": {\"endlinecolor\": \"#2a3f5f\", \"gridcolor\": \"white\", \"linecolor\": \"white\", \"minorgridcolor\": \"white\", \"startlinecolor\": \"#2a3f5f\"}, \"type\": \"carpet\"}], \"choropleth\": [{\"colorbar\": {\"outlinewidth\": 0, \"ticks\": \"\"}, \"type\": \"choropleth\"}], \"contour\": [{\"colorbar\": {\"outlinewidth\": 0, \"ticks\": \"\"}, \"colorscale\": [[0.0, \"#0d0887\"], [0.1111111111111111, \"#46039f\"], [0.2222222222222222, \"#7201a8\"], [0.3333333333333333, \"#9c179e\"], [0.4444444444444444, \"#bd3786\"], [0.5555555555555556, \"#d8576b\"], [0.6666666666666666, \"#ed7953\"], [0.7777777777777778, \"#fb9f3a\"], [0.8888888888888888, \"#fdca26\"], [1.0, \"#f0f921\"]], \"type\": \"contour\"}], \"contourcarpet\": [{\"colorbar\": {\"outlinewidth\": 0, \"ticks\": \"\"}, \"type\": \"contourcarpet\"}], \"heatmap\": [{\"colorbar\": {\"outlinewidth\": 0, \"ticks\": \"\"}, \"colorscale\": [[0.0, \"#0d0887\"], [0.1111111111111111, \"#46039f\"], [0.2222222222222222, \"#7201a8\"], [0.3333333333333333, \"#9c179e\"], [0.4444444444444444, \"#bd3786\"], [0.5555555555555556, \"#d8576b\"], [0.6666666666666666, \"#ed7953\"], [0.7777777777777778, \"#fb9f3a\"], [0.8888888888888888, \"#fdca26\"], [1.0, \"#f0f921\"]], \"type\": \"heatmap\"}], \"heatmapgl\": [{\"colorbar\": {\"outlinewidth\": 0, \"ticks\": \"\"}, \"colorscale\": [[0.0, \"#0d0887\"], [0.1111111111111111, \"#46039f\"], [0.2222222222222222, \"#7201a8\"], [0.3333333333333333, \"#9c179e\"], [0.4444444444444444, \"#bd3786\"], [0.5555555555555556, \"#d8576b\"], [0.6666666666666666, \"#ed7953\"], [0.7777777777777778, \"#fb9f3a\"], [0.8888888888888888, \"#fdca26\"], [1.0, \"#f0f921\"]], \"type\": \"heatmapgl\"}], \"histogram\": [{\"marker\": {\"colorbar\": {\"outlinewidth\": 0, \"ticks\": \"\"}}, \"type\": \"histogram\"}], \"histogram2d\": [{\"colorbar\": {\"outlinewidth\": 0, \"ticks\": \"\"}, \"colorscale\": [[0.0, \"#0d0887\"], [0.1111111111111111, \"#46039f\"], [0.2222222222222222, \"#7201a8\"], [0.3333333333333333, \"#9c179e\"], [0.4444444444444444, \"#bd3786\"], [0.5555555555555556, \"#d8576b\"], [0.6666666666666666, \"#ed7953\"], [0.7777777777777778, \"#fb9f3a\"], [0.8888888888888888, \"#fdca26\"], [1.0, \"#f0f921\"]], \"type\": \"histogram2d\"}], \"histogram2dcontour\": [{\"colorbar\": {\"outlinewidth\": 0, \"ticks\": \"\"}, \"colorscale\": [[0.0, \"#0d0887\"], [0.1111111111111111, \"#46039f\"], [0.2222222222222222, \"#7201a8\"], [0.3333333333333333, \"#9c179e\"], [0.4444444444444444, \"#bd3786\"], [0.5555555555555556, \"#d8576b\"], [0.6666666666666666, \"#ed7953\"], [0.7777777777777778, \"#fb9f3a\"], [0.8888888888888888, \"#fdca26\"], [1.0, \"#f0f921\"]], \"type\": \"histogram2dcontour\"}], \"mesh3d\": [{\"colorbar\": {\"outlinewidth\": 0, \"ticks\": \"\"}, \"type\": \"mesh3d\"}], \"parcoords\": [{\"line\": {\"colorbar\": {\"outlinewidth\": 0, \"ticks\": \"\"}}, \"type\": \"parcoords\"}], \"pie\": [{\"automargin\": true, \"type\": \"pie\"}], \"scatter\": [{\"marker\": {\"colorbar\": {\"outlinewidth\": 0, \"ticks\": \"\"}}, \"type\": \"scatter\"}], \"scatter3d\": [{\"line\": {\"colorbar\": {\"outlinewidth\": 0, \"ticks\": \"\"}}, \"marker\": {\"colorbar\": {\"outlinewidth\": 0, \"ticks\": \"\"}}, \"type\": \"scatter3d\"}], \"scattercarpet\": [{\"marker\": {\"colorbar\": {\"outlinewidth\": 0, \"ticks\": \"\"}}, \"type\": \"scattercarpet\"}], \"scattergeo\": [{\"marker\": {\"colorbar\": {\"outlinewidth\": 0, \"ticks\": \"\"}}, \"type\": \"scattergeo\"}], \"scattergl\": [{\"marker\": {\"colorbar\": {\"outlinewidth\": 0, \"ticks\": \"\"}}, \"type\": \"scattergl\"}], \"scattermapbox\": [{\"marker\": {\"colorbar\": {\"outlinewidth\": 0, \"ticks\": \"\"}}, \"type\": \"scattermapbox\"}], \"scatterpolar\": [{\"marker\": {\"colorbar\": {\"outlinewidth\": 0, \"ticks\": \"\"}}, \"type\": \"scatterpolar\"}], \"scatterpolargl\": [{\"marker\": {\"colorbar\": {\"outlinewidth\": 0, \"ticks\": \"\"}}, \"type\": \"scatterpolargl\"}], \"scatterternary\": [{\"marker\": {\"colorbar\": {\"outlinewidth\": 0, \"ticks\": \"\"}}, \"type\": \"scatterternary\"}], \"surface\": [{\"colorbar\": {\"outlinewidth\": 0, \"ticks\": \"\"}, \"colorscale\": [[0.0, \"#0d0887\"], [0.1111111111111111, \"#46039f\"], [0.2222222222222222, \"#7201a8\"], [0.3333333333333333, \"#9c179e\"], [0.4444444444444444, \"#bd3786\"], [0.5555555555555556, \"#d8576b\"], [0.6666666666666666, \"#ed7953\"], [0.7777777777777778, \"#fb9f3a\"], [0.8888888888888888, \"#fdca26\"], [1.0, \"#f0f921\"]], \"type\": \"surface\"}], \"table\": [{\"cells\": {\"fill\": {\"color\": \"#EBF0F8\"}, \"line\": {\"color\": \"white\"}}, \"header\": {\"fill\": {\"color\": \"#C8D4E3\"}, \"line\": {\"color\": \"white\"}}, \"type\": \"table\"}]}, \"layout\": {\"annotationdefaults\": {\"arrowcolor\": \"#2a3f5f\", \"arrowhead\": 0, \"arrowwidth\": 1}, \"coloraxis\": {\"colorbar\": {\"outlinewidth\": 0, \"ticks\": \"\"}}, \"colorscale\": {\"diverging\": [[0, \"#8e0152\"], [0.1, \"#c51b7d\"], [0.2, \"#de77ae\"], [0.3, \"#f1b6da\"], [0.4, \"#fde0ef\"], [0.5, \"#f7f7f7\"], [0.6, \"#e6f5d0\"], [0.7, \"#b8e186\"], [0.8, \"#7fbc41\"], [0.9, \"#4d9221\"], [1, \"#276419\"]], \"sequential\": [[0.0, \"#0d0887\"], [0.1111111111111111, \"#46039f\"], [0.2222222222222222, \"#7201a8\"], [0.3333333333333333, \"#9c179e\"], [0.4444444444444444, \"#bd3786\"], [0.5555555555555556, \"#d8576b\"], [0.6666666666666666, \"#ed7953\"], [0.7777777777777778, \"#fb9f3a\"], [0.8888888888888888, \"#fdca26\"], [1.0, \"#f0f921\"]], \"sequentialminus\": [[0.0, \"#0d0887\"], [0.1111111111111111, \"#46039f\"], [0.2222222222222222, \"#7201a8\"], [0.3333333333333333, \"#9c179e\"], [0.4444444444444444, \"#bd3786\"], [0.5555555555555556, \"#d8576b\"], [0.6666666666666666, \"#ed7953\"], [0.7777777777777778, \"#fb9f3a\"], [0.8888888888888888, \"#fdca26\"], [1.0, \"#f0f921\"]]}, \"colorway\": [\"#636efa\", \"#EF553B\", \"#00cc96\", \"#ab63fa\", \"#FFA15A\", \"#19d3f3\", \"#FF6692\", \"#B6E880\", \"#FF97FF\", \"#FECB52\"], \"font\": {\"color\": \"#2a3f5f\"}, \"geo\": {\"bgcolor\": \"white\", \"lakecolor\": \"white\", \"landcolor\": \"#E5ECF6\", \"showlakes\": true, \"showland\": true, \"subunitcolor\": \"white\"}, \"hoverlabel\": {\"align\": \"left\"}, \"hovermode\": \"closest\", \"mapbox\": {\"style\": \"light\"}, \"paper_bgcolor\": \"white\", \"plot_bgcolor\": \"#E5ECF6\", \"polar\": {\"angularaxis\": {\"gridcolor\": \"white\", \"linecolor\": \"white\", \"ticks\": \"\"}, \"bgcolor\": \"#E5ECF6\", \"radialaxis\": {\"gridcolor\": \"white\", \"linecolor\": \"white\", \"ticks\": \"\"}}, \"scene\": {\"xaxis\": {\"backgroundcolor\": \"#E5ECF6\", \"gridcolor\": \"white\", \"gridwidth\": 2, \"linecolor\": \"white\", \"showbackground\": true, \"ticks\": \"\", \"zerolinecolor\": \"white\"}, \"yaxis\": {\"backgroundcolor\": \"#E5ECF6\", \"gridcolor\": \"white\", \"gridwidth\": 2, \"linecolor\": \"white\", \"showbackground\": true, \"ticks\": \"\", \"zerolinecolor\": \"white\"}, \"zaxis\": {\"backgroundcolor\": \"#E5ECF6\", \"gridcolor\": \"white\", \"gridwidth\": 2, \"linecolor\": \"white\", \"showbackground\": true, \"ticks\": \"\", \"zerolinecolor\": \"white\"}}, \"shapedefaults\": {\"line\": {\"color\": \"#2a3f5f\"}}, \"ternary\": {\"aaxis\": {\"gridcolor\": \"white\", \"linecolor\": \"white\", \"ticks\": \"\"}, \"baxis\": {\"gridcolor\": \"white\", \"linecolor\": \"white\", \"ticks\": \"\"}, \"bgcolor\": \"#E5ECF6\", \"caxis\": {\"gridcolor\": \"white\", \"linecolor\": \"white\", \"ticks\": \"\"}}, \"title\": {\"x\": 0.05}, \"xaxis\": {\"automargin\": true, \"gridcolor\": \"white\", \"linecolor\": \"white\", \"ticks\": \"\", \"title\": {\"standoff\": 15}, \"zerolinecolor\": \"white\", \"zerolinewidth\": 2}, \"yaxis\": {\"automargin\": true, \"gridcolor\": \"white\", \"linecolor\": \"white\", \"ticks\": \"\", \"title\": {\"standoff\": 15}, \"zerolinecolor\": \"white\", \"zerolinewidth\": 2}}}, \"title\": {\"text\": \"Costs Analysis of Most Expensive Neighbourhoods in Toronto per Year\"}},\n",
       "                        {\"responsive\": true}\n",
       "                    ).then(function(){\n",
       "                            \n",
       "var gd = document.getElementById('c48d3a98-b006-44bf-84cc-dc0791db0b27');\n",
       "var x = new MutationObserver(function (mutations, observer) {{\n",
       "        var display = window.getComputedStyle(gd).display;\n",
       "        if (!display || display === 'none') {{\n",
       "            console.log([gd, 'removed!']);\n",
       "            Plotly.purge(gd);\n",
       "            observer.disconnect();\n",
       "        }}\n",
       "}});\n",
       "\n",
       "// Listen for the removal of the full notebook cells\n",
       "var notebookContainer = gd.closest('#notebook-container');\n",
       "if (notebookContainer) {{\n",
       "    x.observe(notebookContainer, {childList: true});\n",
       "}}\n",
       "\n",
       "// Listen for the clearing of the current output cell\n",
       "var outputEl = gd.closest('.output');\n",
       "if (outputEl) {{\n",
       "    x.observe(outputEl, {childList: true});\n",
       "}}\n",
       "\n",
       "                        })\n",
       "                };\n",
       "                });\n",
       "            </script>\n",
       "        </div>"
      ]
     },
     "metadata": {},
     "output_type": "display_data"
    }
   ],
   "source": [
    "# Create the sunburst chart\n",
    "# YOUR CODE HERE!"
   ]
  }
 ],
 "metadata": {
  "file_extension": ".py",
  "kernelspec": {
   "display_name": "Python [conda env:pyvizenv] *",
   "language": "python",
   "name": "conda-env-pyvizenv-py"
  },
  "language_info": {
   "codemirror_mode": {
    "name": "ipython",
    "version": 3
   },
   "file_extension": ".py",
   "mimetype": "text/x-python",
   "name": "python",
   "nbconvert_exporter": "python",
   "pygments_lexer": "ipython3",
   "version": "3.7.9"
  },
  "mimetype": "text/x-python",
  "name": "python",
  "npconvert_exporter": "python",
  "pygments_lexer": "ipython3",
  "version": 3
 },
 "nbformat": 4,
 "nbformat_minor": 4
}
