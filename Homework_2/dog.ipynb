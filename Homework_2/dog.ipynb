{
 "cells": [
  {
   "cell_type": "code",
   "execution_count": 1,
   "metadata": {},
   "outputs": [
    {
     "name": "stdout",
     "output_type": "stream",
     "text": [
      "86\n",
      "38382578\n"
     ]
    }
   ],
   "source": [
    "## PyBank Set Up\n",
    "from pathlib import Path\n",
    "import csv\n",
    "csvpath = Path(r'..\\Case_Study_1\\Homework_2budget_data.csv')\n",
    "csvfile = open(csvpath, 'r')\n",
    "csvreader = csv.reader(csvfile, delimiter=',')\n",
    "csv_header = next(csvreader)\n",
    "\n",
    "#count\n",
    "c = 0\n",
    "pl_sum = 0\n",
    "for row in csvreader:\n",
    "    c += 1\n",
    "    pl_sum = pl_sum + int(row[1])  \n",
    "print(c)\n",
    "print(pl_sum)\n",
    "     "
   ]
  },
  {
   "cell_type": "code",
   "execution_count": 2,
   "metadata": {},
   "outputs": [],
   "source": [
    "with open(csvpath, newline='') as f:\n",
    "    reader = csv.reader(f)\n",
    "    data = list(reader)"
   ]
  },
  {
   "cell_type": "code",
   "execution_count": null,
   "metadata": {},
   "outputs": [
    {
     "name": "stdout",
     "output_type": "stream",
     "text": [
      "FINANCIAL ANALYSIS\n",
      "Total Months: 86\n",
      "Total: $38382578\n",
      "Average  Change: $-2315.1176470588234\n",
      "Greatest Increase in Profits: Feb-2012 ($1926159)\n",
      "Greatest Decrease in Profits:: Sep-2013 ($-2196167)\n"
     ]
    }
   ],
   "source": [
    "change_sum = 0\n",
    "min_change = [int(data[1][1]), '']\n",
    "max_change = [int(data[1][1]), '']\n",
    "for i in range(2, 87):\n",
    "    change = int(data[i][1]) - int(data[i - 1][1])\n",
    "    change_sum = change_sum + change\n",
    "    \n",
    "    if change < min_change[0]:\n",
    "        min_change[0] = change\n",
    "        min_change[1] = data[i][0]\n",
    "        \n",
    "    if change > max_change[0]:\n",
    "        max_change[0] = change\n",
    "        max_change[1] = data[i][0]\n",
    "ave_change = change_sum / 85\n",
    "\n",
    "print(f\"FINANCIAL ANALYSIS\")\n",
    "print(f\"Total Months: {c}\")\n",
    "print(f\"Total: ${pl_sum}\")\n",
    "print(f\"Average  Change: ${ave_change}\")\n",
    "print(f\"Greatest Increase in Profits: {max_change[1]} (${max_change[0]})\")\n",
    "print(f\"Greatest Decrease in Profits:: {min_change[1]} (${min_change[0]})\")\n",
    "\n",
    "import sys\n",
    "f = open(\"Financial Analysis\", 'w')\n",
    "sys.stdout = f\n",
    "print(f\"FINANCIAL ANALYSIS\")\n",
    "print(f\"Total Months: {c}\")\n",
    "print(f\"Total: ${pl_sum}\")\n",
    "print(f\"Average  Change: ${ave_change}\")\n",
    "print(f\"Greatest Increase in Profits: {max_change[1]} (${max_change[0]})\")\n",
    "print(f\"Greatest Decrease in Profits:: {min_change[1]} (${min_change[0]})\")\n",
    "f.close()\n",
    "\n"
   ]
  },
  {
   "cell_type": "code",
   "execution_count": null,
   "metadata": {},
   "outputs": [],
   "source": []
  },
  {
   "cell_type": "code",
   "execution_count": null,
   "metadata": {},
   "outputs": [],
   "source": []
  }
 ],
 "metadata": {
  "kernelspec": {
   "display_name": "Python 3",
   "language": "python",
   "name": "python3"
  },
  "language_info": {
   "codemirror_mode": {
    "name": "ipython",
    "version": 3
   },
   "file_extension": ".py",
   "mimetype": "text/x-python",
   "name": "python",
   "nbconvert_exporter": "python",
   "pygments_lexer": "ipython3",
   "version": "3.8.3"
  }
 },
 "nbformat": 4,
 "nbformat_minor": 4
}
